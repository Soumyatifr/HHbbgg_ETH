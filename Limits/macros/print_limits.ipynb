{
 "cells": [
  {
   "cell_type": "code",
   "execution_count": 18,
   "metadata": {
    "collapsed": true
   },
   "outputs": [],
   "source": [
    "path='/mnt/t3nfs01/data01/shome/nchernya/HHbbgg_ETH_devel/Limits/macros/wk_20180712_data_opt2/Limits'"
   ]
  },
  {
   "cell_type": "code",
   "execution_count": 27,
   "metadata": {
    "collapsed": true
   },
   "outputs": [],
   "source": [
    "import glob\n",
    "name='wk_20180712_data_opt2'"
   ]
  },
  {
   "cell_type": "code",
   "execution_count": 28,
   "metadata": {
    "collapsed": false
   },
   "outputs": [],
   "source": [
    "files=[]\n",
    "for i in range(1,15):\n",
    "    if i==1 : files.append('%s/lim_%s.txt'%(path,name))\n",
    "    else : files.append('%s/lim_%s_node_%d.txt'%(path,name,i))"
   ]
  },
  {
   "cell_type": "code",
   "execution_count": null,
   "metadata": {
    "collapsed": false
   },
   "outputs": [],
   "source": []
  },
  {
   "cell_type": "code",
   "execution_count": 29,
   "metadata": {
    "collapsed": false
   },
   "outputs": [],
   "source": [
    "limit=[]\n",
    "for fin in files:\n",
    "    limit.append(float(open(fin).readlines()[0]))"
   ]
  },
  {
   "cell_type": "code",
   "execution_count": 30,
   "metadata": {
    "collapsed": false
   },
   "outputs": [
    {
     "name": "stdout",
     "output_type": "stream",
     "text": [
      "[1.2305, 1.2539, 0.9023, 1.293, 1.9453, 1.1133, 1.1133, 2.7109, 2.0078, 1.6797, 0.9961, 0.7656, 0.6895, 1.4883]\n"
     ]
    }
   ],
   "source": [
    "print limit"
   ]
  },
  {
   "cell_type": "code",
   "execution_count": 31,
   "metadata": {
    "collapsed": true
   },
   "outputs": [],
   "source": [
    "nodes =['SM', '2', '3', '4', '5', '6', '7', '8', '9', '10', '11', '12', '13','box']"
   ]
  },
  {
   "cell_type": "code",
   "execution_count": 32,
   "metadata": {
    "collapsed": false
   },
   "outputs": [
    {
     "name": "stdout",
     "output_type": "stream",
     "text": [
      "['SM', '2', '3', '4', '5', '6', '7', '8', '9', '10', '11', '12', '13', 'box']\n",
      "[1.2305, 1.2539, 0.9023, 1.293, 1.9453, 1.1133, 1.1133, 2.7109, 2.0078, 1.6797, 0.9961, 0.7656, 0.6895, 1.4883]\n"
     ]
    }
   ],
   "source": [
    "print nodes\n",
    "print limit"
   ]
  },
  {
   "cell_type": "code",
   "execution_count": null,
   "metadata": {
    "collapsed": true
   },
   "outputs": [],
   "source": []
  }
 ],
 "metadata": {
  "anaconda-cloud": {},
  "kernelspec": {
   "display_name": "Python [conda root]",
   "language": "python",
   "name": "conda-root-py"
  },
  "language_info": {
   "codemirror_mode": {
    "name": "ipython",
    "version": 2
   },
   "file_extension": ".py",
   "mimetype": "text/x-python",
   "name": "python",
   "nbconvert_exporter": "python",
   "pygments_lexer": "ipython2",
   "version": "2.7.12"
  }
 },
 "nbformat": 4,
 "nbformat_minor": 1
}
