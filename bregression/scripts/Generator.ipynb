{
 "cells": [
  {
   "cell_type": "code",
   "execution_count": null,
   "metadata": {
    "collapsed": true
   },
   "outputs": [],
   "source": [
    "class Generator:\n",
    "    \n",
    "    def __init__(self,dfs,batch_size,features,target,mean,std):\n",
    "        self.dfs = dfs\n",
    "        self.features = features\n",
    "        self.target = target\n",
    "        self.mean = mean\n",
    "        self.std = std\n",
    "        self.batch_size = batch_size\n",
    "        self.steps = sum([ (df[self.target].shape[0] // self.batch_size)+\n",
    "                          (1 if df[self.target].shape[0] % self.batch_size > 0 else  0) for df in dfs] )\n",
    "        \n",
    "    def __call__(self, batch_size):\n",
    "        \n",
    "    #  while 1:\n",
    "        shuffle(self.dfs)\n",
    "        for df in self.dfs:\n",
    "         #   idx = np.shuffle()\n",
    "            \n",
    "            X_file = df[self.features]\n",
    "            y_file = df[self.target]\n",
    "            y_file -=self.mean\n",
    "            y_file /=self.std\n",
    "\n",
    "            nb = X_file.shape[0] // batch_size\n",
    "            last_batch = X_file.shape[0] % batch_size\n",
    "\n",
    "            for ib in range(nb):\n",
    "                yield X_file[ib*batch_size:(ib+1)*batch_size], y_file[ib*batch_size:(ib+1)*batch_size]\n",
    "            if last_batch > 0:\n",
    "                yield X_file[-last_batch:], y_file[-last_batch:]\n",
    "        raise StopIteration\n",
    "        "
   ]
  },
  {
   "cell_type": "code",
   "execution_count": null,
   "metadata": {
    "collapsed": true
   },
   "outputs": [],
   "source": [
    "import numpy as np\n",
    "import pandas as pd"
   ]
  },
  {
   "cell_type": "code",
   "execution_count": null,
   "metadata": {
    "collapsed": false
   },
   "outputs": [],
   "source": [
    "dfs = []\n",
    "for i in range(4):\n",
    "    x1 = np.random.uniform(size=1*(i+1))\n",
    "    x2 = np.random.uniform(size=1*(i+1))\n",
    "    y = np.random.uniform(size=1*(i+1))\n",
    "    \n",
    "    df = pd.DataFrame({\"x1\" : x1, \"x2\" : x2, \"y\" : y})\n",
    "    \n",
    "    dfs.append(df)"
   ]
  },
  {
   "cell_type": "code",
   "execution_count": null,
   "metadata": {
    "collapsed": false
   },
   "outputs": [],
   "source": [
    "mygen = Generator(dfs,32,[\"x1\",\"x2\"],'y',0,1.)\n",
    "print(mygen)\n",
    "print(mygen.steps)\n",
    "print(mygen.dfs)"
   ]
  },
  {
   "cell_type": "code",
   "execution_count": null,
   "metadata": {
    "collapsed": false
   },
   "outputs": [],
   "source": [
    "itr = mygen(32)\n",
    "print(itr)\n",
    "itr.next()[1]"
   ]
  },
  {
   "cell_type": "code",
   "execution_count": null,
   "metadata": {
    "collapsed": false
   },
   "outputs": [],
   "source": [
    "for b in itr:\n",
    "    print(b[0].shape,b[1].shape)\n",
    "   # print(b[0],b[1])"
   ]
  },
  {
   "cell_type": "code",
   "execution_count": null,
   "metadata": {
    "collapsed": false
   },
   "outputs": [],
   "source": [
    "print(mygen.dfs)\n",
    "itr = mygen(32)\n",
    "for b in itr:\n",
    "    aaa=1\n",
    "print('---'*100)\n",
    "print(mygen.dfs)\n",
    "itr = mygen(32)\n",
    "for b in itr:\n",
    "    aaa=1\n",
    "print('---'*100)\n",
    "print(mygen.dfs)\n"
   ]
  },
  {
   "cell_type": "code",
   "execution_count": null,
   "metadata": {
    "collapsed": false
   },
   "outputs": [],
   "source": [
    "a = 1 if 5%2 > 0 else  0\n",
    "print a"
   ]
  },
  {
   "cell_type": "code",
   "execution_count": null,
   "metadata": {
    "collapsed": false
   },
   "outputs": [],
   "source": [
    "import matplotlib.pyplot as plt"
   ]
  },
  {
   "cell_type": "code",
   "execution_count": null,
   "metadata": {
    "collapsed": true
   },
   "outputs": [],
   "source": []
  },
  {
   "cell_type": "code",
   "execution_count": null,
   "metadata": {
    "collapsed": false
   },
   "outputs": [],
   "source": [
    "data = pd.read_hdf(\"/scratch/nchernya/HHbbgg/ttbar_full_hd5/ttbar_full_jobs_RegressionPerJet_heppy_energyRings_forTraining_con120130_full.hd5\",colums=None)\n",
    "data['Jet_pt']  = data['Jet_pt']/data['Jet_corr_JER']\n",
    "data['Jet_mcPt_Jet_pt'] = data['Jet_mcPt']/data['Jet_pt']\n",
    "print data.shape\n",
    "#data=data.query('Jet_mcPt_Jet_pt < 10')\n",
    "#print data.shape\n",
    "y = data['Jet_mcPt_Jet_pt'] \n",
    "y_mean,y_std = 1.04542 , 0.316785\n",
    "y-=y_mean\n",
    "y/=y_std\n",
    "#print(y)\n",
    "n, bins, patches = plt.hist(y, 50,  facecolor='g', alpha=0.75)\n",
    "plt.show()\n",
    "plt.clf()"
   ]
  },
  {
   "cell_type": "code",
   "execution_count": null,
   "metadata": {
    "collapsed": false
   },
   "outputs": [],
   "source": [
    "data = pd.read_hdf(\"/scratch/nchernya/HHbbgg/ttbar_full_hd5/ttbar_full_jobs_RegressionPerJet_heppy_energyRings_forTraining_con2040_full.hd5\",colums=None)"
   ]
  },
  {
   "cell_type": "code",
   "execution_count": null,
   "metadata": {
    "collapsed": false
   },
   "outputs": [],
   "source": [
    "data.head()"
   ]
  },
  {
   "cell_type": "code",
   "execution_count": null,
   "metadata": {
    "collapsed": false
   },
   "outputs": [],
   "source": [
    "from numpy.random import shuffle\n",
    "\n",
    "df = data.sample(frac=1)\n",
    "df.head()"
   ]
  },
  {
   "cell_type": "code",
   "execution_count": null,
   "metadata": {
    "collapsed": false
   },
   "outputs": [],
   "source": [
    "datab[['Jet_pt','Jet_mcPt','Jet_corr_JER','Jet_corr_JEC','Jet_rawPtAfterSmearing','Jet_e','Jet_rawEnergy']]"
   ]
  },
  {
   "cell_type": "code",
   "execution_count": null,
   "metadata": {
    "collapsed": true
   },
   "outputs": [],
   "source": []
  },
  {
   "cell_type": "code",
   "execution_count": null,
   "metadata": {
    "collapsed": false
   },
   "outputs": [],
   "source": [
    "datab.head()"
   ]
  },
  {
   "cell_type": "code",
   "execution_count": null,
   "metadata": {
    "collapsed": false
   },
   "outputs": [],
   "source": [
    "from numpy.random import shuffle\n",
    "\n",
    "idx = datab.index.values\n",
    "df = datab.sample(frac=1)\n",
    "df.head()"
   ]
  },
  {
   "cell_type": "code",
   "execution_count": null,
   "metadata": {
    "collapsed": false
   },
   "outputs": [],
   "source": [
    "data=data.query('Jet_mcPt_Jet_pt < 10')\n",
    "print(data.shape)\n",
    "y = data['Jet_mcPt_Jet_pt'] \n",
    "n, bins, patches = plt.hist(y, 50,  facecolor='g', alpha=0.75)\n",
    "plt.show()\n",
    "plt.clf()"
   ]
  },
  {
   "cell_type": "code",
   "execution_count": null,
   "metadata": {
    "collapsed": false
   },
   "outputs": [],
   "source": [
    "y_mean,y_std = 1.04542 , 0.316785\n",
    "y-=y_mean\n",
    "y/=y_std\n",
    "n, bins, patches = plt.hist(y, 50,  facecolor='g', alpha=0.75)\n",
    "plt.show()\n",
    "plt.clf()"
   ]
  },
  {
   "cell_type": "code",
   "execution_count": null,
   "metadata": {
    "collapsed": false
   },
   "outputs": [],
   "source": [
    "y_sum=0\n",
    "data = pd.DataFrame({'a':[1,2,3]})\n",
    "data.head\n",
    "y_sum = data['a'].sum()\n",
    "y_sum2 = (np.square(data['a'])).sum()"
   ]
  },
  {
   "cell_type": "code",
   "execution_count": null,
   "metadata": {
    "collapsed": false
   },
   "outputs": [],
   "source": [
    "print(y_sum)\n",
    "print(y_sum2)"
   ]
  },
  {
   "cell_type": "code",
   "execution_count": null,
   "metadata": {
    "collapsed": false
   },
   "outputs": [],
   "source": [
    "a = np.array(data['a'])"
   ]
  },
  {
   "cell_type": "code",
   "execution_count": null,
   "metadata": {
    "collapsed": false
   },
   "outputs": [],
   "source": [
    "print(a)"
   ]
  },
  {
   "cell_type": "code",
   "execution_count": null,
   "metadata": {
    "collapsed": false
   },
   "outputs": [],
   "source": [
    "type(a)\n"
   ]
  },
  {
   "cell_type": "code",
   "execution_count": null,
   "metadata": {
    "collapsed": false
   },
   "outputs": [],
   "source": [
    "np.append(a,[3,4,5])"
   ]
  },
  {
   "cell_type": "code",
   "execution_count": null,
   "metadata": {
    "collapsed": false
   },
   "outputs": [],
   "source": []
  },
  {
   "cell_type": "code",
   "execution_count": null,
   "metadata": {
    "collapsed": false
   },
   "outputs": [],
   "source": [
    "b = None"
   ]
  },
  {
   "cell_type": "code",
   "execution_count": null,
   "metadata": {
    "collapsed": false
   },
   "outputs": [],
   "source": [
    "np.append(a,[3,4,5],b)"
   ]
  },
  {
   "cell_type": "code",
   "execution_count": null,
   "metadata": {
    "collapsed": false
   },
   "outputs": [],
   "source": [
    "np.append(a,[3,4,5],b)"
   ]
  },
  {
   "cell_type": "code",
   "execution_count": null,
   "metadata": {
    "collapsed": false
   },
   "outputs": [],
   "source": [
    "np.append([[1,2],[2,3],[3,5]])"
   ]
  },
  {
   "cell_type": "code",
   "execution_count": null,
   "metadata": {
    "collapsed": false
   },
   "outputs": [],
   "source": [
    "np.append([1, 2, 3], [[4, 5, 6], [7, 8, 9]])"
   ]
  },
  {
   "cell_type": "code",
   "execution_count": null,
   "metadata": {
    "collapsed": false
   },
   "outputs": [],
   "source": [
    "np.hstack(([np.array([5, 6]), np.array([7, 8, 9])]))"
   ]
  },
  {
   "cell_type": "code",
   "execution_count": null,
   "metadata": {
    "collapsed": false
   },
   "outputs": [],
   "source": [
    "7658908-7659089"
   ]
  },
  {
   "cell_type": "code",
   "execution_count": null,
   "metadata": {
    "collapsed": true
   },
   "outputs": [],
   "source": [
    "from random import shuffle"
   ]
  },
  {
   "cell_type": "code",
   "execution_count": null,
   "metadata": {
    "collapsed": true
   },
   "outputs": [],
   "source": [
    "a = [5,6,7,3]"
   ]
  },
  {
   "cell_type": "code",
   "execution_count": null,
   "metadata": {
    "collapsed": false
   },
   "outputs": [],
   "source": [
    "b = shuffle(a)\n",
    "print(a)"
   ]
  },
  {
   "cell_type": "code",
   "execution_count": null,
   "metadata": {
    "collapsed": true
   },
   "outputs": [],
   "source": []
  }
 ],
 "metadata": {
  "anaconda-cloud": {},
  "kernelspec": {
   "display_name": "Python [conda root]",
   "language": "python",
   "name": "conda-root-py"
  },
  "language_info": {
   "codemirror_mode": {
    "name": "ipython",
    "version": 2
   },
   "file_extension": ".py",
   "mimetype": "text/x-python",
   "name": "python",
   "nbconvert_exporter": "python",
   "pygments_lexer": "ipython2",
   "version": "2.7.12"
  }
 },
 "nbformat": 4,
 "nbformat_minor": 1
}
