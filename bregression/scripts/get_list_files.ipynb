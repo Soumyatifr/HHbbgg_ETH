{
 "cells": [
  {
   "cell_type": "markdown",
   "metadata": {},
   "source": [
    "## To find all files above 10kb use the following command\n",
    "\n",
    "find /pnfs/psi.ch/cms/trivcat//store/user/nchernya/HHbbgg/b_regression/ttbar_2017_nanoAOD_v3_newJEC/ -type f -size +10k  -exec ls -v {} \\; > worked_files.txt"
   ]
  },
  {
   "cell_type": "code",
   "execution_count": 1,
   "metadata": {
    "collapsed": true
   },
   "outputs": [],
   "source": [
    "path = '/mnt/t3nfs01/data01/shome/nchernya/HHbbgg_ETH_devel/submit_jobs/workedfile_legacy2016.txt'\n",
    "with open(path) as file:\n",
    "    lines = file.readlines()"
   ]
  },
  {
   "cell_type": "code",
   "execution_count": 5,
   "metadata": {
    "collapsed": false
   },
   "outputs": [],
   "source": [
    "name = 'TTbar_legacy2016_JECv11_RegressionPerJet_heppy_energyRings_forTraining_'\n",
    "worked = [ int(line[(line.find(name)+len(name)):line.find('_legacy_2ptds.root')]) for line in lines]"
   ]
  },
  {
   "cell_type": "code",
   "execution_count": 6,
   "metadata": {
    "collapsed": false
   },
   "outputs": [
    {
     "name": "stdout",
     "output_type": "stream",
     "text": [
      "94 , 18 , 2 , 55 , 16 , 40 , 97 , 35 , 37 , 98 , 7 , 31 , 51 , 45 , 8 , 65 , 41 , 56 , 83 , 89 , 69 , 99 , 88 , 79 , 21 , 12 , 17 , 3 , 30 , 32 , 26 , 27 , 70 , 73 , 13 , 92 , 59 , 93 , 64 , 100 , 22 , 46 , 50 , 78 , 84 , 54 , 60 , 20 , 36 , 11 , 75 , 74 , 149 , 124 , 129 , 142 , 114 , 147 , 148 , 109 , 138 , 115 , 120 , 144 , 106 , 133 , 104 , 110 , 152 , 153 , 101 , 125 , 105 , 134 , 119 , 128 , 139 , 143 , 123 , 25 , 113 , 44 , 132 , 63 , 151 , 118 , 82 , 49 , 137 , 68 , 87 , 1 , 6 , 10 , 15 , 103 , 34 , 122 , 53 , 141 , 108 , 72 , 39 , 127 , 91 , 58 , 146 , 77 , 96 , 24 , 112 , 43 , 131 , 62 , 150 , 29 , 117 , 81 , 48 , 136 , 67 , 155 , 86 , 5 , 14 , 102 , 33 , 121 , 52 , 140 , 19 , 107 , 71 , 38 , 126 , 90 , 57 , 145 , 76 , 95 , 23 , 111 , 42 , 130 , 61 , 28 , 116 , 80 , 47 , 135 , 66 , 154 , 85 , 4 , 9 ,\n"
     ]
    }
   ],
   "source": [
    "for item in worked:\n",
    "    print item,',',"
   ]
  },
  {
   "cell_type": "code",
   "execution_count": 7,
   "metadata": {
    "collapsed": false
   },
   "outputs": [
    {
     "name": "stdout",
     "output_type": "stream",
     "text": [
      "155\n"
     ]
    }
   ],
   "source": [
    "print len(worked)"
   ]
  },
  {
   "cell_type": "code",
   "execution_count": null,
   "metadata": {
    "collapsed": false
   },
   "outputs": [],
   "source": []
  },
  {
   "cell_type": "code",
   "execution_count": null,
   "metadata": {
    "collapsed": true
   },
   "outputs": [],
   "source": []
  }
 ],
 "metadata": {
  "anaconda-cloud": {},
  "kernelspec": {
   "display_name": "Python [conda root]",
   "language": "python",
   "name": "conda-root-py"
  },
  "language_info": {
   "codemirror_mode": {
    "name": "ipython",
    "version": 2
   },
   "file_extension": ".py",
   "mimetype": "text/x-python",
   "name": "python",
   "nbconvert_exporter": "python",
   "pygments_lexer": "ipython2",
   "version": "2.7.12"
  }
 },
 "nbformat": 4,
 "nbformat_minor": 1
}
