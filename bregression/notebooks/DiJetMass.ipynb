{
 "cells": [
  {
   "cell_type": "code",
   "execution_count": 1,
   "metadata": {
    "collapsed": true
   },
   "outputs": [],
   "source": [
    "import numpy as np\n",
    "from sklearn.model_selection import ParameterSampler\n",
    "import json\n",
    "from sklearn.model_selection import train_test_split\n",
    "import pandas as pd"
   ]
  },
  {
   "cell_type": "code",
   "execution_count": 2,
   "metadata": {
    "collapsed": true
   },
   "outputs": [],
   "source": [
    "df=pd.read_hdf('/scratch/snx3000/nchernya/bregression/output_root/applied_res_2018-03-29_ZHbbll_morevar.hd5',columns=None)"
   ]
  },
  {
   "cell_type": "code",
   "execution_count": null,
   "metadata": {
    "collapsed": true
   },
   "outputs": [],
   "source": []
  },
  {
   "cell_type": "code",
   "execution_count": 3,
   "metadata": {
    "collapsed": true
   },
   "outputs": [],
   "source": [
    "training = '2018-03-27_job23_rawJetsJECtarget_us_plus_pisa_final2016'"
   ]
  },
  {
   "cell_type": "code",
   "execution_count": 4,
   "metadata": {
    "collapsed": true
   },
   "outputs": [],
   "source": [
    "previous_event = df['event'][0]\n",
    "pts = [0,0,0,0,0,0,0]\n",
    "etas = [0,0,0,0,0,0,0]\n",
    "phis = [0,0,0,0,0,0,0]\n",
    "masss = [0,0,0,0,0,0,0]\n",
    "corrs = [0,0,0,0,0,0,0]\n",
    "ress = [0,0,0,0,0,0,0]\n",
    "jecs = [0,0,0,0,0,0,0]\n",
    "jers = [0,0,0,0,0,0,0]\n",
    "pts[0] = df['Jet_pt_raw'][0]*df['Jet_corr_JEC'][0]\n",
    "corrs[0] =   df['Jet_pt_reg_NN_%s'%training][0]\n",
    "ress[0] =   df['Jet_resolution_NN_%s'%training][0]\n",
    "etas[0] = df['Jet_phi'][0]\n",
    "phis[0] = df['Jet_eta'][0]\n",
    "masss[0] = df['Jet_mass'][0]*df['Jet_corr_JEC'][0] #mass is already raw\n",
    "jecs = df['Jet_corr_JEC'][0]\n",
    "jers = df['Jet_corr_JER'][0]\n",
    "final_pts = []\n",
    "final_etas = []\n",
    "final_masss = []\n",
    "final_phis = []\n",
    "final_corrs = []\n",
    "final_ress = []\n",
    "final_jecs = []\n",
    "final_jers = []\n",
    "max_idx = []\n",
    "\n",
    "\n",
    "idx =0\n",
    "for index in range(1,df.shape[0]-1):\n",
    "#for index in range(1,349144):\n",
    "    if ( df['event'][index]==previous_event ): \n",
    "        idx+=1\n",
    "        pts[idx] = df['Jet_pt_raw'][index]*df['Jet_corr_JEC'][index]\n",
    "        etas[idx] = df['Jet_eta'][index]\n",
    "        phis[idx] = df['Jet_phi'][index] \n",
    "        masss[idx] = df['Jet_mass'][index]*df['Jet_corr_JEC'][index]\n",
    "        corrs[idx] = df['Jet_pt_reg_NN_%s'%training][index]\n",
    "        ress[idx] = df['Jet_resolution_NN_%s'%training][index]\n",
    "        jecs[idx] =   df['Jet_corr_JEC'][index]\n",
    "        jers[idx] =   df['Jet_corr_JER'][index]\n",
    "\n",
    "    else : \n",
    "        final_pts.append(pts)\n",
    "        final_etas.append(etas)\n",
    "        final_phis.append(phis)\n",
    "        final_masss.append(masss)\n",
    "        final_corrs.append(corrs)\n",
    "        final_ress.append(ress)\n",
    "        final_jecs.append(jecs)\n",
    "        final_jers.append(jers)\n",
    "        max_idx.append(idx)\n",
    "        pts = [0,0,0,0,0,0,0]\n",
    "        etas = [0,0,0,0,0,0,0]\n",
    "        phis = [0,0,0,0,0,0,0]\n",
    "        masss = [0,0,0,0,0,0,0]\n",
    "        corrs = [0,0,0,0,0,0,0]\n",
    "        ress = [0,0,0,0,0,0,0]\n",
    "        jecs = [0,0,0,0,0,0,0]\n",
    "        jers = [0,0,0,0,0,0,0]\n",
    "        idx=0\n",
    "        pts[idx] = df['Jet_pt_raw'][index]*df['Jet_corr_JEC'][index]\n",
    "        etas[idx] = df['Jet_eta'][index]\n",
    "        phis[idx] = df['Jet_phi'][index] \n",
    "        masss[idx] = df['Jet_mass'][index]*df['Jet_corr_JEC'][index]\n",
    "        corrs[idx] = df['Jet_pt_reg_NN_%s'%training][index]\n",
    "        ress[idx] = df['Jet_resolution_NN_%s'%training][index]\n",
    "        jecs[idx] =   df['Jet_corr_JEC'][index]\n",
    "        jers[idx] =   df['Jet_corr_JER'][index]\n",
    "        previous_event = df['event'][index]\n",
    "        \n",
    "        "
   ]
  },
  {
   "cell_type": "code",
   "execution_count": null,
   "metadata": {
    "collapsed": true
   },
   "outputs": [],
   "source": [
    "print(np.array(max_idx).max())\n",
    "a = np.where( np.array(max_idx)> 2)\n",
    "print(len(np.array(max_idx)[a]))"
   ]
  },
  {
   "cell_type": "code",
   "execution_count": null,
   "metadata": {
    "collapsed": true
   },
   "outputs": [],
   "source": []
  },
  {
   "cell_type": "code",
   "execution_count": null,
   "metadata": {
    "collapsed": true
   },
   "outputs": [],
   "source": [
    "counter=0\n",
    "for i in range(0,len(final_pts)):\n",
    "    if final_pts[i][0]!=0 and final_pts[i][1]!=0 : counter+=1"
   ]
  },
  {
   "cell_type": "code",
   "execution_count": null,
   "metadata": {
    "collapsed": true
   },
   "outputs": [],
   "source": [
    "print(counter)"
   ]
  },
  {
   "cell_type": "code",
   "execution_count": 5,
   "metadata": {
    "collapsed": false
   },
   "outputs": [
    {
     "name": "stdout",
     "output_type": "stream",
     "text": [
      "Welcome to JupyROOT 6.10/02\n"
     ]
    }
   ],
   "source": [
    "import ROOT\n",
    "from ROOT import TFile, TH1F, TCanvas, gROOT, TLorentzVector,TH1,TH1F"
   ]
  },
  {
   "cell_type": "code",
   "execution_count": 6,
   "metadata": {
    "collapsed": true
   },
   "outputs": [],
   "source": [
    "data = pd.DataFrame({'Jet_pt': final_pts, 'Jet_mass': final_masss, 'Jet_phi' :final_phis,\n",
    "                    'Jet_eta' : final_etas, 'Jet_breg_NN_corr':final_corrs,\n",
    "                    'Jet_breg_NN_res':final_ress })\n"
   ]
  },
  {
   "cell_type": "code",
   "execution_count": 7,
   "metadata": {
    "collapsed": true,
    "scrolled": true
   },
   "outputs": [],
   "source": [
    "final_dijetM = []\n",
    "final_dijetM_reg = []\n",
    "final_dijetPt = []\n",
    "final_dijetPt_reg = []\n",
    "for index, row in data.iterrows():\n",
    "    dijetM = 0\n",
    "    dijetM_reg = 0\n",
    "    dijetPt = 0\n",
    "    dijetPt_reg = 0\n",
    "    if (row['Jet_pt'][0]>20 and row['Jet_pt'][1]>20 \n",
    "        and row['Jet_breg_NN_corr'][0] >0.5 and row['Jet_breg_NN_corr'][0] <2\n",
    "       and row['Jet_breg_NN_corr'][1] >0.5 and row['Jet_breg_NN_corr'][1] <2)  : \n",
    "        jet1, jet2 = TLorentzVector(),TLorentzVector()\n",
    "        jet1_reg, jet2_reg = TLorentzVector(),TLorentzVector()\n",
    "        jet1.SetPtEtaPhiM(row['Jet_pt'][0],row['Jet_eta'][0],row['Jet_phi'][0],row['Jet_mass'][0])\n",
    "        jet2.SetPtEtaPhiM(row['Jet_pt'][1],row['Jet_eta'][1],row['Jet_phi'][1],row['Jet_mass'][1])\n",
    "        jet1_reg.SetPtEtaPhiM(row['Jet_pt'][0]*row['Jet_breg_NN_corr'][0],row['Jet_eta'][0],row['Jet_phi'][0],row['Jet_mass'][0])\n",
    "        jet2_reg.SetPtEtaPhiM(row['Jet_pt'][1]*row['Jet_breg_NN_corr'][1],row['Jet_eta'][1],row['Jet_phi'][1],row['Jet_mass'][1])\n",
    "        dijetM = (jet1+jet2).M()\n",
    "        dijetM_reg = (jet1_reg+jet2_reg).M()\n",
    "        dijetPt = (jet1+jet2).Pt()\n",
    "        dijetPt_reg = (jet1_reg+jet2_reg).Pt()\n",
    "    final_dijetM.append(dijetM)\n",
    "    final_dijetM_reg.append(dijetM_reg)\n",
    "    final_dijetPt.append(dijetPt)\n",
    "    final_dijetPt_reg.append(dijetPt_reg)\n",
    "        "
   ]
  },
  {
   "cell_type": "code",
   "execution_count": 8,
   "metadata": {
    "collapsed": true
   },
   "outputs": [],
   "source": [
    "data['dijetM_reg'] = final_dijetM_reg\n",
    "data['dijetM'] = final_dijetM\n",
    "data['dijetPt_reg'] = final_dijetPt_reg\n",
    "data['dijetPt'] = final_dijetPt\n"
   ]
  },
  {
   "cell_type": "code",
   "execution_count": 9,
   "metadata": {
    "collapsed": false
   },
   "outputs": [
    {
     "name": "stderr",
     "output_type": "stream",
     "text": [
      "/users/musella/my-env/lib/python3.5/site-packages/pandas/core/generic.py:1282: PerformanceWarning: \n",
      "your performance may suffer as PyTables will pickle object types that it cannot\n",
      "map directly to c-types [inferred_type->mixed,key->block1_values] [items->['Jet_breg_NN_corr', 'Jet_breg_NN_res', 'Jet_eta', 'Jet_mass', 'Jet_phi', 'Jet_pt']]\n",
      "\n",
      "  return pytables.to_hdf(path_or_buf, key, self, **kwargs)\n"
     ]
    }
   ],
   "source": [
    "out_dir = '/scratch/snx3000/nchernya/bregression/output_root/'\n",
    "filename = 'ZHbll_dijetmass_pt_per_event'\n",
    "data.to_hdf(out_dir+filename+'.hd5'  ,'w')"
   ]
  },
  {
   "cell_type": "code",
   "execution_count": null,
   "metadata": {
    "collapsed": true
   },
   "outputs": [],
   "source": [
    "bins = np.linspace(50, 200, 100)\n",
    "n,bins,patches = plt.hist(data[data.dijetM > 0]['dijetM'],bins=bins,color='blue',alpha=0.5)\n",
    "n,bins,patches = plt.hist(data[data.dijetM_reg > 0]['dijetM_reg'],bins=bins,color='red',alpha=0.5)"
   ]
  },
  {
   "cell_type": "code",
   "execution_count": null,
   "metadata": {
    "collapsed": true
   },
   "outputs": [],
   "source": [
    "import sys\n",
    "sys.path.append(\"/users/nchernya/HHbbgg_ETH/bregression/python/\")\n",
    "import plotting_utils as plotting"
   ]
  },
  {
   "cell_type": "code",
   "execution_count": null,
   "metadata": {
    "collapsed": true
   },
   "outputs": [],
   "source": [
    "#plotting.fit_dijetmass(data[data.dijetM_reg > 0]['dijetM_reg'],data[data.dijetM > 0]['dijetM'])\n",
    "#plotting.plot_rel_pt_diff(data[data.dijetM_reg > 0]['dijetM_reg'],data[data.dijetM > 0]['dijetM'])\n",
    "gROOT.SetBatch(True)\n",
    "gROOT.ProcessLineSync(\".x ~/HHbbgg_ETH/scripts/setTDRStyle.C\")\n",
    "gROOT.ForceStyle()\n",
    "gStyle.SetPadTopMargin(0.06)\n",
    "gStyle.SetPadRightMargin(0.04)\n",
    "gStyle.SetPadLeftMargin(0.15)"
   ]
  },
  {
   "cell_type": "code",
   "execution_count": null,
   "metadata": {
    "collapsed": true
   },
   "outputs": [],
   "source": [
    "def fit_dijetmass(rel_diff_regressed,rel_diff,style=False,n_bins=100,outString=None):\n",
    "    if style==True:\n",
    "        gROOT.SetBatch(True)\n",
    "        gROOT.ProcessLineSync(\".x ~/HHbbgg_ETH/scripts/setTDRStyle.C\")\n",
    "        gROOT.ForceStyle()\n",
    "        gStyle.SetPadTopMargin(0.06)\n",
    "        gStyle.SetPadRightMargin(0.04)\n",
    "        gStyle.SetPadLeftMargin(0.15)\n",
    "\n",
    "    c_min = min(min(rel_diff_regressed),min(rel_diff))\n",
    "    c_max = max(max(rel_diff_regressed),max(rel_diff))\n",
    "    c_min=50.\n",
    "    c_max=200.\n",
    "\n",
    "    Histo_rel_diff = np.histogram(rel_diff,bins=n_bins,range=(c_min,c_max))\n",
    "    Histo_rel_diff_reg = np.histogram(rel_diff_regressed,bins=n_bins,range=(c_min,c_max))\n",
    "\n",
    "    h_rel_diff = TH1F(\"hrel_diff\", \"hrel_diff\", n_bins, c_min, c_max)\n",
    "    for i in range(len(rel_diff)):\n",
    "        h_rel_diff.Fill(rel_diff[i])\n",
    "    h_rel_diff_reg = TH1F(\"hrel_diff_reg\", \"hrel_diff_reg\", n_bins, c_min, c_max)\n",
    "    for i in range(len(rel_diff_regressed)):\n",
    "        h_rel_diff_reg.Fill(rel_diff_regressed[i])\n",
    "    h_rel_diff.SetLineColor(ROOT.kBlue)\n",
    "    h_rel_diff.SetMarkerColor(ROOT.kBlue)\n",
    "    h_rel_diff.SetLineWidth(2)\n",
    "    h_rel_diff_reg.SetLineColor(ROOT.kRed)\n",
    "    h_rel_diff_reg.SetMarkerColor(ROOT.kRed)\n",
    "    h_rel_diff_reg.SetLineWidth(2)\n",
    "\n",
    "\n",
    "\n",
    "    AllHistos= [Histo_rel_diff, Histo_rel_diff_reg]\n",
    "    h_max = max([histo[0].max() for histo in AllHistos])*1.2\n",
    "    h_min = min([histo[0].min() for histo in AllHistos])\n",
    "\n",
    "    c = ROOT.TCanvas(\"c\",\"c\",900,900)\n",
    "    c.cd()\n",
    "    frame = TH1F(\"hframe\", \"hframe\", n_bins, c_min, c_max)\n",
    "    frame.SetStats(0)\n",
    "    frame.GetXaxis().SetTitleOffset(0.91);\n",
    "    frame.GetYaxis().SetTitle(\"Events\")\n",
    "  #  frame.GetXaxis().SetTitle(\"(p_{T}^{Reco}-p_{T}^{gen})/p_{T}^{gen}\")\n",
    "    frame.GetXaxis().SetTitle(\"p_{T}^{gen}/p_{T}^{reco}\")\n",
    "    frame.GetYaxis().SetLabelSize(0.04)\n",
    "    frame.GetYaxis().SetRangeUser(h_min,h_max)\n",
    "\n",
    "    frame.Draw()\n",
    "    h_rel_diff.Draw(\"samePE\")\n",
    "    h_rel_diff_reg.Draw(\"samePE\")\n",
    "    print('Nominal : mean, RMS :',h_rel_diff.GetMean(), h_rel_diff.GetRMS())\n",
    "    print('Regresesd : mean, RMS : ',h_rel_diff_reg.GetMean(), h_rel_diff_reg.GetRMS())\n",
    "\n",
    "\n",
    "\n",
    "\n",
    "\n",
    "\n",
    "    leg = ROOT.TLegend(0.55,0.75,0.9,0.9)\n",
    "    leg.SetFillStyle(-1)\n",
    "    leg.SetBorderSize(0)\n",
    "    leg.SetTextFont(42)\n",
    "    leg.SetTextSize(0.03)\n",
    "  #  leg.Draw()\n",
    "\n",
    "\n",
    "    h_names = ['nom','reg']\n",
    "    datahists = [h_rel_diff,h_rel_diff_reg]\n",
    "    x=[]\n",
    "    datahist=[]\n",
    "    m=[]\n",
    "    m_initial=[120.0103e+00,9.5381e-01]\n",
    "    s=[]\n",
    "    s_initial=[ 13.210,13.967]\n",
    "    a=[]\n",
    "    a_initial=[-7.7802e-01,-1.1260e+00]\n",
    "    n=[]\n",
    "    n_initial=[ 6.0149e+00,5.5622e+00]\n",
    "\n",
    "    Ap,Xp,sigp,xi,rho1,rho2 = [],[],[],[],[],[]\n",
    "    Xp_initial,sigp_initial,xi_initial,rho1_initial,rho2_initial =  120., 20.11,2.2695e-01, 6.4189e-02,  9.0282e-02\n",
    "    meanr, sigmaL, sigmaR, alphaL, alphaR = [],[],[],[],[]\n",
    "\n",
    "    fsig=[]\n",
    "    sig=[]\n",
    "    model=[]\n",
    "    res=[]\n",
    "    integral=[]\n",
    "    formula=[]\n",
    "    scale_factors=[]\n",
    "    scaled_cb=[]\n",
    "    func=[]\n",
    "    colors=[ROOT.kBlue,ROOT.kRed]\n",
    "    chi_squares=[]\n",
    "    fwhm_bukin=[]\n",
    "    fwhm=[]\n",
    "    fwhm.append( -1 *(h_rel_diff.GetBinCenter( h_rel_diff.FindFirstBinAbove(h_rel_diff.GetMaximum()/2.)  )  - h_rel_diff.GetBinCenter( h_rel_diff.FindLastBinAbove(h_rel_diff.GetMaximum()/2.) ) )  )\n",
    "    fwhm.append( -1 *(h_rel_diff_reg.GetBinCenter( h_rel_diff_reg.FindFirstBinAbove(h_rel_diff_reg.GetMaximum()/2.)  )  - h_rel_diff_reg.GetBinCenter( h_rel_diff_reg.FindLastBinAbove(h_rel_diff_reg.GetMaximum()/2.) ) )  )\n",
    "\n",
    "    for num,h in enumerate(h_names):\n",
    "        x.append(RooRealVar(\"x_%s\"%h,\"x_%s\"%h,c_min,c_max))\n",
    "        datahist.append(RooDataHist(\"roohist_%s\"%h,\"roohist_%s\"%h,RooArgList(x[num]),datahists[num]))\n",
    "\n",
    "      #######################Bukin function ##################\n",
    "\n",
    "        Xp.append(RooRealVar(\"Xp_%s\"%h,\"Xp_%s\"%h,Xp_initial,100,140.))\n",
    "        sigp.append(RooRealVar(\"sigp_%s\"%h,\"sigp_%s\"%h,sigp_initial,10,40))\n",
    "        xi.append(RooRealVar(\"xi_%s\"%h,\"xi_%s\"%h,xi_initial,-1,1))\n",
    "        rho1.append(RooRealVar(\"rho1_%s\"%h,\"rho1_%s\"%h,rho1_initial,-1,1)) #left\n",
    "        rho2.append(RooRealVar(\"rho2_%s\"%h,\"rho2_%s\"%h,rho2_initial,-1,1)) #right\n",
    "        sig.append(RooBukinPdf(\"signal_bukin_%s\"%h,\"signal_bukin_%s\"%h,x[num],Xp[num],sigp[num],xi[num],rho1[num],rho2[num]))\n",
    "        res.append(sig[num].fitTo(datahist[num],ROOT.RooFit.Save(ROOT.kTRUE)))\n",
    "        res[num].Print()\n",
    "\n",
    "       # chi_squares.append((x[num].frame()).chiSquare())\n",
    "        x[num].setRange(\"integralRange%s\"%h, c_min,c_max)\n",
    "        integral.append(sig[num].createIntegral(RooArgSet(x[num]), ROOT.RooFit.Range(\"integralRange%s\"%h)))\n",
    "\n",
    "        scale_factors.append(datahists[num].Integral()*datahists[num].GetBinWidth(1)/integral[num].getVal())\n",
    "        scale_factors.append(datahists[num].Integral()*datahists[num].GetBinWidth(1)/integral[num].getVal())\n",
    "      #  formula.append(\"%f *signal_gauss_%s\"%(scale_factors[num],h))\n",
    "        formula.append(\"%f *signal_bukin_%s\"%(scale_factors[num],h))\n",
    "     #   formula.append(\"%f *signal_cruijff_%s\"%(scale_factors[num],h))\n",
    "       # create a scaled  function = scale * function\n",
    "        scaled_cb.append(RooFormulaVar(\"scaled_cb_%s\"%h,formula[num],RooArgList(sig[num])))\n",
    "        func.append(scaled_cb[num].asTF(RooArgList(x[num])))\n",
    "        func[num].SetLineColor(colors[num])\n",
    "        datahists[num].SetMarkerColor(colors[num])\n",
    "        fwhm_bukin.append(sigp[num].getVal()*2*math.sqrt(2*math.log(2)))\n",
    "\n",
    "      #  chi_squares.append(RooChi2Var(\"chi2_%s\"%h,\"chi2_%s\"%h,sig[num],datahist[num]))\n",
    "\n",
    "\n",
    "    fitfunc='Bukin'\n",
    "  #  fitfunc='Bifurgaus'\n",
    "    fit_result_file = std.ofstream(utils.IO.plotFolder+\"../fitResults/fitResult_%s\"%(fitfunc)+str(outString)+'.txt')\n",
    "    res[0].floatParsFinal().printMultiline(fit_result_file, 1111, True)\n",
    "    res[1].floatParsFinal().printMultiline(fit_result_file, 1111, True)\n",
    "    fit_result_file.close()\n",
    "\n",
    "\n",
    "    leg.AddEntry(h_rel_diff,\"Nominal JEC\" ,\"P\")\n",
    "    leg.AddEntry(h_rel_diff_reg,\"Regressed\" ,\"P\")\n",
    "\n",
    "\n",
    "    c2 = ROOT.TCanvas(\"c2\",\"c2\",900,900)\n",
    "    c2.cd()\n",
    "    frame.Draw()\n",
    "    func[0].Draw(\"same\")\n",
    "    func[1].Draw(\"same\")\n",
    "    h_rel_diff.Draw(\"PEHISTsame\")\n",
    "    h_rel_diff_reg.Draw(\"PEHISTsame\")\n",
    "    leg.Draw()\n",
    "\n",
    "    c2.SaveAs(utils.IO.plotFolder+\"dijet_%s_\"%(fitfunc)+str(outString)+'.png')\n",
    "    c2.SaveAs(utils.IO.plotFolder+\"dijet_%s_\"%(fitfunc)+str(outString)+'.pdf')\n",
    "    c2.Draw()\n"
   ]
  },
  {
   "cell_type": "code",
   "execution_count": null,
   "metadata": {
    "collapsed": true
   },
   "outputs": [],
   "source": [
    "import ROOT\n",
    "import math\n",
    "from array import array\n",
    "from ROOT import std\n",
    "from ROOT import gROOT\n",
    "from ROOT import gStyle\n",
    "from ROOT import TH1F, TGraph, TF1\n",
    "from ROOT import TCanvas\n",
    "from ROOT import RooRealVar, RooDataHist, RooFormulaVar, RooVoigtian, RooChebychev, RooArgList, \\\n",
    "                 RooArgSet, RooAddPdf, RooDataSet, RooCategory, RooSimultaneous, \\\n",
    "                 RooBreitWigner, RooCBShape, RooFFTConvPdf, RooBukinPdf, RooBifurGauss, RooGenericPdf, RooChi2Var\n"
   ]
  },
  {
   "cell_type": "code",
   "execution_count": null,
   "metadata": {
    "collapsed": true
   },
   "outputs": [],
   "source": [
    "fit_dijetmass(data[data.dijetM_reg > 0]['dijetM_reg'].values.reshape(-1,1),data[data.dijetM > 0]['dijetM'].values.reshape(-1,1))\n"
   ]
  },
  {
   "cell_type": "code",
   "execution_count": null,
   "metadata": {
    "collapsed": true
   },
   "outputs": [],
   "source": []
  }
 ],
 "metadata": {
  "anaconda-cloud": {},
  "kernelspec": {
   "display_name": "Python [conda root]",
   "language": "python",
   "name": "conda-root-py"
  },
  "language_info": {
   "codemirror_mode": {
    "name": "ipython",
    "version": 2
   },
   "file_extension": ".py",
   "mimetype": "text/x-python",
   "name": "python",
   "nbconvert_exporter": "python",
   "pygments_lexer": "ipython2",
   "version": "2.7.12"
  }
 },
 "nbformat": 4,
 "nbformat_minor": 2
}
