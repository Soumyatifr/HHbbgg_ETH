{
 "cells": [
  {
   "cell_type": "code",
   "execution_count": null,
   "metadata": {},
   "outputs": [],
   "source": [
    "#load libs\n",
    "import keras.models\n",
    "\n",
    "import os\n",
    "import bregnn.io as io\n"
   ]
  },
  {
   "cell_type": "code",
   "execution_count": null,
   "metadata": {},
   "outputs": [],
   "source": [
    "# ## Read test data and model\n",
    "# load data\n",
    "base_dir = '/scratch/snx3000/musella/bregression'\n",
    "data = io.read_data(base_dir+'/ttbar_unweighted_full80M_selected_test.hd5', columns = None )\n",
    "\n",
    "# list all model files in the training folder\n",
    "#target = '/users/musella/jupyter/bregression/hybrid_cfg'\n",
    "target='/users/nchernya/HHbbgg_ETH/bregression/notebooks/HybdridLoss/'\n",
    "models = get_ipython().getoutput('ls -t $target/*.hdf5')\n",
    "models\n",
    "\n",
    "# read training configuration\n",
    "import json\n",
    "with open('%s/config.json' % target) as fin:\n",
    "    config = json.loads(fin.read())\n",
    "config\n",
    "\n",
    "# ## Compute predictions\n",
    "\n",
    "features = config['options']['features'].split(',')\n",
    "\n",
    "X = data[features].values\n",
    "y = (data['Jet_mcPt']/data['Jet_pt']).values.reshape(-1,1)\n",
    "y_hbb = (data['Jet_mcPt']/data['Jet_pt_reg']).values.reshape(-1,1)\n"
   ]
  },
  {
   "cell_type": "code",
   "execution_count": null,
   "metadata": {},
   "outputs": [],
   "source": [
    "model = keras.models.load_model(models[0],compile=False)\n",
    "\n",
    "y_pred = model.predict(X)\n",
    "\n",
    "# *Note*: the target is typically normalized in the training y = (y-mu)/sigma\n",
    "# ## Convert raw prediction into actual scale and resolution estimation\n",
    "\n",
    "\n",
    "if y_pred.shape[1] == 1: # with one output we only have a scale correction\n",
    "    corr = y_pred\n",
    "    res = None\n",
    "elif y_pred.shape[1] == 2: # with two outputs first is mean and second is sigma\n",
    "    corr = y_pred[:,0]\n",
    "    res = y_pred[:,1]\n",
    "elif y_pred.shape[1] == 3: # assume that 3 outputs are mean + 2 quantile\n",
    "    corr = y_pred[:,0]\n",
    "    res = 0.5*(y_pred[:,2] - y_pred[:,1])\n",
    "\n",
    "# normalize back to energy scale\n",
    "if config['options']['normalize_target']:\n",
    "    corr *= config['y_std']\n",
    "    corr += config['y_mean']\n",
    "\n",
    "    if res is not None:\n",
    "        res *= config['y_std']\n",
    "\n",
    "# errors vector\n",
    "if y_pred.shape[1] > 1:\n",
    "    err = y[:,0]-corr\n",
    "else:\n",
    "    err = y-corr\n",
    "\n",
    "# ## Characterize the outcome\n",
    "\n",
    "print(y.mean(),y.std())\n"
   ]
  },
  {
   "cell_type": "code",
   "execution_count": null,
   "metadata": {},
   "outputs": [],
   "source": [
    "me = err.mean()\n",
    "std = err.std()\n",
    "mse = np.square(err).mean()\n",
    "mae = np.abs(err).mean()\n",
    "print('test me ', me, ' std ', std, ' norm std ', std/config['y_std'], ' norm mse ', mse/config['y_std']**2, ' norm mae ', mae / config['y_std'])\n",
    "\n",
    "\n",
    "\n",
    "_,bins,_ = plt.hist(y[:,0],bins=100,range=[0.5,2],label='target');\n",
    "plt.hist(y_hbb[:,0],bins=bins,alpha=0.5,label='HIG-17-009');\n",
    "plt.hist(y_pred[:,0],bins=bins,alpha=0.5,label='prediction');\n",
    "plt.xlabel('$p_T^{true} / p_T^{reco}$')\n",
    "plt.legend(True)\n",
    "plt.savefig('/users/nchernya//HHbbgg_ETH/bregression/plots/HybridLoss/Pasquale_pT_true_reco_Hig_17_009.pdf')"
   ]
  },
  {
   "cell_type": "code",
   "execution_count": null,
   "metadata": {},
   "outputs": [],
   "source": [
    "import sys\n",
    "sys.path.insert(0, '/users/nchernya/HHbbgg_ETH/bregression/python/')\n",
    "import plotting_utils"
   ]
  },
  {
   "cell_type": "code",
   "execution_count": null,
   "metadata": {},
   "outputs": [],
   "source": [
    "print('test')"
   ]
  },
  {
   "cell_type": "code",
   "execution_count": null,
   "metadata": {},
   "outputs": [],
   "source": [
    "import pandas as pd\n",
    "import root_pandas as rpd"
   ]
  },
  {
   "cell_type": "code",
   "execution_count": null,
   "metadata": {},
   "outputs": [],
   "source": [
    "file_name='/users/nchernya/HHbbgg_ETH/root_files/ttbar_RegressionPerJet_heppy_energyRings3_forTesting.root'"
   ]
  },
  {
   "cell_type": "code",
   "execution_count": null,
   "metadata": {},
   "outputs": [],
   "source": [
    "branch_names = 'Jet_pt,Jet_eta,Jet_mcFlavour,Jet_mcPt,rho,Jet_mt,Jet_leadTrackPt,Jet_leptonPtRel,Jet_leptonDeltaR,Jet_neHEF,Jet_neEmEF,Jet_vtxPt,Jet_vtxMass,Jet_vtx3dL,Jet_vtxNtrk,Jet_vtx3deL,Jet_energyRing_dR0_em_Jet_e,Jet_energyRing_dR1_em_Jet_e,Jet_energyRing_dR2_em_Jet_e,Jet_energyRing_dR3_em_Jet_e,Jet_energyRing_dR4_em_Jet_e,Jet_energyRing_dR0_neut_Jet_e,Jet_energyRing_dR1_neut_Jet_e,Jet_energyRing_dR2_neut_Jet_e,Jet_energyRing_dR3_neut_Jet_e,Jet_energyRing_dR4_neut_Jet_e,Jet_energyRing_dR0_ch_Jet_e,Jet_energyRing_dR1_ch_Jet_e,Jet_energyRing_dR2_ch_Jet_e,Jet_energyRing_dR3_ch_Jet_e,Jet_energyRing_dR4_ch_Jet_e,Jet_energyRing_dR0_mu_Jet_e,Jet_energyRing_dR1_mu_Jet_e,Jet_energyRing_dR2_mu_Jet_e,Jet_energyRing_dR3_mu_Jet_e,Jet_energyRing_dR4_mu_Jet_e,Jet_numDaughters_pt03'.split(\",\")\n"
   ]
  },
  {
   "cell_type": "code",
   "execution_count": null,
   "metadata": {},
   "outputs": [],
   "source": [
    "cuts='(Jet_pt > 20) & (Jet_eta<2.5 & Jet_eta>-2.5) & (Jet_mcFlavour==5 | Jet_mcFlavour==-5) & (Jet_mcPt>0) & (Jet_mcPt<6000)'\n"
   ]
  },
  {
   "cell_type": "code",
   "execution_count": null,
   "metadata": {},
   "outputs": [],
   "source": [
    "tmp_data_frame = (rpd.read_root(file_name,'tree', columns = branch_names)).query(cuts)\n"
   ]
  },
  {
   "cell_type": "code",
   "execution_count": null,
   "metadata": {},
   "outputs": [],
   "source": []
  }
 ],
 "metadata": {
  "kernelspec": {
   "display_name": "Python 3",
   "language": "python",
   "name": "python3"
  },
  "language_info": {
   "codemirror_mode": {
    "name": "ipython",
    "version": 3
   },
   "file_extension": ".py",
   "mimetype": "text/x-python",
   "name": "python",
   "nbconvert_exporter": "python",
   "pygments_lexer": "ipython3",
   "version": "3.5.2"
  }
 },
 "nbformat": 4,
 "nbformat_minor": 2
}
