{
 "cells": [
  {
   "cell_type": "code",
   "execution_count": 1,
   "metadata": {},
   "outputs": [
    {
     "name": "stderr",
     "output_type": "stream",
     "text": [
      "Using TensorFlow backend.\n"
     ]
    }
   ],
   "source": [
    "#load libs\n",
    "import keras.models\n",
    "\n",
    "import os\n",
    "import bregnn.io as io\n"
   ]
  },
  {
   "cell_type": "code",
   "execution_count": 2,
   "metadata": {},
   "outputs": [
    {
     "name": "stdout",
     "output_type": "stream",
     "text": [
      "Opening /scratch/snx3000/musella/bregression/ttbar_unweighted_full80M_selected_test.hd5 in read-only mode\n"
     ]
    }
   ],
   "source": [
    "# ## Read test data and model\n",
    "# load data\n",
    "base_dir = '/scratch/snx3000/musella/bregression'\n",
    "data = io.read_data(base_dir+'/ttbar_unweighted_full80M_selected_test.hd5', columns = None )\n",
    "\n",
    "# list all model files in the training folder\n",
    "#target = '/users/musella/jupyter/bregression/hybrid_cfg'\n",
    "target='/users/nchernya/HHbbgg_ETH/bregression/notebooks/HybdridLoss/'\n",
    "models = get_ipython().getoutput('ls -t $target/*.hdf5')\n",
    "models\n",
    "\n",
    "# read training configuration\n",
    "import json\n",
    "with open('%s/config.json' % target) as fin:\n",
    "    config = json.loads(fin.read())\n",
    "config\n",
    "\n",
    "# ## Compute predictions\n",
    "\n",
    "features = config['options']['features'].split(',')\n",
    "\n",
    "X = data[features].values\n",
    "y = (data['Jet_mcPt']/data['Jet_pt']).values.reshape(-1,1)\n",
    "y_hbb = (data['Jet_mcPt']/data['Jet_pt_reg']).values.reshape(-1,1)\n"
   ]
  },
  {
   "cell_type": "code",
   "execution_count": 3,
   "metadata": {},
   "outputs": [
    {
     "name": "stdout",
     "output_type": "stream",
     "text": [
      "1.07361 0.270127\n"
     ]
    }
   ],
   "source": [
    "model = keras.models.load_model(models[0],compile=False)\n",
    "\n",
    "y_pred = model.predict(X)\n",
    "\n",
    "# *Note*: the target is typically normalized in the training y = (y-mu)/sigma\n",
    "# ## Convert raw prediction into actual scale and resolution estimation\n",
    "\n",
    "\n",
    "if y_pred.shape[1] == 1: # with one output we only have a scale correction\n",
    "    corr = y_pred\n",
    "    res = None\n",
    "elif y_pred.shape[1] == 2: # with two outputs first is mean and second is sigma\n",
    "    corr = y_pred[:,0]\n",
    "    res = y_pred[:,1]\n",
    "elif y_pred.shape[1] == 3: # assume that 3 outputs are mean + 2 quantile\n",
    "    corr = y_pred[:,0]\n",
    "    res = 0.5*(y_pred[:,2] - y_pred[:,1])\n",
    "\n",
    "# normalize back to energy scale\n",
    "if config['options']['normalize_target']:\n",
    "    corr *= config['y_std']\n",
    "    corr += config['y_mean']\n",
    "\n",
    "    if res is not None:\n",
    "        res *= config['y_std']\n",
    "\n",
    "# errors vector\n",
    "if y_pred.shape[1] > 1:\n",
    "    err = y[:,0]-corr\n",
    "else:\n",
    "    err = y-corr\n",
    "\n",
    "# ## Characterize the outcome\n",
    "\n",
    "print(y.mean(),y.std())\n"
   ]
  },
  {
   "cell_type": "code",
   "execution_count": 6,
   "metadata": {},
   "outputs": [
    {
     "name": "stdout",
     "output_type": "stream",
     "text": [
      "test me  0.0172262  std  0.201691  norm std  0.738941034501  norm mse  0.550017032507  norm mae  0.351097532773\n"
     ]
    },
    {
     "ename": "TypeError",
     "evalue": "zip argument #2 must support iteration",
     "output_type": "error",
     "traceback": [
      "\u001b[0;31m---------------------------------------------------------------------------\u001b[0m",
      "\u001b[0;31mTypeError\u001b[0m                                 Traceback (most recent call last)",
      "\u001b[0;32m<ipython-input-6-fe114530cf37>\u001b[0m in \u001b[0;36m<module>\u001b[0;34m()\u001b[0m\n\u001b[1;32m     11\u001b[0m \u001b[0mplt\u001b[0m\u001b[0;34m.\u001b[0m\u001b[0mhist\u001b[0m\u001b[0;34m(\u001b[0m\u001b[0my_pred\u001b[0m\u001b[0;34m[\u001b[0m\u001b[0;34m:\u001b[0m\u001b[0;34m,\u001b[0m\u001b[0;36m0\u001b[0m\u001b[0;34m]\u001b[0m\u001b[0;34m,\u001b[0m\u001b[0mbins\u001b[0m\u001b[0;34m=\u001b[0m\u001b[0mbins\u001b[0m\u001b[0;34m,\u001b[0m\u001b[0malpha\u001b[0m\u001b[0;34m=\u001b[0m\u001b[0;36m0.5\u001b[0m\u001b[0;34m,\u001b[0m\u001b[0mlabel\u001b[0m\u001b[0;34m=\u001b[0m\u001b[0;34m'prediction'\u001b[0m\u001b[0;34m)\u001b[0m\u001b[0;34m;\u001b[0m\u001b[0;34m\u001b[0m\u001b[0m\n\u001b[1;32m     12\u001b[0m \u001b[0mplt\u001b[0m\u001b[0;34m.\u001b[0m\u001b[0mxlabel\u001b[0m\u001b[0;34m(\u001b[0m\u001b[0;34m'$p_T^{true} / p_T^{reco}$'\u001b[0m\u001b[0;34m)\u001b[0m\u001b[0;34m\u001b[0m\u001b[0m\n\u001b[0;32m---> 13\u001b[0;31m \u001b[0mplt\u001b[0m\u001b[0;34m.\u001b[0m\u001b[0mlegend\u001b[0m\u001b[0;34m(\u001b[0m\u001b[0;32mTrue\u001b[0m\u001b[0;34m)\u001b[0m\u001b[0;34m\u001b[0m\u001b[0m\n\u001b[0m\u001b[1;32m     14\u001b[0m \u001b[0mplt\u001b[0m\u001b[0;34m.\u001b[0m\u001b[0msavefig\u001b[0m\u001b[0;34m(\u001b[0m\u001b[0;34m'/users/nchernya//HHbbgg_ETH/bregression/plots/HybridLoss/Pasquale_pT_true_reco_Hig_17_009.pdf'\u001b[0m\u001b[0;34m)\u001b[0m\u001b[0;34m\u001b[0m\u001b[0m\n",
      "\u001b[0;32m/users/musella/my-env/lib/python3.5/site-packages/matplotlib/pyplot.py\u001b[0m in \u001b[0;36mlegend\u001b[0;34m(*args, **kwargs)\u001b[0m\n\u001b[1;32m   3795\u001b[0m \u001b[0;34m@\u001b[0m\u001b[0mdocstring\u001b[0m\u001b[0;34m.\u001b[0m\u001b[0mcopy_dedent\u001b[0m\u001b[0;34m(\u001b[0m\u001b[0mAxes\u001b[0m\u001b[0;34m.\u001b[0m\u001b[0mlegend\u001b[0m\u001b[0;34m)\u001b[0m\u001b[0;34m\u001b[0m\u001b[0m\n\u001b[1;32m   3796\u001b[0m \u001b[0;32mdef\u001b[0m \u001b[0mlegend\u001b[0m\u001b[0;34m(\u001b[0m\u001b[0;34m*\u001b[0m\u001b[0margs\u001b[0m\u001b[0;34m,\u001b[0m \u001b[0;34m**\u001b[0m\u001b[0mkwargs\u001b[0m\u001b[0;34m)\u001b[0m\u001b[0;34m:\u001b[0m\u001b[0;34m\u001b[0m\u001b[0m\n\u001b[0;32m-> 3797\u001b[0;31m     \u001b[0mret\u001b[0m \u001b[0;34m=\u001b[0m \u001b[0mgca\u001b[0m\u001b[0;34m(\u001b[0m\u001b[0;34m)\u001b[0m\u001b[0;34m.\u001b[0m\u001b[0mlegend\u001b[0m\u001b[0;34m(\u001b[0m\u001b[0;34m*\u001b[0m\u001b[0margs\u001b[0m\u001b[0;34m,\u001b[0m \u001b[0;34m**\u001b[0m\u001b[0mkwargs\u001b[0m\u001b[0;34m)\u001b[0m\u001b[0;34m\u001b[0m\u001b[0m\n\u001b[0m\u001b[1;32m   3798\u001b[0m     \u001b[0;32mreturn\u001b[0m \u001b[0mret\u001b[0m\u001b[0;34m\u001b[0m\u001b[0m\n\u001b[1;32m   3799\u001b[0m \u001b[0;34m\u001b[0m\u001b[0m\n",
      "\u001b[0;32m/users/musella/my-env/lib/python3.5/site-packages/matplotlib/axes/_axes.py\u001b[0m in \u001b[0;36mlegend\u001b[0;34m(self, *args, **kwargs)\u001b[0m\n\u001b[1;32m    552\u001b[0m             \u001b[0;31m# Get as many handles as there are labels.\u001b[0m\u001b[0;34m\u001b[0m\u001b[0;34m\u001b[0m\u001b[0m\n\u001b[1;32m    553\u001b[0m             handles = [handle for handle, label\n\u001b[0;32m--> 554\u001b[0;31m                        in zip(self._get_legend_handles(handlers), labels)]\n\u001b[0m\u001b[1;32m    555\u001b[0m \u001b[0;34m\u001b[0m\u001b[0m\n\u001b[1;32m    556\u001b[0m         \u001b[0;31m# Two arguments:\u001b[0m\u001b[0;34m\u001b[0m\u001b[0;34m\u001b[0m\u001b[0m\n",
      "\u001b[0;31mTypeError\u001b[0m: zip argument #2 must support iteration"
     ]
    },
    {
     "data": {
      "image/png": "[encoded data removed]",
      "text/plain": [
       "<matplotlib.figure.Figure at 0x2ba7412b6be0>"
      ]
     },
     "metadata": {},
     "output_type": "display_data"
    }
   ],
   "source": [
    "me = err.mean()\n",
    "std = err.std()\n",
    "mse = np.square(err).mean()\n",
    "mae = np.abs(err).mean()\n",
    "print('test me ', me, ' std ', std, ' norm std ', std/config['y_std'], ' norm mse ', mse/config['y_std']**2, ' norm mae ', mae / config['y_std'])\n",
    "\n",
    "\n",
    "\n",
    "_,bins,_ = plt.hist(y[:,0],bins=100,range=[0.5,2],label='target');\n",
    "plt.hist(y_hbb[:,0],bins=bins,alpha=0.5,label='HIG-17-009');\n",
    "plt.hist(y_pred[:,0],bins=bins,alpha=0.5,label='prediction');\n",
    "plt.xlabel('$p_T^{true} / p_T^{reco}$')\n",
    "plt.legend(True)\n",
    "plt.savefig('/users/nchernya//HHbbgg_ETH/bregression/plots/HybridLoss/Pasquale_pT_true_reco_Hig_17_009.pdf')"
   ]
  },
  {
   "cell_type": "code",
   "execution_count": 18,
   "metadata": {},
   "outputs": [
    {
     "name": "stdout",
     "output_type": "stream",
     "text": [
      "Welcome to JupyROOT 6.10/02\n"
     ]
    },
    {
     "ename": "ImportError",
     "evalue": "cannot import name 'RooRealVar'",
     "output_type": "error",
     "traceback": [
      "\u001b[0;31m---------------------------------------------------------------------------\u001b[0m",
      "\u001b[0;31mImportError\u001b[0m                               Traceback (most recent call last)",
      "\u001b[0;32m<ipython-input-18-108e6e693b14>\u001b[0m in \u001b[0;36m<module>\u001b[0;34m()\u001b[0m\n\u001b[1;32m      1\u001b[0m \u001b[0;32mimport\u001b[0m \u001b[0msys\u001b[0m\u001b[0;34m\u001b[0m\u001b[0m\n\u001b[1;32m      2\u001b[0m \u001b[0msys\u001b[0m\u001b[0;34m.\u001b[0m\u001b[0mpath\u001b[0m\u001b[0;34m.\u001b[0m\u001b[0minsert\u001b[0m\u001b[0;34m(\u001b[0m\u001b[0;36m0\u001b[0m\u001b[0;34m,\u001b[0m \u001b[0;34m'/users/nchernya/HHbbgg_ETH/bregression/python/'\u001b[0m\u001b[0;34m)\u001b[0m\u001b[0;34m\u001b[0m\u001b[0m\n\u001b[0;32m----> 3\u001b[0;31m \u001b[0;32mimport\u001b[0m \u001b[0mplotting_utils\u001b[0m\u001b[0;34m\u001b[0m\u001b[0m\n\u001b[0m",
      "\u001b[0;32m~/HHbbgg_ETH/bregression/python/plotting_utils.py\u001b[0m in \u001b[0;36m<module>\u001b[0;34m()\u001b[0m\n\u001b[1;32m     14\u001b[0m \u001b[0;32mfrom\u001b[0m \u001b[0mROOT\u001b[0m \u001b[0;32mimport\u001b[0m \u001b[0mTH1F\u001b[0m\u001b[0;34m,\u001b[0m \u001b[0mTGraph\u001b[0m\u001b[0;34m,\u001b[0m \u001b[0mTF1\u001b[0m\u001b[0;34m\u001b[0m\u001b[0m\n\u001b[1;32m     15\u001b[0m \u001b[0;32mfrom\u001b[0m \u001b[0mROOT\u001b[0m \u001b[0;32mimport\u001b[0m \u001b[0mTCanvas\u001b[0m\u001b[0;34m\u001b[0m\u001b[0m\n\u001b[0;32m---> 16\u001b[0;31m \u001b[0;32mfrom\u001b[0m \u001b[0mROOT\u001b[0m \u001b[0;32mimport\u001b[0m \u001b[0mRooRealVar\u001b[0m\u001b[0;34m,\u001b[0m \u001b[0mRooDataHist\u001b[0m\u001b[0;34m,\u001b[0m \u001b[0mRooFormulaVar\u001b[0m\u001b[0;34m,\u001b[0m \u001b[0mRooVoigtian\u001b[0m\u001b[0;34m,\u001b[0m \u001b[0mRooChebychev\u001b[0m\u001b[0;34m,\u001b[0m \u001b[0mRooArgList\u001b[0m\u001b[0;34m,\u001b[0m\u001b[0;31m \u001b[0m\u001b[0;31m\\\u001b[0m\u001b[0;34m\u001b[0m\u001b[0m\n\u001b[0m\u001b[1;32m     17\u001b[0m                  \u001b[0mRooArgSet\u001b[0m\u001b[0;34m,\u001b[0m \u001b[0mRooAddPdf\u001b[0m\u001b[0;34m,\u001b[0m \u001b[0mRooDataSet\u001b[0m\u001b[0;34m,\u001b[0m \u001b[0mRooCategory\u001b[0m\u001b[0;34m,\u001b[0m \u001b[0mRooSimultaneous\u001b[0m\u001b[0;34m,\u001b[0m\u001b[0;31m \u001b[0m\u001b[0;31m\\\u001b[0m\u001b[0;34m\u001b[0m\u001b[0m\n\u001b[1;32m     18\u001b[0m                  \u001b[0mRooBreitWigner\u001b[0m\u001b[0;34m,\u001b[0m \u001b[0mRooCBShape\u001b[0m\u001b[0;34m,\u001b[0m \u001b[0mRooFFTConvPdf\u001b[0m\u001b[0;34m,\u001b[0m \u001b[0mRooBukinPdf\u001b[0m\u001b[0;34m,\u001b[0m \u001b[0mRooBifurGauss\u001b[0m\u001b[0;34m,\u001b[0m \u001b[0mRooGenericPdf\u001b[0m\u001b[0;34m,\u001b[0m \u001b[0mRooChi2Var\u001b[0m\u001b[0;34m\u001b[0m\u001b[0m\n",
      "\u001b[0;31mImportError\u001b[0m: cannot import name 'RooRealVar'"
     ]
    }
   ],
   "source": [
    "import sys\n",
    "sys.path.insert(0, '/users/nchernya/HHbbgg_ETH/bregression/python/')\n",
    "import plotting_utils"
   ]
  },
  {
   "cell_type": "code",
   "execution_count": null,
   "metadata": {},
   "outputs": [],
   "source": []
  }
 ],
 "metadata": {
  "kernelspec": {
   "display_name": "Python 3",
   "language": "python",
   "name": "python3"
  },
  "language_info": {
   "codemirror_mode": {
    "name": "ipython",
    "version": 3
   },
   "file_extension": ".py",
   "mimetype": "text/x-python",
   "name": "python",
   "nbconvert_exporter": "python",
   "pygments_lexer": "ipython3",
   "version": "3.5.2"
  }
 },
 "nbformat": 4,
 "nbformat_minor": 2
}
