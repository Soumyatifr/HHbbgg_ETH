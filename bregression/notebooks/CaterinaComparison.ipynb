{
 "cells": [
  {
   "cell_type": "code",
   "execution_count": 5,
   "metadata": {
    "collapsed": false
   },
   "outputs": [
    {
     "data": {
      "text/plain": [
       "<module 'postprocessing_utils' from '/mnt/t3nfs01/data01/shome/nchernya/HHbbgg_ETH_devel/bregression/python/postprocessing_utils.pyc'>"
      ]
     },
     "execution_count": 5,
     "metadata": {},
     "output_type": "execute_result"
    }
   ],
   "source": [
    "import os\n",
    "import sys; sys.path.append(\"~/HHbbgg_ETH_devel/bregression/python\") # to load packages\n",
    "import training_utils as utils\n",
    "import numpy as np\n",
    "reload(utils)\n",
    "import preprocessing_utils as preprocessing\n",
    "reload(preprocessing)\n",
    "import plotting_utils as plotting\n",
    "reload(plotting)\n",
    "import optimization_utils as optimization\n",
    "reload(optimization)\n",
    "import postprocessing_utils as postprocessing\n",
    "reload(postprocessing)\n"
   ]
  },
  {
   "cell_type": "code",
   "execution_count": 6,
   "metadata": {
    "collapsed": false
   },
   "outputs": [],
   "source": [
    "import math\n",
    "\n",
    "path = '/mnt/t3nfs01/data01/shome/nchernya//HHbbgg_ETH_devel/bregression/fitResults/'\n",
    "file_pt = path+'fitResultRegions_BukinAfterReg_ptregion.txt'\n",
    "file_eta = path+'fitResultRegions_BukinAfterReg_etaregion.txt'\n",
    "file_pt_cat = path+'fitResultRegions_BukinAfterReg_ptregionCaterina.txt'\n",
    "file_eta_cat = path+'fitResultRegions_BukinAfterReg_etaregionCaterina.txt'\n",
    "\n",
    "\n",
    "mean_pt,fwhm_pt = postprocessing.get_mean_width(file_pt)\n",
    "fwhm_pt = [float(x)*2*math.sqrt(2*math.log(2)) for x in fwhm_pt]\n",
    "\n",
    "mean_eta,fwhm_eta = postprocessing.get_mean_width(file_eta)\n",
    "fwhm_eta = [float(x)*2*math.sqrt(2*math.log(2)) for x in fwhm_eta]\n",
    "\n",
    "mean_pt_cat,fwhm_pt_cat = postprocessing.get_mean_width(file_pt_cat)\n",
    "fwhm_pt_cat = [float(x)*2*math.sqrt(2*math.log(2)) for x in fwhm_pt_cat]\n",
    "\n",
    "mean_eta_cat,fwhm_eta_cat = postprocessing.get_mean_width(file_eta_cat)\n",
    "fwhm_eta_cat = [float(x)*2*math.sqrt(2*math.log(2)) for x in fwhm_eta_cat]\n",
    "\n",
    "what=['mean Xp','p_T']\n",
    "pt_region=[0,100,300,700,3000]\n",
    "eta_region=[0.,0.5,1.,1.5,2,2.5]\n",
    "pt_region = [ pt_region[i]+(pt_region[i+1]-pt_region[i])/2. for i in range(0,len(pt_region)-1)]\n",
    "eta_region = [ eta_region[i]+(eta_region[i+1]-eta_region[i])/2. for i in range(0,len(eta_region)-1)]\n",
    "\n",
    "plotting.plot_mean_fwhm(mean_pt,mean_pt_cat,pt_region,what)\n",
    "what=['mean Xp','eta']\n",
    "plotting.plot_mean_fwhm(mean_eta,mean_eta_cat,eta_region,what)\n",
    "\n",
    "what=['FWHM','p_T']\n",
    "plotting.plot_mean_fwhm(fwhm_pt,fwhm_pt_cat,pt_region,what)\n",
    "what=['FWHM','eta']\n",
    "plotting.plot_mean_fwhm(fwhm_eta,fwhm_eta_cat,eta_region,what)\n",
    "\n"
   ]
  },
  {
   "cell_type": "code",
   "execution_count": null,
   "metadata": {
    "collapsed": true
   },
   "outputs": [],
   "source": []
  },
  {
   "cell_type": "code",
   "execution_count": null,
   "metadata": {
    "collapsed": true
   },
   "outputs": [],
   "source": []
  }
 ],
 "metadata": {
  "anaconda-cloud": {},
  "kernelspec": {
   "display_name": "Python [conda root]",
   "language": "python",
   "name": "conda-root-py"
  },
  "language_info": {
   "codemirror_mode": {
    "name": "ipython",
    "version": 2
   },
   "file_extension": ".py",
   "mimetype": "text/x-python",
   "name": "python",
   "nbconvert_exporter": "python",
   "pygments_lexer": "ipython2",
   "version": "2.7.12"
  }
 },
 "nbformat": 4,
 "nbformat_minor": 1
}
