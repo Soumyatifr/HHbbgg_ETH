{
 "cells": [
  {
   "cell_type": "code",
   "execution_count": 2,
   "metadata": {},
   "outputs": [],
   "source": [
    "import numpy as np\n",
    "from sklearn.model_selection import ParameterSampler\n",
    "import json\n",
    "from sklearn.model_selection import train_test_split"
   ]
  },
  {
   "cell_type": "code",
   "execution_count": 3,
   "metadata": {},
   "outputs": [
    {
     "name": "stdout",
     "output_type": "stream",
     "text": [
      "[{'learning_rate': 0.001, 'dropout': 0.05}, {'learning_rate': 0.01, 'dropout': 0.1}, {'learning_rate': 0.0001, 'dropout': 0.2}, {'learning_rate': 0.001, 'dropout': 0.2}, {'learning_rate': 0.001, 'dropout': 0.3}]\n"
     ]
    }
   ],
   "source": [
    "np.random.seed(0)\n",
    "param_grid = {'dropout':[0.05, 0.1,0.2,0.3], 'learning_rate':[1.e-4,1.e-3,1.e-2,1.e-1]}\n",
    "param_list = list(ParameterSampler(param_grid, n_iter=5))\n",
    "print(param_list)\n",
    "inp_dir='/users/nchernya/HHbbgg_ETH/bregression/notebooks/json/'\n",
    "for i,item in enumerate(param_list):\n",
    "    with open('%s/data_%i.json'%(inp_dir,i), 'w') as f:\n",
    "        json.dump(item, f)\n"
   ]
  },
  {
   "cell_type": "code",
   "execution_count": 4,
   "metadata": {},
   "outputs": [
    {
     "name": "stdout",
     "output_type": "stream",
     "text": [
      "[[0 1]\n",
      " [2 3]\n",
      " [4 5]\n",
      " [6 7]\n",
      " [8 9]] range(0, 5)\n"
     ]
    }
   ],
   "source": [
    "X, y = np.arange(10).reshape((5, 2)), range(5)\n",
    "print(X,y)"
   ]
  },
  {
   "cell_type": "code",
   "execution_count": 5,
   "metadata": {},
   "outputs": [],
   "source": [
    "X_train, X_test, y_train, y_test = train_test_split(X, y, test_size=0.33, random_state=4)"
   ]
  },
  {
   "cell_type": "code",
   "execution_count": 6,
   "metadata": {},
   "outputs": [
    {
     "name": "stdout",
     "output_type": "stream",
     "text": [
      "[[2 3]\n",
      " [8 9]\n",
      " [4 5]]\n",
      "[[0 1]\n",
      " [6 7]]\n"
     ]
    }
   ],
   "source": [
    "print(X_train)\n",
    "print(X_test)"
   ]
  },
  {
   "cell_type": "markdown",
   "metadata": {},
   "source": [
    "Now we would like to split in proper KFolds"
   ]
  },
  {
   "cell_type": "code",
   "execution_count": 24,
   "metadata": {},
   "outputs": [
    {
     "name": "stdout",
     "output_type": "stream",
     "text": [
      "0 [0 2 3 4 5 6 7 8 9] [1]\n",
      "[ 11  31  41  51  61  71  81  91 101] [21]\n",
      "new\n",
      "1 [0 1 2 3 4 6 7 8 9] [5]\n",
      "[ 11  21  31  41  51  71  81  91 101] [61]\n",
      "new\n"
     ]
    }
   ],
   "source": [
    "from sklearn.model_selection import KFold\n",
    "X = np.array([1, 2, 3, 4,5,6,7,8,9,10])\n",
    "y = np.array([11, 21, 31, 41,51,61,71,81,91,101])\n",
    "kf = KFold(n_splits=10,shuffle=True,random_state=98543)\n",
    "#a = kf.get_n_splits(X)\n",
    "\n",
    "idx = iter(kf.split(X))\n",
    "\n",
    "for i in range(2):\n",
    "    train_idx,test_idx = next(idx)\n",
    "    print(i,train_idx,test_idx)\n",
    "    X_train, X_test = X[train_idx], X[test_idx]\n",
    "    y_train, y_test = y[train_idx], y[test_idx]\n",
    "    print(y_train,y_test)\n",
    "    print('new')"
   ]
  },
  {
   "cell_type": "code",
   "execution_count": 25,
   "metadata": {},
   "outputs": [
    {
     "name": "stdout",
     "output_type": "stream",
     "text": [
      "[{'layers': [1024, 512, 256], 'dropout': 0.2, 'optimizer_params': {'lr': 0.0005}}, {'layers': [1024, 512, 256, 128], 'dropout': 0.2, 'optimizer_params': {'lr': 0.001}}, {'layers': [1024, 512, 256, 128], 'dropout': 0.05, 'optimizer_params': {'lr': 0.0005}}, {'layers': [1024, 512, 256, 128], 'dropout': 0.1, 'optimizer_params': {'lr': 0.0005}}, {'layers': [1024, 512, 256], 'dropout': 0.1, 'optimizer_params': {'lr': 0.001}}]\n"
     ]
    }
   ],
   "source": [
    "import numpy as np\n",
    "from sklearn.model_selection import ParameterSampler\n",
    "import json\n",
    "\n",
    "param_grid = {'dropout':[0.05, 0.1,0.2,0.3], 'optimizer_params':[dict(lr=1.e-03),dict(lr=0.5e-03)], 'layers':[[1024,512,256,128],[1024,512,256]] }\n",
    "param_list = list(ParameterSampler(param_grid, n_iter=5))\n",
    "print(param_list)\n",
    "inp_dir='/users/nchernya/HHbbgg_ETH/bregression/notebooks/json/'\n",
    "for i,item in enumerate(param_list):\n",
    "    with open('%s/data_%i.json'%(inp_dir,i), 'w') as f:\n",
    "        json.dump(item, f)\n"
   ]
  },
  {
   "cell_type": "code",
   "execution_count": null,
   "metadata": {},
   "outputs": [],
   "source": []
  }
 ],
 "metadata": {
  "kernelspec": {
   "display_name": "Python 3",
   "language": "python",
   "name": "python3"
  },
  "language_info": {
   "codemirror_mode": {
    "name": "ipython",
    "version": 3
   },
   "file_extension": ".py",
   "mimetype": "text/x-python",
   "name": "python",
   "nbconvert_exporter": "python",
   "pygments_lexer": "ipython3",
   "version": "3.5.2"
  }
 },
 "nbformat": 4,
 "nbformat_minor": 2
}
