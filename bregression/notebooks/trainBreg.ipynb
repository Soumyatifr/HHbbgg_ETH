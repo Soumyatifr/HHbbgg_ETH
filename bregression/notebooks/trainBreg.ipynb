{
 "cells": [
  {
   "cell_type": "code",
   "execution_count": 8,
   "metadata": {
    "collapsed": false
   },
   "outputs": [
    {
     "name": "stdout",
     "output_type": "stream",
     "text": [
      "['', '/swshare/anaconda/lib/python2.7/site-packages/distribute-0.7.3-py2.7.egg', '/afs/cern.ch/sw/lcg/app/releases/ROOT/6.05.02/x86_64-slc6-gcc49-opt/root/lib', '/mnt/t3nfs01/data01/shome/nchernya/HHbbgg_ETH_devel/Training/python', '/swshare/anaconda/lib/python27.zip', '/swshare/anaconda/lib/python2.7', '/swshare/anaconda/lib/python2.7/plat-linux2', '/swshare/anaconda/lib/python2.7/lib-tk', '/swshare/anaconda/lib/python2.7/lib-old', '/swshare/anaconda/lib/python2.7/lib-dynload', '/mnt/t3nfs01/data01/shome/nchernya/.local/lib/python2.7/site-packages', '/swshare/anaconda/lib/python2.7/site-packages', '/swshare/anaconda/lib/python2.7/site-packages/Sphinx-1.4.6-py2.7.egg', '/swshare/anaconda/lib/python2.7/site-packages/setuptools-27.2.0-py2.7.egg', '/swshare/anaconda/lib/python2.7/site-packages/IPython/extensions', '/mnt/t3nfs01/data01/shome/nchernya/.ipython', '~/HHbbgg_ETH_devel/bregression/python', '~/HHbbgg_ETH_devel/bregression/python', '~/HHbbgg_ETH_devel/bregression/python', '~/HHbbgg_ETH_devel/Training/python', '~/HHbbgg_ETH_devel/Training/python', '~/HHbbgg_ETH_devel/bregression/python', '~/HHbbgg_ETH_devel/Training/python', '~/HHbbgg_ETH_devel/bregression/python']\n"
     ]
    },
    {
     "data": {
      "text/plain": [
       "<module 'postprocessing_utils' from '/mnt/t3nfs01/data01/shome/nchernya/HHbbgg_ETH_devel/Training/python/postprocessing_utils.pyc'>"
      ]
     },
     "execution_count": 8,
     "metadata": {},
     "output_type": "execute_result"
    }
   ],
   "source": [
    "import os\n",
    "import sys; sys.path.append(\"~/HHbbgg_ETH_devel/bregression/python\") # to load packages\n",
    "import training_utils as utils\n",
    "import numpy as np\n",
    "reload(utils)\n",
    "import preprocessing_utils as preprocessing\n",
    "reload(preprocessing)\n",
    "import plotting_utils as plotting\n",
    "reload(plotting)\n",
    "import optimization_utils as optimization\n",
    "reload(optimization)\n",
    "import postprocessing_utils as postprocessing\n",
    "reload(postprocessing)\n"
   ]
  },
  {
   "cell_type": "code",
   "execution_count": 6,
   "metadata": {
    "collapsed": false
   },
   "outputs": [
    {
     "name": "stdout",
     "output_type": "stream",
     "text": [
      "env: data=/mnt/t3nfs01/data01/shome/nchernya/HHbbgg_ETH_devel/root_files/heppy_05_10_2017\n",
      "using data file n.0: /mnt/t3nfs01/data01/shome/nchernya/HHbbgg_ETH_devel/root_files/heppy_05_10_2017/ttbar_RegressionPerJet.root\n",
      "using data file n.1: /mnt/t3nfs01/data01/shome/nchernya/HHbbgg_ETH_devel/root_files/heppy_05_10_2017/ttbar_RegressionPerJet.root\n"
     ]
    }
   ],
   "source": [
    "ntuples = 'heppy_05_10_2017'\n",
    "# \"%\" sign allows to interpret the rest as a system command\n",
    "%env data=$utils.IO.ldata$ntuples\n",
    "files = ! ls $data | sort -t_ -k 3 -n\n",
    "\n",
    "ttbar= [s for s in files if \"ttbar\" in s]\n",
    "\n",
    "utils.IO.add_data(ntuples,ttbar,1)\n",
    "\n",
    "for i in range(len(utils.IO.dataName)):        \n",
    "    print \"using data file n.\"+str(i)+\": \"+utils.IO.dataName[i]\n"
   ]
  },
  {
   "cell_type": "code",
   "execution_count": null,
   "metadata": {
    "collapsed": false
   },
   "outputs": [],
   "source": [
    "#use noexpand for root expressions, it needs this file https://github.com/ibab/root_pandas/blob/master/root_pandas/readwrite.py\n",
    "#noexpand:fabs(CosThetaStar_CS)\n",
    "branch_names = 'Jet_mcPt,Jet_pt,Jet_corr,Jet_neHEF,Jet_vtxMass'.split(\",\")\n",
    "\n",
    "\n",
    "branch_names = [c.strip() for c in branch_names]\n",
    "#branch_names = (b.replace(\" \", \"_\") for b in branch_names)\n",
    "#branch_names = list(b.replace(\"-\", \"_\") for b in branch_names)\n",
    "print branch_names\n",
    "\n",
    "import pandas as pd\n",
    "import root_pandas as rpd\n",
    "\n",
    "#preprocessing.set_signals_and_backgrounds(\"tree\",branch_names)\n",
    "preprocessing.set_data(\"tree\",branch_names)\n",
    "X_data,y_data=preprocessing.set_variables_data(branch_names)\n",
    "\n",
    "#relative weighting between components of one class is kept, all classes normalized to the same\n",
    "#weights_sig=preprocessing.weight_signal_with_resolution(weights_sig,y_sig)\n",
    "weights_sig=preprocessing.weight_signal_with_resolution(weights_sig,y_sig)\n",
    "weights_bkg,weights_sig=preprocessing.normalize_process_weights(weights_bkg,y_bkg,weights_sig,y_sig)\n",
    "\n",
    "X_bkg,y_bkg,weights_bkg = preprocessing.randomize(X_bkg,y_bkg,weights_bkg)\n",
    "X_sig,y_sig,weights_sig = preprocessing.randomize(X_sig,y_sig,weights_sig)\n",
    "\n",
    "print X_bkg.shape\n",
    "print y_bkg.shape\n",
    "#bbggTrees have by default signal and CR events, let's be sure that we clean it\n",
    "X_bkg,y_bkg,weights_bkg,X_sig,y_sig,weights_sig=preprocessing.clean_signal_events(X_bkg,y_bkg,weights_bkg,X_sig,y_sig,weights_sig)\n",
    "print X_bkg.shape\n",
    "print y_bkg.shape\n",
    "\n",
    "y_total_train = preprocessing.get_total_training_sample(y_sig,y_bkg).ravel()\n",
    "X_total_train = preprocessing.get_total_training_sample(X_sig,X_bkg)\n",
    "\n",
    "y_total_test = preprocessing.get_total_test_sample(y_sig,y_bkg).ravel()\n",
    "X_total_test = preprocessing.get_total_test_sample(X_sig,X_bkg)\n",
    "\n",
    "w_total_train = preprocessing.get_total_training_sample(weights_sig,weights_bkg).ravel()\n",
    "w_total_test = preprocessing.get_total_test_sample(weights_sig,weights_bkg).ravel()"
   ]
  },
  {
   "cell_type": "code",
   "execution_count": null,
   "metadata": {
    "collapsed": false
   },
   "outputs": [],
   "source": [
    "########final optimization with all fixed#######\n",
    "\n",
    "from sklearn.externals import joblib\n",
    "import xgboost as xgb\n",
    "\n",
    "clf = xgb.XGBClassifier(base_score=0.5, colsample_bylevel=1, colsample_bytree=1,\n",
    "       gamma=0, learning_rate=0.1, max_delta_step=0, max_depth=5,\n",
    "       min_child_weight=1e-05, missing=None, n_estimators=1500, nthread=20,\n",
    "       objective='binary:logistic', reg_alpha=0, reg_lambda=0.1,\n",
    "       scale_pos_weight=1, seed=0, silent=True, subsample=1)\n",
    "clf.fit(X_total_train,y_total_train, sample_weight=w_total_train)\n",
    "joblib.dump(clf, os.path.expanduser('~/HHbbgg_ETH_devel/Training/output_files/allMC_resWeighting_F_noDR_minDRGJet_dijetMass.pkl'), compress=9)"
   ]
  },
  {
   "cell_type": "code",
   "execution_count": null,
   "metadata": {
    "collapsed": false
   },
   "outputs": [],
   "source": [
    "import matplotlib.pyplot as plt\n",
    "\n",
    "plotting.plot_classifier_output(clf,X_total_train,X_total_test,y_total_train,y_total_test,outString=\"xbrg_resWeight_optimized_noDR_minDRGJet_dijetMass\")\n",
    "plt.show()\n",
    "fpr_gJets_2ndtest_2,tpr_gJets_2ndtest_2 = plotting.plot_roc_curve_multiclass_singleBkg(X_total_test,y_total_test,clf,-2,outString=\"xgbr_gJets_resWeighting_optimized_noDR_minDRGJet_withDR_dijetMass\",weights=w_total_test)\n",
    "plt.show()\n",
    "fpr_dipho_2ndtest_2,tpr_dipho_2ndtest_2 = plotting.plot_roc_curve_multiclass_singleBkg(X_total_test,y_total_test,clf,-1,outString=\"xgbr_diphotons_resWeighting_optimized_noDR_minDRGJet_withDR_dijetMass\",weights=w_total_test)\n",
    "plt.show()"
   ]
  },
  {
   "cell_type": "code",
   "execution_count": null,
   "metadata": {
    "collapsed": true
   },
   "outputs": [],
   "source": []
  }
 ],
 "metadata": {
  "anaconda-cloud": {},
  "kernelspec": {
   "display_name": "Python [conda root]",
   "language": "python",
   "name": "conda-root-py"
  },
  "language_info": {
   "codemirror_mode": {
    "name": "ipython",
    "version": 2
   },
   "file_extension": ".py",
   "mimetype": "text/x-python",
   "name": "python",
   "nbconvert_exporter": "python",
   "pygments_lexer": "ipython2",
   "version": "2.7.12"
  }
 },
 "nbformat": 4,
 "nbformat_minor": 1
}
