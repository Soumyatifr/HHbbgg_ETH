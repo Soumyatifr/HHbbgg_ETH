{
 "cells": [
  {
   "cell_type": "code",
   "execution_count": 1,
   "metadata": {
    "collapsed": false
   },
   "outputs": [
    {
     "data": {
      "application/javascript": [
       "require(['codemirror/mode/clike/clike'], function(Clike) { console.log('ROOTaaS - C++ CodeMirror module loaded'); });"
      ]
     },
     "metadata": {},
     "output_type": "display_data"
    },
    {
     "data": {
      "application/javascript": [
       "IPython.CodeCell.config_defaults.highlight_modes['magic_text/x-c++src'] = {'reg':[/^%%cpp/]};"
      ]
     },
     "metadata": {},
     "output_type": "display_data"
    },
    {
     "name": "stdout",
     "output_type": "stream",
     "text": [
      "Welcome to ROOTaaS 6.05/02\n"
     ]
    },
    {
     "data": {
      "text/plain": [
       "<module 'postprocessing_utils' from '/mnt/t3nfs01/data01/shome/nchernya/HHbbgg_ETH_devel/bregression/python/postprocessing_utils.pyc'>"
      ]
     },
     "execution_count": 1,
     "metadata": {},
     "output_type": "execute_result"
    }
   ],
   "source": [
    "import os\n",
    "import sys; sys.path.append(\"~/HHbbgg_ETH_devel/bregression/python\") # to load packages\n",
    "import training_utils as utils\n",
    "import numpy as np\n",
    "reload(utils)\n",
    "import preprocessing_utils as preprocessing\n",
    "reload(preprocessing)\n",
    "import plotting_utils as plotting\n",
    "reload(plotting)\n",
    "import optimization_utils as optimization\n",
    "reload(optimization)\n",
    "import postprocessing_utils as postprocessing\n",
    "reload(postprocessing)"
   ]
  },
  {
   "cell_type": "code",
   "execution_count": null,
   "metadata": {
    "collapsed": false,
    "scrolled": false
   },
   "outputs": [],
   "source": [
    "ntuples = 'heppy_05_10_2017'\n",
    "# \"%\" sign allows to interpret the rest as a system command\n",
    "%env data=$utils.IO.ldata$ntuples\n",
    "files = ! ls $data | sort -t_ -k 3 -n\n",
    "\n",
    "#ttbar= [s for s in files if \"20trees_safe\" in s] #large statistics\n",
    "ttbar= [s for s in files if \"ttbar_RegressionPerJet.root\" in s] # only limited statistics\n",
    "\n",
    "\n",
    "utils.IO.add_target(ntuples,ttbar,1)\n",
    "utils.IO.add_features(ntuples,ttbar,1)\n",
    "\n",
    "for i in range(len(utils.IO.targetName)):        \n",
    "    print \"using target file n.\"+str(i)+\": \"+utils.IO.targetName[i]\n",
    "for i in range(len(utils.IO.featuresName)):        \n",
    "    print \"using features file n.\"+str(i)+\": \"+utils.IO.featuresName[i]"
   ]
  },
  {
   "cell_type": "code",
   "execution_count": null,
   "metadata": {
    "collapsed": true
   },
   "outputs": [],
   "source": []
  },
  {
   "cell_type": "markdown",
   "metadata": {},
   "source": []
  },
  {
   "cell_type": "code",
   "execution_count": 15,
   "metadata": {
    "collapsed": false
   },
   "outputs": [
    {
     "name": "stdout",
     "output_type": "stream",
     "text": [
      "<type 'numpy.ndarray'>\n"
     ]
    }
   ],
   "source": [
    "#use noexpand for root expressions, it needs this file https://github.com/ibab/root_pandas/blob/master/root_pandas/readwrite.py\n",
    "#noexpand:fabs(CosThetaStar_CS)\n",
    "branch_names = 'Jet_pt,noexpand:Jet_mcPt/Jet_pt,Jet_eta,Jet_corr,Jet_mcPt,Jet_mcFlavour,dR,rho,Jet_mt,Jet_leadTrackPt,Jet_leptonPtRel,Jet_leptonPt,Jet_leptonDeltaR,Jet_neHEF,Jet_neEmEF,Jet_chMult,Jet_vtxPt,Jet_vtxMass,Jet_vtx3dL,Jet_vtxNtrk,Jet_vtx3deL'.split(\",\")\n",
    "\n",
    "features = 'Jet_pt,Jet_eta,Jet_corr,rho,Jet_mt,Jet_leadTrackPt,Jet_leptonPtRel,Jet_leptonPt,Jet_leptonDeltaR,Jet_neHEF,Jet_neEmEF,Jet_vtxPt,Jet_vtxMass,Jet_vtx3dL,Jet_vtxNtrk,Jet_vtx3deL'.split(\",\")\n",
    "#target = 'Jet_mcPt'.split(\",\")\n",
    "target = 'Jet_mcPt/Jet_pt'.split(\",\")\n",
    "#cuts='Jet_mcPt > 20 and dR < 0.35 and (Jet_mcFlavour==5 or Jet_mcFlavour==-5) and Jet_pt > 15'\n",
    "cuts='(Jet_mcPt > 20) & (Jet_mcFlavour==5 | Jet_mcFlavour==-5) & (Jet_pt > 15) & (Jet_eta<2.4 & Jet_eta>-2.4) & (dR < 0.4)'\n",
    "\n",
    "\n",
    "\n",
    "branch_names = [c.strip() for c in branch_names]\n",
    "features = [c.strip() for c in features]\n",
    "target = [c.strip() for c in target]\n",
    "\n",
    "#print branch_names\n",
    "\n",
    "import pandas as pd\n",
    "import root_pandas as rpd\n",
    "\n",
    "\n",
    "# type pandas DataFrame\n",
    "X_features = preprocessing.set_features(\"tree\",branch_names,features,cuts)\n",
    "X_target = preprocessing.set_target(\"tree\",branch_names,target,cuts)\n",
    "X_features,X_target=preprocessing.randomize_ft(X_features,X_target)\n",
    "\n",
    "\n",
    "\n",
    "#print max(X_features[:,1])\n",
    "#print pd.DataFrame(utils.IO.features_df[0],columns=['Jet_eta'])\n",
    "\n",
    "#now type is np.array\n",
    "X_train_target = preprocessing.get_training_sample(pd.DataFrame(X_target))\n",
    "X_train_features = preprocessing.get_training_sample(pd.DataFrame(X_features))\n",
    "\n",
    "X_test_target = preprocessing.get_test_sample(pd.DataFrame(X_target))\n",
    "X_test_features = preprocessing.get_test_sample(pd.DataFrame(X_features))\n",
    "\n",
    "#X_target_data =  pd.DataFrame(utils.IO.data_df[0],columns=['Jet_mcPt'])\n",
    "#X_data_target = utils.IO.data_df[0][['Jet_mcPt']]\n",
    "#new_jet_mcPt = jet_mcPt.query('Jet_mcPt > 30')\n",
    "\n",
    "from sklearn.externals import joblib\n",
    "import xgboost as xgb\n",
    "import matplotlib.pyplot as plt\n",
    "\n",
    "X_all = preprocessing.cut_region(\"tree\",branch_names,branch_names,cuts)\n",
    "\n",
    "pt_regions = '(Jet_mcPt<100),(Jet_mcPt>=100 & Jet_mcPt<300),(Jet_mcPt>=300 & Jet_mcPt<1000),(Jet_mcPt>1000)'.split(\",\")\n",
    "pt_regions_names = '100Jet_mcPt,100Jet_mcPt300,300Jet_mcPt1000,1000Jet_mcPt'.split(',')\n",
    "X_pt_region=[] # list of pandas DataFrame\n",
    "target_dist = []\n",
    "target_dist.append('noexpand:Jet_mcPt/Jet_pt')\n",
    "for region in pt_regions:\n",
    "    cuts_regions = cuts+'&'+region\n",
    "    X_pt_region.append(preprocessing.cut_region(\"tree\",branch_names,target_dist,cuts_regions))\n",
    "\n",
    "#plotting.plot_regions(X_pt_region,pt_regions_names)\n",
    "#plt.show()\n",
    "#log_names='Jet_pt,Jet_mcPt,Jet_mt,Jet_leadTrackPt,Jet_leptonPtRel,Jet_leptonPt,Jet_leptonDeltaR'.split(\",\")\n",
    "#plotting.plot_input_variables_reg(X_features,features,log_names)\n",
    "#plotting.plot_input_variables_reg(X_all,branch_names,log_names)\n",
    "#plt.show()\n",
    "\n",
    "\n",
    "\n",
    "\n"
   ]
  },
  {
   "cell_type": "code",
   "execution_count": null,
   "metadata": {
    "collapsed": false,
    "scrolled": true
   },
   "outputs": [],
   "source": [
    "########final optimization with all fixed#######\n",
    "\n",
    "from sklearn.externals import joblib\n",
    "import xgboost as xgb\n",
    "from sklearn.metrics import confusion_matrix, mean_squared_error\n",
    "from sklearn.grid_search import GridSearchCV\n",
    "\n",
    "\n",
    "#clf = xgb.XGBRegressor(base_score=0.5, colsample_bylevel=1, colsample_bytree=1,\n",
    "    #   gamma=0, learning_rate=0.1, max_delta_step=0, max_depth=9,\n",
    "    #   min_child_weight=1e-05, missing=None, n_estimators=1500, nthread=20,\n",
    "    #   objective='reg:linear', reg_alpha=0, reg_lambda=0.1,\n",
    "    #   scale_pos_weight=1, seed=0, silent=True, subsample=1)\n",
    "\n",
    "clf = xgb.XGBRegressor(objective='reg:linear')\n",
    "#param_grid = {'n_estimators': [100,500]}\n",
    "#grid_scores = optimization.optimize_parameters_gridCV_ref(xgb_model,X_train_features,X_train_target,X_test_features,X_test_target,param_grid)\n",
    "\n",
    "#clf = GridSearchCV(xgb_model, {'max_depth': [4,5,6]}, verbose=1,n_jobs==-1)\n",
    "clf.fit(X_train_features,X_train_target)\n",
    "#print clf.best_score_\n",
    "#print clf.best_params_\n",
    "#joblib.dump(clf, os.path.expanduser('~/HHbbgg_ETH_devel/bregression/output_files/regression_heppy_mcPt_cuts.pkl'), compress=9)\n",
    "predictions = clf.predict(X_test_features)\n",
    "#print predictions, predictions.shape\n",
    "actuals = X_test_target\n",
    "true = (actuals.as_matrix()).ravel()\n",
    "recoPt = (X_test_features[0].as_matrix()).ravel()\n",
    "##print true, true.shape\n",
    "#print true[0]/predictions[0]\n",
    "ratio = true/predictions\n",
    "ratio=1/ratio\n",
    "reco_ratio=true/recoPt\n",
    "reco_ratio=1./reco_ratio\n",
    "#print ratio.shape\n",
    "#print ratio\n",
    "\n",
    "\n",
    "#print(mean_squared_error(actuals, predictions))\n",
    "#print type(actuals), type(predictions)\n",
    "\n"
   ]
  },
  {
   "cell_type": "code",
   "execution_count": null,
   "metadata": {
    "collapsed": false,
    "scrolled": true
   },
   "outputs": [],
   "source": [
    "import matplotlib.pyplot as plt\n",
    "import training_utils as utils\n",
    "import ROOT\n",
    "from ROOT import gROOT\n",
    "#import plotting_utils as plotting\n",
    "#import training_utils as utils\n",
    "reload(utils)\n",
    "reload(plotting)\n",
    "\n",
    "regressed_pt = predictions*recoPt\n",
    "true_pt = true*recoPt\n",
    "\n",
    "#xgb.plot_importance(clf)\n",
    "#plt.show()\n",
    "#plt.savefig(utils.IO.plotFolder+\"importance1.pdf\")\n",
    "\n",
    "style=False\n",
    "#plotting.plot_rel_pt_diff(predictions,true,recoPt,style,100,)\n",
    "#plotting.plot_rel_pt_diff(regressed_pt,true_pt,recoPt,style,100,)\n"
   ]
  },
  {
   "cell_type": "code",
   "execution_count": null,
   "metadata": {
    "collapsed": false
   },
   "outputs": [],
   "source": [
    "cuts0='(Jet_mcPt > 20) & Jet_eta>-2.4) & (dR < 0.4)'\n",
    "cut2 = '& (Jet_eta > 1.2)'\n",
    "cutnew = cuts0+cut2\n",
    "print cutnew"
   ]
  },
  {
   "cell_type": "code",
   "execution_count": null,
   "metadata": {
    "collapsed": false
   },
   "outputs": [],
   "source": []
  },
  {
   "cell_type": "code",
   "execution_count": null,
   "metadata": {
    "collapsed": false
   },
   "outputs": [],
   "source": []
  },
  {
   "cell_type": "code",
   "execution_count": null,
   "metadata": {
    "collapsed": false
   },
   "outputs": [],
   "source": []
  },
  {
   "cell_type": "code",
   "execution_count": null,
   "metadata": {
    "collapsed": true
   },
   "outputs": [],
   "source": []
  }
 ],
 "metadata": {
  "anaconda-cloud": {},
  "kernelspec": {
   "display_name": "Python [conda root]",
   "language": "python",
   "name": "conda-root-py"
  },
  "language_info": {
   "codemirror_mode": {
    "name": "ipython",
    "version": 2
   },
   "file_extension": ".py",
   "mimetype": "text/x-python",
   "name": "python",
   "nbconvert_exporter": "python",
   "pygments_lexer": "ipython2",
   "version": "2.7.12"
  }
 },
 "nbformat": 4,
 "nbformat_minor": 1
}
