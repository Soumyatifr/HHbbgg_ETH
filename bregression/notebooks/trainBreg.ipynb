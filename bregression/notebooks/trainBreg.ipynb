{
 "cells": [
  {
   "cell_type": "code",
   "execution_count": 22,
   "metadata": {
    "collapsed": false
   },
   "outputs": [
    {
     "data": {
      "text/plain": [
       "<module 'postprocessing_utils' from '/mnt/t3nfs01/data01/shome/nchernya/HHbbgg_ETH_devel/bregression/python/postprocessing_utils.pyc'>"
      ]
     },
     "execution_count": 22,
     "metadata": {},
     "output_type": "execute_result"
    }
   ],
   "source": [
    "import os\n",
    "import sys; sys.path.append(\"~/HHbbgg_ETH_devel/bregression/python\") # to load packages\n",
    "import training_utils as utils\n",
    "import numpy as np\n",
    "reload(utils)\n",
    "import preprocessing_utils as preprocessing\n",
    "reload(preprocessing)\n",
    "import plotting_utils as plotting\n",
    "reload(plotting)\n",
    "import optimization_utils as optimization\n",
    "reload(optimization)\n",
    "import postprocessing_utils as postprocessing\n",
    "reload(postprocessing)\n"
   ]
  },
  {
   "cell_type": "code",
   "execution_count": 23,
   "metadata": {
    "collapsed": false
   },
   "outputs": [
    {
     "name": "stdout",
     "output_type": "stream",
     "text": [
      "env: data=/mnt/t3nfs01/data01/shome/nchernya/HHbbgg_ETH_devel/root_files/heppy_05_10_2017\n",
      "using target file n.0: /mnt/t3nfs01/data01/shome/nchernya/HHbbgg_ETH_devel/root_files/heppy_05_10_2017/ttbar_RegressionPerJet_heppyregression_20trees_safe.root\n",
      "using features file n.0: /mnt/t3nfs01/data01/shome/nchernya/HHbbgg_ETH_devel/root_files/heppy_05_10_2017/ttbar_RegressionPerJet_heppyregression_20trees_safe.root\n"
     ]
    }
   ],
   "source": [
    "ntuples = 'heppy_05_10_2017'\n",
    "# \"%\" sign allows to interpret the rest as a system command\n",
    "%env data=$utils.IO.ldata$ntuples\n",
    "files = ! ls $data | sort -t_ -k 3 -n\n",
    "\n",
    "ttbar= [s for s in files if \"20trees_safe\" in s]\n",
    "\n",
    "utils.IO.add_target(ntuples,ttbar,1)\n",
    "utils.IO.add_features(ntuples,ttbar,1)\n",
    "\n",
    "for i in range(len(utils.IO.targetName)):        \n",
    "    print \"using target file n.\"+str(i)+\": \"+utils.IO.targetName[i]\n",
    "for i in range(len(utils.IO.featuresName)):        \n",
    "    print \"using features file n.\"+str(i)+\": \"+utils.IO.featuresName[i]"
   ]
  },
  {
   "cell_type": "code",
   "execution_count": 24,
   "metadata": {
    "collapsed": false
   },
   "outputs": [
    {
     "name": "stdout",
     "output_type": "stream",
     "text": [
      "['Jet_pt', 'Jet_mcPt', 'Jet_mcFlavour', 'dR', 'nPVs', 'Jet_eta', 'Jet_mt', 'Jet_leadTrackPt', 'Jet_leptonPtRel', 'Jet_leptonPt', 'Jet_leptonDeltaR', 'Jet_neHEF', 'Jet_neEmEF', 'Jet_chMult', 'Jet_vtxPt', 'Jet_vtxMass', 'Jet_vtx3dL', 'Jet_vtxNtrk', 'Jet_vtx3deL']\n",
      "1657752\n"
     ]
    }
   ],
   "source": [
    "#use noexpand for root expressions, it needs this file https://github.com/ibab/root_pandas/blob/master/root_pandas/readwrite.py\n",
    "#noexpand:fabs(CosThetaStar_CS)\n",
    "branch_names = 'Jet_pt,Jet_mcPt,Jet_mcFlavour,dR,nPVs,Jet_eta,Jet_mt,Jet_leadTrackPt,Jet_leptonPtRel,Jet_leptonPt,Jet_leptonDeltaR,Jet_neHEF,Jet_neEmEF,Jet_chMult,Jet_vtxPt,Jet_vtxMass,Jet_vtx3dL,Jet_vtxNtrk,Jet_vtx3deL'.split(\",\")\n",
    "\n",
    "features = 'Jet_pt,nPVs,Jet_eta,Jet_mt,Jet_leadTrackPt,Jet_leptonPtRel,Jet_leptonPt,Jet_leptonDeltaR,Jet_neHEF,Jet_neEmEF,Jet_chMult,Jet_vtxPt,Jet_vtxMass,Jet_vtx3dL,Jet_vtxNtrk,Jet_vtx3deL'.split(\",\")\n",
    "target = 'Jet_mcPt'.split(\",\")\n",
    "#cuts='Jet_mcPt > 15 and dR < 0.35 and (Jet_mcFlavour==5 or Jet_mcFlavour==-5)'\n",
    "cuts='Jet_mcPt > 15 and (Jet_mcFlavour==5 or Jet_mcFlavour==-5)'\n",
    "\n",
    "\n",
    "\n",
    "\n",
    "branch_names = [c.strip() for c in branch_names]\n",
    "features = [c.strip() for c in features]\n",
    "target = [c.strip() for c in target]\n",
    "\n",
    "print branch_names\n",
    "\n",
    "import pandas as pd\n",
    "import root_pandas as rpd\n",
    "\n",
    "#preprocessing.set_signals_and_backgrounds(\"tree\",branch_names)\n",
    "X_features = preprocessing.set_features(\"tree\",branch_names,features,cuts)\n",
    "X_target = preprocessing.set_target(\"tree\",branch_names,target,cuts)\n",
    "#print len(X_features),len(X_target)\n",
    "X_features,X_target=preprocessing.randomize_ft(X_features,X_target)\n",
    "#print X_features,X_target\n",
    "\n",
    "#print (X_features).size, len(X_features)\n",
    "print  len(X_target)\n",
    "\n",
    "X_train_target = preprocessing.get_training_sample(pd.DataFrame(X_target))\n",
    "X_train_features = preprocessing.get_training_sample(pd.DataFrame(X_features))\n",
    "\n",
    "X_test_target = preprocessing.get_test_sample(pd.DataFrame(X_target))\n",
    "X_test_features = preprocessing.get_test_sample(pd.DataFrame(X_features))\n",
    "\n",
    "\n",
    "#print X_train_features, X_test_features\n",
    "#print type(X_train_target)\n",
    "\n",
    "#X_train_target,X_train_features = preprocessing.get_total_training_sample(pd.DataFrame(X_target),pd.DataFrame(X_features))\n",
    "#X_test_target,X_test_features = preprocessing.get_total_test_sample(pd.DataFrame(X_target),pd.DataFrame(X_features))\n",
    "\n",
    "\n",
    "#X_target_data =  pd.DataFrame(utils.IO.data_df[0],columns=['Jet_mcPt'])\n",
    "#print X_target_data\n",
    "#X_data_target = utils.IO.data_df[0][['Jet_mcPt']]\n",
    "#print X_data_target.shape\n",
    "#new_jet_mcPt = jet_mcPt.query('Jet_mcPt > 30')\n",
    "#print new_jet_mcPt\n",
    "#print type(jet_mcPt)\n",
    "\n",
    "from sklearn.externals import joblib\n",
    "import xgboost as xgb\n",
    "import matplotlib.pyplot as plt\n",
    "\n",
    "#log_names='Jet_mcPt,Jet_pt'.split(\",\")\n",
    "#plotting.plot_input_variables_reg(X_data,branch_names,log_names)\n",
    "#plt.show()\n",
    "\n",
    "#X_train_features = preprocessing.get_training_sample(pd.DataFrame(X_data))\n",
    "#X_test = preprocessing.get_test_sample(pd.DataFrame(X_data))\n"
   ]
  },
  {
   "cell_type": "code",
   "execution_count": 25,
   "metadata": {
    "collapsed": false
   },
   "outputs": [
    {
     "name": "stdout",
     "output_type": "stream",
     "text": [
      "[  45.50586319   28.92138672  109.1541748  ...,   73.09788513   42.20330429\n",
      "  176.39428711] (828876,)\n",
      "[  41.90373993   22.83349991  113.97923279 ...,   72.86483765   88.94770813\n",
      "  165.85812378] (828876,)\n",
      "0.920843\n",
      "(828876,)\n",
      "[ 1.08596182  1.26662087  0.95766717 ...,  1.00319839  0.47447324\n",
      "  1.0635252 ]\n"
     ]
    }
   ],
   "source": [
    "########final optimization with all fixed#######\n",
    "\n",
    "from sklearn.externals import joblib\n",
    "import xgboost as xgb\n",
    "from sklearn.metrics import confusion_matrix, mean_squared_error\n",
    "\n",
    "clf = xgb.XGBRegressor(base_score=0.5, colsample_bylevel=1, colsample_bytree=1,\n",
    "       gamma=0, learning_rate=0.1, max_delta_step=0, max_depth=5,\n",
    "       min_child_weight=1e-05, missing=None, n_estimators=1500, nthread=20,\n",
    "       objective='reg:linear', reg_alpha=0, reg_lambda=0.1,\n",
    "       scale_pos_weight=1, seed=0, silent=True, subsample=1)\n",
    "\n",
    "#clf = xgb.XGBRegressor(objective='reg:linear')\n",
    "clf.fit(X_train_features,X_train_target)\n",
    "joblib.dump(clf, os.path.expanduser('~/HHbbgg_ETH_devel/bregression/output_files/regression_heppy_mcPt.pkl'), compress=9)\n",
    "predictions = clf.predict(X_test_features)\n",
    "print predictions, predictions.shape\n",
    "actuals = X_test_target\n",
    "true = (actuals.as_matrix()).ravel()\n",
    "recoPt = (X_test_features[0].as_matrix()).ravel()\n",
    "print true, true.shape\n",
    "print true[0]/predictions[0]\n",
    "ratio = true/predictions\n",
    "ratio=1/ratio\n",
    "reco_ratio=true/recoPt\n",
    "reco_ratio=1./reco_ratio\n",
    "print ratio.shape\n",
    "print ratio\n",
    "\n",
    "\n",
    "#print(mean_squared_error(actuals, predictions))\n",
    "#print type(actuals), type(predictions)\n",
    "\n"
   ]
  },
  {
   "cell_type": "code",
   "execution_count": 27,
   "metadata": {
    "collapsed": false
   },
   "outputs": [
    {
     "name": "stdout",
     "output_type": "stream",
     "text": [
      "828876\n"
     ]
    },
    {
     "data": {
      "image/png": "[encoded data removed]",
      "text/plain": [
       "<matplotlib.figure.Figure at 0x7fcb4c4369d0>"
      ]
     },
     "metadata": {},
     "output_type": "display_data"
    },
    {
     "name": "stderr",
     "output_type": "stream",
     "text": [
      "TCanvas::Constructor:0: RuntimeWarning: Deleting canvas with same name: c1\n",
      "TROOT::Append:0: RuntimeWarning: Replacing existing TH1: ratio (Potential memory leak).\n",
      "TROOT::Append:0: RuntimeWarning: Replacing existing TH1: reco_ratio (Potential memory leak).\n"
     ]
    },
    {
     "name": "stdout",
     "output_type": "stream",
     "text": [
      "1.04351194938 0.943987686513\n",
      "0.208388820082 0.204853604043\n"
     ]
    },
    {
     "name": "stderr",
     "output_type": "stream",
     "text": [
      "TCanvas::Constructor:0: RuntimeWarning: Deleting canvas with same name: c2\n",
      "TROOT::Append:0: RuntimeWarning: Replacing existing TH1: htrue (Potential memory leak).\n",
      "TROOT::Append:0: RuntimeWarning: Replacing existing TH1: hpred (Potential memory leak).\n",
      "Info in <TCanvas::Print>: png file test_mcPT.png has been created\n",
      "Info in <TCanvas::Print>: png file pred_true_mcPt.png has been created\n"
     ]
    }
   ],
   "source": [
    "import matplotlib.pyplot as plt\n",
    "import ROOT\n",
    "from ROOT import *\n",
    "\n",
    "\n",
    "print len(ratio)\n",
    "n, bins, patches = plt.hist(ratio, 40, range=(0,4),normed=0, facecolor='g', alpha=0.75,label='regressed')\n",
    "n2, bins2, patches2 = plt.hist(reco_ratio, 40, range=(0,4),normed=0, facecolor='r', alpha=0.75,label='reco')\n",
    "\n",
    "plt.grid(True)\n",
    "plt.ylabel('Events')\n",
    "plt.xlabel('$p_{T}/p_T true$')\n",
    "\n",
    "plt.show()\n",
    "\n",
    "\n",
    "\n",
    "gROOT.Reset()\n",
    "c1 = TCanvas( 'c1', '', 200, 10, 700, 500 )\n",
    "c1.SetGridx()\n",
    "c1.SetGridy()\n",
    "\n",
    "\n",
    "\n",
    "\n",
    "hratio = TH1D(\"ratio\", \"ratio\", 400, 0, 4)\n",
    "for i in xrange(len(ratio)): \n",
    "    hratio.Fill(ratio[i])\n",
    "hreco_ratio = TH1D(\"reco_ratio\", \"reco_ratio\", 400, 0, 4)\n",
    "for i in xrange(len(reco_ratio)): \n",
    "    hreco_ratio.Fill(reco_ratio[i]) \n",
    "hratio.Draw()\n",
    "hreco_ratio.Draw(\"same\")\n",
    "c1.Update()\n",
    "c1.SaveAs(\"test_mcPT.png\")\n",
    "print hratio.GetMean(), hreco_ratio.GetMean()\n",
    "print hratio.GetRMS(), hreco_ratio.GetRMS()\n",
    "\n",
    "c2 = TCanvas( 'c2', '', 200, 10, 700, 500 )\n",
    "c2.SetGridx()\n",
    "c2.SetGridy()\n",
    "htrue = TH1D(\"htrue\", \"htrue\", 50, 0, 400)\n",
    "for i in xrange(len(true)): \n",
    "    htrue.Fill(recoPt[i])\n",
    "\n",
    "hpred = TH1D(\"hpred\", \"hpred\", 50, 0, 400)\n",
    "for i in xrange(len(predictions)): \n",
    "    hpred.Fill(predictions[i])    \n",
    "    \n",
    "hpred.Divide(htrue)    \n",
    "hpred.Draw()\n",
    "c2.SaveAs('pred_true_mcPt.png')\n",
    "\n",
    "#plotting.plot_classifier_output(clf,X_total_train,X_total_test,y_total_train,y_total_test,outString=\"xbrg_resWeight_optimized_noDR_minDRGJet_dijetMass\")\n",
    "#plt.show()\n",
    "#fpr_gJets_2ndtest_2,tpr_gJets_2ndtest_2 = plotting.plot_roc_curve_multiclass_singleBkg(X_total_test,y_total_test,clf,-2,outString=\"xgbr_gJets_resWeighting_optimized_noDR_minDRGJet_withDR_dijetMass\",weights=w_total_test)\n",
    "#plt.show()\n",
    "#fpr_dipho_2ndtest_2,tpr_dipho_2ndtest_2 = plotting.plot_roc_curve_multiclass_singleBkg(X_total_test,y_total_test,clf,-1,outString=\"xgbr_diphotons_resWeighting_optimized_noDR_minDRGJet_withDR_dijetMass\",weights=w_total_test)\n",
    "#plt.show()"
   ]
  },
  {
   "cell_type": "code",
   "execution_count": 9,
   "metadata": {
    "collapsed": false
   },
   "outputs": [
    {
     "name": "stdout",
     "output_type": "stream",
     "text": [
      "[ 0.03]\n"
     ]
    }
   ],
   "source": []
  },
  {
   "cell_type": "code",
   "execution_count": null,
   "metadata": {
    "collapsed": true
   },
   "outputs": [],
   "source": []
  }
 ],
 "metadata": {
  "anaconda-cloud": {},
  "kernelspec": {
   "display_name": "Python [conda root]",
   "language": "python",
   "name": "conda-root-py"
  },
  "language_info": {
   "codemirror_mode": {
    "name": "ipython",
    "version": 2
   },
   "file_extension": ".py",
   "mimetype": "text/x-python",
   "name": "python",
   "nbconvert_exporter": "python",
   "pygments_lexer": "ipython2",
   "version": "2.7.12"
  }
 },
 "nbformat": 4,
 "nbformat_minor": 1
}
