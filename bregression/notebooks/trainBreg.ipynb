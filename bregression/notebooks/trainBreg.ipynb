{
 "cells": [
  {
   "cell_type": "code",
   "execution_count": 66,
   "metadata": {
    "collapsed": false
   },
   "outputs": [
    {
     "data": {
      "text/plain": [
       "<module 'postprocessing_utils' from '/mnt/t3nfs01/data01/shome/nchernya/HHbbgg_ETH_devel/bregression/python/postprocessing_utils.pyc'>"
      ]
     },
     "execution_count": 66,
     "metadata": {},
     "output_type": "execute_result"
    }
   ],
   "source": [
    "import os\n",
    "import sys; sys.path.append(\"~/HHbbgg_ETH_devel/bregression/python\") # to load packages\n",
    "import training_utils as utils\n",
    "import numpy as np\n",
    "reload(utils)\n",
    "import preprocessing_utils as preprocessing\n",
    "reload(preprocessing)\n",
    "import plotting_utils as plotting\n",
    "reload(plotting)\n",
    "import optimization_utils as optimization\n",
    "reload(optimization)\n",
    "import postprocessing_utils as postprocessing\n",
    "reload(postprocessing)\n"
   ]
  },
  {
   "cell_type": "code",
   "execution_count": 67,
   "metadata": {
    "collapsed": false
   },
   "outputs": [
    {
     "name": "stdout",
     "output_type": "stream",
     "text": [
      "env: data=/mnt/t3nfs01/data01/shome/nchernya/HHbbgg_ETH_devel/root_files/heppy_05_10_2017\n",
      "using target file n.0: /mnt/t3nfs01/data01/shome/nchernya/HHbbgg_ETH_devel/root_files/heppy_05_10_2017/ttbar_RegressionPerJet.root\n",
      "using features file n.0: /mnt/t3nfs01/data01/shome/nchernya/HHbbgg_ETH_devel/root_files/heppy_05_10_2017/ttbar_RegressionPerJet.root\n"
     ]
    }
   ],
   "source": [
    "ntuples = 'heppy_05_10_2017'\n",
    "# \"%\" sign allows to interpret the rest as a system command\n",
    "%env data=$utils.IO.ldata$ntuples\n",
    "files = ! ls $data | sort -t_ -k 3 -n\n",
    "\n",
    "ttbar= [s for s in files if \"ttbar\" in s]\n",
    "\n",
    "utils.IO.add_target(ntuples,ttbar,1)\n",
    "utils.IO.add_features(ntuples,ttbar,1)\n",
    "\n",
    "for i in range(len(utils.IO.targetName)):        \n",
    "    print \"using target file n.\"+str(i)+\": \"+utils.IO.targetName[i]\n",
    "for i in range(len(utils.IO.featuresName)):        \n",
    "    print \"using features file n.\"+str(i)+\": \"+utils.IO.featuresName[i]"
   ]
  },
  {
   "cell_type": "code",
   "execution_count": 117,
   "metadata": {
    "collapsed": false
   },
   "outputs": [
    {
     "name": "stdout",
     "output_type": "stream",
     "text": [
      "['Jet_pt', 'Jet_mcPtq', 'Jet_mcFlavour', 'dR', 'rho', 'Jet_eta', 'Jet_mt', 'Jet_leadTrackPt', 'Jet_leptonPtRel', 'Jet_leptonPt', 'Jet_leptonDeltaR', 'Jet_neHEF', 'Jet_chMult', 'Jet_vtxPt', 'Jet_vtxMass', 'Jet_vtx3dL', 'Jet_vtxNtrk', 'Jet_vtx3deL']\n",
      "              0         1        2          3         4        5         6   \\\n",
      "40014  188.74246  11.43788  0.65540  192.52634  35.71875  5.18568  35.71905   \n",
      "40015   77.14336  10.20786 -0.01047   78.62681  16.62500  0.00000   0.00000   \n",
      "\n",
      "            7        8    9         10       11       12   13        14  \n",
      "40014  0.15105  0.06573  0.0  45.28666  1.48086  1.90717  2.0  54.97556  \n",
      "40015  0.00000  0.06252  0.0  17.07306  1.90796  0.09940  2.0   3.49792  \n"
     ]
    }
   ],
   "source": [
    "#use noexpand for root expressions, it needs this file https://github.com/ibab/root_pandas/blob/master/root_pandas/readwrite.py\n",
    "#noexpand:fabs(CosThetaStar_CS)\n",
    "branch_names = 'Jet_pt,Jet_mcPtq,Jet_mcFlavour,dR,rho,Jet_eta,Jet_mt,Jet_leadTrackPt,Jet_leptonPtRel,Jet_leptonPt,Jet_leptonDeltaR,Jet_neHEF,Jet_chMult,Jet_vtxPt,Jet_vtxMass,Jet_vtx3dL,Jet_vtxNtrk,Jet_vtx3deL'.split(\",\")\n",
    "\n",
    "features = 'Jet_pt,rho,Jet_eta,Jet_mt,Jet_leadTrackPt,Jet_leptonPtRel,Jet_leptonPt,Jet_leptonDeltaR,Jet_neHEF,Jet_chMult,Jet_vtxPt,Jet_vtxMass,Jet_vtx3dL,Jet_vtxNtrk,Jet_vtx3deL'.split(\",\")\n",
    "target = 'Jet_mcPtq'.split(\",\")\n",
    "cuts='Jet_mcPtq > 15 and dR < 0.35 and (Jet_mcFlavour==5 or Jet_mcFlavour==-5)'\n",
    "\n",
    "branch_names = [c.strip() for c in branch_names]\n",
    "features = [c.strip() for c in features]\n",
    "target = [c.strip() for c in target]\n",
    "\n",
    "print branch_names\n",
    "\n",
    "import pandas as pd\n",
    "import root_pandas as rpd\n",
    "\n",
    "#preprocessing.set_signals_and_backgrounds(\"tree\",branch_names)\n",
    "X_features = preprocessing.set_features(\"tree\",branch_names,features,cuts)\n",
    "X_target = preprocessing.set_target(\"tree\",branch_names,target,cuts)\n",
    "#print len(X_features),len(X_target)\n",
    "X_features,X_target=preprocessing.randomize_ft(X_features,X_target)\n",
    "#print X_features,X_target\n",
    "\n",
    "#print (X_features).size, len(X_features)\n",
    "#print (X_target).size, len(X_target)\n",
    "\n",
    "X_train_target = preprocessing.get_training_sample(pd.DataFrame(X_target))\n",
    "X_train_features = preprocessing.get_training_sample(pd.DataFrame(X_features))\n",
    "\n",
    "X_test_target = preprocessing.get_test_sample(pd.DataFrame(X_target))\n",
    "X_test_features = preprocessing.get_test_sample(pd.DataFrame(X_features))\n",
    "\n",
    "\n",
    "#print X_train_features, X_test_features\n",
    "#print type(X_train_target)\n",
    "\n",
    "#X_train_target,X_train_features = preprocessing.get_total_training_sample(pd.DataFrame(X_target),pd.DataFrame(X_features))\n",
    "#X_test_target,X_test_features = preprocessing.get_total_test_sample(pd.DataFrame(X_target),pd.DataFrame(X_features))\n",
    "\n",
    "\n",
    "#X_target_data =  pd.DataFrame(utils.IO.data_df[0],columns=['Jet_mcPt'])\n",
    "#print X_target_data\n",
    "#X_data_target = utils.IO.data_df[0][['Jet_mcPt']]\n",
    "#print X_data_target.shape\n",
    "#new_jet_mcPt = jet_mcPt.query('Jet_mcPt > 30')\n",
    "#print new_jet_mcPt\n",
    "#print type(jet_mcPt)\n",
    "\n",
    "from sklearn.externals import joblib\n",
    "import xgboost as xgb\n",
    "import matplotlib.pyplot as plt\n",
    "\n",
    "#log_names='Jet_mcPt,Jet_pt'.split(\",\")\n",
    "#plotting.plot_input_variables_reg(X_data,branch_names,log_names)\n",
    "#plt.show()\n",
    "\n",
    "#X_train_features = preprocessing.get_training_sample(pd.DataFrame(X_data))\n",
    "#X_test = preprocessing.get_test_sample(pd.DataFrame(X_data))\n"
   ]
  },
  {
   "cell_type": "code",
   "execution_count": 124,
   "metadata": {
    "collapsed": false
   },
   "outputs": [
    {
     "name": "stdout",
     "output_type": "stream",
     "text": [
      "[ 135.19285583   77.44171143   71.61140442 ...,   56.21190643   42.933918\n",
      "  151.31903076] (40015,)\n",
      "[ 103.93473053   83.97959137   50.51187897 ...,   60.43241882   34.2564888\n",
      "  140.76576233] (40015,)\n",
      "0.768789\n",
      "(40015,)\n",
      "[ 1.30074763  0.92214924  1.41771412 ...,  0.93016148  1.2533077\n",
      "  1.07497036]\n"
     ]
    }
   ],
   "source": [
    "########final optimization with all fixed#######\n",
    "\n",
    "from sklearn.externals import joblib\n",
    "import xgboost as xgb\n",
    "from sklearn.metrics import confusion_matrix, mean_squared_error\n",
    "\n",
    "clf = xgb.XGBRegressor(base_score=0.5, colsample_bylevel=1, colsample_bytree=1,\n",
    "       gamma=0, learning_rate=0.1, max_delta_step=0, max_depth=5,\n",
    "       min_child_weight=1e-05, missing=None, n_estimators=1500, nthread=20,\n",
    "       objective='reg:linear', reg_alpha=0, reg_lambda=0.1,\n",
    "       scale_pos_weight=1, seed=0, silent=True, subsample=1)\n",
    "clf.fit(X_train_features,X_train_target)\n",
    "joblib.dump(clf, os.path.expanduser('~/HHbbgg_ETH_devel/bregression/output_files/regression_heppy_01.pkl'), compress=9)\n",
    "predictions = clf.predict(X_test_features)\n",
    "print predictions, predictions.shape\n",
    "actuals = X_test_target\n",
    "true = (actuals.as_matrix()).ravel()\n",
    "recoPt = (X_test_features[0].as_matrix()).ravel()\n",
    "print true, true.shape\n",
    "print true[0]/predictions[0]\n",
    "ratio = true/predictions\n",
    "ratio=1/ratio\n",
    "reco_ratio=true/recoPt\n",
    "reco_ratio=1./reco_ratio\n",
    "print ratio.shape\n",
    "print ratio\n",
    "\n",
    "\n",
    "#print(mean_squared_error(actuals, predictions))\n",
    "#print type(actuals), type(predictions)\n",
    "\n"
   ]
  },
  {
   "cell_type": "code",
   "execution_count": 149,
   "metadata": {
    "collapsed": false
   },
   "outputs": [
    {
     "name": "stdout",
     "output_type": "stream",
     "text": [
      "hello\n",
      "<type 'numpy.ndarray'>\n"
     ]
    },
    {
     "data": {
      "image/png": "[encoded data removed]",
      "text/plain": [
       "<matplotlib.figure.Figure at 0x7f4fce31f710>"
      ]
     },
     "metadata": {},
     "output_type": "display_data"
    },
    {
     "name": "stdout",
     "output_type": "stream",
     "text": [
      "1.0409381152 0.91878612236\n"
     ]
    },
    {
     "name": "stderr",
     "output_type": "stream",
     "text": [
      "TCanvas::Constructor:0: RuntimeWarning: Deleting canvas with same name: c1\n",
      "TROOT::Append:0: RuntimeWarning: Replacing existing TH1: ratio (Potential memory leak).\n",
      "TROOT::Append:0: RuntimeWarning: Replacing existing TH1: reco_ratio (Potential memory leak).\n",
      "Info in <TCanvas::Print>: png file test.png has been created\n"
     ]
    }
   ],
   "source": [
    "import matplotlib.pyplot as plt\n",
    "import ROOT\n",
    "from ROOT import *\n",
    "\n",
    "print 'hello'\n",
    "fake_ratio=ratio-0.5\n",
    "print type(ratio)\n",
    "n, bins, patches = plt.hist(ratio, 50, range=(0,2),normed=0, facecolor='g', alpha=0.75,label='regressed')\n",
    "n2, bins2, patches2 = plt.hist(reco_ratio, 50, range=(0,2),normed=0, facecolor='r', alpha=0.75,label='reco')\n",
    "\n",
    "plt.grid(True)\n",
    "plt.ylabel('Events')\n",
    "plt.xlabel('$p_{T}/p_T true$')\n",
    "\n",
    "plt.show()\n",
    "\n",
    "\n",
    "gROOT.Reset()\n",
    "c1 = TCanvas( 'c1', 'Example with Formula', 200, 10, 700, 500 )\n",
    "c1.SetGridx()\n",
    "c1.SetGridy()\n",
    "\n",
    "hratio = TH1D(\"ratio\", \"ratio\", 50, 0, 2)\n",
    "for i in xrange(len(ratio)): \n",
    "    hratio.Fill(ratio[i])\n",
    "hreco_ratio = TH1D(\"reco_ratio\", \"reco_ratio\", 50, 0, 2)\n",
    "for i in xrange(len(reco_ratio)): \n",
    "    hreco_ratio.Fill(reco_ratio[i]) \n",
    "hratio.Draw()\n",
    "hreco_ratio.Draw(\"same\")\n",
    "c1.Update()\n",
    "c1.SaveAs(\"test.png\")\n",
    "print hratio.GetMean(), hreco_ratio.GetMean()\n",
    "\n",
    "#plotting.plot_classifier_output(clf,X_total_train,X_total_test,y_total_train,y_total_test,outString=\"xbrg_resWeight_optimized_noDR_minDRGJet_dijetMass\")\n",
    "#plt.show()\n",
    "#fpr_gJets_2ndtest_2,tpr_gJets_2ndtest_2 = plotting.plot_roc_curve_multiclass_singleBkg(X_total_test,y_total_test,clf,-2,outString=\"xgbr_gJets_resWeighting_optimized_noDR_minDRGJet_withDR_dijetMass\",weights=w_total_test)\n",
    "#plt.show()\n",
    "#fpr_dipho_2ndtest_2,tpr_dipho_2ndtest_2 = plotting.plot_roc_curve_multiclass_singleBkg(X_total_test,y_total_test,clf,-1,outString=\"xgbr_diphotons_resWeighting_optimized_noDR_minDRGJet_withDR_dijetMass\",weights=w_total_test)\n",
    "#plt.show()"
   ]
  },
  {
   "cell_type": "code",
   "execution_count": 9,
   "metadata": {
    "collapsed": false
   },
   "outputs": [
    {
     "name": "stdout",
     "output_type": "stream",
     "text": [
      "[ 0.03]\n"
     ]
    }
   ],
   "source": []
  },
  {
   "cell_type": "code",
   "execution_count": null,
   "metadata": {
    "collapsed": true
   },
   "outputs": [],
   "source": []
  }
 ],
 "metadata": {
  "anaconda-cloud": {},
  "kernelspec": {
   "display_name": "Python [conda root]",
   "language": "python",
   "name": "conda-root-py"
  },
  "language_info": {
   "codemirror_mode": {
    "name": "ipython",
    "version": 2
   },
   "file_extension": ".py",
   "mimetype": "text/x-python",
   "name": "python",
   "nbconvert_exporter": "python",
   "pygments_lexer": "ipython2",
   "version": "2.7.12"
  }
 },
 "nbformat": 4,
 "nbformat_minor": 1
}
