{
 "cells": [
  {
   "cell_type": "code",
   "execution_count": 9,
   "metadata": {
    "collapsed": false
   },
   "outputs": [
    {
     "data": {
      "text/plain": [
       "<module 'postprocessing_utils' from '/mnt/t3nfs01/data01/shome/nchernya/HHbbgg_ETH_devel/bregression/python/postprocessing_utils.pyc'>"
      ]
     },
     "execution_count": 9,
     "metadata": {},
     "output_type": "execute_result"
    }
   ],
   "source": [
    "import os\n",
    "import sys; sys.path.append(\"~/HHbbgg_ETH_devel/bregression/python\") # to load packages\n",
    "import training_utils as utils\n",
    "import numpy as np\n",
    "reload(utils)\n",
    "import preprocessing_utils as preprocessing\n",
    "reload(preprocessing)\n",
    "import plotting_utils as plotting\n",
    "reload(plotting)\n",
    "import optimization_utils as optimization\n",
    "reload(optimization)\n",
    "import postprocessing_utils as postprocessing\n",
    "reload(postprocessing)"
   ]
  },
  {
   "cell_type": "code",
   "execution_count": 10,
   "metadata": {
    "collapsed": false
   },
   "outputs": [
    {
     "name": "stdout",
     "output_type": "stream",
     "text": [
      "env: data=/mnt/t3nfs01/data01/shome/nchernya/HHbbgg_ETH_devel/root_files/heppy_05_10_2017\n",
      "using target file n.0: /mnt/t3nfs01/data01/shome/nchernya/HHbbgg_ETH_devel/root_files/heppy_05_10_2017/ttbar_RegressionPerJet_heppy_forTesting.root\n",
      "using features file n.0: /mnt/t3nfs01/data01/shome/nchernya/HHbbgg_ETH_devel/root_files/heppy_05_10_2017/ttbar_RegressionPerJet_heppy_forTesting.root\n"
     ]
    }
   ],
   "source": [
    "ntuples = 'heppy_05_10_2017'\n",
    "# \"%\" sign allows to interpret the rest as a system command\n",
    "%env data=$utils.IO.ldata$ntuples\n",
    "files = ! ls $data | sort -t_ -k 3 -n\n",
    "\n",
    "ttbar= [s for s in files if \"forTesting\" in s] #use different ntuple to test the result\n",
    "#ttbar= [s for s in files if \"ttbar_RegressionPerJet.root\" in s] # only limited statistics\n",
    "\n",
    "\n",
    "utils.IO.add_target(ntuples,ttbar,1)\n",
    "utils.IO.add_features(ntuples,ttbar,1)\n",
    "\n",
    "for i in range(len(utils.IO.targetName)):        \n",
    "    print \"using target file n.\"+str(i)+\": \"+utils.IO.targetName[i]\n",
    "for i in range(len(utils.IO.featuresName)):        \n",
    "    print \"using features file n.\"+str(i)+\": \"+utils.IO.featuresName[i]"
   ]
  },
  {
   "cell_type": "code",
   "execution_count": 11,
   "metadata": {
    "collapsed": false
   },
   "outputs": [
    {
     "name": "stdout",
     "output_type": "stream",
     "text": [
      "2450136\n"
     ]
    }
   ],
   "source": [
    "import pandas as pd\n",
    "import root_pandas as rpd\n",
    "\n",
    "branch_names = 'Jet_pt,noexpand:Jet_mcPt/Jet_pt,Jet_pt_reg,Jet_eta,Jet_corr,Jet_mcPt,Jet_mcFlavour,dR,rho,Jet_mt,Jet_leadTrackPt,Jet_leptonPtRel,Jet_leptonPt,Jet_leptonDeltaR,Jet_neHEF,Jet_neEmEF,Jet_chMult,Jet_vtxPt,Jet_vtxMass,Jet_vtx3dL,Jet_vtxNtrk,Jet_vtx3deL'.split(\",\")\n",
    "\n",
    "features = 'Jet_pt,Jet_eta,Jet_corr,rho,Jet_mt,Jet_leadTrackPt,Jet_leptonPtRel,Jet_leptonPt,Jet_leptonDeltaR,Jet_neHEF,Jet_neEmEF,Jet_vtxPt,Jet_vtxMass,Jet_vtx3dL,Jet_vtxNtrk,Jet_vtx3deL'.split(\",\")\n",
    "target = 'Jet_mcPt/Jet_pt'.split(\",\")\n",
    "cuts='(Jet_mcPt > 20) & (Jet_mcFlavour==5 | Jet_mcFlavour==-5) & (Jet_pt > 15) & (Jet_eta<2.4 & Jet_eta>-2.4) & (dR < 0.4)'\n",
    "\n",
    "\n",
    "branch_names = [c.strip() for c in branch_names]\n",
    "features = [c.strip() for c in features]\n",
    "target = [c.strip() for c in target]\n",
    "\n",
    "#X_features = preprocessing.set_features(\"tree\",branch_names,features,cuts)\n",
    "X_features = preprocessing.set_features(\"tree\",branch_names,features,\"\") #with no cuts\n",
    "\n",
    "print len(X_features)\n"
   ]
  },
  {
   "cell_type": "code",
   "execution_count": 12,
   "metadata": {
    "collapsed": false
   },
   "outputs": [
    {
     "name": "stdout",
     "output_type": "stream",
     "text": [
      "2450136\n"
     ]
    }
   ],
   "source": [
    "from sklearn.externals import joblib\n",
    "import pandas as pd\n",
    "import root_pandas as rpd\n",
    "\n",
    "loaded_model = joblib.load(os.path.expanduser('~/HHbbgg_ETH_devel/bregression/output_files/regression_heppy_mcPt_cuts.pkl'))\n",
    "X_test_features = preprocessing.get_test_sample(pd.DataFrame(X_features),0.)\n",
    "X_pred_data = loaded_model.predict(X_test_features).astype(np.float64)\n",
    "\n",
    "#data_frame = (rpd.read_root(utils.IO.featuresName[0],\"tree\", columns = branch_names)).query(cuts)\n",
    "data_frame = (rpd.read_root(utils.IO.featuresName[0],\"tree\", columns = branch_names)) # with no cuts \n",
    "\n",
    "print len(data_frame)\n",
    "\n",
    "#nTot is a multidim vector with all additional variables, dictVar is a dictionary associating a name of the variable\n",
    "#to a position in the vector\n",
    "nTot,dictVar = postprocessing.stackFeaturesReg(data_frame,branch_names,5)\n",
    "\n",
    "outTag = 'output_nocuts_'\n",
    "processPath=os.path.expanduser('~/HHbbgg_ETH_devel/bregression/output_root/')+outTag+utils.IO.featuresName[0].split(\"/\")[len(utils.IO.featuresName[0].split(\"/\"))-1]\n",
    "postprocessing.saveTreeReg(processPath,dictVar,nTot,X_pred_data)\n"
   ]
  },
  {
   "cell_type": "code",
   "execution_count": 19,
   "metadata": {
    "collapsed": false
   },
   "outputs": [
    {
     "name": "stdout",
     "output_type": "stream",
     "text": [
      "[ 90.79163933  87.23694298  78.98042517 ...,  31.64200011  29.99504686\n",
      "  31.14207227] [ 90.18179321  83.67437744  81.66014099 ...,  29.35404015 -99.         -99.        ] [ 78.4160614   94.59021759  64.09628296 ...,  29.98760033  20.10378075\n",
      "  22.63022041]\n"
     ]
    }
   ],
   "source": [
    "import matplotlib.pyplot as plt\n",
    "import training_utils as utils\n",
    "import ROOT\n",
    "from ROOT import gROOT\n",
    "reload(utils)\n",
    "reload(plotting)\n",
    "\n",
    "#plot mc_gen/regressed_reco (from me and from Caterina)\n",
    "\n",
    "predictions_pt = X_pred_data*nTot[:,dictVar['Jet_pt']]\n",
    "true_pt = nTot[:,dictVar['Jet_mcPt']]\n",
    "predictions_pt_caterina = nTot[:,dictVar['Jet_pt_reg']]\n",
    "\n",
    "#print predictions_pt,predictions_pt_caterina,true_pt\n",
    "\n",
    "rel_diff_regressed = true_pt/predictions_pt\n",
    "rel_diff_caterina = true/predictions_pt_caterina\n",
    "plotting.plot_rel_pt_diff(regressed_pt,true_pt,recoPt,True,100,'CaterinaComparison')\n",
    "\n",
    "\n",
    "    "
   ]
  },
  {
   "cell_type": "code",
   "execution_count": null,
   "metadata": {
    "collapsed": true
   },
   "outputs": [],
   "source": []
  }
 ],
 "metadata": {
  "anaconda-cloud": {},
  "kernelspec": {
   "display_name": "Python [conda root]",
   "language": "python",
   "name": "conda-root-py"
  }
 },
 "nbformat": 4,
 "nbformat_minor": 1
}
