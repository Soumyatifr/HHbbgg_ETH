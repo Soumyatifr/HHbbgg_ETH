{
 "cells": [
  {
   "cell_type": "code",
   "execution_count": null,
   "metadata": {
    "collapsed": false
   },
   "outputs": [],
   "source": [
    "import os\n",
    "import sys; sys.path.append(\"~/HHbbgg_ETH_devel/bregression/python\") # to load packages\n",
    "import training_utils as utils\n",
    "import numpy as np\n",
    "reload(utils)\n",
    "import preprocessing_utils as preprocessing\n",
    "reload(preprocessing)\n",
    "import plotting_utils as plotting\n",
    "reload(plotting)\n",
    "import optimization_utils as optimization\n",
    "reload(optimization)\n",
    "import postprocessing_utils as postprocessing\n",
    "reload(postprocessing)\n",
    "\n"
   ]
  },
  {
   "cell_type": "code",
   "execution_count": null,
   "metadata": {
    "collapsed": false
   },
   "outputs": [],
   "source": [
    "import pandas as pd\n",
    "import root_pandas as rpd\n",
    "import ROOT\n",
    "from ROOT import TH2D, TProfile\n",
    "\n",
    "input_file = '~/HHbbgg_ETH_devel/bregression//output_root/output_CaterinaUpd_trainedall_testbttbar_RegressionPerJet_heppy_forTesting_nPVs_caterinaReg.root'\n",
    "\n",
    "branch_names = 'RegressedFactor,noexpand:Jet_mcPt/RegressedFactor,noexpand:Jet_mcPt/Jet_pt_regNew,Jet_pt,Jet_pt_regNew,Jet_pt_reg,noexpand:Jet_mcPt/Jet_pt,Jet_eta,noexpand:fabs(Jet_eta),Jet_corr,Jet_mcPt,Jet_mcFlavour,dR,rho,nPVs,Jet_mt,Jet_leadTrackPt,Jet_leptonPtRel,Jet_leptonPt,Jet_leptonDeltaR,Jet_neHEF,Jet_neEmEF,Jet_chMult,Jet_vtxPt,Jet_vtxMass,Jet_vtx3dL,Jet_vtxNtrk,Jet_vtx3deL'.split(\",\")\n",
    "cuts='(Jet_pt > 20) & (Jet_eta<2.5 & Jet_eta>-2.5) & (Jet_mcFlavour==5 | Jet_mcFlavour==-5)'\n",
    "features = 'Jet_pt,Jet_eta,nPVs,Jet_mt,Jet_leadTrackPt,Jet_leptonPtRel,Jet_leptonPt,Jet_leptonDeltaR,Jet_neHEF,Jet_neEmEF,Jet_vtxPt,Jet_vtxMass,Jet_vtx3dL,Jet_vtxNtrk,Jet_vtx3deL'.split(\",\")\n",
    "\n",
    "\n",
    "branch_names = [c.strip() for c in branch_names]\n",
    "features = [c.strip() for c in features]\n",
    "\n",
    "data_frame = (rpd.read_root(input_file,\"reducedTree\", columns = branch_names)).query(cuts)\n",
    "\n",
    "# fill 2D histograms and profiles with Jet_genpt/Jet_regpt and inputs \n",
    "#declare all hists\n",
    "histograms=[]\n",
    "profiles=[]\n",
    "input_tfile = ROOT.TFile.Open(input_file)\n",
    "tree = input_tfile.Get(\"reducedTree\")\n",
    "for num in range(0,len(features)):\n",
    "    hist_name = \"hist_\"+features[num]\n",
    "    profile_name = \"profile_\"+features[num]\n",
    "    max_x=max(data_frame[features[num]]*0.8)\n",
    "    min_x=min(data_frame[features[num]])\n",
    "    histograms.append( TH2D(hist_name,hist_name,100,min_x,max_x,100,0.5,1.5) )\n",
    "    profiles.append(TProfile(profile_name,profile_name,100,min_x,max_x,0.5,1.5))\n",
    "    histograms[num].GetXaxis().SetTitle(features[num])\n",
    "    profiles[num].GetXaxis().SetTitle(features[num])\n",
    " #   for jet in range(0,len(data_frame[features[num]])):\n",
    "  #      histograms[num].Fill(data_frame[features[num]],data_frame['Jet_mcPt/RegressedFactor'])\n",
    "  #      profiles[num].Fill(data_frame[features[num]],data_frame['Jet_mcPt/RegressedFactor'])\n",
    "    draw_line = 'Jet_mcPt/RegressedFactor:'+features[num]+'>>'+hist_name\n",
    "    tree.Draw(draw_line,cuts)\n",
    "    print hist_name\n",
    "\n",
    "print histograms[0].GetEntries()\n"
   ]
  },
  {
   "cell_type": "code",
   "execution_count": null,
   "metadata": {
    "collapsed": false
   },
   "outputs": [],
   "source": [
    "import plotting_utils as plotting\n",
    "\n",
    "\n",
    "reload(plotting)\n",
    "plotting.plot_response(histograms[0],profiles[0],False)"
   ]
  },
  {
   "cell_type": "code",
   "execution_count": null,
   "metadata": {
    "collapsed": true
   },
   "outputs": [],
   "source": []
  }
 ],
 "metadata": {
  "kernelspec": {
   "display_name": "Python [conda root]",
   "language": "python",
   "name": "conda-root-py"
  },
  "language_info": {
   "codemirror_mode": {
    "name": "ipython",
    "version": 2
   },
   "file_extension": ".py",
   "mimetype": "text/x-python",
   "name": "python",
   "nbconvert_exporter": "python",
   "pygments_lexer": "ipython2",
   "version": "2.7.12"
  }
 },
 "nbformat": 4,
 "nbformat_minor": 1
}
