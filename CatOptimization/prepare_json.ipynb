{
 "cells": [
  {
   "cell_type": "code",
   "execution_count": 5,
   "metadata": {
    "collapsed": true
   },
   "outputs": [],
   "source": [
    "path ='/afs/cern.ch/work/n/nchernya/ETH/CMSSW_8_0_28/src/diphotons/Utils/macro/outPlots/'"
   ]
  },
  {
   "cell_type": "code",
   "execution_count": 19,
   "metadata": {
    "collapsed": true
   },
   "outputs": [],
   "source": [
    "import glob\n",
    "import json\n",
    "import numpy as np"
   ]
  },
  {
   "cell_type": "code",
   "execution_count": 7,
   "metadata": {
    "collapsed": true
   },
   "outputs": [],
   "source": [
    "mva_json_path = 'out_20180420_153105_node_SM_transformed_MVA_step2/'\n",
    "mx_json_path = 'out_20180420_151902_node_SM_transformed_MX/'\n",
    "#mjj_json_path= 'out_20180420_170901_node_SM_cat%_transformed_mjj'\n",
    "j = 'cat_opt.json'"
   ]
  },
  {
   "cell_type": "code",
   "execution_count": 8,
   "metadata": {
    "collapsed": false
   },
   "outputs": [
    {
     "name": "stdout",
     "output_type": "stream",
     "text": [
      "None\n"
     ]
    }
   ],
   "source": [
    "with open(path+mva_json_path+j) as json_data:\n",
    "    mva_json = json.load(json_data)\n",
    "with open(path+mx_json_path+j) as json_data:\n",
    "    mx_json = json.load(json_data)\n",
    "    \n",
    "categories = mva_json['3']['boundaries'] #MVA\n",
    "subcategories = (mx_json['3']['boundaries']) #MX\n",
    "subcategories = [250.] + subcategories\n",
    "print subcategories.sort()"
   ]
  },
  {
   "cell_type": "code",
   "execution_count": 29,
   "metadata": {
    "collapsed": false
   },
   "outputs": [
    {
     "name": "stdout",
     "output_type": "stream",
     "text": [
      "[[151.0, 155.0, 155.0], [155.0, 166.0, 155.0], [148.0, 160.0, 167.0], [159.0, 155.0, 151.0]]\n",
      "[[88.0, 81.0, 75.0], [95.0, 95.0, 102.0], [99.0, 91.0, 95.0], [108.0, 108.0, 103.0]]\n"
     ]
    }
   ],
   "source": [
    "cutmjj_min = np.array([  88.,   95.,   99.,  108.,   81.,   95.,   91.,  108.,   75.,\n",
    "         102.,   95.,  103.])\n",
    "cutmjj_max = np.array([ 151.,  155.,  148.,  159.,  155.,  166.,  160.,  155.,  155.,\n",
    "         155.,  167.,  151.])\n",
    "mjj_min = [ [cutmjj_min[sub+(len(subcategories)-1)*k] for k in range(len(categories)-1)] for sub in range(len(subcategories)-1)]\n",
    "mjj_max = [ [cutmjj_max[sub+(len(subcategories)-1)*k] for k in range(len(categories)-1)] for sub in range(len(subcategories)-1)]\n",
    "print mjj_max\n",
    "print mjj_min"
   ]
  },
  {
   "cell_type": "code",
   "execution_count": 10,
   "metadata": {
    "collapsed": false
   },
   "outputs": [
    {
     "name": "stdout",
     "output_type": "stream",
     "text": [
      "[1.01, 0.74, 0.543, 0.271] [250.0, 341.373, 426.094, 543.995, 800.0]\n",
      "3\n"
     ]
    }
   ],
   "source": [
    "print  categories,subcategories\n",
    "print len(categories)-1"
   ]
  },
  {
   "cell_type": "code",
   "execution_count": 70,
   "metadata": {
    "collapsed": false
   },
   "outputs": [
    {
     "name": "stdout",
     "output_type": "stream",
     "text": [
      "{'subcat0_cat0': ['Mjj', 'cat0', '88.0', 'cat1', '81.0', 'cat2', '75.0', 'cat0', '151.0', 'cat1', '155.0', 'cat2', '155.0']}\n",
      "{'subcat0_cat0': ['Mjj', 'cat0', '88.0', 'cat1', '81.0', 'cat2', '75.0', 'cat0', '151.0', 'cat1', '155.0', 'cat2', '155.0'], 'subcat1_cat0': ['Mjj', 'cat0', '95.0', 'cat1', '95.0', 'cat2', '102.0', 'cat0', '155.0', 'cat1', '166.0', 'cat2', '155.0']}\n",
      "{'subcat0_cat0': ['Mjj', 'cat0', '88.0', 'cat1', '81.0', 'cat2', '75.0', 'cat0', '151.0', 'cat1', '155.0', 'cat2', '155.0'], 'subcat1_cat0': ['Mjj', 'cat0', '95.0', 'cat1', '95.0', 'cat2', '102.0', 'cat0', '155.0', 'cat1', '166.0', 'cat2', '155.0'], 'subcat2_cat0': ['Mjj', 'cat0', '99.0', 'cat1', '91.0', 'cat2', '95.0', 'cat0', '148.0', 'cat1', '160.0', 'cat2', '167.0']}\n",
      "{'subcat3_cat0': ['Mjj', 'cat0', '108.0', 'cat1', '108.0', 'cat2', '103.0', 'cat0', '159.0', 'cat1', '155.0', 'cat2', '151.0'], 'subcat0_cat0': ['Mjj', 'cat0', '88.0', 'cat1', '81.0', 'cat2', '75.0', 'cat0', '151.0', 'cat1', '155.0', 'cat2', '155.0'], 'subcat1_cat0': ['Mjj', 'cat0', '95.0', 'cat1', '95.0', 'cat2', '102.0', 'cat0', '155.0', 'cat1', '166.0', 'cat2', '155.0'], 'subcat2_cat0': ['Mjj', 'cat0', '99.0', 'cat1', '91.0', 'cat2', '95.0', 'cat0', '148.0', 'cat1', '160.0', 'cat2', '167.0']}\n"
     ]
    }
   ],
   "source": [
    "subCategoryCuts = {}\n",
    "for sub in range(0,len(subcategories)-1):\n",
    "    cuts=[\"Mjj\"]\n",
    "    mjj_count=0\n",
    "    cat=0\n",
    "    while cat < (len(categories)-1):\n",
    "        cuts.append(\"cat%d\"%cat)\n",
    "        if mjj_count == 1 :\n",
    "            cuts.append(str(mjj_max[sub][cat]))\n",
    "            if cat== len(categories)-2 :\n",
    "                subCategoryCuts[\"subcat%d_cat0\"%(sub)]  = cuts\n",
    "                print subCategoryCuts\n",
    "        if mjj_count == 0 :\n",
    "            cuts.append(str(mjj_min[sub][cat]))\n",
    "            if cat== (len(categories)-2) :\n",
    "                mjj_count+=1\n",
    "                cat=-1\n",
    "        cat+=1"
   ]
  },
  {
   "cell_type": "code",
   "execution_count": 71,
   "metadata": {
    "collapsed": false
   },
   "outputs": [
    {
     "name": "stdout",
     "output_type": "stream",
     "text": [
      "subcat0_cat0 :  ['Mjj', 'cat0', '88.0', 'cat1', '81.0', 'cat2', '75.0', 'cat0', '151.0', 'cat1', '155.0', 'cat2', '155.0']\n",
      "subcat1_cat0 :  ['Mjj', 'cat0', '95.0', 'cat1', '95.0', 'cat2', '102.0', 'cat0', '155.0', 'cat1', '166.0', 'cat2', '155.0']\n",
      "subcat2_cat0 :  ['Mjj', 'cat0', '99.0', 'cat1', '91.0', 'cat2', '95.0', 'cat0', '148.0', 'cat1', '160.0', 'cat2', '167.0']\n",
      "subcat3_cat0 :  ['Mjj', 'cat0', '108.0', 'cat1', '108.0', 'cat2', '103.0', 'cat0', '159.0', 'cat1', '155.0', 'cat2', '151.0']\n"
     ]
    }
   ],
   "source": [
    "for i in range(len(subcategories)-1):\n",
    "    print 'subcat%d_cat0 : '%i, subCategoryCuts['subcat%d_cat0'%i]"
   ]
  },
  {
   "cell_type": "code",
   "execution_count": 65,
   "metadata": {
    "collapsed": true
   },
   "outputs": [],
   "source": [
    "path2 = '/mnt/t3nfs01/data01/shome/nchernya/HHbbgg_ETH_devel/Limits/macros/jsons/HHbbgg_20180420_settings_nadya.json'"
   ]
  },
  {
   "cell_type": "code",
   "execution_count": 66,
   "metadata": {
    "collapsed": false
   },
   "outputs": [],
   "source": [
    "with open(path2) as json_data:\n",
    "    catdef = json.load(json_data)"
   ]
  },
  {
   "cell_type": "code",
   "execution_count": 67,
   "metadata": {
    "collapsed": false
   },
   "outputs": [
    {
     "data": {
      "text/plain": [
       "{u'addBSMNodes': 0,\n",
       " u'file': u'/mnt/t3nfs01/data01/shome/nchernya/HHbbgg_ETH_devel/outfiles/20180416/20180416_ggHHbbgg_DiPhotonJets_diffNaming.root',\n",
       " u'observable': [u'Mgg', 100.0, 180.0],\n",
       " u'selections': [],\n",
       " u'subcategories': [[u'subcat0', u'MX >250. && MX<=341.4'],\n",
       "  [u'subcat1', u'MX >341.4 && MX<=426.1'],\n",
       "  [u'subcat2', u'MX >426.1 && MX<=544.'],\n",
       "  [u'subcat3', u'MX >544.']],\n",
       " u'variables': [u'HHTagger2017transform']}"
      ]
     },
     "execution_count": 67,
     "metadata": {},
     "output_type": "execute_result"
    }
   ],
   "source": [
    "catdef"
   ]
  },
  {
   "cell_type": "code",
   "execution_count": null,
   "metadata": {
    "collapsed": true
   },
   "outputs": [],
   "source": []
  }
 ],
 "metadata": {
  "anaconda-cloud": {},
  "kernelspec": {
   "display_name": "Python [default]",
   "language": "python",
   "name": "python2"
  },
  "language_info": {
   "codemirror_mode": {
    "name": "ipython",
    "version": 2
   },
   "file_extension": ".py",
   "mimetype": "text/x-python",
   "name": "python",
   "nbconvert_exporter": "python",
   "pygments_lexer": "ipython2",
   "version": "2.7.12"
  }
 },
 "nbformat": 4,
 "nbformat_minor": 1
}
