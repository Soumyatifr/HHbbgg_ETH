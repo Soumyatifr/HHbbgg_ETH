{
 "cells": [
  {
   "cell_type": "code",
   "execution_count": 3,
   "metadata": {
    "collapsed": true
   },
   "outputs": [],
   "source": [
    "path ='/afs/cern.ch/work/n/nchernya/ETH/CMSSW_8_0_28/src/diphotons/Utils/macro/outPlots/'\n",
    "path ='/afs/cern.ch/work/n/nchernya/ETH/CMSSW_8_0_28/src/diphotons/Utils/macro/outPlots/plots/'\n",
    "path='/afs/cern.ch/work/n/nchernya/ETH/CMSSW_8_0_28/src/diphotons/Utils/macro/outPlots/plots/final_newcodev2_20180628/'"
   ]
  },
  {
   "cell_type": "code",
   "execution_count": 4,
   "metadata": {
    "collapsed": true
   },
   "outputs": [],
   "source": [
    "import glob\n",
    "import json\n",
    "import numpy as np"
   ]
  },
  {
   "cell_type": "code",
   "execution_count": 24,
   "metadata": {
    "collapsed": true
   },
   "outputs": [],
   "source": [
    "##For 1 SM node -> use output jsons cat_opt.json directly\n",
    "\n",
    "#mva_json_path = 'out_20180531_120803_node_SM_transformed_MVA_step2/'\n",
    "#mx_json_path = 'out_20180531_120326_node_SM_transformed_MX/'\n",
    "#mjj_json_path= 'out_20180420_170901_node_SM_cat%_transformed_mjj'\n",
    "#j = 'cat_opt.json'\n",
    "\n",
    "#with open(path+mva_json_path+j) as json_data:\n",
    "#    mva_json = json.load(json_data)\n",
    "#with open(path+mx_json_path+j) as json_data:\n",
    "#    mx_json = json.load(json_data)\n",
    "    \n",
    "#categories = mva_json['3']['boundaries'] #MVA\n",
    "#subcategories = (mx_json['3']['boundaries']) #MX\n",
    "#subcategories = [250.] + subcategories\n",
    "#print subcategories\n",
    "#print subcategories.sort()\n",
    "#print subcategories\n",
    "\n",
    "#cutmjj_min = np.array([ 108.,   81.,   55.,   61.,   85.,   86.,   78.,   73.,   88.,\n",
    "#          81.,   95.,   85.])\n",
    "#cutmjj_max = np.array([ 175.,  148.,  151.,  145.,  189.,  138.,  148.,  154.,  155.,\n",
    "#         149.,  152.,  157.])"
   ]
  },
  {
   "cell_type": "code",
   "execution_count": 5,
   "metadata": {
    "collapsed": false
   },
   "outputs": [],
   "source": [
    "# final reg\n",
    "#mva_json_path = 'info_RegVMAstep2_20180604_104610.txt'\n",
    "#mx_json_path = 'info_Reg4cat_260_20180601_164523_n_clusters3.txt'\n",
    "#mjj_json_path= 'info_RegMjj_20180604_153308.txt'\n",
    "\n",
    "#final no reg\n",
    "#mva_json_path = 'info_noRegVMAstep2_20180604_104700.txt'\n",
    "#mx_json_path = 'info_noReg4cat_260_20180601_165953_n_clusters3.txt'\n",
    "#mjj_json_path= 'info_noRegMjj_20180604_153820.txt'\n",
    "\n",
    "#final new code:\n",
    "mva_json_path = '20180628_154339_newcodev2_MVAstep2/info_clusteringMVAstep2_newcodev2_20180628_154339.txt'\n",
    "mx_json_path = '20180628_150625_newcodev2_filtered260/info_clustering_newcodev2_20180628_150625_n_clusters3.txt'\n",
    "mjj_json_path= '20180628_163555_newcodev2_Mjj/info_Mjj_newcodev2_Mjj_20180628_163555.txt'\n"
   ]
  },
  {
   "cell_type": "code",
   "execution_count": 6,
   "metadata": {
    "collapsed": false
   },
   "outputs": [],
   "source": [
    "with open(path+mva_json_path) as text_file:\n",
    "    lines = text_file.readlines()\n",
    "    categories = [float(lines[i].strip(',\\n')) for i in range(0,len(lines))]\n",
    "\n",
    "with open(path+mx_json_path) as text_file:\n",
    "    lines = text_file.readlines()\n",
    "    subcategories = [float(lines[i].strip(',\\n')) for i in range(0,len(lines))]    \n",
    "    \n",
    "with open(path+mjj_json_path) as text_file:\n",
    "    lines = [line.rstrip('\\n') for line in text_file]\n",
    "    lines0 = lines[0]\n",
    "    lines1 = lines[1]\n",
    "    cutmjj_min = [float(lines0.strip(',').split(',')[i]) for i in range (0,len(lines0.split(','))) ]\n",
    "    cutmjj_max = [float(lines1.strip(',').split(',')[i]) for i in range (0,len(lines1.split(','))) ]\n"
   ]
  },
  {
   "cell_type": "code",
   "execution_count": 7,
   "metadata": {
    "collapsed": false
   },
   "outputs": [
    {
     "name": "stdout",
     "output_type": "stream",
     "text": [
      "[1.001, 0.791111111111, 0.516777777778, 0.298444444444] [250.0, 308.67975, 417.062230769, 578.398272727]\n",
      "[98.0, 90.0, 81.0, 93.0, 89.0, 90.0, 99.0, 97.0, 87.0, 89.0, 87.0, 87.0] [162.0, 148.0, 156.0, 154.0, 151.0, 153.0, 149.0, 148.0, 147.0, 155.0, 159.0, 152.0]\n"
     ]
    }
   ],
   "source": [
    "print categories, subcategories\n",
    "print cutmjj_min,cutmjj_max"
   ]
  },
  {
   "cell_type": "code",
   "execution_count": 8,
   "metadata": {
    "collapsed": false
   },
   "outputs": [
    {
     "name": "stdout",
     "output_type": "stream",
     "text": [
      "[[162.0, 151.0, 147.0], [148.0, 153.0, 155.0], [156.0, 149.0, 159.0], [154.0, 148.0, 152.0]]\n",
      "[[98.0, 89.0, 87.0], [90.0, 90.0, 89.0], [81.0, 99.0, 87.0], [93.0, 97.0, 87.0]]\n"
     ]
    }
   ],
   "source": [
    "#mjj_min = [ [cutmjj_min[sub+(len(subcategories)-1)*k] for k in range(len(categories)-1)] for sub in range(len(subcategories)-1)]\n",
    "#mjj_max = [ [cutmjj_max[sub+(len(subcategories)-1)*k] for k in range(len(categories)-1)] for sub in range(len(subcategories)-1)]\n",
    "mjj_min = [ [cutmjj_min[sub+(len(subcategories))*k] for k in range(len(categories)-1)] for sub in range(len(subcategories))]\n",
    "mjj_max = [ [cutmjj_max[sub+(len(subcategories))*k] for k in range(len(categories)-1)] for sub in range(len(subcategories))]\n",
    "print mjj_max\n",
    "print mjj_min"
   ]
  },
  {
   "cell_type": "code",
   "execution_count": 9,
   "metadata": {
    "collapsed": false
   },
   "outputs": [
    {
     "name": "stdout",
     "output_type": "stream",
     "text": [
      "[1.001, 0.791111111111, 0.516777777778, 0.298444444444] [250.0, 308.67975, 417.062230769, 578.398272727]\n",
      "3\n"
     ]
    }
   ],
   "source": [
    "print  categories,subcategories\n",
    "print len(categories)-1"
   ]
  },
  {
   "cell_type": "code",
   "execution_count": 10,
   "metadata": {
    "collapsed": false,
    "scrolled": true
   },
   "outputs": [
    {
     "name": "stdout",
     "output_type": "stream",
     "text": [
      "{'subcat0_cat0': ['Mjj', 'cat0', '98.0', 'cat1', '89.0', 'cat2', '87.0', 'cat0', '162.0', 'cat1', '151.0', 'cat2', '147.0']}\n",
      "{'subcat0_cat0': ['Mjj', 'cat0', '98.0', 'cat1', '89.0', 'cat2', '87.0', 'cat0', '162.0', 'cat1', '151.0', 'cat2', '147.0'], 'subcat1_cat0': ['Mjj', 'cat0', '90.0', 'cat1', '90.0', 'cat2', '89.0', 'cat0', '148.0', 'cat1', '153.0', 'cat2', '155.0']}\n",
      "{'subcat0_cat0': ['Mjj', 'cat0', '98.0', 'cat1', '89.0', 'cat2', '87.0', 'cat0', '162.0', 'cat1', '151.0', 'cat2', '147.0'], 'subcat1_cat0': ['Mjj', 'cat0', '90.0', 'cat1', '90.0', 'cat2', '89.0', 'cat0', '148.0', 'cat1', '153.0', 'cat2', '155.0'], 'subcat2_cat0': ['Mjj', 'cat0', '81.0', 'cat1', '99.0', 'cat2', '87.0', 'cat0', '156.0', 'cat1', '149.0', 'cat2', '159.0']}\n",
      "{'subcat3_cat0': ['Mjj', 'cat0', '93.0', 'cat1', '97.0', 'cat2', '87.0', 'cat0', '154.0', 'cat1', '148.0', 'cat2', '152.0'], 'subcat0_cat0': ['Mjj', 'cat0', '98.0', 'cat1', '89.0', 'cat2', '87.0', 'cat0', '162.0', 'cat1', '151.0', 'cat2', '147.0'], 'subcat1_cat0': ['Mjj', 'cat0', '90.0', 'cat1', '90.0', 'cat2', '89.0', 'cat0', '148.0', 'cat1', '153.0', 'cat2', '155.0'], 'subcat2_cat0': ['Mjj', 'cat0', '81.0', 'cat1', '99.0', 'cat2', '87.0', 'cat0', '156.0', 'cat1', '149.0', 'cat2', '159.0']}\n"
     ]
    }
   ],
   "source": [
    "subCategoryCuts = {}\n",
    "for sub in range(0,len(subcategories)):\n",
    "    cuts=[\"Mjj\"]\n",
    "    mjj_count=0\n",
    "    cat=0\n",
    "    while cat < (len(categories)-1):\n",
    "        cuts.append(\"cat%d\"%cat)\n",
    "        if mjj_count == 1 :\n",
    "            cuts.append(str(mjj_max[sub][cat]))\n",
    "            if cat== len(categories)-2 :\n",
    "                subCategoryCuts[\"subcat%d_cat0\"%(sub)]  = cuts\n",
    "                print subCategoryCuts\n",
    "        if mjj_count == 0 :\n",
    "            cuts.append(str(mjj_min[sub][cat]))\n",
    "            if cat== (len(categories)-2) :\n",
    "                mjj_count+=1\n",
    "                cat=-1\n",
    "        cat+=1"
   ]
  },
  {
   "cell_type": "code",
   "execution_count": 11,
   "metadata": {
    "collapsed": false
   },
   "outputs": [
    {
     "name": "stdout",
     "output_type": "stream",
     "text": [
      "subcat0_cat0 :  ['Mjj', 'cat0', '98.0', 'cat1', '89.0', 'cat2', '87.0', 'cat0', '162.0', 'cat1', '151.0', 'cat2', '147.0']\n",
      "subcat1_cat0 :  ['Mjj', 'cat0', '90.0', 'cat1', '90.0', 'cat2', '89.0', 'cat0', '148.0', 'cat1', '153.0', 'cat2', '155.0']\n",
      "subcat2_cat0 :  ['Mjj', 'cat0', '81.0', 'cat1', '99.0', 'cat2', '87.0', 'cat0', '156.0', 'cat1', '149.0', 'cat2', '159.0']\n",
      "subcat3_cat0 :  ['Mjj', 'cat0', '93.0', 'cat1', '97.0', 'cat2', '87.0', 'cat0', '154.0', 'cat1', '148.0', 'cat2', '152.0']\n"
     ]
    }
   ],
   "source": [
    "for i in range(len(subcategories)):\n",
    "    print 'subcat%d_cat0 : '%i, subCategoryCuts['subcat%d_cat0'%i]"
   ]
  },
  {
   "cell_type": "code",
   "execution_count": 63,
   "metadata": {
    "collapsed": true
   },
   "outputs": [],
   "source": []
  },
  {
   "cell_type": "code",
   "execution_count": null,
   "metadata": {
    "collapsed": false
   },
   "outputs": [],
   "source": []
  },
  {
   "cell_type": "code",
   "execution_count": null,
   "metadata": {
    "collapsed": false
   },
   "outputs": [],
   "source": []
  },
  {
   "cell_type": "code",
   "execution_count": null,
   "metadata": {
    "collapsed": true
   },
   "outputs": [],
   "source": []
  }
 ],
 "metadata": {
  "anaconda-cloud": {},
  "kernelspec": {
   "display_name": "Python [default]",
   "language": "python",
   "name": "python2"
  },
  "language_info": {
   "codemirror_mode": {
    "name": "ipython",
    "version": 2
   },
   "file_extension": ".py",
   "mimetype": "text/x-python",
   "name": "python",
   "nbconvert_exporter": "python",
   "pygments_lexer": "ipython2",
   "version": "2.7.12"
  }
 },
 "nbformat": 4,
 "nbformat_minor": 1
}
