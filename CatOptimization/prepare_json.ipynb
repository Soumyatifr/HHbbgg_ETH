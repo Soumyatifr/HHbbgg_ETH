{
 "cells": [
  {
   "cell_type": "code",
   "execution_count": 1,
   "metadata": {
    "collapsed": true
   },
   "outputs": [],
   "source": [
    "path ='/afs/cern.ch/work/n/nchernya/ETH/CMSSW_8_0_28/src/diphotons/Utils/macro/outPlots/'\n",
    "path ='/afs/cern.ch/work/n/nchernya/ETH/CMSSW_8_0_28/src/diphotons/Utils/macro/outPlots/plots/'"
   ]
  },
  {
   "cell_type": "code",
   "execution_count": 2,
   "metadata": {
    "collapsed": true
   },
   "outputs": [],
   "source": [
    "import glob\n",
    "import json\n",
    "import numpy as np"
   ]
  },
  {
   "cell_type": "code",
   "execution_count": 5,
   "metadata": {
    "collapsed": true
   },
   "outputs": [],
   "source": [
    "##For 1 SM node -> use output jsons cat_opt.json directly\n",
    "\n",
    "#mva_json_path = 'out_20180531_120803_node_SM_transformed_MVA_step2/'\n",
    "#mx_json_path = 'out_20180531_120326_node_SM_transformed_MX/'\n",
    "#mjj_json_path= 'out_20180420_170901_node_SM_cat%_transformed_mjj'\n",
    "#j = 'cat_opt.json'\n",
    "\n",
    "#with open(path+mva_json_path+j) as json_data:\n",
    "#    mva_json = json.load(json_data)\n",
    "#with open(path+mx_json_path+j) as json_data:\n",
    "#    mx_json = json.load(json_data)\n",
    "    \n",
    "#categories = mva_json['3']['boundaries'] #MVA\n",
    "#subcategories = (mx_json['3']['boundaries']) #MX\n",
    "#subcategories = [250.] + subcategories\n",
    "#print subcategories\n",
    "#print subcategories.sort()\n",
    "#print subcategories\n",
    "\n",
    "#cutmjj_min = np.array([ 108.,   81.,   55.,   61.,   85.,   86.,   78.,   73.,   88.,\n",
    "#          81.,   95.,   85.])\n",
    "#cutmjj_max = np.array([ 175.,  148.,  151.,  145.,  189.,  138.,  148.,  154.,  155.,\n",
    "#         149.,  152.,  157.])"
   ]
  },
  {
   "cell_type": "code",
   "execution_count": 18,
   "metadata": {
    "collapsed": false
   },
   "outputs": [],
   "source": [
    "# final reg\n",
    "#mva_json_path = 'info_RegVMAstep2_20180604_104610.txt'\n",
    "#mx_json_path = 'info_Reg4cat_260_20180601_164523_n_clusters3.txt'\n",
    "#mjj_json_path= 'info_RegMjj_20180604_153308.txt'\n",
    "\n",
    "#final no reg\n",
    "mva_json_path = 'info_noRegVMAstep2_20180604_104700.txt'\n",
    "mx_json_path = 'info_noReg4cat_260_20180601_165953_n_clusters3.txt'\n",
    "mjj_json_path= 'info_noRegMjj_20180604_153820.txt'"
   ]
  },
  {
   "cell_type": "code",
   "execution_count": 19,
   "metadata": {
    "collapsed": false
   },
   "outputs": [],
   "source": [
    "with open(path+mva_json_path) as text_file:\n",
    "    lines = text_file.readlines()\n",
    "    categories = [float(lines[i].strip(',\\n')) for i in range(0,len(lines))]\n",
    "\n",
    "with open(path+mx_json_path) as text_file:\n",
    "    lines = text_file.readlines()\n",
    "    subcategories = [float(lines[i].strip(',\\n')) for i in range(0,len(lines))]    \n",
    "    \n",
    "with open(path+mjj_json_path) as text_file:\n",
    "    lines = [line.rstrip('\\n') for line in text_file]\n",
    "    lines0 = lines[0]\n",
    "    lines1 = lines[1]\n",
    "    cutmjj_min = [float(lines0.strip(',').split(',')[i]) for i in range (0,len(lines0.split(','))) ]\n",
    "    cutmjj_max = [float(lines1.strip(',').split(',')[i]) for i in range (0,len(lines1.split(','))) ]\n"
   ]
  },
  {
   "cell_type": "code",
   "execution_count": 20,
   "metadata": {
    "collapsed": false
   },
   "outputs": [
    {
     "name": "stdout",
     "output_type": "stream",
     "text": [
      "[1.001, 0.6594, 0.4858, 0.2252] [250.0, 346.027642857, 463.01125, 560.642571429]\n"
     ]
    }
   ],
   "source": [
    "print categories, subcategories"
   ]
  },
  {
   "cell_type": "code",
   "execution_count": 21,
   "metadata": {
    "collapsed": false
   },
   "outputs": [
    {
     "name": "stdout",
     "output_type": "stream",
     "text": [
      "[[144.0, 160.0, 165.0], [156.0, 153.0, 162.0], [164.0, 165.0, 146.0], [160.0, 165.0, 165.0]]\n",
      "[[86.0, 93.0, 91.0], [80.0, 89.0, 96.0], [82.0, 79.0, 88.0], [93.0, 91.0, 82.0]]\n"
     ]
    }
   ],
   "source": [
    "#mjj_min = [ [cutmjj_min[sub+(len(subcategories)-1)*k] for k in range(len(categories)-1)] for sub in range(len(subcategories)-1)]\n",
    "#mjj_max = [ [cutmjj_max[sub+(len(subcategories)-1)*k] for k in range(len(categories)-1)] for sub in range(len(subcategories)-1)]\n",
    "mjj_min = [ [cutmjj_min[sub+(len(subcategories)-1)*k] for k in range(len(categories)-1)] for sub in range(len(subcategories))]\n",
    "mjj_max = [ [cutmjj_max[sub+(len(subcategories)-1)*k] for k in range(len(categories)-1)] for sub in range(len(subcategories))]\n",
    "print mjj_max\n",
    "print mjj_min"
   ]
  },
  {
   "cell_type": "code",
   "execution_count": 22,
   "metadata": {
    "collapsed": false
   },
   "outputs": [
    {
     "name": "stdout",
     "output_type": "stream",
     "text": [
      "[1.001, 0.6594, 0.4858, 0.2252] [250.0, 346.027642857, 463.01125, 560.642571429]\n",
      "3\n"
     ]
    }
   ],
   "source": [
    "print  categories,subcategories\n",
    "print len(categories)-1"
   ]
  },
  {
   "cell_type": "code",
   "execution_count": 23,
   "metadata": {
    "collapsed": false
   },
   "outputs": [
    {
     "name": "stdout",
     "output_type": "stream",
     "text": [
      "{'subcat0_cat0': ['Mjj', 'cat0', '86.0', 'cat1', '93.0', 'cat2', '91.0', 'cat0', '144.0', 'cat1', '160.0', 'cat2', '165.0']}\n",
      "{'subcat0_cat0': ['Mjj', 'cat0', '86.0', 'cat1', '93.0', 'cat2', '91.0', 'cat0', '144.0', 'cat1', '160.0', 'cat2', '165.0'], 'subcat1_cat0': ['Mjj', 'cat0', '80.0', 'cat1', '89.0', 'cat2', '96.0', 'cat0', '156.0', 'cat1', '153.0', 'cat2', '162.0']}\n",
      "{'subcat0_cat0': ['Mjj', 'cat0', '86.0', 'cat1', '93.0', 'cat2', '91.0', 'cat0', '144.0', 'cat1', '160.0', 'cat2', '165.0'], 'subcat1_cat0': ['Mjj', 'cat0', '80.0', 'cat1', '89.0', 'cat2', '96.0', 'cat0', '156.0', 'cat1', '153.0', 'cat2', '162.0'], 'subcat2_cat0': ['Mjj', 'cat0', '82.0', 'cat1', '79.0', 'cat2', '88.0', 'cat0', '164.0', 'cat1', '165.0', 'cat2', '146.0']}\n",
      "{'subcat3_cat0': ['Mjj', 'cat0', '93.0', 'cat1', '91.0', 'cat2', '82.0', 'cat0', '160.0', 'cat1', '165.0', 'cat2', '165.0'], 'subcat0_cat0': ['Mjj', 'cat0', '86.0', 'cat1', '93.0', 'cat2', '91.0', 'cat0', '144.0', 'cat1', '160.0', 'cat2', '165.0'], 'subcat1_cat0': ['Mjj', 'cat0', '80.0', 'cat1', '89.0', 'cat2', '96.0', 'cat0', '156.0', 'cat1', '153.0', 'cat2', '162.0'], 'subcat2_cat0': ['Mjj', 'cat0', '82.0', 'cat1', '79.0', 'cat2', '88.0', 'cat0', '164.0', 'cat1', '165.0', 'cat2', '146.0']}\n"
     ]
    }
   ],
   "source": [
    "subCategoryCuts = {}\n",
    "for sub in range(0,len(subcategories)):\n",
    "    cuts=[\"Mjj\"]\n",
    "    mjj_count=0\n",
    "    cat=0\n",
    "    while cat < (len(categories)-1):\n",
    "        cuts.append(\"cat%d\"%cat)\n",
    "        if mjj_count == 1 :\n",
    "            cuts.append(str(mjj_max[sub][cat]))\n",
    "            if cat== len(categories)-2 :\n",
    "                subCategoryCuts[\"subcat%d_cat0\"%(sub)]  = cuts\n",
    "                print subCategoryCuts\n",
    "        if mjj_count == 0 :\n",
    "            cuts.append(str(mjj_min[sub][cat]))\n",
    "            if cat== (len(categories)-2) :\n",
    "                mjj_count+=1\n",
    "                cat=-1\n",
    "        cat+=1"
   ]
  },
  {
   "cell_type": "code",
   "execution_count": 24,
   "metadata": {
    "collapsed": false
   },
   "outputs": [
    {
     "name": "stdout",
     "output_type": "stream",
     "text": [
      "subcat0_cat0 :  ['Mjj', 'cat0', '86.0', 'cat1', '93.0', 'cat2', '91.0', 'cat0', '144.0', 'cat1', '160.0', 'cat2', '165.0']\n",
      "subcat1_cat0 :  ['Mjj', 'cat0', '80.0', 'cat1', '89.0', 'cat2', '96.0', 'cat0', '156.0', 'cat1', '153.0', 'cat2', '162.0']\n",
      "subcat2_cat0 :  ['Mjj', 'cat0', '82.0', 'cat1', '79.0', 'cat2', '88.0', 'cat0', '164.0', 'cat1', '165.0', 'cat2', '146.0']\n",
      "subcat3_cat0 :  ['Mjj', 'cat0', '93.0', 'cat1', '91.0', 'cat2', '82.0', 'cat0', '160.0', 'cat1', '165.0', 'cat2', '165.0']\n"
     ]
    }
   ],
   "source": [
    "for i in range(len(subcategories)):\n",
    "    print 'subcat%d_cat0 : '%i, subCategoryCuts['subcat%d_cat0'%i]"
   ]
  },
  {
   "cell_type": "code",
   "execution_count": 63,
   "metadata": {
    "collapsed": true
   },
   "outputs": [],
   "source": [
    "path2 = '/mnt/t3nfs01/data01/shome/nchernya/HHbbgg_ETH_devel/Limits/macros/jsons/HHbbgg_20180601_reg_settings_nadya.json'"
   ]
  },
  {
   "cell_type": "code",
   "execution_count": 64,
   "metadata": {
    "collapsed": false
   },
   "outputs": [
    {
     "ename": "IOError",
     "evalue": "[Errno 2] No such file or directory: '/mnt/t3nfs01/data01/shome/nchernya/HHbbgg_ETH_devel/Limits/macros/jsons/HHbbgg_20180601_reg_settings_nadya.json'",
     "output_type": "error",
     "traceback": [
      "\u001b[0;31m---------------------------------------------------------------------------\u001b[0m",
      "\u001b[0;31mIOError\u001b[0m                                   Traceback (most recent call last)",
      "\u001b[0;32m<ipython-input-64-f771e0f20e68>\u001b[0m in \u001b[0;36m<module>\u001b[0;34m()\u001b[0m\n\u001b[0;32m----> 1\u001b[0;31m \u001b[0;32mwith\u001b[0m \u001b[0mopen\u001b[0m\u001b[0;34m(\u001b[0m\u001b[0mpath2\u001b[0m\u001b[0;34m)\u001b[0m \u001b[0;32mas\u001b[0m \u001b[0mjson_data\u001b[0m\u001b[0;34m:\u001b[0m\u001b[0;34m\u001b[0m\u001b[0m\n\u001b[0m\u001b[1;32m      2\u001b[0m     \u001b[0mcatdef\u001b[0m \u001b[0;34m=\u001b[0m \u001b[0mjson\u001b[0m\u001b[0;34m.\u001b[0m\u001b[0mload\u001b[0m\u001b[0;34m(\u001b[0m\u001b[0mjson_data\u001b[0m\u001b[0;34m)\u001b[0m\u001b[0;34m\u001b[0m\u001b[0m\n",
      "\u001b[0;31mIOError\u001b[0m: [Errno 2] No such file or directory: '/mnt/t3nfs01/data01/shome/nchernya/HHbbgg_ETH_devel/Limits/macros/jsons/HHbbgg_20180601_reg_settings_nadya.json'"
     ]
    }
   ],
   "source": [
    "with open(path2) as json_data:\n",
    "    catdef = json.load(json_data)"
   ]
  },
  {
   "cell_type": "code",
   "execution_count": 19,
   "metadata": {
    "collapsed": false
   },
   "outputs": [
    {
     "data": {
      "text/plain": [
       "{u'#file': u'/mnt/t3nfs01/data01/shome/nchernya/HHbbgg_ETH_devel/outfiles/20180416/20180416_ggHHbbgg_DiPhotonJets_diffNaming.root',\n",
       " u'addBSMNodes': 1,\n",
       " u'file': u'/mnt/t3nfs01/data01/shome/nchernya/HHbbgg_ETH_devel/outfiles/20180426/20180426_preselection_diffNaming.root',\n",
       " u'observable': [u'Mgg', 100.0, 180.0],\n",
       " u'selections': [],\n",
       " u'subcategories': [[u'subcat0', u'MX >250. && MX<=341.4'],\n",
       "  [u'subcat1', u'MX >341.4 && MX<=426.1'],\n",
       "  [u'subcat2', u'MX >426.1 && MX<=544.'],\n",
       "  [u'subcat3', u'MX >544.']],\n",
       " u'variables': [u'HHTagger2017transform']}"
      ]
     },
     "execution_count": 19,
     "metadata": {},
     "output_type": "execute_result"
    }
   ],
   "source": [
    "catdef"
   ]
  },
  {
   "cell_type": "code",
   "execution_count": null,
   "metadata": {
    "collapsed": true
   },
   "outputs": [],
   "source": []
  }
 ],
 "metadata": {
  "anaconda-cloud": {},
  "kernelspec": {
   "display_name": "Python [default]",
   "language": "python",
   "name": "python2"
  },
  "language_info": {
   "codemirror_mode": {
    "name": "ipython",
    "version": 2
   },
   "file_extension": ".py",
   "mimetype": "text/x-python",
   "name": "python",
   "nbconvert_exporter": "python",
   "pygments_lexer": "ipython2",
   "version": "2.7.12"
  }
 },
 "nbformat": 4,
 "nbformat_minor": 1
}
