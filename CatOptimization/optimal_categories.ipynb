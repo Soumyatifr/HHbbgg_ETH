{
 "cells": [
  {
   "cell_type": "code",
   "execution_count": 1,
   "metadata": {
    "collapsed": true
   },
   "outputs": [],
   "source": [
    "path = '/mnt/t3nfs01/data01/shome/musella/Analysis/FGG_8_0_26_patch1/src/diphotons/Utils/macro/www/higgs/hh/cat_opt'"
   ]
  },
  {
   "cell_type": "code",
   "execution_count": 2,
   "metadata": {
    "collapsed": true
   },
   "outputs": [],
   "source": [
    "import glob"
   ]
  },
  {
   "cell_type": "code",
   "execution_count": 3,
   "metadata": {
    "collapsed": true
   },
   "outputs": [],
   "source": [
    "files = glob.glob('%s/*x*node*/cat_opt.json' % path)"
   ]
  },
  {
   "cell_type": "code",
   "execution_count": 4,
   "metadata": {
    "collapsed": false
   },
   "outputs": [
    {
     "data": {
      "text/plain": [
       "['/mnt/t3nfs01/data01/shome/musella/Analysis/FGG_8_0_26_patch1/src/diphotons/Utils/macro/www/higgs/hh/cat_opt/no_fakes_no_SMH_3x3_node_8/cat_opt.json',\n",
       " '/mnt/t3nfs01/data01/shome/musella/Analysis/FGG_8_0_26_patch1/src/diphotons/Utils/macro/www/higgs/hh/cat_opt/no_fakes_no_SMH_3x3_node_4/cat_opt.json',\n",
       " '/mnt/t3nfs01/data01/shome/musella/Analysis/FGG_8_0_26_patch1/src/diphotons/Utils/macro/www/higgs/hh/cat_opt/no_fakes_no_SMH_3x3_node_11/cat_opt.json',\n",
       " '/mnt/t3nfs01/data01/shome/musella/Analysis/FGG_8_0_26_patch1/src/diphotons/Utils/macro/www/higgs/hh/cat_opt/no_fakes_no_SMH_3x3_node_7/cat_opt.json',\n",
       " '/mnt/t3nfs01/data01/shome/musella/Analysis/FGG_8_0_26_patch1/src/diphotons/Utils/macro/www/higgs/hh/cat_opt/no_fakes_no_SMH_3x3_node_13/cat_opt.json',\n",
       " '/mnt/t3nfs01/data01/shome/musella/Analysis/FGG_8_0_26_patch1/src/diphotons/Utils/macro/www/higgs/hh/cat_opt/no_fakes_no_SMH_3x3_node_2/cat_opt.json',\n",
       " '/mnt/t3nfs01/data01/shome/musella/Analysis/FGG_8_0_26_patch1/src/diphotons/Utils/macro/www/higgs/hh/cat_opt/no_fakes_no_SMH_3x3_node_6/cat_opt.json',\n",
       " '/mnt/t3nfs01/data01/shome/musella/Analysis/FGG_8_0_26_patch1/src/diphotons/Utils/macro/www/higgs/hh/cat_opt/no_fakes_no_SMH_3x3_node_9/cat_opt.json',\n",
       " '/mnt/t3nfs01/data01/shome/musella/Analysis/FGG_8_0_26_patch1/src/diphotons/Utils/macro/www/higgs/hh/cat_opt/no_fakes_no_SMH_3x3_node_5/cat_opt.json',\n",
       " '/mnt/t3nfs01/data01/shome/musella/Analysis/FGG_8_0_26_patch1/src/diphotons/Utils/macro/www/higgs/hh/cat_opt/no_fakes_no_SMH_3x3_node_SM/cat_opt.json',\n",
       " '/mnt/t3nfs01/data01/shome/musella/Analysis/FGG_8_0_26_patch1/src/diphotons/Utils/macro/www/higgs/hh/cat_opt/no_fakes_no_SMH_3x3_node_3/cat_opt.json',\n",
       " '/mnt/t3nfs01/data01/shome/musella/Analysis/FGG_8_0_26_patch1/src/diphotons/Utils/macro/www/higgs/hh/cat_opt/no_fakes_no_SMH_3x3_node_12/cat_opt.json',\n",
       " '/mnt/t3nfs01/data01/shome/musella/Analysis/FGG_8_0_26_patch1/src/diphotons/Utils/macro/www/higgs/hh/cat_opt/no_fakes_no_SMH_3x3_node_10/cat_opt.json',\n",
       " '/mnt/t3nfs01/data01/shome/musella/Analysis/FGG_8_0_26_patch1/src/diphotons/Utils/macro/www/higgs/hh/cat_opt/no_fakes_no_SMH_4x2_4x3_node_8/cat_opt.json',\n",
       " '/mnt/t3nfs01/data01/shome/musella/Analysis/FGG_8_0_26_patch1/src/diphotons/Utils/macro/www/higgs/hh/cat_opt/no_fakes_no_SMH_4x2_4x3_node_9/cat_opt.json',\n",
       " '/mnt/t3nfs01/data01/shome/musella/Analysis/FGG_8_0_26_patch1/src/diphotons/Utils/macro/www/higgs/hh/cat_opt/no_fakes_no_SMH_4x2_4x3_node_12/cat_opt.json',\n",
       " '/mnt/t3nfs01/data01/shome/musella/Analysis/FGG_8_0_26_patch1/src/diphotons/Utils/macro/www/higgs/hh/cat_opt/no_fakes_no_SMH_4x2_4x3_node_7/cat_opt.json',\n",
       " '/mnt/t3nfs01/data01/shome/musella/Analysis/FGG_8_0_26_patch1/src/diphotons/Utils/macro/www/higgs/hh/cat_opt/no_fakes_no_SMH_4x2_4x3_node_4/cat_opt.json',\n",
       " '/mnt/t3nfs01/data01/shome/musella/Analysis/FGG_8_0_26_patch1/src/diphotons/Utils/macro/www/higgs/hh/cat_opt/no_fakes_no_SMH_4x2_4x3_node_10/cat_opt.json',\n",
       " '/mnt/t3nfs01/data01/shome/musella/Analysis/FGG_8_0_26_patch1/src/diphotons/Utils/macro/www/higgs/hh/cat_opt/no_fakes_no_SMH_4x2_4x3_node_13/cat_opt.json',\n",
       " '/mnt/t3nfs01/data01/shome/musella/Analysis/FGG_8_0_26_patch1/src/diphotons/Utils/macro/www/higgs/hh/cat_opt/no_fakes_no_SMH_4x2_4x3_node_2/cat_opt.json',\n",
       " '/mnt/t3nfs01/data01/shome/musella/Analysis/FGG_8_0_26_patch1/src/diphotons/Utils/macro/www/higgs/hh/cat_opt/no_fakes_no_SMH_4x2_4x3_node_5/cat_opt.json',\n",
       " '/mnt/t3nfs01/data01/shome/musella/Analysis/FGG_8_0_26_patch1/src/diphotons/Utils/macro/www/higgs/hh/cat_opt/no_fakes_no_SMH_4x2_4x3_node_SM/cat_opt.json',\n",
       " '/mnt/t3nfs01/data01/shome/musella/Analysis/FGG_8_0_26_patch1/src/diphotons/Utils/macro/www/higgs/hh/cat_opt/no_fakes_no_SMH_4x2_4x3_node_6/cat_opt.json',\n",
       " '/mnt/t3nfs01/data01/shome/musella/Analysis/FGG_8_0_26_patch1/src/diphotons/Utils/macro/www/higgs/hh/cat_opt/no_fakes_no_SMH_4x2_4x3_node_11/cat_opt.json',\n",
       " '/mnt/t3nfs01/data01/shome/musella/Analysis/FGG_8_0_26_patch1/src/diphotons/Utils/macro/www/higgs/hh/cat_opt/no_fakes_no_SMH_4x2_4x3_node_3/cat_opt.json',\n",
       " '/mnt/t3nfs01/data01/shome/musella/Analysis/FGG_8_0_26_patch1/src/diphotons/Utils/macro/www/higgs/hh/cat_opt/no_fakes_no_SMH_5x2_node_7/cat_opt.json',\n",
       " '/mnt/t3nfs01/data01/shome/musella/Analysis/FGG_8_0_26_patch1/src/diphotons/Utils/macro/www/higgs/hh/cat_opt/no_fakes_no_SMH_5x2_node_2/cat_opt.json',\n",
       " '/mnt/t3nfs01/data01/shome/musella/Analysis/FGG_8_0_26_patch1/src/diphotons/Utils/macro/www/higgs/hh/cat_opt/no_fakes_no_SMH_5x2_node_5/cat_opt.json',\n",
       " '/mnt/t3nfs01/data01/shome/musella/Analysis/FGG_8_0_26_patch1/src/diphotons/Utils/macro/www/higgs/hh/cat_opt/no_fakes_no_SMH_5x2_node_8/cat_opt.json',\n",
       " '/mnt/t3nfs01/data01/shome/musella/Analysis/FGG_8_0_26_patch1/src/diphotons/Utils/macro/www/higgs/hh/cat_opt/no_fakes_no_SMH_5x2_node_3/cat_opt.json',\n",
       " '/mnt/t3nfs01/data01/shome/musella/Analysis/FGG_8_0_26_patch1/src/diphotons/Utils/macro/www/higgs/hh/cat_opt/no_fakes_no_SMH_5x2_node_11/cat_opt.json',\n",
       " '/mnt/t3nfs01/data01/shome/musella/Analysis/FGG_8_0_26_patch1/src/diphotons/Utils/macro/www/higgs/hh/cat_opt/no_fakes_no_SMH_5x2_node_4/cat_opt.json',\n",
       " '/mnt/t3nfs01/data01/shome/musella/Analysis/FGG_8_0_26_patch1/src/diphotons/Utils/macro/www/higgs/hh/cat_opt/no_fakes_no_SMH_5x2_node_SM/cat_opt.json',\n",
       " '/mnt/t3nfs01/data01/shome/musella/Analysis/FGG_8_0_26_patch1/src/diphotons/Utils/macro/www/higgs/hh/cat_opt/no_fakes_no_SMH_5x2_node_9/cat_opt.json',\n",
       " '/mnt/t3nfs01/data01/shome/musella/Analysis/FGG_8_0_26_patch1/src/diphotons/Utils/macro/www/higgs/hh/cat_opt/no_fakes_no_SMH_5x2_node_13/cat_opt.json',\n",
       " '/mnt/t3nfs01/data01/shome/musella/Analysis/FGG_8_0_26_patch1/src/diphotons/Utils/macro/www/higgs/hh/cat_opt/no_fakes_no_SMH_5x2_node_6/cat_opt.json',\n",
       " '/mnt/t3nfs01/data01/shome/musella/Analysis/FGG_8_0_26_patch1/src/diphotons/Utils/macro/www/higgs/hh/cat_opt/no_fakes_no_SMH_5x2_node_12/cat_opt.json',\n",
       " '/mnt/t3nfs01/data01/shome/musella/Analysis/FGG_8_0_26_patch1/src/diphotons/Utils/macro/www/higgs/hh/cat_opt/no_fakes_no_SMH_5x2_node_10/cat_opt.json']"
      ]
     },
     "execution_count": 4,
     "metadata": {},
     "output_type": "execute_result"
    }
   ],
   "source": [
    "files"
   ]
  },
  {
   "cell_type": "code",
   "execution_count": 5,
   "metadata": {
    "collapsed": false
   },
   "outputs": [],
   "source": [
    "import json \n",
    "\n",
    "summary = { x:[] for x in ['node','boundaries','ncat','fom', 'nbins'] } #,'selections']  }\n",
    "\n",
    "for fil in files:\n",
    "    dirnam = fil.split('/')[-2]\n",
    "    name = dirnam.split('node_')[-1]\n",
    "    nbins = int(dirnam.split('_')[-3].split('x')[0])\n",
    "    if name == 'SM': name = '0'\n",
    "    node = int(name)\n",
    "    with open(fil) as fin:\n",
    "        info = json.loads(fin.read())\n",
    "        fin.close()\n",
    "    for key,val in info.items():\n",
    "        val['node'] = node\n",
    "        val['nbins'] = nbins\n",
    "        val['boundaries'] = np.array(val['boundaries'])\n",
    "        #val['selections'] = np.array(val['selections'])\n",
    "        for col in summary.keys():\n",
    "            summary[col].append( val[col] )\n",
    "\n",
    "# print(summary)\n",
    "    "
   ]
  },
  {
   "cell_type": "code",
   "execution_count": 6,
   "metadata": {
    "collapsed": true
   },
   "outputs": [],
   "source": [
    "df = pd.DataFrame(summary)"
   ]
  },
  {
   "cell_type": "code",
   "execution_count": 7,
   "metadata": {
    "collapsed": false
   },
   "outputs": [],
   "source": [
    "df.set_index(['nbins','ncat','node'],drop=False,inplace=True)"
   ]
  },
  {
   "cell_type": "code",
   "execution_count": 8,
   "metadata": {
    "collapsed": false
   },
   "outputs": [
    {
     "data": {
      "text/html": [
       "<div>\n",
       "<style>\n",
       "    .dataframe thead tr:only-child th {\n",
       "        text-align: right;\n",
       "    }\n",
       "\n",
       "    .dataframe thead th {\n",
       "        text-align: left;\n",
       "    }\n",
       "\n",
       "    .dataframe tbody tr th {\n",
       "        vertical-align: top;\n",
       "    }\n",
       "</style>\n",
       "<table border=\"1\" class=\"dataframe\">\n",
       "  <thead>\n",
       "    <tr style=\"text-align: right;\">\n",
       "      <th></th>\n",
       "      <th></th>\n",
       "      <th></th>\n",
       "      <th>boundaries</th>\n",
       "      <th>fom</th>\n",
       "      <th>nbins</th>\n",
       "      <th>ncat</th>\n",
       "      <th>node</th>\n",
       "    </tr>\n",
       "    <tr>\n",
       "      <th>nbins</th>\n",
       "      <th>ncat</th>\n",
       "      <th>node</th>\n",
       "      <th></th>\n",
       "      <th></th>\n",
       "      <th></th>\n",
       "      <th></th>\n",
       "      <th></th>\n",
       "    </tr>\n",
       "  </thead>\n",
       "  <tbody>\n",
       "    <tr>\n",
       "      <th rowspan=\"13\" valign=\"top\">3</th>\n",
       "      <th rowspan=\"13\" valign=\"top\">3</th>\n",
       "      <th>0</th>\n",
       "      <td>[1.01, 0.999, 0.967, 0.841]</td>\n",
       "      <td>-5.135</td>\n",
       "      <td>3</td>\n",
       "      <td>3</td>\n",
       "      <td>0</td>\n",
       "    </tr>\n",
       "    <tr>\n",
       "      <th>2</th>\n",
       "      <td>[1.01, 0.996, 0.976, 0.897]</td>\n",
       "      <td>-4.996</td>\n",
       "      <td>3</td>\n",
       "      <td>3</td>\n",
       "      <td>2</td>\n",
       "    </tr>\n",
       "    <tr>\n",
       "      <th>3</th>\n",
       "      <td>[1.01, 0.99, 0.974, 0.894]</td>\n",
       "      <td>-5.967</td>\n",
       "      <td>3</td>\n",
       "      <td>3</td>\n",
       "      <td>3</td>\n",
       "    </tr>\n",
       "    <tr>\n",
       "      <th>4</th>\n",
       "      <td>[1.01, 0.99, 0.976, 0.924]</td>\n",
       "      <td>-4.913</td>\n",
       "      <td>3</td>\n",
       "      <td>3</td>\n",
       "      <td>4</td>\n",
       "    </tr>\n",
       "    <tr>\n",
       "      <th>5</th>\n",
       "      <td>[1.01, 0.997, 0.978, 0.89]</td>\n",
       "      <td>-3.777</td>\n",
       "      <td>3</td>\n",
       "      <td>3</td>\n",
       "      <td>5</td>\n",
       "    </tr>\n",
       "    <tr>\n",
       "      <th>6</th>\n",
       "      <td>[1.01, 0.997, 0.979, 0.884]</td>\n",
       "      <td>-5.413</td>\n",
       "      <td>3</td>\n",
       "      <td>3</td>\n",
       "      <td>6</td>\n",
       "    </tr>\n",
       "    <tr>\n",
       "      <th>7</th>\n",
       "      <td>[1.01, 0.997, 0.974, 0.91]</td>\n",
       "      <td>-5.398</td>\n",
       "      <td>3</td>\n",
       "      <td>3</td>\n",
       "      <td>7</td>\n",
       "    </tr>\n",
       "    <tr>\n",
       "      <th>8</th>\n",
       "      <td>[1.01, 0.995, 0.98, 0.896]</td>\n",
       "      <td>-3.126</td>\n",
       "      <td>3</td>\n",
       "      <td>3</td>\n",
       "      <td>8</td>\n",
       "    </tr>\n",
       "    <tr>\n",
       "      <th>9</th>\n",
       "      <td>[1.01, 0.998, 0.98, 0.839]</td>\n",
       "      <td>-3.763</td>\n",
       "      <td>3</td>\n",
       "      <td>3</td>\n",
       "      <td>9</td>\n",
       "    </tr>\n",
       "    <tr>\n",
       "      <th>10</th>\n",
       "      <td>[1.01, 0.991, 0.975, 0.89]</td>\n",
       "      <td>-4.195</td>\n",
       "      <td>3</td>\n",
       "      <td>3</td>\n",
       "      <td>10</td>\n",
       "    </tr>\n",
       "    <tr>\n",
       "      <th>11</th>\n",
       "      <td>[1.01, 0.997, 0.977, 0.87]</td>\n",
       "      <td>-5.607</td>\n",
       "      <td>3</td>\n",
       "      <td>3</td>\n",
       "      <td>11</td>\n",
       "    </tr>\n",
       "    <tr>\n",
       "      <th>12</th>\n",
       "      <td>[1.01, 0.998, 0.974, 0.874]</td>\n",
       "      <td>-6.680</td>\n",
       "      <td>3</td>\n",
       "      <td>3</td>\n",
       "      <td>12</td>\n",
       "    </tr>\n",
       "    <tr>\n",
       "      <th>13</th>\n",
       "      <td>[1.01, 0.999, 0.972, 0.89]</td>\n",
       "      <td>-7.088</td>\n",
       "      <td>3</td>\n",
       "      <td>3</td>\n",
       "      <td>13</td>\n",
       "    </tr>\n",
       "    <tr>\n",
       "      <th rowspan=\"26\" valign=\"top\">4</th>\n",
       "      <th rowspan=\"13\" valign=\"top\">2</th>\n",
       "      <th>0</th>\n",
       "      <td>[1.01, 0.997, 0.967]</td>\n",
       "      <td>-5.068</td>\n",
       "      <td>4</td>\n",
       "      <td>2</td>\n",
       "      <td>0</td>\n",
       "    </tr>\n",
       "    <tr>\n",
       "      <th>2</th>\n",
       "      <td>[1.01, 0.995, 0.948]</td>\n",
       "      <td>-4.911</td>\n",
       "      <td>4</td>\n",
       "      <td>2</td>\n",
       "      <td>2</td>\n",
       "    </tr>\n",
       "    <tr>\n",
       "      <th>3</th>\n",
       "      <td>[1.01, 0.992, 0.949]</td>\n",
       "      <td>-5.928</td>\n",
       "      <td>4</td>\n",
       "      <td>2</td>\n",
       "      <td>3</td>\n",
       "    </tr>\n",
       "    <tr>\n",
       "      <th>4</th>\n",
       "      <td>[1.01, 0.997, 0.961]</td>\n",
       "      <td>-4.851</td>\n",
       "      <td>4</td>\n",
       "      <td>2</td>\n",
       "      <td>4</td>\n",
       "    </tr>\n",
       "    <tr>\n",
       "      <th>5</th>\n",
       "      <td>[1.01, 0.995, 0.948]</td>\n",
       "      <td>-3.709</td>\n",
       "      <td>4</td>\n",
       "      <td>2</td>\n",
       "      <td>5</td>\n",
       "    </tr>\n",
       "    <tr>\n",
       "      <th>6</th>\n",
       "      <td>[1.01, 0.999, 0.955]</td>\n",
       "      <td>-5.332</td>\n",
       "      <td>4</td>\n",
       "      <td>2</td>\n",
       "      <td>6</td>\n",
       "    </tr>\n",
       "    <tr>\n",
       "      <th>7</th>\n",
       "      <td>[1.01, 0.998, 0.956]</td>\n",
       "      <td>-5.330</td>\n",
       "      <td>4</td>\n",
       "      <td>2</td>\n",
       "      <td>7</td>\n",
       "    </tr>\n",
       "    <tr>\n",
       "      <th>8</th>\n",
       "      <td>[1.01, 0.982, 0.913]</td>\n",
       "      <td>-2.952</td>\n",
       "      <td>4</td>\n",
       "      <td>2</td>\n",
       "      <td>8</td>\n",
       "    </tr>\n",
       "    <tr>\n",
       "      <th>9</th>\n",
       "      <td>[1.01, 0.999, 0.96]</td>\n",
       "      <td>-3.668</td>\n",
       "      <td>4</td>\n",
       "      <td>2</td>\n",
       "      <td>9</td>\n",
       "    </tr>\n",
       "    <tr>\n",
       "      <th>10</th>\n",
       "      <td>[1.01, 0.996, 0.965]</td>\n",
       "      <td>-4.113</td>\n",
       "      <td>4</td>\n",
       "      <td>2</td>\n",
       "      <td>10</td>\n",
       "    </tr>\n",
       "    <tr>\n",
       "      <th>11</th>\n",
       "      <td>[1.01, 0.996, 0.957]</td>\n",
       "      <td>-5.643</td>\n",
       "      <td>4</td>\n",
       "      <td>2</td>\n",
       "      <td>11</td>\n",
       "    </tr>\n",
       "    <tr>\n",
       "      <th>12</th>\n",
       "      <td>[1.01, 0.996, 0.958]</td>\n",
       "      <td>-6.635</td>\n",
       "      <td>4</td>\n",
       "      <td>2</td>\n",
       "      <td>12</td>\n",
       "    </tr>\n",
       "    <tr>\n",
       "      <th>13</th>\n",
       "      <td>[1.01, 0.991, 0.959]</td>\n",
       "      <td>-7.033</td>\n",
       "      <td>4</td>\n",
       "      <td>2</td>\n",
       "      <td>13</td>\n",
       "    </tr>\n",
       "    <tr>\n",
       "      <th rowspan=\"13\" valign=\"top\">3</th>\n",
       "      <th>0</th>\n",
       "      <td>[1.01, 0.996, 0.965, 0.843]</td>\n",
       "      <td>-5.144</td>\n",
       "      <td>4</td>\n",
       "      <td>3</td>\n",
       "      <td>0</td>\n",
       "    </tr>\n",
       "    <tr>\n",
       "      <th>2</th>\n",
       "      <td>[1.01, 0.992, 0.976, 0.881]</td>\n",
       "      <td>-4.996</td>\n",
       "      <td>4</td>\n",
       "      <td>3</td>\n",
       "      <td>2</td>\n",
       "    </tr>\n",
       "    <tr>\n",
       "      <th>3</th>\n",
       "      <td>[1.01, 0.994, 0.98, 0.893]</td>\n",
       "      <td>-6.020</td>\n",
       "      <td>4</td>\n",
       "      <td>3</td>\n",
       "      <td>3</td>\n",
       "    </tr>\n",
       "    <tr>\n",
       "      <th>4</th>\n",
       "      <td>[1.01, 0.994, 0.972, 0.908]</td>\n",
       "      <td>-4.929</td>\n",
       "      <td>4</td>\n",
       "      <td>3</td>\n",
       "      <td>4</td>\n",
       "    </tr>\n",
       "    <tr>\n",
       "      <th>5</th>\n",
       "      <td>[1.01, 0.997, 0.971, 0.893]</td>\n",
       "      <td>-3.830</td>\n",
       "      <td>4</td>\n",
       "      <td>3</td>\n",
       "      <td>5</td>\n",
       "    </tr>\n",
       "    <tr>\n",
       "      <th>6</th>\n",
       "      <td>[1.01, 0.999, 0.979, 0.885]</td>\n",
       "      <td>-5.413</td>\n",
       "      <td>4</td>\n",
       "      <td>3</td>\n",
       "      <td>6</td>\n",
       "    </tr>\n",
       "    <tr>\n",
       "      <th>7</th>\n",
       "      <td>[1.01, 0.993, 0.97, 0.915]</td>\n",
       "      <td>-5.409</td>\n",
       "      <td>4</td>\n",
       "      <td>3</td>\n",
       "      <td>7</td>\n",
       "    </tr>\n",
       "    <tr>\n",
       "      <th>8</th>\n",
       "      <td>[1.01, 0.99, 0.978, 0.894]</td>\n",
       "      <td>-3.128</td>\n",
       "      <td>4</td>\n",
       "      <td>3</td>\n",
       "      <td>8</td>\n",
       "    </tr>\n",
       "    <tr>\n",
       "      <th>9</th>\n",
       "      <td>[1.01, 0.994, 0.973, 0.927]</td>\n",
       "      <td>-3.766</td>\n",
       "      <td>4</td>\n",
       "      <td>3</td>\n",
       "      <td>9</td>\n",
       "    </tr>\n",
       "    <tr>\n",
       "      <th>10</th>\n",
       "      <td>[1.01, 0.994, 0.979, 0.904]</td>\n",
       "      <td>-4.194</td>\n",
       "      <td>4</td>\n",
       "      <td>3</td>\n",
       "      <td>10</td>\n",
       "    </tr>\n",
       "    <tr>\n",
       "      <th>11</th>\n",
       "      <td>[1.01, 0.992, 0.971, 0.842]</td>\n",
       "      <td>-5.747</td>\n",
       "      <td>4</td>\n",
       "      <td>3</td>\n",
       "      <td>11</td>\n",
       "    </tr>\n",
       "    <tr>\n",
       "      <th>12</th>\n",
       "      <td>[1.01, 0.998, 0.97, 0.875]</td>\n",
       "      <td>-6.733</td>\n",
       "      <td>4</td>\n",
       "      <td>3</td>\n",
       "      <td>12</td>\n",
       "    </tr>\n",
       "    <tr>\n",
       "      <th>13</th>\n",
       "      <td>[1.01, 0.999, 0.975, 0.9]</td>\n",
       "      <td>-7.143</td>\n",
       "      <td>4</td>\n",
       "      <td>3</td>\n",
       "      <td>13</td>\n",
       "    </tr>\n",
       "    <tr>\n",
       "      <th rowspan=\"13\" valign=\"top\">5</th>\n",
       "      <th rowspan=\"13\" valign=\"top\">2</th>\n",
       "      <th>0</th>\n",
       "      <td>[1.01, 0.991, 0.967]</td>\n",
       "      <td>-5.080</td>\n",
       "      <td>5</td>\n",
       "      <td>2</td>\n",
       "      <td>0</td>\n",
       "    </tr>\n",
       "    <tr>\n",
       "      <th>2</th>\n",
       "      <td>[1.01, 0.994, 0.947]</td>\n",
       "      <td>-4.965</td>\n",
       "      <td>5</td>\n",
       "      <td>2</td>\n",
       "      <td>2</td>\n",
       "    </tr>\n",
       "    <tr>\n",
       "      <th>3</th>\n",
       "      <td>[1.01, 0.999, 0.941]</td>\n",
       "      <td>-5.979</td>\n",
       "      <td>5</td>\n",
       "      <td>2</td>\n",
       "      <td>3</td>\n",
       "    </tr>\n",
       "    <tr>\n",
       "      <th>4</th>\n",
       "      <td>[1.01, 0.996, 0.966]</td>\n",
       "      <td>-4.861</td>\n",
       "      <td>5</td>\n",
       "      <td>2</td>\n",
       "      <td>4</td>\n",
       "    </tr>\n",
       "    <tr>\n",
       "      <th>5</th>\n",
       "      <td>[1.01, 0.999, 0.967]</td>\n",
       "      <td>-3.701</td>\n",
       "      <td>5</td>\n",
       "      <td>2</td>\n",
       "      <td>5</td>\n",
       "    </tr>\n",
       "    <tr>\n",
       "      <th>6</th>\n",
       "      <td>[1.01, 0.993, 0.954]</td>\n",
       "      <td>-5.354</td>\n",
       "      <td>5</td>\n",
       "      <td>2</td>\n",
       "      <td>6</td>\n",
       "    </tr>\n",
       "    <tr>\n",
       "      <th>7</th>\n",
       "      <td>[1.01, 0.994, 0.952]</td>\n",
       "      <td>-5.350</td>\n",
       "      <td>5</td>\n",
       "      <td>2</td>\n",
       "      <td>7</td>\n",
       "    </tr>\n",
       "    <tr>\n",
       "      <th>8</th>\n",
       "      <td>[1.01, 0.997, 0.914]</td>\n",
       "      <td>-2.947</td>\n",
       "      <td>5</td>\n",
       "      <td>2</td>\n",
       "      <td>8</td>\n",
       "    </tr>\n",
       "    <tr>\n",
       "      <th>9</th>\n",
       "      <td>[1.01, 0.995, 0.965]</td>\n",
       "      <td>-3.673</td>\n",
       "      <td>5</td>\n",
       "      <td>2</td>\n",
       "      <td>9</td>\n",
       "    </tr>\n",
       "    <tr>\n",
       "      <th>10</th>\n",
       "      <td>[1.01, 0.993, 0.968]</td>\n",
       "      <td>-4.114</td>\n",
       "      <td>5</td>\n",
       "      <td>2</td>\n",
       "      <td>10</td>\n",
       "    </tr>\n",
       "    <tr>\n",
       "      <th>11</th>\n",
       "      <td>[1.01, 0.997, 0.95]</td>\n",
       "      <td>-5.646</td>\n",
       "      <td>5</td>\n",
       "      <td>2</td>\n",
       "      <td>11</td>\n",
       "    </tr>\n",
       "    <tr>\n",
       "      <th>12</th>\n",
       "      <td>[1.01, 0.995, 0.956]</td>\n",
       "      <td>-6.663</td>\n",
       "      <td>5</td>\n",
       "      <td>2</td>\n",
       "      <td>12</td>\n",
       "    </tr>\n",
       "    <tr>\n",
       "      <th>13</th>\n",
       "      <td>[1.01, 1.0, 0.955]</td>\n",
       "      <td>-7.067</td>\n",
       "      <td>5</td>\n",
       "      <td>2</td>\n",
       "      <td>13</td>\n",
       "    </tr>\n",
       "  </tbody>\n",
       "</table>\n",
       "</div>"
      ],
      "text/plain": [
       "                                  boundaries    fom  nbins  ncat  node\n",
       "nbins ncat node                                                       \n",
       "3     3    0     [1.01, 0.999, 0.967, 0.841] -5.135      3     3     0\n",
       "           2     [1.01, 0.996, 0.976, 0.897] -4.996      3     3     2\n",
       "           3      [1.01, 0.99, 0.974, 0.894] -5.967      3     3     3\n",
       "           4      [1.01, 0.99, 0.976, 0.924] -4.913      3     3     4\n",
       "           5      [1.01, 0.997, 0.978, 0.89] -3.777      3     3     5\n",
       "           6     [1.01, 0.997, 0.979, 0.884] -5.413      3     3     6\n",
       "           7      [1.01, 0.997, 0.974, 0.91] -5.398      3     3     7\n",
       "           8      [1.01, 0.995, 0.98, 0.896] -3.126      3     3     8\n",
       "           9      [1.01, 0.998, 0.98, 0.839] -3.763      3     3     9\n",
       "           10     [1.01, 0.991, 0.975, 0.89] -4.195      3     3    10\n",
       "           11     [1.01, 0.997, 0.977, 0.87] -5.607      3     3    11\n",
       "           12    [1.01, 0.998, 0.974, 0.874] -6.680      3     3    12\n",
       "           13     [1.01, 0.999, 0.972, 0.89] -7.088      3     3    13\n",
       "4     2    0            [1.01, 0.997, 0.967] -5.068      4     2     0\n",
       "           2            [1.01, 0.995, 0.948] -4.911      4     2     2\n",
       "           3            [1.01, 0.992, 0.949] -5.928      4     2     3\n",
       "           4            [1.01, 0.997, 0.961] -4.851      4     2     4\n",
       "           5            [1.01, 0.995, 0.948] -3.709      4     2     5\n",
       "           6            [1.01, 0.999, 0.955] -5.332      4     2     6\n",
       "           7            [1.01, 0.998, 0.956] -5.330      4     2     7\n",
       "           8            [1.01, 0.982, 0.913] -2.952      4     2     8\n",
       "           9             [1.01, 0.999, 0.96] -3.668      4     2     9\n",
       "           10           [1.01, 0.996, 0.965] -4.113      4     2    10\n",
       "           11           [1.01, 0.996, 0.957] -5.643      4     2    11\n",
       "           12           [1.01, 0.996, 0.958] -6.635      4     2    12\n",
       "           13           [1.01, 0.991, 0.959] -7.033      4     2    13\n",
       "      3    0     [1.01, 0.996, 0.965, 0.843] -5.144      4     3     0\n",
       "           2     [1.01, 0.992, 0.976, 0.881] -4.996      4     3     2\n",
       "           3      [1.01, 0.994, 0.98, 0.893] -6.020      4     3     3\n",
       "           4     [1.01, 0.994, 0.972, 0.908] -4.929      4     3     4\n",
       "           5     [1.01, 0.997, 0.971, 0.893] -3.830      4     3     5\n",
       "           6     [1.01, 0.999, 0.979, 0.885] -5.413      4     3     6\n",
       "           7      [1.01, 0.993, 0.97, 0.915] -5.409      4     3     7\n",
       "           8      [1.01, 0.99, 0.978, 0.894] -3.128      4     3     8\n",
       "           9     [1.01, 0.994, 0.973, 0.927] -3.766      4     3     9\n",
       "           10    [1.01, 0.994, 0.979, 0.904] -4.194      4     3    10\n",
       "           11    [1.01, 0.992, 0.971, 0.842] -5.747      4     3    11\n",
       "           12     [1.01, 0.998, 0.97, 0.875] -6.733      4     3    12\n",
       "           13      [1.01, 0.999, 0.975, 0.9] -7.143      4     3    13\n",
       "5     2    0            [1.01, 0.991, 0.967] -5.080      5     2     0\n",
       "           2            [1.01, 0.994, 0.947] -4.965      5     2     2\n",
       "           3            [1.01, 0.999, 0.941] -5.979      5     2     3\n",
       "           4            [1.01, 0.996, 0.966] -4.861      5     2     4\n",
       "           5            [1.01, 0.999, 0.967] -3.701      5     2     5\n",
       "           6            [1.01, 0.993, 0.954] -5.354      5     2     6\n",
       "           7            [1.01, 0.994, 0.952] -5.350      5     2     7\n",
       "           8            [1.01, 0.997, 0.914] -2.947      5     2     8\n",
       "           9            [1.01, 0.995, 0.965] -3.673      5     2     9\n",
       "           10           [1.01, 0.993, 0.968] -4.114      5     2    10\n",
       "           11            [1.01, 0.997, 0.95] -5.646      5     2    11\n",
       "           12           [1.01, 0.995, 0.956] -6.663      5     2    12\n",
       "           13             [1.01, 1.0, 0.955] -7.067      5     2    13"
      ]
     },
     "execution_count": 8,
     "metadata": {},
     "output_type": "execute_result"
    }
   ],
   "source": [
    "df.sort_index(inplace=True)\n",
    "df"
   ]
  },
  {
   "cell_type": "code",
   "execution_count": 9,
   "metadata": {
    "collapsed": false
   },
   "outputs": [],
   "source": [
    "# from sklearn.cluster import KMeans"
   ]
  },
  {
   "cell_type": "code",
   "execution_count": 10,
   "metadata": {
    "collapsed": false
   },
   "outputs": [],
   "source": [
    "# boundaries = []\n",
    "\n",
    "# nbins = 3\n",
    "# for ncats in [3]:\n",
    "#     print ncats,nbins\n",
    "#     boundaries.append( np.vstack(df.loc[[nbins,ncats],'boundaries'].values.tolist()).ravel() )"
   ]
  },
  {
   "cell_type": "code",
   "execution_count": 11,
   "metadata": {
    "collapsed": false
   },
   "outputs": [],
   "source": [
    "# boundaries = np.hstack(boundaries).ravel()"
   ]
  },
  {
   "cell_type": "code",
   "execution_count": 12,
   "metadata": {
    "collapsed": false
   },
   "outputs": [],
   "source": [
    "# filtered=boundaries[(boundaries > 260)]\n",
    "# filtered_2=boundaries[(boundaries > 260) & (boundaries < 800)]\n",
    "# filtered=boundaries[(boundaries <=1. )]\n"
   ]
  },
  {
   "cell_type": "code",
   "execution_count": 13,
   "metadata": {
    "collapsed": false,
    "scrolled": true
   },
   "outputs": [],
   "source": [
    "\n",
    "# for n_clusters in [3]:\n",
    "#     plt.hist(boundaries,bins=50,range=[0,1.01]);\n",
    "\n",
    "#     kmeans = KMeans(init='k-means++', n_clusters=n_clusters, n_init=10)\n",
    "#     kmeans.fit(filtered.reshape(-1,1))\n",
    "#     centers = np.array(kmeans.cluster_centers_.ravel().tolist())\n",
    "#     centers.sort()\n",
    "#     #centers=centers[:-1]\n",
    "#     plt.hist(centers,bins=200,range=[0,1.01],weights=35.*np.ones_like(centers));\n",
    "#     print(centers)\n",
    "    \n",
    "# #     kmeans = KMeans(init='k-means++', n_clusters=n_clusters+2, n_init=10)\n",
    "# #     kmeans.fit(boundaries.reshape(-1,1))\n",
    "# #     centers = kmeans.cluster_centers_.ravel() \n",
    "# #     plt.hist(centers,bins=200,range=[250,800],weights=30.*np.ones_like(centers));\n",
    "#     plt.show()"
   ]
  },
  {
   "cell_type": "code",
   "execution_count": 31,
   "metadata": {
    "collapsed": false
   },
   "outputs": [
    {
     "name": "stderr",
     "output_type": "stream",
     "text": [
      "/mnt/t3nfs01/data01/shome/musella/.local/lib/python2.7/site-packages/ipykernel/__main__.py:3: FutureWarning: 'ncat' is both a column name and an index level.\n",
      "Defaulting to column but this will raise an ambiguity error in a future version\n",
      "  app.launch_new_instance()\n",
      "/mnt/t3nfs01/data01/shome/musella/.local/lib/python2.7/site-packages/ipykernel/__main__.py:3: FutureWarning: 'nbins' is both a column name and an index level.\n",
      "Defaulting to column but this will raise an ambiguity error in a future version\n",
      "  app.launch_new_instance()\n"
     ]
    }
   ],
   "source": [
    "# df.plot.hexbin('ncat','nbins','fom',lambda x: -np.array(x).mean(),sharex=False)\n",
    "\n",
    "mean_fom = df.groupby(['ncat','nbins'])[['ncat','nbins','fom']].mean()"
   ]
  },
  {
   "cell_type": "code",
   "execution_count": 32,
   "metadata": {
    "collapsed": true
   },
   "outputs": [],
   "source": [
    "mean_fom['fom'] = - mean_fom['fom']"
   ]
  },
  {
   "cell_type": "code",
   "execution_count": 36,
   "metadata": {
    "collapsed": false
   },
   "outputs": [
    {
     "data": {
      "text/plain": [
       "ncat  nbins\n",
       "2     4        5.013308\n",
       "      5        5.030769\n",
       "3     3        5.081385\n",
       "      4        5.111692\n",
       "Name: fom, dtype: float64"
      ]
     },
     "execution_count": 36,
     "metadata": {},
     "output_type": "execute_result"
    }
   ],
   "source": [
    "mean_fom.fom"
   ]
  },
  {
   "cell_type": "code",
   "execution_count": 43,
   "metadata": {
    "collapsed": false
   },
   "outputs": [
    {
     "ename": "AttributeError",
     "evalue": "'module' object has no attribute 'zlabel'",
     "output_type": "error",
     "traceback": [
      "\u001b[0;31m---------------------------------------------------------------------------\u001b[0m",
      "\u001b[0;31mAttributeError\u001b[0m                            Traceback (most recent call last)",
      "\u001b[0;32m<ipython-input-43-a30a3874c219>\u001b[0m in \u001b[0;36m<module>\u001b[0;34m()\u001b[0m\n\u001b[1;32m      3\u001b[0m \u001b[0mplt\u001b[0m\u001b[0;34m.\u001b[0m\u001b[0mxlabel\u001b[0m\u001b[0;34m(\u001b[0m\u001b[0;34m\"n BDT categories\"\u001b[0m\u001b[0;34m)\u001b[0m\u001b[0;34m\u001b[0m\u001b[0m\n\u001b[1;32m      4\u001b[0m \u001b[0mplt\u001b[0m\u001b[0;34m.\u001b[0m\u001b[0mylabel\u001b[0m\u001b[0;34m(\u001b[0m\u001b[0;34m\"n MX bins\"\u001b[0m\u001b[0;34m)\u001b[0m\u001b[0;34m\u001b[0m\u001b[0m\n\u001b[0;32m----> 5\u001b[0;31m \u001b[0mplt\u001b[0m\u001b[0;34m.\u001b[0m\u001b[0mzlabel\u001b[0m\u001b[0;34m(\u001b[0m\u001b[0;34m\"mean FOM\"\u001b[0m\u001b[0;34m)\u001b[0m\u001b[0;34m\u001b[0m\u001b[0m\n\u001b[0m",
      "\u001b[0;31mAttributeError\u001b[0m: 'module' object has no attribute 'zlabel'"
     ]
    },
    {
     "data": {
      "image/png": "[encoded data removed]",
      "text/plain": [
       "<matplotlib.figure.Figure at 0x7f6aa5e2c610>"
      ]
     },
     "metadata": {},
     "output_type": "display_data"
    }
   ],
   "source": [
    "plt.hexbin(mean_fom.ncat,mean_fom.nbins,mean_fom.fom)\n",
    "plt.colorbar()\n",
    "plt.xlabel(\"n BDT categories\")\n",
    "plt.ylabel(\"n MX bins\")\n",
    "plt.zlabel(\"mean FOM\")"
   ]
  },
  {
   "cell_type": "code",
   "execution_count": 30,
   "metadata": {
    "collapsed": false
   },
   "outputs": [
    {
     "data": {
      "text/plain": [
       "ncat  nbins\n",
       "2     4        5.013308\n",
       "      5        5.030769\n",
       "3     3        5.081385\n",
       "      4        5.111692\n",
       "Name: fom, dtype: float64"
      ]
     },
     "execution_count": 30,
     "metadata": {},
     "output_type": "execute_result"
    }
   ],
   "source": [
    "mean_fom.fom"
   ]
  },
  {
   "cell_type": "code",
   "execution_count": 29,
   "metadata": {
    "collapsed": false
   },
   "outputs": [
    {
     "data": {
      "text/plain": [
       "ncat  nbins\n",
       "2     4        0.980753\n",
       "      5        0.984169\n",
       "3     3        0.994071\n",
       "      4        1.000000\n",
       "Name: fom, dtype: float64"
      ]
     },
     "execution_count": 29,
     "metadata": {},
     "output_type": "execute_result"
    }
   ],
   "source": [
    "mean_fom.fom/mean_fom.fom.max()"
   ]
  },
  {
   "cell_type": "code",
   "execution_count": 45,
   "metadata": {
    "collapsed": false
   },
   "outputs": [
    {
     "name": "stderr",
     "output_type": "stream",
     "text": [
      "/mnt/t3nfs01/data01/shome/musella/.local/lib/python2.7/site-packages/ipykernel/__main__.py:1: FutureWarning: 'ncat' is both a column name and an index level.\n",
      "Defaulting to column but this will raise an ambiguity error in a future version\n",
      "  if __name__ == '__main__':\n",
      "/mnt/t3nfs01/data01/shome/musella/.local/lib/python2.7/site-packages/ipykernel/__main__.py:1: FutureWarning: 'nbins' is both a column name and an index level.\n",
      "Defaulting to column but this will raise an ambiguity error in a future version\n",
      "  if __name__ == '__main__':\n"
     ]
    }
   ],
   "source": [
    "rms_fom = df.groupby(['ncat','nbins'])['fom'].std()"
   ]
  },
  {
   "cell_type": "code",
   "execution_count": 46,
   "metadata": {
    "collapsed": false
   },
   "outputs": [
    {
     "data": {
      "text/plain": [
       "ncat  nbins\n",
       "2     4        1.181612\n",
       "      5        1.194585\n",
       "3     3        1.152539\n",
       "      4        1.170516\n",
       "Name: fom, dtype: float64"
      ]
     },
     "execution_count": 46,
     "metadata": {},
     "output_type": "execute_result"
    }
   ],
   "source": [
    "rms_fom"
   ]
  },
  {
   "cell_type": "code",
   "execution_count": 47,
   "metadata": {
    "collapsed": false
   },
   "outputs": [
    {
     "data": {
      "text/plain": [
       "nbins  ncat  node\n",
       "3      3     0       5.135\n",
       "4      2     0       5.068\n",
       "       3     0       5.144\n",
       "5      2     0       5.080\n",
       "Name: fom, dtype: float64"
      ]
     },
     "execution_count": 47,
     "metadata": {},
     "output_type": "execute_result"
    }
   ],
   "source": [
    "mean_sm = -df[ df.node == 0 ]['fom']\n",
    "mean_sm"
   ]
  },
  {
   "cell_type": "code",
   "execution_count": 48,
   "metadata": {
    "collapsed": false
   },
   "outputs": [
    {
     "data": {
      "text/plain": [
       "nbins  ncat  node\n",
       "3      3     0       0.998250\n",
       "4      2     0       0.985226\n",
       "       3     0       1.000000\n",
       "5      2     0       0.987558\n",
       "Name: fom, dtype: float64"
      ]
     },
     "execution_count": 48,
     "metadata": {},
     "output_type": "execute_result"
    }
   ],
   "source": [
    "mean_sm / mean_sm.max()"
   ]
  },
  {
   "cell_type": "code",
   "execution_count": 61,
   "metadata": {
    "collapsed": false
   },
   "outputs": [],
   "source": [
    "boundaries = np.vstack(df.loc[[3,3]]['boundaries']) \n",
    "boundaries[:,0] = 1.001"
   ]
  },
  {
   "cell_type": "code",
   "execution_count": 62,
   "metadata": {
    "collapsed": false
   },
   "outputs": [
    {
     "data": {
      "text/plain": [
       "array([ 1.001     ,  0.99569231,  0.97553846,  0.88453846])"
      ]
     },
     "execution_count": 62,
     "metadata": {},
     "output_type": "execute_result"
    }
   ],
   "source": [
    "means = boundaries.mean(axis=0)\n",
    "means\n",
    "\n",
    "# nodr array([ 1.01 , 0.99661538, 0.976 , 0.88838462])\n",
    "# withdr array([ 1.01      ,  0.99623077,  0.97892308,  0.89638462])\n",
    "# vanilla array([ 1.01      ,  0.99569231,  0.97553846,  0.88453846])"
   ]
  },
  {
   "cell_type": "code",
   "execution_count": 51,
   "metadata": {
    "collapsed": false
   },
   "outputs": [
    {
     "data": {
      "text/plain": [
       "array([ 0.        ,  0.00312274,  0.00343322,  0.02314375])"
      ]
     },
     "execution_count": 51,
     "metadata": {},
     "output_type": "execute_result"
    }
   ],
   "source": [
    "boundaries.std(axis=0)"
   ]
  },
  {
   "cell_type": "code",
   "execution_count": 63,
   "metadata": {
    "collapsed": false
   },
   "outputs": [
    {
     "data": {
      "text/plain": [
       "<matplotlib.legend.Legend at 0x7f6a2ff5cc50>"
      ]
     },
     "execution_count": 63,
     "metadata": {},
     "output_type": "execute_result"
    },
    {
     "data": {
      "image/png": "[encoded data removed]",
      "text/plain": [
       "<matplotlib.figure.Figure at 0x7f6a2ffc3410>"
      ]
     },
     "metadata": {},
     "output_type": "display_data"
    }
   ],
   "source": [
    "# means[0] = 1.001\n",
    "plt.figure(figsize=(10,5))\n",
    "plt.hist(boundaries.ravel(),bins=100,range=[0.8,1.01],label=\"optimized boundaires\");\n",
    "plt.hist(means,bins=100,range=[0.8,1.01],weights=15.*np.ones_like(means),label=\"mean boundaries\");\n",
    "plt.xlabel(\"BDT boundaries\")\n",
    "plt.legend()"
   ]
  },
  {
   "cell_type": "code",
   "execution_count": null,
   "metadata": {
    "collapsed": false
   },
   "outputs": [],
   "source": []
  },
  {
   "cell_type": "code",
   "execution_count": null,
   "metadata": {
    "collapsed": true
   },
   "outputs": [],
   "source": []
  }
 ],
 "metadata": {
  "anaconda-cloud": {},
  "kernelspec": {
   "display_name": "Python [default]",
   "language": "python",
   "name": "python2"
  },
  "language_info": {
   "codemirror_mode": {
    "name": "ipython",
    "version": 2
   },
   "file_extension": ".py",
   "mimetype": "text/x-python",
   "name": "python",
   "nbconvert_exporter": "python",
   "pygments_lexer": "ipython2",
   "version": "2.7.12"
  }
 },
 "nbformat": 4,
 "nbformat_minor": 1
}
