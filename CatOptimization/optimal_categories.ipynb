{
 "cells": [
  {
   "cell_type": "code",
   "execution_count": 69,
   "metadata": {
    "collapsed": true
   },
   "outputs": [],
   "source": [
    "path = '/mnt/t3nfs01/data01/shome/micheli/CMSSW_HHbbgg/CMSSW_8_0_26/src/diphotons/Utils/macro/outPlots'"
   ]
  },
  {
   "cell_type": "code",
   "execution_count": 70,
   "metadata": {
    "collapsed": true
   },
   "outputs": [],
   "source": [
    "import glob"
   ]
  },
  {
   "cell_type": "code",
   "execution_count": 71,
   "metadata": {
    "collapsed": true
   },
   "outputs": [],
   "source": [
    "files = glob.glob('%s/out_20171127_*node_*transformed_MVA_step2/cat_opt.json' % path)"
   ]
  },
  {
   "cell_type": "code",
   "execution_count": 72,
   "metadata": {
    "collapsed": false
   },
   "outputs": [
    {
     "data": {
      "text/plain": [
       "['/mnt/t3nfs01/data01/shome/micheli/CMSSW_HHbbgg/CMSSW_8_0_26/src/diphotons/Utils/macro/outPlots/out_20171127_120354_node_9_transformed_MVA_step2/cat_opt.json',\n",
       " '/mnt/t3nfs01/data01/shome/micheli/CMSSW_HHbbgg/CMSSW_8_0_26/src/diphotons/Utils/macro/outPlots/out_20171127_120354_node_11_transformed_MVA_step2/cat_opt.json',\n",
       " '/mnt/t3nfs01/data01/shome/micheli/CMSSW_HHbbgg/CMSSW_8_0_26/src/diphotons/Utils/macro/outPlots/out_20171127_120354_node_3_transformed_MVA_step2/cat_opt.json',\n",
       " '/mnt/t3nfs01/data01/shome/micheli/CMSSW_HHbbgg/CMSSW_8_0_26/src/diphotons/Utils/macro/outPlots/out_20171127_120354_node_5_transformed_MVA_step2/cat_opt.json',\n",
       " '/mnt/t3nfs01/data01/shome/micheli/CMSSW_HHbbgg/CMSSW_8_0_26/src/diphotons/Utils/macro/outPlots/out_20171127_120354_node_SM_transformed_MVA_step2/cat_opt.json',\n",
       " '/mnt/t3nfs01/data01/shome/micheli/CMSSW_HHbbgg/CMSSW_8_0_26/src/diphotons/Utils/macro/outPlots/out_20171127_120354_node_8_transformed_MVA_step2/cat_opt.json',\n",
       " '/mnt/t3nfs01/data01/shome/micheli/CMSSW_HHbbgg/CMSSW_8_0_26/src/diphotons/Utils/macro/outPlots/out_20171127_120354_node_2_transformed_MVA_step2/cat_opt.json',\n",
       " '/mnt/t3nfs01/data01/shome/micheli/CMSSW_HHbbgg/CMSSW_8_0_26/src/diphotons/Utils/macro/outPlots/out_20171127_120354_node_10_transformed_MVA_step2/cat_opt.json',\n",
       " '/mnt/t3nfs01/data01/shome/micheli/CMSSW_HHbbgg/CMSSW_8_0_26/src/diphotons/Utils/macro/outPlots/out_20171127_120354_node_4_transformed_MVA_step2/cat_opt.json',\n",
       " '/mnt/t3nfs01/data01/shome/micheli/CMSSW_HHbbgg/CMSSW_8_0_26/src/diphotons/Utils/macro/outPlots/out_20171127_120354_node_7_transformed_MVA_step2/cat_opt.json',\n",
       " '/mnt/t3nfs01/data01/shome/micheli/CMSSW_HHbbgg/CMSSW_8_0_26/src/diphotons/Utils/macro/outPlots/out_20171127_120354_node_13_transformed_MVA_step2/cat_opt.json',\n",
       " '/mnt/t3nfs01/data01/shome/micheli/CMSSW_HHbbgg/CMSSW_8_0_26/src/diphotons/Utils/macro/outPlots/out_20171127_120354_node_6_transformed_MVA_step2/cat_opt.json',\n",
       " '/mnt/t3nfs01/data01/shome/micheli/CMSSW_HHbbgg/CMSSW_8_0_26/src/diphotons/Utils/macro/outPlots/out_20171127_120354_node_12_transformed_MVA_step2/cat_opt.json']"
      ]
     },
     "execution_count": 72,
     "metadata": {},
     "output_type": "execute_result"
    }
   ],
   "source": [
    "files"
   ]
  },
  {
   "cell_type": "code",
   "execution_count": 85,
   "metadata": {
    "collapsed": false
   },
   "outputs": [],
   "source": [
    "import json \n",
    "import numpy as np\n",
    "\n",
    "#summary = { x:[] for x in ['node','boundaries','ncat','fom', 'nbins'] } #,'selections']  }\n",
    "summary = { x:[] for x in ['node','boundaries','ncat','fom']} #,'selections']  }\n",
    "\n",
    "\n",
    "for fil in files:\n",
    "    dirnam = fil.split('/')[-2]\n",
    "    name = dirnam.split('node_')[-1]\n",
    "    dirSuf = name.replace(name.split('_')[0]+'_','')\n",
    "#    nbins = int(dirnam.split('_')[-3].split('x')[0])\n",
    "    if name == str('SM_'+dirSuf): name = '0'\n",
    "    node = int(name.replace('_'+dirSuf,''))\n",
    "    with open(fil) as fin:\n",
    "        info = json.loads(fin.read())\n",
    "        fin.close()\n",
    "    for key,val in info.items():\n",
    "        val['node'] = node\n",
    "#        val['nbins'] = nbins\n",
    "        val['boundaries'] = np.array(val['boundaries'])\n",
    "        #val['selections'] = np.array(val['selections'])\n",
    "        for col in summary.keys():\n",
    "            summary[col].append( val[col] )\n",
    "\n",
    "# print(summary)\n",
    "    "
   ]
  },
  {
   "cell_type": "code",
   "execution_count": 86,
   "metadata": {
    "collapsed": false
   },
   "outputs": [],
   "source": [
    "import pandas as pd\n",
    "df = pd.DataFrame(summary)"
   ]
  },
  {
   "cell_type": "code",
   "execution_count": 87,
   "metadata": {
    "collapsed": false
   },
   "outputs": [],
   "source": [
    "df.set_index(['ncat','node'],drop=False,inplace=True)"
   ]
  },
  {
   "cell_type": "code",
   "execution_count": 88,
   "metadata": {
    "collapsed": false
   },
   "outputs": [
    {
     "data": {
      "text/html": [
       "<div>\n",
       "<style>\n",
       "    .dataframe thead tr:only-child th {\n",
       "        text-align: right;\n",
       "    }\n",
       "\n",
       "    .dataframe thead th {\n",
       "        text-align: left;\n",
       "    }\n",
       "\n",
       "    .dataframe tbody tr th {\n",
       "        vertical-align: top;\n",
       "    }\n",
       "</style>\n",
       "<table border=\"1\" class=\"dataframe\">\n",
       "  <thead>\n",
       "    <tr style=\"text-align: right;\">\n",
       "      <th></th>\n",
       "      <th></th>\n",
       "      <th>boundaries</th>\n",
       "      <th>fom</th>\n",
       "      <th>ncat</th>\n",
       "      <th>node</th>\n",
       "    </tr>\n",
       "    <tr>\n",
       "      <th>ncat</th>\n",
       "      <th>node</th>\n",
       "      <th></th>\n",
       "      <th></th>\n",
       "      <th></th>\n",
       "      <th></th>\n",
       "    </tr>\n",
       "  </thead>\n",
       "  <tbody>\n",
       "    <tr>\n",
       "      <th rowspan=\"13\" valign=\"top\">3</th>\n",
       "      <th>0</th>\n",
       "      <td>[1.01, 0.93, 0.616, 0.317]</td>\n",
       "      <td>-5.279</td>\n",
       "      <td>3</td>\n",
       "      <td>0</td>\n",
       "    </tr>\n",
       "    <tr>\n",
       "      <th>2</th>\n",
       "      <td>[1.01, 0.81, 0.574, 0.341]</td>\n",
       "      <td>-4.995</td>\n",
       "      <td>3</td>\n",
       "      <td>2</td>\n",
       "    </tr>\n",
       "    <tr>\n",
       "      <th>3</th>\n",
       "      <td>[1.01, 0.803, 0.56, 0.302]</td>\n",
       "      <td>-6.008</td>\n",
       "      <td>3</td>\n",
       "      <td>3</td>\n",
       "    </tr>\n",
       "    <tr>\n",
       "      <th>4</th>\n",
       "      <td>[1.01, 0.926, 0.613, 0.409]</td>\n",
       "      <td>-5.118</td>\n",
       "      <td>3</td>\n",
       "      <td>4</td>\n",
       "    </tr>\n",
       "    <tr>\n",
       "      <th>5</th>\n",
       "      <td>[1.01, 0.788, 0.537, 0.18]</td>\n",
       "      <td>-3.683</td>\n",
       "      <td>3</td>\n",
       "      <td>5</td>\n",
       "    </tr>\n",
       "    <tr>\n",
       "      <th>6</th>\n",
       "      <td>[1.01, 0.93, 0.543, 0.32]</td>\n",
       "      <td>-5.437</td>\n",
       "      <td>3</td>\n",
       "      <td>6</td>\n",
       "    </tr>\n",
       "    <tr>\n",
       "      <th>7</th>\n",
       "      <td>[1.01, 0.807, 0.532, 0.307]</td>\n",
       "      <td>-5.412</td>\n",
       "      <td>3</td>\n",
       "      <td>7</td>\n",
       "    </tr>\n",
       "    <tr>\n",
       "      <th>8</th>\n",
       "      <td>[1.01, 0.716, 0.524, 0.288]</td>\n",
       "      <td>-3.050</td>\n",
       "      <td>3</td>\n",
       "      <td>8</td>\n",
       "    </tr>\n",
       "    <tr>\n",
       "      <th>9</th>\n",
       "      <td>[1.01, 0.836, 0.617, 0.377]</td>\n",
       "      <td>-3.775</td>\n",
       "      <td>3</td>\n",
       "      <td>9</td>\n",
       "    </tr>\n",
       "    <tr>\n",
       "      <th>10</th>\n",
       "      <td>[1.01, 0.79, 0.519, 0.152]</td>\n",
       "      <td>-4.174</td>\n",
       "      <td>3</td>\n",
       "      <td>10</td>\n",
       "    </tr>\n",
       "    <tr>\n",
       "      <th>11</th>\n",
       "      <td>[1.01, 0.788, 0.514, 0.279]</td>\n",
       "      <td>-5.629</td>\n",
       "      <td>3</td>\n",
       "      <td>11</td>\n",
       "    </tr>\n",
       "    <tr>\n",
       "      <th>12</th>\n",
       "      <td>[1.01, 0.81, 0.544, 0.327]</td>\n",
       "      <td>-6.695</td>\n",
       "      <td>3</td>\n",
       "      <td>12</td>\n",
       "    </tr>\n",
       "    <tr>\n",
       "      <th>13</th>\n",
       "      <td>[1.01, 0.802, 0.606, 0.303]</td>\n",
       "      <td>-7.123</td>\n",
       "      <td>3</td>\n",
       "      <td>13</td>\n",
       "    </tr>\n",
       "  </tbody>\n",
       "</table>\n",
       "</div>"
      ],
      "text/plain": [
       "                            boundaries    fom  ncat  node\n",
       "ncat node                                                \n",
       "3    0      [1.01, 0.93, 0.616, 0.317] -5.279     3     0\n",
       "     2      [1.01, 0.81, 0.574, 0.341] -4.995     3     2\n",
       "     3      [1.01, 0.803, 0.56, 0.302] -6.008     3     3\n",
       "     4     [1.01, 0.926, 0.613, 0.409] -5.118     3     4\n",
       "     5      [1.01, 0.788, 0.537, 0.18] -3.683     3     5\n",
       "     6       [1.01, 0.93, 0.543, 0.32] -5.437     3     6\n",
       "     7     [1.01, 0.807, 0.532, 0.307] -5.412     3     7\n",
       "     8     [1.01, 0.716, 0.524, 0.288] -3.050     3     8\n",
       "     9     [1.01, 0.836, 0.617, 0.377] -3.775     3     9\n",
       "     10     [1.01, 0.79, 0.519, 0.152] -4.174     3    10\n",
       "     11    [1.01, 0.788, 0.514, 0.279] -5.629     3    11\n",
       "     12     [1.01, 0.81, 0.544, 0.327] -6.695     3    12\n",
       "     13    [1.01, 0.802, 0.606, 0.303] -7.123     3    13"
      ]
     },
     "execution_count": 88,
     "metadata": {},
     "output_type": "execute_result"
    }
   ],
   "source": [
    "df.sort_index(inplace=True)\n",
    "df"
   ]
  },
  {
   "cell_type": "code",
   "execution_count": 89,
   "metadata": {
    "collapsed": false
   },
   "outputs": [
    {
     "name": "stdout",
     "output_type": "stream",
     "text": [
      "[[ 1.001  0.93   0.616  0.317]\n",
      " [ 1.001  0.81   0.574  0.341]\n",
      " [ 1.001  0.803  0.56   0.302]\n",
      " [ 1.001  0.926  0.613  0.409]\n",
      " [ 1.001  0.788  0.537  0.18 ]\n",
      " [ 1.001  0.93   0.543  0.32 ]\n",
      " [ 1.001  0.807  0.532  0.307]\n",
      " [ 1.001  0.716  0.524  0.288]\n",
      " [ 1.001  0.836  0.617  0.377]\n",
      " [ 1.001  0.79   0.519  0.152]\n",
      " [ 1.001  0.788  0.514  0.279]\n",
      " [ 1.001  0.81   0.544  0.327]\n",
      " [ 1.001  0.802  0.606  0.303]]\n"
     ]
    },
    {
     "data": {
      "text/plain": [
       "array([[ 1.001,  0.93 ,  0.616,  0.317],\n",
       "       [ 1.001,  0.81 ,  0.574,  0.341],\n",
       "       [ 1.001,  0.803,  0.56 ,  0.302],\n",
       "       [ 1.001,  0.926,  0.613,  0.409],\n",
       "       [ 1.001,  0.788,  0.537,  0.18 ],\n",
       "       [ 1.001,  0.93 ,  0.543,  0.32 ],\n",
       "       [ 1.001,  0.807,  0.532,  0.307],\n",
       "       [ 1.001,  0.716,  0.524,  0.288],\n",
       "       [ 1.001,  0.836,  0.617,  0.377],\n",
       "       [ 1.001,  0.79 ,  0.519,  0.152],\n",
       "       [ 1.001,  0.788,  0.514,  0.279],\n",
       "       [ 1.001,  0.81 ,  0.544,  0.327],\n",
       "       [ 1.001,  0.802,  0.606,  0.303]])"
      ]
     },
     "execution_count": 89,
     "metadata": {},
     "output_type": "execute_result"
    }
   ],
   "source": [
    "boundaries = np.vstack(df.loc[[3,3]]['boundaries']) \n",
    "boundaries[:,0] = 1.001\n",
    "print boundaries\n",
    "boundaries=boundaries[(boundaries[:,3] > 0.1)]\n",
    "boundaries"
   ]
  },
  {
   "cell_type": "code",
   "execution_count": 90,
   "metadata": {
    "collapsed": false
   },
   "outputs": [
    {
     "data": {
      "text/plain": [
       "array([ 1.001     ,  0.82584615,  0.56146154,  0.30015385])"
      ]
     },
     "execution_count": 90,
     "metadata": {},
     "output_type": "execute_result"
    }
   ],
   "source": [
    "means = boundaries.mean(axis=0)\n",
    "means"
   ]
  },
  {
   "cell_type": "code",
   "execution_count": 91,
   "metadata": {
    "collapsed": false
   },
   "outputs": [],
   "source": [
    "#boundaries.std(axis=0)"
   ]
  },
  {
   "cell_type": "code",
   "execution_count": 92,
   "metadata": {
    "collapsed": false
   },
   "outputs": [
    {
     "data": {
      "image/png": "[encoded data removed]",
      "text/plain": [
       "<matplotlib.figure.Figure at 0x7fa4f5ab8b50>"
      ]
     },
     "metadata": {},
     "output_type": "display_data"
    }
   ],
   "source": [
    "import matplotlib.pyplot as plt\n",
    "\n",
    "# means[0] = 1.001\n",
    "plt.figure(figsize=(10,5))\n",
    "plt.hist(boundaries.ravel(),bins=100,range=[0.,1.01],label=\"optimized boundaires\");\n",
    "plt.hist(means,bins=100,range=[0.,1.01],weights=15.*np.ones_like(means),label=\"mean boundaries\");\n",
    "plt.xlabel(\"BDT boundaries\")\n",
    "plt.legend()\n",
    "plt.show()"
   ]
  },
  {
   "cell_type": "code",
   "execution_count": 93,
   "metadata": {
    "collapsed": false
   },
   "outputs": [
    {
     "data": {
      "text/plain": [
       "array([ 1.001     ,  0.82584615,  0.56146154,  0.30015385])"
      ]
     },
     "execution_count": 93,
     "metadata": {},
     "output_type": "execute_result"
    }
   ],
   "source": [
    "means"
   ]
  },
  {
   "cell_type": "code",
   "execution_count": null,
   "metadata": {
    "collapsed": true
   },
   "outputs": [],
   "source": []
  }
 ],
 "metadata": {
  "anaconda-cloud": {},
  "kernelspec": {
   "display_name": "Python [default]",
   "language": "python",
   "name": "python2"
  },
  "language_info": {
   "codemirror_mode": {
    "name": "ipython",
    "version": 2
   },
   "file_extension": ".py",
   "mimetype": "text/x-python",
   "name": "python",
   "nbconvert_exporter": "python",
   "pygments_lexer": "ipython2",
   "version": "2.7.12"
  }
 },
 "nbformat": 4,
 "nbformat_minor": 1
}
