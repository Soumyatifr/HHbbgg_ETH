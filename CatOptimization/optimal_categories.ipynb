{
 "cells": [
  {
   "cell_type": "code",
   "execution_count": 108,
   "metadata": {
    "collapsed": true
   },
   "outputs": [],
   "source": [
    "path = '/mnt/t3nfs01/data01/shome/micheli/CMSSW_HHbbgg/CMSSW_8_0_26/src/diphotons/Utils/macro/outPlots'"
   ]
  },
  {
   "cell_type": "code",
   "execution_count": 109,
   "metadata": {
    "collapsed": true
   },
   "outputs": [],
   "source": [
    "import glob"
   ]
  },
  {
   "cell_type": "code",
   "execution_count": 121,
   "metadata": {
    "collapsed": true
   },
   "outputs": [],
   "source": [
    "files = glob.glob('%s/out_20171130*_node_*transformed_MVA/cat_opt.json' % path)"
   ]
  },
  {
   "cell_type": "code",
   "execution_count": 122,
   "metadata": {
    "collapsed": false
   },
   "outputs": [
    {
     "data": {
      "text/plain": [
       "['/mnt/t3nfs01/data01/shome/micheli/CMSSW_HHbbgg/CMSSW_8_0_26/src/diphotons/Utils/macro/outPlots/out_20171130_124538_node_6_transformed_MVA/cat_opt.json',\n",
       " '/mnt/t3nfs01/data01/shome/micheli/CMSSW_HHbbgg/CMSSW_8_0_26/src/diphotons/Utils/macro/outPlots/out_20171130_124538_node_12_transformed_MVA/cat_opt.json',\n",
       " '/mnt/t3nfs01/data01/shome/micheli/CMSSW_HHbbgg/CMSSW_8_0_26/src/diphotons/Utils/macro/outPlots/out_20171130_124538_node_8_transformed_MVA/cat_opt.json',\n",
       " '/mnt/t3nfs01/data01/shome/micheli/CMSSW_HHbbgg/CMSSW_8_0_26/src/diphotons/Utils/macro/outPlots/out_20171130_124027_node_11_transformed_MVA/cat_opt.json',\n",
       " '/mnt/t3nfs01/data01/shome/micheli/CMSSW_HHbbgg/CMSSW_8_0_26/src/diphotons/Utils/macro/outPlots/out_20171130_124538_node_7_transformed_MVA/cat_opt.json',\n",
       " '/mnt/t3nfs01/data01/shome/micheli/CMSSW_HHbbgg/CMSSW_8_0_26/src/diphotons/Utils/macro/outPlots/out_20171130_124027_node_10_transformed_MVA/cat_opt.json',\n",
       " '/mnt/t3nfs01/data01/shome/micheli/CMSSW_HHbbgg/CMSSW_8_0_26/src/diphotons/Utils/macro/outPlots/out_20171130_124538_node_9_transformed_MVA/cat_opt.json',\n",
       " '/mnt/t3nfs01/data01/shome/micheli/CMSSW_HHbbgg/CMSSW_8_0_26/src/diphotons/Utils/macro/outPlots/out_20171130_124538_node_13_transformed_MVA/cat_opt.json',\n",
       " '/mnt/t3nfs01/data01/shome/micheli/CMSSW_HHbbgg/CMSSW_8_0_26/src/diphotons/Utils/macro/outPlots/out_20171130_124027_node_13_transformed_MVA/cat_opt.json',\n",
       " '/mnt/t3nfs01/data01/shome/micheli/CMSSW_HHbbgg/CMSSW_8_0_26/src/diphotons/Utils/macro/outPlots/out_20171130_124538_node_10_transformed_MVA/cat_opt.json',\n",
       " '/mnt/t3nfs01/data01/shome/micheli/CMSSW_HHbbgg/CMSSW_8_0_26/src/diphotons/Utils/macro/outPlots/out_20171130_124538_node_4_transformed_MVA/cat_opt.json',\n",
       " '/mnt/t3nfs01/data01/shome/micheli/CMSSW_HHbbgg/CMSSW_8_0_26/src/diphotons/Utils/macro/outPlots/out_20171130_124538_node_11_transformed_MVA/cat_opt.json',\n",
       " '/mnt/t3nfs01/data01/shome/micheli/CMSSW_HHbbgg/CMSSW_8_0_26/src/diphotons/Utils/macro/outPlots/out_20171130_124027_node_12_transformed_MVA/cat_opt.json',\n",
       " '/mnt/t3nfs01/data01/shome/micheli/CMSSW_HHbbgg/CMSSW_8_0_26/src/diphotons/Utils/macro/outPlots/out_20171130_124538_node_5_transformed_MVA/cat_opt.json',\n",
       " '/mnt/t3nfs01/data01/shome/micheli/CMSSW_HHbbgg/CMSSW_8_0_26/src/diphotons/Utils/macro/outPlots/out_20171130_124538_node_SM_transformed_MVA/cat_opt.json',\n",
       " '/mnt/t3nfs01/data01/shome/micheli/CMSSW_HHbbgg/CMSSW_8_0_26/src/diphotons/Utils/macro/outPlots/out_20171130_124538_node_3_transformed_MVA/cat_opt.json',\n",
       " '/mnt/t3nfs01/data01/shome/micheli/CMSSW_HHbbgg/CMSSW_8_0_26/src/diphotons/Utils/macro/outPlots/out_20171130_124538_node_2_transformed_MVA/cat_opt.json']"
      ]
     },
     "execution_count": 122,
     "metadata": {},
     "output_type": "execute_result"
    }
   ],
   "source": [
    "files"
   ]
  },
  {
   "cell_type": "code",
   "execution_count": 123,
   "metadata": {
    "collapsed": false
   },
   "outputs": [],
   "source": [
    "import json \n",
    "import numpy as np\n",
    "\n",
    "#summary = { x:[] for x in ['node','boundaries','ncat','fom', 'nbins'] } #,'selections']  }\n",
    "summary = { x:[] for x in ['node','boundaries','ncat','fom']} #,'selections']  }\n",
    "\n",
    "\n",
    "for fil in files:\n",
    "    dirnam = fil.split('/')[-2]\n",
    "    name = dirnam.split('node_')[-1]\n",
    "    dirSuf = name.replace(name.split('_')[0]+'_','')\n",
    "#    nbins = int(dirnam.split('_')[-3].split('x')[0])\n",
    "    if name == str('SM_'+dirSuf): name = '0'\n",
    "    node = int(name.replace('_'+dirSuf,''))\n",
    "    with open(fil) as fin:\n",
    "        info = json.loads(fin.read())\n",
    "        fin.close()\n",
    "    for key,val in info.items():\n",
    "        val['node'] = node\n",
    "#        val['nbins'] = nbins\n",
    "        val['boundaries'] = np.array(val['boundaries'])\n",
    "        #val['selections'] = np.array(val['selections'])\n",
    "        for col in summary.keys():\n",
    "            summary[col].append( val[col] )\n",
    "\n",
    "# print(summary)\n",
    "    "
   ]
  },
  {
   "cell_type": "code",
   "execution_count": 124,
   "metadata": {
    "collapsed": false
   },
   "outputs": [],
   "source": [
    "import pandas as pd\n",
    "df = pd.DataFrame(summary)"
   ]
  },
  {
   "cell_type": "code",
   "execution_count": 125,
   "metadata": {
    "collapsed": false
   },
   "outputs": [],
   "source": [
    "df.set_index(['ncat','node'],drop=False,inplace=True)"
   ]
  },
  {
   "cell_type": "code",
   "execution_count": 126,
   "metadata": {
    "collapsed": false
   },
   "outputs": [
    {
     "data": {
      "text/html": [
       "<div>\n",
       "<style>\n",
       "    .dataframe thead tr:only-child th {\n",
       "        text-align: right;\n",
       "    }\n",
       "\n",
       "    .dataframe thead th {\n",
       "        text-align: left;\n",
       "    }\n",
       "\n",
       "    .dataframe tbody tr th {\n",
       "        vertical-align: top;\n",
       "    }\n",
       "</style>\n",
       "<table border=\"1\" class=\"dataframe\">\n",
       "  <thead>\n",
       "    <tr style=\"text-align: right;\">\n",
       "      <th></th>\n",
       "      <th></th>\n",
       "      <th>boundaries</th>\n",
       "      <th>fom</th>\n",
       "      <th>ncat</th>\n",
       "      <th>node</th>\n",
       "    </tr>\n",
       "    <tr>\n",
       "      <th>ncat</th>\n",
       "      <th>node</th>\n",
       "      <th></th>\n",
       "      <th></th>\n",
       "      <th></th>\n",
       "      <th></th>\n",
       "    </tr>\n",
       "  </thead>\n",
       "  <tbody>\n",
       "    <tr>\n",
       "      <th rowspan=\"17\" valign=\"top\">3</th>\n",
       "      <th>0</th>\n",
       "      <td>[1.01, 0.733, 0.576, 0.339]</td>\n",
       "      <td>-4.903</td>\n",
       "      <td>3</td>\n",
       "      <td>0</td>\n",
       "    </tr>\n",
       "    <tr>\n",
       "      <th>2</th>\n",
       "      <td>[1.01, 0.728, 0.547, 0.321]</td>\n",
       "      <td>-4.741</td>\n",
       "      <td>3</td>\n",
       "      <td>2</td>\n",
       "    </tr>\n",
       "    <tr>\n",
       "      <th>3</th>\n",
       "      <td>[1.01, 0.738, 0.555, 0.32]</td>\n",
       "      <td>-5.503</td>\n",
       "      <td>3</td>\n",
       "      <td>3</td>\n",
       "    </tr>\n",
       "    <tr>\n",
       "      <th>4</th>\n",
       "      <td>[1.01, 0.733, 0.537, 0.333]</td>\n",
       "      <td>-4.754</td>\n",
       "      <td>3</td>\n",
       "      <td>4</td>\n",
       "    </tr>\n",
       "    <tr>\n",
       "      <th>5</th>\n",
       "      <td>[1.01, 0.739, 0.545, 0.295]</td>\n",
       "      <td>-3.519</td>\n",
       "      <td>3</td>\n",
       "      <td>5</td>\n",
       "    </tr>\n",
       "    <tr>\n",
       "      <th>6</th>\n",
       "      <td>[1.01, 0.74, 0.549, 0.326]</td>\n",
       "      <td>-5.155</td>\n",
       "      <td>3</td>\n",
       "      <td>6</td>\n",
       "    </tr>\n",
       "    <tr>\n",
       "      <th>7</th>\n",
       "      <td>[1.01, 0.739, 0.524, 0.327]</td>\n",
       "      <td>-5.188</td>\n",
       "      <td>3</td>\n",
       "      <td>7</td>\n",
       "    </tr>\n",
       "    <tr>\n",
       "      <th>8</th>\n",
       "      <td>[1.01, 0.664, 0.333, 0.13]</td>\n",
       "      <td>-2.907</td>\n",
       "      <td>3</td>\n",
       "      <td>8</td>\n",
       "    </tr>\n",
       "    <tr>\n",
       "      <th>9</th>\n",
       "      <td>[1.01, 0.736, 0.54, 0.318]</td>\n",
       "      <td>-3.720</td>\n",
       "      <td>3</td>\n",
       "      <td>9</td>\n",
       "    </tr>\n",
       "    <tr>\n",
       "      <th>10</th>\n",
       "      <td>[1.01, 0.747, 0.45, 0.155]</td>\n",
       "      <td>-4.097</td>\n",
       "      <td>3</td>\n",
       "      <td>10</td>\n",
       "    </tr>\n",
       "    <tr>\n",
       "      <th>10</th>\n",
       "      <td>[1.01, 0.739, 0.519, 0.281]</td>\n",
       "      <td>-4.133</td>\n",
       "      <td>3</td>\n",
       "      <td>10</td>\n",
       "    </tr>\n",
       "    <tr>\n",
       "      <th>11</th>\n",
       "      <td>[1.01, 0.839, 0.617, 0.414]</td>\n",
       "      <td>-5.270</td>\n",
       "      <td>3</td>\n",
       "      <td>11</td>\n",
       "    </tr>\n",
       "    <tr>\n",
       "      <th>11</th>\n",
       "      <td>[1.01, 0.732, 0.545, 0.312]</td>\n",
       "      <td>-5.128</td>\n",
       "      <td>3</td>\n",
       "      <td>11</td>\n",
       "    </tr>\n",
       "    <tr>\n",
       "      <th>12</th>\n",
       "      <td>[1.01, 0.736, 0.473, 0.005]</td>\n",
       "      <td>-6.094</td>\n",
       "      <td>3</td>\n",
       "      <td>12</td>\n",
       "    </tr>\n",
       "    <tr>\n",
       "      <th>12</th>\n",
       "      <td>[1.01, 0.852, 0.623, 0.408]</td>\n",
       "      <td>-6.326</td>\n",
       "      <td>3</td>\n",
       "      <td>12</td>\n",
       "    </tr>\n",
       "    <tr>\n",
       "      <th>13</th>\n",
       "      <td>[1.01, 0.73, 0.474, 0.282]</td>\n",
       "      <td>-6.435</td>\n",
       "      <td>3</td>\n",
       "      <td>13</td>\n",
       "    </tr>\n",
       "    <tr>\n",
       "      <th>13</th>\n",
       "      <td>[1.01, 0.856, 0.617, 0.394]</td>\n",
       "      <td>-6.623</td>\n",
       "      <td>3</td>\n",
       "      <td>13</td>\n",
       "    </tr>\n",
       "  </tbody>\n",
       "</table>\n",
       "</div>"
      ],
      "text/plain": [
       "                            boundaries    fom  ncat  node\n",
       "ncat node                                                \n",
       "3    0     [1.01, 0.733, 0.576, 0.339] -4.903     3     0\n",
       "     2     [1.01, 0.728, 0.547, 0.321] -4.741     3     2\n",
       "     3      [1.01, 0.738, 0.555, 0.32] -5.503     3     3\n",
       "     4     [1.01, 0.733, 0.537, 0.333] -4.754     3     4\n",
       "     5     [1.01, 0.739, 0.545, 0.295] -3.519     3     5\n",
       "     6      [1.01, 0.74, 0.549, 0.326] -5.155     3     6\n",
       "     7     [1.01, 0.739, 0.524, 0.327] -5.188     3     7\n",
       "     8      [1.01, 0.664, 0.333, 0.13] -2.907     3     8\n",
       "     9      [1.01, 0.736, 0.54, 0.318] -3.720     3     9\n",
       "     10     [1.01, 0.747, 0.45, 0.155] -4.097     3    10\n",
       "     10    [1.01, 0.739, 0.519, 0.281] -4.133     3    10\n",
       "     11    [1.01, 0.839, 0.617, 0.414] -5.270     3    11\n",
       "     11    [1.01, 0.732, 0.545, 0.312] -5.128     3    11\n",
       "     12    [1.01, 0.736, 0.473, 0.005] -6.094     3    12\n",
       "     12    [1.01, 0.852, 0.623, 0.408] -6.326     3    12\n",
       "     13     [1.01, 0.73, 0.474, 0.282] -6.435     3    13\n",
       "     13    [1.01, 0.856, 0.617, 0.394] -6.623     3    13"
      ]
     },
     "execution_count": 126,
     "metadata": {},
     "output_type": "execute_result"
    }
   ],
   "source": [
    "df.sort_index(inplace=True)\n",
    "df"
   ]
  },
  {
   "cell_type": "code",
   "execution_count": 127,
   "metadata": {
    "collapsed": false
   },
   "outputs": [
    {
     "name": "stdout",
     "output_type": "stream",
     "text": [
      "[[ 1.001  0.733  0.576  0.339]\n",
      " [ 1.001  0.728  0.547  0.321]\n",
      " [ 1.001  0.738  0.555  0.32 ]\n",
      " [ 1.001  0.733  0.537  0.333]\n",
      " [ 1.001  0.739  0.545  0.295]\n",
      " [ 1.001  0.74   0.549  0.326]\n",
      " [ 1.001  0.739  0.524  0.327]\n",
      " [ 1.001  0.664  0.333  0.13 ]\n",
      " [ 1.001  0.736  0.54   0.318]\n",
      " [ 1.001  0.747  0.45   0.155]\n",
      " [ 1.001  0.739  0.519  0.281]\n",
      " [ 1.001  0.839  0.617  0.414]\n",
      " [ 1.001  0.732  0.545  0.312]\n",
      " [ 1.001  0.736  0.473  0.005]\n",
      " [ 1.001  0.852  0.623  0.408]\n",
      " [ 1.001  0.73   0.474  0.282]\n",
      " [ 1.001  0.856  0.617  0.394]]\n"
     ]
    },
    {
     "data": {
      "text/plain": [
       "array([[ 1.001,  0.733,  0.576,  0.339],\n",
       "       [ 1.001,  0.728,  0.547,  0.321],\n",
       "       [ 1.001,  0.738,  0.555,  0.32 ],\n",
       "       [ 1.001,  0.733,  0.537,  0.333],\n",
       "       [ 1.001,  0.739,  0.545,  0.295],\n",
       "       [ 1.001,  0.74 ,  0.549,  0.326],\n",
       "       [ 1.001,  0.739,  0.524,  0.327],\n",
       "       [ 1.001,  0.664,  0.333,  0.13 ],\n",
       "       [ 1.001,  0.736,  0.54 ,  0.318],\n",
       "       [ 1.001,  0.747,  0.45 ,  0.155],\n",
       "       [ 1.001,  0.739,  0.519,  0.281],\n",
       "       [ 1.001,  0.839,  0.617,  0.414],\n",
       "       [ 1.001,  0.732,  0.545,  0.312],\n",
       "       [ 1.001,  0.736,  0.473,  0.005],\n",
       "       [ 1.001,  0.852,  0.623,  0.408],\n",
       "       [ 1.001,  0.73 ,  0.474,  0.282],\n",
       "       [ 1.001,  0.856,  0.617,  0.394]])"
      ]
     },
     "execution_count": 127,
     "metadata": {},
     "output_type": "execute_result"
    }
   ],
   "source": [
    "boundaries = np.vstack(df.loc[[3,3]]['boundaries']) \n",
    "boundaries[:,0] = 1.001\n",
    "print boundaries\n",
    "#boundaries=boundaries[(boundaries[:,3] > 0.1)]\n",
    "boundaries"
   ]
  },
  {
   "cell_type": "code",
   "execution_count": 128,
   "metadata": {
    "collapsed": false
   },
   "outputs": [
    {
     "data": {
      "text/plain": [
       "array([ 1.001     ,  0.75182353,  0.53082353,  0.29176471])"
      ]
     },
     "execution_count": 128,
     "metadata": {},
     "output_type": "execute_result"
    }
   ],
   "source": [
    "means = boundaries.mean(axis=0)\n",
    "means"
   ]
  },
  {
   "cell_type": "code",
   "execution_count": 129,
   "metadata": {
    "collapsed": false
   },
   "outputs": [],
   "source": [
    "#boundaries.std(axis=0)"
   ]
  },
  {
   "cell_type": "code",
   "execution_count": 130,
   "metadata": {
    "collapsed": false
   },
   "outputs": [
    {
     "data": {
      "image/png": "[encoded data removed]",
      "text/plain": [
       "<matplotlib.figure.Figure at 0x7fde3ce7f150>"
      ]
     },
     "metadata": {},
     "output_type": "display_data"
    }
   ],
   "source": [
    "import matplotlib.pyplot as plt\n",
    "\n",
    "# means[0] = 1.001\n",
    "plt.figure(figsize=(10,5))\n",
    "plt.hist(boundaries.ravel(),bins=100,range=[0.,1.01],label=\"optimized boundaires\");\n",
    "plt.hist(means,bins=100,range=[0.,1.01],weights=15.*np.ones_like(means),label=\"mean boundaries\");\n",
    "plt.xlabel(\"BDT boundaries\")\n",
    "plt.legend()\n",
    "plt.show()"
   ]
  },
  {
   "cell_type": "code",
   "execution_count": 131,
   "metadata": {
    "collapsed": false
   },
   "outputs": [
    {
     "data": {
      "text/plain": [
       "array([ 1.001     ,  0.75182353,  0.53082353,  0.29176471])"
      ]
     },
     "execution_count": 131,
     "metadata": {},
     "output_type": "execute_result"
    }
   ],
   "source": [
    "means"
   ]
  },
  {
   "cell_type": "code",
   "execution_count": null,
   "metadata": {
    "collapsed": true
   },
   "outputs": [],
   "source": []
  },
  {
   "cell_type": "code",
   "execution_count": null,
   "metadata": {
    "collapsed": true
   },
   "outputs": [],
   "source": []
  }
 ],
 "metadata": {
  "anaconda-cloud": {},
  "kernelspec": {
   "display_name": "Python [default]",
   "language": "python",
   "name": "python2"
  },
  "language_info": {
   "codemirror_mode": {
    "name": "ipython",
    "version": 2
   },
   "file_extension": ".py",
   "mimetype": "text/x-python",
   "name": "python",
   "nbconvert_exporter": "python",
   "pygments_lexer": "ipython2",
   "version": "2.7.12"
  }
 },
 "nbformat": 4,
 "nbformat_minor": 1
}
