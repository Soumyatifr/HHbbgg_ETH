{
 "cells": [
  {
   "cell_type": "code",
   "execution_count": 19,
   "metadata": {
    "collapsed": true
   },
   "outputs": [],
   "source": [
    "#path = '/mnt/t3nfs01/data01/shome/micheli/CMSSW_HHbbgg/CMSSW_8_0_26/src/diphotons/Utils/macro/outPlots'\n",
    "path = '/afs/cern.ch/work/n/nchernya/ETH/CMSSW_8_0_28/src/diphotons/Utils/macro/outPlots/'"
   ]
  },
  {
   "cell_type": "code",
   "execution_count": 20,
   "metadata": {
    "collapsed": true
   },
   "outputs": [],
   "source": [
    "import glob"
   ]
  },
  {
   "cell_type": "code",
   "execution_count": 21,
   "metadata": {
    "collapsed": true
   },
   "outputs": [],
   "source": [
    "#files = glob.glob('%s/out_20171130_17*_node_*transformed_MVA/cat_opt.json' % path)\n",
    "#files = glob.glob('%s/out_20180601_162230_node_*_transformed_MVA/cat_opt.json' % path)\n",
    "#files = glob.glob('%s/out_20180601_164515_node_*_transformed_MVA/cat_opt.json' % path)\n",
    "#date='20180628_143644'\n",
    "date='20180712_150017'\n",
    "files = glob.glob('%s/out_%s_node_*_transformed_MVA/cat_opt.json' % (path,date))\n",
    "#files = glob.glob('%s/out_%s_node_*_transformed_MVA_step2/cat_opt.json' % (path,date))\n",
    "\n"
   ]
  },
  {
   "cell_type": "code",
   "execution_count": 22,
   "metadata": {
    "collapsed": false
   },
   "outputs": [
    {
     "data": {
      "text/plain": [
       "[]"
      ]
     },
     "execution_count": 22,
     "metadata": {},
     "output_type": "execute_result"
    }
   ],
   "source": [
    "files"
   ]
  },
  {
   "cell_type": "code",
   "execution_count": 6,
   "metadata": {
    "collapsed": false
   },
   "outputs": [],
   "source": [
    "import json \n",
    "import numpy as np\n",
    "\n",
    "#summary = { x:[] for x in ['node','boundaries','ncat','fom', 'nbins'] } #,'selections']  }\n",
    "summary = { x:[] for x in ['node','boundaries','ncat','fom']} #,'selections']  }\n",
    "\n",
    "\n",
    "for fil in files:\n",
    "    dirnam = fil.split('/')[-2]\n",
    "    name = dirnam.split('node_')[-1]\n",
    "    dirSuf = name.replace(name.split('_')[0]+'_','')\n",
    "#    nbins = int(dirnam.split('_')[-3].split('x')[0])\n",
    "    if name == str('SM_'+dirSuf): name = '0'\n",
    "    node = int(name.replace('_'+dirSuf,''))\n",
    "    with open(fil) as fin:\n",
    "        info = json.loads(fin.read())\n",
    "        fin.close()\n",
    "    for key,val in info.items():\n",
    "        val['node'] = node\n",
    "#        val['nbins'] = nbins\n",
    "        val['boundaries'] = np.array(val['boundaries'])\n",
    "        #val['selections'] = np.array(val['selections'])\n",
    "        for col in summary.keys():\n",
    "            summary[col].append( val[col] )\n",
    "\n",
    "#print(summary)\n",
    "    "
   ]
  },
  {
   "cell_type": "code",
   "execution_count": 7,
   "metadata": {
    "collapsed": false
   },
   "outputs": [],
   "source": [
    "import pandas as pd\n",
    "df = pd.DataFrame(summary)"
   ]
  },
  {
   "cell_type": "code",
   "execution_count": 8,
   "metadata": {
    "collapsed": false
   },
   "outputs": [],
   "source": [
    "df.set_index(['ncat','node'],drop=False,inplace=True)"
   ]
  },
  {
   "cell_type": "code",
   "execution_count": 9,
   "metadata": {
    "collapsed": false
   },
   "outputs": [
    {
     "data": {
      "text/html": [
       "<div>\n",
       "<style>\n",
       "    .dataframe thead tr:only-child th {\n",
       "        text-align: right;\n",
       "    }\n",
       "\n",
       "    .dataframe thead th {\n",
       "        text-align: left;\n",
       "    }\n",
       "\n",
       "    .dataframe tbody tr th {\n",
       "        vertical-align: top;\n",
       "    }\n",
       "</style>\n",
       "<table border=\"1\" class=\"dataframe\">\n",
       "  <thead>\n",
       "    <tr style=\"text-align: right;\">\n",
       "      <th></th>\n",
       "      <th></th>\n",
       "      <th>boundaries</th>\n",
       "      <th>fom</th>\n",
       "      <th>ncat</th>\n",
       "      <th>node</th>\n",
       "    </tr>\n",
       "    <tr>\n",
       "      <th>ncat</th>\n",
       "      <th>node</th>\n",
       "      <th></th>\n",
       "      <th></th>\n",
       "      <th></th>\n",
       "      <th></th>\n",
       "    </tr>\n",
       "  </thead>\n",
       "  <tbody>\n",
       "    <tr>\n",
       "      <th rowspan=\"14\" valign=\"top\">3</th>\n",
       "      <th>0</th>\n",
       "      <td>[1.01, 0.749, 0.507, 0.261]</td>\n",
       "      <td>-2.379</td>\n",
       "      <td>3</td>\n",
       "      <td>0</td>\n",
       "    </tr>\n",
       "    <tr>\n",
       "      <th>2</th>\n",
       "      <td>[1.01, 0.743, 0.522, 0.322]</td>\n",
       "      <td>-3.909</td>\n",
       "      <td>3</td>\n",
       "      <td>2</td>\n",
       "    </tr>\n",
       "    <tr>\n",
       "      <th>3</th>\n",
       "      <td>[1.01, 0.781, 0.417, 0.015]</td>\n",
       "      <td>35.166</td>\n",
       "      <td>3</td>\n",
       "      <td>3</td>\n",
       "    </tr>\n",
       "    <tr>\n",
       "      <th>4</th>\n",
       "      <td>[1.01, 0.704, 0.358, 0.257]</td>\n",
       "      <td>-3.745</td>\n",
       "      <td>3</td>\n",
       "      <td>4</td>\n",
       "    </tr>\n",
       "    <tr>\n",
       "      <th>5</th>\n",
       "      <td>[1.01, 0.744, 0.48, 0.268]</td>\n",
       "      <td>-2.776</td>\n",
       "      <td>3</td>\n",
       "      <td>5</td>\n",
       "    </tr>\n",
       "    <tr>\n",
       "      <th>6</th>\n",
       "      <td>[1.01, 0.747, 0.435, 0.016]</td>\n",
       "      <td>-4.141</td>\n",
       "      <td>3</td>\n",
       "      <td>6</td>\n",
       "    </tr>\n",
       "    <tr>\n",
       "      <th>7</th>\n",
       "      <td>[1.01, 0.73, 0.508, 0.292]</td>\n",
       "      <td>-4.274</td>\n",
       "      <td>3</td>\n",
       "      <td>7</td>\n",
       "    </tr>\n",
       "    <tr>\n",
       "      <th>8</th>\n",
       "      <td>[1.01, 0.541, 0.354, 0.175]</td>\n",
       "      <td>-2.167</td>\n",
       "      <td>3</td>\n",
       "      <td>8</td>\n",
       "    </tr>\n",
       "    <tr>\n",
       "      <th>9</th>\n",
       "      <td>[1.01, 0.748, 0.517, 0.308]</td>\n",
       "      <td>-2.902</td>\n",
       "      <td>3</td>\n",
       "      <td>9</td>\n",
       "    </tr>\n",
       "    <tr>\n",
       "      <th>10</th>\n",
       "      <td>[1.01, 0.685, 0.508, 0.29]</td>\n",
       "      <td>-3.259</td>\n",
       "      <td>3</td>\n",
       "      <td>10</td>\n",
       "    </tr>\n",
       "    <tr>\n",
       "      <th>11</th>\n",
       "      <td>[1.01, 0.757, 0.368, 0.015]</td>\n",
       "      <td>1.525</td>\n",
       "      <td>3</td>\n",
       "      <td>11</td>\n",
       "    </tr>\n",
       "    <tr>\n",
       "      <th>12</th>\n",
       "      <td>[1.01, 0.749, 0.591, 0.39]</td>\n",
       "      <td>-5.270</td>\n",
       "      <td>3</td>\n",
       "      <td>12</td>\n",
       "    </tr>\n",
       "    <tr>\n",
       "      <th>13</th>\n",
       "      <td>[1.01, 0.73, 0.52, 0.371]</td>\n",
       "      <td>-5.526</td>\n",
       "      <td>3</td>\n",
       "      <td>13</td>\n",
       "    </tr>\n",
       "    <tr>\n",
       "      <th>14</th>\n",
       "      <td>[1.01, 0.742, 0.519, 0.295]</td>\n",
       "      <td>-3.530</td>\n",
       "      <td>3</td>\n",
       "      <td>14</td>\n",
       "    </tr>\n",
       "  </tbody>\n",
       "</table>\n",
       "</div>"
      ],
      "text/plain": [
       "                            boundaries     fom  ncat  node\n",
       "ncat node                                                 \n",
       "3    0     [1.01, 0.749, 0.507, 0.261]  -2.379     3     0\n",
       "     2     [1.01, 0.743, 0.522, 0.322]  -3.909     3     2\n",
       "     3     [1.01, 0.781, 0.417, 0.015]  35.166     3     3\n",
       "     4     [1.01, 0.704, 0.358, 0.257]  -3.745     3     4\n",
       "     5      [1.01, 0.744, 0.48, 0.268]  -2.776     3     5\n",
       "     6     [1.01, 0.747, 0.435, 0.016]  -4.141     3     6\n",
       "     7      [1.01, 0.73, 0.508, 0.292]  -4.274     3     7\n",
       "     8     [1.01, 0.541, 0.354, 0.175]  -2.167     3     8\n",
       "     9     [1.01, 0.748, 0.517, 0.308]  -2.902     3     9\n",
       "     10     [1.01, 0.685, 0.508, 0.29]  -3.259     3    10\n",
       "     11    [1.01, 0.757, 0.368, 0.015]   1.525     3    11\n",
       "     12     [1.01, 0.749, 0.591, 0.39]  -5.270     3    12\n",
       "     13      [1.01, 0.73, 0.52, 0.371]  -5.526     3    13\n",
       "     14    [1.01, 0.742, 0.519, 0.295]  -3.530     3    14"
      ]
     },
     "execution_count": 9,
     "metadata": {},
     "output_type": "execute_result"
    }
   ],
   "source": [
    "df.sort_index(inplace=True)\n",
    "df"
   ]
  },
  {
   "cell_type": "code",
   "execution_count": 10,
   "metadata": {
    "collapsed": true
   },
   "outputs": [],
   "source": [
    "df = df.query('fom<0')"
   ]
  },
  {
   "cell_type": "code",
   "execution_count": 11,
   "metadata": {
    "collapsed": false
   },
   "outputs": [
    {
     "data": {
      "text/html": [
       "<div>\n",
       "<style>\n",
       "    .dataframe thead tr:only-child th {\n",
       "        text-align: right;\n",
       "    }\n",
       "\n",
       "    .dataframe thead th {\n",
       "        text-align: left;\n",
       "    }\n",
       "\n",
       "    .dataframe tbody tr th {\n",
       "        vertical-align: top;\n",
       "    }\n",
       "</style>\n",
       "<table border=\"1\" class=\"dataframe\">\n",
       "  <thead>\n",
       "    <tr style=\"text-align: right;\">\n",
       "      <th></th>\n",
       "      <th></th>\n",
       "      <th>boundaries</th>\n",
       "      <th>fom</th>\n",
       "      <th>ncat</th>\n",
       "      <th>node</th>\n",
       "    </tr>\n",
       "    <tr>\n",
       "      <th>ncat</th>\n",
       "      <th>node</th>\n",
       "      <th></th>\n",
       "      <th></th>\n",
       "      <th></th>\n",
       "      <th></th>\n",
       "    </tr>\n",
       "  </thead>\n",
       "  <tbody>\n",
       "    <tr>\n",
       "      <th rowspan=\"12\" valign=\"top\">3</th>\n",
       "      <th>0</th>\n",
       "      <td>[1.01, 0.749, 0.507, 0.261]</td>\n",
       "      <td>-2.379</td>\n",
       "      <td>3</td>\n",
       "      <td>0</td>\n",
       "    </tr>\n",
       "    <tr>\n",
       "      <th>2</th>\n",
       "      <td>[1.01, 0.743, 0.522, 0.322]</td>\n",
       "      <td>-3.909</td>\n",
       "      <td>3</td>\n",
       "      <td>2</td>\n",
       "    </tr>\n",
       "    <tr>\n",
       "      <th>4</th>\n",
       "      <td>[1.01, 0.704, 0.358, 0.257]</td>\n",
       "      <td>-3.745</td>\n",
       "      <td>3</td>\n",
       "      <td>4</td>\n",
       "    </tr>\n",
       "    <tr>\n",
       "      <th>5</th>\n",
       "      <td>[1.01, 0.744, 0.48, 0.268]</td>\n",
       "      <td>-2.776</td>\n",
       "      <td>3</td>\n",
       "      <td>5</td>\n",
       "    </tr>\n",
       "    <tr>\n",
       "      <th>6</th>\n",
       "      <td>[1.01, 0.747, 0.435, 0.016]</td>\n",
       "      <td>-4.141</td>\n",
       "      <td>3</td>\n",
       "      <td>6</td>\n",
       "    </tr>\n",
       "    <tr>\n",
       "      <th>7</th>\n",
       "      <td>[1.01, 0.73, 0.508, 0.292]</td>\n",
       "      <td>-4.274</td>\n",
       "      <td>3</td>\n",
       "      <td>7</td>\n",
       "    </tr>\n",
       "    <tr>\n",
       "      <th>8</th>\n",
       "      <td>[1.01, 0.541, 0.354, 0.175]</td>\n",
       "      <td>-2.167</td>\n",
       "      <td>3</td>\n",
       "      <td>8</td>\n",
       "    </tr>\n",
       "    <tr>\n",
       "      <th>9</th>\n",
       "      <td>[1.01, 0.748, 0.517, 0.308]</td>\n",
       "      <td>-2.902</td>\n",
       "      <td>3</td>\n",
       "      <td>9</td>\n",
       "    </tr>\n",
       "    <tr>\n",
       "      <th>10</th>\n",
       "      <td>[1.01, 0.685, 0.508, 0.29]</td>\n",
       "      <td>-3.259</td>\n",
       "      <td>3</td>\n",
       "      <td>10</td>\n",
       "    </tr>\n",
       "    <tr>\n",
       "      <th>12</th>\n",
       "      <td>[1.01, 0.749, 0.591, 0.39]</td>\n",
       "      <td>-5.270</td>\n",
       "      <td>3</td>\n",
       "      <td>12</td>\n",
       "    </tr>\n",
       "    <tr>\n",
       "      <th>13</th>\n",
       "      <td>[1.01, 0.73, 0.52, 0.371]</td>\n",
       "      <td>-5.526</td>\n",
       "      <td>3</td>\n",
       "      <td>13</td>\n",
       "    </tr>\n",
       "    <tr>\n",
       "      <th>14</th>\n",
       "      <td>[1.01, 0.742, 0.519, 0.295]</td>\n",
       "      <td>-3.530</td>\n",
       "      <td>3</td>\n",
       "      <td>14</td>\n",
       "    </tr>\n",
       "  </tbody>\n",
       "</table>\n",
       "</div>"
      ],
      "text/plain": [
       "                            boundaries    fom  ncat  node\n",
       "ncat node                                                \n",
       "3    0     [1.01, 0.749, 0.507, 0.261] -2.379     3     0\n",
       "     2     [1.01, 0.743, 0.522, 0.322] -3.909     3     2\n",
       "     4     [1.01, 0.704, 0.358, 0.257] -3.745     3     4\n",
       "     5      [1.01, 0.744, 0.48, 0.268] -2.776     3     5\n",
       "     6     [1.01, 0.747, 0.435, 0.016] -4.141     3     6\n",
       "     7      [1.01, 0.73, 0.508, 0.292] -4.274     3     7\n",
       "     8     [1.01, 0.541, 0.354, 0.175] -2.167     3     8\n",
       "     9     [1.01, 0.748, 0.517, 0.308] -2.902     3     9\n",
       "     10     [1.01, 0.685, 0.508, 0.29] -3.259     3    10\n",
       "     12     [1.01, 0.749, 0.591, 0.39] -5.270     3    12\n",
       "     13      [1.01, 0.73, 0.52, 0.371] -5.526     3    13\n",
       "     14    [1.01, 0.742, 0.519, 0.295] -3.530     3    14"
      ]
     },
     "execution_count": 11,
     "metadata": {},
     "output_type": "execute_result"
    }
   ],
   "source": [
    "df"
   ]
  },
  {
   "cell_type": "code",
   "execution_count": 12,
   "metadata": {
    "collapsed": false
   },
   "outputs": [
    {
     "name": "stdout",
     "output_type": "stream",
     "text": [
      "[[ 1.01   0.749  0.507  0.261]\n",
      " [ 1.01   0.743  0.522  0.322]\n",
      " [ 1.01   0.704  0.358  0.257]\n",
      " [ 1.01   0.744  0.48   0.268]\n",
      " [ 1.01   0.747  0.435  0.016]\n",
      " [ 1.01   0.73   0.508  0.292]\n",
      " [ 1.01   0.541  0.354  0.175]\n",
      " [ 1.01   0.748  0.517  0.308]\n",
      " [ 1.01   0.685  0.508  0.29 ]\n",
      " [ 1.01   0.749  0.591  0.39 ]\n",
      " [ 1.01   0.73   0.52   0.371]\n",
      " [ 1.01   0.742  0.519  0.295]]\n",
      "(12, 4)\n",
      "[[ 1.001  0.749  0.507  0.261]\n",
      " [ 1.001  0.743  0.522  0.322]\n",
      " [ 1.001  0.704  0.358  0.257]\n",
      " [ 1.001  0.744  0.48   0.268]\n",
      " [ 1.001  0.73   0.508  0.292]\n",
      " [ 1.001  0.541  0.354  0.175]\n",
      " [ 1.001  0.748  0.517  0.308]\n",
      " [ 1.001  0.685  0.508  0.29 ]\n",
      " [ 1.001  0.749  0.591  0.39 ]\n",
      " [ 1.001  0.73   0.52   0.371]\n",
      " [ 1.001  0.742  0.519  0.295]]\n"
     ]
    }
   ],
   "source": [
    "boundaries = np.vstack(df.loc[[3,3]]['boundaries']) \n",
    "print boundaries\n",
    "boundaries[:,0] = 1.001\n",
    "boundaries_shape = boundaries.shape\n",
    "print boundaries_shape\n",
    "boundaries=np.array(boundaries[boundaries[:,3] > 0.11]).reshape(-1,4)\n",
    "print boundaries"
   ]
  },
  {
   "cell_type": "code",
   "execution_count": 13,
   "metadata": {
    "collapsed": false
   },
   "outputs": [],
   "source": [
    "boundaries_sort=[]\n",
    "for i in range(boundaries.shape[0]):\n",
    "    if (sorted(boundaries[i],reverse=True)==boundaries[i]).all():\n",
    "        boundaries_sort.append(boundaries[i])"
   ]
  },
  {
   "cell_type": "code",
   "execution_count": null,
   "metadata": {
    "collapsed": false
   },
   "outputs": [],
   "source": []
  },
  {
   "cell_type": "code",
   "execution_count": 14,
   "metadata": {
    "collapsed": false
   },
   "outputs": [
    {
     "data": {
      "text/plain": [
       "array([ 1.001     ,  0.715     ,  0.48945455,  0.29354545])"
      ]
     },
     "execution_count": 14,
     "metadata": {},
     "output_type": "execute_result"
    }
   ],
   "source": [
    "boundaries = np.array(boundaries_sort)\n",
    "means = boundaries.mean(axis=0)\n",
    "means"
   ]
  },
  {
   "cell_type": "code",
   "execution_count": 49,
   "metadata": {
    "collapsed": false
   },
   "outputs": [],
   "source": [
    "#boundaries.std(axis=0)"
   ]
  },
  {
   "cell_type": "code",
   "execution_count": 16,
   "metadata": {
    "collapsed": false
   },
   "outputs": [
    {
     "name": "stdout",
     "output_type": "stream",
     "text": [
      "/afs/cern.ch/work/n/nchernya/ETH/CMSSW_8_0_28/src/diphotons/Utils/macro/outPlots/plots/20180712_140549_newcodev2_optv2all/ doesn't exist, creating it...\n"
     ]
    }
   ],
   "source": [
    "import os\n",
    "tag='newcodev2_optv2all'\n",
    "pathsave = '/afs/cern.ch/work/n/nchernya/ETH/CMSSW_8_0_28/src/diphotons/Utils/macro/outPlots/plots/%s_%s/'%(date,tag)\n",
    "if not os.path.exists(pathsave):\n",
    "    print pathsave, \"doesn't exist, creating it...\"\n",
    "    os.makedirs(pathsave)"
   ]
  },
  {
   "cell_type": "code",
   "execution_count": 17,
   "metadata": {
    "collapsed": false
   },
   "outputs": [
    {
     "data": {
      "text/plain": [
       "<matplotlib.figure.Figure at 0x7f6c0aa54090>"
      ]
     },
     "metadata": {},
     "output_type": "display_data"
    },
    {
     "data": {
      "image/png": "[encoded data removed]",
      "text/plain": [
       "<matplotlib.figure.Figure at 0x7f6c0a9f5610>"
      ]
     },
     "metadata": {},
     "output_type": "display_data"
    }
   ],
   "source": [
    "import matplotlib.pyplot as plt\n",
    "\n",
    "plt.clf()\n",
    "# means[0] = 1.001\n",
    "plt.figure(figsize=(10,5))\n",
    "plt.hist(boundaries.ravel(),bins=100,range=[0.,1.01],label=\"optimized boundaires\");\n",
    "plt.hist(means,bins=100,range=[0.,1.01],weights=5.*np.ones_like(means),alpha=0.5,label=\"mean boundaries\");\n",
    "plt.xlabel(\"BDT boundaries\")\n",
    "plt.legend()\n",
    "plt.savefig(pathsave+\"clusteringMVA_%s_%s\"%(tag,date)+\".pdf\")\n",
    "plt.show()"
   ]
  },
  {
   "cell_type": "code",
   "execution_count": 18,
   "metadata": {
    "collapsed": false
   },
   "outputs": [
    {
     "name": "stdout",
     "output_type": "stream",
     "text": [
      "[ 1.001       0.715       0.48945455  0.29354545]\n"
     ]
    }
   ],
   "source": [
    "print means\n",
    "info_file = open(pathsave+\"info_clusteringMVA_%s_%s.txt\"%(tag,date),\"w\") \n",
    "info_file.write(\",\\n\".join([str(i) for i in means]))\n",
    "info_file.close()"
   ]
  },
  {
   "cell_type": "code",
   "execution_count": null,
   "metadata": {
    "collapsed": false
   },
   "outputs": [],
   "source": []
  },
  {
   "cell_type": "code",
   "execution_count": null,
   "metadata": {
    "collapsed": false
   },
   "outputs": [],
   "source": []
  },
  {
   "cell_type": "code",
   "execution_count": null,
   "metadata": {
    "collapsed": true
   },
   "outputs": [],
   "source": []
  }
 ],
 "metadata": {
  "anaconda-cloud": {},
  "kernelspec": {
   "display_name": "Python [default]",
   "language": "python",
   "name": "python2"
  },
  "language_info": {
   "codemirror_mode": {
    "name": "ipython",
    "version": 2
   },
   "file_extension": ".py",
   "mimetype": "text/x-python",
   "name": "python",
   "nbconvert_exporter": "python",
   "pygments_lexer": "ipython2",
   "version": "2.7.12"
  }
 },
 "nbformat": 4,
 "nbformat_minor": 1
}
