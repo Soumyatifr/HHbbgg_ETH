{
 "cells": [
  {
   "cell_type": "code",
   "execution_count": 108,
   "metadata": {
    "collapsed": true
   },
   "outputs": [],
   "source": [
    "path = '/mnt/t3nfs01/data01/shome/micheli/CMSSW_HHbbgg/CMSSW_8_0_26/src/diphotons/Utils/macro/outPlots'"
   ]
  },
  {
   "cell_type": "code",
   "execution_count": 109,
   "metadata": {
    "collapsed": true
   },
   "outputs": [],
   "source": [
    "import glob"
   ]
  },
  {
   "cell_type": "code",
   "execution_count": 132,
   "metadata": {
    "collapsed": true
   },
   "outputs": [],
   "source": [
    "files = glob.glob('%s/out_20171130_17*_node_*transformed_MVA/cat_opt.json' % path)"
   ]
  },
  {
   "cell_type": "code",
   "execution_count": 133,
   "metadata": {
    "collapsed": false
   },
   "outputs": [
    {
     "data": {
      "text/plain": [
       "['/mnt/t3nfs01/data01/shome/micheli/CMSSW_HHbbgg/CMSSW_8_0_26/src/diphotons/Utils/macro/outPlots/out_20171130_171213_node_SM_transformed_MVA/cat_opt.json']"
      ]
     },
     "execution_count": 133,
     "metadata": {},
     "output_type": "execute_result"
    }
   ],
   "source": [
    "files"
   ]
  },
  {
   "cell_type": "code",
   "execution_count": 134,
   "metadata": {
    "collapsed": false
   },
   "outputs": [],
   "source": [
    "import json \n",
    "import numpy as np\n",
    "\n",
    "#summary = { x:[] for x in ['node','boundaries','ncat','fom', 'nbins'] } #,'selections']  }\n",
    "summary = { x:[] for x in ['node','boundaries','ncat','fom']} #,'selections']  }\n",
    "\n",
    "\n",
    "for fil in files:\n",
    "    dirnam = fil.split('/')[-2]\n",
    "    name = dirnam.split('node_')[-1]\n",
    "    dirSuf = name.replace(name.split('_')[0]+'_','')\n",
    "#    nbins = int(dirnam.split('_')[-3].split('x')[0])\n",
    "    if name == str('SM_'+dirSuf): name = '0'\n",
    "    node = int(name.replace('_'+dirSuf,''))\n",
    "    with open(fil) as fin:\n",
    "        info = json.loads(fin.read())\n",
    "        fin.close()\n",
    "    for key,val in info.items():\n",
    "        val['node'] = node\n",
    "#        val['nbins'] = nbins\n",
    "        val['boundaries'] = np.array(val['boundaries'])\n",
    "        #val['selections'] = np.array(val['selections'])\n",
    "        for col in summary.keys():\n",
    "            summary[col].append( val[col] )\n",
    "\n",
    "# print(summary)\n",
    "    "
   ]
  },
  {
   "cell_type": "code",
   "execution_count": 135,
   "metadata": {
    "collapsed": false
   },
   "outputs": [],
   "source": [
    "import pandas as pd\n",
    "df = pd.DataFrame(summary)"
   ]
  },
  {
   "cell_type": "code",
   "execution_count": 136,
   "metadata": {
    "collapsed": false
   },
   "outputs": [],
   "source": [
    "df.set_index(['ncat','node'],drop=False,inplace=True)"
   ]
  },
  {
   "cell_type": "code",
   "execution_count": 137,
   "metadata": {
    "collapsed": false
   },
   "outputs": [
    {
     "data": {
      "text/html": [
       "<div>\n",
       "<style>\n",
       "    .dataframe thead tr:only-child th {\n",
       "        text-align: right;\n",
       "    }\n",
       "\n",
       "    .dataframe thead th {\n",
       "        text-align: left;\n",
       "    }\n",
       "\n",
       "    .dataframe tbody tr th {\n",
       "        vertical-align: top;\n",
       "    }\n",
       "</style>\n",
       "<table border=\"1\" class=\"dataframe\">\n",
       "  <thead>\n",
       "    <tr style=\"text-align: right;\">\n",
       "      <th></th>\n",
       "      <th></th>\n",
       "      <th>boundaries</th>\n",
       "      <th>fom</th>\n",
       "      <th>ncat</th>\n",
       "      <th>node</th>\n",
       "    </tr>\n",
       "    <tr>\n",
       "      <th>ncat</th>\n",
       "      <th>node</th>\n",
       "      <th></th>\n",
       "      <th></th>\n",
       "      <th></th>\n",
       "      <th></th>\n",
       "    </tr>\n",
       "  </thead>\n",
       "  <tbody>\n",
       "    <tr>\n",
       "      <th>3</th>\n",
       "      <th>0</th>\n",
       "      <td>[1.01, 0.733, 0.576, 0.339]</td>\n",
       "      <td>-4.903</td>\n",
       "      <td>3</td>\n",
       "      <td>0</td>\n",
       "    </tr>\n",
       "  </tbody>\n",
       "</table>\n",
       "</div>"
      ],
      "text/plain": [
       "                            boundaries    fom  ncat  node\n",
       "ncat node                                                \n",
       "3    0     [1.01, 0.733, 0.576, 0.339] -4.903     3     0"
      ]
     },
     "execution_count": 137,
     "metadata": {},
     "output_type": "execute_result"
    }
   ],
   "source": [
    "df.sort_index(inplace=True)\n",
    "df"
   ]
  },
  {
   "cell_type": "code",
   "execution_count": 138,
   "metadata": {
    "collapsed": false
   },
   "outputs": [
    {
     "name": "stdout",
     "output_type": "stream",
     "text": [
      "[[ 1.001  0.733  0.576  0.339]]\n"
     ]
    },
    {
     "data": {
      "text/plain": [
       "array([[ 1.001,  0.733,  0.576,  0.339]])"
      ]
     },
     "execution_count": 138,
     "metadata": {},
     "output_type": "execute_result"
    }
   ],
   "source": [
    "boundaries = np.vstack(df.loc[[3,3]]['boundaries']) \n",
    "boundaries[:,0] = 1.001\n",
    "print boundaries\n",
    "#boundaries=boundaries[(boundaries[:,3] > 0.1)]\n",
    "boundaries"
   ]
  },
  {
   "cell_type": "code",
   "execution_count": 139,
   "metadata": {
    "collapsed": false
   },
   "outputs": [
    {
     "data": {
      "text/plain": [
       "array([ 1.001,  0.733,  0.576,  0.339])"
      ]
     },
     "execution_count": 139,
     "metadata": {},
     "output_type": "execute_result"
    }
   ],
   "source": [
    "means = boundaries.mean(axis=0)\n",
    "means"
   ]
  },
  {
   "cell_type": "code",
   "execution_count": 140,
   "metadata": {
    "collapsed": false
   },
   "outputs": [],
   "source": [
    "#boundaries.std(axis=0)"
   ]
  },
  {
   "cell_type": "code",
   "execution_count": 141,
   "metadata": {
    "collapsed": false
   },
   "outputs": [
    {
     "data": {
      "image/png": "[encoded data removed]",
      "text/plain": [
       "<matplotlib.figure.Figure at 0x7fde39c12c50>"
      ]
     },
     "metadata": {},
     "output_type": "display_data"
    }
   ],
   "source": [
    "import matplotlib.pyplot as plt\n",
    "\n",
    "# means[0] = 1.001\n",
    "plt.figure(figsize=(10,5))\n",
    "plt.hist(boundaries.ravel(),bins=100,range=[0.,1.01],label=\"optimized boundaires\");\n",
    "plt.hist(means,bins=100,range=[0.,1.01],weights=15.*np.ones_like(means),label=\"mean boundaries\");\n",
    "plt.xlabel(\"BDT boundaries\")\n",
    "plt.legend()\n",
    "plt.show()"
   ]
  },
  {
   "cell_type": "code",
   "execution_count": 142,
   "metadata": {
    "collapsed": false
   },
   "outputs": [
    {
     "data": {
      "text/plain": [
       "array([ 1.001,  0.733,  0.576,  0.339])"
      ]
     },
     "execution_count": 142,
     "metadata": {},
     "output_type": "execute_result"
    }
   ],
   "source": [
    "means"
   ]
  },
  {
   "cell_type": "code",
   "execution_count": null,
   "metadata": {
    "collapsed": true
   },
   "outputs": [],
   "source": []
  },
  {
   "cell_type": "code",
   "execution_count": null,
   "metadata": {
    "collapsed": true
   },
   "outputs": [],
   "source": []
  }
 ],
 "metadata": {
  "anaconda-cloud": {},
  "kernelspec": {
   "display_name": "Python [default]",
   "language": "python",
   "name": "python2"
  },
  "language_info": {
   "codemirror_mode": {
    "name": "ipython",
    "version": 2
   },
   "file_extension": ".py",
   "mimetype": "text/x-python",
   "name": "python",
   "nbconvert_exporter": "python",
   "pygments_lexer": "ipython2",
   "version": "2.7.12"
  }
 },
 "nbformat": 4,
 "nbformat_minor": 1
}
