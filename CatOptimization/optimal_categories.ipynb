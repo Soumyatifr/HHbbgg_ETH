{
 "cells": [
  {
   "cell_type": "code",
   "execution_count": 30,
   "metadata": {
    "collapsed": true
   },
   "outputs": [],
   "source": [
    "#path = '/mnt/t3nfs01/data01/shome/micheli/CMSSW_HHbbgg/CMSSW_8_0_26/src/diphotons/Utils/macro/outPlots'\n",
    "path = '/afs/cern.ch/work/n/nchernya/ETH/CMSSW_8_0_28/src/diphotons/Utils/macro/outPlots/'"
   ]
  },
  {
   "cell_type": "code",
   "execution_count": 31,
   "metadata": {
    "collapsed": true
   },
   "outputs": [],
   "source": [
    "import glob"
   ]
  },
  {
   "cell_type": "code",
   "execution_count": 32,
   "metadata": {
    "collapsed": true
   },
   "outputs": [],
   "source": [
    "#files = glob.glob('%s/out_20171130_17*_node_*transformed_MVA/cat_opt.json' % path)\n",
    "#files = glob.glob('%s/out_20180601_162230_node_*_transformed_MVA/cat_opt.json' % path)\n",
    "#files = glob.glob('%s/out_20180601_164515_node_*_transformed_MVA/cat_opt.json' % path)\n",
    "#date='20180628_143644'\n",
    "date='20180628_154339'\n",
    "#files = glob.glob('%s/out_%s_node_*_transformed_MVA/cat_opt.json' % (path,date))\n",
    "files = glob.glob('%s/out_%s_node_*_transformed_MVA_step2/cat_opt.json' % (path,date))\n",
    "\n"
   ]
  },
  {
   "cell_type": "code",
   "execution_count": 33,
   "metadata": {
    "collapsed": false
   },
   "outputs": [
    {
     "data": {
      "text/plain": [
       "['/afs/cern.ch/work/n/nchernya/ETH/CMSSW_8_0_28/src/diphotons/Utils/macro/outPlots/out_20180628_154339_node_10_transformed_MVA_step2/cat_opt.json',\n",
       " '/afs/cern.ch/work/n/nchernya/ETH/CMSSW_8_0_28/src/diphotons/Utils/macro/outPlots/out_20180628_154339_node_11_transformed_MVA_step2/cat_opt.json',\n",
       " '/afs/cern.ch/work/n/nchernya/ETH/CMSSW_8_0_28/src/diphotons/Utils/macro/outPlots/out_20180628_154339_node_12_transformed_MVA_step2/cat_opt.json',\n",
       " '/afs/cern.ch/work/n/nchernya/ETH/CMSSW_8_0_28/src/diphotons/Utils/macro/outPlots/out_20180628_154339_node_13_transformed_MVA_step2/cat_opt.json',\n",
       " '/afs/cern.ch/work/n/nchernya/ETH/CMSSW_8_0_28/src/diphotons/Utils/macro/outPlots/out_20180628_154339_node_14_transformed_MVA_step2/cat_opt.json',\n",
       " '/afs/cern.ch/work/n/nchernya/ETH/CMSSW_8_0_28/src/diphotons/Utils/macro/outPlots/out_20180628_154339_node_2_transformed_MVA_step2/cat_opt.json',\n",
       " '/afs/cern.ch/work/n/nchernya/ETH/CMSSW_8_0_28/src/diphotons/Utils/macro/outPlots/out_20180628_154339_node_3_transformed_MVA_step2/cat_opt.json',\n",
       " '/afs/cern.ch/work/n/nchernya/ETH/CMSSW_8_0_28/src/diphotons/Utils/macro/outPlots/out_20180628_154339_node_4_transformed_MVA_step2/cat_opt.json',\n",
       " '/afs/cern.ch/work/n/nchernya/ETH/CMSSW_8_0_28/src/diphotons/Utils/macro/outPlots/out_20180628_154339_node_5_transformed_MVA_step2/cat_opt.json',\n",
       " '/afs/cern.ch/work/n/nchernya/ETH/CMSSW_8_0_28/src/diphotons/Utils/macro/outPlots/out_20180628_154339_node_6_transformed_MVA_step2/cat_opt.json',\n",
       " '/afs/cern.ch/work/n/nchernya/ETH/CMSSW_8_0_28/src/diphotons/Utils/macro/outPlots/out_20180628_154339_node_7_transformed_MVA_step2/cat_opt.json',\n",
       " '/afs/cern.ch/work/n/nchernya/ETH/CMSSW_8_0_28/src/diphotons/Utils/macro/outPlots/out_20180628_154339_node_8_transformed_MVA_step2/cat_opt.json',\n",
       " '/afs/cern.ch/work/n/nchernya/ETH/CMSSW_8_0_28/src/diphotons/Utils/macro/outPlots/out_20180628_154339_node_9_transformed_MVA_step2/cat_opt.json',\n",
       " '/afs/cern.ch/work/n/nchernya/ETH/CMSSW_8_0_28/src/diphotons/Utils/macro/outPlots/out_20180628_154339_node_SM_transformed_MVA_step2/cat_opt.json']"
      ]
     },
     "execution_count": 33,
     "metadata": {},
     "output_type": "execute_result"
    }
   ],
   "source": [
    "files"
   ]
  },
  {
   "cell_type": "code",
   "execution_count": 34,
   "metadata": {
    "collapsed": false
   },
   "outputs": [],
   "source": [
    "import json \n",
    "import numpy as np\n",
    "\n",
    "#summary = { x:[] for x in ['node','boundaries','ncat','fom', 'nbins'] } #,'selections']  }\n",
    "summary = { x:[] for x in ['node','boundaries','ncat','fom']} #,'selections']  }\n",
    "\n",
    "\n",
    "for fil in files:\n",
    "    dirnam = fil.split('/')[-2]\n",
    "    name = dirnam.split('node_')[-1]\n",
    "    dirSuf = name.replace(name.split('_')[0]+'_','')\n",
    "#    nbins = int(dirnam.split('_')[-3].split('x')[0])\n",
    "    if name == str('SM_'+dirSuf): name = '0'\n",
    "    node = int(name.replace('_'+dirSuf,''))\n",
    "    with open(fil) as fin:\n",
    "        info = json.loads(fin.read())\n",
    "        fin.close()\n",
    "    for key,val in info.items():\n",
    "        val['node'] = node\n",
    "#        val['nbins'] = nbins\n",
    "        val['boundaries'] = np.array(val['boundaries'])\n",
    "        #val['selections'] = np.array(val['selections'])\n",
    "        for col in summary.keys():\n",
    "            summary[col].append( val[col] )\n",
    "\n",
    "#print(summary)\n",
    "    "
   ]
  },
  {
   "cell_type": "code",
   "execution_count": 35,
   "metadata": {
    "collapsed": false
   },
   "outputs": [],
   "source": [
    "import pandas as pd\n",
    "df = pd.DataFrame(summary)"
   ]
  },
  {
   "cell_type": "code",
   "execution_count": 36,
   "metadata": {
    "collapsed": false
   },
   "outputs": [],
   "source": [
    "df.set_index(['ncat','node'],drop=False,inplace=True)"
   ]
  },
  {
   "cell_type": "code",
   "execution_count": 37,
   "metadata": {
    "collapsed": false
   },
   "outputs": [
    {
     "data": {
      "text/html": [
       "<div>\n",
       "<style>\n",
       "    .dataframe thead tr:only-child th {\n",
       "        text-align: right;\n",
       "    }\n",
       "\n",
       "    .dataframe thead th {\n",
       "        text-align: left;\n",
       "    }\n",
       "\n",
       "    .dataframe tbody tr th {\n",
       "        vertical-align: top;\n",
       "    }\n",
       "</style>\n",
       "<table border=\"1\" class=\"dataframe\">\n",
       "  <thead>\n",
       "    <tr style=\"text-align: right;\">\n",
       "      <th></th>\n",
       "      <th></th>\n",
       "      <th>boundaries</th>\n",
       "      <th>fom</th>\n",
       "      <th>ncat</th>\n",
       "      <th>node</th>\n",
       "    </tr>\n",
       "    <tr>\n",
       "      <th>ncat</th>\n",
       "      <th>node</th>\n",
       "      <th></th>\n",
       "      <th></th>\n",
       "      <th></th>\n",
       "      <th></th>\n",
       "    </tr>\n",
       "  </thead>\n",
       "  <tbody>\n",
       "    <tr>\n",
       "      <th rowspan=\"14\" valign=\"top\">3</th>\n",
       "      <th>0</th>\n",
       "      <td>[1.01, 0.777, 0.514, 0.274]</td>\n",
       "      <td>-2.408</td>\n",
       "      <td>3</td>\n",
       "      <td>0</td>\n",
       "    </tr>\n",
       "    <tr>\n",
       "      <th>2</th>\n",
       "      <td>[1.01, 0.764, 0.425, 0.11]</td>\n",
       "      <td>-3.910</td>\n",
       "      <td>3</td>\n",
       "      <td>2</td>\n",
       "    </tr>\n",
       "    <tr>\n",
       "      <th>3</th>\n",
       "      <td>[1.01, 0.799, 0.513, 0.292]</td>\n",
       "      <td>-4.809</td>\n",
       "      <td>3</td>\n",
       "      <td>3</td>\n",
       "    </tr>\n",
       "    <tr>\n",
       "      <th>4</th>\n",
       "      <td>[1.01, 0.773, 0.509, 0.326]</td>\n",
       "      <td>-3.859</td>\n",
       "      <td>3</td>\n",
       "      <td>4</td>\n",
       "    </tr>\n",
       "    <tr>\n",
       "      <th>5</th>\n",
       "      <td>[1.01, 0.636, 0.4, 0.11]</td>\n",
       "      <td>-2.816</td>\n",
       "      <td>3</td>\n",
       "      <td>5</td>\n",
       "    </tr>\n",
       "    <tr>\n",
       "      <th>6</th>\n",
       "      <td>[1.01, 0.788, 0.507, 0.313]</td>\n",
       "      <td>-4.232</td>\n",
       "      <td>3</td>\n",
       "      <td>6</td>\n",
       "    </tr>\n",
       "    <tr>\n",
       "      <th>7</th>\n",
       "      <td>[1.01, 0.803, 0.521, 0.297]</td>\n",
       "      <td>-4.295</td>\n",
       "      <td>3</td>\n",
       "      <td>7</td>\n",
       "    </tr>\n",
       "    <tr>\n",
       "      <th>8</th>\n",
       "      <td>[1.01, 0.781, 0.56, 0.317]</td>\n",
       "      <td>-2.480</td>\n",
       "      <td>3</td>\n",
       "      <td>8</td>\n",
       "    </tr>\n",
       "    <tr>\n",
       "      <th>9</th>\n",
       "      <td>[1.01, 0.805, 0.546, 0.318]</td>\n",
       "      <td>-2.942</td>\n",
       "      <td>3</td>\n",
       "      <td>9</td>\n",
       "    </tr>\n",
       "    <tr>\n",
       "      <th>10</th>\n",
       "      <td>[1.01, 0.778, 0.385, 0.11]</td>\n",
       "      <td>-3.209</td>\n",
       "      <td>3</td>\n",
       "      <td>10</td>\n",
       "    </tr>\n",
       "    <tr>\n",
       "      <th>11</th>\n",
       "      <td>[1.01, 0.796, 0.451, 0.264]</td>\n",
       "      <td>-4.493</td>\n",
       "      <td>3</td>\n",
       "      <td>11</td>\n",
       "    </tr>\n",
       "    <tr>\n",
       "      <th>12</th>\n",
       "      <td>[1.01, 0.83, 0.521, 0.11]</td>\n",
       "      <td>478.309</td>\n",
       "      <td>3</td>\n",
       "      <td>12</td>\n",
       "    </tr>\n",
       "    <tr>\n",
       "      <th>13</th>\n",
       "      <td>[1.01, 0.841, 0.556, 0.11]</td>\n",
       "      <td>478.035</td>\n",
       "      <td>3</td>\n",
       "      <td>13</td>\n",
       "    </tr>\n",
       "    <tr>\n",
       "      <th>14</th>\n",
       "      <td>[1.01, 0.798, 0.53, 0.285]</td>\n",
       "      <td>-3.564</td>\n",
       "      <td>3</td>\n",
       "      <td>14</td>\n",
       "    </tr>\n",
       "  </tbody>\n",
       "</table>\n",
       "</div>"
      ],
      "text/plain": [
       "                            boundaries      fom  ncat  node\n",
       "ncat node                                                  \n",
       "3    0     [1.01, 0.777, 0.514, 0.274]   -2.408     3     0\n",
       "     2      [1.01, 0.764, 0.425, 0.11]   -3.910     3     2\n",
       "     3     [1.01, 0.799, 0.513, 0.292]   -4.809     3     3\n",
       "     4     [1.01, 0.773, 0.509, 0.326]   -3.859     3     4\n",
       "     5        [1.01, 0.636, 0.4, 0.11]   -2.816     3     5\n",
       "     6     [1.01, 0.788, 0.507, 0.313]   -4.232     3     6\n",
       "     7     [1.01, 0.803, 0.521, 0.297]   -4.295     3     7\n",
       "     8      [1.01, 0.781, 0.56, 0.317]   -2.480     3     8\n",
       "     9     [1.01, 0.805, 0.546, 0.318]   -2.942     3     9\n",
       "     10     [1.01, 0.778, 0.385, 0.11]   -3.209     3    10\n",
       "     11    [1.01, 0.796, 0.451, 0.264]   -4.493     3    11\n",
       "     12      [1.01, 0.83, 0.521, 0.11]  478.309     3    12\n",
       "     13     [1.01, 0.841, 0.556, 0.11]  478.035     3    13\n",
       "     14     [1.01, 0.798, 0.53, 0.285]   -3.564     3    14"
      ]
     },
     "execution_count": 37,
     "metadata": {},
     "output_type": "execute_result"
    }
   ],
   "source": [
    "df.sort_index(inplace=True)\n",
    "df"
   ]
  },
  {
   "cell_type": "code",
   "execution_count": 38,
   "metadata": {
    "collapsed": true
   },
   "outputs": [],
   "source": [
    "df = df.query('fom<0')"
   ]
  },
  {
   "cell_type": "code",
   "execution_count": 39,
   "metadata": {
    "collapsed": false
   },
   "outputs": [
    {
     "data": {
      "text/html": [
       "<div>\n",
       "<style>\n",
       "    .dataframe thead tr:only-child th {\n",
       "        text-align: right;\n",
       "    }\n",
       "\n",
       "    .dataframe thead th {\n",
       "        text-align: left;\n",
       "    }\n",
       "\n",
       "    .dataframe tbody tr th {\n",
       "        vertical-align: top;\n",
       "    }\n",
       "</style>\n",
       "<table border=\"1\" class=\"dataframe\">\n",
       "  <thead>\n",
       "    <tr style=\"text-align: right;\">\n",
       "      <th></th>\n",
       "      <th></th>\n",
       "      <th>boundaries</th>\n",
       "      <th>fom</th>\n",
       "      <th>ncat</th>\n",
       "      <th>node</th>\n",
       "    </tr>\n",
       "    <tr>\n",
       "      <th>ncat</th>\n",
       "      <th>node</th>\n",
       "      <th></th>\n",
       "      <th></th>\n",
       "      <th></th>\n",
       "      <th></th>\n",
       "    </tr>\n",
       "  </thead>\n",
       "  <tbody>\n",
       "    <tr>\n",
       "      <th rowspan=\"12\" valign=\"top\">3</th>\n",
       "      <th>0</th>\n",
       "      <td>[1.01, 0.777, 0.514, 0.274]</td>\n",
       "      <td>-2.408</td>\n",
       "      <td>3</td>\n",
       "      <td>0</td>\n",
       "    </tr>\n",
       "    <tr>\n",
       "      <th>2</th>\n",
       "      <td>[1.01, 0.764, 0.425, 0.11]</td>\n",
       "      <td>-3.910</td>\n",
       "      <td>3</td>\n",
       "      <td>2</td>\n",
       "    </tr>\n",
       "    <tr>\n",
       "      <th>3</th>\n",
       "      <td>[1.01, 0.799, 0.513, 0.292]</td>\n",
       "      <td>-4.809</td>\n",
       "      <td>3</td>\n",
       "      <td>3</td>\n",
       "    </tr>\n",
       "    <tr>\n",
       "      <th>4</th>\n",
       "      <td>[1.01, 0.773, 0.509, 0.326]</td>\n",
       "      <td>-3.859</td>\n",
       "      <td>3</td>\n",
       "      <td>4</td>\n",
       "    </tr>\n",
       "    <tr>\n",
       "      <th>5</th>\n",
       "      <td>[1.01, 0.636, 0.4, 0.11]</td>\n",
       "      <td>-2.816</td>\n",
       "      <td>3</td>\n",
       "      <td>5</td>\n",
       "    </tr>\n",
       "    <tr>\n",
       "      <th>6</th>\n",
       "      <td>[1.01, 0.788, 0.507, 0.313]</td>\n",
       "      <td>-4.232</td>\n",
       "      <td>3</td>\n",
       "      <td>6</td>\n",
       "    </tr>\n",
       "    <tr>\n",
       "      <th>7</th>\n",
       "      <td>[1.01, 0.803, 0.521, 0.297]</td>\n",
       "      <td>-4.295</td>\n",
       "      <td>3</td>\n",
       "      <td>7</td>\n",
       "    </tr>\n",
       "    <tr>\n",
       "      <th>8</th>\n",
       "      <td>[1.01, 0.781, 0.56, 0.317]</td>\n",
       "      <td>-2.480</td>\n",
       "      <td>3</td>\n",
       "      <td>8</td>\n",
       "    </tr>\n",
       "    <tr>\n",
       "      <th>9</th>\n",
       "      <td>[1.01, 0.805, 0.546, 0.318]</td>\n",
       "      <td>-2.942</td>\n",
       "      <td>3</td>\n",
       "      <td>9</td>\n",
       "    </tr>\n",
       "    <tr>\n",
       "      <th>10</th>\n",
       "      <td>[1.01, 0.778, 0.385, 0.11]</td>\n",
       "      <td>-3.209</td>\n",
       "      <td>3</td>\n",
       "      <td>10</td>\n",
       "    </tr>\n",
       "    <tr>\n",
       "      <th>11</th>\n",
       "      <td>[1.01, 0.796, 0.451, 0.264]</td>\n",
       "      <td>-4.493</td>\n",
       "      <td>3</td>\n",
       "      <td>11</td>\n",
       "    </tr>\n",
       "    <tr>\n",
       "      <th>14</th>\n",
       "      <td>[1.01, 0.798, 0.53, 0.285]</td>\n",
       "      <td>-3.564</td>\n",
       "      <td>3</td>\n",
       "      <td>14</td>\n",
       "    </tr>\n",
       "  </tbody>\n",
       "</table>\n",
       "</div>"
      ],
      "text/plain": [
       "                            boundaries    fom  ncat  node\n",
       "ncat node                                                \n",
       "3    0     [1.01, 0.777, 0.514, 0.274] -2.408     3     0\n",
       "     2      [1.01, 0.764, 0.425, 0.11] -3.910     3     2\n",
       "     3     [1.01, 0.799, 0.513, 0.292] -4.809     3     3\n",
       "     4     [1.01, 0.773, 0.509, 0.326] -3.859     3     4\n",
       "     5        [1.01, 0.636, 0.4, 0.11] -2.816     3     5\n",
       "     6     [1.01, 0.788, 0.507, 0.313] -4.232     3     6\n",
       "     7     [1.01, 0.803, 0.521, 0.297] -4.295     3     7\n",
       "     8      [1.01, 0.781, 0.56, 0.317] -2.480     3     8\n",
       "     9     [1.01, 0.805, 0.546, 0.318] -2.942     3     9\n",
       "     10     [1.01, 0.778, 0.385, 0.11] -3.209     3    10\n",
       "     11    [1.01, 0.796, 0.451, 0.264] -4.493     3    11\n",
       "     14     [1.01, 0.798, 0.53, 0.285] -3.564     3    14"
      ]
     },
     "execution_count": 39,
     "metadata": {},
     "output_type": "execute_result"
    }
   ],
   "source": [
    "df"
   ]
  },
  {
   "cell_type": "code",
   "execution_count": 46,
   "metadata": {
    "collapsed": false
   },
   "outputs": [
    {
     "name": "stdout",
     "output_type": "stream",
     "text": [
      "[[ 1.01   0.777  0.514  0.274]\n",
      " [ 1.01   0.764  0.425  0.11 ]\n",
      " [ 1.01   0.799  0.513  0.292]\n",
      " [ 1.01   0.773  0.509  0.326]\n",
      " [ 1.01   0.636  0.4    0.11 ]\n",
      " [ 1.01   0.788  0.507  0.313]\n",
      " [ 1.01   0.803  0.521  0.297]\n",
      " [ 1.01   0.781  0.56   0.317]\n",
      " [ 1.01   0.805  0.546  0.318]\n",
      " [ 1.01   0.778  0.385  0.11 ]\n",
      " [ 1.01   0.796  0.451  0.264]\n",
      " [ 1.01   0.798  0.53   0.285]]\n",
      "(12, 4)\n",
      "[[ 1.001  0.777  0.514  0.274]\n",
      " [ 1.001  0.799  0.513  0.292]\n",
      " [ 1.001  0.773  0.509  0.326]\n",
      " [ 1.001  0.788  0.507  0.313]\n",
      " [ 1.001  0.803  0.521  0.297]\n",
      " [ 1.001  0.781  0.56   0.317]\n",
      " [ 1.001  0.805  0.546  0.318]\n",
      " [ 1.001  0.796  0.451  0.264]\n",
      " [ 1.001  0.798  0.53   0.285]]\n"
     ]
    }
   ],
   "source": [
    "boundaries = np.vstack(df.loc[[3,3]]['boundaries']) \n",
    "print boundaries\n",
    "boundaries[:,0] = 1.001\n",
    "boundaries_shape = boundaries.shape\n",
    "print boundaries_shape\n",
    "boundaries=np.array(boundaries[boundaries[:,3] > 0.11]).reshape(-1,4)\n",
    "print boundaries"
   ]
  },
  {
   "cell_type": "code",
   "execution_count": 47,
   "metadata": {
    "collapsed": false
   },
   "outputs": [],
   "source": [
    "boundaries_sort=[]\n",
    "for i in range(boundaries.shape[0]):\n",
    "    if (sorted(boundaries[i],reverse=True)==boundaries[i]).all():\n",
    "        boundaries_sort.append(boundaries[i])"
   ]
  },
  {
   "cell_type": "code",
   "execution_count": null,
   "metadata": {
    "collapsed": false
   },
   "outputs": [],
   "source": []
  },
  {
   "cell_type": "code",
   "execution_count": 48,
   "metadata": {
    "collapsed": false
   },
   "outputs": [
    {
     "data": {
      "text/plain": [
       "array([ 1.001     ,  0.79111111,  0.51677778,  0.29844444])"
      ]
     },
     "execution_count": 48,
     "metadata": {},
     "output_type": "execute_result"
    }
   ],
   "source": [
    "boundaries = np.array(boundaries_sort)\n",
    "means = boundaries.mean(axis=0)\n",
    "means"
   ]
  },
  {
   "cell_type": "code",
   "execution_count": 49,
   "metadata": {
    "collapsed": false
   },
   "outputs": [],
   "source": [
    "#boundaries.std(axis=0)"
   ]
  },
  {
   "cell_type": "code",
   "execution_count": 50,
   "metadata": {
    "collapsed": false
   },
   "outputs": [],
   "source": [
    "import os\n",
    "tag='newcodev2'\n",
    "pathsave = '/afs/cern.ch/work/n/nchernya/ETH/CMSSW_8_0_28/src/diphotons/Utils/macro/outPlots/plots/%s_%s/'%(date,tag)\n",
    "if not os.path.exists(pathsave):\n",
    "    print pathsave, \"doesn't exist, creating it...\"\n",
    "    os.makedirs(pathsave)"
   ]
  },
  {
   "cell_type": "code",
   "execution_count": 51,
   "metadata": {
    "collapsed": false
   },
   "outputs": [
    {
     "data": {
      "text/plain": [
       "<matplotlib.figure.Figure at 0x7f1a79f618d0>"
      ]
     },
     "metadata": {},
     "output_type": "display_data"
    },
    {
     "data": {
      "image/png": "[encoded data removed]",
      "text/plain": [
       "<matplotlib.figure.Figure at 0x7f1a79f61ad0>"
      ]
     },
     "metadata": {},
     "output_type": "display_data"
    }
   ],
   "source": [
    "import matplotlib.pyplot as plt\n",
    "\n",
    "plt.clf()\n",
    "# means[0] = 1.001\n",
    "plt.figure(figsize=(10,5))\n",
    "plt.hist(boundaries.ravel(),bins=100,range=[0.,1.01],label=\"optimized boundaires\");\n",
    "plt.hist(means,bins=100,range=[0.,1.01],weights=5.*np.ones_like(means),alpha=0.5,label=\"mean boundaries\");\n",
    "plt.xlabel(\"BDT boundaries\")\n",
    "plt.legend()\n",
    "plt.savefig(pathsave+\"clusteringMVAstep2_%s_%s\"%(tag,date)+\".pdf\")\n",
    "plt.show()"
   ]
  },
  {
   "cell_type": "code",
   "execution_count": 52,
   "metadata": {
    "collapsed": false
   },
   "outputs": [
    {
     "name": "stdout",
     "output_type": "stream",
     "text": [
      "[ 1.001       0.79111111  0.51677778  0.29844444]\n"
     ]
    }
   ],
   "source": [
    "print means\n",
    "info_file = open(pathsave+\"info_clusteringMVAstep2_%s_%s.txt\"%(tag,date),\"w\") \n",
    "info_file.write(\",\\n\".join([str(i) for i in means]))\n",
    "info_file.close()"
   ]
  },
  {
   "cell_type": "code",
   "execution_count": null,
   "metadata": {
    "collapsed": false
   },
   "outputs": [],
   "source": []
  },
  {
   "cell_type": "code",
   "execution_count": null,
   "metadata": {
    "collapsed": false
   },
   "outputs": [],
   "source": []
  },
  {
   "cell_type": "code",
   "execution_count": null,
   "metadata": {
    "collapsed": true
   },
   "outputs": [],
   "source": []
  }
 ],
 "metadata": {
  "anaconda-cloud": {},
  "kernelspec": {
   "display_name": "Python [default]",
   "language": "python",
   "name": "python2"
  },
  "language_info": {
   "codemirror_mode": {
    "name": "ipython",
    "version": 2
   },
   "file_extension": ".py",
   "mimetype": "text/x-python",
   "name": "python",
   "nbconvert_exporter": "python",
   "pygments_lexer": "ipython2",
   "version": "2.7.12"
  }
 },
 "nbformat": 4,
 "nbformat_minor": 1
}
