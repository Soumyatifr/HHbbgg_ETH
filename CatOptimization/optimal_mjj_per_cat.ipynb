{
 "cells": [
  {
   "cell_type": "code",
   "execution_count": 1,
   "metadata": {
    "collapsed": true
   },
   "outputs": [],
   "source": [
    "path = '/mnt/t3nfs01/data01/shome/musella/Analysis/FGG_8_0_26_patch1/src/diphotons/Utils/macro/www/higgs/hh/cat_opt'"
   ]
  },
  {
   "cell_type": "code",
   "execution_count": 2,
   "metadata": {
    "collapsed": true
   },
   "outputs": [],
   "source": [
    "import glob"
   ]
  },
  {
   "cell_type": "code",
   "execution_count": 3,
   "metadata": {
    "collapsed": true
   },
   "outputs": [],
   "source": [
    "files = glob.glob('%s/*mjj_cut_cat[0-9]_*node*/cat_opt.json' % path)"
   ]
  },
  {
   "cell_type": "code",
   "execution_count": 4,
   "metadata": {
    "collapsed": false
   },
   "outputs": [
    {
     "data": {
      "text/plain": [
       "['/mnt/t3nfs01/data01/shome/musella/Analysis/FGG_8_0_26_patch1/src/diphotons/Utils/macro/www/higgs/hh/cat_opt/no_fakes_no_SMH_3x3_mjj_cut_cat0_node_SM/cat_opt.json',\n",
       " '/mnt/t3nfs01/data01/shome/musella/Analysis/FGG_8_0_26_patch1/src/diphotons/Utils/macro/www/higgs/hh/cat_opt/no_fakes_no_SMH_3x3_mjj_cut_cat1_node_SM/cat_opt.json',\n",
       " '/mnt/t3nfs01/data01/shome/musella/Analysis/FGG_8_0_26_patch1/src/diphotons/Utils/macro/www/higgs/hh/cat_opt/no_fakes_no_SMH_3x3_mjj_cut_cat7_node_SM/cat_opt.json',\n",
       " '/mnt/t3nfs01/data01/shome/musella/Analysis/FGG_8_0_26_patch1/src/diphotons/Utils/macro/www/higgs/hh/cat_opt/no_fakes_no_SMH_3x3_mjj_cut_cat8_node_SM/cat_opt.json',\n",
       " '/mnt/t3nfs01/data01/shome/musella/Analysis/FGG_8_0_26_patch1/src/diphotons/Utils/macro/www/higgs/hh/cat_opt/no_fakes_no_SMH_3x3_mjj_cut_cat5_node_SM/cat_opt.json',\n",
       " '/mnt/t3nfs01/data01/shome/musella/Analysis/FGG_8_0_26_patch1/src/diphotons/Utils/macro/www/higgs/hh/cat_opt/no_fakes_no_SMH_3x3_mjj_cut_cat3_node_SM/cat_opt.json',\n",
       " '/mnt/t3nfs01/data01/shome/musella/Analysis/FGG_8_0_26_patch1/src/diphotons/Utils/macro/www/higgs/hh/cat_opt/no_fakes_no_SMH_3x3_mjj_cut_cat2_node_SM/cat_opt.json',\n",
       " '/mnt/t3nfs01/data01/shome/musella/Analysis/FGG_8_0_26_patch1/src/diphotons/Utils/macro/www/higgs/hh/cat_opt/no_fakes_no_SMH_3x3_mjj_cut_cat4_node_SM/cat_opt.json',\n",
       " '/mnt/t3nfs01/data01/shome/musella/Analysis/FGG_8_0_26_patch1/src/diphotons/Utils/macro/www/higgs/hh/cat_opt/no_fakes_no_SMH_3x3_mjj_cut_cat2_node_6/cat_opt.json',\n",
       " '/mnt/t3nfs01/data01/shome/musella/Analysis/FGG_8_0_26_patch1/src/diphotons/Utils/macro/www/higgs/hh/cat_opt/no_fakes_no_SMH_3x3_mjj_cut_cat2_node_12/cat_opt.json',\n",
       " '/mnt/t3nfs01/data01/shome/musella/Analysis/FGG_8_0_26_patch1/src/diphotons/Utils/macro/www/higgs/hh/cat_opt/no_fakes_no_SMH_3x3_mjj_cut_cat1_node_13/cat_opt.json',\n",
       " '/mnt/t3nfs01/data01/shome/musella/Analysis/FGG_8_0_26_patch1/src/diphotons/Utils/macro/www/higgs/hh/cat_opt/no_fakes_no_SMH_3x3_mjj_cut_cat4_node_3/cat_opt.json',\n",
       " '/mnt/t3nfs01/data01/shome/musella/Analysis/FGG_8_0_26_patch1/src/diphotons/Utils/macro/www/higgs/hh/cat_opt/no_fakes_no_SMH_3x3_mjj_cut_cat5_node_13/cat_opt.json',\n",
       " '/mnt/t3nfs01/data01/shome/musella/Analysis/FGG_8_0_26_patch1/src/diphotons/Utils/macro/www/higgs/hh/cat_opt/no_fakes_no_SMH_3x3_mjj_cut_cat7_node_5/cat_opt.json',\n",
       " '/mnt/t3nfs01/data01/shome/musella/Analysis/FGG_8_0_26_patch1/src/diphotons/Utils/macro/www/higgs/hh/cat_opt/no_fakes_no_SMH_3x3_mjj_cut_cat4_node_4/cat_opt.json',\n",
       " '/mnt/t3nfs01/data01/shome/musella/Analysis/FGG_8_0_26_patch1/src/diphotons/Utils/macro/www/higgs/hh/cat_opt/no_fakes_no_SMH_3x3_mjj_cut_cat3_node_9/cat_opt.json',\n",
       " '/mnt/t3nfs01/data01/shome/musella/Analysis/FGG_8_0_26_patch1/src/diphotons/Utils/macro/www/higgs/hh/cat_opt/no_fakes_no_SMH_3x3_mjj_cut_cat5_node_2/cat_opt.json',\n",
       " '/mnt/t3nfs01/data01/shome/musella/Analysis/FGG_8_0_26_patch1/src/diphotons/Utils/macro/www/higgs/hh/cat_opt/no_fakes_no_SMH_3x3_mjj_cut_cat7_node_12/cat_opt.json',\n",
       " '/mnt/t3nfs01/data01/shome/musella/Analysis/FGG_8_0_26_patch1/src/diphotons/Utils/macro/www/higgs/hh/cat_opt/no_fakes_no_SMH_3x3_mjj_cut_cat7_node_3/cat_opt.json',\n",
       " '/mnt/t3nfs01/data01/shome/musella/Analysis/FGG_8_0_26_patch1/src/diphotons/Utils/macro/www/higgs/hh/cat_opt/no_fakes_no_SMH_3x3_mjj_cut_cat3_node_12/cat_opt.json',\n",
       " '/mnt/t3nfs01/data01/shome/musella/Analysis/FGG_8_0_26_patch1/src/diphotons/Utils/macro/www/higgs/hh/cat_opt/no_fakes_no_SMH_3x3_mjj_cut_cat8_node_12/cat_opt.json',\n",
       " '/mnt/t3nfs01/data01/shome/musella/Analysis/FGG_8_0_26_patch1/src/diphotons/Utils/macro/www/higgs/hh/cat_opt/no_fakes_no_SMH_3x3_mjj_cut_cat0_node_11/cat_opt.json',\n",
       " '/mnt/t3nfs01/data01/shome/musella/Analysis/FGG_8_0_26_patch1/src/diphotons/Utils/macro/www/higgs/hh/cat_opt/no_fakes_no_SMH_3x3_mjj_cut_cat7_node_10/cat_opt.json',\n",
       " '/mnt/t3nfs01/data01/shome/musella/Analysis/FGG_8_0_26_patch1/src/diphotons/Utils/macro/www/higgs/hh/cat_opt/no_fakes_no_SMH_3x3_mjj_cut_cat8_node_13/cat_opt.json',\n",
       " '/mnt/t3nfs01/data01/shome/musella/Analysis/FGG_8_0_26_patch1/src/diphotons/Utils/macro/www/higgs/hh/cat_opt/no_fakes_no_SMH_3x3_mjj_cut_cat2_node_9/cat_opt.json',\n",
       " '/mnt/t3nfs01/data01/shome/musella/Analysis/FGG_8_0_26_patch1/src/diphotons/Utils/macro/www/higgs/hh/cat_opt/no_fakes_no_SMH_3x3_mjj_cut_cat0_node_5/cat_opt.json',\n",
       " '/mnt/t3nfs01/data01/shome/musella/Analysis/FGG_8_0_26_patch1/src/diphotons/Utils/macro/www/higgs/hh/cat_opt/no_fakes_no_SMH_3x3_mjj_cut_cat1_node_11/cat_opt.json',\n",
       " '/mnt/t3nfs01/data01/shome/musella/Analysis/FGG_8_0_26_patch1/src/diphotons/Utils/macro/www/higgs/hh/cat_opt/no_fakes_no_SMH_3x3_mjj_cut_cat0_node_8/cat_opt.json',\n",
       " '/mnt/t3nfs01/data01/shome/musella/Analysis/FGG_8_0_26_patch1/src/diphotons/Utils/macro/www/higgs/hh/cat_opt/no_fakes_no_SMH_3x3_mjj_cut_cat5_node_12/cat_opt.json',\n",
       " '/mnt/t3nfs01/data01/shome/musella/Analysis/FGG_8_0_26_patch1/src/diphotons/Utils/macro/www/higgs/hh/cat_opt/no_fakes_no_SMH_3x3_mjj_cut_cat1_node_4/cat_opt.json',\n",
       " '/mnt/t3nfs01/data01/shome/musella/Analysis/FGG_8_0_26_patch1/src/diphotons/Utils/macro/www/higgs/hh/cat_opt/no_fakes_no_SMH_3x3_mjj_cut_cat4_node_5/cat_opt.json',\n",
       " '/mnt/t3nfs01/data01/shome/musella/Analysis/FGG_8_0_26_patch1/src/diphotons/Utils/macro/www/higgs/hh/cat_opt/no_fakes_no_SMH_3x3_mjj_cut_cat5_node_8/cat_opt.json',\n",
       " '/mnt/t3nfs01/data01/shome/musella/Analysis/FGG_8_0_26_patch1/src/diphotons/Utils/macro/www/higgs/hh/cat_opt/no_fakes_no_SMH_3x3_mjj_cut_cat5_node_9/cat_opt.json',\n",
       " '/mnt/t3nfs01/data01/shome/musella/Analysis/FGG_8_0_26_patch1/src/diphotons/Utils/macro/www/higgs/hh/cat_opt/no_fakes_no_SMH_3x3_mjj_cut_cat4_node_11/cat_opt.json',\n",
       " '/mnt/t3nfs01/data01/shome/musella/Analysis/FGG_8_0_26_patch1/src/diphotons/Utils/macro/www/higgs/hh/cat_opt/no_fakes_no_SMH_3x3_mjj_cut_cat1_node_10/cat_opt.json',\n",
       " '/mnt/t3nfs01/data01/shome/musella/Analysis/FGG_8_0_26_patch1/src/diphotons/Utils/macro/www/higgs/hh/cat_opt/no_fakes_no_SMH_3x3_mjj_cut_cat8_node_4/cat_opt.json',\n",
       " '/mnt/t3nfs01/data01/shome/musella/Analysis/FGG_8_0_26_patch1/src/diphotons/Utils/macro/www/higgs/hh/cat_opt/no_fakes_no_SMH_3x3_mjj_cut_cat2_node_2/cat_opt.json',\n",
       " '/mnt/t3nfs01/data01/shome/musella/Analysis/FGG_8_0_26_patch1/src/diphotons/Utils/macro/www/higgs/hh/cat_opt/no_fakes_no_SMH_3x3_mjj_cut_cat8_node_2/cat_opt.json',\n",
       " '/mnt/t3nfs01/data01/shome/musella/Analysis/FGG_8_0_26_patch1/src/diphotons/Utils/macro/www/higgs/hh/cat_opt/no_fakes_no_SMH_3x3_mjj_cut_cat3_node_6/cat_opt.json',\n",
       " '/mnt/t3nfs01/data01/shome/musella/Analysis/FGG_8_0_26_patch1/src/diphotons/Utils/macro/www/higgs/hh/cat_opt/no_fakes_no_SMH_3x3_mjj_cut_cat3_node_5/cat_opt.json',\n",
       " '/mnt/t3nfs01/data01/shome/musella/Analysis/FGG_8_0_26_patch1/src/diphotons/Utils/macro/www/higgs/hh/cat_opt/no_fakes_no_SMH_3x3_mjj_cut_cat3_node_11/cat_opt.json',\n",
       " '/mnt/t3nfs01/data01/shome/musella/Analysis/FGG_8_0_26_patch1/src/diphotons/Utils/macro/www/higgs/hh/cat_opt/no_fakes_no_SMH_3x3_mjj_cut_cat1_node_8/cat_opt.json',\n",
       " '/mnt/t3nfs01/data01/shome/musella/Analysis/FGG_8_0_26_patch1/src/diphotons/Utils/macro/www/higgs/hh/cat_opt/no_fakes_no_SMH_3x3_mjj_cut_cat7_node_9/cat_opt.json',\n",
       " '/mnt/t3nfs01/data01/shome/musella/Analysis/FGG_8_0_26_patch1/src/diphotons/Utils/macro/www/higgs/hh/cat_opt/no_fakes_no_SMH_3x3_mjj_cut_cat7_node_2/cat_opt.json',\n",
       " '/mnt/t3nfs01/data01/shome/musella/Analysis/FGG_8_0_26_patch1/src/diphotons/Utils/macro/www/higgs/hh/cat_opt/no_fakes_no_SMH_3x3_mjj_cut_cat8_node_8/cat_opt.json',\n",
       " '/mnt/t3nfs01/data01/shome/musella/Analysis/FGG_8_0_26_patch1/src/diphotons/Utils/macro/www/higgs/hh/cat_opt/no_fakes_no_SMH_3x3_mjj_cut_cat2_node_3/cat_opt.json',\n",
       " '/mnt/t3nfs01/data01/shome/musella/Analysis/FGG_8_0_26_patch1/src/diphotons/Utils/macro/www/higgs/hh/cat_opt/no_fakes_no_SMH_3x3_mjj_cut_cat5_node_5/cat_opt.json',\n",
       " '/mnt/t3nfs01/data01/shome/musella/Analysis/FGG_8_0_26_patch1/src/diphotons/Utils/macro/www/higgs/hh/cat_opt/no_fakes_no_SMH_3x3_mjj_cut_cat7_node_7/cat_opt.json',\n",
       " '/mnt/t3nfs01/data01/shome/musella/Analysis/FGG_8_0_26_patch1/src/diphotons/Utils/macro/www/higgs/hh/cat_opt/no_fakes_no_SMH_3x3_mjj_cut_cat7_node_4/cat_opt.json',\n",
       " '/mnt/t3nfs01/data01/shome/musella/Analysis/FGG_8_0_26_patch1/src/diphotons/Utils/macro/www/higgs/hh/cat_opt/no_fakes_no_SMH_3x3_mjj_cut_cat3_node_3/cat_opt.json',\n",
       " '/mnt/t3nfs01/data01/shome/musella/Analysis/FGG_8_0_26_patch1/src/diphotons/Utils/macro/www/higgs/hh/cat_opt/no_fakes_no_SMH_3x3_mjj_cut_cat0_node_10/cat_opt.json',\n",
       " '/mnt/t3nfs01/data01/shome/musella/Analysis/FGG_8_0_26_patch1/src/diphotons/Utils/macro/www/higgs/hh/cat_opt/no_fakes_no_SMH_3x3_mjj_cut_cat8_node_7/cat_opt.json',\n",
       " '/mnt/t3nfs01/data01/shome/musella/Analysis/FGG_8_0_26_patch1/src/diphotons/Utils/macro/www/higgs/hh/cat_opt/no_fakes_no_SMH_3x3_mjj_cut_cat5_node_7/cat_opt.json',\n",
       " '/mnt/t3nfs01/data01/shome/musella/Analysis/FGG_8_0_26_patch1/src/diphotons/Utils/macro/www/higgs/hh/cat_opt/no_fakes_no_SMH_3x3_mjj_cut_cat1_node_12/cat_opt.json',\n",
       " '/mnt/t3nfs01/data01/shome/musella/Analysis/FGG_8_0_26_patch1/src/diphotons/Utils/macro/www/higgs/hh/cat_opt/no_fakes_no_SMH_3x3_mjj_cut_cat1_node_6/cat_opt.json',\n",
       " '/mnt/t3nfs01/data01/shome/musella/Analysis/FGG_8_0_26_patch1/src/diphotons/Utils/macro/www/higgs/hh/cat_opt/no_fakes_no_SMH_3x3_mjj_cut_cat1_node_7/cat_opt.json',\n",
       " '/mnt/t3nfs01/data01/shome/musella/Analysis/FGG_8_0_26_patch1/src/diphotons/Utils/macro/www/higgs/hh/cat_opt/no_fakes_no_SMH_3x3_mjj_cut_cat2_node_5/cat_opt.json',\n",
       " '/mnt/t3nfs01/data01/shome/musella/Analysis/FGG_8_0_26_patch1/src/diphotons/Utils/macro/www/higgs/hh/cat_opt/no_fakes_no_SMH_3x3_mjj_cut_cat1_node_3/cat_opt.json',\n",
       " '/mnt/t3nfs01/data01/shome/musella/Analysis/FGG_8_0_26_patch1/src/diphotons/Utils/macro/www/higgs/hh/cat_opt/no_fakes_no_SMH_3x3_mjj_cut_cat0_node_4/cat_opt.json',\n",
       " '/mnt/t3nfs01/data01/shome/musella/Analysis/FGG_8_0_26_patch1/src/diphotons/Utils/macro/www/higgs/hh/cat_opt/no_fakes_no_SMH_3x3_mjj_cut_cat4_node_2/cat_opt.json',\n",
       " '/mnt/t3nfs01/data01/shome/musella/Analysis/FGG_8_0_26_patch1/src/diphotons/Utils/macro/www/higgs/hh/cat_opt/no_fakes_no_SMH_3x3_mjj_cut_cat0_node_13/cat_opt.json',\n",
       " '/mnt/t3nfs01/data01/shome/musella/Analysis/FGG_8_0_26_patch1/src/diphotons/Utils/macro/www/higgs/hh/cat_opt/no_fakes_no_SMH_3x3_mjj_cut_cat1_node_9/cat_opt.json',\n",
       " '/mnt/t3nfs01/data01/shome/musella/Analysis/FGG_8_0_26_patch1/src/diphotons/Utils/macro/www/higgs/hh/cat_opt/no_fakes_no_SMH_3x3_mjj_cut_cat3_node_10/cat_opt.json',\n",
       " '/mnt/t3nfs01/data01/shome/musella/Analysis/FGG_8_0_26_patch1/src/diphotons/Utils/macro/www/higgs/hh/cat_opt/no_fakes_no_SMH_3x3_mjj_cut_cat5_node_3/cat_opt.json',\n",
       " '/mnt/t3nfs01/data01/shome/musella/Analysis/FGG_8_0_26_patch1/src/diphotons/Utils/macro/www/higgs/hh/cat_opt/no_fakes_no_SMH_3x3_mjj_cut_cat8_node_5/cat_opt.json',\n",
       " '/mnt/t3nfs01/data01/shome/musella/Analysis/FGG_8_0_26_patch1/src/diphotons/Utils/macro/www/higgs/hh/cat_opt/no_fakes_no_SMH_3x3_mjj_cut_cat8_node_10/cat_opt.json',\n",
       " '/mnt/t3nfs01/data01/shome/musella/Analysis/FGG_8_0_26_patch1/src/diphotons/Utils/macro/www/higgs/hh/cat_opt/no_fakes_no_SMH_3x3_mjj_cut_cat2_node_7/cat_opt.json',\n",
       " '/mnt/t3nfs01/data01/shome/musella/Analysis/FGG_8_0_26_patch1/src/diphotons/Utils/macro/www/higgs/hh/cat_opt/no_fakes_no_SMH_3x3_mjj_cut_cat1_node_2/cat_opt.json',\n",
       " '/mnt/t3nfs01/data01/shome/musella/Analysis/FGG_8_0_26_patch1/src/diphotons/Utils/macro/www/higgs/hh/cat_opt/no_fakes_no_SMH_3x3_mjj_cut_cat3_node_2/cat_opt.json',\n",
       " '/mnt/t3nfs01/data01/shome/musella/Analysis/FGG_8_0_26_patch1/src/diphotons/Utils/macro/www/higgs/hh/cat_opt/no_fakes_no_SMH_3x3_mjj_cut_cat2_node_10/cat_opt.json',\n",
       " '/mnt/t3nfs01/data01/shome/musella/Analysis/FGG_8_0_26_patch1/src/diphotons/Utils/macro/www/higgs/hh/cat_opt/no_fakes_no_SMH_3x3_mjj_cut_cat5_node_6/cat_opt.json',\n",
       " '/mnt/t3nfs01/data01/shome/musella/Analysis/FGG_8_0_26_patch1/src/diphotons/Utils/macro/www/higgs/hh/cat_opt/no_fakes_no_SMH_3x3_mjj_cut_cat4_node_10/cat_opt.json',\n",
       " '/mnt/t3nfs01/data01/shome/musella/Analysis/FGG_8_0_26_patch1/src/diphotons/Utils/macro/www/higgs/hh/cat_opt/no_fakes_no_SMH_3x3_mjj_cut_cat3_node_13/cat_opt.json',\n",
       " '/mnt/t3nfs01/data01/shome/musella/Analysis/FGG_8_0_26_patch1/src/diphotons/Utils/macro/www/higgs/hh/cat_opt/no_fakes_no_SMH_3x3_mjj_cut_cat7_node_6/cat_opt.json',\n",
       " '/mnt/t3nfs01/data01/shome/musella/Analysis/FGG_8_0_26_patch1/src/diphotons/Utils/macro/www/higgs/hh/cat_opt/no_fakes_no_SMH_3x3_mjj_cut_cat2_node_11/cat_opt.json',\n",
       " '/mnt/t3nfs01/data01/shome/musella/Analysis/FGG_8_0_26_patch1/src/diphotons/Utils/macro/www/higgs/hh/cat_opt/no_fakes_no_SMH_3x3_mjj_cut_cat4_node_12/cat_opt.json',\n",
       " '/mnt/t3nfs01/data01/shome/musella/Analysis/FGG_8_0_26_patch1/src/diphotons/Utils/macro/www/higgs/hh/cat_opt/no_fakes_no_SMH_3x3_mjj_cut_cat7_node_8/cat_opt.json',\n",
       " '/mnt/t3nfs01/data01/shome/musella/Analysis/FGG_8_0_26_patch1/src/diphotons/Utils/macro/www/higgs/hh/cat_opt/no_fakes_no_SMH_3x3_mjj_cut_cat4_node_7/cat_opt.json',\n",
       " '/mnt/t3nfs01/data01/shome/musella/Analysis/FGG_8_0_26_patch1/src/diphotons/Utils/macro/www/higgs/hh/cat_opt/no_fakes_no_SMH_3x3_mjj_cut_cat2_node_13/cat_opt.json',\n",
       " '/mnt/t3nfs01/data01/shome/musella/Analysis/FGG_8_0_26_patch1/src/diphotons/Utils/macro/www/higgs/hh/cat_opt/no_fakes_no_SMH_3x3_mjj_cut_cat0_node_6/cat_opt.json',\n",
       " '/mnt/t3nfs01/data01/shome/musella/Analysis/FGG_8_0_26_patch1/src/diphotons/Utils/macro/www/higgs/hh/cat_opt/no_fakes_no_SMH_3x3_mjj_cut_cat8_node_6/cat_opt.json',\n",
       " '/mnt/t3nfs01/data01/shome/musella/Analysis/FGG_8_0_26_patch1/src/diphotons/Utils/macro/www/higgs/hh/cat_opt/no_fakes_no_SMH_3x3_mjj_cut_cat0_node_9/cat_opt.json',\n",
       " '/mnt/t3nfs01/data01/shome/musella/Analysis/FGG_8_0_26_patch1/src/diphotons/Utils/macro/www/higgs/hh/cat_opt/no_fakes_no_SMH_3x3_mjj_cut_cat8_node_9/cat_opt.json',\n",
       " '/mnt/t3nfs01/data01/shome/musella/Analysis/FGG_8_0_26_patch1/src/diphotons/Utils/macro/www/higgs/hh/cat_opt/no_fakes_no_SMH_3x3_mjj_cut_cat8_node_3/cat_opt.json',\n",
       " '/mnt/t3nfs01/data01/shome/musella/Analysis/FGG_8_0_26_patch1/src/diphotons/Utils/macro/www/higgs/hh/cat_opt/no_fakes_no_SMH_3x3_mjj_cut_cat0_node_3/cat_opt.json',\n",
       " '/mnt/t3nfs01/data01/shome/musella/Analysis/FGG_8_0_26_patch1/src/diphotons/Utils/macro/www/higgs/hh/cat_opt/no_fakes_no_SMH_3x3_mjj_cut_cat7_node_11/cat_opt.json',\n",
       " '/mnt/t3nfs01/data01/shome/musella/Analysis/FGG_8_0_26_patch1/src/diphotons/Utils/macro/www/higgs/hh/cat_opt/no_fakes_no_SMH_3x3_mjj_cut_cat3_node_7/cat_opt.json',\n",
       " '/mnt/t3nfs01/data01/shome/musella/Analysis/FGG_8_0_26_patch1/src/diphotons/Utils/macro/www/higgs/hh/cat_opt/no_fakes_no_SMH_3x3_mjj_cut_cat7_node_13/cat_opt.json',\n",
       " '/mnt/t3nfs01/data01/shome/musella/Analysis/FGG_8_0_26_patch1/src/diphotons/Utils/macro/www/higgs/hh/cat_opt/no_fakes_no_SMH_3x3_mjj_cut_cat0_node_2/cat_opt.json',\n",
       " '/mnt/t3nfs01/data01/shome/musella/Analysis/FGG_8_0_26_patch1/src/diphotons/Utils/macro/www/higgs/hh/cat_opt/no_fakes_no_SMH_3x3_mjj_cut_cat4_node_9/cat_opt.json',\n",
       " '/mnt/t3nfs01/data01/shome/musella/Analysis/FGG_8_0_26_patch1/src/diphotons/Utils/macro/www/higgs/hh/cat_opt/no_fakes_no_SMH_3x3_mjj_cut_cat4_node_13/cat_opt.json',\n",
       " '/mnt/t3nfs01/data01/shome/musella/Analysis/FGG_8_0_26_patch1/src/diphotons/Utils/macro/www/higgs/hh/cat_opt/no_fakes_no_SMH_3x3_mjj_cut_cat0_node_7/cat_opt.json',\n",
       " '/mnt/t3nfs01/data01/shome/musella/Analysis/FGG_8_0_26_patch1/src/diphotons/Utils/macro/www/higgs/hh/cat_opt/no_fakes_no_SMH_3x3_mjj_cut_cat4_node_6/cat_opt.json',\n",
       " '/mnt/t3nfs01/data01/shome/musella/Analysis/FGG_8_0_26_patch1/src/diphotons/Utils/macro/www/higgs/hh/cat_opt/no_fakes_no_SMH_3x3_mjj_cut_cat2_node_4/cat_opt.json',\n",
       " '/mnt/t3nfs01/data01/shome/musella/Analysis/FGG_8_0_26_patch1/src/diphotons/Utils/macro/www/higgs/hh/cat_opt/no_fakes_no_SMH_3x3_mjj_cut_cat2_node_8/cat_opt.json',\n",
       " '/mnt/t3nfs01/data01/shome/musella/Analysis/FGG_8_0_26_patch1/src/diphotons/Utils/macro/www/higgs/hh/cat_opt/no_fakes_no_SMH_3x3_mjj_cut_cat5_node_11/cat_opt.json',\n",
       " '/mnt/t3nfs01/data01/shome/musella/Analysis/FGG_8_0_26_patch1/src/diphotons/Utils/macro/www/higgs/hh/cat_opt/no_fakes_no_SMH_3x3_mjj_cut_cat5_node_4/cat_opt.json',\n",
       " '/mnt/t3nfs01/data01/shome/musella/Analysis/FGG_8_0_26_patch1/src/diphotons/Utils/macro/www/higgs/hh/cat_opt/no_fakes_no_SMH_3x3_mjj_cut_cat0_node_12/cat_opt.json',\n",
       " '/mnt/t3nfs01/data01/shome/musella/Analysis/FGG_8_0_26_patch1/src/diphotons/Utils/macro/www/higgs/hh/cat_opt/no_fakes_no_SMH_3x3_mjj_cut_cat4_node_8/cat_opt.json',\n",
       " '/mnt/t3nfs01/data01/shome/musella/Analysis/FGG_8_0_26_patch1/src/diphotons/Utils/macro/www/higgs/hh/cat_opt/no_fakes_no_SMH_3x3_mjj_cut_cat8_node_11/cat_opt.json',\n",
       " '/mnt/t3nfs01/data01/shome/musella/Analysis/FGG_8_0_26_patch1/src/diphotons/Utils/macro/www/higgs/hh/cat_opt/no_fakes_no_SMH_3x3_mjj_cut_cat5_node_10/cat_opt.json',\n",
       " '/mnt/t3nfs01/data01/shome/musella/Analysis/FGG_8_0_26_patch1/src/diphotons/Utils/macro/www/higgs/hh/cat_opt/no_fakes_no_SMH_3x3_mjj_cut_cat3_node_8/cat_opt.json',\n",
       " '/mnt/t3nfs01/data01/shome/musella/Analysis/FGG_8_0_26_patch1/src/diphotons/Utils/macro/www/higgs/hh/cat_opt/no_fakes_no_SMH_3x3_mjj_cut_cat3_node_4/cat_opt.json',\n",
       " '/mnt/t3nfs01/data01/shome/musella/Analysis/FGG_8_0_26_patch1/src/diphotons/Utils/macro/www/higgs/hh/cat_opt/no_fakes_no_SMH_3x3_mjj_cut_cat6_node_9/cat_opt.json',\n",
       " '/mnt/t3nfs01/data01/shome/musella/Analysis/FGG_8_0_26_patch1/src/diphotons/Utils/macro/www/higgs/hh/cat_opt/no_fakes_no_SMH_3x3_mjj_cut_cat6_node_4/cat_opt.json',\n",
       " '/mnt/t3nfs01/data01/shome/musella/Analysis/FGG_8_0_26_patch1/src/diphotons/Utils/macro/www/higgs/hh/cat_opt/no_fakes_no_SMH_3x3_mjj_cut_cat6_node_12/cat_opt.json',\n",
       " '/mnt/t3nfs01/data01/shome/musella/Analysis/FGG_8_0_26_patch1/src/diphotons/Utils/macro/www/higgs/hh/cat_opt/no_fakes_no_SMH_3x3_mjj_cut_cat6_node_6/cat_opt.json',\n",
       " '/mnt/t3nfs01/data01/shome/musella/Analysis/FGG_8_0_26_patch1/src/diphotons/Utils/macro/www/higgs/hh/cat_opt/no_fakes_no_SMH_3x3_mjj_cut_cat6_node_10/cat_opt.json',\n",
       " '/mnt/t3nfs01/data01/shome/musella/Analysis/FGG_8_0_26_patch1/src/diphotons/Utils/macro/www/higgs/hh/cat_opt/no_fakes_no_SMH_3x3_mjj_cut_cat6_node_5/cat_opt.json',\n",
       " '/mnt/t3nfs01/data01/shome/musella/Analysis/FGG_8_0_26_patch1/src/diphotons/Utils/macro/www/higgs/hh/cat_opt/no_fakes_no_SMH_3x3_mjj_cut_cat6_node_3/cat_opt.json',\n",
       " '/mnt/t3nfs01/data01/shome/musella/Analysis/FGG_8_0_26_patch1/src/diphotons/Utils/macro/www/higgs/hh/cat_opt/no_fakes_no_SMH_3x3_mjj_cut_cat6_node_2/cat_opt.json',\n",
       " '/mnt/t3nfs01/data01/shome/musella/Analysis/FGG_8_0_26_patch1/src/diphotons/Utils/macro/www/higgs/hh/cat_opt/no_fakes_no_SMH_3x3_mjj_cut_cat6_node_SM/cat_opt.json',\n",
       " '/mnt/t3nfs01/data01/shome/musella/Analysis/FGG_8_0_26_patch1/src/diphotons/Utils/macro/www/higgs/hh/cat_opt/no_fakes_no_SMH_3x3_mjj_cut_cat6_node_13/cat_opt.json',\n",
       " '/mnt/t3nfs01/data01/shome/musella/Analysis/FGG_8_0_26_patch1/src/diphotons/Utils/macro/www/higgs/hh/cat_opt/no_fakes_no_SMH_3x3_mjj_cut_cat6_node_7/cat_opt.json',\n",
       " '/mnt/t3nfs01/data01/shome/musella/Analysis/FGG_8_0_26_patch1/src/diphotons/Utils/macro/www/higgs/hh/cat_opt/no_fakes_no_SMH_3x3_mjj_cut_cat6_node_8/cat_opt.json',\n",
       " '/mnt/t3nfs01/data01/shome/musella/Analysis/FGG_8_0_26_patch1/src/diphotons/Utils/macro/www/higgs/hh/cat_opt/no_fakes_no_SMH_3x3_mjj_cut_cat6_node_11/cat_opt.json']"
      ]
     },
     "execution_count": 4,
     "metadata": {},
     "output_type": "execute_result"
    }
   ],
   "source": [
    "files"
   ]
  },
  {
   "cell_type": "code",
   "execution_count": 5,
   "metadata": {
    "collapsed": false
   },
   "outputs": [],
   "source": [
    "import json \n",
    "\n",
    "summary = { x:[] for x in ['node', 'cat', 'boundaries','ncat','fom','selections']  }\n",
    "\n",
    "for fil in files:\n",
    "    toks = fil.split('/')[-2].split('node_')\n",
    "    name = toks[-1]\n",
    "    cat = int(toks[-2].rstrip('_').split('_cat')[-1])\n",
    "    if name == 'SM': name = '0'\n",
    "    node = int(name)\n",
    "    with open(fil) as fin:\n",
    "        info = json.loads(fin.read())\n",
    "        fin.close()\n",
    "    for key,val in info.items():\n",
    "        val['node'] = node\n",
    "        val['cat'] = cat\n",
    "        val['boundaries'] = np.array(val['boundaries'])\n",
    "        val['selections'] = np.array(val['selections']).astype(float)\n",
    "        for col in summary.keys():\n",
    "            summary[col].append( val[col] )\n",
    "\n",
    "# print(summary)\n",
    "    "
   ]
  },
  {
   "cell_type": "code",
   "execution_count": 6,
   "metadata": {
    "collapsed": true
   },
   "outputs": [],
   "source": [
    "df = pd.DataFrame(summary)"
   ]
  },
  {
   "cell_type": "code",
   "execution_count": 7,
   "metadata": {
    "collapsed": false
   },
   "outputs": [],
   "source": [
    "# df.set_index(['ncat','node'],drop=False,inplace=True# )"
   ]
  },
  {
   "cell_type": "code",
   "execution_count": 8,
   "metadata": {
    "collapsed": false
   },
   "outputs": [
    {
     "data": {
      "text/html": [
       "<div>\n",
       "<style>\n",
       "    .dataframe thead tr:only-child th {\n",
       "        text-align: right;\n",
       "    }\n",
       "\n",
       "    .dataframe thead th {\n",
       "        text-align: left;\n",
       "    }\n",
       "\n",
       "    .dataframe tbody tr th {\n",
       "        vertical-align: top;\n",
       "    }\n",
       "</style>\n",
       "<table border=\"1\" class=\"dataframe\">\n",
       "  <thead>\n",
       "    <tr style=\"text-align: right;\">\n",
       "      <th></th>\n",
       "      <th>boundaries</th>\n",
       "      <th>cat</th>\n",
       "      <th>fom</th>\n",
       "      <th>ncat</th>\n",
       "      <th>node</th>\n",
       "      <th>selections</th>\n",
       "    </tr>\n",
       "  </thead>\n",
       "  <tbody>\n",
       "    <tr>\n",
       "      <th>0</th>\n",
       "      <td>[1.01, 0.0]</td>\n",
       "      <td>0</td>\n",
       "      <td>-0.453</td>\n",
       "      <td>1</td>\n",
       "      <td>0</td>\n",
       "      <td>[-13.481, -43.342]</td>\n",
       "    </tr>\n",
       "    <tr>\n",
       "      <th>1</th>\n",
       "      <td>[1.01, 0.0]</td>\n",
       "      <td>1</td>\n",
       "      <td>-2.908</td>\n",
       "      <td>1</td>\n",
       "      <td>0</td>\n",
       "      <td>[-28.676, -29.457]</td>\n",
       "    </tr>\n",
       "    <tr>\n",
       "      <th>2</th>\n",
       "      <td>[1.01, 0.0]</td>\n",
       "      <td>7</td>\n",
       "      <td>-0.842</td>\n",
       "      <td>1</td>\n",
       "      <td>0</td>\n",
       "      <td>[-30.0, -36.693]</td>\n",
       "    </tr>\n",
       "    <tr>\n",
       "      <th>3</th>\n",
       "      <td>[1.01, 0.0]</td>\n",
       "      <td>8</td>\n",
       "      <td>-0.689</td>\n",
       "      <td>1</td>\n",
       "      <td>0</td>\n",
       "      <td>[-64.865, -29.817]</td>\n",
       "    </tr>\n",
       "    <tr>\n",
       "      <th>4</th>\n",
       "      <td>[1.01, 0.0]</td>\n",
       "      <td>5</td>\n",
       "      <td>-1.442</td>\n",
       "      <td>1</td>\n",
       "      <td>0</td>\n",
       "      <td>[-25.178, -20.0]</td>\n",
       "    </tr>\n",
       "    <tr>\n",
       "      <th>5</th>\n",
       "      <td>[1.01, 0.0]</td>\n",
       "      <td>3</td>\n",
       "      <td>-0.333</td>\n",
       "      <td>1</td>\n",
       "      <td>0</td>\n",
       "      <td>[-16.536, -36.667]</td>\n",
       "    </tr>\n",
       "    <tr>\n",
       "      <th>6</th>\n",
       "      <td>[1.01, 0.0]</td>\n",
       "      <td>2</td>\n",
       "      <td>-3.453</td>\n",
       "      <td>1</td>\n",
       "      <td>0</td>\n",
       "      <td>[-31.188, -26.13]</td>\n",
       "    </tr>\n",
       "    <tr>\n",
       "      <th>7</th>\n",
       "      <td>[1.01, 0.0]</td>\n",
       "      <td>4</td>\n",
       "      <td>-1.628</td>\n",
       "      <td>1</td>\n",
       "      <td>0</td>\n",
       "      <td>[-29.98, -32.223]</td>\n",
       "    </tr>\n",
       "    <tr>\n",
       "      <th>8</th>\n",
       "      <td>[1.01, 0.0]</td>\n",
       "      <td>2</td>\n",
       "      <td>-4.117</td>\n",
       "      <td>1</td>\n",
       "      <td>6</td>\n",
       "      <td>[-31.048, -26.219]</td>\n",
       "    </tr>\n",
       "    <tr>\n",
       "      <th>9</th>\n",
       "      <td>[1.01, 0.0]</td>\n",
       "      <td>2</td>\n",
       "      <td>-5.718</td>\n",
       "      <td>1</td>\n",
       "      <td>12</td>\n",
       "      <td>[-31.951, -25.672]</td>\n",
       "    </tr>\n",
       "    <tr>\n",
       "      <th>10</th>\n",
       "      <td>[1.01, 0.0]</td>\n",
       "      <td>1</td>\n",
       "      <td>-1.850</td>\n",
       "      <td>1</td>\n",
       "      <td>13</td>\n",
       "      <td>[-15.858, -26.355]</td>\n",
       "    </tr>\n",
       "    <tr>\n",
       "      <th>11</th>\n",
       "      <td>[1.01, 0.0]</td>\n",
       "      <td>4</td>\n",
       "      <td>-0.492</td>\n",
       "      <td>1</td>\n",
       "      <td>3</td>\n",
       "      <td>[-54.97, -36.899]</td>\n",
       "    </tr>\n",
       "    <tr>\n",
       "      <th>12</th>\n",
       "      <td>[1.01, 0.0]</td>\n",
       "      <td>5</td>\n",
       "      <td>-2.777</td>\n",
       "      <td>1</td>\n",
       "      <td>13</td>\n",
       "      <td>[-39.131, -26.287]</td>\n",
       "    </tr>\n",
       "    <tr>\n",
       "      <th>13</th>\n",
       "      <td>[1.01, 0.0]</td>\n",
       "      <td>7</td>\n",
       "      <td>-0.164</td>\n",
       "      <td>1</td>\n",
       "      <td>5</td>\n",
       "      <td>[-47.896, -40.403]</td>\n",
       "    </tr>\n",
       "    <tr>\n",
       "      <th>14</th>\n",
       "      <td>[1.01, 0.0]</td>\n",
       "      <td>4</td>\n",
       "      <td>-1.088</td>\n",
       "      <td>1</td>\n",
       "      <td>4</td>\n",
       "      <td>[-29.764, -32.218]</td>\n",
       "    </tr>\n",
       "    <tr>\n",
       "      <th>15</th>\n",
       "      <td>[1.01, 0.0]</td>\n",
       "      <td>3</td>\n",
       "      <td>-1.198</td>\n",
       "      <td>1</td>\n",
       "      <td>9</td>\n",
       "      <td>[-15.931, -29.895]</td>\n",
       "    </tr>\n",
       "    <tr>\n",
       "      <th>16</th>\n",
       "      <td>[1.01, 0.0]</td>\n",
       "      <td>5</td>\n",
       "      <td>-1.649</td>\n",
       "      <td>1</td>\n",
       "      <td>2</td>\n",
       "      <td>[-40.749, -24.644]</td>\n",
       "    </tr>\n",
       "    <tr>\n",
       "      <th>17</th>\n",
       "      <td>[1.01, 0.0]</td>\n",
       "      <td>7</td>\n",
       "      <td>-0.419</td>\n",
       "      <td>1</td>\n",
       "      <td>12</td>\n",
       "      <td>[-59.895, -36.683]</td>\n",
       "    </tr>\n",
       "    <tr>\n",
       "      <th>18</th>\n",
       "      <td>[1.01, 0.0]</td>\n",
       "      <td>7</td>\n",
       "      <td>-0.256</td>\n",
       "      <td>1</td>\n",
       "      <td>3</td>\n",
       "      <td>[-69.965, -37.471]</td>\n",
       "    </tr>\n",
       "    <tr>\n",
       "      <th>19</th>\n",
       "      <td>[1.01, 0.0]</td>\n",
       "      <td>3</td>\n",
       "      <td>-0.603</td>\n",
       "      <td>1</td>\n",
       "      <td>12</td>\n",
       "      <td>[-17.085, -21.817]</td>\n",
       "    </tr>\n",
       "    <tr>\n",
       "      <th>20</th>\n",
       "      <td>[1.01, 0.0]</td>\n",
       "      <td>8</td>\n",
       "      <td>-1.219</td>\n",
       "      <td>1</td>\n",
       "      <td>12</td>\n",
       "      <td>[-40.87, -30.0]</td>\n",
       "    </tr>\n",
       "    <tr>\n",
       "      <th>21</th>\n",
       "      <td>[1.01, 0.0]</td>\n",
       "      <td>0</td>\n",
       "      <td>-0.908</td>\n",
       "      <td>1</td>\n",
       "      <td>11</td>\n",
       "      <td>[-18.33, -21.714]</td>\n",
       "    </tr>\n",
       "    <tr>\n",
       "      <th>22</th>\n",
       "      <td>[1.01, 0.0]</td>\n",
       "      <td>7</td>\n",
       "      <td>-0.640</td>\n",
       "      <td>1</td>\n",
       "      <td>10</td>\n",
       "      <td>[-54.282, -36.457]</td>\n",
       "    </tr>\n",
       "    <tr>\n",
       "      <th>23</th>\n",
       "      <td>[1.01, 0.0]</td>\n",
       "      <td>8</td>\n",
       "      <td>-1.406</td>\n",
       "      <td>1</td>\n",
       "      <td>13</td>\n",
       "      <td>[-27.075, -24.198]</td>\n",
       "    </tr>\n",
       "    <tr>\n",
       "      <th>24</th>\n",
       "      <td>[1.01, 0.0]</td>\n",
       "      <td>2</td>\n",
       "      <td>-2.250</td>\n",
       "      <td>1</td>\n",
       "      <td>9</td>\n",
       "      <td>[-30.314, -27.247]</td>\n",
       "    </tr>\n",
       "    <tr>\n",
       "      <th>25</th>\n",
       "      <td>[1.01, 0.0]</td>\n",
       "      <td>0</td>\n",
       "      <td>-1.319</td>\n",
       "      <td>1</td>\n",
       "      <td>5</td>\n",
       "      <td>[-16.164, -32.203]</td>\n",
       "    </tr>\n",
       "    <tr>\n",
       "      <th>26</th>\n",
       "      <td>[1.01, 0.0]</td>\n",
       "      <td>1</td>\n",
       "      <td>-0.684</td>\n",
       "      <td>1</td>\n",
       "      <td>11</td>\n",
       "      <td>[-25.521, -26.666]</td>\n",
       "    </tr>\n",
       "    <tr>\n",
       "      <th>27</th>\n",
       "      <td>[1.01, 0.0]</td>\n",
       "      <td>0</td>\n",
       "      <td>-1.573</td>\n",
       "      <td>1</td>\n",
       "      <td>8</td>\n",
       "      <td>[-17.089, -27.359]</td>\n",
       "    </tr>\n",
       "    <tr>\n",
       "      <th>28</th>\n",
       "      <td>[1.01, 0.0]</td>\n",
       "      <td>5</td>\n",
       "      <td>-2.548</td>\n",
       "      <td>1</td>\n",
       "      <td>12</td>\n",
       "      <td>[-26.385, -28.884]</td>\n",
       "    </tr>\n",
       "    <tr>\n",
       "      <th>29</th>\n",
       "      <td>[1.01, 0.0]</td>\n",
       "      <td>1</td>\n",
       "      <td>-2.015</td>\n",
       "      <td>1</td>\n",
       "      <td>4</td>\n",
       "      <td>[-26.46, -29.955]</td>\n",
       "    </tr>\n",
       "    <tr>\n",
       "      <th>...</th>\n",
       "      <td>...</td>\n",
       "      <td>...</td>\n",
       "      <td>...</td>\n",
       "      <td>...</td>\n",
       "      <td>...</td>\n",
       "      <td>...</td>\n",
       "    </tr>\n",
       "    <tr>\n",
       "      <th>86</th>\n",
       "      <td>[1.01, 0.0]</td>\n",
       "      <td>3</td>\n",
       "      <td>-0.635</td>\n",
       "      <td>1</td>\n",
       "      <td>7</td>\n",
       "      <td>[-17.261, -30.0]</td>\n",
       "    </tr>\n",
       "    <tr>\n",
       "      <th>87</th>\n",
       "      <td>[1.01, 0.0]</td>\n",
       "      <td>7</td>\n",
       "      <td>-0.408</td>\n",
       "      <td>1</td>\n",
       "      <td>13</td>\n",
       "      <td>[-58.748, -26.784]</td>\n",
       "    </tr>\n",
       "    <tr>\n",
       "      <th>88</th>\n",
       "      <td>[1.01, 0.0]</td>\n",
       "      <td>0</td>\n",
       "      <td>-0.788</td>\n",
       "      <td>1</td>\n",
       "      <td>2</td>\n",
       "      <td>[-15.167, -26.436]</td>\n",
       "    </tr>\n",
       "    <tr>\n",
       "      <th>89</th>\n",
       "      <td>[1.01, 0.0]</td>\n",
       "      <td>4</td>\n",
       "      <td>-1.054</td>\n",
       "      <td>1</td>\n",
       "      <td>9</td>\n",
       "      <td>[-18.783, -31.825]</td>\n",
       "    </tr>\n",
       "    <tr>\n",
       "      <th>90</th>\n",
       "      <td>[1.01, 0.0]</td>\n",
       "      <td>4</td>\n",
       "      <td>-0.922</td>\n",
       "      <td>1</td>\n",
       "      <td>13</td>\n",
       "      <td>[-34.314, -42.968]</td>\n",
       "    </tr>\n",
       "    <tr>\n",
       "      <th>91</th>\n",
       "      <td>[1.01, 0.0]</td>\n",
       "      <td>0</td>\n",
       "      <td>-0.791</td>\n",
       "      <td>1</td>\n",
       "      <td>7</td>\n",
       "      <td>[-16.867, -20.166]</td>\n",
       "    </tr>\n",
       "    <tr>\n",
       "      <th>92</th>\n",
       "      <td>[1.01, 0.0]</td>\n",
       "      <td>4</td>\n",
       "      <td>-1.276</td>\n",
       "      <td>1</td>\n",
       "      <td>6</td>\n",
       "      <td>[-34.945, -29.914]</td>\n",
       "    </tr>\n",
       "    <tr>\n",
       "      <th>93</th>\n",
       "      <td>[1.01, 0.0]</td>\n",
       "      <td>2</td>\n",
       "      <td>-3.770</td>\n",
       "      <td>1</td>\n",
       "      <td>4</td>\n",
       "      <td>[-29.795, -28.045]</td>\n",
       "    </tr>\n",
       "    <tr>\n",
       "      <th>94</th>\n",
       "      <td>[1.01, 0.0]</td>\n",
       "      <td>2</td>\n",
       "      <td>-1.444</td>\n",
       "      <td>1</td>\n",
       "      <td>8</td>\n",
       "      <td>[-29.866, -26.062]</td>\n",
       "    </tr>\n",
       "    <tr>\n",
       "      <th>95</th>\n",
       "      <td>[1.01, 0.0]</td>\n",
       "      <td>5</td>\n",
       "      <td>-1.968</td>\n",
       "      <td>1</td>\n",
       "      <td>11</td>\n",
       "      <td>[-58.302, -29.976]</td>\n",
       "    </tr>\n",
       "    <tr>\n",
       "      <th>96</th>\n",
       "      <td>[1.01, 0.0]</td>\n",
       "      <td>5</td>\n",
       "      <td>-1.565</td>\n",
       "      <td>1</td>\n",
       "      <td>4</td>\n",
       "      <td>[-31.134, -30.0]</td>\n",
       "    </tr>\n",
       "    <tr>\n",
       "      <th>97</th>\n",
       "      <td>[1.01, 0.0]</td>\n",
       "      <td>0</td>\n",
       "      <td>-0.548</td>\n",
       "      <td>1</td>\n",
       "      <td>12</td>\n",
       "      <td>[-16.274, -22.146]</td>\n",
       "    </tr>\n",
       "    <tr>\n",
       "      <th>98</th>\n",
       "      <td>[1.01, 0.0]</td>\n",
       "      <td>4</td>\n",
       "      <td>-0.775</td>\n",
       "      <td>1</td>\n",
       "      <td>8</td>\n",
       "      <td>[-16.065, -20.892]</td>\n",
       "    </tr>\n",
       "    <tr>\n",
       "      <th>99</th>\n",
       "      <td>[1.01, 0.0]</td>\n",
       "      <td>8</td>\n",
       "      <td>-0.928</td>\n",
       "      <td>1</td>\n",
       "      <td>11</td>\n",
       "      <td>[-31.411, -24.05]</td>\n",
       "    </tr>\n",
       "    <tr>\n",
       "      <th>100</th>\n",
       "      <td>[1.01, 0.0]</td>\n",
       "      <td>5</td>\n",
       "      <td>-1.075</td>\n",
       "      <td>1</td>\n",
       "      <td>10</td>\n",
       "      <td>[-30.477, -31.915]</td>\n",
       "    </tr>\n",
       "    <tr>\n",
       "      <th>101</th>\n",
       "      <td>[1.01, 0.0]</td>\n",
       "      <td>3</td>\n",
       "      <td>-1.586</td>\n",
       "      <td>1</td>\n",
       "      <td>8</td>\n",
       "      <td>[-19.545, -29.177]</td>\n",
       "    </tr>\n",
       "    <tr>\n",
       "      <th>102</th>\n",
       "      <td>[1.01, 0.0]</td>\n",
       "      <td>3</td>\n",
       "      <td>-0.846</td>\n",
       "      <td>1</td>\n",
       "      <td>4</td>\n",
       "      <td>[-16.85, -29.341]</td>\n",
       "    </tr>\n",
       "    <tr>\n",
       "      <th>103</th>\n",
       "      <td>[1.01, 0.0]</td>\n",
       "      <td>6</td>\n",
       "      <td>-0.747</td>\n",
       "      <td>1</td>\n",
       "      <td>9</td>\n",
       "      <td>[-18.01, -30.794]</td>\n",
       "    </tr>\n",
       "    <tr>\n",
       "      <th>104</th>\n",
       "      <td>[1.01, 0.0]</td>\n",
       "      <td>6</td>\n",
       "      <td>-0.520</td>\n",
       "      <td>1</td>\n",
       "      <td>4</td>\n",
       "      <td>[-15.099, -33.333]</td>\n",
       "    </tr>\n",
       "    <tr>\n",
       "      <th>105</th>\n",
       "      <td>[1.01, 0.0]</td>\n",
       "      <td>6</td>\n",
       "      <td>-0.280</td>\n",
       "      <td>1</td>\n",
       "      <td>12</td>\n",
       "      <td>[-15.928, -33.333]</td>\n",
       "    </tr>\n",
       "    <tr>\n",
       "      <th>106</th>\n",
       "      <td>[1.01, 0.0]</td>\n",
       "      <td>6</td>\n",
       "      <td>-0.254</td>\n",
       "      <td>1</td>\n",
       "      <td>6</td>\n",
       "      <td>[-16.522, -40.0]</td>\n",
       "    </tr>\n",
       "    <tr>\n",
       "      <th>107</th>\n",
       "      <td>[1.01, 0.0]</td>\n",
       "      <td>6</td>\n",
       "      <td>-0.539</td>\n",
       "      <td>1</td>\n",
       "      <td>10</td>\n",
       "      <td>[-25.979, -26.115]</td>\n",
       "    </tr>\n",
       "    <tr>\n",
       "      <th>108</th>\n",
       "      <td>[1.01, 0.0]</td>\n",
       "      <td>6</td>\n",
       "      <td>-0.960</td>\n",
       "      <td>1</td>\n",
       "      <td>5</td>\n",
       "      <td>[-17.456, -26.867]</td>\n",
       "    </tr>\n",
       "    <tr>\n",
       "      <th>109</th>\n",
       "      <td>[1.01, 0.0]</td>\n",
       "      <td>6</td>\n",
       "      <td>-0.492</td>\n",
       "      <td>1</td>\n",
       "      <td>3</td>\n",
       "      <td>[-21.409, -30.0]</td>\n",
       "    </tr>\n",
       "    <tr>\n",
       "      <th>110</th>\n",
       "      <td>[1.01, 0.0]</td>\n",
       "      <td>6</td>\n",
       "      <td>-0.581</td>\n",
       "      <td>1</td>\n",
       "      <td>2</td>\n",
       "      <td>[-22.195, -30.0]</td>\n",
       "    </tr>\n",
       "    <tr>\n",
       "      <th>111</th>\n",
       "      <td>[1.01, 0.0]</td>\n",
       "      <td>6</td>\n",
       "      <td>-0.183</td>\n",
       "      <td>1</td>\n",
       "      <td>0</td>\n",
       "      <td>[-7.391, -29.999]</td>\n",
       "    </tr>\n",
       "    <tr>\n",
       "      <th>112</th>\n",
       "      <td>[1.01, 0.0]</td>\n",
       "      <td>6</td>\n",
       "      <td>-0.098</td>\n",
       "      <td>1</td>\n",
       "      <td>13</td>\n",
       "      <td>[4.784, -49.466]</td>\n",
       "    </tr>\n",
       "    <tr>\n",
       "      <th>113</th>\n",
       "      <td>[1.01, 0.0]</td>\n",
       "      <td>6</td>\n",
       "      <td>-0.326</td>\n",
       "      <td>1</td>\n",
       "      <td>7</td>\n",
       "      <td>[-22.613, -26.34]</td>\n",
       "    </tr>\n",
       "    <tr>\n",
       "      <th>114</th>\n",
       "      <td>[1.01, 0.0]</td>\n",
       "      <td>6</td>\n",
       "      <td>-0.986</td>\n",
       "      <td>1</td>\n",
       "      <td>8</td>\n",
       "      <td>[-22.784, -31.842]</td>\n",
       "    </tr>\n",
       "    <tr>\n",
       "      <th>115</th>\n",
       "      <td>[1.01, 0.0]</td>\n",
       "      <td>6</td>\n",
       "      <td>-0.623</td>\n",
       "      <td>1</td>\n",
       "      <td>11</td>\n",
       "      <td>[-18.46, -30.0]</td>\n",
       "    </tr>\n",
       "  </tbody>\n",
       "</table>\n",
       "<p>116 rows × 6 columns</p>\n",
       "</div>"
      ],
      "text/plain": [
       "      boundaries  cat    fom  ncat  node          selections\n",
       "0    [1.01, 0.0]    0 -0.453     1     0  [-13.481, -43.342]\n",
       "1    [1.01, 0.0]    1 -2.908     1     0  [-28.676, -29.457]\n",
       "2    [1.01, 0.0]    7 -0.842     1     0    [-30.0, -36.693]\n",
       "3    [1.01, 0.0]    8 -0.689     1     0  [-64.865, -29.817]\n",
       "4    [1.01, 0.0]    5 -1.442     1     0    [-25.178, -20.0]\n",
       "5    [1.01, 0.0]    3 -0.333     1     0  [-16.536, -36.667]\n",
       "6    [1.01, 0.0]    2 -3.453     1     0   [-31.188, -26.13]\n",
       "7    [1.01, 0.0]    4 -1.628     1     0   [-29.98, -32.223]\n",
       "8    [1.01, 0.0]    2 -4.117     1     6  [-31.048, -26.219]\n",
       "9    [1.01, 0.0]    2 -5.718     1    12  [-31.951, -25.672]\n",
       "10   [1.01, 0.0]    1 -1.850     1    13  [-15.858, -26.355]\n",
       "11   [1.01, 0.0]    4 -0.492     1     3   [-54.97, -36.899]\n",
       "12   [1.01, 0.0]    5 -2.777     1    13  [-39.131, -26.287]\n",
       "13   [1.01, 0.0]    7 -0.164     1     5  [-47.896, -40.403]\n",
       "14   [1.01, 0.0]    4 -1.088     1     4  [-29.764, -32.218]\n",
       "15   [1.01, 0.0]    3 -1.198     1     9  [-15.931, -29.895]\n",
       "16   [1.01, 0.0]    5 -1.649     1     2  [-40.749, -24.644]\n",
       "17   [1.01, 0.0]    7 -0.419     1    12  [-59.895, -36.683]\n",
       "18   [1.01, 0.0]    7 -0.256     1     3  [-69.965, -37.471]\n",
       "19   [1.01, 0.0]    3 -0.603     1    12  [-17.085, -21.817]\n",
       "20   [1.01, 0.0]    8 -1.219     1    12     [-40.87, -30.0]\n",
       "21   [1.01, 0.0]    0 -0.908     1    11   [-18.33, -21.714]\n",
       "22   [1.01, 0.0]    7 -0.640     1    10  [-54.282, -36.457]\n",
       "23   [1.01, 0.0]    8 -1.406     1    13  [-27.075, -24.198]\n",
       "24   [1.01, 0.0]    2 -2.250     1     9  [-30.314, -27.247]\n",
       "25   [1.01, 0.0]    0 -1.319     1     5  [-16.164, -32.203]\n",
       "26   [1.01, 0.0]    1 -0.684     1    11  [-25.521, -26.666]\n",
       "27   [1.01, 0.0]    0 -1.573     1     8  [-17.089, -27.359]\n",
       "28   [1.01, 0.0]    5 -2.548     1    12  [-26.385, -28.884]\n",
       "29   [1.01, 0.0]    1 -2.015     1     4   [-26.46, -29.955]\n",
       "..           ...  ...    ...   ...   ...                 ...\n",
       "86   [1.01, 0.0]    3 -0.635     1     7    [-17.261, -30.0]\n",
       "87   [1.01, 0.0]    7 -0.408     1    13  [-58.748, -26.784]\n",
       "88   [1.01, 0.0]    0 -0.788     1     2  [-15.167, -26.436]\n",
       "89   [1.01, 0.0]    4 -1.054     1     9  [-18.783, -31.825]\n",
       "90   [1.01, 0.0]    4 -0.922     1    13  [-34.314, -42.968]\n",
       "91   [1.01, 0.0]    0 -0.791     1     7  [-16.867, -20.166]\n",
       "92   [1.01, 0.0]    4 -1.276     1     6  [-34.945, -29.914]\n",
       "93   [1.01, 0.0]    2 -3.770     1     4  [-29.795, -28.045]\n",
       "94   [1.01, 0.0]    2 -1.444     1     8  [-29.866, -26.062]\n",
       "95   [1.01, 0.0]    5 -1.968     1    11  [-58.302, -29.976]\n",
       "96   [1.01, 0.0]    5 -1.565     1     4    [-31.134, -30.0]\n",
       "97   [1.01, 0.0]    0 -0.548     1    12  [-16.274, -22.146]\n",
       "98   [1.01, 0.0]    4 -0.775     1     8  [-16.065, -20.892]\n",
       "99   [1.01, 0.0]    8 -0.928     1    11   [-31.411, -24.05]\n",
       "100  [1.01, 0.0]    5 -1.075     1    10  [-30.477, -31.915]\n",
       "101  [1.01, 0.0]    3 -1.586     1     8  [-19.545, -29.177]\n",
       "102  [1.01, 0.0]    3 -0.846     1     4   [-16.85, -29.341]\n",
       "103  [1.01, 0.0]    6 -0.747     1     9   [-18.01, -30.794]\n",
       "104  [1.01, 0.0]    6 -0.520     1     4  [-15.099, -33.333]\n",
       "105  [1.01, 0.0]    6 -0.280     1    12  [-15.928, -33.333]\n",
       "106  [1.01, 0.0]    6 -0.254     1     6    [-16.522, -40.0]\n",
       "107  [1.01, 0.0]    6 -0.539     1    10  [-25.979, -26.115]\n",
       "108  [1.01, 0.0]    6 -0.960     1     5  [-17.456, -26.867]\n",
       "109  [1.01, 0.0]    6 -0.492     1     3    [-21.409, -30.0]\n",
       "110  [1.01, 0.0]    6 -0.581     1     2    [-22.195, -30.0]\n",
       "111  [1.01, 0.0]    6 -0.183     1     0   [-7.391, -29.999]\n",
       "112  [1.01, 0.0]    6 -0.098     1    13    [4.784, -49.466]\n",
       "113  [1.01, 0.0]    6 -0.326     1     7   [-22.613, -26.34]\n",
       "114  [1.01, 0.0]    6 -0.986     1     8  [-22.784, -31.842]\n",
       "115  [1.01, 0.0]    6 -0.623     1    11     [-18.46, -30.0]\n",
       "\n",
       "[116 rows x 6 columns]"
      ]
     },
     "execution_count": 8,
     "metadata": {},
     "output_type": "execute_result"
    }
   ],
   "source": [
    "df.sort_index(inplace=True)\n",
    "df"
   ]
  },
  {
   "cell_type": "code",
   "execution_count": 9,
   "metadata": {
    "collapsed": false
   },
   "outputs": [],
   "source": [
    "from sklearn.cluster import KMeans"
   ]
  },
  {
   "cell_type": "code",
   "execution_count": 10,
   "metadata": {
    "collapsed": false
   },
   "outputs": [],
   "source": [
    "boundaries = []\n",
    "\n",
    "# for ncats in [1]:\n",
    "for row in df['selections']:\n",
    "    boundaries.append( row )"
   ]
  },
  {
   "cell_type": "code",
   "execution_count": 11,
   "metadata": {
    "collapsed": false
   },
   "outputs": [],
   "source": [
    "boundaries = np.array(boundaries)\n",
    "\n",
    "df['min_mjj'] = boundaries[:,1].ravel().astype(np.float)\n",
    "df['max_mjj'] = -boundaries[:,0].ravel().astype(np.float)\n",
    "#boundaries[:,:,1].shape"
   ]
  },
  {
   "cell_type": "code",
   "execution_count": 12,
   "metadata": {
    "collapsed": true
   },
   "outputs": [],
   "source": [
    "df['fom'] = -df['fom']"
   ]
  },
  {
   "cell_type": "code",
   "execution_count": 13,
   "metadata": {
    "collapsed": false
   },
   "outputs": [],
   "source": [
    "grouped = df.groupby('cat')"
   ]
  },
  {
   "cell_type": "code",
   "execution_count": null,
   "metadata": {
    "collapsed": false
   },
   "outputs": [],
   "source": []
  },
  {
   "cell_type": "code",
   "execution_count": 14,
   "metadata": {
    "collapsed": false
   },
   "outputs": [
    {
     "data": {
      "image/png": "[encoded data removed]",
      "text/plain": [
       "<matplotlib.figure.Figure at 0x7ffb3fa66950>"
      ]
     },
     "metadata": {},
     "output_type": "display_data"
    },
    {
     "data": {
      "image/png": "[encoded data removed]",
      "text/plain": [
       "<matplotlib.figure.Figure at 0x7ffb33238bd0>"
      ]
     },
     "metadata": {},
     "output_type": "display_data"
    },
    {
     "data": {
      "image/png": "[encoded data removed]",
      "text/plain": [
       "<matplotlib.figure.Figure at 0x7ffb308c5b50>"
      ]
     },
     "metadata": {},
     "output_type": "display_data"
    },
    {
     "data": {
      "image/png": "[encoded data removed]",
      "text/plain": [
       "<matplotlib.figure.Figure at 0x7ffb2b512c50>"
      ]
     },
     "metadata": {},
     "output_type": "display_data"
    },
    {
     "data": {
      "image/png": "[encoded data removed]",
      "text/plain": [
       "<matplotlib.figure.Figure at 0x7ffb20d32fd0>"
      ]
     },
     "metadata": {},
     "output_type": "display_data"
    },
    {
     "data": {
      "image/png": "[encoded data removed]",
      "text/plain": [
       "<matplotlib.figure.Figure at 0x7ffb20cc3810>"
      ]
     },
     "metadata": {},
     "output_type": "display_data"
    },
    {
     "data": {
      "image/png": "[encoded data removed]",
      "text/plain": [
       "<matplotlib.figure.Figure at 0x7ffb1bf09710>"
      ]
     },
     "metadata": {},
     "output_type": "display_data"
    },
    {
     "data": {
      "image/png": "[encoded data removed]",
      "text/plain": [
       "<matplotlib.figure.Figure at 0x7ffb3fa24410>"
      ]
     },
     "metadata": {},
     "output_type": "display_data"
    },
    {
     "data": {
      "image/png": "[encoded data removed]",
      "text/plain": [
       "<matplotlib.figure.Figure at 0x7ffb1e210b10>"
      ]
     },
     "metadata": {},
     "output_type": "display_data"
    }
   ],
   "source": [
    "avgs = []\n",
    "\n",
    "for group in grouped.groups:\n",
    "    grp = grouped.get_group(group)\n",
    "    min_fom = np.percentile(grp['fom'],20.)\n",
    "    grp = grp[ grp['fom'] > min_fom ]\n",
    "    ax = plt.subplot(2,1,1)\n",
    "    plt.title('cat %d' % group)\n",
    "    grp.plot.scatter( 'node', 'max_mjj', c='fom', ax=ax)    \n",
    "    max_avg = (grp['max_mjj'] * grp['fom']).sum() / grp['fom'].sum()\n",
    "    ax.plot((0,13),(max_avg,max_avg),'k-')\n",
    "    \n",
    "    ax=plt.subplot(2,1,2)\n",
    "    grp.plot.scatter( 'node', 'min_mjj', c='fom', ax=ax)\n",
    "    min_avg = (grp['min_mjj'] * grp['fom']).sum() / grp['fom'].sum()\n",
    "    ax.plot((0,13),(min_avg,min_avg),'k-')\n",
    "\n",
    "    avgs.append([group,min_avg,max_avg])\n",
    "    plt.show()"
   ]
  },
  {
   "cell_type": "code",
   "execution_count": 15,
   "metadata": {
    "collapsed": false
   },
   "outputs": [
    {
     "data": {
      "text/plain": [
       "[[0, -27.620961965769194, 18.790065158642776],\n",
       " [1, -29.571274064798875, 24.322336463713675],\n",
       " [2, -26.918575482586164, 30.948764986761415],\n",
       " [3, -29.577491315136484, 17.444607146401985],\n",
       " [4, -31.402588278590482, 30.68833554144815],\n",
       " [5, -27.01290259188443, 33.649551041002766],\n",
       " [6, -29.798624876114967, 20.034885365047906],\n",
       " [7, -34.31171247240618, 47.56836184694628],\n",
       " [8, -27.051044646774894, 34.010552325581386]]"
      ]
     },
     "execution_count": 15,
     "metadata": {},
     "output_type": "execute_result"
    }
   ],
   "source": [
    "avgs"
   ]
  },
  {
   "cell_type": "code",
   "execution_count": 19,
   "metadata": {
    "collapsed": true
   },
   "outputs": [],
   "source": [
    "avgs = np.array(avgs)\n",
    "round_to = 1."
   ]
  },
  {
   "cell_type": "code",
   "execution_count": 24,
   "metadata": {
    "collapsed": false
   },
   "outputs": [],
   "source": [
    "rounded = np.round(avgs[:,1:3] / round_to)*round_to"
   ]
  },
  {
   "cell_type": "code",
   "execution_count": 36,
   "metadata": {
    "collapsed": false
   },
   "outputs": [],
   "source": [
    "rounded[:,1] = np.vstack( [rounded[:,1],np.ones_like(rounded[:,1])*35] ).min(axis=0)"
   ]
  },
  {
   "cell_type": "code",
   "execution_count": 37,
   "metadata": {
    "collapsed": false
   },
   "outputs": [
    {
     "data": {
      "text/plain": [
       "array([[-28.,  19.],\n",
       "       [-30.,  24.],\n",
       "       [-27.,  31.],\n",
       "       [-30.,  17.],\n",
       "       [-31.,  31.],\n",
       "       [-27.,  34.],\n",
       "       [-30.,  20.],\n",
       "       [-34.,  35.],\n",
       "       [-27.,  34.]])"
      ]
     },
     "execution_count": 37,
     "metadata": {},
     "output_type": "execute_result"
    }
   ],
   "source": [
    "rounded"
   ]
  },
  {
   "cell_type": "code",
   "execution_count": 26,
   "metadata": {
    "collapsed": false
   },
   "outputs": [
    {
     "data": {
      "text/plain": [
       "array([ 47.,  54.,  58.,  47.,  62.,  61.,  50.,  82.,  61.])"
      ]
     },
     "execution_count": 26,
     "metadata": {},
     "output_type": "execute_result"
    }
   ],
   "source": [
    "rounded[:,1]-rounded[:,0]"
   ]
  },
  {
   "cell_type": "code",
   "execution_count": 28,
   "metadata": {
    "collapsed": false
   },
   "outputs": [
    {
     "data": {
      "text/plain": [
       "array([-4.5, -3. ,  2. , -6.5,  0. ,  3.5, -5. ,  7. ,  3.5])"
      ]
     },
     "execution_count": 28,
     "metadata": {},
     "output_type": "execute_result"
    }
   ],
   "source": [
    "(rounded[:,1]+rounded[:,0])/2."
   ]
  },
  {
   "cell_type": "code",
   "execution_count": null,
   "metadata": {
    "collapsed": true
   },
   "outputs": [],
   "source": []
  }
 ],
 "metadata": {
  "anaconda-cloud": {},
  "kernelspec": {
   "display_name": "Python [default]",
   "language": "python",
   "name": "python2"
  },
  "language_info": {
   "codemirror_mode": {
    "name": "ipython",
    "version": 2
   },
   "file_extension": ".py",
   "mimetype": "text/x-python",
   "name": "python",
   "nbconvert_exporter": "python",
   "pygments_lexer": "ipython2",
   "version": "2.7.12"
  }
 },
 "nbformat": 4,
 "nbformat_minor": 1
}
