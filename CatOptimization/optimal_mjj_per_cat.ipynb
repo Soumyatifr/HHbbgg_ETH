{
 "cells": [
  {
   "cell_type": "code",
   "execution_count": 115,
   "metadata": {
    "collapsed": true
   },
   "outputs": [],
   "source": [
    "path = '/mnt/t3nfs01/data01/shome/micheli/CMSSW_HHbbgg/CMSSW_8_0_26/src/diphotons/Utils/macro/outPlots'"
   ]
  },
  {
   "cell_type": "code",
   "execution_count": 116,
   "metadata": {
    "collapsed": true
   },
   "outputs": [],
   "source": [
    "import glob"
   ]
  },
  {
   "cell_type": "code",
   "execution_count": 117,
   "metadata": {
    "collapsed": true
   },
   "outputs": [],
   "source": [
    "files = glob.glob('%s/out_20171129_21*node*_cat[0-9]*_mjj/cat_opt.json' % path)"
   ]
  },
  {
   "cell_type": "code",
   "execution_count": 118,
   "metadata": {
    "collapsed": false
   },
   "outputs": [
    {
     "data": {
      "text/plain": [
       "['/mnt/t3nfs01/data01/shome/micheli/CMSSW_HHbbgg/CMSSW_8_0_26/src/diphotons/Utils/macro/outPlots/out_20171129_211043_node_3_cat2_transformed_mjj/cat_opt.json',\n",
       " '/mnt/t3nfs01/data01/shome/micheli/CMSSW_HHbbgg/CMSSW_8_0_26/src/diphotons/Utils/macro/outPlots/out_20171129_211043_node_8_cat2_transformed_mjj/cat_opt.json',\n",
       " '/mnt/t3nfs01/data01/shome/micheli/CMSSW_HHbbgg/CMSSW_8_0_26/src/diphotons/Utils/macro/outPlots/out_20171129_211043_node_12_cat2_transformed_mjj/cat_opt.json',\n",
       " '/mnt/t3nfs01/data01/shome/micheli/CMSSW_HHbbgg/CMSSW_8_0_26/src/diphotons/Utils/macro/outPlots/out_20171129_211043_node_SM_cat2_transformed_mjj/cat_opt.json',\n",
       " '/mnt/t3nfs01/data01/shome/micheli/CMSSW_HHbbgg/CMSSW_8_0_26/src/diphotons/Utils/macro/outPlots/out_20171129_211043_node_5_cat2_transformed_mjj/cat_opt.json',\n",
       " '/mnt/t3nfs01/data01/shome/micheli/CMSSW_HHbbgg/CMSSW_8_0_26/src/diphotons/Utils/macro/outPlots/out_20171129_211043_node_9_cat2_transformed_mjj/cat_opt.json',\n",
       " '/mnt/t3nfs01/data01/shome/micheli/CMSSW_HHbbgg/CMSSW_8_0_26/src/diphotons/Utils/macro/outPlots/out_20171129_211043_node_2_cat2_transformed_mjj/cat_opt.json',\n",
       " '/mnt/t3nfs01/data01/shome/micheli/CMSSW_HHbbgg/CMSSW_8_0_26/src/diphotons/Utils/macro/outPlots/out_20171129_211043_node_13_cat2_transformed_mjj/cat_opt.json',\n",
       " '/mnt/t3nfs01/data01/shome/micheli/CMSSW_HHbbgg/CMSSW_8_0_26/src/diphotons/Utils/macro/outPlots/out_20171129_211043_node_4_cat2_transformed_mjj/cat_opt.json',\n",
       " '/mnt/t3nfs01/data01/shome/micheli/CMSSW_HHbbgg/CMSSW_8_0_26/src/diphotons/Utils/macro/outPlots/out_20171129_211043_node_7_cat2_transformed_mjj/cat_opt.json',\n",
       " '/mnt/t3nfs01/data01/shome/micheli/CMSSW_HHbbgg/CMSSW_8_0_26/src/diphotons/Utils/macro/outPlots/out_20171129_211043_node_10_cat2_transformed_mjj/cat_opt.json',\n",
       " '/mnt/t3nfs01/data01/shome/micheli/CMSSW_HHbbgg/CMSSW_8_0_26/src/diphotons/Utils/macro/outPlots/out_20171129_211043_node_6_cat2_transformed_mjj/cat_opt.json',\n",
       " '/mnt/t3nfs01/data01/shome/micheli/CMSSW_HHbbgg/CMSSW_8_0_26/src/diphotons/Utils/macro/outPlots/out_20171129_211043_node_11_cat2_transformed_mjj/cat_opt.json']"
      ]
     },
     "execution_count": 118,
     "metadata": {},
     "output_type": "execute_result"
    }
   ],
   "source": [
    "files"
   ]
  },
  {
   "cell_type": "code",
   "execution_count": 119,
   "metadata": {
    "collapsed": false
   },
   "outputs": [],
   "source": [
    "import json \n",
    "import numpy as np\n",
    "\n",
    "summary = { x:[] for x in ['node', 'cat', 'boundaries','ncat','fom','selections']  }\n",
    "\n",
    "for fil in files:\n",
    "    toks = fil.split('/')[-2].split('node_')\n",
    "    name = toks[1].split('_')[0]\n",
    "    cat = int(toks[1].split('_')[1].replace('cat',''))\n",
    "    if name == 'SM': name = '0'\n",
    "    node = int(name)\n",
    "    with open(fil) as fin:\n",
    "        info = json.loads(fin.read())\n",
    "        fin.close()\n",
    "    for key,val in info.items():\n",
    "        val['node'] = node\n",
    "        val['cat'] = cat\n",
    "        val['boundaries'] = np.array(val['boundaries'])\n",
    "        val['selections'] = np.array(val['selections']).astype(float)\n",
    "        for col in summary.keys():\n",
    "            summary[col].append( val[col] )\n",
    "\n",
    "# print(summary)\n",
    "    "
   ]
  },
  {
   "cell_type": "code",
   "execution_count": 120,
   "metadata": {
    "collapsed": false
   },
   "outputs": [],
   "source": [
    "import pandas as pd\n",
    "df = pd.DataFrame(summary)"
   ]
  },
  {
   "cell_type": "code",
   "execution_count": 121,
   "metadata": {
    "collapsed": false
   },
   "outputs": [],
   "source": [
    "# df.set_index(['ncat','node'],drop=False,inplace=True# )"
   ]
  },
  {
   "cell_type": "code",
   "execution_count": 122,
   "metadata": {
    "collapsed": false
   },
   "outputs": [
    {
     "data": {
      "text/html": [
       "<div>\n",
       "<style>\n",
       "    .dataframe thead tr:only-child th {\n",
       "        text-align: right;\n",
       "    }\n",
       "\n",
       "    .dataframe thead th {\n",
       "        text-align: left;\n",
       "    }\n",
       "\n",
       "    .dataframe tbody tr th {\n",
       "        vertical-align: top;\n",
       "    }\n",
       "</style>\n",
       "<table border=\"1\" class=\"dataframe\">\n",
       "  <thead>\n",
       "    <tr style=\"text-align: right;\">\n",
       "      <th></th>\n",
       "      <th>boundaries</th>\n",
       "      <th>cat</th>\n",
       "      <th>fom</th>\n",
       "      <th>ncat</th>\n",
       "      <th>node</th>\n",
       "      <th>selections</th>\n",
       "    </tr>\n",
       "  </thead>\n",
       "  <tbody>\n",
       "    <tr>\n",
       "      <th>0</th>\n",
       "      <td>[1.01, 0.0]</td>\n",
       "      <td>2</td>\n",
       "      <td>-4.785</td>\n",
       "      <td>1</td>\n",
       "      <td>3</td>\n",
       "      <td>[-30.104, -29.759]</td>\n",
       "    </tr>\n",
       "    <tr>\n",
       "      <th>1</th>\n",
       "      <td>[1.01, 0.0]</td>\n",
       "      <td>2</td>\n",
       "      <td>-1.164</td>\n",
       "      <td>1</td>\n",
       "      <td>8</td>\n",
       "      <td>[-32.324, -28.393]</td>\n",
       "    </tr>\n",
       "    <tr>\n",
       "      <th>2</th>\n",
       "      <td>[1.01, 0.0]</td>\n",
       "      <td>2</td>\n",
       "      <td>-5.216</td>\n",
       "      <td>1</td>\n",
       "      <td>12</td>\n",
       "      <td>[-31.655, -29.123]</td>\n",
       "    </tr>\n",
       "    <tr>\n",
       "      <th>3</th>\n",
       "      <td>[1.01, 0.0]</td>\n",
       "      <td>2</td>\n",
       "      <td>-2.632</td>\n",
       "      <td>1</td>\n",
       "      <td>0</td>\n",
       "      <td>[-30.27, -30.0]</td>\n",
       "    </tr>\n",
       "    <tr>\n",
       "      <th>4</th>\n",
       "      <td>[1.01, 0.0]</td>\n",
       "      <td>2</td>\n",
       "      <td>-2.651</td>\n",
       "      <td>1</td>\n",
       "      <td>5</td>\n",
       "      <td>[-30.765, -30.0]</td>\n",
       "    </tr>\n",
       "    <tr>\n",
       "      <th>5</th>\n",
       "      <td>[1.01, 0.0]</td>\n",
       "      <td>2</td>\n",
       "      <td>-1.917</td>\n",
       "      <td>1</td>\n",
       "      <td>9</td>\n",
       "      <td>[-36.82, -27.267]</td>\n",
       "    </tr>\n",
       "    <tr>\n",
       "      <th>6</th>\n",
       "      <td>[1.01, 0.0]</td>\n",
       "      <td>2</td>\n",
       "      <td>-3.423</td>\n",
       "      <td>1</td>\n",
       "      <td>2</td>\n",
       "      <td>[-32.14, -29.216]</td>\n",
       "    </tr>\n",
       "    <tr>\n",
       "      <th>7</th>\n",
       "      <td>[1.01, 0.0]</td>\n",
       "      <td>2</td>\n",
       "      <td>-5.496</td>\n",
       "      <td>1</td>\n",
       "      <td>13</td>\n",
       "      <td>[-32.295, -28.865]</td>\n",
       "    </tr>\n",
       "    <tr>\n",
       "      <th>8</th>\n",
       "      <td>[1.01, 0.0]</td>\n",
       "      <td>2</td>\n",
       "      <td>-3.332</td>\n",
       "      <td>1</td>\n",
       "      <td>4</td>\n",
       "      <td>[-32.193, -29.942]</td>\n",
       "    </tr>\n",
       "    <tr>\n",
       "      <th>9</th>\n",
       "      <td>[1.01, 0.0]</td>\n",
       "      <td>2</td>\n",
       "      <td>-3.632</td>\n",
       "      <td>1</td>\n",
       "      <td>7</td>\n",
       "      <td>[-31.45, -29.59]</td>\n",
       "    </tr>\n",
       "    <tr>\n",
       "      <th>10</th>\n",
       "      <td>[1.01, 0.0]</td>\n",
       "      <td>2</td>\n",
       "      <td>-2.099</td>\n",
       "      <td>1</td>\n",
       "      <td>10</td>\n",
       "      <td>[-30.773, -27.76]</td>\n",
       "    </tr>\n",
       "    <tr>\n",
       "      <th>11</th>\n",
       "      <td>[1.01, 0.0]</td>\n",
       "      <td>2</td>\n",
       "      <td>-3.561</td>\n",
       "      <td>1</td>\n",
       "      <td>6</td>\n",
       "      <td>[-32.172, -29.816]</td>\n",
       "    </tr>\n",
       "    <tr>\n",
       "      <th>12</th>\n",
       "      <td>[1.01, 0.0]</td>\n",
       "      <td>2</td>\n",
       "      <td>-4.681</td>\n",
       "      <td>1</td>\n",
       "      <td>11</td>\n",
       "      <td>[-31.563, -28.032]</td>\n",
       "    </tr>\n",
       "  </tbody>\n",
       "</table>\n",
       "</div>"
      ],
      "text/plain": [
       "     boundaries  cat    fom  ncat  node          selections\n",
       "0   [1.01, 0.0]    2 -4.785     1     3  [-30.104, -29.759]\n",
       "1   [1.01, 0.0]    2 -1.164     1     8  [-32.324, -28.393]\n",
       "2   [1.01, 0.0]    2 -5.216     1    12  [-31.655, -29.123]\n",
       "3   [1.01, 0.0]    2 -2.632     1     0     [-30.27, -30.0]\n",
       "4   [1.01, 0.0]    2 -2.651     1     5    [-30.765, -30.0]\n",
       "5   [1.01, 0.0]    2 -1.917     1     9   [-36.82, -27.267]\n",
       "6   [1.01, 0.0]    2 -3.423     1     2   [-32.14, -29.216]\n",
       "7   [1.01, 0.0]    2 -5.496     1    13  [-32.295, -28.865]\n",
       "8   [1.01, 0.0]    2 -3.332     1     4  [-32.193, -29.942]\n",
       "9   [1.01, 0.0]    2 -3.632     1     7    [-31.45, -29.59]\n",
       "10  [1.01, 0.0]    2 -2.099     1    10   [-30.773, -27.76]\n",
       "11  [1.01, 0.0]    2 -3.561     1     6  [-32.172, -29.816]\n",
       "12  [1.01, 0.0]    2 -4.681     1    11  [-31.563, -28.032]"
      ]
     },
     "execution_count": 122,
     "metadata": {},
     "output_type": "execute_result"
    }
   ],
   "source": [
    "df.sort_index(inplace=True)\n",
    "df"
   ]
  },
  {
   "cell_type": "code",
   "execution_count": 123,
   "metadata": {
    "collapsed": false
   },
   "outputs": [],
   "source": [
    "from sklearn.cluster import KMeans"
   ]
  },
  {
   "cell_type": "code",
   "execution_count": 124,
   "metadata": {
    "collapsed": false
   },
   "outputs": [],
   "source": [
    "boundaries = []\n",
    "\n",
    "# for ncats in [1]:\n",
    "for row in df['selections']:\n",
    "    boundaries.append( row )"
   ]
  },
  {
   "cell_type": "code",
   "execution_count": 125,
   "metadata": {
    "collapsed": false
   },
   "outputs": [],
   "source": [
    "boundaries = np.array(boundaries)\n",
    "\n",
    "df['min_mjj'] = boundaries[:,1].ravel().astype(np.float)\n",
    "df['max_mjj'] = -boundaries[:,0].ravel().astype(np.float)\n",
    "#boundaries[:,:,1].shape"
   ]
  },
  {
   "cell_type": "code",
   "execution_count": 126,
   "metadata": {
    "collapsed": true
   },
   "outputs": [],
   "source": [
    "df['fom'] = -df['fom']"
   ]
  },
  {
   "cell_type": "code",
   "execution_count": 127,
   "metadata": {
    "collapsed": false
   },
   "outputs": [],
   "source": [
    "grouped = df.groupby('cat')"
   ]
  },
  {
   "cell_type": "code",
   "execution_count": null,
   "metadata": {
    "collapsed": false
   },
   "outputs": [],
   "source": []
  },
  {
   "cell_type": "code",
   "execution_count": 128,
   "metadata": {
    "collapsed": false
   },
   "outputs": [
    {
     "data": {
      "image/png": "[encoded data removed]",
      "text/plain": [
       "<matplotlib.figure.Figure at 0x7f5f1961bad0>"
      ]
     },
     "metadata": {},
     "output_type": "display_data"
    }
   ],
   "source": [
    "import matplotlib.pyplot as plt\n",
    "\n",
    "avgs = []\n",
    "\n",
    "for group in grouped.groups:\n",
    "    grp = grouped.get_group(group)\n",
    "    min_fom = np.percentile(grp['fom'],20.)\n",
    "    grp = grp[ grp['fom'] > min_fom ]\n",
    "    ax = plt.subplot(2,1,1)\n",
    "    plt.title('cat %d' % group)\n",
    "    grp.plot.scatter( 'node', 'max_mjj', c='fom', ax=ax)    \n",
    "    max_avg = (grp['max_mjj'] * grp['fom']).sum() / grp['fom'].sum()\n",
    "    ax.plot((0,13),(max_avg,max_avg),'k-')\n",
    "    \n",
    "    ax=plt.subplot(2,1,2)\n",
    "    grp.plot.scatter( 'node', 'min_mjj', c='fom', ax=ax)\n",
    "    min_avg = (grp['min_mjj'] * grp['fom']).sum() / grp['fom'].sum()\n",
    "    ax.plot((0,13),(min_avg,min_avg),'k-')\n",
    "\n",
    "    avgs.append([group,min_avg,max_avg])\n",
    "    plt.show()"
   ]
  },
  {
   "cell_type": "code",
   "execution_count": 129,
   "metadata": {
    "collapsed": false
   },
   "outputs": [
    {
     "data": {
      "text/plain": [
       "[[2, -29.33520218731761, 31.508073942500435]]"
      ]
     },
     "execution_count": 129,
     "metadata": {},
     "output_type": "execute_result"
    }
   ],
   "source": [
    "avgs"
   ]
  },
  {
   "cell_type": "code",
   "execution_count": 130,
   "metadata": {
    "collapsed": true
   },
   "outputs": [],
   "source": [
    "avgs = np.array(avgs)\n",
    "round_to = 1."
   ]
  },
  {
   "cell_type": "code",
   "execution_count": 131,
   "metadata": {
    "collapsed": false
   },
   "outputs": [],
   "source": [
    "rounded = np.round(avgs[:,1:3] / round_to)*round_to"
   ]
  },
  {
   "cell_type": "code",
   "execution_count": 132,
   "metadata": {
    "collapsed": false
   },
   "outputs": [],
   "source": [
    "rounded[:,1] = np.vstack( [rounded[:,1],np.ones_like(rounded[:,1])*35] ).min(axis=0)"
   ]
  },
  {
   "cell_type": "code",
   "execution_count": 133,
   "metadata": {
    "collapsed": false
   },
   "outputs": [
    {
     "data": {
      "text/plain": [
       "array([[-29.,  32.]])"
      ]
     },
     "execution_count": 133,
     "metadata": {},
     "output_type": "execute_result"
    }
   ],
   "source": [
    "rounded"
   ]
  },
  {
   "cell_type": "code",
   "execution_count": 134,
   "metadata": {
    "collapsed": false
   },
   "outputs": [
    {
     "data": {
      "text/plain": [
       "array([[  96.,  157.]])"
      ]
     },
     "execution_count": 134,
     "metadata": {},
     "output_type": "execute_result"
    }
   ],
   "source": [
    "rounded+=125\n",
    "rounded"
   ]
  },
  {
   "cell_type": "code",
   "execution_count": null,
   "metadata": {
    "collapsed": true
   },
   "outputs": [],
   "source": []
  }
 ],
 "metadata": {
  "anaconda-cloud": {},
  "kernelspec": {
   "display_name": "Python [default]",
   "language": "python",
   "name": "python2"
  },
  "language_info": {
   "codemirror_mode": {
    "name": "ipython",
    "version": 2
   },
   "file_extension": ".py",
   "mimetype": "text/x-python",
   "name": "python",
   "nbconvert_exporter": "python",
   "pygments_lexer": "ipython2",
   "version": "2.7.12"
  }
 },
 "nbformat": 4,
 "nbformat_minor": 1
}
