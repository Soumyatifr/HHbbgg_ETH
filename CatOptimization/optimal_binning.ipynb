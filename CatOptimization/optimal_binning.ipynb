{
 "cells": [
  {
   "cell_type": "code",
   "execution_count": 1,
   "metadata": {
    "collapsed": true
   },
   "outputs": [],
   "source": [
    "path = '/afs/cern.ch/work/n/nchernya/ETH/CMSSW_8_0_28/src/diphotons/Utils/macro/outPlots/'"
   ]
  },
  {
   "cell_type": "code",
   "execution_count": 2,
   "metadata": {
    "collapsed": true
   },
   "outputs": [],
   "source": [
    "import glob,re"
   ]
  },
  {
   "cell_type": "code",
   "execution_count": 3,
   "metadata": {
    "collapsed": false
   },
   "outputs": [],
   "source": [
    "date = '20180628_150625' #Reg 4 MX categories\n",
    "#date = '20180601_165953'  #no Reg 4 MX categories\n",
    "#date = '20180601_175956' #Reg 3 MX cats\n",
    "#date = '20180601_180112' # no Reg 3 MX cat\n",
    "files = glob.glob('%s/out_%s_node_*_transformed_MX/cat_opt.json'%(path,date))\n"
   ]
  },
  {
   "cell_type": "code",
   "execution_count": 4,
   "metadata": {
    "collapsed": false
   },
   "outputs": [
    {
     "data": {
      "text/plain": [
       "['/afs/cern.ch/work/n/nchernya/ETH/CMSSW_8_0_28/src/diphotons/Utils/macro/outPlots/out_20180628_150625_node_10_transformed_MX/cat_opt.json',\n",
       " '/afs/cern.ch/work/n/nchernya/ETH/CMSSW_8_0_28/src/diphotons/Utils/macro/outPlots/out_20180628_150625_node_11_transformed_MX/cat_opt.json',\n",
       " '/afs/cern.ch/work/n/nchernya/ETH/CMSSW_8_0_28/src/diphotons/Utils/macro/outPlots/out_20180628_150625_node_12_transformed_MX/cat_opt.json',\n",
       " '/afs/cern.ch/work/n/nchernya/ETH/CMSSW_8_0_28/src/diphotons/Utils/macro/outPlots/out_20180628_150625_node_13_transformed_MX/cat_opt.json',\n",
       " '/afs/cern.ch/work/n/nchernya/ETH/CMSSW_8_0_28/src/diphotons/Utils/macro/outPlots/out_20180628_150625_node_14_transformed_MX/cat_opt.json',\n",
       " '/afs/cern.ch/work/n/nchernya/ETH/CMSSW_8_0_28/src/diphotons/Utils/macro/outPlots/out_20180628_150625_node_2_transformed_MX/cat_opt.json',\n",
       " '/afs/cern.ch/work/n/nchernya/ETH/CMSSW_8_0_28/src/diphotons/Utils/macro/outPlots/out_20180628_150625_node_3_transformed_MX/cat_opt.json',\n",
       " '/afs/cern.ch/work/n/nchernya/ETH/CMSSW_8_0_28/src/diphotons/Utils/macro/outPlots/out_20180628_150625_node_4_transformed_MX/cat_opt.json',\n",
       " '/afs/cern.ch/work/n/nchernya/ETH/CMSSW_8_0_28/src/diphotons/Utils/macro/outPlots/out_20180628_150625_node_5_transformed_MX/cat_opt.json',\n",
       " '/afs/cern.ch/work/n/nchernya/ETH/CMSSW_8_0_28/src/diphotons/Utils/macro/outPlots/out_20180628_150625_node_6_transformed_MX/cat_opt.json',\n",
       " '/afs/cern.ch/work/n/nchernya/ETH/CMSSW_8_0_28/src/diphotons/Utils/macro/outPlots/out_20180628_150625_node_7_transformed_MX/cat_opt.json',\n",
       " '/afs/cern.ch/work/n/nchernya/ETH/CMSSW_8_0_28/src/diphotons/Utils/macro/outPlots/out_20180628_150625_node_8_transformed_MX/cat_opt.json',\n",
       " '/afs/cern.ch/work/n/nchernya/ETH/CMSSW_8_0_28/src/diphotons/Utils/macro/outPlots/out_20180628_150625_node_9_transformed_MX/cat_opt.json',\n",
       " '/afs/cern.ch/work/n/nchernya/ETH/CMSSW_8_0_28/src/diphotons/Utils/macro/outPlots/out_20180628_150625_node_SM_transformed_MX/cat_opt.json']"
      ]
     },
     "execution_count": 4,
     "metadata": {},
     "output_type": "execute_result"
    }
   ],
   "source": [
    "files"
   ]
  },
  {
   "cell_type": "code",
   "execution_count": 5,
   "metadata": {
    "collapsed": false
   },
   "outputs": [],
   "source": [
    "import json \n",
    "import numpy as np\n",
    "\n",
    "#summary = { x:[] for x in ['node','boundaries','ncat','fom','selections']  }\n",
    "summary = { x:[] for x in ['node','boundaries','ncat','fom']  }\n",
    "\n",
    "\n",
    "for fil in files:\n",
    "    name = fil.split('/')[-2].split('node_')[-1]\n",
    "    if name == 'SM_transformed_MX': name = '0'\n",
    "    node = int(name.replace('_transformed_MX',''))\n",
    "    with open(fil) as fin:\n",
    "        info = json.loads(fin.read())\n",
    "        fin.close()\n",
    "    for key,val in info.items():\n",
    "        val['node'] = node\n",
    "        val['boundaries'] = np.array(val['boundaries'])\n",
    "#        val['selections'] = np.array(val['selections'])\n",
    "        for col in summary.keys():\n",
    "            summary[col].append( val[col] )\n",
    "\n",
    "# print(summary)\n",
    "    "
   ]
  },
  {
   "cell_type": "code",
   "execution_count": 6,
   "metadata": {
    "collapsed": false
   },
   "outputs": [],
   "source": [
    "import pandas as pd\n",
    "df = pd.DataFrame(summary)"
   ]
  },
  {
   "cell_type": "code",
   "execution_count": 7,
   "metadata": {
    "collapsed": false
   },
   "outputs": [],
   "source": [
    "df.set_index(['ncat','node'],drop=False,inplace=True)"
   ]
  },
  {
   "cell_type": "code",
   "execution_count": 8,
   "metadata": {
    "collapsed": false
   },
   "outputs": [
    {
     "data": {
      "text/html": [
       "<div>\n",
       "<style>\n",
       "    .dataframe thead tr:only-child th {\n",
       "        text-align: right;\n",
       "    }\n",
       "\n",
       "    .dataframe thead th {\n",
       "        text-align: left;\n",
       "    }\n",
       "\n",
       "    .dataframe tbody tr th {\n",
       "        vertical-align: top;\n",
       "    }\n",
       "</style>\n",
       "<table border=\"1\" class=\"dataframe\">\n",
       "  <thead>\n",
       "    <tr style=\"text-align: right;\">\n",
       "      <th></th>\n",
       "      <th></th>\n",
       "      <th>boundaries</th>\n",
       "      <th>fom</th>\n",
       "      <th>ncat</th>\n",
       "      <th>node</th>\n",
       "    </tr>\n",
       "    <tr>\n",
       "      <th>ncat</th>\n",
       "      <th>node</th>\n",
       "      <th></th>\n",
       "      <th></th>\n",
       "      <th></th>\n",
       "      <th></th>\n",
       "    </tr>\n",
       "  </thead>\n",
       "  <tbody>\n",
       "    <tr>\n",
       "      <th rowspan=\"14\" valign=\"top\">3</th>\n",
       "      <th>0</th>\n",
       "      <td>[800.0, 540.16, 389.906, 327.627]</td>\n",
       "      <td>-2.390</td>\n",
       "      <td>3</td>\n",
       "      <td>0</td>\n",
       "    </tr>\n",
       "    <tr>\n",
       "      <th>2</th>\n",
       "      <td>[800.0, 579.615, 455.125, 250.305]</td>\n",
       "      <td>-3.687</td>\n",
       "      <td>3</td>\n",
       "      <td>2</td>\n",
       "    </tr>\n",
       "    <tr>\n",
       "      <th>3</th>\n",
       "      <td>[800.0, 568.437, 471.039, 252.24]</td>\n",
       "      <td>-3.988</td>\n",
       "      <td>3</td>\n",
       "      <td>3</td>\n",
       "    </tr>\n",
       "    <tr>\n",
       "      <th>4</th>\n",
       "      <td>[800.0, 574.409, 399.962, 250.001]</td>\n",
       "      <td>-3.474</td>\n",
       "      <td>3</td>\n",
       "      <td>4</td>\n",
       "    </tr>\n",
       "    <tr>\n",
       "      <th>5</th>\n",
       "      <td>[800.0, 568.568, 304.707, 250.278]</td>\n",
       "      <td>-2.588</td>\n",
       "      <td>3</td>\n",
       "      <td>5</td>\n",
       "    </tr>\n",
       "    <tr>\n",
       "      <th>6</th>\n",
       "      <td>[800.0, 647.276, 391.385, 298.336]</td>\n",
       "      <td>-3.911</td>\n",
       "      <td>3</td>\n",
       "      <td>6</td>\n",
       "    </tr>\n",
       "    <tr>\n",
       "      <th>7</th>\n",
       "      <td>[800.0, 561.093, 390.416, 250.0]</td>\n",
       "      <td>-3.911</td>\n",
       "      <td>3</td>\n",
       "      <td>7</td>\n",
       "    </tr>\n",
       "    <tr>\n",
       "      <th>8</th>\n",
       "      <td>[800.0, 388.89, 304.049, 250.004]</td>\n",
       "      <td>-2.357</td>\n",
       "      <td>3</td>\n",
       "      <td>8</td>\n",
       "    </tr>\n",
       "    <tr>\n",
       "      <th>9</th>\n",
       "      <td>[800.0, 483.036, 399.272, 250.84]</td>\n",
       "      <td>-2.768</td>\n",
       "      <td>3</td>\n",
       "      <td>9</td>\n",
       "    </tr>\n",
       "    <tr>\n",
       "      <th>10</th>\n",
       "      <td>[800.0, 542.546, 380.124, 250.468]</td>\n",
       "      <td>-3.174</td>\n",
       "      <td>3</td>\n",
       "      <td>10</td>\n",
       "    </tr>\n",
       "    <tr>\n",
       "      <th>11</th>\n",
       "      <td>[800.0, 646.681, 449.363, 250.566]</td>\n",
       "      <td>0.000</td>\n",
       "      <td>3</td>\n",
       "      <td>11</td>\n",
       "    </tr>\n",
       "    <tr>\n",
       "      <th>12</th>\n",
       "      <td>[800.0, 615.416, 445.793, 250.004]</td>\n",
       "      <td>-4.398</td>\n",
       "      <td>3</td>\n",
       "      <td>12</td>\n",
       "    </tr>\n",
       "    <tr>\n",
       "      <th>13</th>\n",
       "      <td>[800.0, 646.401, 518.46, 250.009]</td>\n",
       "      <td>-4.778</td>\n",
       "      <td>3</td>\n",
       "      <td>13</td>\n",
       "    </tr>\n",
       "    <tr>\n",
       "      <th>14</th>\n",
       "      <td>[800.0, 432.19, 394.671, 250.003]</td>\n",
       "      <td>-3.524</td>\n",
       "      <td>3</td>\n",
       "      <td>14</td>\n",
       "    </tr>\n",
       "  </tbody>\n",
       "</table>\n",
       "</div>"
      ],
      "text/plain": [
       "                                   boundaries    fom  ncat  node\n",
       "ncat node                                                       \n",
       "3    0      [800.0, 540.16, 389.906, 327.627] -2.390     3     0\n",
       "     2     [800.0, 579.615, 455.125, 250.305] -3.687     3     2\n",
       "     3      [800.0, 568.437, 471.039, 252.24] -3.988     3     3\n",
       "     4     [800.0, 574.409, 399.962, 250.001] -3.474     3     4\n",
       "     5     [800.0, 568.568, 304.707, 250.278] -2.588     3     5\n",
       "     6     [800.0, 647.276, 391.385, 298.336] -3.911     3     6\n",
       "     7       [800.0, 561.093, 390.416, 250.0] -3.911     3     7\n",
       "     8      [800.0, 388.89, 304.049, 250.004] -2.357     3     8\n",
       "     9      [800.0, 483.036, 399.272, 250.84] -2.768     3     9\n",
       "     10    [800.0, 542.546, 380.124, 250.468] -3.174     3    10\n",
       "     11    [800.0, 646.681, 449.363, 250.566]  0.000     3    11\n",
       "     12    [800.0, 615.416, 445.793, 250.004] -4.398     3    12\n",
       "     13     [800.0, 646.401, 518.46, 250.009] -4.778     3    13\n",
       "     14     [800.0, 432.19, 394.671, 250.003] -3.524     3    14"
      ]
     },
     "execution_count": 8,
     "metadata": {},
     "output_type": "execute_result"
    }
   ],
   "source": [
    "df.sort_index(inplace=True)\n",
    "df"
   ]
  },
  {
   "cell_type": "code",
   "execution_count": 9,
   "metadata": {
    "collapsed": false
   },
   "outputs": [
    {
     "data": {
      "text/html": [
       "<div>\n",
       "<style>\n",
       "    .dataframe thead tr:only-child th {\n",
       "        text-align: right;\n",
       "    }\n",
       "\n",
       "    .dataframe thead th {\n",
       "        text-align: left;\n",
       "    }\n",
       "\n",
       "    .dataframe tbody tr th {\n",
       "        vertical-align: top;\n",
       "    }\n",
       "</style>\n",
       "<table border=\"1\" class=\"dataframe\">\n",
       "  <thead>\n",
       "    <tr style=\"text-align: right;\">\n",
       "      <th></th>\n",
       "      <th></th>\n",
       "      <th>boundaries</th>\n",
       "      <th>fom</th>\n",
       "      <th>ncat</th>\n",
       "      <th>node</th>\n",
       "    </tr>\n",
       "    <tr>\n",
       "      <th>ncat</th>\n",
       "      <th>node</th>\n",
       "      <th></th>\n",
       "      <th></th>\n",
       "      <th></th>\n",
       "      <th></th>\n",
       "    </tr>\n",
       "  </thead>\n",
       "  <tbody>\n",
       "    <tr>\n",
       "      <th rowspan=\"13\" valign=\"top\">3</th>\n",
       "      <th>0</th>\n",
       "      <td>[800.0, 540.16, 389.906, 327.627]</td>\n",
       "      <td>-2.390</td>\n",
       "      <td>3</td>\n",
       "      <td>0</td>\n",
       "    </tr>\n",
       "    <tr>\n",
       "      <th>2</th>\n",
       "      <td>[800.0, 579.615, 455.125, 250.305]</td>\n",
       "      <td>-3.687</td>\n",
       "      <td>3</td>\n",
       "      <td>2</td>\n",
       "    </tr>\n",
       "    <tr>\n",
       "      <th>3</th>\n",
       "      <td>[800.0, 568.437, 471.039, 252.24]</td>\n",
       "      <td>-3.988</td>\n",
       "      <td>3</td>\n",
       "      <td>3</td>\n",
       "    </tr>\n",
       "    <tr>\n",
       "      <th>4</th>\n",
       "      <td>[800.0, 574.409, 399.962, 250.001]</td>\n",
       "      <td>-3.474</td>\n",
       "      <td>3</td>\n",
       "      <td>4</td>\n",
       "    </tr>\n",
       "    <tr>\n",
       "      <th>5</th>\n",
       "      <td>[800.0, 568.568, 304.707, 250.278]</td>\n",
       "      <td>-2.588</td>\n",
       "      <td>3</td>\n",
       "      <td>5</td>\n",
       "    </tr>\n",
       "    <tr>\n",
       "      <th>6</th>\n",
       "      <td>[800.0, 647.276, 391.385, 298.336]</td>\n",
       "      <td>-3.911</td>\n",
       "      <td>3</td>\n",
       "      <td>6</td>\n",
       "    </tr>\n",
       "    <tr>\n",
       "      <th>7</th>\n",
       "      <td>[800.0, 561.093, 390.416, 250.0]</td>\n",
       "      <td>-3.911</td>\n",
       "      <td>3</td>\n",
       "      <td>7</td>\n",
       "    </tr>\n",
       "    <tr>\n",
       "      <th>8</th>\n",
       "      <td>[800.0, 388.89, 304.049, 250.004]</td>\n",
       "      <td>-2.357</td>\n",
       "      <td>3</td>\n",
       "      <td>8</td>\n",
       "    </tr>\n",
       "    <tr>\n",
       "      <th>9</th>\n",
       "      <td>[800.0, 483.036, 399.272, 250.84]</td>\n",
       "      <td>-2.768</td>\n",
       "      <td>3</td>\n",
       "      <td>9</td>\n",
       "    </tr>\n",
       "    <tr>\n",
       "      <th>10</th>\n",
       "      <td>[800.0, 542.546, 380.124, 250.468]</td>\n",
       "      <td>-3.174</td>\n",
       "      <td>3</td>\n",
       "      <td>10</td>\n",
       "    </tr>\n",
       "    <tr>\n",
       "      <th>12</th>\n",
       "      <td>[800.0, 615.416, 445.793, 250.004]</td>\n",
       "      <td>-4.398</td>\n",
       "      <td>3</td>\n",
       "      <td>12</td>\n",
       "    </tr>\n",
       "    <tr>\n",
       "      <th>13</th>\n",
       "      <td>[800.0, 646.401, 518.46, 250.009]</td>\n",
       "      <td>-4.778</td>\n",
       "      <td>3</td>\n",
       "      <td>13</td>\n",
       "    </tr>\n",
       "    <tr>\n",
       "      <th>14</th>\n",
       "      <td>[800.0, 432.19, 394.671, 250.003]</td>\n",
       "      <td>-3.524</td>\n",
       "      <td>3</td>\n",
       "      <td>14</td>\n",
       "    </tr>\n",
       "  </tbody>\n",
       "</table>\n",
       "</div>"
      ],
      "text/plain": [
       "                                   boundaries    fom  ncat  node\n",
       "ncat node                                                       \n",
       "3    0      [800.0, 540.16, 389.906, 327.627] -2.390     3     0\n",
       "     2     [800.0, 579.615, 455.125, 250.305] -3.687     3     2\n",
       "     3      [800.0, 568.437, 471.039, 252.24] -3.988     3     3\n",
       "     4     [800.0, 574.409, 399.962, 250.001] -3.474     3     4\n",
       "     5     [800.0, 568.568, 304.707, 250.278] -2.588     3     5\n",
       "     6     [800.0, 647.276, 391.385, 298.336] -3.911     3     6\n",
       "     7       [800.0, 561.093, 390.416, 250.0] -3.911     3     7\n",
       "     8      [800.0, 388.89, 304.049, 250.004] -2.357     3     8\n",
       "     9      [800.0, 483.036, 399.272, 250.84] -2.768     3     9\n",
       "     10    [800.0, 542.546, 380.124, 250.468] -3.174     3    10\n",
       "     12    [800.0, 615.416, 445.793, 250.004] -4.398     3    12\n",
       "     13     [800.0, 646.401, 518.46, 250.009] -4.778     3    13\n",
       "     14     [800.0, 432.19, 394.671, 250.003] -3.524     3    14"
      ]
     },
     "execution_count": 9,
     "metadata": {},
     "output_type": "execute_result"
    }
   ],
   "source": [
    "df = df.query('fom<0')\n",
    "df"
   ]
  },
  {
   "cell_type": "code",
   "execution_count": 10,
   "metadata": {
    "collapsed": false
   },
   "outputs": [],
   "source": [
    "from sklearn.cluster import KMeans"
   ]
  },
  {
   "cell_type": "code",
   "execution_count": 11,
   "metadata": {
    "collapsed": false
   },
   "outputs": [],
   "source": [
    "boundaries = []\n",
    "\n",
    "#for ncats in [3]:\n",
    "for ncats in [3]:    \n",
    "    boundaries.append( np.vstack(df.loc[ncats,'boundaries'].values.tolist()).ravel() )\n",
    "#for ncats in [4]:    \n",
    " #   boundaries.append( np.vstack(df.loc[ncats,'boundaries'].values.tolist()).ravel() )"
   ]
  },
  {
   "cell_type": "code",
   "execution_count": 12,
   "metadata": {
    "collapsed": false
   },
   "outputs": [],
   "source": [
    "boundaries = np.hstack(boundaries).ravel()"
   ]
  },
  {
   "cell_type": "code",
   "execution_count": 15,
   "metadata": {
    "collapsed": false
   },
   "outputs": [],
   "source": [
    "filtered=boundaries[(boundaries > 260)]\n",
    "#filtered_2=boundaries[(boundaries > 260) & (boundaries < 800)]\n",
    "#filtered = boundaries"
   ]
  },
  {
   "cell_type": "code",
   "execution_count": 16,
   "metadata": {
    "collapsed": false
   },
   "outputs": [
    {
     "name": "stdout",
     "output_type": "stream",
     "text": [
      "/afs/cern.ch/work/n/nchernya/ETH/CMSSW_8_0_28/src/diphotons/Utils/macro/outPlots/plots/20180628_150625_newcodev2_filtered260/ doesn't exist, creating it...\n"
     ]
    }
   ],
   "source": [
    "import os\n",
    "tag='newcodev2'\n",
    "pathsave = '/afs/cern.ch/work/n/nchernya/ETH/CMSSW_8_0_28/src/diphotons/Utils/macro/outPlots/plots/%s_%s_filtered260/'%(date,tag)\n",
    "if not os.path.exists(pathsave):\n",
    "    print pathsave, \"doesn't exist, creating it...\"\n",
    "    os.makedirs(pathsave)"
   ]
  },
  {
   "cell_type": "code",
   "execution_count": 17,
   "metadata": {
    "collapsed": false,
    "scrolled": false
   },
   "outputs": [
    {
     "name": "stdout",
     "output_type": "stream",
     "text": [
      "[ 250.          308.67975     396.31288889  474.6906      584.3921    ]\n"
     ]
    },
    {
     "data": {
      "text/plain": [
       "<matplotlib.figure.Figure at 0x7f6a34f740d0>"
      ]
     },
     "metadata": {},
     "output_type": "display_data"
    },
    {
     "data": {
      "image/png": "[encoded data removed]",
      "text/plain": [
       "<matplotlib.figure.Figure at 0x7f6a31f86f10>"
      ]
     },
     "metadata": {},
     "output_type": "display_data"
    },
    {
     "name": "stdout",
     "output_type": "stream",
     "text": [
      "[ 250.          308.67975     417.06223077  578.39827273]\n"
     ]
    },
    {
     "data": {
      "text/plain": [
       "<matplotlib.figure.Figure at 0x7f6a2ea04ed0>"
      ]
     },
     "metadata": {},
     "output_type": "display_data"
    },
    {
     "data": {
      "image/png": "[encoded data removed]",
      "text/plain": [
       "<matplotlib.figure.Figure at 0x7f6a2ea04150>"
      ]
     },
     "metadata": {},
     "output_type": "display_data"
    },
    {
     "name": "stdout",
     "output_type": "stream",
     "text": [
      "[ 250.          385.84325     570.45141667]\n"
     ]
    },
    {
     "data": {
      "text/plain": [
       "<matplotlib.figure.Figure at 0x7f6a2e6e43d0>"
      ]
     },
     "metadata": {},
     "output_type": "display_data"
    },
    {
     "data": {
      "image/png": "[encoded data removed]",
      "text/plain": [
       "<matplotlib.figure.Figure at 0x7f6a2e698c50>"
      ]
     },
     "metadata": {},
     "output_type": "display_data"
    }
   ],
   "source": [
    "import matplotlib.pyplot as plt\n",
    "for n_clusters in [4,3,2]:\n",
    "    plt.clf()\n",
    "    plt.figure(figsize=(10,5))\n",
    "    plt.hist(boundaries,bins=50,range=[250,790],label=\"optimized boundaires\");\n",
    "#     kmeans = KMeans(init='k-means++', n_clusters=n_clusters, n_init=10)\n",
    "#     kmeans.fit(filtered_2.reshape(-1,1))\n",
    "#     centers = np.array(kmeans.cluster_centers_.ravel().tolist()+[250,800]) \n",
    "#     plt.hist(centers,bins=200,range=[250,800],weights=40.*np.ones_like(centers));\n",
    "\n",
    "    kmeans = KMeans(init='k-means++', n_clusters=n_clusters+1, n_init=10)\n",
    "    kmeans.fit(filtered.reshape(-1,1))\n",
    "    centers = np.array([250]+kmeans.cluster_centers_.ravel().tolist())\n",
    " #   centers = np.array(kmeans.cluster_centers_.ravel().tolist())\n",
    "\n",
    "    centers.sort()\n",
    "    centers=centers[:-1]\n",
    "    plt.hist(centers,bins=200,range=[250,810],weights=15.*np.ones_like(centers),label=\"clusters\");\n",
    "    plt.xlabel(\"MX\")\n",
    "    print(centers)\n",
    "    info_file = open(pathsave+\"info_clustering_%s_%s_n_clusters%s.txt\"%(tag,date,str(n_clusters)),\"w\") \n",
    "    info_file.write(\",\\n\".join([str(i) for i in centers]))\n",
    "    info_file.close()\n",
    "    \n",
    "#     kmeans = KMeans(init='k-means++', n_clusters=n_clusters+2, n_init=10)\n",
    "#     kmeans.fit(boundaries.reshape(-1,1))\n",
    "#     centers = kmeans.cluster_centers_.ravel() \n",
    "#     plt.hist(centers,bins=200,range=[250,800],weights=30.*np.ones_like(centers));\n",
    "    plt.legend()\n",
    "    plt.savefig(pathsave+\"clustering_%s_%s_nclusters\"%(tag,date)+\"_\"+str(n_clusters)+\".pdf\")\n",
    "    plt.show()\n"
   ]
  },
  {
   "cell_type": "code",
   "execution_count": null,
   "metadata": {
    "collapsed": true
   },
   "outputs": [],
   "source": []
  },
  {
   "cell_type": "code",
   "execution_count": null,
   "metadata": {
    "collapsed": true
   },
   "outputs": [],
   "source": []
  }
 ],
 "metadata": {
  "anaconda-cloud": {},
  "kernelspec": {
   "display_name": "Python [default]",
   "language": "python",
   "name": "python2"
  },
  "language_info": {
   "codemirror_mode": {
    "name": "ipython",
    "version": 2
   },
   "file_extension": ".py",
   "mimetype": "text/x-python",
   "name": "python",
   "nbconvert_exporter": "python",
   "pygments_lexer": "ipython2",
   "version": "2.7.12"
  }
 },
 "nbformat": 4,
 "nbformat_minor": 1
}
