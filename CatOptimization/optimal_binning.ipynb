{
 "cells": [
  {
   "cell_type": "code",
   "execution_count": 51,
   "metadata": {
    "collapsed": true
   },
   "outputs": [],
   "source": [
    "path = '/afs/cern.ch/work/n/nchernya/ETH/CMSSW_8_0_28/src/diphotons/Utils/macro/outPlots/'"
   ]
  },
  {
   "cell_type": "code",
   "execution_count": 52,
   "metadata": {
    "collapsed": true
   },
   "outputs": [],
   "source": [
    "import glob,re"
   ]
  },
  {
   "cell_type": "code",
   "execution_count": 53,
   "metadata": {
    "collapsed": false
   },
   "outputs": [],
   "source": [
    "date = '20180712_150834' #Reg 4 MX categories\n",
    "#date = '20180601_165953'  #no Reg 4 MX categories\n",
    "#date = '20180601_175956' #Reg 3 MX cats\n",
    "#date = '20180601_180112' # no Reg 3 MX cat\n",
    "files = glob.glob('%s/out_%s_node_*_transformed_MX/cat_opt.json'%(path,date))\n"
   ]
  },
  {
   "cell_type": "code",
   "execution_count": 54,
   "metadata": {
    "collapsed": false
   },
   "outputs": [
    {
     "data": {
      "text/plain": [
       "['/afs/cern.ch/work/n/nchernya/ETH/CMSSW_8_0_28/src/diphotons/Utils/macro/outPlots/out_20180712_150834_node_10_transformed_MX/cat_opt.json',\n",
       " '/afs/cern.ch/work/n/nchernya/ETH/CMSSW_8_0_28/src/diphotons/Utils/macro/outPlots/out_20180712_150834_node_11_transformed_MX/cat_opt.json',\n",
       " '/afs/cern.ch/work/n/nchernya/ETH/CMSSW_8_0_28/src/diphotons/Utils/macro/outPlots/out_20180712_150834_node_12_transformed_MX/cat_opt.json',\n",
       " '/afs/cern.ch/work/n/nchernya/ETH/CMSSW_8_0_28/src/diphotons/Utils/macro/outPlots/out_20180712_150834_node_13_transformed_MX/cat_opt.json',\n",
       " '/afs/cern.ch/work/n/nchernya/ETH/CMSSW_8_0_28/src/diphotons/Utils/macro/outPlots/out_20180712_150834_node_14_transformed_MX/cat_opt.json',\n",
       " '/afs/cern.ch/work/n/nchernya/ETH/CMSSW_8_0_28/src/diphotons/Utils/macro/outPlots/out_20180712_150834_node_2_transformed_MX/cat_opt.json',\n",
       " '/afs/cern.ch/work/n/nchernya/ETH/CMSSW_8_0_28/src/diphotons/Utils/macro/outPlots/out_20180712_150834_node_3_transformed_MX/cat_opt.json',\n",
       " '/afs/cern.ch/work/n/nchernya/ETH/CMSSW_8_0_28/src/diphotons/Utils/macro/outPlots/out_20180712_150834_node_4_transformed_MX/cat_opt.json',\n",
       " '/afs/cern.ch/work/n/nchernya/ETH/CMSSW_8_0_28/src/diphotons/Utils/macro/outPlots/out_20180712_150834_node_5_transformed_MX/cat_opt.json',\n",
       " '/afs/cern.ch/work/n/nchernya/ETH/CMSSW_8_0_28/src/diphotons/Utils/macro/outPlots/out_20180712_150834_node_6_transformed_MX/cat_opt.json',\n",
       " '/afs/cern.ch/work/n/nchernya/ETH/CMSSW_8_0_28/src/diphotons/Utils/macro/outPlots/out_20180712_150834_node_7_transformed_MX/cat_opt.json',\n",
       " '/afs/cern.ch/work/n/nchernya/ETH/CMSSW_8_0_28/src/diphotons/Utils/macro/outPlots/out_20180712_150834_node_8_transformed_MX/cat_opt.json',\n",
       " '/afs/cern.ch/work/n/nchernya/ETH/CMSSW_8_0_28/src/diphotons/Utils/macro/outPlots/out_20180712_150834_node_9_transformed_MX/cat_opt.json',\n",
       " '/afs/cern.ch/work/n/nchernya/ETH/CMSSW_8_0_28/src/diphotons/Utils/macro/outPlots/out_20180712_150834_node_SM_transformed_MX/cat_opt.json']"
      ]
     },
     "execution_count": 54,
     "metadata": {},
     "output_type": "execute_result"
    }
   ],
   "source": [
    "files"
   ]
  },
  {
   "cell_type": "code",
   "execution_count": 55,
   "metadata": {
    "collapsed": false
   },
   "outputs": [],
   "source": [
    "import json \n",
    "import numpy as np\n",
    "\n",
    "#summary = { x:[] for x in ['node','boundaries','ncat','fom','selections']  }\n",
    "summary = { x:[] for x in ['node','boundaries','ncat','fom']  }\n",
    "\n",
    "\n",
    "for fil in files:\n",
    "    name = fil.split('/')[-2].split('node_')[-1]\n",
    "    if name == 'SM_transformed_MX': name = '0'\n",
    "    node = int(name.replace('_transformed_MX',''))\n",
    "    with open(fil) as fin:\n",
    "        info = json.loads(fin.read())\n",
    "        fin.close()\n",
    "    for key,val in info.items():\n",
    "        val['node'] = node\n",
    "        val['boundaries'] = np.array(val['boundaries'])\n",
    "#        val['selections'] = np.array(val['selections'])\n",
    "        for col in summary.keys():\n",
    "            summary[col].append( val[col] )\n",
    "\n",
    "# print(summary)\n",
    "    "
   ]
  },
  {
   "cell_type": "code",
   "execution_count": 56,
   "metadata": {
    "collapsed": false
   },
   "outputs": [],
   "source": [
    "import pandas as pd\n",
    "df = pd.DataFrame(summary)"
   ]
  },
  {
   "cell_type": "code",
   "execution_count": 57,
   "metadata": {
    "collapsed": false
   },
   "outputs": [],
   "source": [
    "df.set_index(['ncat','node'],drop=False,inplace=True)"
   ]
  },
  {
   "cell_type": "code",
   "execution_count": 58,
   "metadata": {
    "collapsed": false
   },
   "outputs": [
    {
     "data": {
      "text/html": [
       "<div>\n",
       "<style>\n",
       "    .dataframe thead tr:only-child th {\n",
       "        text-align: right;\n",
       "    }\n",
       "\n",
       "    .dataframe thead th {\n",
       "        text-align: left;\n",
       "    }\n",
       "\n",
       "    .dataframe tbody tr th {\n",
       "        vertical-align: top;\n",
       "    }\n",
       "</style>\n",
       "<table border=\"1\" class=\"dataframe\">\n",
       "  <thead>\n",
       "    <tr style=\"text-align: right;\">\n",
       "      <th></th>\n",
       "      <th></th>\n",
       "      <th>boundaries</th>\n",
       "      <th>fom</th>\n",
       "      <th>ncat</th>\n",
       "      <th>node</th>\n",
       "    </tr>\n",
       "    <tr>\n",
       "      <th>ncat</th>\n",
       "      <th>node</th>\n",
       "      <th></th>\n",
       "      <th></th>\n",
       "      <th></th>\n",
       "      <th></th>\n",
       "    </tr>\n",
       "  </thead>\n",
       "  <tbody>\n",
       "    <tr>\n",
       "      <th rowspan=\"14\" valign=\"top\">3</th>\n",
       "      <th>0</th>\n",
       "      <td>[800.0, 516.133, 425.07, 250.049]</td>\n",
       "      <td>10.077</td>\n",
       "      <td>3</td>\n",
       "      <td>0</td>\n",
       "    </tr>\n",
       "    <tr>\n",
       "      <th>2</th>\n",
       "      <td>[800.0, 564.906, 441.159, 250.001]</td>\n",
       "      <td>16.690</td>\n",
       "      <td>3</td>\n",
       "      <td>2</td>\n",
       "    </tr>\n",
       "    <tr>\n",
       "      <th>3</th>\n",
       "      <td>[800.0, 559.229, 425.242, 250.001]</td>\n",
       "      <td>-3.922</td>\n",
       "      <td>3</td>\n",
       "      <td>3</td>\n",
       "    </tr>\n",
       "    <tr>\n",
       "      <th>4</th>\n",
       "      <td>[800.0, 551.108, 399.641, 250.008]</td>\n",
       "      <td>-3.460</td>\n",
       "      <td>3</td>\n",
       "      <td>4</td>\n",
       "    </tr>\n",
       "    <tr>\n",
       "      <th>5</th>\n",
       "      <td>[800.0, 511.35, 341.171, 308.69]</td>\n",
       "      <td>1.002</td>\n",
       "      <td>3</td>\n",
       "      <td>5</td>\n",
       "    </tr>\n",
       "    <tr>\n",
       "      <th>6</th>\n",
       "      <td>[800.0, 558.336, 383.428, 294.177]</td>\n",
       "      <td>-3.908</td>\n",
       "      <td>3</td>\n",
       "      <td>6</td>\n",
       "    </tr>\n",
       "    <tr>\n",
       "      <th>7</th>\n",
       "      <td>[800.0, 734.045, 431.988, 250.009]</td>\n",
       "      <td>-2.845</td>\n",
       "      <td>3</td>\n",
       "      <td>7</td>\n",
       "    </tr>\n",
       "    <tr>\n",
       "      <th>8</th>\n",
       "      <td>[800.0, 484.363, 391.823, 306.644]</td>\n",
       "      <td>1.000</td>\n",
       "      <td>3</td>\n",
       "      <td>8</td>\n",
       "    </tr>\n",
       "    <tr>\n",
       "      <th>9</th>\n",
       "      <td>[800.0, 522.327, 389.539, 274.962]</td>\n",
       "      <td>-2.747</td>\n",
       "      <td>3</td>\n",
       "      <td>9</td>\n",
       "    </tr>\n",
       "    <tr>\n",
       "      <th>10</th>\n",
       "      <td>[800.0, 520.007, 381.291, 257.348]</td>\n",
       "      <td>-3.170</td>\n",
       "      <td>3</td>\n",
       "      <td>10</td>\n",
       "    </tr>\n",
       "    <tr>\n",
       "      <th>11</th>\n",
       "      <td>[800.0, 523.721, 381.914, 258.11]</td>\n",
       "      <td>-3.319</td>\n",
       "      <td>3</td>\n",
       "      <td>11</td>\n",
       "    </tr>\n",
       "    <tr>\n",
       "      <th>12</th>\n",
       "      <td>[800.0, 559.754, 433.073, 250.001]</td>\n",
       "      <td>-4.354</td>\n",
       "      <td>3</td>\n",
       "      <td>12</td>\n",
       "    </tr>\n",
       "    <tr>\n",
       "      <th>13</th>\n",
       "      <td>[800.0, 506.358, 416.772, 250.394]</td>\n",
       "      <td>-4.864</td>\n",
       "      <td>3</td>\n",
       "      <td>13</td>\n",
       "    </tr>\n",
       "    <tr>\n",
       "      <th>14</th>\n",
       "      <td>[800.0, 484.917, 396.854, 250.004]</td>\n",
       "      <td>12.927</td>\n",
       "      <td>3</td>\n",
       "      <td>14</td>\n",
       "    </tr>\n",
       "  </tbody>\n",
       "</table>\n",
       "</div>"
      ],
      "text/plain": [
       "                                   boundaries     fom  ncat  node\n",
       "ncat node                                                        \n",
       "3    0      [800.0, 516.133, 425.07, 250.049]  10.077     3     0\n",
       "     2     [800.0, 564.906, 441.159, 250.001]  16.690     3     2\n",
       "     3     [800.0, 559.229, 425.242, 250.001]  -3.922     3     3\n",
       "     4     [800.0, 551.108, 399.641, 250.008]  -3.460     3     4\n",
       "     5       [800.0, 511.35, 341.171, 308.69]   1.002     3     5\n",
       "     6     [800.0, 558.336, 383.428, 294.177]  -3.908     3     6\n",
       "     7     [800.0, 734.045, 431.988, 250.009]  -2.845     3     7\n",
       "     8     [800.0, 484.363, 391.823, 306.644]   1.000     3     8\n",
       "     9     [800.0, 522.327, 389.539, 274.962]  -2.747     3     9\n",
       "     10    [800.0, 520.007, 381.291, 257.348]  -3.170     3    10\n",
       "     11     [800.0, 523.721, 381.914, 258.11]  -3.319     3    11\n",
       "     12    [800.0, 559.754, 433.073, 250.001]  -4.354     3    12\n",
       "     13    [800.0, 506.358, 416.772, 250.394]  -4.864     3    13\n",
       "     14    [800.0, 484.917, 396.854, 250.004]  12.927     3    14"
      ]
     },
     "execution_count": 58,
     "metadata": {},
     "output_type": "execute_result"
    }
   ],
   "source": [
    "df.sort_index(inplace=True)\n",
    "df"
   ]
  },
  {
   "cell_type": "code",
   "execution_count": 59,
   "metadata": {
    "collapsed": false
   },
   "outputs": [
    {
     "data": {
      "text/html": [
       "<div>\n",
       "<style>\n",
       "    .dataframe thead tr:only-child th {\n",
       "        text-align: right;\n",
       "    }\n",
       "\n",
       "    .dataframe thead th {\n",
       "        text-align: left;\n",
       "    }\n",
       "\n",
       "    .dataframe tbody tr th {\n",
       "        vertical-align: top;\n",
       "    }\n",
       "</style>\n",
       "<table border=\"1\" class=\"dataframe\">\n",
       "  <thead>\n",
       "    <tr style=\"text-align: right;\">\n",
       "      <th></th>\n",
       "      <th></th>\n",
       "      <th>boundaries</th>\n",
       "      <th>fom</th>\n",
       "      <th>ncat</th>\n",
       "      <th>node</th>\n",
       "    </tr>\n",
       "    <tr>\n",
       "      <th>ncat</th>\n",
       "      <th>node</th>\n",
       "      <th></th>\n",
       "      <th></th>\n",
       "      <th></th>\n",
       "      <th></th>\n",
       "    </tr>\n",
       "  </thead>\n",
       "  <tbody>\n",
       "    <tr>\n",
       "      <th rowspan=\"9\" valign=\"top\">3</th>\n",
       "      <th>3</th>\n",
       "      <td>[800.0, 559.229, 425.242, 250.001]</td>\n",
       "      <td>-3.922</td>\n",
       "      <td>3</td>\n",
       "      <td>3</td>\n",
       "    </tr>\n",
       "    <tr>\n",
       "      <th>4</th>\n",
       "      <td>[800.0, 551.108, 399.641, 250.008]</td>\n",
       "      <td>-3.460</td>\n",
       "      <td>3</td>\n",
       "      <td>4</td>\n",
       "    </tr>\n",
       "    <tr>\n",
       "      <th>6</th>\n",
       "      <td>[800.0, 558.336, 383.428, 294.177]</td>\n",
       "      <td>-3.908</td>\n",
       "      <td>3</td>\n",
       "      <td>6</td>\n",
       "    </tr>\n",
       "    <tr>\n",
       "      <th>7</th>\n",
       "      <td>[800.0, 734.045, 431.988, 250.009]</td>\n",
       "      <td>-2.845</td>\n",
       "      <td>3</td>\n",
       "      <td>7</td>\n",
       "    </tr>\n",
       "    <tr>\n",
       "      <th>9</th>\n",
       "      <td>[800.0, 522.327, 389.539, 274.962]</td>\n",
       "      <td>-2.747</td>\n",
       "      <td>3</td>\n",
       "      <td>9</td>\n",
       "    </tr>\n",
       "    <tr>\n",
       "      <th>10</th>\n",
       "      <td>[800.0, 520.007, 381.291, 257.348]</td>\n",
       "      <td>-3.170</td>\n",
       "      <td>3</td>\n",
       "      <td>10</td>\n",
       "    </tr>\n",
       "    <tr>\n",
       "      <th>11</th>\n",
       "      <td>[800.0, 523.721, 381.914, 258.11]</td>\n",
       "      <td>-3.319</td>\n",
       "      <td>3</td>\n",
       "      <td>11</td>\n",
       "    </tr>\n",
       "    <tr>\n",
       "      <th>12</th>\n",
       "      <td>[800.0, 559.754, 433.073, 250.001]</td>\n",
       "      <td>-4.354</td>\n",
       "      <td>3</td>\n",
       "      <td>12</td>\n",
       "    </tr>\n",
       "    <tr>\n",
       "      <th>13</th>\n",
       "      <td>[800.0, 506.358, 416.772, 250.394]</td>\n",
       "      <td>-4.864</td>\n",
       "      <td>3</td>\n",
       "      <td>13</td>\n",
       "    </tr>\n",
       "  </tbody>\n",
       "</table>\n",
       "</div>"
      ],
      "text/plain": [
       "                                   boundaries    fom  ncat  node\n",
       "ncat node                                                       \n",
       "3    3     [800.0, 559.229, 425.242, 250.001] -3.922     3     3\n",
       "     4     [800.0, 551.108, 399.641, 250.008] -3.460     3     4\n",
       "     6     [800.0, 558.336, 383.428, 294.177] -3.908     3     6\n",
       "     7     [800.0, 734.045, 431.988, 250.009] -2.845     3     7\n",
       "     9     [800.0, 522.327, 389.539, 274.962] -2.747     3     9\n",
       "     10    [800.0, 520.007, 381.291, 257.348] -3.170     3    10\n",
       "     11     [800.0, 523.721, 381.914, 258.11] -3.319     3    11\n",
       "     12    [800.0, 559.754, 433.073, 250.001] -4.354     3    12\n",
       "     13    [800.0, 506.358, 416.772, 250.394] -4.864     3    13"
      ]
     },
     "execution_count": 59,
     "metadata": {},
     "output_type": "execute_result"
    }
   ],
   "source": [
    "df = df.query('fom<0')\n",
    "df"
   ]
  },
  {
   "cell_type": "code",
   "execution_count": 61,
   "metadata": {
    "collapsed": false
   },
   "outputs": [],
   "source": [
    "from sklearn.cluster import KMeans"
   ]
  },
  {
   "cell_type": "code",
   "execution_count": 62,
   "metadata": {
    "collapsed": false
   },
   "outputs": [],
   "source": [
    "boundaries = []\n",
    "\n",
    "#for ncats in [3]:\n",
    "for ncats in [3]:    \n",
    "    boundaries.append( np.vstack(df.loc[ncats,'boundaries'].values.tolist()).ravel() )\n",
    "#for ncats in [4]:    \n",
    " #   boundaries.append( np.vstack(df.loc[ncats,'boundaries'].values.tolist()).ravel() )"
   ]
  },
  {
   "cell_type": "code",
   "execution_count": 63,
   "metadata": {
    "collapsed": false
   },
   "outputs": [],
   "source": [
    "boundaries = np.hstack(boundaries).ravel()"
   ]
  },
  {
   "cell_type": "code",
   "execution_count": 64,
   "metadata": {
    "collapsed": false
   },
   "outputs": [],
   "source": [
    "filtered=boundaries[(boundaries > 260)]\n",
    "#filtered_2=boundaries[(boundaries > 260) & (boundaries < 800)]\n",
    "#filtered = boundaries"
   ]
  },
  {
   "cell_type": "code",
   "execution_count": 65,
   "metadata": {
    "collapsed": false
   },
   "outputs": [
    {
     "name": "stdout",
     "output_type": "stream",
     "text": [
      "/afs/cern.ch/work/n/nchernya/ETH/CMSSW_8_0_28/src/diphotons/Utils/macro/outPlots/plots/20180712_150834_newcodev2_filtered260/ doesn't exist, creating it...\n"
     ]
    }
   ],
   "source": [
    "import os\n",
    "tag='newcodev2'\n",
    "pathsave = '/afs/cern.ch/work/n/nchernya/ETH/CMSSW_8_0_28/src/diphotons/Utils/macro/outPlots/plots/%s_%s_filtered260/'%(date,tag)\n",
    "if not os.path.exists(pathsave):\n",
    "    print pathsave, \"doesn't exist, creating it...\"\n",
    "    os.makedirs(pathsave)"
   ]
  },
  {
   "cell_type": "code",
   "execution_count": 66,
   "metadata": {
    "collapsed": false,
    "scrolled": false
   },
   "outputs": [
    {
     "name": "stdout",
     "output_type": "stream",
     "text": [
      "[ 250.          284.5695      404.76533333  537.605       734.045     ]\n"
     ]
    },
    {
     "data": {
      "text/plain": [
       "<matplotlib.figure.Figure at 0x7f292fec5850>"
      ]
     },
     "metadata": {},
     "output_type": "display_data"
    },
    {
     "data": {
      "image/png": "[encoded data removed]",
      "text/plain": [
       "<matplotlib.figure.Figure at 0x7f292fe6d890>"
      ]
     },
     "metadata": {},
     "output_type": "display_data"
    },
    {
     "name": "stdout",
     "output_type": "stream",
     "text": [
      "[ 250.          284.5695      404.76533333  537.605     ]\n"
     ]
    },
    {
     "data": {
      "text/plain": [
       "<matplotlib.figure.Figure at 0x7f2930127810>"
      ]
     },
     "metadata": {},
     "output_type": "display_data"
    },
    {
     "data": {
      "image/png": "[encoded data removed]",
      "text/plain": [
       "<matplotlib.figure.Figure at 0x7f29301bc150>"
      ]
     },
     "metadata": {},
     "output_type": "display_data"
    },
    {
     "name": "stdout",
     "output_type": "stream",
     "text": [
      "[ 250.          382.91154545  537.605     ]\n"
     ]
    },
    {
     "data": {
      "text/plain": [
       "<matplotlib.figure.Figure at 0x7f292fbadc10>"
      ]
     },
     "metadata": {},
     "output_type": "display_data"
    },
    {
     "data": {
      "image/png": "[encoded data removed]",
      "text/plain": [
       "<matplotlib.figure.Figure at 0x7f292ffdccd0>"
      ]
     },
     "metadata": {},
     "output_type": "display_data"
    }
   ],
   "source": [
    "import matplotlib.pyplot as plt\n",
    "for n_clusters in [4,3,2]:\n",
    "    plt.clf()\n",
    "    plt.figure(figsize=(10,5))\n",
    "    plt.hist(boundaries,bins=50,range=[250,790],label=\"optimized boundaires\");\n",
    "#     kmeans = KMeans(init='k-means++', n_clusters=n_clusters, n_init=10)\n",
    "#     kmeans.fit(filtered_2.reshape(-1,1))\n",
    "#     centers = np.array(kmeans.cluster_centers_.ravel().tolist()+[250,800]) \n",
    "#     plt.hist(centers,bins=200,range=[250,800],weights=40.*np.ones_like(centers));\n",
    "\n",
    "    kmeans = KMeans(init='k-means++', n_clusters=n_clusters+1, n_init=10)\n",
    "    kmeans.fit(filtered.reshape(-1,1))\n",
    "    centers = np.array([250]+kmeans.cluster_centers_.ravel().tolist())\n",
    " #   centers = np.array(kmeans.cluster_centers_.ravel().tolist())\n",
    "\n",
    "    centers.sort()\n",
    "    centers=centers[:-1]\n",
    "    plt.hist(centers,bins=200,range=[250,810],weights=15.*np.ones_like(centers),label=\"clusters\");\n",
    "    plt.xlabel(\"MX\")\n",
    "    print(centers)\n",
    "    info_file = open(pathsave+\"info_clustering_%s_%s_n_clusters%s.txt\"%(tag,date,str(n_clusters)),\"w\") \n",
    "    info_file.write(\",\\n\".join([str(i) for i in centers]))\n",
    "    info_file.close()\n",
    "    \n",
    "#     kmeans = KMeans(init='k-means++', n_clusters=n_clusters+2, n_init=10)\n",
    "#     kmeans.fit(boundaries.reshape(-1,1))\n",
    "#     centers = kmeans.cluster_centers_.ravel() \n",
    "#     plt.hist(centers,bins=200,range=[250,800],weights=30.*np.ones_like(centers));\n",
    "    plt.legend()\n",
    "    plt.savefig(pathsave+\"clustering_%s_%s_nclusters\"%(tag,date)+\"_\"+str(n_clusters)+\".pdf\")\n",
    "    plt.show()\n"
   ]
  },
  {
   "cell_type": "code",
   "execution_count": null,
   "metadata": {
    "collapsed": true
   },
   "outputs": [],
   "source": []
  },
  {
   "cell_type": "code",
   "execution_count": null,
   "metadata": {
    "collapsed": true
   },
   "outputs": [],
   "source": []
  },
  {
   "cell_type": "code",
   "execution_count": null,
   "metadata": {
    "collapsed": true
   },
   "outputs": [],
   "source": []
  },
  {
   "cell_type": "code",
   "execution_count": null,
   "metadata": {
    "collapsed": true
   },
   "outputs": [],
   "source": []
  }
 ],
 "metadata": {
  "anaconda-cloud": {},
  "kernelspec": {
   "display_name": "Python [default]",
   "language": "python",
   "name": "python2"
  },
  "language_info": {
   "codemirror_mode": {
    "name": "ipython",
    "version": 2
   },
   "file_extension": ".py",
   "mimetype": "text/x-python",
   "name": "python",
   "nbconvert_exporter": "python",
   "pygments_lexer": "ipython2",
   "version": "2.7.12"
  }
 },
 "nbformat": 4,
 "nbformat_minor": 1
}
