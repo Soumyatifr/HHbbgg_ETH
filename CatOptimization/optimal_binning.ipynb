{
 "cells": [
  {
   "cell_type": "code",
   "execution_count": 65,
   "metadata": {
    "collapsed": true
   },
   "outputs": [],
   "source": [
    "path = '/mnt/t3nfs01/data01/shome/micheli/CMSSW_HHbbgg/CMSSW_8_0_26/src/diphotons/Utils/macro/outPlots'"
   ]
  },
  {
   "cell_type": "code",
   "execution_count": 66,
   "metadata": {
    "collapsed": true
   },
   "outputs": [],
   "source": [
    "import glob,re"
   ]
  },
  {
   "cell_type": "code",
   "execution_count": 89,
   "metadata": {
    "collapsed": false
   },
   "outputs": [],
   "source": [
    "files = glob.glob('%s/out_20171130_17*node_*transformed_MX/cat_opt.json' % path)"
   ]
  },
  {
   "cell_type": "code",
   "execution_count": 90,
   "metadata": {
    "collapsed": false
   },
   "outputs": [
    {
     "data": {
      "text/plain": [
       "['/mnt/t3nfs01/data01/shome/micheli/CMSSW_HHbbgg/CMSSW_8_0_26/src/diphotons/Utils/macro/outPlots/out_20171130_171610_node_SM_transformed_MX/cat_opt.json']"
      ]
     },
     "execution_count": 90,
     "metadata": {},
     "output_type": "execute_result"
    }
   ],
   "source": [
    "files"
   ]
  },
  {
   "cell_type": "code",
   "execution_count": 91,
   "metadata": {
    "collapsed": false
   },
   "outputs": [],
   "source": [
    "import json \n",
    "import numpy as np\n",
    "\n",
    "#summary = { x:[] for x in ['node','boundaries','ncat','fom','selections']  }\n",
    "summary = { x:[] for x in ['node','boundaries','ncat','fom']  }\n",
    "\n",
    "\n",
    "for fil in files:\n",
    "    name = fil.split('/')[-2].split('node_')[-1]\n",
    "    if name == 'SM_transformed_MX': name = '0'\n",
    "    node = int(name.replace('_transformed_MX',''))\n",
    "    with open(fil) as fin:\n",
    "        info = json.loads(fin.read())\n",
    "        fin.close()\n",
    "    for key,val in info.items():\n",
    "        val['node'] = node\n",
    "        val['boundaries'] = np.array(val['boundaries'])\n",
    "#        val['selections'] = np.array(val['selections'])\n",
    "        for col in summary.keys():\n",
    "            summary[col].append( val[col] )\n",
    "\n",
    "# print(summary)\n",
    "    "
   ]
  },
  {
   "cell_type": "code",
   "execution_count": 92,
   "metadata": {
    "collapsed": false
   },
   "outputs": [],
   "source": [
    "import pandas as pd\n",
    "df = pd.DataFrame(summary)"
   ]
  },
  {
   "cell_type": "code",
   "execution_count": 93,
   "metadata": {
    "collapsed": false
   },
   "outputs": [],
   "source": [
    "df.set_index(['ncat','node'],drop=False,inplace=True)"
   ]
  },
  {
   "cell_type": "code",
   "execution_count": 94,
   "metadata": {
    "collapsed": false
   },
   "outputs": [
    {
     "data": {
      "text/html": [
       "<div>\n",
       "<style>\n",
       "    .dataframe thead tr:only-child th {\n",
       "        text-align: right;\n",
       "    }\n",
       "\n",
       "    .dataframe thead th {\n",
       "        text-align: left;\n",
       "    }\n",
       "\n",
       "    .dataframe tbody tr th {\n",
       "        vertical-align: top;\n",
       "    }\n",
       "</style>\n",
       "<table border=\"1\" class=\"dataframe\">\n",
       "  <thead>\n",
       "    <tr style=\"text-align: right;\">\n",
       "      <th></th>\n",
       "      <th></th>\n",
       "      <th>boundaries</th>\n",
       "      <th>fom</th>\n",
       "      <th>ncat</th>\n",
       "      <th>node</th>\n",
       "    </tr>\n",
       "    <tr>\n",
       "      <th>ncat</th>\n",
       "      <th>node</th>\n",
       "      <th></th>\n",
       "      <th></th>\n",
       "      <th></th>\n",
       "      <th></th>\n",
       "    </tr>\n",
       "  </thead>\n",
       "  <tbody>\n",
       "    <tr>\n",
       "      <th>3</th>\n",
       "      <th>0</th>\n",
       "      <td>[800.0, 439.221, 359.832, 293.559]</td>\n",
       "      <td>-4.974</td>\n",
       "      <td>3</td>\n",
       "      <td>0</td>\n",
       "    </tr>\n",
       "  </tbody>\n",
       "</table>\n",
       "</div>"
      ],
      "text/plain": [
       "                                   boundaries    fom  ncat  node\n",
       "ncat node                                                       \n",
       "3    0     [800.0, 439.221, 359.832, 293.559] -4.974     3     0"
      ]
     },
     "execution_count": 94,
     "metadata": {},
     "output_type": "execute_result"
    }
   ],
   "source": [
    "df.sort_index(inplace=True)\n",
    "df"
   ]
  },
  {
   "cell_type": "code",
   "execution_count": 100,
   "metadata": {
    "collapsed": false
   },
   "outputs": [],
   "source": [
    "from sklearn.cluster import KMeans"
   ]
  },
  {
   "cell_type": "code",
   "execution_count": 101,
   "metadata": {
    "collapsed": false
   },
   "outputs": [],
   "source": [
    "boundaries = []\n",
    "\n",
    "for ncats in [3]:\n",
    "    boundaries.append( np.vstack(df.loc[ncats,'boundaries'].values.tolist()).ravel() )"
   ]
  },
  {
   "cell_type": "code",
   "execution_count": 102,
   "metadata": {
    "collapsed": false
   },
   "outputs": [],
   "source": [
    "boundaries = np.hstack(boundaries).ravel()"
   ]
  },
  {
   "cell_type": "code",
   "execution_count": 103,
   "metadata": {
    "collapsed": false
   },
   "outputs": [],
   "source": [
    "filtered=boundaries[(boundaries > 260)]\n",
    "#filtered_2=boundaries[(boundaries > 260) & (boundaries < 800)]\n",
    "#filtered = boundaries"
   ]
  },
  {
   "cell_type": "code",
   "execution_count": 106,
   "metadata": {
    "collapsed": false,
    "scrolled": true
   },
   "outputs": [
    {
     "name": "stdout",
     "output_type": "stream",
     "text": [
      "[ 250.     293.559  359.832  439.221]\n"
     ]
    },
    {
     "data": {
      "image/png": "[encoded data removed]",
      "text/plain": [
       "<matplotlib.figure.Figure at 0x7faa74667250>"
      ]
     },
     "metadata": {},
     "output_type": "display_data"
    },
    {
     "name": "stdout",
     "output_type": "stream",
     "text": [
      "[ 250.      326.6955  439.221 ]\n"
     ]
    },
    {
     "data": {
      "image/png": "[encoded data removed]",
      "text/plain": [
       "<matplotlib.figure.Figure at 0x7faa6c831390>"
      ]
     },
     "metadata": {},
     "output_type": "display_data"
    }
   ],
   "source": [
    "import matplotlib.pyplot as plt\n",
    "for n_clusters in [3,2]:\n",
    "    plt.figure(figsize=(10,5))\n",
    "    plt.hist(boundaries,bins=50,range=[250,790],label=\"optimized boundaires\");\n",
    "#     kmeans = KMeans(init='k-means++', n_clusters=n_clusters, n_init=10)\n",
    "#     kmeans.fit(filtered_2.reshape(-1,1))\n",
    "#     centers = np.array(kmeans.cluster_centers_.ravel().tolist()+[250,800]) \n",
    "#     plt.hist(centers,bins=200,range=[250,800],weights=40.*np.ones_like(centers));\n",
    "\n",
    "    kmeans = KMeans(init='k-means++', n_clusters=n_clusters+1, n_init=10)\n",
    "    kmeans.fit(filtered.reshape(-1,1))\n",
    "    centers = np.array([250]+kmeans.cluster_centers_.ravel().tolist())\n",
    "    centers.sort()\n",
    "    centers=centers[:-1]\n",
    "    plt.hist(centers,bins=200,range=[250,810],weights=15.*np.ones_like(centers),label=\"clusters\");\n",
    "    plt.xlabel(\"MX\")\n",
    "    print(centers)\n",
    "    \n",
    "#     kmeans = KMeans(init='k-means++', n_clusters=n_clusters+2, n_init=10)\n",
    "#     kmeans.fit(boundaries.reshape(-1,1))\n",
    "#     centers = kmeans.cluster_centers_.ravel() \n",
    "#     plt.hist(centers,bins=200,range=[250,800],weights=30.*np.ones_like(centers));\n",
    "    plt.legend()\n",
    "    plt.show()"
   ]
  },
  {
   "cell_type": "code",
   "execution_count": null,
   "metadata": {
    "collapsed": true
   },
   "outputs": [],
   "source": []
  }
 ],
 "metadata": {
  "anaconda-cloud": {},
  "kernelspec": {
   "display_name": "Python [default]",
   "language": "python",
   "name": "python2"
  },
  "language_info": {
   "codemirror_mode": {
    "name": "ipython",
    "version": 2
   },
   "file_extension": ".py",
   "mimetype": "text/x-python",
   "name": "python",
   "nbconvert_exporter": "python",
   "pygments_lexer": "ipython2",
   "version": "2.7.12"
  }
 },
 "nbformat": 4,
 "nbformat_minor": 1
}
