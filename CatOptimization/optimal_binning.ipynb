{
 "cells": [
  {
   "cell_type": "code",
   "execution_count": 65,
   "metadata": {
    "collapsed": true
   },
   "outputs": [],
   "source": [
    "path = '/mnt/t3nfs01/data01/shome/micheli/CMSSW_HHbbgg/CMSSW_8_0_26/src/diphotons/Utils/macro/outPlots'"
   ]
  },
  {
   "cell_type": "code",
   "execution_count": 66,
   "metadata": {
    "collapsed": true
   },
   "outputs": [],
   "source": [
    "import glob,re"
   ]
  },
  {
   "cell_type": "code",
   "execution_count": 78,
   "metadata": {
    "collapsed": false
   },
   "outputs": [],
   "source": [
    "files = glob.glob('%s/out_20171130*node_*transformed_MX/cat_opt.json' % path)"
   ]
  },
  {
   "cell_type": "code",
   "execution_count": 79,
   "metadata": {
    "collapsed": false
   },
   "outputs": [
    {
     "data": {
      "text/plain": [
       "['/mnt/t3nfs01/data01/shome/micheli/CMSSW_HHbbgg/CMSSW_8_0_26/src/diphotons/Utils/macro/outPlots/out_20171130_142151_node_12_transformed_MX/cat_opt.json',\n",
       " '/mnt/t3nfs01/data01/shome/micheli/CMSSW_HHbbgg/CMSSW_8_0_26/src/diphotons/Utils/macro/outPlots/out_20171130_142151_node_6_transformed_MX/cat_opt.json',\n",
       " '/mnt/t3nfs01/data01/shome/micheli/CMSSW_HHbbgg/CMSSW_8_0_26/src/diphotons/Utils/macro/outPlots/out_20171130_142151_node_8_transformed_MX/cat_opt.json',\n",
       " '/mnt/t3nfs01/data01/shome/micheli/CMSSW_HHbbgg/CMSSW_8_0_26/src/diphotons/Utils/macro/outPlots/out_20171130_142151_node_10_transformed_MX/cat_opt.json',\n",
       " '/mnt/t3nfs01/data01/shome/micheli/CMSSW_HHbbgg/CMSSW_8_0_26/src/diphotons/Utils/macro/outPlots/out_20171130_142151_node_4_transformed_MX/cat_opt.json',\n",
       " '/mnt/t3nfs01/data01/shome/micheli/CMSSW_HHbbgg/CMSSW_8_0_26/src/diphotons/Utils/macro/outPlots/out_20171130_142151_node_3_transformed_MX/cat_opt.json',\n",
       " '/mnt/t3nfs01/data01/shome/micheli/CMSSW_HHbbgg/CMSSW_8_0_26/src/diphotons/Utils/macro/outPlots/out_20171130_142151_node_SM_transformed_MX/cat_opt.json',\n",
       " '/mnt/t3nfs01/data01/shome/micheli/CMSSW_HHbbgg/CMSSW_8_0_26/src/diphotons/Utils/macro/outPlots/out_20171130_142151_node_11_transformed_MX/cat_opt.json',\n",
       " '/mnt/t3nfs01/data01/shome/micheli/CMSSW_HHbbgg/CMSSW_8_0_26/src/diphotons/Utils/macro/outPlots/out_20171130_142151_node_5_transformed_MX/cat_opt.json',\n",
       " '/mnt/t3nfs01/data01/shome/micheli/CMSSW_HHbbgg/CMSSW_8_0_26/src/diphotons/Utils/macro/outPlots/out_20171130_142151_node_2_transformed_MX/cat_opt.json',\n",
       " '/mnt/t3nfs01/data01/shome/micheli/CMSSW_HHbbgg/CMSSW_8_0_26/src/diphotons/Utils/macro/outPlots/out_20171130_142151_node_9_transformed_MX/cat_opt.json',\n",
       " '/mnt/t3nfs01/data01/shome/micheli/CMSSW_HHbbgg/CMSSW_8_0_26/src/diphotons/Utils/macro/outPlots/out_20171130_142151_node_13_transformed_MX/cat_opt.json',\n",
       " '/mnt/t3nfs01/data01/shome/micheli/CMSSW_HHbbgg/CMSSW_8_0_26/src/diphotons/Utils/macro/outPlots/out_20171130_142151_node_7_transformed_MX/cat_opt.json']"
      ]
     },
     "execution_count": 79,
     "metadata": {},
     "output_type": "execute_result"
    }
   ],
   "source": [
    "files"
   ]
  },
  {
   "cell_type": "code",
   "execution_count": 80,
   "metadata": {
    "collapsed": false
   },
   "outputs": [],
   "source": [
    "import json \n",
    "import numpy as np\n",
    "\n",
    "#summary = { x:[] for x in ['node','boundaries','ncat','fom','selections']  }\n",
    "summary = { x:[] for x in ['node','boundaries','ncat','fom']  }\n",
    "\n",
    "\n",
    "for fil in files:\n",
    "    name = fil.split('/')[-2].split('node_')[-1]\n",
    "    if name == 'SM_transformed_MX': name = '0'\n",
    "    node = int(name.replace('_transformed_MX',''))\n",
    "    with open(fil) as fin:\n",
    "        info = json.loads(fin.read())\n",
    "        fin.close()\n",
    "    for key,val in info.items():\n",
    "        val['node'] = node\n",
    "        val['boundaries'] = np.array(val['boundaries'])\n",
    "#        val['selections'] = np.array(val['selections'])\n",
    "        for col in summary.keys():\n",
    "            summary[col].append( val[col] )\n",
    "\n",
    "# print(summary)\n",
    "    "
   ]
  },
  {
   "cell_type": "code",
   "execution_count": 81,
   "metadata": {
    "collapsed": false
   },
   "outputs": [],
   "source": [
    "import pandas as pd\n",
    "df = pd.DataFrame(summary)"
   ]
  },
  {
   "cell_type": "code",
   "execution_count": 82,
   "metadata": {
    "collapsed": false
   },
   "outputs": [],
   "source": [
    "df.set_index(['ncat','node'],drop=False,inplace=True)"
   ]
  },
  {
   "cell_type": "code",
   "execution_count": 83,
   "metadata": {
    "collapsed": false
   },
   "outputs": [
    {
     "data": {
      "text/html": [
       "<div>\n",
       "<style>\n",
       "    .dataframe thead tr:only-child th {\n",
       "        text-align: right;\n",
       "    }\n",
       "\n",
       "    .dataframe thead th {\n",
       "        text-align: left;\n",
       "    }\n",
       "\n",
       "    .dataframe tbody tr th {\n",
       "        vertical-align: top;\n",
       "    }\n",
       "</style>\n",
       "<table border=\"1\" class=\"dataframe\">\n",
       "  <thead>\n",
       "    <tr style=\"text-align: right;\">\n",
       "      <th></th>\n",
       "      <th></th>\n",
       "      <th>boundaries</th>\n",
       "      <th>fom</th>\n",
       "      <th>ncat</th>\n",
       "      <th>node</th>\n",
       "    </tr>\n",
       "    <tr>\n",
       "      <th>ncat</th>\n",
       "      <th>node</th>\n",
       "      <th></th>\n",
       "      <th></th>\n",
       "      <th></th>\n",
       "      <th></th>\n",
       "    </tr>\n",
       "  </thead>\n",
       "  <tbody>\n",
       "    <tr>\n",
       "      <th rowspan=\"13\" valign=\"top\">3</th>\n",
       "      <th>0</th>\n",
       "      <td>[800.0, 427.382, 357.578, 291.1]</td>\n",
       "      <td>-4.967</td>\n",
       "      <td>3</td>\n",
       "      <td>0</td>\n",
       "    </tr>\n",
       "    <tr>\n",
       "      <th>2</th>\n",
       "      <td>[800.0, 536.235, 421.5, 250.128]</td>\n",
       "      <td>-4.592</td>\n",
       "      <td>3</td>\n",
       "      <td>2</td>\n",
       "    </tr>\n",
       "    <tr>\n",
       "      <th>3</th>\n",
       "      <td>[800.0, 588.458, 492.673, 250.002]</td>\n",
       "      <td>-4.799</td>\n",
       "      <td>3</td>\n",
       "      <td>3</td>\n",
       "    </tr>\n",
       "    <tr>\n",
       "      <th>4</th>\n",
       "      <td>[800.0, 535.938, 420.625, 250.264]</td>\n",
       "      <td>-4.330</td>\n",
       "      <td>3</td>\n",
       "      <td>4</td>\n",
       "    </tr>\n",
       "    <tr>\n",
       "      <th>5</th>\n",
       "      <td>[800.0, 349.758, 259.626, 291.411]</td>\n",
       "      <td>-3.083</td>\n",
       "      <td>3</td>\n",
       "      <td>5</td>\n",
       "    </tr>\n",
       "    <tr>\n",
       "      <th>6</th>\n",
       "      <td>[800.0, 552.457, 434.641, 308.186]</td>\n",
       "      <td>-4.868</td>\n",
       "      <td>3</td>\n",
       "      <td>6</td>\n",
       "    </tr>\n",
       "    <tr>\n",
       "      <th>7</th>\n",
       "      <td>[800.0, 529.24, 425.84, 266.437]</td>\n",
       "      <td>-4.816</td>\n",
       "      <td>3</td>\n",
       "      <td>7</td>\n",
       "    </tr>\n",
       "    <tr>\n",
       "      <th>8</th>\n",
       "      <td>[800.0, 359.863, 251.995, 323.328]</td>\n",
       "      <td>-3.032</td>\n",
       "      <td>3</td>\n",
       "      <td>8</td>\n",
       "    </tr>\n",
       "    <tr>\n",
       "      <th>9</th>\n",
       "      <td>[800.0, 427.525, 345.155, 250.001]</td>\n",
       "      <td>-3.571</td>\n",
       "      <td>3</td>\n",
       "      <td>9</td>\n",
       "    </tr>\n",
       "    <tr>\n",
       "      <th>10</th>\n",
       "      <td>[800.0, 431.234, 349.635, 250.005]</td>\n",
       "      <td>-4.018</td>\n",
       "      <td>3</td>\n",
       "      <td>10</td>\n",
       "    </tr>\n",
       "    <tr>\n",
       "      <th>11</th>\n",
       "      <td>[800.0, 532.212, 399.983, 250.006]</td>\n",
       "      <td>-4.102</td>\n",
       "      <td>3</td>\n",
       "      <td>11</td>\n",
       "    </tr>\n",
       "    <tr>\n",
       "      <th>12</th>\n",
       "      <td>[800.0, 567.897, 437.137, 257.854]</td>\n",
       "      <td>-5.325</td>\n",
       "      <td>3</td>\n",
       "      <td>12</td>\n",
       "    </tr>\n",
       "    <tr>\n",
       "      <th>13</th>\n",
       "      <td>[800.0, 516.925, 516.925, 413.893]</td>\n",
       "      <td>-5.759</td>\n",
       "      <td>3</td>\n",
       "      <td>13</td>\n",
       "    </tr>\n",
       "  </tbody>\n",
       "</table>\n",
       "</div>"
      ],
      "text/plain": [
       "                                   boundaries    fom  ncat  node\n",
       "ncat node                                                       \n",
       "3    0       [800.0, 427.382, 357.578, 291.1] -4.967     3     0\n",
       "     2       [800.0, 536.235, 421.5, 250.128] -4.592     3     2\n",
       "     3     [800.0, 588.458, 492.673, 250.002] -4.799     3     3\n",
       "     4     [800.0, 535.938, 420.625, 250.264] -4.330     3     4\n",
       "     5     [800.0, 349.758, 259.626, 291.411] -3.083     3     5\n",
       "     6     [800.0, 552.457, 434.641, 308.186] -4.868     3     6\n",
       "     7       [800.0, 529.24, 425.84, 266.437] -4.816     3     7\n",
       "     8     [800.0, 359.863, 251.995, 323.328] -3.032     3     8\n",
       "     9     [800.0, 427.525, 345.155, 250.001] -3.571     3     9\n",
       "     10    [800.0, 431.234, 349.635, 250.005] -4.018     3    10\n",
       "     11    [800.0, 532.212, 399.983, 250.006] -4.102     3    11\n",
       "     12    [800.0, 567.897, 437.137, 257.854] -5.325     3    12\n",
       "     13    [800.0, 516.925, 516.925, 413.893] -5.759     3    13"
      ]
     },
     "execution_count": 83,
     "metadata": {},
     "output_type": "execute_result"
    }
   ],
   "source": [
    "df.sort_index(inplace=True)\n",
    "df"
   ]
  },
  {
   "cell_type": "code",
   "execution_count": 84,
   "metadata": {
    "collapsed": false
   },
   "outputs": [],
   "source": [
    "from sklearn.cluster import KMeans"
   ]
  },
  {
   "cell_type": "code",
   "execution_count": 85,
   "metadata": {
    "collapsed": false
   },
   "outputs": [],
   "source": [
    "boundaries = []\n",
    "\n",
    "for ncats in [3]:\n",
    "    boundaries.append( np.vstack(df.loc[ncats,'boundaries'].values.tolist()).ravel() )"
   ]
  },
  {
   "cell_type": "code",
   "execution_count": 86,
   "metadata": {
    "collapsed": false
   },
   "outputs": [],
   "source": [
    "boundaries = np.hstack(boundaries).ravel()"
   ]
  },
  {
   "cell_type": "code",
   "execution_count": 87,
   "metadata": {
    "collapsed": false
   },
   "outputs": [],
   "source": [
    "filtered=boundaries[(boundaries > 260)]\n",
    "#filtered_2=boundaries[(boundaries > 260) & (boundaries < 800)]\n",
    "#filtered = boundaries"
   ]
  },
  {
   "cell_type": "code",
   "execution_count": 88,
   "metadata": {
    "collapsed": false,
    "scrolled": true
   },
   "outputs": [
    {
     "name": "stdout",
     "output_type": "stream",
     "text": [
      "[ 250.          289.2835      347.55283333  423.976       536.896     ]\n"
     ]
    },
    {
     "data": {
      "image/png": "[encoded data removed]",
      "text/plain": [
       "<matplotlib.figure.Figure at 0x7fa9f41fa990>"
      ]
     },
     "metadata": {},
     "output_type": "display_data"
    },
    {
     "name": "stdout",
     "output_type": "stream",
     "text": [
      "[ 250.      324.2451  423.976   536.896 ]\n"
     ]
    },
    {
     "data": {
      "image/png": "[encoded data removed]",
      "text/plain": [
       "<matplotlib.figure.Figure at 0x7faa5ebf4650>"
      ]
     },
     "metadata": {},
     "output_type": "display_data"
    },
    {
     "name": "stdout",
     "output_type": "stream",
     "text": [
      "[ 250.       374.11055  536.896  ]\n"
     ]
    },
    {
     "data": {
      "image/png": "[encoded data removed]",
      "text/plain": [
       "<matplotlib.figure.Figure at 0x7faa5f10f290>"
      ]
     },
     "metadata": {},
     "output_type": "display_data"
    }
   ],
   "source": [
    "import matplotlib.pyplot as plt\n",
    "for n_clusters in [4,3,2]:\n",
    "    plt.figure(figsize=(10,5))\n",
    "    plt.hist(boundaries,bins=50,range=[250,790],label=\"optimized boundaires\");\n",
    "#     kmeans = KMeans(init='k-means++', n_clusters=n_clusters, n_init=10)\n",
    "#     kmeans.fit(filtered_2.reshape(-1,1))\n",
    "#     centers = np.array(kmeans.cluster_centers_.ravel().tolist()+[250,800]) \n",
    "#     plt.hist(centers,bins=200,range=[250,800],weights=40.*np.ones_like(centers));\n",
    "\n",
    "    kmeans = KMeans(init='k-means++', n_clusters=n_clusters+1, n_init=10)\n",
    "    kmeans.fit(filtered.reshape(-1,1))\n",
    "    centers = np.array([250]+kmeans.cluster_centers_.ravel().tolist())\n",
    "    centers.sort()\n",
    "    centers=centers[:-1]\n",
    "    plt.hist(centers,bins=200,range=[250,810],weights=15.*np.ones_like(centers),label=\"clusters\");\n",
    "    plt.xlabel(\"MX\")\n",
    "    print(centers)\n",
    "    \n",
    "#     kmeans = KMeans(init='k-means++', n_clusters=n_clusters+2, n_init=10)\n",
    "#     kmeans.fit(boundaries.reshape(-1,1))\n",
    "#     centers = kmeans.cluster_centers_.ravel() \n",
    "#     plt.hist(centers,bins=200,range=[250,800],weights=30.*np.ones_like(centers));\n",
    "    plt.legend()\n",
    "    plt.show()"
   ]
  },
  {
   "cell_type": "code",
   "execution_count": null,
   "metadata": {
    "collapsed": true
   },
   "outputs": [],
   "source": []
  }
 ],
 "metadata": {
  "anaconda-cloud": {},
  "kernelspec": {
   "display_name": "Python [default]",
   "language": "python",
   "name": "python2"
  },
  "language_info": {
   "codemirror_mode": {
    "name": "ipython",
    "version": 2
   },
   "file_extension": ".py",
   "mimetype": "text/x-python",
   "name": "python",
   "nbconvert_exporter": "python",
   "pygments_lexer": "ipython2",
   "version": "2.7.12"
  }
 },
 "nbformat": 4,
 "nbformat_minor": 1
}
