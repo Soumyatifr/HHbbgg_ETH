{
 "cells": [
  {
   "cell_type": "code",
   "execution_count": 1,
   "metadata": {
    "collapsed": true
   },
   "outputs": [],
   "source": [
    "path = '/mnt/t3nfs01/data01/shome/musella/Analysis/FGG_8_0_26_patch1/src/diphotons/Utils/macro/www/higgs/hh/cat_opt_mjj_nodr'"
   ]
  },
  {
   "cell_type": "code",
   "execution_count": 2,
   "metadata": {
    "collapsed": true
   },
   "outputs": [],
   "source": [
    "import glob"
   ]
  },
  {
   "cell_type": "code",
   "execution_count": 3,
   "metadata": {
    "collapsed": true
   },
   "outputs": [],
   "source": [
    "files = glob.glob('%s/*mjj_cut*node*/cat_opt.json' % path)"
   ]
  },
  {
   "cell_type": "code",
   "execution_count": 4,
   "metadata": {
    "collapsed": false
   },
   "outputs": [
    {
     "data": {
      "text/plain": [
       "['/mnt/t3nfs01/data01/shome/musella/Analysis/FGG_8_0_26_patch1/src/diphotons/Utils/macro/www/higgs/hh/cat_opt_mjj_nodr/no_fakes_no_SMH_3x3_mjj_cut_node_11/cat_opt.json',\n",
       " '/mnt/t3nfs01/data01/shome/musella/Analysis/FGG_8_0_26_patch1/src/diphotons/Utils/macro/www/higgs/hh/cat_opt_mjj_nodr/no_fakes_no_SMH_3x3_mjj_cut_node_8/cat_opt.json',\n",
       " '/mnt/t3nfs01/data01/shome/musella/Analysis/FGG_8_0_26_patch1/src/diphotons/Utils/macro/www/higgs/hh/cat_opt_mjj_nodr/no_fakes_no_SMH_3x3_mjj_cut_node_3/cat_opt.json',\n",
       " '/mnt/t3nfs01/data01/shome/musella/Analysis/FGG_8_0_26_patch1/src/diphotons/Utils/macro/www/higgs/hh/cat_opt_mjj_nodr/no_fakes_no_SMH_3x3_mjj_cut_node_2/cat_opt.json',\n",
       " '/mnt/t3nfs01/data01/shome/musella/Analysis/FGG_8_0_26_patch1/src/diphotons/Utils/macro/www/higgs/hh/cat_opt_mjj_nodr/no_fakes_no_SMH_3x3_mjj_cut_node_9/cat_opt.json',\n",
       " '/mnt/t3nfs01/data01/shome/musella/Analysis/FGG_8_0_26_patch1/src/diphotons/Utils/macro/www/higgs/hh/cat_opt_mjj_nodr/no_fakes_no_SMH_3x3_mjj_cut_node_7/cat_opt.json',\n",
       " '/mnt/t3nfs01/data01/shome/musella/Analysis/FGG_8_0_26_patch1/src/diphotons/Utils/macro/www/higgs/hh/cat_opt_mjj_nodr/no_fakes_no_SMH_3x3_mjj_cut_node_SM/cat_opt.json',\n",
       " '/mnt/t3nfs01/data01/shome/musella/Analysis/FGG_8_0_26_patch1/src/diphotons/Utils/macro/www/higgs/hh/cat_opt_mjj_nodr/no_fakes_no_SMH_3x3_mjj_cut_node_13/cat_opt.json',\n",
       " '/mnt/t3nfs01/data01/shome/musella/Analysis/FGG_8_0_26_patch1/src/diphotons/Utils/macro/www/higgs/hh/cat_opt_mjj_nodr/no_fakes_no_SMH_3x3_mjj_cut_node_12/cat_opt.json',\n",
       " '/mnt/t3nfs01/data01/shome/musella/Analysis/FGG_8_0_26_patch1/src/diphotons/Utils/macro/www/higgs/hh/cat_opt_mjj_nodr/no_fakes_no_SMH_3x3_mjj_cut_node_4/cat_opt.json',\n",
       " '/mnt/t3nfs01/data01/shome/musella/Analysis/FGG_8_0_26_patch1/src/diphotons/Utils/macro/www/higgs/hh/cat_opt_mjj_nodr/no_fakes_no_SMH_3x3_mjj_cut_node_5/cat_opt.json',\n",
       " '/mnt/t3nfs01/data01/shome/musella/Analysis/FGG_8_0_26_patch1/src/diphotons/Utils/macro/www/higgs/hh/cat_opt_mjj_nodr/no_fakes_no_SMH_3x3_mjj_cut_node_6/cat_opt.json',\n",
       " '/mnt/t3nfs01/data01/shome/musella/Analysis/FGG_8_0_26_patch1/src/diphotons/Utils/macro/www/higgs/hh/cat_opt_mjj_nodr/no_fakes_no_SMH_3x3_mjj_cut_node_10/cat_opt.json']"
      ]
     },
     "execution_count": 4,
     "metadata": {},
     "output_type": "execute_result"
    }
   ],
   "source": [
    "files"
   ]
  },
  {
   "cell_type": "code",
   "execution_count": 5,
   "metadata": {
    "collapsed": false
   },
   "outputs": [],
   "source": [
    "import json \n",
    "\n",
    "summary = { x:[] for x in ['node','boundaries','ncat','fom','selections']  }\n",
    "\n",
    "for fil in files:\n",
    "    name = fil.split('/')[-2].split('node_')[-1]\n",
    "    if name == 'SM': name = '0'\n",
    "    node = int(name)\n",
    "    with open(fil) as fin:\n",
    "        info = json.loads(fin.read())\n",
    "        fin.close()\n",
    "    for key,val in info.items():\n",
    "        val['node'] = node\n",
    "        val['boundaries'] = np.array(val['boundaries'])\n",
    "        val['selections'] = np.array(val['selections'])\n",
    "        for col in summary.keys():\n",
    "            summary[col].append( val[col] )\n",
    "\n",
    "# print(summary)\n",
    "    "
   ]
  },
  {
   "cell_type": "code",
   "execution_count": 6,
   "metadata": {
    "collapsed": true
   },
   "outputs": [],
   "source": [
    "df = pd.DataFrame(summary)"
   ]
  },
  {
   "cell_type": "code",
   "execution_count": 7,
   "metadata": {
    "collapsed": false
   },
   "outputs": [],
   "source": [
    "df.set_index(['ncat','node'],drop=False,inplace=True)"
   ]
  },
  {
   "cell_type": "code",
   "execution_count": 8,
   "metadata": {
    "collapsed": false
   },
   "outputs": [
    {
     "data": {
      "text/html": [
       "<div>\n",
       "<table border=\"1\" class=\"dataframe\">\n",
       "  <thead>\n",
       "    <tr style=\"text-align: right;\">\n",
       "      <th></th>\n",
       "      <th></th>\n",
       "      <th>boundaries</th>\n",
       "      <th>fom</th>\n",
       "      <th>ncat</th>\n",
       "      <th>node</th>\n",
       "      <th>selections</th>\n",
       "    </tr>\n",
       "    <tr>\n",
       "      <th>ncat</th>\n",
       "      <th>node</th>\n",
       "      <th></th>\n",
       "      <th></th>\n",
       "      <th></th>\n",
       "      <th></th>\n",
       "      <th></th>\n",
       "    </tr>\n",
       "  </thead>\n",
       "  <tbody>\n",
       "    <tr>\n",
       "      <th rowspan=\"13\" valign=\"top\">3</th>\n",
       "      <th>0</th>\n",
       "      <td>[1.01, 0.999, 0.989, 0.916]</td>\n",
       "      <td>-5.084</td>\n",
       "      <td>3</td>\n",
       "      <td>0</td>\n",
       "      <td>[-45.324, -40.324]</td>\n",
       "    </tr>\n",
       "    <tr>\n",
       "      <th>2</th>\n",
       "      <td>[1.01, 0.993, 0.977, 0.912]</td>\n",
       "      <td>-4.908</td>\n",
       "      <td>3</td>\n",
       "      <td>2</td>\n",
       "      <td>[-35.797, -67.978]</td>\n",
       "    </tr>\n",
       "    <tr>\n",
       "      <th>3</th>\n",
       "      <td>[1.01, 0.996, 0.973, 0.924]</td>\n",
       "      <td>-5.940</td>\n",
       "      <td>3</td>\n",
       "      <td>3</td>\n",
       "      <td>[-45.212, -69.434]</td>\n",
       "    </tr>\n",
       "    <tr>\n",
       "      <th>4</th>\n",
       "      <td>[1.01, 0.99, 0.977, 0.922]</td>\n",
       "      <td>-4.871</td>\n",
       "      <td>3</td>\n",
       "      <td>4</td>\n",
       "      <td>[-66.951, -64.431]</td>\n",
       "    </tr>\n",
       "    <tr>\n",
       "      <th>5</th>\n",
       "      <td>[1.01, 0.999, 0.976, 0.859]</td>\n",
       "      <td>-3.748</td>\n",
       "      <td>3</td>\n",
       "      <td>5</td>\n",
       "      <td>[-41.491, -63.078]</td>\n",
       "    </tr>\n",
       "    <tr>\n",
       "      <th>6</th>\n",
       "      <td>[1.01, 0.999, 0.987, 0.046]</td>\n",
       "      <td>-5.232</td>\n",
       "      <td>3</td>\n",
       "      <td>6</td>\n",
       "      <td>[-38.91, -44.998]</td>\n",
       "    </tr>\n",
       "    <tr>\n",
       "      <th>7</th>\n",
       "      <td>[1.01, 0.998, 0.935, 0.313]</td>\n",
       "      <td>-5.853</td>\n",
       "      <td>3</td>\n",
       "      <td>7</td>\n",
       "      <td>[-45.0, -45.0]</td>\n",
       "    </tr>\n",
       "    <tr>\n",
       "      <th>8</th>\n",
       "      <td>[1.01, 0.996, 0.971, 0.876]</td>\n",
       "      <td>-3.164</td>\n",
       "      <td>3</td>\n",
       "      <td>8</td>\n",
       "      <td>[-17.747, -69.983]</td>\n",
       "    </tr>\n",
       "    <tr>\n",
       "      <th>9</th>\n",
       "      <td>[1.01, 0.994, 0.979, 0.913]</td>\n",
       "      <td>-3.732</td>\n",
       "      <td>3</td>\n",
       "      <td>9</td>\n",
       "      <td>[-66.576, -63.483]</td>\n",
       "    </tr>\n",
       "    <tr>\n",
       "      <th>10</th>\n",
       "      <td>[1.01, 0.992, 0.978, 0.706]</td>\n",
       "      <td>-4.133</td>\n",
       "      <td>3</td>\n",
       "      <td>10</td>\n",
       "      <td>[-43.766, -68.066]</td>\n",
       "    </tr>\n",
       "    <tr>\n",
       "      <th>11</th>\n",
       "      <td>[1.01, 0.996, 0.99, 0.922]</td>\n",
       "      <td>-5.576</td>\n",
       "      <td>3</td>\n",
       "      <td>11</td>\n",
       "      <td>[-67.931, -67.816]</td>\n",
       "    </tr>\n",
       "    <tr>\n",
       "      <th>12</th>\n",
       "      <td>[1.01, 1.0, 0.973, 0.921]</td>\n",
       "      <td>-6.636</td>\n",
       "      <td>3</td>\n",
       "      <td>12</td>\n",
       "      <td>[-62.135, -45.6]</td>\n",
       "    </tr>\n",
       "    <tr>\n",
       "      <th>13</th>\n",
       "      <td>[1.01, 0.999, 0.984, 0.96]</td>\n",
       "      <td>-7.123</td>\n",
       "      <td>3</td>\n",
       "      <td>13</td>\n",
       "      <td>[-58.334, -40.41]</td>\n",
       "    </tr>\n",
       "  </tbody>\n",
       "</table>\n",
       "</div>"
      ],
      "text/plain": [
       "                            boundaries    fom  ncat  node          selections\n",
       "ncat node                                                                    \n",
       "3    0     [1.01, 0.999, 0.989, 0.916] -5.084     3     0  [-45.324, -40.324]\n",
       "     2     [1.01, 0.993, 0.977, 0.912] -4.908     3     2  [-35.797, -67.978]\n",
       "     3     [1.01, 0.996, 0.973, 0.924] -5.940     3     3  [-45.212, -69.434]\n",
       "     4      [1.01, 0.99, 0.977, 0.922] -4.871     3     4  [-66.951, -64.431]\n",
       "     5     [1.01, 0.999, 0.976, 0.859] -3.748     3     5  [-41.491, -63.078]\n",
       "     6     [1.01, 0.999, 0.987, 0.046] -5.232     3     6   [-38.91, -44.998]\n",
       "     7     [1.01, 0.998, 0.935, 0.313] -5.853     3     7      [-45.0, -45.0]\n",
       "     8     [1.01, 0.996, 0.971, 0.876] -3.164     3     8  [-17.747, -69.983]\n",
       "     9     [1.01, 0.994, 0.979, 0.913] -3.732     3     9  [-66.576, -63.483]\n",
       "     10    [1.01, 0.992, 0.978, 0.706] -4.133     3    10  [-43.766, -68.066]\n",
       "     11     [1.01, 0.996, 0.99, 0.922] -5.576     3    11  [-67.931, -67.816]\n",
       "     12      [1.01, 1.0, 0.973, 0.921] -6.636     3    12    [-62.135, -45.6]\n",
       "     13     [1.01, 0.999, 0.984, 0.96] -7.123     3    13   [-58.334, -40.41]"
      ]
     },
     "execution_count": 8,
     "metadata": {},
     "output_type": "execute_result"
    }
   ],
   "source": [
    "df.sort_index(inplace=True)\n",
    "df"
   ]
  },
  {
   "cell_type": "code",
   "execution_count": 9,
   "metadata": {
    "collapsed": false
   },
   "outputs": [],
   "source": [
    "from sklearn.cluster import KMeans"
   ]
  },
  {
   "cell_type": "code",
   "execution_count": 10,
   "metadata": {
    "collapsed": false
   },
   "outputs": [],
   "source": [
    "boundaries = np.vstack(df.loc[[3]]['selections']) "
   ]
  },
  {
   "cell_type": "code",
   "execution_count": 11,
   "metadata": {
    "collapsed": false
   },
   "outputs": [],
   "source": [
    "# boundaries = np.hstack(boundaries).ravel()"
   ]
  },
  {
   "cell_type": "code",
   "execution_count": 12,
   "metadata": {
    "collapsed": false
   },
   "outputs": [
    {
     "data": {
      "text/plain": [
       "array([-48.85953846, -57.73853846])"
      ]
     },
     "execution_count": 12,
     "metadata": {},
     "output_type": "execute_result"
    }
   ],
   "source": [
    "means = boundaries.mean(axis=0)\n",
    "means\n",
    "\n",
    "# nodr array([ 1.01 , 0.99661538, 0.976 , 0.88838462])\n",
    "# withdr array([ 1.01      ,  0.99623077,  0.97892308,  0.89638462])\n",
    "# vanilla array([ 1.01      ,  0.99569231,  0.97553846,  0.88453846])"
   ]
  },
  {
   "cell_type": "code",
   "execution_count": 13,
   "metadata": {
    "collapsed": false
   },
   "outputs": [
    {
     "data": {
      "text/plain": [
       "array([ 14.22200708,  11.70649671])"
      ]
     },
     "execution_count": 13,
     "metadata": {},
     "output_type": "execute_result"
    }
   ],
   "source": [
    "boundaries.std(axis=0)"
   ]
  },
  {
   "cell_type": "code",
   "execution_count": null,
   "metadata": {
    "collapsed": true
   },
   "outputs": [],
   "source": []
  }
 ],
 "metadata": {
  "anaconda-cloud": {},
  "kernelspec": {
   "display_name": "Python [default]",
   "language": "python",
   "name": "python2"
  },
  "language_info": {
   "codemirror_mode": {
    "name": "ipython",
    "version": 2
   },
   "file_extension": ".py",
   "mimetype": "text/x-python",
   "name": "python",
   "nbconvert_exporter": "python",
   "pygments_lexer": "ipython2",
   "version": "2.7.12"
  }
 },
 "nbformat": 4,
 "nbformat_minor": 1
}
