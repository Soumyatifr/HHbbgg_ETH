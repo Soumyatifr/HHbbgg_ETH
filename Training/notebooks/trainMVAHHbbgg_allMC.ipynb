{
 "cells": [
  {
   "cell_type": "code",
   "execution_count": 23,
   "metadata": {
    "collapsed": false
   },
   "outputs": [
    {
     "data": {
      "text/plain": [
       "<module 'training_utils' from '/mnt/t3nfs01/data01/shome/micheli/HHbbgg_ETH/Training/python/training_utils.py'>"
      ]
     },
     "execution_count": 23,
     "metadata": {},
     "output_type": "execute_result"
    }
   ],
   "source": [
    "import os\n",
    "import sys; sys.path.append(\"~/HHbbgg_ETH/Training/python\") # to load packages\n",
    "import training_utils as utils\n",
    "import numpy as np\n",
    "reload(utils)"
   ]
  },
  {
   "cell_type": "code",
   "execution_count": 24,
   "metadata": {
    "collapsed": false
   },
   "outputs": [
    {
     "name": "stdout",
     "output_type": "stream",
     "text": [
      "env: data=/mnt/t3nfs01/data01/shome/micheli/HHbbgg_ETH/root_files/20170509\n",
      "using background file n.0: /mnt/t3nfs01/data01/shome/micheli/HHbbgg_ETH/root_files/20170509/output_DiPhotonJetsBox_MGG-80toInf_13TeV-Sherpa.root\n",
      "using background file n.1: /mnt/t3nfs01/data01/shome/micheli/HHbbgg_ETH/root_files/20170509/output_GJet_total.root\n",
      "using signal file n.0: /mnt/t3nfs01/data01/shome/micheli/HHbbgg_ETH/root_files/20170509/AllNonResSig.root\n"
     ]
    }
   ],
   "source": [
    "ntuples = '20170509'\n",
    "# \"%\" sign allows to interpret the rest as a system command\n",
    "%env data=$utils.IO.ldata$ntuples\n",
    "files = ! ls $data | sort -t_ -k 3 -n\n",
    "signal = [s for s in files if \"NonRes\" in s]\n",
    "diphotonJets = [s for s in files if \"DiPhotonJets\" in s]\n",
    "gJets = [s for s in files if \"GJet\" in s]\n",
    "\n",
    "utils.IO.add_signal(ntuples,signal)\n",
    "utils.IO.add_background(ntuples,diphotonJets)\n",
    "utils.IO.add_background(ntuples,gJets)\n",
    "for i in range(len(utils.IO.backgroundName)):        \n",
    "    print \"using background file n.\"+str(i)+\": \"+utils.IO.backgroundName[i]\n",
    "for i in range(len(utils.IO.signalName)):    \n",
    "    print \"using signal file n.\"+str(i)+\": \"+utils.IO.signalName[i]"
   ]
  },
  {
   "cell_type": "code",
   "execution_count": null,
   "metadata": {
    "collapsed": true
   },
   "outputs": [],
   "source": [
    "#use noexpand for root expressions, it needs this file https://github.com/ibab/root_pandas/blob/master/root_pandas/readwrite.py\n",
    "branch_names = 'leadingJet_bDis,subleadingJet_bDis,CosThetaStar_CS,CosTheta_bb,CosTheta_gg,noexpand:diphotonCandidate.Pt(),noexpand:dijetCandidate.Pt(),noexpand:diHiggsCandidate.M()'.split(\",\")\n",
    "branch_names = [c.strip() for c in branch_names]\n",
    "branch_names = (b.replace(\" \", \"_\") for b in branch_names)\n",
    "branch_names = list(b.replace(\"-\", \"_\") for b in branch_names)\n",
    "print branch_names\n",
    "\n",
    "import pandas as pd\n",
    "import root_pandas as rpd\n",
    "\n",
    "signal_df = []\n",
    "background_df = []"
   ]
  },
  {
   "cell_type": "code",
   "execution_count": 43,
   "metadata": {
    "collapsed": false
   },
   "outputs": [
    {
     "name": "stdout",
     "output_type": "stream",
     "text": [
      "['leadingJet_bDis', 'subleadingJet_bDis', 'CosThetaStar_CS', 'CosTheta_bb', 'CosTheta_gg', 'noexpand:diphotonCandidate.Pt()', 'noexpand:dijetCandidate.Pt()', 'noexpand:diHiggsCandidate.M()']\n",
      "[         proc\n",
      "0          -1\n",
      "1          -1\n",
      "2          -1\n",
      "3          -1\n",
      "4          -1\n",
      "5          -1\n",
      "6          -1\n",
      "7          -1\n",
      "8          -1\n",
      "9          -1\n",
      "10         -1\n",
      "11         -1\n",
      "12         -1\n",
      "13         -1\n",
      "14         -1\n",
      "15         -1\n",
      "16         -1\n",
      "17         -1\n",
      "18         -1\n",
      "19         -1\n",
      "20         -1\n",
      "21         -1\n",
      "22         -1\n",
      "23         -1\n",
      "24         -1\n",
      "25         -1\n",
      "26         -1\n",
      "27         -1\n",
      "28         -1\n",
      "29         -1\n",
      "...       ...\n",
      "2443042    -1\n",
      "2443043    -1\n",
      "2443044    -1\n",
      "2443045    -1\n",
      "2443046    -1\n",
      "2443047    -1\n",
      "2443048    -1\n",
      "2443049    -1\n",
      "2443050    -1\n",
      "2443051    -1\n",
      "2443052    -1\n",
      "2443053    -1\n",
      "2443054    -1\n",
      "2443055    -1\n",
      "2443056    -1\n",
      "2443057    -1\n",
      "2443058    -1\n",
      "2443059    -1\n",
      "2443060    -1\n",
      "2443061    -1\n",
      "2443062    -1\n",
      "2443063    -1\n",
      "2443064    -1\n",
      "2443065    -1\n",
      "2443066    -1\n",
      "2443067    -1\n",
      "2443068    -1\n",
      "2443069    -1\n",
      "2443070    -1\n",
      "2443071    -1\n",
      "\n",
      "[2443072 rows x 1 columns],        proc\n",
      "0        -2\n",
      "1        -2\n",
      "2        -2\n",
      "3        -2\n",
      "4        -2\n",
      "5        -2\n",
      "6        -2\n",
      "7        -2\n",
      "8        -2\n",
      "9        -2\n",
      "10       -2\n",
      "11       -2\n",
      "12       -2\n",
      "13       -2\n",
      "14       -2\n",
      "15       -2\n",
      "16       -2\n",
      "17       -2\n",
      "18       -2\n",
      "19       -2\n",
      "20       -2\n",
      "21       -2\n",
      "22       -2\n",
      "23       -2\n",
      "24       -2\n",
      "25       -2\n",
      "26       -2\n",
      "27       -2\n",
      "28       -2\n",
      "29       -2\n",
      "...     ...\n",
      "55368    -2\n",
      "55369    -2\n",
      "55370    -2\n",
      "55371    -2\n",
      "55372    -2\n",
      "55373    -2\n",
      "55374    -2\n",
      "55375    -2\n",
      "55376    -2\n",
      "55377    -2\n",
      "55378    -2\n",
      "55379    -2\n",
      "55380    -2\n",
      "55381    -2\n",
      "55382    -2\n",
      "55383    -2\n",
      "55384    -2\n",
      "55385    -2\n",
      "55386    -2\n",
      "55387    -2\n",
      "55388    -2\n",
      "55389    -2\n",
      "55390    -2\n",
      "55391    -2\n",
      "55392    -2\n",
      "55393    -2\n",
      "55394    -2\n",
      "55395    -2\n",
      "55396    -2\n",
      "55397    -2\n",
      "\n",
      "[55398 rows x 1 columns]]\n"
     ]
    }
   ],
   "source": [
    "#use noexpand for root expressions, it needs this file https://github.com/ibab/root_pandas/blob/master/root_pandas/readwrite.py\n",
    "branch_names = 'leadingJet_bDis,subleadingJet_bDis,CosThetaStar_CS,CosTheta_bb,CosTheta_gg,noexpand:diphotonCandidate.Pt(),noexpand:dijetCandidate.Pt(),noexpand:diHiggsCandidate.M()'.split(\",\")\n",
    "branch_names = [c.strip() for c in branch_names]\n",
    "branch_names = (b.replace(\" \", \"_\") for b in branch_names)\n",
    "branch_names = list(b.replace(\"-\", \"_\") for b in branch_names)\n",
    "print branch_names\n",
    "\n",
    "import pandas as pd\n",
    "import root_pandas as rpd\n",
    "\n",
    "signal_df = []\n",
    "background_df = []\n",
    "weights_sig = []\n",
    "weights_bkg = []\n",
    "\n",
    "weights_sig.append(1)\n",
    "weights_bkg.append(0.5)\n",
    "weights_bkg.append(0.5)\n",
    "\n",
    "shuffle = True\n",
    "\n",
    "\n",
    "\n",
    "for i in range(utils.IO.nSig):\n",
    "    signal_df.append(rpd.read_root(utils.IO.signalName[i],\"bbggSelectionTree\", columns = branch_names))\n",
    "    if shuffle:\n",
    "        signal_df[i]['random_index'] = np.random.permutation(range(signal_df[i].index.size))\n",
    "        signal_df[i].sort_values(by='random_index',inplace=True)\n",
    "\n",
    "    utils.preprocessing.adjust_and_compress(signal_df[i]).to_hdf('/tmp/micheli/signal.hd5','sig',compression=9,complib='bzip2',mode='a')\n",
    "    utils.preprocessing.define_process_weight(signal_df[i],i+1,weights_sig[i])\n",
    "\n",
    "for i in range(utils.IO.nBkg):\n",
    "    background_df.append(rpd.read_root(utils.IO.backgroundName[i],\"bbggSelectionTree\", columns = branch_names))\n",
    "    utils.preprocessing.adjust_and_compress(background_df[i]).to_hdf('/tmp/micheli/background.hd5','bkg',compression=9,complib='bzip2',mode='a')\n",
    "    utils.preprocessing.define_process_weight(background_df[i],-(i+1),weights_bkg[i])\n",
    "    \n",
    "y_bkg = [x[['proc']] for x in background_df]\n",
    "print y_bkg"
   ]
  },
  {
   "cell_type": "code",
   "execution_count": null,
   "metadata": {
    "collapsed": true
   },
   "outputs": [],
   "source": []
  }
 ],
 "metadata": {
  "anaconda-cloud": {},
  "kernelspec": {
   "display_name": "Python [conda root]",
   "language": "python",
   "name": "conda-root-py"
  },
  "language_info": {
   "codemirror_mode": {
    "name": "ipython",
    "version": 2
   },
   "file_extension": ".py",
   "mimetype": "text/x-python",
   "name": "python",
   "nbconvert_exporter": "python",
   "pygments_lexer": "ipython2",
   "version": "2.7.12"
  }
 },
 "nbformat": 4,
 "nbformat_minor": 1
}
