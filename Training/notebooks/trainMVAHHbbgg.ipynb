{
 "cells": [
  {
   "cell_type": "code",
   "execution_count": 1,
   "metadata": {
    "collapsed": false
   },
   "outputs": [
    {
     "data": {
      "application/javascript": [
       "require(['codemirror/mode/clike/clike'], function(Clike) { console.log('ROOTaaS - C++ CodeMirror module loaded'); });"
      ]
     },
     "metadata": {},
     "output_type": "display_data"
    },
    {
     "data": {
      "application/javascript": [
       "IPython.CodeCell.config_defaults.highlight_modes['magic_text/x-c++src'] = {'reg':[/^%%cpp/]};"
      ]
     },
     "metadata": {},
     "output_type": "display_data"
    },
    {
     "name": "stdout",
     "output_type": "stream",
     "text": [
      "Welcome to ROOTaaS 6.06/05\n"
     ]
    },
    {
     "data": {
      "text/plain": [
       "<module 'training_utils' from '/mnt/t3nfs01/data01/shome/micheli/HHbbgg_ETH/Training/python/training_utils.pyc'>"
      ]
     },
     "execution_count": 1,
     "metadata": {},
     "output_type": "execute_result"
    }
   ],
   "source": [
    "import os\n",
    "import sys; sys.path.append(\"~/HHbbgg_ETH/Training/python\") # to load packages\n",
    "import training_utils as utils\n",
    "import numpy as np\n",
    "reload(utils)"
   ]
  },
  {
   "cell_type": "code",
   "execution_count": 2,
   "metadata": {
    "collapsed": false
   },
   "outputs": [
    {
     "name": "stdout",
     "output_type": "stream",
     "text": [
      "env: data=/mnt/t3nfs01/data01/shome/micheli/HHbbgg_ETH/root_files/20170509\n",
      "using background file:/mnt/t3nfs01/data01/shome/micheli/HHbbgg_ETH/root_files/20170509/output_DiPhotonJetsBox_MGG-80toInf_13TeV-Sherpa.root\n",
      "using signal file:/mnt/t3nfs01/data01/shome/micheli/HHbbgg_ETH/root_files/20170509/AllNonResSig.root\n"
     ]
    }
   ],
   "source": [
    "ntuples = '20170509'\n",
    "# \"%\" sign allows to interpret the rest as a system command\n",
    "%env data=$utils.IO.ldata$ntuples\n",
    "files = ! ls $data | sort -t_ -k 3 -n\n",
    "signal = [s for s in files if \"NonRes\" in s]\n",
    "background = [s for s in files if \"DiPhotonJets\" in s]\n",
    "\n",
    "utils.IO.set_signal_and_background(ntuples,signal,background)\n",
    "\n",
    "print \"using background file:\"+utils.IO.backgroundName\n",
    "print \"using signal file:\"+utils.IO.signalName"
   ]
  },
  {
   "cell_type": "code",
   "execution_count": 3,
   "metadata": {
    "collapsed": false
   },
   "outputs": [
    {
     "name": "stdout",
     "output_type": "stream",
     "text": [
      "['leadingJet_bDis', 'subleadingJet_bDis', 'CosThetaStar_CS', 'CosTheta_bb', 'CosTheta_gg']\n",
      "['diphotonCandidate', 'dijetCandidate', 'diHiggsCandidate']\n",
      "['Pt()', 'M()']\n"
     ]
    }
   ],
   "source": [
    "#normal variables: int, float, vectors...\n",
    "branch_names = 'leadingJet_bDis,subleadingJet_bDis,CosThetaStar_CS,CosTheta_bb,CosTheta_gg'.split(\",\")\n",
    "branch_names = [c.strip() for c in branch_names]\n",
    "branch_names = (b.replace(\" \", \"_\") for b in branch_names)\n",
    "branch_names = list(b.replace(\"-\", \"_\") for b in branch_names)\n",
    "print branch_names\n",
    "\n",
    "\n",
    "#tlorentz vectors\n",
    "branch_names_lorentz = 'diphotonCandidate,dijetCandidate,diHiggsCandidate'.split(\",\")\n",
    "branch_names_lorentz = [c.strip() for c in branch_names_lorentz]\n",
    "branch_names_lorentz = (b.replace(\" \", \"_\") for b in branch_names_lorentz)\n",
    "branch_names_lorentz = list(b.replace(\"-\", \"_\") for b in branch_names_lorentz)\n",
    "print branch_names_lorentz\n",
    "\n",
    "#variables we want to access in tlorenz vector\n",
    "branch_names_lorentz_var = 'Pt(),M()'.split(\",\")\n",
    "branch_names_lorentz_var = [c.strip() for c in branch_names_lorentz_var]\n",
    "branch_names_lorentz_var = (b.replace(\" \", \"_\") for b in branch_names_lorentz_var)\n",
    "branch_names_lorentz_var = list(b.replace(\"-\", \"_\") for b in branch_names_lorentz_var)\n",
    "print branch_names_lorentz_var"
   ]
  },
  {
   "cell_type": "code",
   "execution_count": 4,
   "metadata": {
    "collapsed": false
   },
   "outputs": [
    {
     "name": "stdout",
     "output_type": "stream",
     "text": [
      "name/mnt/t3nfs01/data01/shome/micheli/HHbbgg_ETH/root_files/20170509/AllNonResSig.root\n"
     ]
    }
   ],
   "source": [
    "import pandas as pd\n",
    "import root_pandas as rpd\n",
    "reload(pd)\n",
    "reload(rpd)\n",
    "print \"name\"+utils.IO.signalName\n",
    "\n",
    "signal_df = rpd.read_root_LorentzVector(utils.IO.signalName,\"bbggSelectionTree\", columns = branch_names, columns_lorentz=branch_names_lorentz,columns_lorentz_var=branch_names_\\\n",
    "lorentz_var)\n",
    "background_df = rpd.read_root_LorentzVector(utils.IO.backgroundName,\"bbggSelectionTree\", columns = branch_names, columns_lorentz=branch_names_lorentz,columns_lorentz_var=branch_names_\\\n",
    "lorentz_var)\n",
    "#example for converting files into csv. useful for plotting\n",
    "signal_df.to_csv('/tmp/micheli/prova.csv',',',mode='w')"
   ]
  },
  {
   "cell_type": "code",
   "execution_count": 5,
   "metadata": {
    "collapsed": false
   },
   "outputs": [
    {
     "name": "stdout",
     "output_type": "stream",
     "text": [
      "      Iter       Train Loss   Remaining Time \n",
      "         1           0.5942           17.72m\n",
      "         2           0.5401           19.59m\n",
      "         3           0.5009           19.06m\n",
      "         4           0.4704           17.50m\n",
      "         5           0.4460           16.06m\n",
      "         6           0.4256           15.04m\n",
      "         7           0.4086           14.26m\n",
      "         8           0.3937           13.67m\n",
      "         9           0.3810           13.19m\n",
      "        10           0.3700           12.79m\n",
      "        20           0.3128           11.21m\n",
      "        30           0.2948           11.44m\n",
      "        40           0.2877           10.42m\n",
      "        50           0.2841            9.58m\n",
      "        60           0.2819            8.84m\n",
      "        70           0.2803            8.15m\n",
      "        80           0.2792            7.37m\n",
      "        90           0.2784            6.63m\n",
      "       100           0.2778            5.96m\n",
      "       200           0.2735            0.00s\n"
     ]
    },
    {
     "data": {
      "text/plain": [
       "GradientBoostingClassifier(criterion='friedman_mse', init=None,\n",
       "              learning_rate=0.1, loss='deviance', max_depth=5,\n",
       "              max_features=None, max_leaf_nodes=None,\n",
       "              min_impurity_split=1e-07, min_samples_leaf=1,\n",
       "              min_samples_split=2, min_weight_fraction_leaf=0.0001,\n",
       "              n_estimators=200, presort='auto', random_state=None,\n",
       "              subsample=1.0, verbose=1, warm_start=False)"
      ]
     },
     "execution_count": 5,
     "metadata": {},
     "output_type": "execute_result"
    }
   ],
   "source": [
    "from sklearn import ensemble\n",
    "clf = ensemble.GradientBoostingClassifier(max_depth=5,learning_rate=0.1,n_estimators=100,min_weight_fraction_leaf=1e-4,verbose=1)\n",
    "#clf = ensemble.AdaBoostClassifier(n_estimators=100)\n",
    "\n",
    "utils.preprocessing.adjust_and_compress(signal_df).to_hdf('/tmp/micheli/signal.hd5','sig',compression=9,complib='bzip2',mode='w')\n",
    "utils.preprocessing.adjust_and_compress(background_df).to_hdf('/tmp/micheli/background.hd5','bkg',compression=9,complib='bzip2',mode='w')\n",
    "\n",
    "utils.preprocessing.define_process_weight(signal_df,1,1)\n",
    "utils.preprocessing.define_process_weight(background_df,0,1)\n",
    "\n",
    "y_sig = signal_df[['proc']]\n",
    "y_bkg = background_df[['proc']]\n",
    "y_total_train = utils.preprocessing.get_total_training_sample(y_sig,y_bkg).ravel()\n",
    "\n",
    "\n",
    "X_sig= np.concatenate([signal_df[['leadingJet_bDis','subleadingJet_bDis']],\n",
    "                             np.divide(signal_df[['diphotonCandidate.Pt()']],signal_df[['diHiggsCandidate.M()']]),\n",
    "                             np.divide(signal_df[['dijetCandidate.Pt()']],signal_df[['diHiggsCandidate.M()']]),\n",
    "                             np.absolute(signal_df[['CosThetaStar_CS']]),\n",
    "                             np.absolute(signal_df[['CosTheta_bb']]),\n",
    "                             np.absolute(signal_df[['CosTheta_gg']])],\n",
    "                             axis=1)\n",
    "\n",
    "X_bkg = np.concatenate([background_df[['leadingJet_bDis','subleadingJet_bDis']],\n",
    "                             np.divide(background_df[['diphotonCandidate.Pt()']],background_df[['diHiggsCandidate.M()']]),\n",
    "                             np.divide(background_df[['dijetCandidate.Pt()']],background_df[['diHiggsCandidate.M()']]),\n",
    "                             np.absolute(background_df[['CosThetaStar_CS']]),\n",
    "                             np.absolute(background_df[['CosTheta_bb']]),\n",
    "                             np.absolute(background_df[['CosTheta_gg']])],\n",
    "                             axis=1)\n",
    "\n",
    "X_total_train = utils.preprocessing.get_total_training_sample(pd.DataFrame(X_sig),pd.DataFrame(X_bkg))\n",
    "\n",
    "clf.fit(X_total_train,y_total_train)"
   ]
  },
  {
   "cell_type": "code",
   "execution_count": 6,
   "metadata": {
    "collapsed": false
   },
   "outputs": [
    {
     "data": {
      "image/png": "[encoded data removed]",
      "text/plain": [
       "<matplotlib.figure.Figure at 0x7fd15566d290>"
      ]
     },
     "metadata": {},
     "output_type": "display_data"
    }
   ],
   "source": [
    "import matplotlib.pyplot as plt\n",
    "\n",
    "X_sig_train = utils.preprocessing.get_training_sample(pd.DataFrame(X_sig))\n",
    "X_bkg_train = utils.preprocessing.get_training_sample(pd.DataFrame(X_bkg))\n",
    "\n",
    "X_sig_test = utils.preprocessing.get_test_sample(pd.DataFrame(X_sig))\n",
    "X_bkg_test = utils.preprocessing.get_test_sample(pd.DataFrame(X_bkg))\n",
    "\n",
    "Y_pred_sig_train = clf.decision_function(X_sig_train).ravel()\n",
    "Y_pred_bkg_train = clf.decision_function(X_bkg_train).ravel()\n",
    "Y_pred_sig_test = clf.decision_function(X_sig_test).ravel()\n",
    "Y_pred_bkg_test = clf.decision_function(X_bkg_test).ravel()\n",
    "\n",
    "utils.plotting.plot_classifier_output(clf,X_sig_train,X_bkg_train,X_sig_test,X_bkg_test)\n",
    "\n",
    "plt.show()"
   ]
  },
  {
   "cell_type": "code",
   "execution_count": 7,
   "metadata": {
    "collapsed": false
   },
   "outputs": [
    {
     "data": {
      "image/png": "[encoded data removed]",
      "text/plain": [
       "<matplotlib.figure.Figure at 0x7fd1187b7550>"
      ]
     },
     "metadata": {},
     "output_type": "display_data"
    }
   ],
   "source": [
    "from sklearn.tree import DecisionTreeClassifier\n",
    "clf =  ensemble.AdaBoostClassifier(DecisionTreeClassifier(),\n",
    "                         n_estimators=100)\n",
    "clf.fit(X_total_train,y_total_train)\n",
    "X_sig_train = utils.preprocessing.get_training_sample(pd.DataFrame(X_sig))\n",
    "X_bkg_train = utils.preprocessing.get_training_sample(pd.DataFrame(X_bkg))\n",
    "\n",
    "X_sig_test = utils.preprocessing.get_test_sample(pd.DataFrame(X_sig))\n",
    "X_bkg_test = utils.preprocessing.get_test_sample(pd.DataFrame(X_bkg))\n",
    "\n",
    "Y_pred_sig_train = clf.decision_function(X_sig_train).ravel()\n",
    "Y_pred_bkg_train = clf.decision_function(X_bkg_train).ravel()\n",
    "Y_pred_sig_test = clf.decision_function(X_sig_test).ravel()\n",
    "Y_pred_bkg_test = clf.decision_function(X_bkg_test).ravel()\n",
    "\n",
    "utils.plotting.plot_classifier_output(clf,X_sig_train,X_bkg_train,X_sig_test,X_bkg_test)\n",
    "\n",
    "plt.show()"
   ]
  },
  {
   "cell_type": "code",
   "execution_count": null,
   "metadata": {
    "collapsed": false
   },
   "outputs": [],
   "source": [
    "print Y_pred_sig_train\n",
    "print Y_pred_bkg_train\n",
    "print Y_pred_sig_test"
   ]
  },
  {
   "cell_type": "code",
   "execution_count": null,
   "metadata": {
    "collapsed": false
   },
   "outputs": [],
   "source": [
    "from sklearn.svm import SVC\n",
    "clf =  SVC(C = 1.0, kernel = 'rbf',tol=0.01,gamma=0.005, verbose=1) \n",
    "clf.fit(X_total_train,y_total_train)\n",
    "X_sig_train = utils.preprocessing.get_training_sample(pd.DataFrame(X_sig))\n",
    "X_bkg_train = utils.preprocessing.get_training_sample(pd.DataFrame(X_bkg))\n",
    "\n",
    "X_sig_test = utils.preprocessing.get_test_sample(pd.DataFrame(X_sig))\n",
    "X_bkg_test = utils.preprocessing.get_test_sample(pd.DataFrame(X_bkg))\n",
    "\n",
    "Y_pred_sig_train = clf.decision_function(X_sig_train).ravel()\n",
    "Y_pred_bkg_train = clf.decision_function(X_bkg_train).ravel()\n",
    "Y_pred_sig_test = clf.decision_function(X_sig_test).ravel()\n",
    "Y_pred_bkg_test = clf.decision_function(X_bkg_test).ravel()\n",
    "\n",
    "utils.plotting.plot_classifier_output(clf,X_sig_train,X_bkg_train,X_sig_test,X_bkg_test)\n",
    "\n",
    "plt.show()"
   ]
  },
  {
   "cell_type": "code",
   "execution_count": null,
   "metadata": {
    "collapsed": true
   },
   "outputs": [],
   "source": []
  }
 ],
 "metadata": {
  "anaconda-cloud": {},
  "kernelspec": {
   "display_name": "Python [default]",
   "language": "python",
   "name": "python2"
  },
  "language_info": {
   "codemirror_mode": {
    "name": "ipython",
    "version": 2
   },
   "file_extension": ".py",
   "mimetype": "text/x-python",
   "name": "python",
   "nbconvert_exporter": "python",
   "pygments_lexer": "ipython2",
   "version": "2.7.12"
  }
 },
 "nbformat": 4,
 "nbformat_minor": 1
}
