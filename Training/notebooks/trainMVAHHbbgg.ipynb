{
 "cells": [
  {
   "cell_type": "code",
   "execution_count": 1,
   "metadata": {
    "collapsed": false
   },
   "outputs": [
    {
     "data": {
      "application/javascript": [
       "require(['codemirror/mode/clike/clike'], function(Clike) { console.log('ROOTaaS - C++ CodeMirror module loaded'); });"
      ]
     },
     "metadata": {},
     "output_type": "display_data"
    },
    {
     "data": {
      "application/javascript": [
       "IPython.CodeCell.config_defaults.highlight_modes['magic_text/x-c++src'] = {'reg':[/^%%cpp/]};"
      ]
     },
     "metadata": {},
     "output_type": "display_data"
    },
    {
     "name": "stdout",
     "output_type": "stream",
     "text": [
      "Welcome to ROOTaaS 6.06/05\n"
     ]
    },
    {
     "data": {
      "text/plain": [
       "<module 'training_utils' from '/mnt/t3nfs01/data01/shome/micheli/HHbbgg_ETH/Training/python/training_utils.pyc'>"
      ]
     },
     "execution_count": 1,
     "metadata": {},
     "output_type": "execute_result"
    }
   ],
   "source": [
    "import os\n",
    "import sys; sys.path.append(\"~/HHbbgg_ETH/Training/python\") # to load packages\n",
    "import training_utils as utils\n",
    "import numpy as np\n",
    "reload(utils)"
   ]
  },
  {
   "cell_type": "code",
   "execution_count": 2,
   "metadata": {
    "collapsed": false
   },
   "outputs": [
    {
     "name": "stdout",
     "output_type": "stream",
     "text": [
      "env: data=/mnt/t3nfs01/data01/shome/micheli/HHbbgg_ETH/root_files/20170509\n",
      "using background file:/mnt/t3nfs01/data01/shome/micheli/HHbbgg_ETH/root_files/20170509/output_DiPhotonJetsBox_MGG-80toInf_13TeV-Sherpa.root\n",
      "using signal file:/mnt/t3nfs01/data01/shome/micheli/HHbbgg_ETH/root_files/20170509/AllNonResSig.root\n"
     ]
    }
   ],
   "source": [
    "ntuples = '20170509'\n",
    "# \"%\" sign allows to interpret the rest as a system command\n",
    "%env data=$utils.IO.ldata$ntuples\n",
    "files = ! ls $data | sort -t_ -k 3 -n\n",
    "signal = [s for s in files if \"NonRes\" in s]\n",
    "background = [s for s in files if \"DiPhotonJets\" in s]\n",
    "\n",
    "utils.IO.set_signal_and_background(ntuples,signal,background)\n",
    "\n",
    "print \"using background file:\"+utils.IO.backgroundName\n",
    "print \"using signal file:\"+utils.IO.signalName"
   ]
  },
  {
   "cell_type": "code",
   "execution_count": 8,
   "metadata": {
    "collapsed": false
   },
   "outputs": [
    {
     "name": "stdout",
     "output_type": "stream",
     "text": [
      "['diphotonCandidate', 'dijetCandidate', 'diHiggsCandidate']\n",
      "['Pt()', 'M()']\n"
     ]
    }
   ],
   "source": [
    "#normal variables: int, float, vectors...\n",
    "branch_names = 'leadingJet_bDis,subleadingJet_bDis,CosThetaStar_CS,CosTheta_bb,CosTheta_gg'.split(\",\")\n",
    "branch_names = [c.strip() for c in branch_names]\n",
    "branch_names = (b.replace(\" \", \"_\") for b in branch_names)\n",
    "branch_names = list(b.replace(\"-\", \"_\") for b in branch_names)\n",
    "\n",
    "#tlorentz vectors\n",
    "branch_names_lorentz = 'didiphotonCandidate,dijetCandidate,diHiggsCandidate'.split(\",\")\n",
    "branch_names_lorentz = [c.strip() for c in branch_names_lorentz]\n",
    "branch_names_lorentz = (b.replace(\" \", \"_\") for b in branch_names_lorentz)\n",
    "branch_names_lorentz = list(b.replace(\"-\", \"_\") for b in branch_names_lorentz)\n",
    "print branch_names_lorentz\n",
    "\n",
    "#variables we want to access in tlorenz vector\n",
    "branch_names_lorentz_var = 'Pt(),M()'.split(\",\")\n",
    "branch_names_lorentz_var = [c.strip() for c in branch_names_lorentz_var]\n",
    "branch_names_lorentz_var = (b.replace(\" \", \"_\") for b in branch_names_lorentz_var)\n",
    "branch_names_lorentz_var = list(b.replace(\"-\", \"_\") for b in branch_names_lorentz_var)\n",
    "print branch_names_lorentz_var"
   ]
  },
  {
   "cell_type": "code",
   "execution_count": 9,
   "metadata": {
    "collapsed": false
   },
   "outputs": [
    {
     "name": "stdout",
     "output_type": "stream",
     "text": [
      "name/mnt/t3nfs01/data01/shome/micheli/HHbbgg_ETH/root_files/20170509/AllNonResSig.root\n",
      "#################################################################################3\n",
      "#################################################################################3\n"
     ]
    }
   ],
   "source": [
    "import pandas as pd\n",
    "import root_pandas as rpd\n",
    "reload(pd)\n",
    "reload(rpd)\n",
    "print \"name\"+utils.IO.signalName\n",
    "\n",
    "signal_df = rpd.read_root_LorentzVector(utils.IO.signalName,\"bbggSelectionTree\", columns = branch_names, columns_lorentz=branch_names_lorentz,columns_lorentz_var=branch_names_\\\n",
    "lorentz_var)\n",
    "background_df = rpd.read_root_LorentzVector(utils.IO.backgroundName,\"bbggSelectionTree\", columns = branch_names, columns_lorentz=branch_names_lorentz,columns_lorentz_var=branch_names_\\\n",
    "lorentz_var)\n",
    "#example for converting files into csv. useful for plotting\n",
    "signal_df.to_csv('/tmp/micheli/prova.csv',',',mode='w')"
   ]
  },
  {
   "cell_type": "code",
   "execution_count": 60,
   "metadata": {
    "collapsed": false
   },
   "outputs": [
    {
     "name": "stdout",
     "output_type": "stream",
     "text": [
      "6871625\n",
      "[[ 0.91113281  0.99365234  0.63279173  0.17651367  0.44995117]\n",
      " [ 0.76269531  0.59814453  0.25899156  0.13085938  0.88818359]\n",
      " [ 0.81054688  0.58447266  0.47056144  0.25805664  0.33422852]\n",
      " ..., \n",
      " [ 0.08734131  0.99316406  0.12315373  0.83544922  0.37304688]\n",
      " [ 0.47192383  0.15869141  0.169512    0.97460938  0.55908203]\n",
      " [ 0.35083008  0.54394531  0.29020381  0.49682617  0.14306641]]\n"
     ]
    }
   ],
   "source": [
    "from sklearn import ensemble\n",
    "clf = ensemble.GradientBoostingClassifier(max_depth=5,learning_rate=0.2,n_estimators=100,min_weight_fraction_leaf=1e-4,verbose=1)\n",
    "#clf = ensemble.AdaBoostClassifier(n_estimators=100)\n",
    "\n",
    "utils.preprocessing.adjust_and_compress(signal_df).to_hdf('/tmp/micheli/signal.hd5','qcd',compression=9,complib='bzip2',mode='w')\n",
    "utils.preprocessing.adjust_and_compress(background_df).to_hdf('/tmp/micheli/signal.hd5','qcd',compression=9,complib='bzip2',mode='w')\n",
    "\n",
    "utils.preprocessing.define_process_weight(signal_df,1,1)\n",
    "utils.preprocessing.define_process_weight(background_df,0,1)\n",
    "\n",
    "y_sig = signal_df[['proc']]\n",
    "y_bkg = background_df[['proc']]\n",
    "y_total_train = utils.preprocessing.get_total_training_sample(y_sig,y_bkg).ravel()\n",
    "\n",
    "\n",
    "X_sig= np.concatenate([signal_df[['leadingJet_bDis','subleadingJet_bDis']],\n",
    "                             np.divide(signal_df[['diphotonCandidate.Pt()']],signal_df[['diHiggsCandidate.M()']]),\n",
    "                             np.absolute(signal_df[['CosThetaStar_CS']]),\n",
    "                             np.absolute(signal_df[['CosTheta_bb']])],\n",
    "                             axis=1)\n",
    "#X_sig_additional = np.concatenate([np.divide(signal_df[['diphotonCandidate.Pt()']],signal_df[['diHiggsCandidate.M()']])])\n",
    "\n",
    "#X_bkg = background_df[['leadingJet_bDis','subleadingJet_bDis']]\n",
    "X_bkg = np.concatenate([background_df[['leadingJet_bDis','subleadingJet_bDis']],\n",
    "                             np.divide(background_df[['diphotonCandidate.Pt()']],background_df[['diHiggsCandidate.M()']]),\n",
    "                             np.absolute(background_df[['CosThetaStar_CS']]),\n",
    "                             np.absolute(background_df[['CosTheta_bb']])],\n",
    "                             axis=1)\n",
    "\n",
    "\n",
    "#X_total_train = utils.preprocessing.get_total_training_sample(X_sig,X_bkg)\n",
    "X_total_train = utils.preprocessing.get_total_training_sample(pd.DataFrame(X_sig),pd.DataFrame(X_bkg))\n",
    "\n",
    "#print X_total_train.size\n",
    "print X_total_train.size\n",
    "\n",
    "#print X_total_train\n",
    "print X_total_train\n"
   ]
  },
  {
   "cell_type": "code",
   "execution_count": 55,
   "metadata": {
    "collapsed": false
   },
   "outputs": [
    {
     "name": "stdout",
     "output_type": "stream",
     "text": [
      "ciao\n"
     ]
    }
   ],
   "source": [
    "X_totalissimo = np.concatenate([X_total_train,X_total_train_additional],axis=1)\n",
    "\n",
    "X_totalissimo = np.append(X_total_train,X_total_train_additional,axis=1)\n",
    "\n",
    "print \"ciao\""
   ]
  },
  {
   "cell_type": "code",
   "execution_count": null,
   "metadata": {
    "collapsed": true
   },
   "outputs": [],
   "source": []
  }
 ],
 "metadata": {
  "anaconda-cloud": {},
  "kernelspec": {
   "display_name": "Python [default]",
   "language": "python",
   "name": "python2"
  },
  "language_info": {
   "codemirror_mode": {
    "name": "ipython",
    "version": 2
   },
   "file_extension": ".py",
   "mimetype": "text/x-python",
   "name": "python",
   "nbconvert_exporter": "python",
   "pygments_lexer": "ipython2",
   "version": "2.7.12"
  }
 },
 "nbformat": 4,
 "nbformat_minor": 1
}
