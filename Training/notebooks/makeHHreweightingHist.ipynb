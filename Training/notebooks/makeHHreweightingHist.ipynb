{
 "cells": [
  {
   "cell_type": "code",
   "execution_count": 16,
   "metadata": {
    "collapsed": false
   },
   "outputs": [],
   "source": [
    "import os\n",
    "import sys; sys.path.append(\"~/HHbbgg_ETH_devel/Training/python\") # to load packages\n",
    "import training_utils as utils\n",
    "import numpy as np\n",
    "reload(utils)\n",
    "import plotting_utils as plotting\n",
    "reload(plotting)\n",
    "import optimization_utils as optimization\n",
    "reload(optimization)\n",
    "import postprocessing_utils as postprocessing\n",
    "reload(postprocessing)\n",
    "import ROOT\n",
    "from ROOT import TChain, TTree,TCanvas,TH1F,TList,TFile,TH2F,TPaveLabel,TPaveText,TLorentzVector"
   ]
  },
  {
   "cell_type": "code",
   "execution_count": 28,
   "metadata": {
    "collapsed": true
   },
   "outputs": [],
   "source": [
    "#file_dir = '/shome/nchernya/CMSSW_9_4_9/src/flashgg/output_oldnodes2016_30_01_2018/'   #2016 old nodes\n",
    "file_dir = '/shome/nchernya/HHbbgg_ETH_devel/root_files/HHreweighting_01_02_2018/'   #2017 nodes \n",
    "out_dir = '/shome/nchernya/HHbbgg_ETH_devel/root_files/HHreweighting_01_02_2018/'\n",
    "year = '2017'\n",
    "#outname = 'output_GluGluToHHTo2B2G_mix12nodes_13TeV-madgraph_%s.root'%year\n",
    "outname = 'output_GluGluToHHTo2B2G_mix6nodes_13TeV-madgraph_%s.root'%year\n",
    "#inname = 'output_GluGluToHHTo2B2G_12nodes_13TeV-madgraph.root'\n",
    "inname = 'output_GluGluToHHTo2B2G_6nodes_13TeV-madgraph_correctedcfg.root'\n",
    "chainsGen = []\n"
   ]
  },
  {
   "cell_type": "code",
   "execution_count": 29,
   "metadata": {
    "collapsed": false
   },
   "outputs": [],
   "source": [
    "out = TFile(out_dir+outname,'recreate')\n",
    "gen_events_per_node = []\n",
    "filename = file_dir+inname    \n",
    "file = TFile(filename)\n",
    "dirGen = file.GetDirectory('genDiphotonDumper')\n",
    "dirGen = dirGen.GetDirectory('trees')\n",
    "tlistGen = TList()\n",
    "#for i in range(2,14): #for 2016\n",
    "for i in [2,3,4,7,9,12]: #for 2017\n",
    "    name = 'GluGluToHHTo2B2G_node_%d_13TeV_madgraph_correctedcfg_13TeV_DoubleHTag_0'%(i)\n",
    "    name_all = 'GluGluToHHTo2B2G_node_%d_13TeV_madgraph_correctedcfg_13TeV_NoTag_0'%(i)\n",
    "    treeGen = dirGen.Get(name)\n",
    "    treeGen_all = dirGen.Get(name_all)\n",
    "    tlistGen.Add(treeGen)\n",
    "    tlistGen.Add(treeGen_all)\n",
    "out.cd()\n",
    "newtreeGen = (TTree.MergeTrees(tlistGen)).Clone('GluGluToHHTo2B2G_mixnodes_GenAll')\n",
    "newtreeGen.SetName('GluGluToHHTo2B2G_mixnodes_GenAll')\n",
    "newtreeGen.Write()\n",
    "out.Close()"
   ]
  },
  {
   "cell_type": "code",
   "execution_count": null,
   "metadata": {
    "collapsed": true
   },
   "outputs": [],
   "source": []
  }
 ],
 "metadata": {
  "anaconda-cloud": {},
  "kernelspec": {
   "display_name": "Python [conda root]",
   "language": "python",
   "name": "conda-root-py"
  },
  "language_info": {
   "codemirror_mode": {
    "name": "ipython",
    "version": 2
   },
   "file_extension": ".py",
   "mimetype": "text/x-python",
   "name": "python",
   "nbconvert_exporter": "python",
   "pygments_lexer": "ipython2",
   "version": "2.7.12"
  }
 },
 "nbformat": 4,
 "nbformat_minor": 1
}
