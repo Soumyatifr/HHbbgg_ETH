{
 "cells": [
  {
   "cell_type": "code",
   "execution_count": 7,
   "metadata": {
    "collapsed": true
   },
   "outputs": [],
   "source": [
    "import os\n",
    "import sys; sys.path.append(\"~/HHbbgg_ETH/Training/python\") # to load packages\n",
    "import IO as io\n",
    "reload(io)"
   ]
  },
  {
   "cell_type": "code",
   "execution_count": 45,
   "metadata": {
    "collapsed": false
   },
   "outputs": [
    {
     "name": "stdout",
     "output_type": "stream",
     "text": [
      "env: data=$IO.ldata/$ntuples\\n\n"
     ]
    },
    {
     "data": {
      "text/plain": [
       "['ls: cannot access $IO.ldata/$ntuples\\\\n: No such file or directory']"
      ]
     },
     "execution_count": 45,
     "metadata": {},
     "output_type": "execute_result"
    }
   ],
   "source": [
    "ntuples = '20170509'\n",
    "# \"%\" sign allows to interpret the rest as a system command\n",
    "%env data=$IO.ldata/$ntuples\\n\n",
    "folders = ! ls $data | sort -t_ -k 3 -n\n",
    "folders"
   ]
  },
  {
   "cell_type": "code",
   "execution_count": 28,
   "metadata": {
    "collapsed": true
   },
   "outputs": [],
   "source": [
    "import numpy as np"
   ]
  },
  {
   "cell_type": "code",
   "execution_count": 29,
   "metadata": {
    "collapsed": true
   },
   "outputs": [],
   "source": [
    "branch_names = 'leadingJet.Pt(),leadingPhoton.Pt()'.split(\",\")"
   ]
  },
  {
   "cell_type": "code",
   "execution_count": 30,
   "metadata": {
    "collapsed": true
   },
   "outputs": [],
   "source": [
    "branch_names = [c.strip() for c in branch_names]\n",
    "branch_names = (b.replace(\" \", \"_\") for b in branch_names)\n",
    "branch_names = list(b.replace(\"-\", \"_\") for b in branch_names)"
   ]
  },
  {
   "cell_type": "code",
   "execution_count": null,
   "metadata": {
    "collapsed": false
   },
   "outputs": [],
   "source": [
    "signal = adjust_and_compress().to_hdf('/scratch/musella/qcd_all_br_flt16.hd5','qcd',compression=9,complib='bzip2',mode='w')"
   ]
  },
  {
   "cell_type": "code",
   "execution_count": null,
   "metadata": {
    "collapsed": true
   },
   "outputs": [],
   "source": []
  }
 ],
 "metadata": {
  "anaconda-cloud": {},
  "kernelspec": {
   "display_name": "Python [default]",
   "language": "python",
   "name": "python2"
  },
  "language_info": {
   "codemirror_mode": {
    "name": "ipython",
    "version": 2
   },
   "file_extension": ".py",
   "mimetype": "text/x-python",
   "name": "python",
   "nbconvert_exporter": "python",
   "pygments_lexer": "ipython2",
   "version": "2.7.12"
  }
 },
 "nbformat": 4,
 "nbformat_minor": 1
}
