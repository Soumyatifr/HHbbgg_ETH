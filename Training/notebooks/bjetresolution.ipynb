{
 "cells": [
  {
   "cell_type": "code",
   "execution_count": 1,
   "metadata": {
    "collapsed": false
   },
   "outputs": [
    {
     "data": {
      "application/javascript": [
       "require(['codemirror/mode/clike/clike'], function(Clike) { console.log('ROOTaaS - C++ CodeMirror module loaded'); });"
      ]
     },
     "metadata": {},
     "output_type": "display_data"
    },
    {
     "data": {
      "application/javascript": [
       "IPython.CodeCell.config_defaults.highlight_modes['magic_text/x-c++src'] = {'reg':[/^%%cpp/]};"
      ]
     },
     "metadata": {},
     "output_type": "display_data"
    },
    {
     "name": "stdout",
     "output_type": "stream",
     "text": [
      "Welcome to ROOTaaS 6.06/02\n"
     ]
    }
   ],
   "source": [
    "import os\n",
    "import sys; sys.path.append(\"~/HHbbgg_ETH_devel/Training/python\") # to load packages\n",
    "import training_utils as utils\n",
    "import numpy as np\n",
    "reload(utils)\n",
    "import preprocessing_utils as preprocessing\n",
    "reload(preprocessing)\n",
    "import plotting_utils as plotting\n",
    "reload(plotting)\n",
    "import optimization_utils as optimization\n",
    "reload(optimization)\n",
    "import postprocessing_utils as postprocessing\n",
    "reload(postprocessing)\n",
    "import pandas as pd\n",
    "import root_pandas as rpd\n",
    "import matplotlib.pyplot as plt\n"
   ]
  },
  {
   "cell_type": "code",
   "execution_count": 2,
   "metadata": {
    "collapsed": true
   },
   "outputs": [],
   "source": [
    "#dirpath='/work/nchernya/CMSSW_9_4_9/src/flashgg/output_trees_nottH_properSM2016GEN_11_03_2019/output_GluGluToHHTo2B2G_node_SM_13TeV-madgraph.root'\n",
    "dirpath='/work/nchernya/CMSSW_9_4_9/src/flashgg/output_trees_nottH_properSM2017_11_03_2019/output_GluGluToHHTo2B2G_node_SM_13TeV-madgraph.root'\n",
    "\n",
    "treename='GluGluToHHTo2B2G_node_SM_13TeV_madgraph_13TeV_DoubleHTag_0'\n",
    "treepath='tagsDumper/trees/'"
   ]
  },
  {
   "cell_type": "code",
   "execution_count": 3,
   "metadata": {
    "collapsed": false
   },
   "outputs": [],
   "source": [
    "df = rpd.read_root(dirpath,treepath+treename)"
   ]
  },
  {
   "cell_type": "code",
   "execution_count": 4,
   "metadata": {
    "collapsed": false
   },
   "outputs": [
    {
     "name": "stdout",
     "output_type": "stream",
     "text": [
      "False\n"
     ]
    }
   ],
   "source": [
    "print any(df.isnull().any()) # no NANs in the dataframe"
   ]
  },
  {
   "cell_type": "code",
   "execution_count": 5,
   "metadata": {
    "collapsed": true
   },
   "outputs": [],
   "source": [
    "import ROOT\n",
    "from ROOT import TFile, TH1F, TCanvas, gROOT, TLorentzVector,TH1,TH1F"
   ]
  },
  {
   "cell_type": "code",
   "execution_count": 6,
   "metadata": {
    "collapsed": true
   },
   "outputs": [],
   "source": [
    "final_dijetM = []\n",
    "final_dijetPt = []\n",
    "final_diHiggsM=[]\n",
    "final_diHiggsPt=[]\n",
    "final_MX=[]\n",
    "final_jet1_pt=[]\n",
    "final_jet2_pt=[]\n",
    "for index, row in df.iterrows():\n",
    "    dijetM = 0\n",
    "    dijetPt = 0\n",
    "    diHiggsM = 0\n",
    "    diHiggsPt = 0\n",
    "    jet1, jet2, diphoton = TLorentzVector(),TLorentzVector(),TLorentzVector()\n",
    "    jet1_reg, jet2_reg = TLorentzVector(),TLorentzVector()\n",
    "    jet1.SetPtEtaPhiM(row['leadingJet_pt']/row['leadingJet_bRegNNCorr'],row['leadingJet_eta'],row['leadingJet_phi'],row['leadingJet_mass'])\n",
    "    jet2.SetPtEtaPhiM(row['subleadingJet_pt']/row['subleadingJet_bRegNNCorr'],row['subleadingJet_eta'],row['subleadingJet_phi'],row['subleadingJet_mass'])\n",
    "    diphoton.SetPtEtaPhiM(row['diphoton_pt'],row['diphoton_eta'],row['diphoton_phi'],row['CMS_hgg_mass'])\n",
    "    dijetM = (jet1+jet2).M()\n",
    "    dijetPt = (jet1+jet2).Pt()\n",
    "    diHiggsM = (jet1+jet2+diphoton).M()\n",
    "    diHiggsPt = (jet1+jet2+diphoton).Pt()\n",
    "\n",
    "    final_dijetM.append(dijetM)\n",
    "    final_dijetPt.append(dijetPt)     \n",
    "    final_diHiggsM.append(diHiggsM)\n",
    "    final_diHiggsPt.append(diHiggsPt)\n",
    "    final_MX.append(diHiggsM - dijetM-diphoton.M()+250)\n",
    "    final_jet1_pt.append(jet1.Pt())\n",
    "    final_jet2_pt.append(jet2.Pt())\n",
    "\n"
   ]
  },
  {
   "cell_type": "code",
   "execution_count": null,
   "metadata": {
    "collapsed": true
   },
   "outputs": [],
   "source": [
    "df['dijetM_notregressed'] = final_dijetM\n",
    "df['dijetPt_notregressed'] = final_dijetPt\n",
    "df['diHiggsPt_notregressed'] = final_diHiggsPt\n",
    "df['diHiggsM_notregressed'] = final_diHiggsM\n",
    "df['MX_notregressed'] = final_MX\n",
    "df['dijetPt_higgsM_notregressed'] = [final_dijetPt[i]/final_diHiggsM[i] for i in range(len(final_diHiggsM))]\n",
    "df['dijetPt_higgsM'] = df['dijet_pt']/df['diHiggs_mass']\n",
    "df['jet1_pt_notregressed'] = final_jet1_pt\n",
    "df['jet2_pt_notregressed'] = final_jet2_pt"
   ]
  },
  {
   "cell_type": "code",
   "execution_count": null,
   "metadata": {
    "collapsed": true
   },
   "outputs": [],
   "source": [
    "cut = 'jet1_pt_notregressed>20 & jet2_pt_notregressed>20 & subleadingJet_pt>20 & leadingJet_pt>20 '\n",
    "df = df.query(cut)"
   ]
  },
  {
   "cell_type": "code",
   "execution_count": null,
   "metadata": {
    "collapsed": false
   },
   "outputs": [],
   "source": [
    "jets='subleading,leading'.split(',')\n",
    "ofwhat='pt,eta'.split(',')\n",
    "ranges = [[20,300],[-3.,3]]\n",
    "binning = [50,20]\n",
    "colors=['r','g']\n",
    "colors2=['b','c']\n",
    "markers=['s','o']"
   ]
  },
  {
   "cell_type": "code",
   "execution_count": null,
   "metadata": {
    "collapsed": false
   },
   "outputs": [],
   "source": [
    "pathsave='/mnt/t3nfs01/data01/shome/nchernya/HHbbgg_ETH_devel/Training/plots/applied_breg_ptcut/21_03_2019/'"
   ]
  },
  {
   "cell_type": "code",
   "execution_count": null,
   "metadata": {
    "collapsed": false
   },
   "outputs": [],
   "source": [
    "for num_what,what in enumerate(ofwhat):\n",
    "    for num,obj in enumerate(jets):\n",
    "        X_what = (df['%sJet_%s'%(obj,what)]).values.reshape(-1,1)\n",
    "        res = (df['%sJet_bRegNNResolution'%(obj)]).values.reshape(-1,1)\n",
    "        ran = ranges[num_what]\n",
    "        bins = binning[num_what]\n",
    "        \n",
    "        bins, y_mean_pt, y_std_pt, y_qt_pt = preprocessing.profile(res,X_what,range=ran,bins=bins,uniform=False,quantiles=np.array([0.25,0.4,0.5,0.75]))\n",
    "        y_median_pt = y_qt_pt[2]\n",
    "        y_25_pt,y_40_pt,y_75_pt = y_qt_pt[0],y_qt_pt[1],y_qt_pt[3]\n",
    "        y_iqr2_pt =  y_qt_pt[0],y_qt_pt[3]\n",
    "        err_iqr2 =  0.5*(y_qt_pt[3]-y_qt_pt[0])\n",
    "        binc = 0.5*(bins[1:]+bins[:-1])\n",
    "     #   print bins[:10]\n",
    "\n",
    "       # plt.scatter(binc,y_mean_pt,color=colors[num],marker=markers[num],label='%s Jet'%obj) #mean\n",
    "        plt.scatter(binc,y_median_pt,color=colors[num],marker=markers[num],label='%s Jet'%obj)\n",
    "\n",
    "    plt.grid(alpha=0.2,linestyle='--',markevery=2)\n",
    "    axes = plt.gca()\n",
    "    ymin, ymax = (plt.gca()).get_ylim()\n",
    "    xmin, xmax = (plt.gca()).get_xlim()\n",
    "    lgd = plt.legend(loc=\"upper right\")\n",
    "    plt.xlabel('$%s$'%what)\n",
    "    plt.ylabel('Median resolution')\n",
    "    savename='plot_%sJet_%s'%(obj,what)\n",
    "    plt.savefig(pathsave+savename+'.pdf')\n",
    "    plt.show()\n"
   ]
  },
  {
   "cell_type": "code",
   "execution_count": null,
   "metadata": {
    "collapsed": false
   },
   "outputs": [],
   "source": [
    "for num_what,what in enumerate(ofwhat):\n",
    "    for num,obj in enumerate(jets):\n",
    "        X_what = (df['%sJet_%s'%(obj,what)]).values.reshape(-1,1)\n",
    "        res = (df['%sJet_bRegNNCorr'%(obj)]).values.reshape(-1,1)\n",
    "        ran = ranges[num_what]\n",
    "        bins = binning[num_what]\n",
    "        \n",
    "        bins, y_mean_pt, y_std_pt, y_qt_pt = preprocessing.profile(res,X_what,range=ran,bins=bins,uniform=False,quantiles=np.array([0.25,0.4,0.5,0.75]))\n",
    "        y_median_pt = y_qt_pt[2]\n",
    "        y_25_pt,y_40_pt,y_75_pt = y_qt_pt[0],y_qt_pt[1],y_qt_pt[3]\n",
    "        y_iqr2_pt =  y_qt_pt[0],y_qt_pt[3]\n",
    "        err_iqr2 =  0.5*(y_qt_pt[3]-y_qt_pt[0])\n",
    "        binc = 0.5*(bins[1:]+bins[:-1])\n",
    "        print bins[:10]\n",
    "\n",
    "        plt.scatter(binc,y_median_pt,color=colors[num],marker=markers[num],label='%s Jet'%obj)\n",
    "\n",
    "    plt.grid(alpha=0.2,linestyle='--',markevery=2)\n",
    "    axes = plt.gca()\n",
    "    ymin, ymax = (plt.gca()).get_ylim()\n",
    "    xmin, xmax = (plt.gca()).get_xlim()\n",
    "    lgd = plt.legend(loc=\"upper right\")\n",
    "    plt.xlabel('$%s$'%what)\n",
    "    plt.ylabel('Median correction')\n",
    "    savename='plot_correction_%sJet_%s'%(obj,what)\n",
    "    plt.savefig(pathsave+savename+'.pdf')\n",
    "    plt.show()\n"
   ]
  },
  {
   "cell_type": "markdown",
   "metadata": {
    "collapsed": false
   },
   "source": [
    "### Dijet mass improvement"
   ]
  },
  {
   "cell_type": "code",
   "execution_count": null,
   "metadata": {
    "collapsed": true
   },
   "outputs": [],
   "source": []
  },
  {
   "cell_type": "code",
   "execution_count": null,
   "metadata": {
    "collapsed": false
   },
   "outputs": [],
   "source": []
  },
  {
   "cell_type": "code",
   "execution_count": null,
   "metadata": {
    "collapsed": false
   },
   "outputs": [],
   "source": []
  },
  {
   "cell_type": "code",
   "execution_count": null,
   "metadata": {
    "collapsed": false
   },
   "outputs": [],
   "source": [
    "plt.clf()\n",
    "bins = np.linspace(70, 190, 50)\n",
    "n,bins,patches = plt.hist(df['dijetM_notregressed'],bins=bins,color='blue',alpha=0.5,label='nominal JEC')\n",
    "n,bins,patches = plt.hist(df['Mjj'],bins=bins,color='red',alpha=0.5,label='regressed')\n",
    "plt.xlabel('Mjj [GeV]')\n",
    "plt.ylabel('Events')\n",
    "plt.grid(alpha=0.2,linestyle='--',markevery=2)\n",
    "axes = plt.gca()\n",
    "lgd = plt.legend(loc=\"upper right\")\n",
    "savename='Mjj_plot'\n",
    "plt.savefig(pathsave+savename+'.pdf')\n",
    "plt.show()"
   ]
  },
  {
   "cell_type": "code",
   "execution_count": null,
   "metadata": {
    "collapsed": false
   },
   "outputs": [],
   "source": [
    "import ROOT\n",
    "import math\n",
    "from array import array\n",
    "from ROOT import std\n",
    "from ROOT import gROOT\n",
    "from ROOT import gStyle\n",
    "from ROOT import TH1F, TGraph, TF1\n",
    "from ROOT import TCanvas\n",
    "from ROOT import RooRealVar, RooDataHist, RooFormulaVar, RooVoigtian, RooChebychev, RooArgList, \\\n",
    "                 RooArgSet, RooAddPdf, RooDataSet, RooCategory, RooSimultaneous, \\\n",
    "                 RooBreitWigner, RooCBShape, RooFFTConvPdf, RooBukinPdf, RooBifurGauss, RooGenericPdf, RooChi2Var\n"
   ]
  },
  {
   "cell_type": "code",
   "execution_count": null,
   "metadata": {
    "collapsed": false
   },
   "outputs": [],
   "source": [
    "gStyle.SetPadTopMargin(0.06)\n",
    "gStyle.SetPadRightMargin(0.04)\n",
    "gStyle.SetPadLeftMargin(0.15)\n",
    "\n",
    "n_bins=50\n",
    "c_min = min(min(df['Mjj'].values.reshape(-1,1)),min(df['dijetM_notregressed'].values.reshape(-1,1)))\n",
    "c_max = max(max(df['Mjj'].values.reshape(-1,1)),max(df['dijetM_notregressed'].values.reshape(-1,1)))\n",
    "c_min=50.\n",
    "c_max=200.\n",
    "\n",
    "\n",
    "Histo_rel_diff = np.histogram(df['dijetM_notregressed'].values.reshape(-1,1),bins=n_bins,range=(c_min,c_max))\n",
    "Histo_rel_diff_reg = np.histogram(df['Mjj'].values.reshape(-1,1),bins=n_bins,range=(c_min,c_max))\n",
    "\n",
    "rel_diff = df['dijetM_notregressed'].values.reshape(-1,1)\n",
    "rel_diff_regressed=df['Mjj'].values.reshape(-1,1)\n",
    "\n",
    "h_rel_diff = TH1F(\"hrel_diff\", \"hrel_diff\", n_bins, c_min, c_max)\n",
    "for i in range(len(rel_diff)):\n",
    "    h_rel_diff.Fill(rel_diff[i])\n",
    "h_rel_diff_reg = TH1F(\"hrel_diff_reg\", \"hrel_diff_reg\", n_bins, c_min, c_max)\n",
    "for i in range(len(rel_diff_regressed)):\n",
    "    h_rel_diff_reg.Fill(rel_diff_regressed[i])\n",
    "h_rel_diff.SetLineColor(ROOT.kBlue)\n",
    "h_rel_diff.SetMarkerColor(ROOT.kBlue)\n",
    "h_rel_diff.SetLineWidth(2)\n",
    "h_rel_diff_reg.SetLineColor(ROOT.kRed)\n",
    "h_rel_diff_reg.SetMarkerColor(ROOT.kRed)\n",
    "h_rel_diff_reg.SetLineWidth(2)\n",
    "\n",
    "\n",
    "\n",
    "AllHistos= [Histo_rel_diff, Histo_rel_diff_reg]\n",
    "h_max = max([histo[0].max() for histo in AllHistos])*1.2\n",
    "h_min = min([histo[0].min() for histo in AllHistos])\n",
    "\n",
    "c = ROOT.TCanvas(\"c\",\"c\",900,900)\n",
    "c.cd()\n",
    "frame = TH1F(\"hframe\", \"hframe\", n_bins, c_min, c_max)\n",
    "frame.SetStats(0)\n",
    "frame.GetXaxis().SetTitleOffset(0.91);\n",
    "frame.GetYaxis().SetTitle(\"Events\")\n",
    "frame.GetXaxis().SetTitle(\"M(jj) (GeV)\")\n",
    "frame.GetYaxis().SetLabelSize(0.04)\n",
    "frame.GetYaxis().SetRangeUser(h_min,h_max)\n",
    "\n",
    "frame.Draw()\n",
    "\n",
    "plotFolder='/scratch/snx3000/nchernya/bregression/plots/dijet/'\n",
    "\n",
    "\n",
    "leg = ROOT.TLegend(0.65,0.75,0.9,0.9)\n",
    "leg.SetFillStyle(-1)\n",
    "leg.SetBorderSize(0)\n",
    "leg.SetTextFont(42)\n",
    "leg.SetTextSize(0.03)\n",
    "h_rel_diff.Draw(\"sameHIST\")\n",
    "h_rel_diff_reg.Draw(\"sameHIST\")\n",
    "leg.AddEntry(h_rel_diff,\"Nominal JEC\" ,\"P\")\n",
    "leg.AddEntry(h_rel_diff_reg,\"Regressed\" ,\"P\")\n",
    "leg.Draw()\n",
    "\n",
    "\n",
    "print('Nominal : mean, RMS :',h_rel_diff.GetMean(), h_rel_diff.GetRMS())\n",
    "print('Regresesd : mean, RMS : ',h_rel_diff_reg.GetMean(), h_rel_diff_reg.GetRMS())\n",
    "\n",
    "\n",
    "\n",
    "c.Draw()"
   ]
  },
  {
   "cell_type": "code",
   "execution_count": null,
   "metadata": {
    "collapsed": false
   },
   "outputs": [],
   "source": [
    "plt.clf()\n",
    "bins = np.linspace(0,1, 50)\n",
    "n,bins,patches = plt.hist(df['dijetPt_higgsM_notregressed'],bins=bins,color='blue',alpha=0.5,label='nominal JEC')\n",
    "n,bins,patches = plt.hist(df['dijetPt_higgsM'],bins=bins,color='red',alpha=0.5,label='regressed')\n",
    "plt.xlabel('dijet $p_T$/diHiggs')\n",
    "plt.ylabel('Events')\n",
    "plt.grid(alpha=0.2,linestyle='--',markevery=2)\n",
    "axes = plt.gca()\n",
    "lgd = plt.legend(loc=\"upper right\")\n",
    "savename='dijetpt_dihiggsM_plot'\n",
    "plt.savefig(pathsave+savename+'.pdf')\n",
    "plt.show()"
   ]
  },
  {
   "cell_type": "code",
   "execution_count": null,
   "metadata": {
    "collapsed": false
   },
   "outputs": [],
   "source": [
    "plt.clf()\n",
    "bins = np.linspace(200, 1000, 60)\n",
    "n,bins,patches = plt.hist(df['MX_notregressed'],bins=bins,color='blue',alpha=0.5,label='nominal JEC')\n",
    "n,bins,patches = plt.hist(df['MX'],bins=bins,color='red',alpha=0.5,label='regressed')\n",
    "plt.xlabel('MX [GeV]')\n",
    "plt.ylabel('Events')\n",
    "plt.grid(alpha=0.2,linestyle='--',markevery=2)\n",
    "axes = plt.gca()\n",
    "lgd = plt.legend(loc=\"upper right\")\n",
    "savename='MX_plot'\n",
    "plt.savefig(pathsave+savename+'.pdf')\n",
    "plt.show()"
   ]
  },
  {
   "cell_type": "code",
   "execution_count": null,
   "metadata": {
    "collapsed": false
   },
   "outputs": [],
   "source": [
    "plt.clf()\n",
    "bins = np.linspace(200, 1000, 60)\n",
    "n,bins,patches = plt.hist(df['diHiggsM_notregressed'],bins=bins,color='blue',alpha=0.5,label='nominal JEC')\n",
    "n,bins,patches = plt.hist(df['diHiggs_mass'],bins=bins,color='red',alpha=0.5,label='regressed')\n",
    "n,bins,patches = plt.hist(df['MX'],bins=bins,color='green',alpha=0.5,label='regressed MX')\n",
    "plt.xlabel('M(HH) [GeV]')\n",
    "plt.ylabel('Events')\n",
    "plt.grid(alpha=0.2,linestyle='--',markevery=2)\n",
    "axes = plt.gca()\n",
    "lgd = plt.legend(loc=\"upper right\")\n",
    "savename='Mhh_plot'\n",
    "plt.savefig(pathsave+savename+'.pdf')\n",
    "plt.show()"
   ]
  },
  {
   "cell_type": "code",
   "execution_count": null,
   "metadata": {
    "collapsed": false
   },
   "outputs": [],
   "source": [
    "plt.clf()\n",
    "bins = np.linspace(20, 200, 60)\n",
    "#n,bins,patches = plt.hist(df.query('leadingJet_pt>20 & subleadingJet_pt>25 & subleadingJet_bDis>0.6')['jet2_pt_notregressed'],bins=bins,color='blue',alpha=0.5,label='nominal JEC')\n",
    "#n,bins,patches = plt.hist(df.query('leadingJet_pt>20 & subleadingJet_pt>25 & subleadingJet_bDis>0.6')['subleadingJet_pt'],bins=bins,color='red',alpha=0.5,label='regressed')\n",
    "n,bins,patches = plt.hist(df.query('leadingJet_pt>20 & subleadingJet_pt>30 ')['jet2_pt_notregressed'],bins=bins,color='blue',alpha=0.5,label='nominal JEC')\n",
    "n,bins,patches = plt.hist(df.query('leadingJet_pt>20 & subleadingJet_pt>30')['subleadingJet_pt'],bins=bins,color='red',alpha=0.5,label='regressed')\n",
    "plt.xlabel('subleading jet $p_T$ [GeV]')\n",
    "plt.ylabel('Events')\n",
    "plt.grid(alpha=0.2,linestyle='--',markevery=2)\n",
    "axes = plt.gca()\n",
    "lgd = plt.legend(loc=\"upper right\")\n",
    "savename='sublead_Jet_pt_plot'\n",
    "plt.savefig(pathsave+savename+'.pdf')\n",
    "plt.show()"
   ]
  },
  {
   "cell_type": "code",
   "execution_count": null,
   "metadata": {
    "collapsed": false
   },
   "outputs": [],
   "source": [
    "plt.clf()\n",
    "bins = np.linspace(20, 200, 60)\n",
    "n,bins,patches = plt.hist(df['jet1_pt_notregressed'],bins=bins,color='blue',alpha=0.5,label='nominal JEC')\n",
    "n,bins,patches = plt.hist(df['leadingJet_pt'],bins=bins,color='red',alpha=0.5,label='regressed')\n",
    "plt.xlabel('leading jet $p_T$ [GeV]')\n",
    "plt.ylabel('Events')\n",
    "plt.grid(alpha=0.2,linestyle='--',markevery=2)\n",
    "axes = plt.gca()\n",
    "lgd = plt.legend(loc=\"upper right\")\n",
    "savename='lead_Jet_pt_plot'\n",
    "plt.savefig(pathsave+savename+'.pdf')\n",
    "plt.show()"
   ]
  },
  {
   "cell_type": "code",
   "execution_count": null,
   "metadata": {
    "collapsed": false
   },
   "outputs": [],
   "source": [
    "plt.clf()\n",
    "bins = np.linspace(0, 2, 60)\n",
    "n,bins,patches = plt.hist(df['subleadingJet_bRegNNCorr'],bins=bins,color='red',alpha=0.5)\n",
    "plt.yscale('log') \n",
    "plt.xlabel('subleading jet $p_T$ [GeV]')\n",
    "plt.ylabel('Events')\n",
    "plt.grid(alpha=0.2,linestyle='--',markevery=2)\n",
    "axes = plt.gca()\n",
    "#lgd = plt.legend(loc=\"upper right\")\n",
    "savename='sublead_corr_jetptbin_plot'\n",
    "plt.savefig(pathsave+savename+'.pdf')\n",
    "plt.show()"
   ]
  },
  {
   "cell_type": "code",
   "execution_count": null,
   "metadata": {
    "collapsed": false
   },
   "outputs": [],
   "source": [
    "for num_what,what in enumerate(ofwhat):\n",
    "    for num,obj in enumerate(jets):\n",
    "        X_what = (df.query('jet1_pt_notregressed>20 & jet2_pt_notregressed>20')['%sJet_%s'%(obj,what)]).values.reshape(-1,1)\n",
    "        res = (df.query('jet1_pt_notregressed>20 & jet2_pt_notregressed>20')['%sJet_bRegNNCorr'%(obj)]).values.reshape(-1,1)\n",
    "        ran = ranges[num_what]\n",
    "        bins = binning[num_what]\n",
    "        \n",
    "        bins, y_mean_pt, y_std_pt, y_qt_pt = preprocessing.profile(res,X_what,range=ran,bins=bins,uniform=False,quantiles=np.array([0.25,0.4,0.5,0.75]))\n",
    "        y_median_pt = y_qt_pt[2]\n",
    "        y_25_pt,y_40_pt,y_75_pt = y_qt_pt[0],y_qt_pt[1],y_qt_pt[3]\n",
    "        y_iqr2_pt =  y_qt_pt[0],y_qt_pt[3]\n",
    "        err_iqr2 =  0.5*(y_qt_pt[3]-y_qt_pt[0])\n",
    "        binc = 0.5*(bins[1:]+bins[:-1])\n",
    "        print bins[:10]\n",
    "\n",
    "        plt.scatter(binc,y_median_pt,color=colors[num],marker=markers[num],label='%s Jet'%obj)\n",
    "\n",
    "    plt.grid(alpha=0.2,linestyle='--',markevery=2)\n",
    "    axes = plt.gca()\n",
    "    ymin, ymax = (plt.gca()).get_ylim()\n",
    "    xmin, xmax = (plt.gca()).get_xlim()\n",
    "    lgd = plt.legend(loc=\"upper right\")\n",
    "    plt.xlabel('$%s$'%what)\n",
    "    plt.ylabel('Median correction')\n",
    "  #  savename='plot_correction_%sJet_%s'%(obj,what)\n",
    " #   plt.savefig(pathsave+savename+'.pdf')\n",
    "    plt.show()\n"
   ]
  },
  {
   "cell_type": "code",
   "execution_count": null,
   "metadata": {
    "collapsed": false
   },
   "outputs": [],
   "source": [
    "df.query('leadingJet_pt>30 & subleadingJet_pt>30').shape"
   ]
  },
  {
   "cell_type": "code",
   "execution_count": null,
   "metadata": {
    "collapsed": false
   },
   "outputs": [],
   "source": [
    "df.shape"
   ]
  },
  {
   "cell_type": "code",
   "execution_count": null,
   "metadata": {
    "collapsed": false
   },
   "outputs": [],
   "source": [
    "10626./12074"
   ]
  },
  {
   "cell_type": "code",
   "execution_count": null,
   "metadata": {
    "collapsed": false
   },
   "outputs": [],
   "source": [
    "df.query('leadingJet_pt>20 & subleadingJet_pt>20 & subleadingJet_bDis>0.6').shape"
   ]
  },
  {
   "cell_type": "code",
   "execution_count": null,
   "metadata": {
    "collapsed": false
   },
   "outputs": [],
   "source": [
    "df.query('leadingJet_pt>20 & subleadingJet_pt>20 ').shape"
   ]
  },
  {
   "cell_type": "code",
   "execution_count": null,
   "metadata": {
    "collapsed": false
   },
   "outputs": [],
   "source": [
    "df.query('leadingJet_pt>20 & subleadingJet_pt>20 & leadingJet_bDis>0.6').shape"
   ]
  },
  {
   "cell_type": "code",
   "execution_count": null,
   "metadata": {
    "collapsed": false
   },
   "outputs": [],
   "source": [
    "df.query('subleadingJet_bDis<0.3')['Mjj'].plot.hist(bins=100,range=[60,200])\n",
    "plt.show()"
   ]
  },
  {
   "cell_type": "code",
   "execution_count": null,
   "metadata": {
    "collapsed": false
   },
   "outputs": [],
   "source": [
    "df.query('subleadingJet_bDis>=0.3')['Mjj'].plot.hist(bins=100,range=[60,200])\n",
    "plt.show()"
   ]
  },
  {
   "cell_type": "code",
   "execution_count": null,
   "metadata": {
    "collapsed": false
   },
   "outputs": [],
   "source": []
  },
  {
   "cell_type": "code",
   "execution_count": null,
   "metadata": {
    "collapsed": true
   },
   "outputs": [],
   "source": []
  }
 ],
 "metadata": {
  "anaconda-cloud": {},
  "kernelspec": {
   "display_name": "Python [default]",
   "language": "python",
   "name": "python2"
  },
  "language_info": {
   "codemirror_mode": {
    "name": "ipython",
    "version": 2
   },
   "file_extension": ".py",
   "mimetype": "text/x-python",
   "name": "python",
   "nbconvert_exporter": "python",
   "pygments_lexer": "ipython2",
   "version": "2.7.12"
  }
 },
 "nbformat": 4,
 "nbformat_minor": 1
}
