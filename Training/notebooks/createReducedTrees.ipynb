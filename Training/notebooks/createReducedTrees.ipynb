{
 "cells": [
  {
   "cell_type": "code",
   "execution_count": 11,
   "metadata": {
    "collapsed": false
   },
   "outputs": [
    {
     "data": {
      "text/plain": [
       "<module 'postprocessing_utils' from '/mnt/t3nfs01/data01/shome/micheli/HHbbgg_ETH_devel/Training/python/postprocessing_utils.py'>"
      ]
     },
     "execution_count": 11,
     "metadata": {},
     "output_type": "execute_result"
    }
   ],
   "source": [
    "import os\n",
    "import sys; sys.path.append(\"~/HHbbgg_ETH_devel/Training/python\") # to load packages\n",
    "import training_utils as utils\n",
    "import numpy as np\n",
    "reload(utils)\n",
    "import preprocessing_utils as preprocessing\n",
    "reload(preprocessing)\n",
    "import plotting_utils as plotting\n",
    "reload(plotting)\n",
    "import optimization_utils as optimization\n",
    "reload(optimization)\n",
    "import postprocessing_utils as postprocessing\n",
    "reload(postprocessing)\n"
   ]
  },
  {
   "cell_type": "code",
   "execution_count": 12,
   "metadata": {
    "collapsed": false
   },
   "outputs": [
    {
     "name": "stdout",
     "output_type": "stream",
     "text": [
      "env: data=/mnt/t3nfs01/data01/shome/micheli/HHbbgg_ETH/root_files/20170620\n",
      "['output_DiPhotonJetsBox_MGG-80toInf_13TeV-Sherpa.root']\n",
      "using background file n.0: /mnt/t3nfs01/data01/shome/micheli/HHbbgg_ETH/root_files/20170620/output_DiPhotonJetsBox_MGG-80toInf_13TeV-Sherpa.root\n",
      "using background file n.1: /mnt/t3nfs01/data01/shome/micheli/HHbbgg_ETH/root_files/20170620/output_GJet_Pt-20to40_DoubleEMEnriched_MGG-80toInf_TuneCUETP8M1_13TeV_Pythia8.root\n",
      "using background file n.2: /mnt/t3nfs01/data01/shome/micheli/HHbbgg_ETH/root_files/20170620/output_GJet_Pt-40toInf_DoubleEMEnriched_MGG-80toInf_TuneCUETP8M1_13TeV_Pythia8.root\n",
      "using background file n.3: /mnt/t3nfs01/data01/shome/micheli/HHbbgg_ETH/root_files/20170620/output_GluGluHToGG_M-125_13TeV_powheg_pythia8.root\n",
      "using background file n.4: /mnt/t3nfs01/data01/shome/micheli/HHbbgg_ETH/root_files/20170620/output_VBFHToGG_M-125_13TeV_powheg_pythia8.root\n",
      "using background file n.5: /mnt/t3nfs01/data01/shome/micheli/HHbbgg_ETH/root_files/20170620/output_VHToGG_M125_13TeV_amcatnloFXFX_madspin_pythia8.root\n",
      "using background file n.6: /mnt/t3nfs01/data01/shome/micheli/HHbbgg_ETH/root_files/20170620/output_bbHToGG_M-125_4FS_yb2_13TeV_amcatnlo.root\n",
      "using background file n.7: /mnt/t3nfs01/data01/shome/micheli/HHbbgg_ETH/root_files/20170620/output_ttHToGG_M125_13TeV_powheg_pythia8_v2.root\n",
      "using background file n.8: /mnt/t3nfs01/data01/shome/micheli/HHbbgg_ETH/root_files/20170620/output_GluGluToHHTo2B2G_node_2_13TeV-madgraph.root\n",
      "using background file n.9: /mnt/t3nfs01/data01/shome/micheli/HHbbgg_ETH/root_files/20170620/output_GluGluToHHTo2B2G_node_3_13TeV-madgraph.root\n",
      "using background file n.10: /mnt/t3nfs01/data01/shome/micheli/HHbbgg_ETH/root_files/20170620/output_GluGluToHHTo2B2G_node_4_13TeV-madgraph.root\n",
      "using background file n.11: /mnt/t3nfs01/data01/shome/micheli/HHbbgg_ETH/root_files/20170620/output_GluGluToHHTo2B2G_node_5_13TeV-madgraph.root\n",
      "using background file n.12: /mnt/t3nfs01/data01/shome/micheli/HHbbgg_ETH/root_files/20170620/output_GluGluToHHTo2B2G_node_6_13TeV-madgraph.root\n",
      "using background file n.13: /mnt/t3nfs01/data01/shome/micheli/HHbbgg_ETH/root_files/20170620/output_GluGluToHHTo2B2G_node_7_13TeV-madgraph.root\n",
      "using background file n.14: /mnt/t3nfs01/data01/shome/micheli/HHbbgg_ETH/root_files/20170620/output_GluGluToHHTo2B2G_node_8_13TeV-madgraph.root\n",
      "using background file n.15: /mnt/t3nfs01/data01/shome/micheli/HHbbgg_ETH/root_files/20170620/output_GluGluToHHTo2B2G_node_9_13TeV-madgraph.root\n",
      "using background file n.16: /mnt/t3nfs01/data01/shome/micheli/HHbbgg_ETH/root_files/20170620/output_GluGluToHHTo2B2G_node_10_13TeV-madgraph.root\n",
      "using background file n.17: /mnt/t3nfs01/data01/shome/micheli/HHbbgg_ETH/root_files/20170620/output_GluGluToHHTo2B2G_node_11_13TeV-madgraph.root\n",
      "using background file n.18: /mnt/t3nfs01/data01/shome/micheli/HHbbgg_ETH/root_files/20170620/output_GluGluToHHTo2B2G_node_12_13TeV-madgraph.root\n",
      "using background file n.19: /mnt/t3nfs01/data01/shome/micheli/HHbbgg_ETH/root_files/20170620/output_GluGluToHHTo2B2G_node_13_13TeV-madgraph.root\n",
      "using signal file n.0: /mnt/t3nfs01/data01/shome/micheli/HHbbgg_ETH/root_files/20170620/output_GluGluToHHTo2B2G_node_SM_13TeV-madgraph.root\n",
      "using data file: /mnt/t3nfs01/data01/shome/micheli/HHbbgg_ETH/root_files/20170620/DoubleEG.root\n"
     ]
    }
   ],
   "source": [
    "reload(utils)\n",
    "reload(preprocessing)\n",
    "reload(plotting)\n",
    "reload(optimization)\n",
    "reload(postprocessing)\n",
    "ntuples = '20170620'\n",
    "# \"%\" sign allows to interpret the rest as a system command\n",
    "%env data=$utils.IO.ldata$ntuples\n",
    "files = ! ls $data | sort -t_ -k 3 -n\n",
    "#pick only SM\n",
    "signal = [s for s in files if \"GluGluToHHTo2B2G_node_SM\" in s]\n",
    "diphotonJets = [s for s in files if \"DiPhotonJetsBox_\" in s]\n",
    "gJets_lowPt = [s for s in files if \"GJet_Pt-20to40\" in s]\n",
    "gJets_highPt = [s for s in files if \"GJet_Pt-40\" in s]\n",
    "ggH = [s for s in files if \"GluGluHToGG\" in s]\n",
    "vbf = [s for s in files if \"VBFHToGG\" in s]\n",
    "VH = [s for s in files if \"VHToGG\" in s]\n",
    "bbH = [s for s in files if \"bbHToGG_M-125_4FS_yb2\" in s] #is this correct?\n",
    "ttH = [s for s in files if \"ttHToGG\" in s]\n",
    "\n",
    "Data= [s for s in files if \"DoubleEG\" in s]\n",
    "\n",
    "utils.IO.add_signal(ntuples,signal,1)\n",
    "print diphotonJets\n",
    "utils.IO.add_background(ntuples,diphotonJets,-1)\n",
    "utils.IO.add_background(ntuples,gJets_lowPt,-2)\n",
    "utils.IO.add_background(ntuples,gJets_highPt,-2)\n",
    "utils.IO.add_background(ntuples,ggH,-3)\n",
    "utils.IO.add_background(ntuples,vbf,-4)\n",
    "utils.IO.add_background(ntuples,VH,-5)\n",
    "utils.IO.add_background(ntuples,bbH,-6)\n",
    "utils.IO.add_background(ntuples,ttH,-7)\n",
    "\n",
    "nBkg = len(utils.IO.backgroundName)\n",
    "\n",
    "utils.IO.add_data(ntuples,Data,-10)\n",
    "\n",
    "#add all nodes\n",
    "nodes = []\n",
    "for i in range(2,14):\n",
    "    nodes.append([s for s in files if \"GluGluToHHTo2B2G_node_\"+str(i) in s])\n",
    "for i in range(len(utils.IO.backgroundName),len(utils.IO.backgroundName)+len(nodes)):\n",
    "    utils.IO.add_background(ntuples,nodes[i-nBkg],-i)\n",
    "    \n",
    "    \n",
    "    \n",
    "\n",
    "for i in range(len(utils.IO.backgroundName)):        \n",
    "    print \"using background file n.\"+str(i)+\": \"+utils.IO.backgroundName[i]\n",
    "for i in range(len(utils.IO.signalName)):    \n",
    "    print \"using signal file n.\"+str(i)+\": \"+utils.IO.signalName[i]\n",
    "print \"using data file: \"+ utils.IO.dataName[0]\n"
   ]
  },
  {
   "cell_type": "code",
   "execution_count": 13,
   "metadata": {
    "collapsed": false
   },
   "outputs": [
    {
     "name": "stdout",
     "output_type": "stream",
     "text": [
      "['leadingJet_bDis', 'subleadingJet_bDis', 'noexpand:fabs(CosThetaStar_CS)', 'noexpand:fabs(CosTheta_bb)', 'noexpand:fabs(CosTheta_gg)', 'noexpand:diphotonCandidate.Pt()/diHiggsCandidate.M()', 'noexpand:dijetCandidate.Pt()/diHiggsCandidate.M()', 'customLeadingPhotonIDMVA', 'customSubLeadingPhotonIDMVA', 'leadingPhotonSigOverE', 'subleadingPhotonSigOverE', 'sigmaMOverMDecorr', 'PhoJetMinDr']\n"
     ]
    }
   ],
   "source": [
    "#use noexpand for root expressions, it needs this file https://github.com/ibab/root_pandas/blob/master/root_pandas/readwrite.py\n",
    "#all the branches you want to save in new trees\n",
    "#mva variables\n",
    "branch_names = 'leadingJet_bDis,subleadingJet_bDis,noexpand:fabs(CosThetaStar_CS),noexpand:fabs(CosTheta_bb),noexpand:fabs(CosTheta_gg)'.split(\",\")\n",
    "branch_names += 'noexpand:diphotonCandidate.Pt()/diHiggsCandidate.M(),noexpand:dijetCandidate.Pt()/diHiggsCandidate.M()'.split(\",\")\n",
    "branch_names += 'customLeadingPhotonIDMVA,customSubLeadingPhotonIDMVA,leadingPhotonSigOverE,subleadingPhotonSigOverE,sigmaMOverMDecorr,PhoJetMinDr'.split(\",\")\n",
    "#mva output\n",
    "#branch_names = 'HHTagger2017'.split(\",\")\n",
    "#additional variables\n",
    "#branch_names += 'noexpand:diphotonCandidate.M(),noexpand:dijetCandidate.M(),MX,isSignal'.split(\",\")\n",
    "\n",
    "\n",
    "#branch_names = 'leadingJet_bDis,subleadingJet_bDis,noexpand:fabs(CosThetaStar_CS),noexpand:fabs(CosTheta_bb),noexpand:fabs(CosTheta_gg),noexpand:diphotonCandidate.Pt()/diHiggsCandidate.M(),noexpand:dijetCandidate.Pt()/diHiggsCandidate.M()'.split(\",\")\n",
    "branch_names = [c.strip() for c in branch_names]\n",
    "print branch_names\n",
    "\n",
    "import pandas as pd\n",
    "import root_pandas as rpd\n",
    "\n",
    "# no need to shuffle here, we just count events\n",
    "preprocessing.set_signals_and_backgrounds(\"bbggSelectionTree\",branch_names,shuffle=False)\n",
    "X_bkg,y_bkg,weights_bkg,X_sig,y_sig,weights_sig=preprocessing.set_variables(branch_names)\n",
    "\n",
    "X_data,y_data,weights_data = preprocessing.set_data(\"bbggSelectionTree\",branch_names)\n",
    "X_data,y_data,weights_data = preprocessing.clean_signal_events_single_dataset(X_data,y_data,weights_data)\n",
    "\n",
    "#bbggTrees have by default signal and CR events, let's be sure that we clean it\n",
    "X_bkg,y_bkg,weights_bkg,X_sig,y_sig,weights_sig=preprocessing.clean_signal_events(X_bkg,y_bkg,weights_bkg,X_sig,y_sig,weights_sig)\n",
    "\n",
    "#np.savetxt('/tmp/micheli/xbkg.txt',X_bkg)\n",
    "#preprocessing.adjust_and_compress(utils.IO.background_df[0]).to_csv('/tmp/micheli/bkg.csv')\n"
   ]
  },
  {
   "cell_type": "code",
   "execution_count": 14,
   "metadata": {
    "collapsed": false
   },
   "outputs": [
    {
     "name": "stdout",
     "output_type": "stream",
     "text": [
      "0\n",
      "1\n",
      "2\n",
      "3\n",
      "4\n",
      "5\n",
      "6\n",
      "7\n",
      "8\n",
      "9\n",
      "10\n",
      "11\n",
      "12\n",
      "13\n",
      "14\n",
      "15\n",
      "16\n",
      "17\n",
      "18\n",
      "[ 0.00209939  0.1323278   0.00422618 ...,  0.02256043  0.05171371\n",
      "  0.60521263]\n"
     ]
    }
   ],
   "source": [
    "# load the model from disk\n",
    "from sklearn.externals import joblib\n",
    "loaded_model = joblib.load(os.path.expanduser('~/HHbbgg_ETH_devel/Training/output_files/allMC_resWeighting_F_noDR_minDRGJet.pkl'))\n",
    "\n",
    "bkg = []\n",
    "for i in range(0,len(utils.IO.backgroundName)-1): \n",
    "    bkg.append(X_bkg[y_bkg ==-i-1])\n",
    "\n",
    "\n",
    "Y_pred_sig = loaded_model.predict_proba(X_sig)[:,loaded_model.n_classes_-1].astype(np.float64)\n",
    "Y_pred_bkg = []\n",
    "for i in range(0,len(utils.IO.backgroundName)-1):  \n",
    "    print i\n",
    "    Y_pred_bkg.append(loaded_model.predict_proba(bkg[i])[:,loaded_model.n_classes_-1].astype(np.float64))\n",
    "\n",
    "Y_pred_data = loaded_model.predict_proba(X_data)[:,loaded_model.n_classes_-1].astype(np.float64)\n",
    "print Y_pred_data \n",
    "\n"
   ]
  },
  {
   "cell_type": "code",
   "execution_count": 15,
   "metadata": {
    "collapsed": false
   },
   "outputs": [],
   "source": [
    "#define MVA cut and additional variables needed\n",
    "import os\n",
    "additionalCut_names = 'noexpand:diphotonCandidate.M(),noexpand:dijetCandidate.M(),MX,isSignal'.split(\",\")\n",
    "#additionalCut_names += 'HHTagger2017'.split(\",\")\n",
    "outTag = '20180108_test'\n",
    "outDir=os.path.expanduser(\"~/HHbbgg_ETH_devel/outfiles/\"+outTag)\n",
    "if not os.path.exists(outDir):\n",
    "    os.mkdir(outDir)"
   ]
  },
  {
   "cell_type": "code",
   "execution_count": 16,
   "metadata": {
    "collapsed": false
   },
   "outputs": [
    {
     "name": "stdout",
     "output_type": "stream",
     "text": [
      "Y_pred\n",
      "(18646,)\n"
     ]
    }
   ],
   "source": [
    "sig_count_df = rpd.read_root(utils.IO.signalName[0],\"bbggSelectionTree\", columns = branch_names+additionalCut_names)\n",
    "preprocessing.define_process_weight(sig_count_df,utils.IO.sigProc[0],utils.IO.signalName[0])\n",
    "\n",
    "#nTot is a multidim vector with all additional variables, dictVar is a dictionary associating a name of the variable\n",
    "#to a position in the vector\n",
    "nTot,dictVar = postprocessing.stackFeatures(sig_count_df,branch_names+additionalCut_names)\n",
    "#apply isSignal cleaning\n",
    "nCleaned = nTot[np.where(nTot[:,dictVar['weight']]!=0),:][0]\n",
    "print \"Y_pred\"\n",
    "print Y_pred_sig.shape\n",
    "\n",
    "#it's a stupid way to save also mva output after cuts, more efficient solutions should be found\n",
    "Y_pred_total = np.column_stack((nCleaned,Y_pred_sig))\n",
    "\n",
    "processPath=os.path.expanduser('~/HHbbgg_ETH_devel/outfiles/')+outTag+'/'+utils.IO.signalName[0].split(\"/\")[len(utils.IO.signalName[0].split(\"/\"))-1].replace(\"output_\",\"\").replace(\".root\",\"\")+\"_preselection\"+\".root\"\n",
    "postprocessing.saveTree(processPath,dictVar,nCleaned,Y_pred_sig)\n",
    "\n",
    "processPath=os.path.expanduser('~/HHbbgg_ETH_devel/outfiles/')+outTag+'/'+utils.IO.signalName[0].split(\"/\")[len(utils.IO.signalName[0].split(\"/\"))-1].replace(\"output_\",\"\").replace(\".root\",\"\")+\"_preselection_diffNaming\"+\".root\"\n",
    "postprocessing.saveTree(processPath,dictVar,nCleaned,Y_pred_sig,nameTree=\"reducedTree_sig\")\n"
   ]
  },
  {
   "cell_type": "code",
   "execution_count": 17,
   "metadata": {
    "collapsed": false
   },
   "outputs": [
    {
     "name": "stdout",
     "output_type": "stream",
     "text": [
      "(2590, 18)\n",
      "(63259, 18)\n",
      "nCleaned\n",
      "(22278, 18)\n"
     ]
    }
   ],
   "source": [
    "## do gJets not in the loop since they have two samples for one process\n",
    "bkg_1_count_df = rpd.read_root(utils.IO.backgroundName[1],\"bbggSelectionTree\", columns = branch_names+additionalCut_names)\n",
    "preprocessing.define_process_weight(bkg_1_count_df,utils.IO.bkgProc[1],utils.IO.backgroundName[1])\n",
    "\n",
    "crazySF_20=25\n",
    "nTot,dictVar = postprocessing.stackFeatures(bkg_1_count_df,branch_names+additionalCut_names,SF=crazySF_20)\n",
    "\n",
    "print nTot.shape\n",
    "\n",
    "bkg_2_count_df = rpd.read_root(utils.IO.backgroundName[2],\"bbggSelectionTree\", columns = branch_names+additionalCut_names)\n",
    "preprocessing.define_process_weight(bkg_2_count_df,utils.IO.bkgProc[2],utils.IO.backgroundName[2])\n",
    "\n",
    "crazySF_40=3\n",
    "nTot_2,dictVar = postprocessing.stackFeatures(bkg_2_count_df,branch_names+additionalCut_names,SF=crazySF_40)\n",
    "\n",
    "\n",
    "nTot_3 = np.concatenate((nTot,nTot_2))\n",
    "\n",
    "print nTot_3.shape\n",
    "#apply isSignal cleaning\n",
    "nCleaned = nTot_3[np.where(nTot_3[:,dictVar['weight']]!=0),:][0]\n",
    "print \"nCleaned\"\n",
    "print nCleaned.shape\n",
    "\n",
    "processPath=(os.path.expanduser('~/HHbbgg_ETH_devel/outfiles/')+outTag+'/'+utils.IO.backgroundName[1].split(\"/\")[len(utils.IO.backgroundName[1].split(\"/\"))-1].replace(\"output_\",\"\").replace(\".root\",\"\")+\"_preselection\"+\".root\").replace(\"_Pt-20to40\",\"\")\n",
    "postprocessing.saveTree(processPath,dictVar,nCleaned,Y_pred_bkg[1])\n",
    "\n",
    "processPath=(os.path.expanduser('~/HHbbgg_ETH_devel/outfiles/')+outTag+'/'+utils.IO.backgroundName[1].split(\"/\")[len(utils.IO.backgroundName[1].split(\"/\"))-1].replace(\"output_\",\"\").replace(\".root\",\"\")+\"_preselection_diffNaming\"+\".root\").replace(\"_Pt-20to40\",\"\")\n",
    "postprocessing.saveTree(processPath,dictVar,nCleaned,Y_pred_bkg[1],nameTree=\"reducedTree_bkg_2\")\n",
    "\n",
    "\n"
   ]
  },
  {
   "cell_type": "code",
   "execution_count": 18,
   "metadata": {
    "collapsed": false
   },
   "outputs": [
    {
     "name": "stdout",
     "output_type": "stream",
     "text": [
      "Processing sample: 0\n",
      "nCleaned\n",
      "(1900684, 18)\n",
      "Processing sample: 3\n",
      "nCleaned\n",
      "(56382, 18)\n",
      "Processing sample: 4\n",
      "nCleaned\n",
      "(76431, 18)\n",
      "Processing sample: 5\n",
      "nCleaned\n",
      "(57455, 18)\n",
      "Processing sample: 6\n",
      "nCleaned\n",
      "(106395, 18)\n",
      "Processing sample: 7\n",
      "nCleaned\n",
      "(268863, 18)\n",
      "Processing sample: 8\n",
      "nCleaned\n",
      "(18365, 18)\n",
      "Processing sample: 9\n",
      "nCleaned\n",
      "(19535, 18)\n",
      "Processing sample: 10\n",
      "nCleaned\n",
      "(18466, 18)\n",
      "Processing sample: 11\n",
      "nCleaned\n",
      "(16718, 18)\n",
      "Processing sample: 12\n",
      "nCleaned\n",
      "(18934, 18)\n",
      "Processing sample: 13\n",
      "nCleaned\n",
      "(19087, 18)\n",
      "Processing sample: 14\n",
      "nCleaned\n",
      "(15902, 18)\n",
      "Processing sample: 15\n",
      "nCleaned\n",
      "(16949, 18)\n",
      "Processing sample: 16\n",
      "nCleaned\n",
      "(17490, 18)\n",
      "Processing sample: 17\n",
      "nCleaned\n",
      "(18954, 18)\n",
      "Processing sample: 18\n",
      "nCleaned\n",
      "(20479, 18)\n",
      "Processing sample: 19\n",
      "nCleaned\n",
      "(21139, 18)\n"
     ]
    }
   ],
   "source": [
    "for iProcess in range(0,len(utils.IO.backgroundName)):\n",
    "    ##gJets which are two samples for one process are skipped\n",
    "    iSample=iProcess\n",
    "    if iProcess == 1 or iProcess ==2:\n",
    "            continue\n",
    "    if iProcess > 2:\n",
    "        iSample = iProcess-1\n",
    "    \n",
    "    print \"Processing sample: \"+str(iProcess)\n",
    "    bkg_count_df = rpd.read_root(utils.IO.backgroundName[iProcess],\"bbggSelectionTree\", columns = branch_names+additionalCut_names)\n",
    "    preprocessing.define_process_weight(bkg_count_df,utils.IO.bkgProc[iProcess],utils.IO.backgroundName[iProcess])\n",
    "\n",
    "    crazySF=1\n",
    "    ##scale diphoton + jets\n",
    "    if iProcess == 0:\n",
    "        crazySF=1.45\n",
    "    nTot,dictVar = postprocessing.stackFeatures(bkg_count_df,branch_names+additionalCut_names,SF=crazySF)\n",
    "\n",
    "\n",
    "    nCleaned = nTot[np.where(nTot[:,dictVar['weight']]!=0),:][0]\n",
    "    print \"nCleaned\"\n",
    "    print nCleaned.shape\n",
    "\n",
    "    processPath=os.path.expanduser('~/HHbbgg_ETH_devel/outfiles/')+outTag+'/'+utils.IO.backgroundName[iProcess].split(\"/\")[len(utils.IO.backgroundName[7].split(\"/\"))-1].replace(\"output_\",\"\").replace(\".root\",\"\")+\"_preselection\"+\".root\"\n",
    "    postprocessing.saveTree(processPath,dictVar,nCleaned,Y_pred_bkg[iSample])\n",
    "    \n",
    "    processPath=os.path.expanduser('~/HHbbgg_ETH_devel/outfiles/')+outTag+'/'+utils.IO.backgroundName[iProcess].split(\"/\")[len(utils.IO.backgroundName[7].split(\"/\"))-1].replace(\"output_\",\"\").replace(\".root\",\"\")+\"_preselection_diffNaming\"+\".root\"\n",
    "    if \"GluGluToHHTo2B2G_node_\"in processPath:\n",
    "        treeName = \"reducedTree_sig_node_\"+str(iProcess-6)\n",
    "    else:\n",
    "        treeName = \"reducedTree_bkg_\"+str(iProcess)\n",
    "    \n",
    "    postprocessing.saveTree(processPath,dictVar,nCleaned,Y_pred_bkg[iSample],nameTree=treeName)"
   ]
  },
  {
   "cell_type": "code",
   "execution_count": 19,
   "metadata": {
    "collapsed": false
   },
   "outputs": [
    {
     "name": "stdout",
     "output_type": "stream",
     "text": [
      "nCleaned\n",
      "(92390, 18)\n",
      "(92390,)\n"
     ]
    }
   ],
   "source": [
    "data_count_df = rpd.read_root(utils.IO.dataName[0],\"bbggSelectionTree\", columns = branch_names+additionalCut_names)\n",
    "\n",
    "nTot,dictVar = postprocessing.stackFeatures(data_count_df,branch_names+additionalCut_names,isData=1)\n",
    "\n",
    "\n",
    "#apply isSignal cleaning\n",
    "nCleaned = nTot[np.where(nTot[:,dictVar['weight']]!=0),:][0]\n",
    "print \"nCleaned\"\n",
    "print nCleaned.shape\n",
    "print Y_pred_data.shape\n",
    "\n",
    "#save preselection data\n",
    "processPath=os.path.expanduser('~/HHbbgg_ETH_devel/outfiles/')+outTag+'/'+utils.IO.dataName[0].split(\"/\")[len(utils.IO.dataName[0].split(\"/\"))-1].replace(\"output_\",\"\").replace(\".root\",\"\")+\"_preselection\"+\".root\"\n",
    "postprocessing.saveTree(processPath,dictVar,nCleaned,Y_pred_data)\n",
    "\n",
    "processPath=os.path.expanduser('~/HHbbgg_ETH_devel/outfiles/')+outTag+'/'+utils.IO.dataName[0].split(\"/\")[len(utils.IO.dataName[0].split(\"/\"))-1].replace(\"output_\",\"\").replace(\".root\",\"\")+\"_preselection_diffNaming\"+\".root\"\n",
    "postprocessing.saveTree(processPath,dictVar,nCleaned,Y_pred_data,nameTree=\"reducedTree_bkg\")"
   ]
  },
  {
   "cell_type": "code",
   "execution_count": 40,
   "metadata": {
    "collapsed": false
   },
   "outputs": [
    {
     "name": "stdout",
     "output_type": "stream",
     "text": [
      "cd /mnt/t3nfs01/data01/shome/micheli/HHbbgg_ETH_devel/outfiles/20180108_test\n"
     ]
    },
    {
     "data": {
      "text/plain": [
       "0"
      ]
     },
     "execution_count": 40,
     "metadata": {},
     "output_type": "execute_result"
    },
    {
     "name": "stdout",
     "output_type": "stream",
     "text": [
      "hadd Target file: /mnt/t3nfs01/data01/shome/micheli/HHbbgg_ETH_devel/outfiles/20180108_test/Total_preselection_diffNaming.root\n",
      "hadd compression setting for all ouput: 1\n",
      "hadd Source file 1: /mnt/t3nfs01/data01/shome/micheli/HHbbgg_ETH_devel/outfiles/20180108_test/bbHToGG_M-125_4FS_yb2_13TeV_amcatnlo_preselection_diffNaming.root\n",
      "hadd Source file 2: /mnt/t3nfs01/data01/shome/micheli/HHbbgg_ETH_devel/outfiles/20180108_test/DiPhotonJetsBox_MGG-80toInf_13TeV-Sherpa_preselection_diffNaming.root\n",
      "hadd Source file 3: /mnt/t3nfs01/data01/shome/micheli/HHbbgg_ETH_devel/outfiles/20180108_test/DoubleEG_preselection_diffNaming.root\n",
      "hadd Source file 4: /mnt/t3nfs01/data01/shome/micheli/HHbbgg_ETH_devel/outfiles/20180108_test/GJet_DoubleEMEnriched_MGG-80toInf_TuneCUETP8M1_13TeV_Pythia8_preselection_diffNaming.root\n",
      "hadd Source file 5: /mnt/t3nfs01/data01/shome/micheli/HHbbgg_ETH_devel/outfiles/20180108_test/GluGluHToGG_M-125_13TeV_powheg_pythia8_preselection_diffNaming.root\n",
      "hadd Source file 6: /mnt/t3nfs01/data01/shome/micheli/HHbbgg_ETH_devel/outfiles/20180108_test/GluGluToHHTo2B2G_node_10_13TeV-madgraph_preselection_diffNaming.root\n",
      "hadd Source file 7: /mnt/t3nfs01/data01/shome/micheli/HHbbgg_ETH_devel/outfiles/20180108_test/GluGluToHHTo2B2G_node_11_13TeV-madgraph_preselection_diffNaming.root\n",
      "hadd Source file 8: /mnt/t3nfs01/data01/shome/micheli/HHbbgg_ETH_devel/outfiles/20180108_test/GluGluToHHTo2B2G_node_12_13TeV-madgraph_preselection_diffNaming.root\n",
      "hadd Source file 9: /mnt/t3nfs01/data01/shome/micheli/HHbbgg_ETH_devel/outfiles/20180108_test/GluGluToHHTo2B2G_node_13_13TeV-madgraph_preselection_diffNaming.root\n",
      "hadd Source file 10: /mnt/t3nfs01/data01/shome/micheli/HHbbgg_ETH_devel/outfiles/20180108_test/GluGluToHHTo2B2G_node_2_13TeV-madgraph_preselection_diffNaming.root\n",
      "hadd Source file 11: /mnt/t3nfs01/data01/shome/micheli/HHbbgg_ETH_devel/outfiles/20180108_test/GluGluToHHTo2B2G_node_3_13TeV-madgraph_preselection_diffNaming.root\n",
      "hadd Source file 12: /mnt/t3nfs01/data01/shome/micheli/HHbbgg_ETH_devel/outfiles/20180108_test/GluGluToHHTo2B2G_node_4_13TeV-madgraph_preselection_diffNaming.root\n",
      "hadd Source file 13: /mnt/t3nfs01/data01/shome/micheli/HHbbgg_ETH_devel/outfiles/20180108_test/GluGluToHHTo2B2G_node_5_13TeV-madgraph_preselection_diffNaming.root\n",
      "hadd Source file 14: /mnt/t3nfs01/data01/shome/micheli/HHbbgg_ETH_devel/outfiles/20180108_test/GluGluToHHTo2B2G_node_6_13TeV-madgraph_preselection_diffNaming.root\n",
      "hadd Source file 15: /mnt/t3nfs01/data01/shome/micheli/HHbbgg_ETH_devel/outfiles/20180108_test/GluGluToHHTo2B2G_node_7_13TeV-madgraph_preselection_diffNaming.root\n",
      "hadd Source file 16: /mnt/t3nfs01/data01/shome/micheli/HHbbgg_ETH_devel/outfiles/20180108_test/GluGluToHHTo2B2G_node_8_13TeV-madgraph_preselection_diffNaming.root\n",
      "hadd Source file 17: /mnt/t3nfs01/data01/shome/micheli/HHbbgg_ETH_devel/outfiles/20180108_test/GluGluToHHTo2B2G_node_9_13TeV-madgraph_preselection_diffNaming.root\n",
      "hadd Source file 18: /mnt/t3nfs01/data01/shome/micheli/HHbbgg_ETH_devel/outfiles/20180108_test/GluGluToHHTo2B2G_node_SM_13TeV-madgraph_preselection_diffNaming.root\n",
      "hadd Source file 19: /mnt/t3nfs01/data01/shome/micheli/HHbbgg_ETH_devel/outfiles/20180108_test/ttHToGG_M125_13TeV_powheg_pythia8_v2_preselection_diffNaming.root\n",
      "hadd Source file 20: /mnt/t3nfs01/data01/shome/micheli/HHbbgg_ETH_devel/outfiles/20180108_test/VBFHToGG_M-125_13TeV_powheg_pythia8_preselection_diffNaming.root\n",
      "hadd Source file 21: /mnt/t3nfs01/data01/shome/micheli/HHbbgg_ETH_devel/outfiles/20180108_test/VHToGG_M125_13TeV_amcatnloFXFX_madspin_pythia8_preselection_diffNaming.root\n",
      "hadd Target path: /mnt/t3nfs01/data01/shome/micheli/HHbbgg_ETH_devel/outfiles/20180108_test/Total_preselection_diffNaming.root:/\n"
     ]
    }
   ],
   "source": [
    "#from subprocess import call\n",
    "#call([\"hadd\",\"daje.root *diffNaming.root\"])\n",
    "print \"cd \"+os.path.expanduser('~/HHbbgg_ETH_devel/outfiles/')+outTag\n",
    "os.system('hadd '+ os.path.expanduser('~/HHbbgg_ETH_devel/outfiles/')+outTag+'/'+'Total_preselection_diffNaming.root '+ os.path.expanduser('~/HHbbgg_ETH_devel/outfiles/')+outTag+'/'+'*diffNaming.root')"
   ]
  },
  {
   "cell_type": "code",
   "execution_count": null,
   "metadata": {
    "collapsed": true
   },
   "outputs": [],
   "source": []
  }
 ],
 "metadata": {
  "anaconda-cloud": {},
  "kernelspec": {
   "display_name": "Python [conda root]",
   "language": "python",
   "name": "conda-root-py"
  },
  "language_info": {
   "codemirror_mode": {
    "name": "ipython",
    "version": 2
   },
   "file_extension": ".py",
   "mimetype": "text/x-python",
   "name": "python",
   "nbconvert_exporter": "python",
   "pygments_lexer": "ipython2",
   "version": "2.7.12"
  }
 },
 "nbformat": 4,
 "nbformat_minor": 1
}
