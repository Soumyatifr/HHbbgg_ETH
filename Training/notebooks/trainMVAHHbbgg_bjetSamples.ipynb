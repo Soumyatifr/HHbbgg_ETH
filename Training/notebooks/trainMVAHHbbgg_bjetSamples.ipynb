{
 "cells": [
  {
   "cell_type": "code",
   "execution_count": 1,
   "metadata": {
    "collapsed": false
   },
   "outputs": [
    {
     "data": {
      "application/javascript": [
       "require(['codemirror/mode/clike/clike'], function(Clike) { console.log('ROOTaaS - C++ CodeMirror module loaded'); });"
      ]
     },
     "metadata": {},
     "output_type": "display_data"
    },
    {
     "data": {
      "application/javascript": [
       "IPython.CodeCell.config_defaults.highlight_modes['magic_text/x-c++src'] = {'reg':[/^%%cpp/]};"
      ]
     },
     "metadata": {},
     "output_type": "display_data"
    },
    {
     "name": "stdout",
     "output_type": "stream",
     "text": [
      "Welcome to ROOTaaS 6.05/02\n"
     ]
    },
    {
     "data": {
      "text/plain": [
       "<module 'postprocessing_utils' from '/mnt/t3nfs01/data01/shome/micheli/HHbbgg_ETH_devel/Training/python/postprocessing_utils.pyc'>"
      ]
     },
     "execution_count": 1,
     "metadata": {},
     "output_type": "execute_result"
    }
   ],
   "source": [
    "import os\n",
    "import sys; sys.path.append(\"~/HHbbgg_ETH_devel/Training/python\") # to load packages\n",
    "import training_utils as utils\n",
    "import numpy as np\n",
    "reload(utils)\n",
    "import preprocessing_utils as preprocessing\n",
    "reload(preprocessing)\n",
    "import plotting_utils as plotting\n",
    "reload(plotting)\n",
    "import optimization_utils as optimization\n",
    "reload(optimization)\n",
    "import postprocessing_utils as postprocessing\n",
    "reload(postprocessing)\n"
   ]
  },
  {
   "cell_type": "code",
   "execution_count": 2,
   "metadata": {
    "collapsed": false
   },
   "outputs": [
    {
     "name": "stdout",
     "output_type": "stream",
     "text": [
      "env: data=/mnt/t3nfs01/data01/shome/micheli/HHbbgg_ETH/root_files/20170620\n",
      "using background file n.0: /mnt/t3nfs01/data01/shome/micheli/HHbbgg_ETH/root_files/20170620/output_GJet_Pt-40toInf_DoubleEMEnriched_MGG-80toInf_TuneCUETP8M1_13TeV_Pythia8.root\n",
      "using signal file n.0: /mnt/t3nfs01/data01/shome/micheli/HHbbgg_ETH/root_files/20170620/AllNonResSig.root\n"
     ]
    }
   ],
   "source": [
    "ntuples = '20170620'\n",
    "# \"%\" sign allows to interpret the rest as a system command\n",
    "%env data=$utils.IO.ldata$ntuples\n",
    "files = ! ls $data | sort -t_ -k 3 -n\n",
    "signal = [s for s in files if \"NonRes\" in s]\n",
    "diphotonJets = [s for s in files if \"DiPhotonJetsBox_\" in s]\n",
    "diphotonJets_1B = [s for s in files if \"DiPhotonJetsBox1B\" in s]\n",
    "diphotonJets_2B = [s for s in files if \"DiPhotonJetsBox2B\" in s]\n",
    "gJets_lowPt = [s for s in files if \"GJet_Pt-20to40\" in s]\n",
    "gJets_highPt = [s for s in files if \"GJet_Pt-40\" in s]\n",
    "ggH = [s for s in files if \"GluGluHToGG_M-125\" in s]\n",
    "ttH = [s for s in files if \"ttHToGG_M125\" in s]\n",
    "\n",
    "utils.IO.add_signal(ntuples,signal,1)\n",
    "#utils.IO.add_background(ntuples,diphotonJets,-1)\n",
    "#utils.IO.add_background(ntuples,gJets_lowPt,-2)\n",
    "utils.IO.add_background(ntuples,gJets_highPt,-2)\n",
    "#utils.IO.add_background(ntuples,diphotonJets_1B,-1)\n",
    "#utils.IO.add_background(ntuples,diphotonJets_2B,-1)\n",
    "#utils.IO.add_background(ntuples,ggH,-3)\n",
    "#utils.IO.add_background(ntuples,ttH,-4)\n",
    "\n",
    "\n",
    "for i in range(len(utils.IO.backgroundName)):        \n",
    "    print \"using background file n.\"+str(i)+\": \"+utils.IO.backgroundName[i]\n",
    "for i in range(len(utils.IO.signalName)):    \n",
    "    print \"using signal file n.\"+str(i)+\": \"+utils.IO.signalName[i]"
   ]
  },
  {
   "cell_type": "code",
   "execution_count": 3,
   "metadata": {
    "collapsed": false,
    "scrolled": true
   },
   "outputs": [
    {
     "name": "stdout",
     "output_type": "stream",
     "text": [
      "['leadingJet_bDis', 'subleadingJet_bDis', 'leadingPhotonSigOverE', 'subleadingPhotonSigOverE', 'sigmaMOverMDecorr', 'PhoJetMinDr']\n",
      "(60669, 6)\n",
      "(60669, 1)\n",
      "(20955, 6)\n",
      "(20955,)\n"
     ]
    }
   ],
   "source": [
    "###simple stupid test\n",
    "branch_names = 'leadingJet_bDis,subleadingJet_bDis,leadingPhotonSigOverE,subleadingPhotonSigOverE,sigmaMOverMDecorr,PhoJetMinDr'.split(\",\")\n",
    "\n",
    "#use noexpand for root expressions, it needs this file https://github.com/ibab/root_pandas/blob/master/root_pandas/readwrite.py\n",
    "#branch_names = 'leadingJet_bDis,subleadingJet_bDis,noexpand:fabs(CosThetaStar_CS),noexpand:fabs(CosTheta_bb),noexpand:fabs(CosTheta_gg),noexpand:diphotonCandidate.Pt()/diHiggsCandidate.M(),noexpand:dijetCandidate.Pt()/diHiggsCandidate.M(),customLeadingPhotonIDMVA,customSubLeadingPhotonIDMVA,leadingPhotonSigOverE,subleadingPhotonSigOverE,sigmaMOverMDecorr,DiJetDiPho_DR'.split(\",\")\n",
    "\n",
    "###### REMOVING DR(hh) since not SAFE\n",
    "### remove DR if you don't want to use it\n",
    "### adding minDr(Gamma,Jet)\n",
    "#branch_names = 'leadingJet_bDis,subleadingJet_bDis,noexpand:fabs(CosThetaStar_CS),noexpand:fabs(CosTheta_bb),noexpand:fabs(CosTheta_gg),noexpand:diphotonCandidate.Pt()/diHiggsCandidate.M(),noexpand:dijetCandidate.Pt()/diHiggsCandidate.M(),customLeadingPhotonIDMVA,customSubLeadingPhotonIDMVA,leadingPhotonSigOverE,subleadingPhotonSigOverE,sigmaMOverMDecorr,PhoJetMinDr'.split(\",\")\n",
    "#### Trying to add Mjj as variable, removing DR\n",
    "#branch_names = 'leadingJet_bDis,subleadingJet_bDis,noexpand:fabs(CosThetaStar_CS),noexpand:fabs(CosTheta_bb),noexpand:fabs(CosTheta_gg),noexpand:diphotonCandidate.Pt()/diHiggsCandidate.M(),noexpand:dijetCandidate.Pt()/diHiggsCandidate.M(),customLeadingPhotonIDMVA,customSubLeadingPhotonIDMVA,leadingPhotonSigOverE,subleadingPhotonSigOverE,sigmaMOverMDecorr,noexpand:dijetCandidate.M()'.split(\",\")\n",
    "#### Trying to add Mjj as variable, keeping DR\n",
    "#branch_names = 'leadingJet_bDis,subleadingJet_bDis,noexpand:fabs(CosThetaStar_CS),noexpand:fabs(CosTheta_bb),noexpand:fabs(CosTheta_gg),noexpand:diphotonCandidate.Pt()/diHiggsCandidate.M(),noexpand:dijetCandidate.Pt()/diHiggsCandidate.M(),customLeadingPhotonIDMVA,customSubLeadingPhotonIDMVA,leadingPhotonSigOverE,subleadingPhotonSigOverE,sigmaMOverMDecorr,DiJetDiPho_DR,noexpand:dijetCandidate.M()'.split(\",\")\n",
    "#### Trying to add Mjj as variable, removing DR, adding minDr(Gamma,Jet)\n",
    "#branch_names = 'leadingJet_bDis,subleadingJet_bDis,noexpand:fabs(CosThetaStar_CS),noexpand:fabs(CosTheta_bb),noexpand:fabs(CosTheta_gg),noexpand:diphotonCandidate.Pt()/diHiggsCandidate.M(),noexpand:dijetCandidate.Pt()/diHiggsCandidate.M(),customLeadingPhotonIDMVA,customSubLeadingPhotonIDMVA,leadingPhotonSigOverE,subleadingPhotonSigOverE,sigmaMOverMDecorr,PhoJetMinDr,noexpand:dijetCandidate.M()'.split(\",\")\n",
    "\n",
    "\n",
    "branch_names = [c.strip() for c in branch_names]\n",
    "#branch_names = (b.replace(\" \", \"_\") for b in branch_names)\n",
    "#branch_names = list(b.replace(\"-\", \"_\") for b in branch_names)\n",
    "print branch_names\n",
    "\n",
    "import pandas as pd\n",
    "import root_pandas as rpd\n",
    "\n",
    "#utils.IO.get_cross_sections('jsons/datasets80X_Moriond.json')\n",
    "#utils.IO.w_sig.append(utils.IO.get_weight('signal','nrSM',0))\n",
    "#utils.IO.w_bkg(utils.IO.get_weight('background','DiPhoJets',0))\n",
    "#utils.IO.w_bkg(utils.IO.get_weight('background','GJets',0))\n",
    "#utils.IO.w_bkg(utils.IO.get_weight('background','GJets',1))\n",
    "\n",
    "\n",
    "preprocessing.set_signals_and_backgrounds(\"bbggSelectionTree\",branch_names)\n",
    "X_bkg,y_bkg,weights_bkg,X_sig,y_sig,weights_sig=preprocessing.set_variables(branch_names)\n",
    "\n",
    "#relative weighting between components of one class is kept, all classes normalized to the same\n",
    "weights_sig=preprocessing.weight_signal_with_resolution(weights_sig,y_sig)\n",
    "#reweight also resonant higgs with resolution\n",
    "weights_bkg=preprocessing.weight_background_with_resolution(weights_bkg,y_bkg,-3)\n",
    "#weights_bkg=preprocessing.weight_background_with_resolution(weights_bkg,y_bkg,-4)\n",
    "\n",
    "\n",
    "weights_bkg,weights_sig=preprocessing.normalize_process_weights(weights_bkg,y_bkg,weights_sig,y_sig)\n",
    "\n",
    "#######correct weight\n",
    "#weights_bkg=preprocessing.scale_process_weight(weights_bkg,y_bkg,-3.,0.0049)\n",
    "#try to increase weight of ggH\n",
    "weights_bkg=preprocessing.scale_process_weight(weights_bkg,y_bkg,-3.,0.049)\n",
    "\n",
    "#weights_bkg=preprocessing.scale_process_weight(weights_bkg,y_bkg,-4.,0.00044)\n",
    "\n",
    "X_bkg,y_bkg,weights_bkg = preprocessing.randomize(X_bkg,y_bkg,weights_bkg)\n",
    "#X_sig,y_sig,weights_sig = preprocessing.randomize(X_sig,y_sig,weights_sig)\n",
    "\n",
    "\n",
    "print X_bkg.shape\n",
    "print y_bkg.shape\n",
    "#bbggTrees have by default signal and CR events, let's be sure that we clean it\n",
    "X_bkg,y_bkg,weights_bkg,X_sig,y_sig,weights_sig=preprocessing.clean_signal_events(X_bkg,y_bkg,weights_bkg,X_sig,y_sig,weights_sig)\n",
    "print X_bkg.shape\n",
    "print y_bkg.shape\n",
    "\n",
    "y_total_train = preprocessing.get_total_training_sample(y_sig,y_bkg).ravel()\n",
    "X_total_train = preprocessing.get_total_training_sample(X_sig,X_bkg)\n",
    "\n",
    "y_total_test = preprocessing.get_total_test_sample(y_sig,y_bkg).ravel()\n",
    "X_total_test = preprocessing.get_total_test_sample(X_sig,X_bkg)\n",
    "\n",
    "w_total_train = preprocessing.get_total_training_sample(weights_sig,weights_bkg).ravel()\n",
    "w_total_test = preprocessing.get_total_test_sample(weights_sig,weights_bkg).ravel()\n"
   ]
  },
  {
   "cell_type": "code",
   "execution_count": 4,
   "metadata": {
    "collapsed": false
   },
   "outputs": [
    {
     "data": {
      "text/plain": [
       "['/mnt/t3nfs01/data01/shome/micheli/HHbbgg_ETH_devel/Training/output_files/simple_test_binary.pkl']"
      ]
     },
     "execution_count": 4,
     "metadata": {},
     "output_type": "execute_result"
    }
   ],
   "source": [
    "########final optimization with all fixed#######\n",
    "\n",
    "from sklearn.externals import joblib\n",
    "import xgboost as xgb\n",
    "\n",
    "#optimized parameters\n",
    "clf = xgb.XGBClassifier(base_score=0.5, colsample_bylevel=1, colsample_bytree=1,\n",
    "       gamma=0, learning_rate=0.1, max_delta_step=0, max_depth=5,\n",
    "       min_child_weight=1e-05, missing=None, n_estimators=1500, nthread=20,\n",
    "       objective='binary:logistic', reg_alpha=0, reg_lambda=0.1,\n",
    "       scale_pos_weight=1, seed=0, silent=True, subsample=1)\n",
    "clf.fit(X_total_train,y_total_train, sample_weight=w_total_train)\n",
    "joblib.dump(clf, os.path.expanduser('~/HHbbgg_ETH_devel/Training/output_files/simple_test_binary.pkl'), compress=9)"
   ]
  },
  {
   "cell_type": "code",
   "execution_count": 19,
   "metadata": {
    "collapsed": false
   },
   "outputs": [
    {
     "data": {
      "image/png": "[encoded data removed]",
      "text/plain": [
       "<matplotlib.figure.Figure at 0x7f5d8767ea10>"
      ]
     },
     "metadata": {},
     "output_type": "display_data"
    },
    {
     "ename": "ValueError",
     "evalue": "The truth value of an array with more than one element is ambiguous. Use a.any() or a.all()",
     "output_type": "error",
     "traceback": [
      "\u001b[0;31m\u001b[0m",
      "\u001b[0;31mValueError\u001b[0mTraceback (most recent call last)",
      "\u001b[0;32m<ipython-input-19-580e8f573fd6>\u001b[0m in \u001b[0;36m<module>\u001b[0;34m()\u001b[0m\n\u001b[1;32m      3\u001b[0m \u001b[0mplotting\u001b[0m\u001b[0;34m.\u001b[0m\u001b[0mplot_classifier_output\u001b[0m\u001b[0;34m(\u001b[0m\u001b[0mclf\u001b[0m\u001b[0;34m,\u001b[0m\u001b[0mX_total_train\u001b[0m\u001b[0;34m,\u001b[0m\u001b[0mX_total_test\u001b[0m\u001b[0;34m,\u001b[0m\u001b[0my_total_train\u001b[0m\u001b[0;34m,\u001b[0m\u001b[0my_total_test\u001b[0m\u001b[0;34m,\u001b[0m\u001b[0moutString\u001b[0m\u001b[0;34m=\u001b[0m\u001b[0;34m\"xbrg_resWeight_optimized_ggH_reweight_smalltest\"\u001b[0m\u001b[0;34m)\u001b[0m\u001b[0;34m\u001b[0m\u001b[0m\n\u001b[1;32m      4\u001b[0m \u001b[0mplt\u001b[0m\u001b[0;34m.\u001b[0m\u001b[0mshow\u001b[0m\u001b[0;34m(\u001b[0m\u001b[0;34m)\u001b[0m\u001b[0;34m\u001b[0m\u001b[0m\n\u001b[0;32m----> 5\u001b[0;31m \u001b[0mfpr_gJets_2ndtest_2\u001b[0m\u001b[0;34m,\u001b[0m\u001b[0mtpr_gJets_2ndtest_2\u001b[0m \u001b[0;34m=\u001b[0m \u001b[0mplotting\u001b[0m\u001b[0;34m.\u001b[0m\u001b[0mplot_roc_curve_multiclass_singleBkg\u001b[0m\u001b[0;34m(\u001b[0m\u001b[0mX_total_test\u001b[0m\u001b[0;34m,\u001b[0m\u001b[0my_total_test\u001b[0m\u001b[0;34m,\u001b[0m\u001b[0mclf\u001b[0m\u001b[0;34m,\u001b[0m\u001b[0;34m-\u001b[0m\u001b[0;36m2\u001b[0m\u001b[0;34m,\u001b[0m\u001b[0moutString\u001b[0m\u001b[0;34m=\u001b[0m\u001b[0;34m\"xgbr_gJets_resWeighting_optimized_ggH_reweight_smalltest\"\u001b[0m\u001b[0;34m,\u001b[0m\u001b[0mweights\u001b[0m\u001b[0;34m=\u001b[0m\u001b[0mw_total_test\u001b[0m\u001b[0;34m)\u001b[0m\u001b[0;34m\u001b[0m\u001b[0m\n\u001b[0m\u001b[1;32m      6\u001b[0m \u001b[0mplt\u001b[0m\u001b[0;34m.\u001b[0m\u001b[0mshow\u001b[0m\u001b[0;34m(\u001b[0m\u001b[0;34m)\u001b[0m\u001b[0;34m\u001b[0m\u001b[0m\n\u001b[1;32m      7\u001b[0m \u001b[0mfpr_dipho_2ndtest_2\u001b[0m\u001b[0;34m,\u001b[0m\u001b[0mtpr_dipho_2ndtest_2\u001b[0m \u001b[0;34m=\u001b[0m \u001b[0mplotting\u001b[0m\u001b[0;34m.\u001b[0m\u001b[0mplot_roc_curve_multiclass_singleBkg\u001b[0m\u001b[0;34m(\u001b[0m\u001b[0mX_total_test\u001b[0m\u001b[0;34m,\u001b[0m\u001b[0my_total_test\u001b[0m\u001b[0;34m,\u001b[0m\u001b[0mclf\u001b[0m\u001b[0;34m,\u001b[0m\u001b[0;34m-\u001b[0m\u001b[0;36m1\u001b[0m\u001b[0;34m,\u001b[0m\u001b[0moutString\u001b[0m\u001b[0;34m=\u001b[0m\u001b[0;34m\"xgbr_diphotons_resWeighting_optimized_ggH_reweight_smalltest\"\u001b[0m\u001b[0;34m,\u001b[0m\u001b[0mweights\u001b[0m\u001b[0;34m=\u001b[0m\u001b[0mw_total_test\u001b[0m\u001b[0;34m)\u001b[0m\u001b[0;34m\u001b[0m\u001b[0m\n",
      "\u001b[0;32m/mnt/t3nfs01/data01/shome/micheli/HHbbgg_ETH_devel/Training/python/plotting_utils.pyc\u001b[0m in \u001b[0;36mplot_roc_curve_multiclass_singleBkg\u001b[0;34m(x, y, clf, backgroundClassOutput, signalClassOutput, outString, weights)\u001b[0m\n\u001b[1;32m    191\u001b[0m     \u001b[0mx_tot\u001b[0m\u001b[0;34m=\u001b[0m\u001b[0mnp\u001b[0m\u001b[0;34m.\u001b[0m\u001b[0mconcatenate\u001b[0m\u001b[0;34m(\u001b[0m\u001b[0;34m(\u001b[0m\u001b[0mx_bkg\u001b[0m\u001b[0;34m,\u001b[0m\u001b[0mx_sig\u001b[0m\u001b[0;34m)\u001b[0m\u001b[0;34m)\u001b[0m\u001b[0;34m\u001b[0m\u001b[0m\n\u001b[1;32m    192\u001b[0m \u001b[0;34m\u001b[0m\u001b[0m\n\u001b[0;32m--> 193\u001b[0;31m     \u001b[0;32mif\u001b[0m \u001b[0mweights\u001b[0m \u001b[0;34m!=\u001b[0m \u001b[0mNone\u001b[0m\u001b[0;34m:\u001b[0m\u001b[0;34m\u001b[0m\u001b[0m\n\u001b[0m\u001b[1;32m    194\u001b[0m         \u001b[0mw_bkg\u001b[0m \u001b[0;34m=\u001b[0m \u001b[0mnp\u001b[0m\u001b[0;34m.\u001b[0m\u001b[0masarray\u001b[0m\u001b[0;34m(\u001b[0m\u001b[0mweights\u001b[0m\u001b[0;34m)\u001b[0m\u001b[0;34m[\u001b[0m\u001b[0mnp\u001b[0m\u001b[0;34m.\u001b[0m\u001b[0mwhere\u001b[0m\u001b[0;34m(\u001b[0m\u001b[0mnp\u001b[0m\u001b[0;34m.\u001b[0m\u001b[0masarray\u001b[0m\u001b[0;34m(\u001b[0m\u001b[0my\u001b[0m\u001b[0;34m)\u001b[0m\u001b[0;34m==\u001b[0m\u001b[0mbackgroundClassOutput\u001b[0m\u001b[0;34m)\u001b[0m\u001b[0;34m]\u001b[0m\u001b[0;34m\u001b[0m\u001b[0m\n\u001b[1;32m    195\u001b[0m         \u001b[0mw_sig\u001b[0m\u001b[0;34m=\u001b[0m\u001b[0mnp\u001b[0m\u001b[0;34m.\u001b[0m\u001b[0masarray\u001b[0m\u001b[0;34m(\u001b[0m\u001b[0mweights\u001b[0m\u001b[0;34m)\u001b[0m\u001b[0;34m[\u001b[0m\u001b[0mnp\u001b[0m\u001b[0;34m.\u001b[0m\u001b[0mwhere\u001b[0m\u001b[0;34m(\u001b[0m\u001b[0mnp\u001b[0m\u001b[0;34m.\u001b[0m\u001b[0masarray\u001b[0m\u001b[0;34m(\u001b[0m\u001b[0my\u001b[0m\u001b[0;34m)\u001b[0m\u001b[0;34m==\u001b[0m\u001b[0msignalClassOutput\u001b[0m\u001b[0;34m)\u001b[0m\u001b[0;34m]\u001b[0m\u001b[0;34m\u001b[0m\u001b[0m\n",
      "\u001b[0;31mValueError\u001b[0m: The truth value of an array with more than one element is ambiguous. Use a.any() or a.all()"
     ]
    }
   ],
   "source": [
    "import matplotlib.pyplot as plt\n",
    "\n",
    "plotting.plot_classifier_output(clf,X_total_train,X_total_test,y_total_train,y_total_test,outString=\"xbrg_resWeight_optimized_ggH_reweight_smalltest\")\n",
    "plt.show()\n",
    "fpr_gJets_2ndtest_2,tpr_gJets_2ndtest_2 = plotting.plot_roc_curve_multiclass_singleBkg(X_total_test,y_total_test,clf,-2,outString=\"xgbr_gJets_resWeighting_optimized_ggH_reweight_smalltest\",weights=w_total_test)\n",
    "plt.show()\n",
    "fpr_dipho_2ndtest_2,tpr_dipho_2ndtest_2 = plotting.plot_roc_curve_multiclass_singleBkg(X_total_test,y_total_test,clf,-1,outString=\"xgbr_diphotons_resWeighting_optimized_ggH_reweight_smalltest\",weights=w_total_test)\n",
    "plt.show()\n",
    "fpr_dipho_2ndtest_2,tpr_dipho_2ndtest_2 = plotting.plot_roc_curve_multiclass_singleBkg(X_total_test,y_total_test,clf,-3,outString=\"xgbr_diphotonsBJets_resWeighting_optimized_ggH_reweight_smalltest\",weights=w_total_test)\n",
    "plt.show()"
   ]
  },
  {
   "cell_type": "code",
   "execution_count": null,
   "metadata": {
    "collapsed": true
   },
   "outputs": [],
   "source": []
  }
 ],
 "metadata": {
  "anaconda-cloud": {},
  "kernelspec": {
   "display_name": "Python [conda root]",
   "language": "python",
   "name": "conda-root-py"
  },
  "language_info": {
   "codemirror_mode": {
    "name": "ipython",
    "version": 2
   },
   "file_extension": ".py",
   "mimetype": "text/x-python",
   "name": "python",
   "nbconvert_exporter": "python",
   "pygments_lexer": "ipython2",
   "version": "2.7.12"
  }
 },
 "nbformat": 4,
 "nbformat_minor": 1
}
