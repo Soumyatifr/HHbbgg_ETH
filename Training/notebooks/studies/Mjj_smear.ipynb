{
 "cells": [
  {
   "cell_type": "code",
   "execution_count": 169,
   "metadata": {
    "collapsed": false
   },
   "outputs": [],
   "source": [
    "import os\n",
    "import sys; sys.path.append(\"~/HHbbgg_ETH_devel/Training/python\") # to load packages\n",
    "import training_utils as utils\n",
    "import numpy as np\n",
    "reload(utils)\n",
    "import preprocessing_utils as preprocessing\n",
    "reload(preprocessing)\n",
    "import plotting_utils as plotting\n",
    "reload(plotting)\n",
    "import optimization_utils as optimization\n",
    "reload(optimization)\n",
    "import postprocessing_utils as postprocessing\n",
    "reload(postprocessing)\n",
    "import pandas as pd\n",
    "import root_pandas as rpd\n",
    "import matplotlib.pyplot as plt\n",
    "import json\n",
    "from ROOT import TLorentzVector\n",
    "from optparse import OptionParser, make_option\n",
    "from  pprint import pprint\n",
    "import commands\n",
    "import time\n",
    "import datetime\n",
    "start_time = time.time()"
   ]
  },
  {
   "cell_type": "code",
   "execution_count": 159,
   "metadata": {
    "collapsed": true
   },
   "outputs": [],
   "source": [
    "clf_trainings = []\n",
    "plot_classifier_all = []\n",
    "fpr_dipho_all,tpr_dipho_all = [],[]\n",
    "fpr_gJets_all,tpr_gJets_all = [],[]\n",
    "X_total_train_all = []\n",
    "X_total_test_all = []\n",
    "y_total_train_all = []\n",
    "y_total_test_all = []\n",
    "labels=[]"
   ]
  },
  {
   "cell_type": "code",
   "execution_count": 170,
   "metadata": {
    "collapsed": false
   },
   "outputs": [
    {
     "name": "stdout",
     "output_type": "stream",
     "text": [
      "env: data=/shome/nchernya/HHbbgg_ETH_devel/root_files/ntuples_2016_20191803\n",
      "using background file n.0: /shome/nchernya/HHbbgg_ETH_devel/root_files/ntuples_2016_20191803/output_DiPhotonJetsBox_MGG-80toInf_13TeV-Sherpa.root\n",
      "using background file n.1: /shome/nchernya/HHbbgg_ETH_devel/root_files/ntuples_2016_20191803/output_GJet_Pt-20to40_DoubleEMEnriched_MGG-80toInf_TuneCUETP8M1_13TeV_Pythia8.root\n",
      "using background file n.2: /shome/nchernya/HHbbgg_ETH_devel/root_files/ntuples_2016_20191803/output_GJet_Pt-40toInf_DoubleEMEnriched_MGG-80toInf_TuneCUETP8M1_13TeV_Pythia8.root\n",
      "using signal file n.0: /shome/nchernya/HHbbgg_ETH_devel/root_files/ntuples_2016_20191803/output_GluGluToHHTo2B2G_nodesPlusSM_13TeV-madgraph.root\n"
     ]
    }
   ],
   "source": [
    "year=0\n",
    "\n",
    "dirs = ['ntuples_2016_20191803','ntuples_2017_20191803']\n",
    "ntuples = dirs[year]\n",
    "SMname = ['GluGluToHHTo2B2G_nodesPlusSM_13TeV_madgraph_13TeV_DoubleHTag_0','GluGluToHHTo2B2G_nodesPlusSM_13TeV_madgraph_13TeV_DoubleHTag_0']\n",
    "NodesNormalizationFile = '/shome/nchernya/HHbbgg_ETH_devel/root_files/normalizations/reweighting_normalization_18_03_2019.json'\n",
    "useMixOfNodes = True\n",
    "whichNodes = list(np.arange(0,12,1))\n",
    "whichNodes.append('SM')\n",
    "signalMixOfNodesNormalizations = json.loads(open(NodesNormalizationFile).read())\n",
    "# \"%\" sign allows to interpret the rest as a system command\n",
    "get_ipython().magic(u'env data=$utils.IO.ldata$ntuples')\n",
    "status,files = commands.getstatusoutput('! ls $data | sort -t_ -k 3 -n')\n",
    "files=files.split('\\n')    \n",
    "    \n",
    "signal = [s for s in files if (\"GluGluToHHTo2B2G_nodesPlusSM_\" in s) ]\n",
    "diphotonJets = [s for s in files if \"DiPhotonJetsBox_\" in s]\n",
    "#diphotonJets_1B = [s for s in files if \"DiPhotonJetsBox1B\" in s] # will use for limits\n",
    "#diphotonJets_2B = [s for s in files if \"DiPhotonJetsBox2B\" in s] # will use for limits\n",
    "gJets_lowPt = [s for s in files if \"GJet_Pt-20to40\" in s]\n",
    "gJets_highPt = [s for s in files if \"GJet_Pt-40\" in s]\n",
    "\n",
    "utils.IO.use_signal_nodes(useMixOfNodes,whichNodes,signalMixOfNodesNormalizations)\n",
    "utils.IO.add_signal(ntuples,signal,1,'tagsDumper/trees/%s'%SMname[year],year)\n",
    "#utils.IO.add_signal(ntuples,signal,1,'GluGluToHHTo2B2G_12nodes_13TeV_madgraph',year)\n",
    "utils.IO.add_background(ntuples,diphotonJets,-1,'tagsDumper/trees/'+diphotonJets[0][diphotonJets[0].find('output_')+7:diphotonJets[0].find('.root')].replace('-','_')+'_13TeV_DoubleHTag_0',year)\n",
    "utils.IO.add_background(ntuples,gJets_lowPt,-2,'tagsDumper/trees/'+gJets_lowPt[0][gJets_lowPt[0].find('output_')+7:gJets_lowPt[0].find('.root')].replace('-','_')+'_13TeV_DoubleHTag_0',year)                            \n",
    "utils.IO.add_background(ntuples,gJets_highPt,-2,'tagsDumper/trees/'+gJets_highPt[0][gJets_highPt[0].find('output_')+7:gJets_highPt[0].find('.root')].replace('-','_')+'_13TeV_DoubleHTag_0',year)                           \n",
    "\n",
    "for i in range(len(utils.IO.backgroundName)):        \n",
    "    print \"using background file n.\"+str(i)+\": \"+utils.IO.backgroundName[i]\n",
    "for i in range(len(utils.IO.signalName)):    \n",
    "    print \"using signal file n.\"+str(i)+\": \"+utils.IO.signalName[i]"
   ]
  },
  {
   "cell_type": "code",
   "execution_count": 171,
   "metadata": {
    "collapsed": false
   },
   "outputs": [],
   "source": [
    "outstr = \"23_05_2019_trainingMjj_year_nosmear%s\"%year\n",
    "utils.IO.plotFolder = '/mnt/t3nfs01/data01/shome/nchernya/HHbbgg_ETH_devel/Training/plots/%s/'%outstr\n",
    "if not os.path.exists(utils.IO.plotFolder):\n",
    "    print utils.IO.plotFolder, \"doesn't exist, creating it...\"\n",
    "    os.makedirs(utils.IO.plotFolder)\n",
    "\n",
    "doReweight2017 = False #reweight signal from 2017 to match 2016 (mix of nodes reweight with HH_mass at gen level)"
   ]
  },
  {
   "cell_type": "code",
   "execution_count": 172,
   "metadata": {
    "collapsed": false
   },
   "outputs": [
    {
     "name": "stdout",
     "output_type": "stream",
     "text": [
      "['Mjj', 'leadingJet_DeepCSV', 'subleadingJet_DeepCSV', 'absCosThetaStar_CS', 'absCosTheta_bb', 'absCosTheta_gg', 'diphotonCandidatePtOverdiHiggsM', 'dijetCandidatePtOverdiHiggsM', 'customLeadingPhotonIDMVA', 'customSubLeadingPhotonIDMVA', 'leadingPhotonSigOverE', 'subleadingPhotonSigOverE', 'sigmaMOverM', 'PhoJetMinDr', 'rho', 'noexpand:(leadingJet_bRegNNResolution*1.4826)', 'noexpand:(subleadingJet_bRegNNResolution*1.4826)', 'noexpand:(sigmaMJets*1.4826)']\n",
      "using tree:tagsDumper/trees/GluGluToHHTo2B2G_nodesPlusSM_13TeV_madgraph_13TeV_DoubleHTag_0\n",
      "using tree:tagsDumper/trees/DiPhotonJetsBox_MGG_80toInf_13TeV_Sherpa_13TeV_DoubleHTag_0\n",
      "using tree:tagsDumper/trees/GJet_Pt_20to40_DoubleEMEnriched_MGG_80toInf_TuneCUETP8M1_13TeV_Pythia8_13TeV_DoubleHTag_0\n",
      "using tree:tagsDumper/trees/GJet_Pt_40toInf_DoubleEMEnriched_MGG_80toInf_TuneCUETP8M1_13TeV_Pythia8_13TeV_DoubleHTag_0\n"
     ]
    }
   ],
   "source": [
    "#use noexpand for root expressions, it needs this file https://github.com/ibab/root_pandas/blob/master/root_pandas/readwrite.py\n",
    "########################new code branches############################\n",
    "#branch_names = 'leadingJet_bDis,subleadingJet_bDis,absCosThetaStar_CS,absCosTheta_bb,absCosTheta_gg,diphotonCandidatePtOverdiHiggsM,dijetCandidatePtOverdiHiggsM,customLeadingPhotonIDMVA,customSubLeadingPhotonIDMVA,leadingPhotonSigOverE,subleadingPhotonSigOverE,sigmaMOverMDecorr,PhoJetMinDr'.split(\",\") #set of variables March 2017 but regressed\n",
    "branch_names = 'Mjj,leadingJet_DeepCSV,subleadingJet_DeepCSV,absCosThetaStar_CS,absCosTheta_bb,absCosTheta_gg,diphotonCandidatePtOverdiHiggsM,dijetCandidatePtOverdiHiggsM,customLeadingPhotonIDMVA,customSubLeadingPhotonIDMVA,leadingPhotonSigOverE,subleadingPhotonSigOverE,sigmaMOverM,PhoJetMinDr'.split(\",\") #set of variables March 2017 but regressed\n",
    "b_reg_branches = 'noexpand:(leadingJet_bRegNNResolution*1.4826),noexpand:(subleadingJet_bRegNNResolution*1.4826),noexpand:(sigmaMJets*1.4826)'.split(\",\")\n",
    "branch_cuts = 'leadingJet_pt,subleadingJet_pt,leadingJet_bRegNNCorr,subleadingJet_bRegNNCorr,noexpand:(leadingJet_pt/leadingJet_bRegNNCorr),noexpand:(subleadingJet_pt/subleadingJet_bRegNNCorr)'.split(',')\n",
    "cuts = 'leadingJet_pt>0'\n",
    "nodesWeightBranches=[]\n",
    "if utils.IO.signalMixOfNodes : nodesWeightBranches=[ 'benchmark_reweight_%s'%i for i in whichNodes ] \n",
    "#cuts = 'subleadingJet_pt>25'\n",
    "######################\n",
    "\n",
    "#event_branches = ['event','sigmaMOverM','noexpand:(dijetSigmaMOverM*1.4826)']\n",
    "event_branches = ['event','weight','MX','leadingJet_hflav','leadingJet_pflav','subleadingJet_hflav','subleadingJet_pflav']\n",
    "\n",
    "branch_names = branch_names + ['rho']\n",
    "branch_names = branch_names+b_reg_branches\n",
    "resolution_weighting = 'ggbb' # None, gg or ggbb\n",
    "doOverlapRemoval=False   #diphotons overlap removal if using b-enriched samples\n",
    "\n",
    "\n",
    "branch_names = [c.strip() for c in branch_names]\n",
    "print branch_names\n",
    "\n",
    "event_bkg,event_sig = None,None\n",
    "if (year==1 and doReweight2017 == True):\n",
    "    preprocessing.set_signals(branch_names+event_branches+branch_cuts+['genMhh'],True,cuts)\n",
    "    preprocessing.set_backgrounds(branch_names+event_branches+branch_cuts,True,cuts)\n",
    "else :\n",
    "    preprocessing.set_signals(branch_names+event_branches+branch_cuts+nodesWeightBranches,True,cuts)\n",
    "    preprocessing.set_backgrounds(branch_names+event_branches+branch_cuts,True,cuts)\n",
    "\n",
    "\n",
    "info_file = open(utils.IO.plotFolder+\"info_%s.txt\"%outstr,\"w\") \n",
    "info_file.write(\"\\n\".join(branch_names))\n",
    "info_file.write(\"Resolution weighting : %s\\n\"%resolution_weighting)\n",
    "info_file.write(\"Cuts : %s\\n\"%cuts)\n",
    "info_file.write(\"Signal weighted Events Sum before inverse resolution weighting : \\n\")\n",
    "info_file.write(\"%.4f \\n\"%(np.sum(utils.IO.signal_df[0]['weight']))) \n",
    "info_file.write(\"Background weighted Events Sum : \\n\")\n",
    "sum_bkg_weights = 0\n",
    "for bkg_type in range(utils.IO.nBkg):\n",
    "    bkg_weight = np.sum(utils.IO.background_df[bkg_type]['weight'])\n",
    "    sum_bkg_weights+=bkg_weight\n",
    "    info_file.write(\"proc %d : %.4f \\n\"%( utils.IO.bkgProc[bkg_type],bkg_weight)) \n",
    "info_file.write(\"Background weighted Events Sum Total : %.4f \\n\"%(sum_bkg_weights)) \n",
    "info_file.close()\n",
    "\n",
    "\n",
    "####Change the scale of Mjj for a test, Mjj -> 1.1Mjj#########\n",
    "#for bkg_type in range(utils.IO.nBkg):\n",
    "#    utils.IO.background_df[bkg_type]['Mjj'] = utils.IO.background_df[bkg_type]['Mjj'].apply(lambda x: x* np.random.normal(1,0.1))\n",
    "#for sig_type in range(utils.IO.nSig):\n",
    "#    utils.IO.signal_df[0]['Mjj'] = utils.IO.signal_df[0]['Mjj'].apply(lambda x: x* np.random.normal(1,0.1))\n",
    "#################################\n",
    "\n",
    "\n",
    "if 'gg' in resolution_weighting : \n",
    "    preprocessing.weight_signal_with_resolution_all(branch='sigmaMOverM')\n",
    "if 'bb' in resolution_weighting : \n",
    "    preprocessing.weight_signal_with_resolution_all(branch='(sigmaMJets*1.4826)')\n",
    "\n",
    "if doOverlapRemoval == True:    \n",
    "    for i in range(utils.IO.nBkg):\n",
    "        if 'DiPhotonJetsBox_MGG' in utils.IO.bkgTreeName[i] : preprocessing.cleanOverlapDiphotons(utils.IO.bkgTreeName[i],utils.IO.background_df[i])        \n",
    "\n",
    "if (year==1 and doReweight2017 == True):\n",
    "    preprocessing.reweight_gen_mhh('mhh',genFrame2016,genFrame2017,utils.IO.signal_df[0],'genMhh')\n",
    "\n",
    "\n",
    "X_bkg,y_bkg,weights_bkg,event_bkg,X_sig,y_sig,weights_sig,event_sig=preprocessing.set_variables(branch_names,use_event_num=True)\n",
    "\n",
    "\n",
    "\n",
    "\n",
    "X_bkg,y_bkg,weights_bkg,event_bkg = preprocessing.randomize(X_bkg,y_bkg,weights_bkg,event_num = np.asarray(event_bkg))\n",
    "X_sig,y_sig,weights_sig,event_sig = preprocessing.randomize(X_sig,y_sig,weights_sig,event_num = np.asarray(event_sig))\n",
    "\n",
    "\n",
    "#Get training and test samples based on event number : even/odd or %5, set in the function for now\n",
    "y_total_train = preprocessing.get_total_training_sample_event_num(y_sig.reshape(-1,1),y_bkg,event_sig.reshape(-1,1),event_bkg).ravel()\n",
    "X_total_train = preprocessing.get_total_training_sample_event_num(X_sig,X_bkg,event_sig.reshape(-1,),event_bkg.reshape(-1,))\n",
    "\n",
    "y_total_test = preprocessing.get_total_test_sample_event_num(y_sig.reshape(-1,1),y_bkg,event_sig.reshape(-1,1),event_bkg).ravel()\n",
    "X_total_test = preprocessing.get_total_test_sample_event_num(X_sig,X_bkg,event_sig.reshape(-1,),event_bkg.reshape(-1,))\n",
    "\n",
    "w_total_train = preprocessing.get_total_training_sample_event_num(weights_sig.reshape(-1,1),weights_bkg.reshape(-1,1),event_sig.reshape(-1,1),event_bkg).ravel()\n",
    "w_total_test = preprocessing.get_total_test_sample_event_num(weights_sig.reshape(-1,1),weights_bkg.reshape(-1,1),event_sig.reshape(-1,1),event_bkg).ravel()\n",
    "\n",
    "\n",
    "##########Normalize weights for training and testing. Sum(signal)=Sum(bkg)=1. But keep relative normalization\n",
    "# between bkg classes\n",
    "w_total_train = preprocessing.normalize_process_weights_split_all(w_total_train,y_total_train)\n",
    "w_total_test = preprocessing.normalize_process_weights_split_all(w_total_test,y_total_test)\n",
    "\n",
    "\n",
    "X_total_train_all.append(X_total_train)\n",
    "X_total_test_all.append(X_total_test)\n",
    "y_total_train_all.append(y_total_train)\n",
    "y_total_test_all.append(y_total_test)"
   ]
  },
  {
   "cell_type": "code",
   "execution_count": 163,
   "metadata": {
    "collapsed": false
   },
   "outputs": [
    {
     "name": "stdout",
     "output_type": "stream",
     "text": [
      "Starting the training now : \n",
      "2019-05-23 14:36:13.683660\n",
      "Training is done. It took 319.513062 seconds.\n"
     ]
    }
   ],
   "source": [
    "print \"Starting the training now : \"\n",
    "now = str(datetime.datetime.now())\n",
    "print(now)\n",
    "\n",
    "################Training a classifier###############\n",
    "########final optimization with all fixed#######\n",
    "from sklearn.externals import joblib\n",
    "import xgboost as xgb\n",
    "n_threads=20\n",
    "\n",
    "#optimized parameters with Mjj for 2016 done by Francesco\n",
    "#clf = xgb.XGBClassifier(base_score=0.5, colsample_bylevel=1, colsample_bytree=1,\n",
    "#       gamma=0, learning_rate=0.1, max_delta_step=0, max_depth=15,\n",
    "#       min_child_weight=1e-06,  n_estimators=2000,\n",
    "#       nthread=n_threads, objective='multi:softprob', reg_alpha=0.0,\n",
    "#       reg_lambda=0.05, scale_pos_weight=1, seed=None, silent=True,\n",
    "#       subsample=1)\n",
    "clf = xgb.XGBClassifier(base_score=0.5, booster='gbtree', colsample_bylevel=1,\n",
    "   colsample_bytree=1, gamma=0, learning_rate=0.2, max_delta_step=0,\n",
    "   max_depth=3, min_child_weight=0.0001, \n",
    "   n_estimators=1000, n_jobs=1, nthread=n_threads, objective='binary:logistic',\n",
    "   random_state=0, reg_alpha=0.0, reg_lambda=0.05, scale_pos_weight=1,\n",
    "   seed=0, silent=True, subsample=1)\n",
    "\n",
    "clf.fit(X_total_train,y_total_train, sample_weight=w_total_train)\n",
    "\n",
    "\n",
    "print 'Training is done. It took', time.time()-start_time, 'seconds.'\n",
    "\n",
    "joblib.dump(clf, os.path.expanduser('/shome/nchernya/HHbbgg_ETH_devel/Training/output_files/training_with_%s.pkl'%outstr), compress=9)\n",
    "\n",
    "clf_trainings.append(clf)"
   ]
  },
  {
   "cell_type": "code",
   "execution_count": 176,
   "metadata": {
    "collapsed": false
   },
   "outputs": [],
   "source": []
  },
  {
   "cell_type": "code",
   "execution_count": 179,
   "metadata": {
    "collapsed": false
   },
   "outputs": [
    {
     "data": {
      "image/png": "[encoded data removed]",
      "text/plain": [
       "<matplotlib.figure.Figure at 0x7f6ff0650fd0>"
      ]
     },
     "metadata": {},
     "output_type": "display_data"
    }
   ],
   "source": [
    "plot_classifier = plotting.plot_classifier_output(clf,X_total_test_all[0],X_total_test_all[1],y_total_test_all[0],y_total_test_all[1],outString=outstr)\n",
    "plt.show()\n",
    "#fpr_dipho,tpr_dipho = plotting.plot_roc_curve_multiclass_singleBkg(X_total_test,y_total_test,clf,-1,outString=outstr,weights=w_total_test)\n",
    "#fpr_gJets,tpr_gJets = plotting.plot_roc_curve_multiclass_singleBkg(X_total_test,y_total_test,clf,-2,outString=outstr,weights=w_total_test)\n",
    "\n",
    "#roc_df_dipho = pd.DataFrame({\"fpr_dipho\": (fpr_dipho).tolist(),\"tpr_dipho\": (tpr_dipho).tolist()})\n",
    "#roc_df_gJets = pd.DataFrame({\"fpr_gJets\": (fpr_gJets).tolist(),\"tpr_gJets\": (tpr_gJets).tolist()})\n",
    "#roc_df_dipho.to_hdf(utils.IO.plotFolder+\"roc_curves_dipho_%s.h5\"%outstr, key='df', mode='w')\n",
    "#roc_df_gJets.to_hdf(utils.IO.plotFolder+\"roc_curves_gJets_%s.h5\"%outstr, key='df', mode='w')"
   ]
  },
  {
   "cell_type": "code",
   "execution_count": 167,
   "metadata": {
    "collapsed": false
   },
   "outputs": [],
   "source": [
    "\n"
   ]
  },
  {
   "cell_type": "code",
   "execution_count": 168,
   "metadata": {
    "collapsed": true
   },
   "outputs": [],
   "source": []
  },
  {
   "cell_type": "code",
   "execution_count": 154,
   "metadata": {
    "collapsed": false
   },
   "outputs": [],
   "source": [
    "#utils.IO.signal_df[0]['Mjjnew'] = utils.IO.signal_df[0]['Mjj'].apply(lambda x: x * np.random.uniform(0.8,1.2))\n",
    "#utils.IO.signal_df[0]['Mjjnew2'] = utils.IO.signal_df[0]['Mjj'].apply(lambda x: x*(1+((x-125.)/125.) * np.random.normal(1,0.2)))\n",
    "utils.IO.signal_df[0]['Mjjnew2'] = utils.IO.signal_df[0]['Mjj'].apply(lambda x: x* np.random.normal(1,0.1))"
   ]
  },
  {
   "cell_type": "code",
   "execution_count": 155,
   "metadata": {
    "collapsed": false
   },
   "outputs": [
    {
     "data": {
      "image/png": "[encoded data removed]",
      "text/plain": [
       "<matplotlib.figure.Figure at 0x7f6fe828f790>"
      ]
     },
     "metadata": {},
     "output_type": "display_data"
    }
   ],
   "source": [
    "_,bins,_=plt.hist(utils.IO.signal_df[0]['Mjj'],bins=100,label='Nominal',alpha=0.5)\n",
    "plt.hist(utils.IO.signal_df[0]['Mjjnew2'],bins=bins,label='10% Smeared',alpha=0.5)\n",
    "plt.legend()\n",
    "plt.xlabel('M(jj) (GeV)')\n",
    "plt.ylabel('A.U.')\n",
    "plt.show()"
   ]
  },
  {
   "cell_type": "code",
   "execution_count": null,
   "metadata": {
    "collapsed": true
   },
   "outputs": [],
   "source": []
  }
 ],
 "metadata": {
  "anaconda-cloud": {},
  "kernelspec": {
   "display_name": "Python [conda root]",
   "language": "python",
   "name": "conda-root-py"
  },
  "language_info": {
   "codemirror_mode": {
    "name": "ipython",
    "version": 2
   },
   "file_extension": ".py",
   "mimetype": "text/x-python",
   "name": "python",
   "nbconvert_exporter": "python",
   "pygments_lexer": "ipython2",
   "version": "2.7.12"
  }
 },
 "nbformat": 4,
 "nbformat_minor": 1
}
