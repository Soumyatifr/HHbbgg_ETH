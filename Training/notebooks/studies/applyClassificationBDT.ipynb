{
 "cells": [
  {
   "cell_type": "code",
   "execution_count": 35,
   "metadata": {
    "collapsed": false
   },
   "outputs": [],
   "source": [
    "import os\n",
    "import sys; sys.path.append(\"~/HHbbgg_ETH_devel/Training/python\") # to load packages\n",
    "import training_utils as utils\n",
    "import numpy as np\n",
    "reload(utils)\n",
    "import preprocessing_utils as preprocessing\n",
    "reload(preprocessing)\n",
    "import plotting_utils as plotting\n",
    "reload(plotting)\n",
    "import optimization_utils as optimization\n",
    "reload(optimization)\n",
    "import postprocessing_utils as postprocessing\n",
    "reload(postprocessing)\n",
    "import pandas as pd\n",
    "import root_pandas as rpd\n",
    "import matplotlib.pyplot as plt\n",
    "import json\n",
    "from ROOT import TLorentzVector\n",
    "from optparse import OptionParser, make_option\n",
    "from  pprint import pprint\n",
    "import commands\n",
    "import time\n",
    "import datetime\n",
    "start_time = time.time()"
   ]
  },
  {
   "cell_type": "code",
   "execution_count": 36,
   "metadata": {
    "collapsed": true
   },
   "outputs": [],
   "source": [
    "filedir = '/work/nchernya/HHbbgg_ETH_devel/outfiles/20190321_2017_2016_for_optimization/'\n",
    "filename = 'Total_preselection_diffNaming_2016_2017_21_03_2019_transformedMVA.root'\n",
    "\n",
    "sig_names = ['reducedTree_sig','reducedTree_sig_2017']\n",
    "bkg_names = ['reducedTree_bkg_0','reducedTree_bkg_1','reducedTree_bkg_2','reducedTree_bkg_0_2017']\n",
    "signal_list = []\n",
    "bkg_list = []\n",
    "lumi_ratio = 41.5/35.9\n",
    "columns = ['MX',\"Mjj\",\"event\",\"weight\",'overlapSave','MVAOutputTransformed','Mgg']\n",
    "\n",
    "for sig in sig_names:\n",
    "    df = rpd.read_root(filedir+filename,sig, columns = columns ).query('weight>=0.')\n",
    "    if '2017' in sig:\n",
    "        df['weight']*=lumi_ratio\n",
    "    signal_list.append(df)\n",
    "for bkg in bkg_names:\n",
    "    df = rpd.read_root(filedir+filename,bkg, columns =  columns).query('weight>=0.')\n",
    "    if '2017' in bkg:\n",
    "        df['weight']*=lumi_ratio \n",
    "    df['weight'] = df['weight']*df['overlapSave']\n",
    "    bkg_list.append(df)  \n",
    "    \n",
    "sig = pd.concat(signal_list, axis=0, ignore_index=True)\n",
    "bkg = pd.concat(bkg_list, axis=0, ignore_index=True)"
   ]
  },
  {
   "cell_type": "code",
   "execution_count": 37,
   "metadata": {
    "collapsed": false
   },
   "outputs": [],
   "source": [
    "training = '/work/nchernya/HHbbgg_ETH_devel/Training/output_files/training_with_29_05_2019_classification.pkl'\n",
    "branch_names = 'MX,MVAOutputTransformed'.split(\",\") \n",
    "branch_names = [c.strip() for c in branch_names]\n",
    "\n",
    "\n",
    "from sklearn.externals import joblib\n",
    "import xgboost as xgb\n",
    "n_threads=20\n",
    "loaded_model = joblib.load(training)\n",
    "loaded_model._Booster.set_param('nthread', 20)\n",
    "Y_pred_sig = loaded_model.predict_proba(sig[branch_names].values)[:,loaded_model.n_classes_-1].astype(np.float64)\n",
    "Y_pred_bkg = loaded_model.predict_proba(bkg[branch_names].values)[:,loaded_model.n_classes_-1].astype(np.float64)\n"
   ]
  },
  {
   "cell_type": "code",
   "execution_count": 46,
   "metadata": {
    "collapsed": false
   },
   "outputs": [
    {
     "name": "stdout",
     "output_type": "stream",
     "text": [
      "0.9923577904701233\n",
      "0.008672451600432396\n"
     ]
    }
   ],
   "source": [
    "print max(Y_pred_sig)\n",
    "print min(Y_pred_bkg)\n"
   ]
  },
  {
   "cell_type": "code",
   "execution_count": 18,
   "metadata": {
    "collapsed": false
   },
   "outputs": [],
   "source": [
    "def stackFeatures(df,names):\n",
    "    vec = []\n",
    "    dictVar = {}\n",
    "    i=0\n",
    "    for feat in names:\n",
    "        vec.append(np.asarray(df[feat]))\n",
    "        dictVar[feat] = i\n",
    "        i+=1\n",
    "    totalVec = []\n",
    "    for i in range(len(vec)):\n",
    "        if i == 0:\n",
    "            totalVec = vec[i]\n",
    "        else:\n",
    "            totalVec = np.column_stack((totalVec,vec[i]))\n",
    "\n",
    "\n",
    "    return totalVec,dictVar\n"
   ]
  },
  {
   "cell_type": "code",
   "execution_count": 19,
   "metadata": {
    "collapsed": false
   },
   "outputs": [],
   "source": [
    "from root_numpy import array2root\n",
    "def saveTree(processPath,dictVar,vector,MVAVector,nameTree=\"reducedTree\"):\n",
    "    i=0\n",
    "    for key in dictVar.keys():\n",
    "        if i == 0:\n",
    "            writeMode='recreate'\n",
    "            i=1\n",
    "        else:\n",
    "            writeMode='update'\n",
    "\n",
    "        v=(np.asarray(vector[:,dictVar[key]]))\n",
    "        name = key   \n",
    "        v.dtype = [(name, np.float64)]\n",
    "        array2root(v, processPath, nameTree, mode = writeMode)\n",
    "\n",
    "    v=(np.asarray(MVAVector.ravel()))\n",
    "    v.dtype = [('ClassificationBDT', np.float64)]\n",
    "    array2root(v, processPath, nameTree, mode ='update')"
   ]
  },
  {
   "cell_type": "code",
   "execution_count": 20,
   "metadata": {
    "collapsed": false,
    "scrolled": true
   },
   "outputs": [],
   "source": [
    "event_branches = ['event','weight','Mgg']\n",
    "\n",
    "processPath=filedir+'Total_preselection_2016_2017_21_03_2019_classificationBDT_signal.root'\n",
    "nTot_sig,dictVar_sig = stackFeatures(sig,branch_names+event_branches)\n",
    "saveTree(processPath,dictVar_sig,nTot_sig,Y_pred_sig,'reducedTree_sig')\n",
    "\n",
    "processPath=filedir+'Total_preselection_2016_2017_21_03_2019_classificationBDT_bkg.root'\n",
    "nTot_bkg,dictVar_bkg = stackFeatures(bkg,branch_names+event_branches)\n",
    "saveTree(processPath,dictVar_bkg,nTot_bkg,Y_pred_bkg,'reducedTree_bkg')\n",
    "\n"
   ]
  },
  {
   "cell_type": "code",
   "execution_count": null,
   "metadata": {
    "collapsed": false
   },
   "outputs": [],
   "source": []
  },
  {
   "cell_type": "code",
   "execution_count": null,
   "metadata": {
    "collapsed": true
   },
   "outputs": [],
   "source": []
  },
  {
   "cell_type": "code",
   "execution_count": null,
   "metadata": {
    "collapsed": true
   },
   "outputs": [],
   "source": [
    "\n"
   ]
  }
 ],
 "metadata": {
  "anaconda-cloud": {},
  "kernelspec": {
   "display_name": "Python [conda root]",
   "language": "python",
   "name": "conda-root-py"
  },
  "language_info": {
   "codemirror_mode": {
    "name": "ipython",
    "version": 2
   },
   "file_extension": ".py",
   "mimetype": "text/x-python",
   "name": "python",
   "nbconvert_exporter": "python",
   "pygments_lexer": "ipython2",
   "version": "2.7.12"
  }
 },
 "nbformat": 4,
 "nbformat_minor": 1
}
