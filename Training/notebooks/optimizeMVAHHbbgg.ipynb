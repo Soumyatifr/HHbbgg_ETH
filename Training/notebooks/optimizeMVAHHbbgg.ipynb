{
 "cells": [
  {
   "cell_type": "code",
   "execution_count": null,
   "metadata": {
    "collapsed": true
   },
   "outputs": [],
   "source": [
    "from sklearn import cross_validation\n",
    "from sklearn.ensemble import GradientBoostingClassifier\n",
    "from sklearn.model_selection import train_test_split\n",
    "\n",
    "##put all the part of reading files and creating datasets\n",
    "\n",
    "\n",
    "gbt = GradientBoostingClassifier(n_estimators=200,\n",
    "                                 max_depth=1,\n",
    "                                 subsample=0.5,\n",
    "                                 max_features=0.5,\n",
    "                                 learning_rate=0.02)\n",
    "\n",
    "param_grid = {\"n_estimators\": [50,100,200],\n",
    "               \"max_depth\": [1, 5,10]  }\n",
    "#param_grid = {\"n_estimators\": [50,200,400,1000],\n",
    "#              \"max_depth\": [1, 3, 8],\n",
    "#              'learning_rate': [0.1, 0.2, 1.]}\n",
    "\n",
    "utils.optimization.optimize_parameters_gridCV(gbt,X_total_train,y_total_train,param_grid)"
   ]
  }
 ],
 "metadata": {
  "anaconda-cloud": {},
  "kernelspec": {
   "display_name": "Python [conda root]",
   "language": "python",
   "name": "conda-root-py"
  },
  "language_info": {
   "codemirror_mode": {
    "name": "ipython",
    "version": 2
   },
   "file_extension": ".py",
   "mimetype": "text/x-python",
   "name": "python",
   "nbconvert_exporter": "python",
   "pygments_lexer": "ipython2",
   "version": "2.7.12"
  }
 },
 "nbformat": 4,
 "nbformat_minor": 1
}
