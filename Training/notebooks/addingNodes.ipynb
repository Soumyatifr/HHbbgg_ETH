{
 "cells": [
  {
   "cell_type": "code",
   "execution_count": 32,
   "metadata": {
    "collapsed": false
   },
   "outputs": [],
   "source": [
    "import os\n",
    "import sys; sys.path.append(\"~/HHbbgg_ETH_devel/Training/python\") # to load packages\n",
    "import training_utils as utils\n",
    "import numpy as np\n",
    "reload(utils)\n",
    "import preprocessing_utils as preprocessing\n",
    "reload(preprocessing)\n",
    "import plotting_utils as plotting\n",
    "reload(plotting)\n",
    "import optimization_utils as optimization\n",
    "reload(optimization)\n",
    "import postprocessing_utils as postprocessing\n",
    "reload(postprocessing)\n",
    "import pandas as pd\n",
    "import root_pandas as rpd\n",
    "import ROOT\n",
    "from ROOT import TChain, TTree,TCanvas,TH1F,TList,TFile,TH2F,TPaveLabel,TPaveText,TLorentzVector\n",
    "import gen_utils as gen_utils"
   ]
  },
  {
   "cell_type": "code",
   "execution_count": 33,
   "metadata": {
    "collapsed": false
   },
   "outputs": [
    {
     "name": "stdout",
     "output_type": "stream",
     "text": [
      "env: data=/shome/nchernya/HHbbgg_ETH_devel/root_files/ntuples_2016_20181203\n"
     ]
    }
   ],
   "source": [
    "ntuples = 'ntuples_2016_20181203'\n",
    "# \"%\" sign allows to interpret the rest as a system command\n",
    "%env data=$utils.IO.ldata$ntuples\n",
    "files = ! ls $data | sort -t_ -k 3 -n\n",
    "signal = [s for s in files if \"_node_\" in s or \"_nodes\" in s ]"
   ]
  },
  {
   "cell_type": "code",
   "execution_count": 30,
   "metadata": {
    "collapsed": false
   },
   "outputs": [
    {
     "name": "stdout",
     "output_type": "stream",
     "text": [
      "['output_GluGluToHHTo2B2G_node_SM_13TeV-madgraph.root', 'output_GluGluToHHTo2B2G_reweighted_node_10_13TeV-madgraph.root', 'output_GluGluToHHTo2B2G_reweighted_node_11_13TeV-madgraph.root', 'output_GluGluToHHTo2B2G_reweighted_node_12_13TeV-madgraph.root', 'output_GluGluToHHTo2B2G_reweighted_node_13_13TeV-madgraph.root', 'output_GluGluToHHTo2B2G_reweighted_node_2_13TeV-madgraph.root', 'output_GluGluToHHTo2B2G_reweighted_node_3_13TeV-madgraph.root', 'output_GluGluToHHTo2B2G_reweighted_node_4_13TeV-madgraph.root', 'output_GluGluToHHTo2B2G_reweighted_node_5_13TeV-madgraph.root', 'output_GluGluToHHTo2B2G_reweighted_node_6_13TeV-madgraph.root', 'output_GluGluToHHTo2B2G_reweighted_node_7_13TeV-madgraph.root', 'output_GluGluToHHTo2B2G_reweighted_node_8_13TeV-madgraph.root', 'output_GluGluToHHTo2B2G_reweighted_node_9_13TeV-madgraph.root']\n"
     ]
    }
   ],
   "source": [
    "print signal\n",
    "signalSM='output_GluGluToHHTo2B2G_node_SM_13TeV-madgraph.root'\n",
    "treepath='tagsDumper/trees/'\n",
    "path='/mnt/t3nfs01/data01/shome/nchernya/HHbbgg_ETH_devel/root_files/%s/'%ntuples"
   ]
  },
  {
   "cell_type": "code",
   "execution_count": 30,
   "metadata": {
    "collapsed": false
   },
   "outputs": [],
   "source": [
    "#For properly done nodes like in 2017\n",
    "#signal_df = []\n",
    "#for i,sig in enumerate(signal):\n",
    "#    treename = signal[i][signal[i].find('output_')+7:signal[i].find('.root')].replace('-','_')+'_13TeV_DoubleHTag_0'\n",
    "#    df = rpd.read_root(path+signal[i],treepath+treename)\n",
    "#    signal_df.append(df)"
   ]
  },
  {
   "cell_type": "code",
   "execution_count": 5,
   "metadata": {
    "collapsed": false
   },
   "outputs": [],
   "source": [
    "all_signal = pd.concat([signal_df[i] for i in range(0,len(signal_df))],ignore_index=True)\n",
    "gen_all_signal = pd.concat([gensignal_df[i] for i in range(0,len(gensignal_df))],ignore_index=True)\n",
    "print all_signal.shape\n",
    "print gen_all_signal.shape\n",
    "rpd.to_root(all_signal,path+'output_GluGluToHHTo2B2G_SM_plus_nodes_13TeV-madgraph.root','nodesCombined','w')\n",
    "rpd.to_root(gen_all_signal,path+'output_GluGluToHHTo2B2G_SM_plus_nodes_13TeV-madgraph.root','GenNodesCombined','a')"
   ]
  },
  {
   "cell_type": "markdown",
   "metadata": {
    "collapsed": false
   },
   "source": [
    "### Reweighted 2016 nodes "
   ]
  },
  {
   "cell_type": "code",
   "execution_count": 34,
   "metadata": {
    "collapsed": true
   },
   "outputs": [],
   "source": [
    "path='/mnt/t3nfs01/data01/shome/nchernya/HHbbgg_ETH_devel/root_files/ntuples_2016_20181203/'\n",
    "file = 'output_GluGluToHHTo2B2G_reweighted_nodes_13TeV-madgraph.root'\n",
    "fileSM='output_GluGluToHHTo2B2G_node_SM_13TeV-madgraph.root'"
   ]
  },
  {
   "cell_type": "code",
   "execution_count": 35,
   "metadata": {
    "collapsed": false
   },
   "outputs": [],
   "source": [
    "signal_df = []\n",
    "gensignal_df = []\n",
    "gensignal_df_full = []\n",
    "for sig in ['SM',3,4,5,8,10]:\n",
    "    if sig=='SM' :\n",
    "        treename='tagsDumper/trees/GluGluToHHTo2B2G_node_SM_13TeV_madgraph_13TeV_DoubleHTag_0'\n",
    "        df = rpd.read_root(path+fileSM,treename)\n",
    "        gentreename='genDiphotonDumper/trees/GluGluToHHTo2B2G_node_SM_13TeV_madgraph_13TeV_DoubleHTag_0'\n",
    "        gendf = rpd.read_root(path+fileSM,gentreename)\n",
    "        gentreename2='genDiphotonDumper/trees/GluGluToHHTo2B2G_node_SM_13TeV_madgraph_13TeV_NoTag_0'\n",
    "        gendf2 = rpd.read_root(path+fileSM,gentreename2)\n",
    "        gendf2 = pd.concat([gendf,gendf2],ignore_index=True)\n",
    "\n",
    "    else :\n",
    "        treename = 'GluGluToHHTo2B2G_reweighted_node_%d'%sig\n",
    "        df = rpd.read_root(path+file,treename)\n",
    "        df['weight'] = df['weight']/12.\n",
    "        \n",
    "        gentreename = 'GluGluToHHTo2B2G_reweighted_node_%d_GenTagged'%sig\n",
    "        gendf = rpd.read_root(path+file,gentreename)\n",
    "        gendf['weight'] = gendf['weight']/12.\n",
    "        \n",
    "        gentreename2 = 'GluGluToHHTo2B2G_reweighted_node_%d_Gen'%sig\n",
    "        gendf2 = rpd.read_root(path+file,gentreename2)\n",
    "        gendf2['weight'] = gendf2['weight']/12.\n",
    "\n",
    "   # for frame in [gendf,gendf2]:\n",
    "   #     for part in \"leadPho\",\"subleadPho\",\"leadJet\",\"subleadJet\":\n",
    "   #         gen_utils.calc_p4extra(frame,part) #calculating pt, eta, phi, m for each \n",
    "   #         gen_utils.calc_sump4(frame,\"hgg\",\"leadPho\",\"subleadPho\") #calculating pt, eta, phi, m for sum of 2 photons\n",
    "   #         gen_utils.calc_sump4(frame,\"hbb\",\"leadJet\",\"subleadJet\") #calculating pt, eta, phi, m for sum of 2 b jets\n",
    "   #         gen_utils.calc_sump4(frame,\"hh\",\"hbb\",\"hgg\") #calculating pt, eta, phi, m for sum of 2 Higgs\"\n",
    "    signal_df.append(df)\n",
    "    gensignal_df.append(gendf)\n",
    "    gensignal_df_full.append(gendf2)"
   ]
  },
  {
   "cell_type": "code",
   "execution_count": 221,
   "metadata": {
    "collapsed": false
   },
   "outputs": [],
   "source": [
    "#When mhh was not available in the reco trees\n",
    "\n",
    "#reco_gen_signal_df=[]\n",
    "#for i in range(0,len(signal_df)):\n",
    "#    signal_df[i].set_index(['lumi','event','weight'])\n",
    "#    gensignal_df[i].set_index(['lumi','event','weight'])\n",
    "#    reco_gen_signal_df.append(signal_df[i].merge(gensignal_df[i][['lumi','event','weight','hh_m']]))\n",
    "\n",
    "#all_signal = pd.concat([signal_df[i] for i in range(0,len(signal_df))],ignore_index=True)\n",
    "#reco_gen = pd.concat([reco_gen_signal_df[i] for i in range(0,len(reco_gen_signal_df))],ignore_index=True)\n",
    "#gen_all_signal_full = pd.concat([gensignal_df_full[i] for i in range(0,len(gensignal_df_full))],ignore_index=True)\n",
    "#rpd.to_root(reco_gen,path+'output_GluGluToHHTo2B2G_SM_plus_reweighted_nodes_13TeV-madgraph.root','nodesCombined','w')\n",
    "#rpd.to_root(gen_all_signal_full,path+'output_GluGluToHHTo2B2G_SM_plus_reweighted_nodes_13TeV-madgraph.root','GenNodesCombined','a')"
   ]
  },
  {
   "cell_type": "code",
   "execution_count": 36,
   "metadata": {
    "collapsed": false
   },
   "outputs": [],
   "source": [
    "all_signal = pd.concat([signal_df[i] for i in range(0,len(signal_df))],ignore_index=True)\n",
    "gen_all_signal_full = pd.concat([gensignal_df_full[i] for i in range(0,len(gensignal_df_full))],ignore_index=True)\n",
    "rpd.to_root(all_signal,path+'output_GluGluToHHTo2B2G_SM_plus_reweighted_nodes_13TeV-madgraph.root','nodesCombined','w')\n",
    "rpd.to_root(gen_all_signal_full,path+'output_GluGluToHHTo2B2G_SM_plus_reweighted_nodes_13TeV-madgraph.root','GenNodesCombined','a')"
   ]
  },
  {
   "cell_type": "code",
   "execution_count": null,
   "metadata": {
    "collapsed": false
   },
   "outputs": [],
   "source": []
  },
  {
   "cell_type": "code",
   "execution_count": 17,
   "metadata": {
    "collapsed": false
   },
   "outputs": [
    {
     "data": {
      "image/png": "[encoded data removed]",
      "text/plain": [
       "<matplotlib.figure.Figure at 0x7f1b4c257750>"
      ]
     },
     "metadata": {},
     "output_type": "display_data"
    }
   ],
   "source": [
    "import matplotlib.pyplot as plt\n",
    "\n",
    "plt.clf()\n",
    "\n",
    "n, bins, patches = plt.hist(all_signal['MX'], np.linspace(200,2000,100), facecolor='b',weights=all_signal['weight'], alpha=0.5,normed=True,label='2016 MX')\n",
    "n, bins, patches = plt.hist(all_signal['genMhh'], bins=bins, facecolor='r',weights=all_signal['weight'], alpha=0.5,normed=True,label='2016 gen M(hh)')\n",
    "\n",
    "plt.xlabel('gen M(HH) and MX[GeV]')\n",
    "plt.ylabel('A.U.')\n",
    "plt.legend(loc='upper right')\n",
    "plt.show()\n"
   ]
  },
  {
   "cell_type": "markdown",
   "metadata": {
    "collapsed": true
   },
   "source": [
    "### 2017 nodes "
   ]
  },
  {
   "cell_type": "code",
   "execution_count": 18,
   "metadata": {
    "collapsed": false
   },
   "outputs": [
    {
     "name": "stdout",
     "output_type": "stream",
     "text": [
      "env: data=/shome/nchernya/HHbbgg_ETH_devel/root_files/ntuples_2017_20181203\n"
     ]
    }
   ],
   "source": [
    "ntuples = 'ntuples_2017_20181203'\n",
    "path='/mnt/t3nfs01/data01/shome/nchernya/HHbbgg_ETH_devel/root_files/%s/'%ntuples\n",
    "# \"%\" sign allows to interpret the rest as a system command\n",
    "%env data=$utils.IO.ldata$ntuples\n",
    "files = ! ls $data | sort -t_ -k 3 -n\n",
    "signal = [s for s in files if \"_node_\" in s ]\n",
    "treepath='tagsDumper/trees/'"
   ]
  },
  {
   "cell_type": "code",
   "execution_count": 19,
   "metadata": {
    "collapsed": false
   },
   "outputs": [
    {
     "name": "stdout",
     "output_type": "stream",
     "text": [
      "output_GluGluToHHTo2B2G_node_2_13TeV-madgraph_correctedcfg.root\n",
      "output_GluGluToHHTo2B2G_node_3_13TeV-madgraph_correctedcfg.root\n",
      "output_GluGluToHHTo2B2G_node_4_13TeV-madgraph_correctedcfg.root\n",
      "output_GluGluToHHTo2B2G_node_7_13TeV-madgraph_correctedcfg.root\n",
      "output_GluGluToHHTo2B2G_node_9_13TeV-madgraph_correctedcfg.root\n",
      "output_GluGluToHHTo2B2G_node_SM_13TeV-madgraph.root\n"
     ]
    }
   ],
   "source": [
    "signal_df = []\n",
    "for i,sig in enumerate(signal):\n",
    "    if '12' in sig : continue\n",
    "    print signal[i]\n",
    "    treename = signal[i][signal[i].find('output_')+7:signal[i].find('.root')].replace('-','_')+'_13TeV_DoubleHTag_0'\n",
    "    df = rpd.read_root(path+signal[i],treepath+treename)\n",
    "    signal_df.append(df)\n",
    "    #print df.shape"
   ]
  },
  {
   "cell_type": "code",
   "execution_count": 20,
   "metadata": {
    "collapsed": false
   },
   "outputs": [],
   "source": [
    "gentreepath='genDiphotonDumper/trees/'\n",
    "gensignal_df = []\n",
    "gensignal_df_full = []\n",
    "for i,sig in enumerate(signal):\n",
    "    if '12' in sig : continue\n",
    "    treename = signal[i][signal[i].find('output_')+7:signal[i].find('.root')].replace('-','_')+'_13TeV_'\n",
    "    df = rpd.read_root(path+signal[i],gentreepath+treename+'DoubleHTag_0')\n",
    "    #for part in \"leadPho\",\"subleadPho\",\"leadJet\",\"subleadJet\":\n",
    "    #     gen_utils.calc_p4extra(df,part) #calculating pt, eta, phi, m for each \n",
    "    #     gen_utils.calc_sump4(df,\"hgg\",\"leadPho\",\"subleadPho\") #calculating pt, eta, phi, m for sum of 2 photons\n",
    "    #     gen_utils.calc_sump4(df,\"hbb\",\"leadJet\",\"subleadJet\") #calculating pt, eta, phi, m for sum of 2 b jets\n",
    "    #     gen_utils.calc_sump4(df,\"hh\",\"hbb\",\"hgg\") #calculating pt, eta, phi, m for sum of 2 Higgs\n",
    "    gensignal_df.append(df)\n",
    "    # print df.shape\n",
    "    gensignal_df_full.append(df)\n",
    "    gendf = rpd.read_root(path+signal[i],gentreepath+treename+'NoTag_0')\n",
    "    # for part in \"leadPho\",\"subleadPho\",\"leadJet\",\"subleadJet\":\n",
    "    #     gen_utils.calc_p4extra(gendf,part) #calculating pt, eta, phi, m for each \n",
    "    #     gen_utils.calc_sump4(gendf,\"hgg\",\"leadPho\",\"subleadPho\") #calculating pt, eta, phi, m for sum of 2 photons\n",
    "    #     gen_utils.calc_sump4(gendf,\"hbb\",\"leadJet\",\"subleadJet\") #calculating pt, eta, phi, m for sum of 2 b jets\n",
    "    #     gen_utils.calc_sump4(gendf,\"hh\",\"hbb\",\"hgg\") #calculating pt, eta, phi, m for sum of 2 Higgs\n",
    "    gensignal_df_full.append(gendf)"
   ]
  },
  {
   "cell_type": "code",
   "execution_count": 134,
   "metadata": {
    "collapsed": false
   },
   "outputs": [],
   "source": [
    "#When mhh was not available in the reco trees\n",
    "\n",
    "\n",
    "#reco_gen_signal_df=[]\n",
    "#for i in range(0,len(signal_df)):\n",
    "#    signal_df[i].set_index(['lumi','event'])\n",
    "#    gensignal_df[i].set_index(['lumi','event'])\n",
    "#    reco_gen_signal_df.append(signal_df[i].merge(gensignal_df[i][['lumi','event','hh_m']], how='outer').dropna(axis='index'))\n",
    "#all_signal = pd.concat([signal_df[i] for i in range(0,len(signal_df))],ignore_index=True)\n",
    "#reco_gen = pd.concat([reco_gen_signal_df[i] for i in range(0,len(reco_gen_signal_df))],ignore_index=True)\n",
    "#gen_all_signal_full = pd.concat([gensignal_df_full[i] for i in range(0,len(gensignal_df_full))],ignore_index=True)\n",
    "#rpd.to_root(reco_gen,path+'output_GluGluToHHTo2B2G_SM_plus_nodes_13TeV-madgraph.root','nodesCombined','w')\n",
    "#rpd.to_root(gen_all_signal_full,path+'output_GluGluToHHTo2B2G_SM_plus_nodes_13TeV-madgraph.root','GenNodesCombined','a')"
   ]
  },
  {
   "cell_type": "code",
   "execution_count": 21,
   "metadata": {
    "collapsed": true
   },
   "outputs": [],
   "source": [
    "all_signal = pd.concat([signal_df[i] for i in range(0,len(signal_df))],ignore_index=True)\n",
    "gen_all_signal_full = pd.concat([gensignal_df_full[i] for i in range(0,len(gensignal_df_full))],ignore_index=True)\n",
    "rpd.to_root(all_signal,path+'output_GluGluToHHTo2B2G_SM_plus_nodes_13TeV-madgraph.root','nodesCombined','w')\n",
    "rpd.to_root(gen_all_signal_full,path+'output_GluGluToHHTo2B2G_SM_plus_nodes_13TeV-madgraph.root','GenNodesCombined','a')"
   ]
  },
  {
   "cell_type": "code",
   "execution_count": 24,
   "metadata": {
    "collapsed": false
   },
   "outputs": [
    {
     "data": {
      "image/png": "[encoded data removed]",
      "text/plain": [
       "<matplotlib.figure.Figure at 0x7f1bdab6e910>"
      ]
     },
     "metadata": {},
     "output_type": "display_data"
    }
   ],
   "source": [
    "import matplotlib.pyplot as plt\n",
    "\n",
    "n, bins, patches = plt.hist(all_signal['MX'], np.linspace(200,2000,100), facecolor='b',weights=all_signal['weight'], alpha=0.5,normed=True,label='2017 MX')\n",
    "n, bins, patches = plt.hist(all_signal['genMhh'], bins=bins, facecolor='r',weights=all_signal['weight'], alpha=0.5,normed=True,label='2017 gen M(hh)')\n",
    "\n",
    "plt.xlabel('gen M(HH) [GeV]')\n",
    "plt.ylabel('A.U.')\n",
    "plt.legend(loc='upper right')\n",
    "plt.show()\n"
   ]
  },
  {
   "cell_type": "markdown",
   "metadata": {},
   "source": [
    "### Reweight 2017(with more stat) to match 2016\n",
    "##### But concerving overall integral!"
   ]
  },
  {
   "cell_type": "code",
   "execution_count": 46,
   "metadata": {
    "collapsed": false
   },
   "outputs": [
    {
     "name": "stderr",
     "output_type": "stream",
     "text": [
      "TCanvas::Constructor:0: RuntimeWarning: Deleting canvas with same name: c\n"
     ]
    },
    {
     "data": {
      "image/png": "[encoded data removed]",
      "text/plain": [
       "<IPython.core.display.Image object>"
      ]
     },
     "metadata": {},
     "output_type": "display_data"
    },
    {
     "name": "stderr",
     "output_type": "stream",
     "text": [
      "Info in <TCanvas::Print>: pdf file /mnt/t3nfs01/data01/shome/nchernya/HHbbgg_ETH_devel/Training/plots/reweighted_nodes/2016_from_hists/reweight2017_to_2016_12_11.pdf has been created\n"
     ]
    }
   ],
   "source": [
    "path_2016='/mnt/t3nfs01/data01/shome/nchernya/HHbbgg_ETH_devel/root_files/deepCSV_01_10_2018/'\n",
    "path_2017='/mnt/t3nfs01/data01/shome/nchernya/HHbbgg_ETH_devel/root_files/ntuples_2017_20181112/'\n",
    "plot_dir = '/mnt/t3nfs01/data01/shome/nchernya/HHbbgg_ETH_devel/Training/plots/reweighted_nodes/2016_from_hists/'\n",
    "date = '12_11'\n",
    "out = TFile(path_2017+'Node_reweighting_hist.root','recreate')\n",
    "\n",
    "\n",
    "sum=0.\n",
    "c = TCanvas(\"c\",\"c\",500,500)\n",
    "c.SetBottomMargin(0.3)\n",
    "name='nodesCombined'\n",
    "infile2016 = TFile(path_2016+'output_GluGluToHHTo2B2G_SM_plus_reweighted_nodes_13TeV-madgraph.root')\n",
    "infile2017 = TFile(path_2017+'output_GluGluToHHTo2B2G_SM_plus_nodes_13TeV-madgraph.root')\n",
    "hists_list=[]\n",
    "hists_list_2017=[]\n",
    "\n",
    "\n",
    "tree_2017 = infile2017.Get(name)\n",
    "hist_2017 = TH1F(\"hist_2017\",\"hist_2017\",50,200,2000)\n",
    "hist_2017.SetLineColor(2)\n",
    "hist_2017.SetMarkerColor(2)\n",
    "tree_2017.Draw(\"MX>>hist_2017\",\"weight\")\n",
    "    \n",
    "tree = infile2016.Get(name)\n",
    "hist = TH1F(\"hist_2016\",\"hist_2016\",50,200,2000)\n",
    "hist.SetTitle('')\n",
    "hist.GetXaxis().SetTitle('reco MX (GeV)')\n",
    "hist.GetYaxis().SetTitle('A.U.')\n",
    "hist.GetXaxis().SetLabelSize(0)\n",
    "hist.GetXaxis().SetTitleOffset(0.91)\n",
    "hist.GetYaxis().SetTitleOffset(1.4)\n",
    "\n",
    "ROOT.gStyle.SetOptTitle(1)\n",
    "ROOT.gStyle.SetOptStat(0)\n",
    "tree.Draw(\"MX>>hist_2016\",\"weight\")\n",
    "\n",
    "hist.Scale(1./hist.Integral())\n",
    "hist_2017.Scale(1./hist_2017.Integral())\n",
    "    \n",
    "hist.Draw(\"APsame\")\n",
    "hists_list.append(hist)\n",
    "hist_2017.Draw(\"same\")\n",
    "hists_list_2017.append(hist_2017)\n",
    "\n",
    "\n",
    "leg = ROOT.TLegend(0.7,0.75,0.9,0.9)\n",
    "leg.AddEntry(hist,\"2016\" ,\"P\")\n",
    "leg.AddEntry(hist_2017,\"2017\" ,\"P\")\n",
    "leg.SetFillStyle(-1)\n",
    "leg.SetBorderSize(0)\n",
    "leg.SetTextFont(42)\n",
    "leg.SetTextSize(0.03)\n",
    "leg.Draw()\n",
    "\n",
    "\n",
    "\n",
    "hist_ratio = hist.Clone(\"ratio\")\n",
    "hist_ratio.Divide(hist_2017)\n",
    "hist_ratio.SetLineColor(2)\n",
    "hist_ratio.SetMarkerColor(2)\n",
    " \n",
    "    \n",
    "    \n",
    "pad2 = ROOT.TPad(\"pad2\", \"pad2\", 0., 0., 1., 1.)\n",
    "pad2.SetTopMargin(0.73)\n",
    "pad2.SetFillColor(0)\n",
    "pad2.SetFillStyle(0)\n",
    "pad2.Draw()\n",
    "pad2.cd()\n",
    "frame2 = ROOT.TH1F(\"frame2\",\"\",1,200,2000)\n",
    "frame2.SetMinimum(0.5)\n",
    "frame2.SetMaximum(1.5)\n",
    "frame2.GetYaxis().SetLabelSize(0.02)\n",
    "frame2.GetXaxis().SetLabelSize(0.04)\n",
    "frame2.GetYaxis().SetTitleSize(0.04)\n",
    "frame2.GetXaxis().SetTitle('reco MX (GeV)')\n",
    "frame2.SetStats(0)\n",
    "frame2.GetYaxis().SetTitle(\"2016/2017\")\n",
    "frame2.Draw()\n",
    "hist_ratio.Draw(\"HISTsameE\")\n",
    "\n",
    "line = ROOT.TLine(200,1,2000,1)\n",
    "line.SetLineStyle(3)\n",
    "line.Draw(\"same\")\n",
    "\n",
    "\n",
    "out.cd()\n",
    "\n",
    "hist_ratio.Write()\n",
    "out.Close()    \n",
    "\n",
    "c.Draw()\n",
    "c.SaveAs(plot_dir+'reweight2017_to_2016_'+date+'.pdf')\n",
    "\n"
   ]
  },
  {
   "cell_type": "code",
   "execution_count": 53,
   "metadata": {
    "collapsed": false
   },
   "outputs": [
    {
     "name": "stderr",
     "output_type": "stream",
     "text": [
      "TCanvas::Constructor:0: RuntimeWarning: Deleting canvas with same name: c\n"
     ]
    },
    {
     "data": {
      "image/png": "[encoded data removed]",
      "text/plain": [
       "<IPython.core.display.Image object>"
      ]
     },
     "metadata": {},
     "output_type": "display_data"
    },
    {
     "name": "stderr",
     "output_type": "stream",
     "text": [
      "Info in <TCanvas::Print>: pdf file /mnt/t3nfs01/data01/shome/nchernya/HHbbgg_ETH_devel/Training/plots/reweighted_nodes/2016_from_hists/GenMhhreweight2017_to_2016_12_11.pdf has been created\n"
     ]
    }
   ],
   "source": [
    "path_2016='/mnt/t3nfs01/data01/shome/nchernya/HHbbgg_ETH_devel/root_files/deepCSV_01_10_2018/'\n",
    "path_2017='/mnt/t3nfs01/data01/shome/nchernya/HHbbgg_ETH_devel/root_files/ntuples_2017data_20181023/'\n",
    "path_2017='/mnt/t3nfs01/data01/shome/nchernya/HHbbgg_ETH_devel/root_files/ntuples_2017_20181112/'\n",
    "plot_dir = '/mnt/t3nfs01/data01/shome/nchernya/HHbbgg_ETH_devel/Training/plots/reweighted_nodes/2016_from_hists/'\n",
    "date = '12_11'\n",
    "out = TFile(path_2017+'GenNode_reweighting_hist.root','recreate')\n",
    "\n",
    "\n",
    "sum=0.\n",
    "c = TCanvas(\"c\",\"c\",500,500)\n",
    "c.SetBottomMargin(0.3)\n",
    "name='GenNodesCombined'\n",
    "infile2016 = TFile(path_2016+'output_GluGluToHHTo2B2G_SM_plus_reweighted_nodes_13TeV-madgraph.root')\n",
    "infile2017 = TFile(path_2017+'output_GluGluToHHTo2B2G_SM_plus_nodes_13TeV-madgraph.root')\n",
    "hists_list=[]\n",
    "hists_list_2017=[]\n",
    "\n",
    "\n",
    "tree_2017 = infile2017.Get(name)\n",
    "hist_2017 = TH1F(\"hist_2017\",\"hist_2017\",50,200,2000)\n",
    "hist_2017.SetLineColor(2)\n",
    "hist_2017.SetMarkerColor(2)\n",
    "tree_2017.Draw(\"hh_m>>hist_2017\",\"weight\")\n",
    "    \n",
    "tree = infile2016.Get(name)\n",
    "hist = TH1F(\"hist_2016\",\"hist_2016\",50,200,2000)\n",
    "hist.SetTitle('')\n",
    "hist.GetXaxis().SetTitle('gen m(HH) (GeV)')\n",
    "hist.GetYaxis().SetTitle('A.U.')\n",
    "hist.GetXaxis().SetLabelSize(0)\n",
    "hist.GetXaxis().SetTitleOffset(0.91)\n",
    "hist.GetYaxis().SetTitleOffset(1.4)\n",
    "\n",
    "ROOT.gStyle.SetOptTitle(1)\n",
    "ROOT.gStyle.SetOptStat(0)\n",
    "tree.Draw(\"hh_m>>hist_2016\",\"weight\")\n",
    "\n",
    "hist.Scale(1./hist.Integral())\n",
    "hist_2017.Scale(1./hist_2017.Integral())\n",
    "    \n",
    "hist.Draw(\"APsame\")\n",
    "hists_list.append(hist)\n",
    "hist_2017.Draw(\"same\")\n",
    "hists_list_2017.append(hist_2017)\n",
    "\n",
    "\n",
    "leg = ROOT.TLegend(0.7,0.75,0.9,0.9)\n",
    "leg.AddEntry(hist,\"2016\" ,\"P\")\n",
    "leg.AddEntry(hist_2017,\"2017\" ,\"P\")\n",
    "leg.SetFillStyle(-1)\n",
    "leg.SetBorderSize(0)\n",
    "leg.SetTextFont(42)\n",
    "leg.SetTextSize(0.03)\n",
    "leg.Draw()\n",
    "\n",
    "\n",
    "\n",
    "hist_ratio = hist.Clone(\"ratio\")\n",
    "hist_ratio.Divide(hist_2017)\n",
    "hist_ratio.SetLineColor(2)\n",
    "hist_ratio.SetMarkerColor(2)\n",
    " \n",
    "    \n",
    "    \n",
    "pad2 = ROOT.TPad(\"pad2\", \"pad2\", 0., 0., 1., 1.)\n",
    "pad2.SetTopMargin(0.73)\n",
    "pad2.SetFillColor(0)\n",
    "pad2.SetFillStyle(0)\n",
    "pad2.Draw()\n",
    "pad2.cd()\n",
    "frame2 = ROOT.TH1F(\"frame2\",\"\",1,200,2000)\n",
    "frame2.SetMinimum(0.5)\n",
    "frame2.SetMaximum(1.5)\n",
    "frame2.GetYaxis().SetLabelSize(0.02)\n",
    "frame2.GetXaxis().SetLabelSize(0.04)\n",
    "frame2.GetYaxis().SetTitleSize(0.04)\n",
    "frame2.GetXaxis().SetTitle('gen m(HH) (GeV)')\n",
    "frame2.SetStats(0)\n",
    "frame2.GetYaxis().SetTitle(\"2016/2017\")\n",
    "frame2.Draw()\n",
    "hist_ratio.Draw(\"HISTsameE\")\n",
    "\n",
    "line = ROOT.TLine(200,1,2000,1)\n",
    "line.SetLineStyle(3)\n",
    "line.Draw(\"same\")\n",
    "\n",
    "\n",
    "out.cd()\n",
    "\n",
    "hist_ratio.Write()\n",
    "out.Close()    \n",
    "\n",
    "c.Draw()\n",
    "c.SaveAs(plot_dir+'GenMhhreweight2017_to_2016_'+date+'.pdf')\n",
    "\n"
   ]
  },
  {
   "cell_type": "code",
   "execution_count": null,
   "metadata": {
    "collapsed": true
   },
   "outputs": [],
   "source": []
  }
 ],
 "metadata": {
  "anaconda-cloud": {},
  "kernelspec": {
   "display_name": "Python [conda root]",
   "language": "python",
   "name": "conda-root-py"
  },
  "language_info": {
   "codemirror_mode": {
    "name": "ipython",
    "version": 2
   },
   "file_extension": ".py",
   "mimetype": "text/x-python",
   "name": "python",
   "nbconvert_exporter": "python",
   "pygments_lexer": "ipython2",
   "version": "2.7.12"
  }
 },
 "nbformat": 4,
 "nbformat_minor": 1
}
