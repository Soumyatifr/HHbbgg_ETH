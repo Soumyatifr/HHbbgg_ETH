{
 "cells": [
  {
   "cell_type": "code",
   "execution_count": 26,
   "metadata": {
    "collapsed": false
   },
   "outputs": [],
   "source": [
    "import os\n",
    "import sys; sys.path.append(\"~/HHbbgg_ETH_devel/Training/python\") # to load packages\n",
    "import training_utils as utils\n",
    "import numpy as np\n",
    "reload(utils)\n",
    "import preprocessing_utils as preprocessing\n",
    "reload(preprocessing)\n",
    "import plotting_utils as plotting\n",
    "reload(plotting)\n",
    "import optimization_utils as optimization\n",
    "reload(optimization)\n",
    "import postprocessing_utils as postprocessing\n",
    "reload(postprocessing)\n",
    "import pandas as pd\n",
    "import root_pandas as rpd\n",
    "import ROOT\n",
    "from ROOT import TChain, TTree,TCanvas,TH1F,TList,TFile,TH2F,TPaveLabel,TPaveText,TLorentzVector"
   ]
  },
  {
   "cell_type": "code",
   "execution_count": 5,
   "metadata": {
    "collapsed": false
   },
   "outputs": [
    {
     "name": "stdout",
     "output_type": "stream",
     "text": [
      "env: data=/mnt/t3nfs01/data01/shome/nchernya/HHbbgg_ETH_devel/root_files/deepCSV_01_10_2018\n",
      "['output_GluGluToHHTo2B2G_reweighted_nodes_13TeV-madgraph.root']\n"
     ]
    }
   ],
   "source": [
    "ntuples = 'deepCSV_01_10_2018'\n",
    "# \"%\" sign allows to interpret the rest as a system command\n",
    "%env data=$utils.IO.ldata$ntuples\n",
    "files = ! ls $data | sort -t_ -k 3 -n\n",
    "signal = [s for s in files if \"_node_\" in s ]"
   ]
  },
  {
   "cell_type": "code",
   "execution_count": 6,
   "metadata": {
    "collapsed": false
   },
   "outputs": [
    {
     "name": "stdout",
     "output_type": "stream",
     "text": [
      "['output_GluGluToHHTo2B2G_reweighted_nodes_13TeV-madgraph.root']\n"
     ]
    }
   ],
   "source": [
    "print signal\n",
    "treepath='tagsDumper/trees/'\n",
    "path='/mnt/t3nfs01/data01/shome/nchernya/HHbbgg_ETH_devel/root_files/%s/'%ntuples"
   ]
  },
  {
   "cell_type": "code",
   "execution_count": 4,
   "metadata": {
    "collapsed": false
   },
   "outputs": [
    {
     "name": "stdout",
     "output_type": "stream",
     "text": [
      "(16321, 81)\n",
      "(17824, 81)\n",
      "(19532, 81)\n",
      "(20175, 81)\n",
      "(17241, 81)\n",
      "(18439, 81)\n",
      "(17322, 81)\n",
      "(15523, 81)\n",
      "(17935, 81)\n",
      "(17921, 81)\n",
      "(14611, 81)\n",
      "(15701, 81)\n",
      "(16826, 81)\n",
      "(17526, 81)\n"
     ]
    }
   ],
   "source": [
    "signal_df = []\n",
    "for i,sig in enumerate(signal):\n",
    "    treename = signal[i][signal[i].find('output_')+7:signal[i].find('.root')].replace('-','_')+'_13TeV_DoubleHTag_0'\n",
    "    df = rpd.read_root(path+signal[i],treepath+treename)\n",
    "    print df.shape\n",
    "    signal_df.append(df)"
   ]
  },
  {
   "cell_type": "code",
   "execution_count": 5,
   "metadata": {
    "collapsed": false
   },
   "outputs": [],
   "source": [
    "all_signal = pd.concat([signal_df[i] for i in range(0,len(signal_df))],ignore_index=True)\n"
   ]
  },
  {
   "cell_type": "code",
   "execution_count": 6,
   "metadata": {
    "collapsed": false
   },
   "outputs": [
    {
     "name": "stdout",
     "output_type": "stream",
     "text": [
      "(242897, 81)\n"
     ]
    }
   ],
   "source": [
    "print all_signal.shape\n",
    "rpd.to_root(all_signal,path+'output_GluGluToHHTo2B2G_SM_plus_nodes_13TeV-madgraph.root','nodesCombined','w')"
   ]
  },
  {
   "cell_type": "markdown",
   "metadata": {
    "collapsed": false
   },
   "source": [
    "### Reweighted 2016 nodes "
   ]
  },
  {
   "cell_type": "code",
   "execution_count": 46,
   "metadata": {
    "collapsed": true
   },
   "outputs": [],
   "source": [
    "path='/mnt/t3nfs01/data01/shome/nchernya/HHbbgg_ETH_devel/root_files/deepCSV_01_10_2018/'\n",
    "file = 'output_GluGluToHHTo2B2G_reweighted_nodes_13TeV-madgraph.root'"
   ]
  },
  {
   "cell_type": "code",
   "execution_count": 49,
   "metadata": {
    "collapsed": false
   },
   "outputs": [
    {
     "name": "stdout",
     "output_type": "stream",
     "text": [
      "(208545, 81)\n",
      "(208545, 81)\n",
      "(208545, 81)\n",
      "(208545, 81)\n",
      "(208545, 81)\n"
     ]
    }
   ],
   "source": [
    "signal_df = []\n",
    "for sig in [3,4,5,8,10]:\n",
    "    treename = 'GluGluToHHTo2B2G_reweighted_node_%d'%sig\n",
    "    df = rpd.read_root(path+file,treename)\n",
    "    print df.shape\n",
    "    df['weight'] = df['weight']/11.75\n",
    "\n",
    "    signal_df.append(df)\n",
    "    \n",
    "#adding SM node :\n",
    "fileSM='output_GluGluToHHTo2B2G_node_SM_13TeV-madgraph.root'\n",
    "signal_df.append(rpd.read_root(path+fileSM,'tagsDumper/trees/GluGluToHHTo2B2G_node_SM_13TeV_madgraph_13TeV_DoubleHTag_0'))"
   ]
  },
  {
   "cell_type": "code",
   "execution_count": 50,
   "metadata": {
    "collapsed": false
   },
   "outputs": [
    {
     "name": "stdout",
     "output_type": "stream",
     "text": [
      "(1060251, 81)\n"
     ]
    }
   ],
   "source": [
    "all_signal = pd.concat([signal_df[i] for i in range(0,len(signal_df))],ignore_index=True)\n",
    "print all_signal.shape\n",
    "rpd.to_root(all_signal,path+'output_GluGluToHHTo2B2G_SM_plus_reweighted_nodes_13TeV-madgraph.root','nodesCombined','w')"
   ]
  },
  {
   "cell_type": "markdown",
   "metadata": {
    "collapsed": true
   },
   "source": [
    "### 2017 nodes "
   ]
  },
  {
   "cell_type": "code",
   "execution_count": 51,
   "metadata": {
    "collapsed": false
   },
   "outputs": [
    {
     "name": "stdout",
     "output_type": "stream",
     "text": [
      "env: data=/mnt/t3nfs01/data01/shome/nchernya/HHbbgg_ETH_devel/root_files/ntuples_2017data_20181023\n"
     ]
    }
   ],
   "source": [
    "ntuples = 'ntuples_2017data_20181023'\n",
    "path='/mnt/t3nfs01/data01/shome/nchernya/HHbbgg_ETH_devel/root_files/%s/'%ntuples\n",
    "# \"%\" sign allows to interpret the rest as a system command\n",
    "%env data=$utils.IO.ldata$ntuples\n",
    "files = ! ls $data | sort -t_ -k 3 -n\n",
    "signal = [s for s in files if \"_node_\" in s ]\n",
    "treepath='tagsDumper/trees/'"
   ]
  },
  {
   "cell_type": "code",
   "execution_count": 52,
   "metadata": {
    "collapsed": false
   },
   "outputs": [
    {
     "name": "stdout",
     "output_type": "stream",
     "text": [
      "output_GluGluToHHTo2B2G_node_2_13TeV-madgraph_correctedcfg.root\n",
      "output_GluGluToHHTo2B2G_node_3_13TeV-madgraph_correctedcfg.root\n",
      "output_GluGluToHHTo2B2G_node_4_13TeV-madgraph_correctedcfg.root\n",
      "output_GluGluToHHTo2B2G_node_7_13TeV-madgraph_correctedcfg.root\n",
      "output_GluGluToHHTo2B2G_node_9_13TeV-madgraph_correctedcfg.root\n",
      "output_GluGluToHHTo2B2G_node_SM_13TeV-madgraph.root\n"
     ]
    }
   ],
   "source": [
    "signal_df = []\n",
    "for i,sig in enumerate(signal):\n",
    "    if '12' in sig : continue\n",
    "    print signal[i]\n",
    "    treename = signal[i][signal[i].find('output_')+7:signal[i].find('.root')].replace('-','_')+'_13TeV_DoubleHTag_0'\n",
    "    df = rpd.read_root(path+signal[i],treepath+treename)\n",
    "    signal_df.append(df)"
   ]
  },
  {
   "cell_type": "code",
   "execution_count": 53,
   "metadata": {
    "collapsed": false
   },
   "outputs": [
    {
     "name": "stdout",
     "output_type": "stream",
     "text": [
      "(801306, 81)\n"
     ]
    }
   ],
   "source": [
    "all_signal = pd.concat([signal_df[i] for i in range(0,len(signal_df))],ignore_index=True)\n",
    "print all_signal.shape\n",
    "rpd.to_root(all_signal,path+'output_GluGluToHHTo2B2G_SM_plus_nodes_13TeV-madgraph.root','nodesCombined','w')"
   ]
  },
  {
   "cell_type": "markdown",
   "metadata": {},
   "source": [
    "### Reweight 2017(with more stat) to match 2016\n",
    "##### But concerving overall integral!"
   ]
  },
  {
   "cell_type": "code",
   "execution_count": 54,
   "metadata": {
    "collapsed": false
   },
   "outputs": [
    {
     "name": "stderr",
     "output_type": "stream",
     "text": [
      "TCanvas::Constructor:0: RuntimeWarning: Deleting canvas with same name: c\n"
     ]
    },
    {
     "data": {
      "image/png": "[encoded data removed]",
      "text/plain": [
       "<IPython.core.display.Image object>"
      ]
     },
     "metadata": {},
     "output_type": "display_data"
    },
    {
     "name": "stderr",
     "output_type": "stream",
     "text": [
      "Info in <TCanvas::Print>: pdf file /mnt/t3nfs01/data01/shome/nchernya/HHbbgg_ETH_devel/Training/plots/reweighted_nodes/2016_from_hists/reweight2017_to_2016_24_10.pdf has been created\n"
     ]
    }
   ],
   "source": [
    "path_2016='/mnt/t3nfs01/data01/shome/nchernya/HHbbgg_ETH_devel/root_files/deepCSV_01_10_2018/'\n",
    "path_2017='/mnt/t3nfs01/data01/shome/nchernya/HHbbgg_ETH_devel/root_files/ntuples_2017data_20181023/'\n",
    "plot_dir = '/mnt/t3nfs01/data01/shome/nchernya/HHbbgg_ETH_devel/Training/plots/reweighted_nodes/2016_from_hists/'\n",
    "date = '24_10'\n",
    "out = TFile(path_2017+'Node_reweighting_hist.root','recreate')\n",
    "\n",
    "\n",
    "sum=0.\n",
    "c = TCanvas(\"c\",\"c\",500,500)\n",
    "c.SetBottomMargin(0.3)\n",
    "name='nodesCombined'\n",
    "infile2016 = TFile(path_2016+'output_GluGluToHHTo2B2G_SM_plus_reweighted_nodes_13TeV-madgraph.root')\n",
    "infile2017 = TFile(path_2017+'output_GluGluToHHTo2B2G_SM_plus_nodes_13TeV-madgraph.root')\n",
    "hists_list=[]\n",
    "hists_list_2017=[]\n",
    "\n",
    "\n",
    "tree_2017 = infile2017.Get(name)\n",
    "hist_2017 = TH1F(\"hist_2017\",\"hist_2017\",50,200,2000)\n",
    "hist_2017.SetLineColor(2)\n",
    "hist_2017.SetMarkerColor(2)\n",
    "tree_2017.Draw(\"MX>>hist_2017\",\"weight\")\n",
    "    \n",
    "tree = infile2016.Get(name)\n",
    "hist = TH1F(\"hist_2016\",\"hist_2016\",50,200,2000)\n",
    "hist.SetTitle('')\n",
    "hist.GetXaxis().SetTitle('reco MX (GeV)')\n",
    "hist.GetYaxis().SetTitle('A.U.')\n",
    "hist.GetXaxis().SetLabelSize(0)\n",
    "hist.GetXaxis().SetTitleOffset(0.91)\n",
    "hist.GetYaxis().SetTitleOffset(1.4)\n",
    "\n",
    "ROOT.gStyle.SetOptTitle(1)\n",
    "ROOT.gStyle.SetOptStat(0)\n",
    "tree.Draw(\"MX>>hist_2016\",\"weight/11.75\")\n",
    "\n",
    "hist.Scale(1./hist.Integral())\n",
    "hist_2017.Scale(1./hist_2017.Integral())\n",
    "    \n",
    "hist.Draw(\"APsame\")\n",
    "hists_list.append(hist)\n",
    "hist_2017.Draw(\"same\")\n",
    "hists_list_2017.append(hist_2017)\n",
    "\n",
    "\n",
    "leg = ROOT.TLegend(0.7,0.75,0.9,0.9)\n",
    "leg.AddEntry(hist,\"2016\" ,\"P\")\n",
    "leg.AddEntry(hist_2017,\"2017\" ,\"P\")\n",
    "leg.SetFillStyle(-1)\n",
    "leg.SetBorderSize(0)\n",
    "leg.SetTextFont(42)\n",
    "leg.SetTextSize(0.03)\n",
    "leg.Draw()\n",
    "\n",
    "\n",
    "\n",
    "hist_ratio = hist.Clone(\"ratio\")\n",
    "hist_ratio.Divide(hist_2017)\n",
    "hist_ratio.SetLineColor(2)\n",
    "hist_ratio.SetMarkerColor(2)\n",
    " \n",
    "    \n",
    "    \n",
    "pad2 = ROOT.TPad(\"pad2\", \"pad2\", 0., 0., 1., 1.)\n",
    "pad2.SetTopMargin(0.73)\n",
    "pad2.SetFillColor(0)\n",
    "pad2.SetFillStyle(0)\n",
    "pad2.Draw()\n",
    "pad2.cd()\n",
    "frame2 = ROOT.TH1F(\"frame2\",\"\",1,200,2000)\n",
    "frame2.SetMinimum(0.5)\n",
    "frame2.SetMaximum(1.5)\n",
    "frame2.GetYaxis().SetLabelSize(0.02)\n",
    "frame2.GetXaxis().SetLabelSize(0.04)\n",
    "frame2.GetYaxis().SetTitleSize(0.04)\n",
    "frame2.GetXaxis().SetTitle('reco MX (GeV)')\n",
    "frame2.SetStats(0)\n",
    "frame2.GetYaxis().SetTitle(\"2016/2017\")\n",
    "frame2.Draw()\n",
    "hist_ratio.Draw(\"HISTsameE\")\n",
    "\n",
    "line = ROOT.TLine(200,1,2000,1)\n",
    "line.SetLineStyle(3)\n",
    "line.Draw(\"same\")\n",
    "\n",
    "\n",
    "out.cd()\n",
    "\n",
    "hist_ratio.Write()\n",
    "out.Close()    \n",
    "\n",
    "c.Draw()\n",
    "c.SaveAs(plot_dir+'reweight2017_to_2016_'+date+'.pdf')\n",
    "\n"
   ]
  },
  {
   "cell_type": "code",
   "execution_count": null,
   "metadata": {
    "collapsed": true
   },
   "outputs": [],
   "source": []
  }
 ],
 "metadata": {
  "anaconda-cloud": {},
  "kernelspec": {
   "display_name": "Python [conda root]",
   "language": "python",
   "name": "conda-root-py"
  },
  "language_info": {
   "codemirror_mode": {
    "name": "ipython",
    "version": 2
   },
   "file_extension": ".py",
   "mimetype": "text/x-python",
   "name": "python",
   "nbconvert_exporter": "python",
   "pygments_lexer": "ipython2",
   "version": "2.7.12"
  }
 },
 "nbformat": 4,
 "nbformat_minor": 1
}
