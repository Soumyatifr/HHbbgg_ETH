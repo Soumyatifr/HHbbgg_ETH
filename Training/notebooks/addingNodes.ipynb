{
 "cells": [
  {
   "cell_type": "code",
   "execution_count": 14,
   "metadata": {
    "collapsed": false
   },
   "outputs": [],
   "source": [
    "import os\n",
    "import sys; sys.path.append(\"~/HHbbgg_ETH_devel/Training/python\") # to load packages\n",
    "import training_utils as utils\n",
    "import numpy as np\n",
    "reload(utils)\n",
    "import preprocessing_utils as preprocessing\n",
    "reload(preprocessing)\n",
    "import plotting_utils as plotting\n",
    "reload(plotting)\n",
    "import optimization_utils as optimization\n",
    "reload(optimization)\n",
    "import postprocessing_utils as postprocessing\n",
    "reload(postprocessing)\n",
    "import pandas as pd\n",
    "import root_pandas as rpd"
   ]
  },
  {
   "cell_type": "code",
   "execution_count": 15,
   "metadata": {
    "collapsed": false
   },
   "outputs": [
    {
     "name": "stdout",
     "output_type": "stream",
     "text": [
      "env: data=/mnt/t3nfs01/data01/shome/nchernya/HHbbgg_ETH_devel/root_files/ntuples_newcode_20180627\n"
     ]
    }
   ],
   "source": [
    "ntuples = 'ntuples_newcode_20180627'\n",
    "# \"%\" sign allows to interpret the rest as a system command\n",
    "%env data=$utils.IO.ldata$ntuples\n",
    "files = ! ls $data | sort -t_ -k 3 -n\n",
    "signal = [s for s in files if \"_node_\" in s ]"
   ]
  },
  {
   "cell_type": "code",
   "execution_count": 16,
   "metadata": {
    "collapsed": false
   },
   "outputs": [
    {
     "name": "stdout",
     "output_type": "stream",
     "text": [
      "['output_GluGluToHHTo2B2G_node_10_13TeV-madgraph.root', 'output_GluGluToHHTo2B2G_node_11_13TeV-madgraph.root', 'output_GluGluToHHTo2B2G_node_12_13TeV-madgraph.root', 'output_GluGluToHHTo2B2G_node_13_13TeV-madgraph.root', 'output_GluGluToHHTo2B2G_node_2_13TeV-madgraph.root', 'output_GluGluToHHTo2B2G_node_3_13TeV-madgraph.root', 'output_GluGluToHHTo2B2G_node_4_13TeV-madgraph.root', 'output_GluGluToHHTo2B2G_node_5_13TeV-madgraph.root', 'output_GluGluToHHTo2B2G_node_6_13TeV-madgraph.root', 'output_GluGluToHHTo2B2G_node_7_13TeV-madgraph.root', 'output_GluGluToHHTo2B2G_node_8_13TeV-madgraph.root', 'output_GluGluToHHTo2B2G_node_9_13TeV-madgraph.root', 'output_GluGluToHHTo2B2G_node_box_13TeV-madgraph.root', 'output_GluGluToHHTo2B2G_node_SM_13TeV-madgraph.root']\n"
     ]
    }
   ],
   "source": [
    "print signal\n",
    "treepath='tagsDumper/trees/'\n",
    "path='/mnt/t3nfs01/data01/shome/nchernya/HHbbgg_ETH_devel/root_files/%s/'%ntuples"
   ]
  },
  {
   "cell_type": "code",
   "execution_count": 17,
   "metadata": {
    "collapsed": false
   },
   "outputs": [
    {
     "name": "stdout",
     "output_type": "stream",
     "text": [
      "(17050, 75)\n",
      "(18565, 75)\n",
      "(20168, 75)\n",
      "(20814, 75)\n",
      "(17906, 75)\n",
      "(19183, 75)\n",
      "(18042, 75)\n",
      "(16277, 75)\n",
      "(18618, 75)\n",
      "(18658, 75)\n",
      "(15397, 75)\n",
      "(16458, 75)\n",
      "(17586, 75)\n",
      "(18203, 75)\n"
     ]
    }
   ],
   "source": [
    "signal_df = []\n",
    "for i,sig in enumerate(signal):\n",
    "    treename = signal[i][signal[i].find('output_')+7:signal[i].find('.root')].replace('-','_')+'_13TeV_DoubleHTag_0'\n",
    "    df = rpd.read_root(path+signal[i],treepath+treename)\n",
    "    print df.shape\n",
    "    signal_df.append(df)"
   ]
  },
  {
   "cell_type": "code",
   "execution_count": 18,
   "metadata": {
    "collapsed": false
   },
   "outputs": [],
   "source": [
    "all_signal = pd.concat([signal_df[i] for i in range(0,len(signal_df))],ignore_index=True)\n"
   ]
  },
  {
   "cell_type": "code",
   "execution_count": 19,
   "metadata": {
    "collapsed": false
   },
   "outputs": [
    {
     "name": "stdout",
     "output_type": "stream",
     "text": [
      "(252925, 75)\n"
     ]
    }
   ],
   "source": [
    "print all_signal.shape\n",
    "rpd.to_root(all_signal,path+'output_GluGluToHHTo2B2G_SM_plus_nodes_13TeV-madgraph.root','nodesCombined','w')"
   ]
  },
  {
   "cell_type": "code",
   "execution_count": null,
   "metadata": {
    "collapsed": false
   },
   "outputs": [],
   "source": []
  },
  {
   "cell_type": "code",
   "execution_count": null,
   "metadata": {
    "collapsed": true
   },
   "outputs": [],
   "source": []
  },
  {
   "cell_type": "code",
   "execution_count": null,
   "metadata": {
    "collapsed": true
   },
   "outputs": [],
   "source": []
  },
  {
   "cell_type": "code",
   "execution_count": null,
   "metadata": {
    "collapsed": true
   },
   "outputs": [],
   "source": []
  },
  {
   "cell_type": "code",
   "execution_count": null,
   "metadata": {
    "collapsed": true
   },
   "outputs": [],
   "source": []
  }
 ],
 "metadata": {
  "anaconda-cloud": {},
  "kernelspec": {
   "display_name": "Python [conda root]",
   "language": "python",
   "name": "conda-root-py"
  },
  "language_info": {
   "codemirror_mode": {
    "name": "ipython",
    "version": 2
   },
   "file_extension": ".py",
   "mimetype": "text/x-python",
   "name": "python",
   "nbconvert_exporter": "python",
   "pygments_lexer": "ipython2",
   "version": "2.7.12"
  }
 },
 "nbformat": 4,
 "nbformat_minor": 1
}
