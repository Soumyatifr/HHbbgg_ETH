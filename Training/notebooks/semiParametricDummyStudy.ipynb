{
 "cells": [
  {
   "cell_type": "code",
   "execution_count": 1,
   "metadata": {
    "collapsed": false
   },
   "outputs": [],
   "source": [
    "import random\n",
    "# let's create a linear function with some error called f\n",
    "def f(x):\n",
    "    res = x* 25 + 3\n",
    "    error = res * random.uniform(-0.01, 0.01) # you can play with the error to see how it affects the result\n",
    "    return res + error\n",
    "\n",
    "values = []\n",
    "# now using f we are going to create 300 values.\n",
    "for i in range(0, 30000):\n",
    "    x = random.uniform(1, 1000)\n",
    "    y = f(x)\n",
    "    values.append((x, y))\n",
    "\n"
   ]
  },
  {
   "cell_type": "code",
   "execution_count": 3,
   "metadata": {
    "collapsed": false
   },
   "outputs": [],
   "source": [
    "from sklearn import linear_model\n",
    "import xgboost as xgb\n",
    "import numpy as np\n",
    "####regr = linear_model.LinearRegression()\n",
    "regr=xgb.XGBRegressor()\n",
    "# split the values into two series instead a list of tuples\n",
    "x, y = zip(*values)\n",
    "max_x = max(x)\n",
    "min_x = min(x)\n",
    "# split the values in train and data.\n",
    "train_data_X = np.array(map(lambda x: [x], list(x[:-20])))\n",
    "train_data_X = (train_data_X-train_data_X.mean())\n",
    "train_data_X /= np.abs(train_data_X).max()\n",
    "train_data_Y = list(y[:-20])\n",
    "train_data_Y = np.array(train_data_Y)+np.random.randn(len(train_data_Y))*200-np.random.randn(len(train_data_Y))*400\n",
    "train_data_Y = (train_data_Y - train_data_Y.mean())\n",
    "train_data_Y /= np.abs(train_data_Y).max()\n",
    "test_data_X = map(lambda x: [x], list(x[-20:]))\n",
    "test_data_Y = list(y[-20:])\n",
    "# feed the linear regression with the train data to obtain a model.\n",
    "regr.fit(train_data_X, train_data_Y)\n",
    "# check that the coeffients are the expected ones.\n",
    "#m = regr.coef_[0]\n",
    "#b = regr.intercept_\n",
    "#print(' y = {0} * x + {1}'.format(m, b))\n",
    "predictions = regr.predict(train_data_X)"
   ]
  },
  {
   "cell_type": "code",
   "execution_count": 4,
   "metadata": {
    "collapsed": false
   },
   "outputs": [
    {
     "data": {
      "image/png": "[encoded data removed]",
      "text/plain": [
       "<matplotlib.figure.Figure at 0x7f7e1c0adad0>"
      ]
     },
     "metadata": {},
     "output_type": "display_data"
    }
   ],
   "source": [
    "########linear regression\n",
    "\n",
    "import matplotlib.pyplot as plt\n",
    "\n",
    "# now we are going to plot the points and the model obtained\n",
    "plt.scatter(train_data_X, train_data_Y, color='blue')  # you can use test_data_X and test_data_Y instead.\n",
    "plt.scatter(train_data_X, predictions, color='red')  # you can use test_data_X and test_data_Y instead.\n",
    "\n",
    "#plt.plot([min_x, max_x], [b, m*max_x + b], 'r')\n",
    "plt.title('Fitted linear regression', fontsize=16)\n",
    "plt.xlabel('x', fontsize=13)\n",
    "plt.ylabel('y', fontsize=13)\n",
    "plt.show()"
   ]
  },
  {
   "cell_type": "code",
   "execution_count": 140,
   "metadata": {
    "collapsed": false
   },
   "outputs": [],
   "source": [
    "######## A class for xgboost implementation of quantile\n",
    "import numpy as np\n",
    "from scipy.stats import binom_test\n",
    "\n",
    "from sklearn.base import BaseEstimator, RegressorMixin\n",
    "from xgboost.sklearn import XGBRegressor\n",
    "from functools import partial\n",
    "\n",
    "class XGBOOSTQUANTILE_2(BaseEstimator, RegressorMixin):\n",
    "    def __init__(self, quant=0.5,\n",
    "    n_estimators = 500,max_depth = 5,reg_alpha =0.,reg_lambda=0.,gamma=0.):\n",
    "        self.quantile = quant\n",
    "        #xgboost parameters \n",
    "        self.n_estimators = n_estimators \n",
    "        self.max_depth = max_depth \n",
    "        self.reg_alpha= reg_alpha \n",
    "        self.reg_lambda = reg_lambda \n",
    "        self.gamma = gamma \n",
    "        #keep xgboost estimator in memory \n",
    "        self.clf = None \n",
    "    def fit(self, X, y): \n",
    "         def quantile_loss_2(y,preds):\n",
    "\n",
    "            quantile = self.quantile\n",
    "                \n",
    "            \"\"\"\n",
    "            Computes first-order derivative of quantile\n",
    "            regression loss and a non-degenerate\n",
    "            substitute for second-order derivative.\n",
    "\n",
    "            Substitute is returned instead of zeros,\n",
    "            because XGBoost requires non-zero\n",
    "            second-order derivatives. See this page:\n",
    "            https://github.com/dmlc/xgboost/issues/1825\n",
    "            to see why it is possible to use this trick.\n",
    "            However, be sure that hyperparameter named\n",
    "            `max_delta_step` is small enough to satisfy:\n",
    "            ```0.5 * max_delta_step <=\n",
    "            min(quantile, 1 - quantile)```.\n",
    "            \"\"\"\n",
    "            try:\n",
    "                assert 0 <= quantile <= 1\n",
    "            except AssertionError:\n",
    "                raise ValueError(\"Quantile value must be float between 0 and 1.\")\n",
    "            mask = y > preds\n",
    "            grad = -(quantile * mask) + ((1.0 - quantile) * ~mask)            \n",
    "            hess = np.ones_like(preds)\n",
    "\n",
    "    \n",
    "            return grad, hess         \n",
    "\n",
    "         self.clf = XGBRegressor(\n",
    "         objective=quantile_loss_2,\n",
    "#          objective=logregobj,\n",
    "#                            n_estimators = self.n_estimators,\n",
    "#                             max_depth = self.max_depth,\n",
    "#                             reg_alpha =self.reg_alpha, \n",
    "#                            reg_lambda = self.reg_lambda,\n",
    "#                            gamma = self.gamma,\n",
    "#                            learning_rate=0.1,\n",
    "#                             min_child_weight=0.002,max_delta_step=0.02*5.\n",
    "                learning_rate = 0.1,\n",
    "#                reg_lambda = 0.,\n",
    "                            base_score=np.percentile(y,50),\n",
    "                            nthread=10\n",
    "            )\n",
    "         self.clf.fit(X,y) \n",
    "         print \"Daaaaaaa\"\n",
    "         print type(self.clf)\n",
    "         return self \n",
    "    def predict(self, X): \n",
    "        y_pred = self.clf.predict(X) \n",
    "        return y_pred \n",
    "    def score(self, X, y): \n",
    "        y_pred = self.clf.predict(X) \n",
    "        score = (self.quant_alpha-1.0)*(y-y_pred)*(y<y_pred)+self.quant_alpha*(y-y_pred)* (y>=y_pred) \n",
    "        score = 1./np.sum(score) \n",
    "        return score"
   ]
  },
  {
   "cell_type": "code",
   "execution_count": 141,
   "metadata": {
    "collapsed": false
   },
   "outputs": [
    {
     "name": "stdout",
     "output_type": "stream",
     "text": [
      "Daaaaaaa\n",
      "<class 'xgboost.sklearn.XGBRegressor'>\n"
     ]
    }
   ],
   "source": [
    "regr2 = XGBOOSTQUANTILE_2(quant=0.5)\n",
    "regr2.fit(np.array(train_data_X).reshape(-1,1),train_data_Y )\n",
    "# check that the coeffients are the expected ones.\n",
    "#m = regr.coef_[0]\n",
    "#b = regr.intercept_\n",
    "#print(' y = {0} * x + {1}'.format(m, b))\n",
    "predictions = regr2.predict(train_data_X)"
   ]
  },
  {
   "cell_type": "code",
   "execution_count": 142,
   "metadata": {
    "collapsed": false
   },
   "outputs": [
    {
     "data": {
      "image/png": "[encoded data removed]",
      "text/plain": [
       "<matplotlib.figure.Figure at 0x7f7e1b6f7950>"
      ]
     },
     "metadata": {},
     "output_type": "display_data"
    }
   ],
   "source": [
    "import matplotlib.pyplot as plt\n",
    "\n",
    "# now we are going to plot the points and the model obtained\n",
    "plt.scatter(train_data_X,train_data_Y, color='blue')  # you can use test_data_X and test_data_Y instead.\n",
    "plt.scatter(train_data_X, predictions, color='red')  # you can use test_data_X and test_data_Y instead.\n",
    "\n",
    "#plt.plot([min_x, max_x], [b, m*max_x + b], 'r')\n",
    "plt.title('Fitted linear regression', fontsize=16)\n",
    "plt.xlabel('x', fontsize=13)\n",
    "plt.ylabel('y', fontsize=13)\n",
    "plt.show()"
   ]
  },
  {
   "cell_type": "code",
   "execution_count": 225,
   "metadata": {
    "collapsed": false
   },
   "outputs": [
    {
     "data": {
      "text/plain": [
       "GradientBoostingRegressor(alpha=0.5, criterion='friedman_mse', init=None,\n",
       "             learning_rate=0.1, loss='quantile', max_depth=3,\n",
       "             max_features=None, max_leaf_nodes=None,\n",
       "             min_impurity_split=1e-07, min_samples_leaf=1,\n",
       "             min_samples_split=2, min_weight_fraction_leaf=0.0,\n",
       "             n_estimators=100, presort='auto', random_state=None,\n",
       "             subsample=1.0, verbose=0, warm_start=False)"
      ]
     },
     "execution_count": 225,
     "metadata": {},
     "output_type": "execute_result"
    }
   ],
   "source": [
    "######## Semi-parametric regression with xgboost\n",
    "\n",
    "\n",
    "from sklearn.ensemble import GradientBoostingRegressor\n",
    "regr3 = GradientBoostingRegressor(loss='quantile',alpha=0.5)\n",
    "#regr3.fit(np.array(train_data_X).reshape(-1,1), np.array(train_data_Y)+np.random.randn(len(train_data_Y))*200)\n",
    "regr3.fit(np.array(train_data_X).reshape(-1,1),train_data_Y )"
   ]
  },
  {
   "cell_type": "code",
   "execution_count": 228,
   "metadata": {
    "collapsed": false
   },
   "outputs": [
    {
     "data": {
      "image/png": "[encoded data removed]",
      "text/plain": [
       "<matplotlib.figure.Figure at 0x7f005fe5ca90>"
      ]
     },
     "metadata": {},
     "output_type": "display_data"
    }
   ],
   "source": [
    "predictions = regr3.predict(train_data_X)\n",
    "import matplotlib.pyplot as plt\n",
    "\n",
    "# now we are going to plot the points and the model obtained\n",
    "plt.scatter(train_data_X, train_data_Y, color='blue')  # you can use test_data_X and test_data_Y instead.\n",
    "plt.scatter(train_data_X, predictions, color='red')  # you can use test_data_X and test_data_Y instead.\n",
    "\n",
    "#plt.plot([min_x, max_x], [b, m*max_x + b], 'r')\n",
    "plt.title('Fitted linear regression', fontsize=16)\n",
    "plt.xlabel('x', fontsize=13)\n",
    "plt.ylabel('y', fontsize=13)\n",
    "plt.show()"
   ]
  },
  {
   "cell_type": "code",
   "execution_count": 230,
   "metadata": {
    "collapsed": false
   },
   "outputs": [],
   "source": [
    "######## A class for xgboost implementation of quantile                                                                                                     \n",
    "import numpy as np\n",
    "from scipy.stats import binom_test\n",
    "\n",
    "from sklearn.base import BaseEstimator, RegressorMixin\n",
    "from xgboost.sklearn import XGBRegressor\n",
    "from functools import partial\n",
    "import math\n",
    "\n",
    "class XGBOOSTQUANTILE(BaseEstimator, RegressorMixin):\n",
    "    def __init__(self, quant=0.5,\n",
    "    n_estimators = 500,max_depth = 5,reg_alpha =0.,reg_lambda=0.,gamma=0.):\n",
    "        self.quantile = quant\n",
    "        #xgboost parameters                                                                                                                                 \n",
    "        self.n_estimators = n_estimators\n",
    "        self.max_depth = max_depth\n",
    "        self.reg_alpha= reg_alpha\n",
    "        self.reg_lambda = reg_lambda\n",
    "        self.gamma = gamma\n",
    "        #keep xgboost estimator in memory                                                                                                                   \n",
    "        self.clf = None\n",
    "    def fit(self, X, y):\n",
    "         def quantile_loss(y,preds):\n",
    "\n",
    "            quantile = self.quantile\n",
    "\n",
    "            \"\"\"                                                                                                                                             \n",
    "            Computes first-order derivative of quantile                                                                                                     \n",
    "            regression loss and a non-degenerate                                                                                                            \n",
    "            substitute for second-order derivative.                                                                                                         \n",
    "                                                                                                                                                            \n",
    "            Substitute is returned instead of zeros,                                                                                                        \n",
    "            because XGBoost requires non-zero    \n",
    "                        second-order derivatives. See this page:                                                                                                        \n",
    "            https://github.com/dmlc/xgboost/issues/1825                                                                                                     \n",
    "            to see why it is possible to use this trick.                                                                                                    \n",
    "            However, be sure that hyperparameter named                                                                                                      \n",
    "            `max_delta_step` is small enough to satisfy:                                                                                                    \n",
    "            ```0.5 * max_delta_step <=                                                                                                                      \n",
    "            min(quantile, 1 - quantile)```.                                                                                                                 \n",
    "            \"\"\"\n",
    "            try:\n",
    "                assert 0 <= quantile <= 1\n",
    "            except AssertionError:\n",
    "                raise ValueError(\"Quantile value must be float between 0 and 1.\")\n",
    "            mask =  preds > y\n",
    "#            grad = -(quantile * mask) + ((1.0 - quantile) * ~mask)\n",
    "            ####func is 2*(sqrt(1+q*x)-1)\n",
    "            grad = (quantile*mask/np.sqrt(1+quantile*(preds-y))-quantile*~mask/np.sqrt(1-quantile*(preds-y)))\n",
    "#            hess = np.ones_like(preds) \n",
    "            hess = (-0.5*quantile*quantile*mask/(np.power(1+quantile*(preds-y),1.5))-0.5*quantile*quantile*~mask/(np.power(1-quantile*(preds-y),1.5)))\n",
    "            print preds[0],y[0],grad[0],hess[0]\n",
    "\n",
    "\n",
    "            return grad, hess\n",
    "\n",
    "         self.clf = XGBRegressor(\n",
    "         objective=quantile_loss,\n",
    "#          objective=logregobj,                                                                                                                             \n",
    "#                            n_estimators = self.n_estimators,                                                                                              \n",
    "#                             max_depth = self.max_depth,                                                                                                   \n",
    "#                             reg_alpha =self.reg_alpha,                                                                                                    \n",
    "#                            reg_lambda = self.reg_lambda,             \n",
    "            #                            gamma = self.gamma,                                                                                                            \n",
    "#                            learning_rate=0.1,                                                                                                             \n",
    "#                             min_child_weight=0.002,                                                                                                       \n",
    "#                learning_rate = 0.1,                                                                                                                       \n",
    "#                reg_lambda = 0.,\n",
    "#                max_delta_step=self.quantile*10/0.5,\n",
    "#                           base_score=np.percentile(y,50),                                                                                                \n",
    "#                            nthread=10,max_delta_step=0.02*5.\n",
    "            nthread=5)\n",
    "         self.clf.fit(X,y)\n",
    "         print \"Daaaaaaa\"\n",
    "         print type(self.clf)\n",
    "         return self\n",
    "    def predict(self, X):\n",
    "        y_pred = self.clf.predict(X)\n",
    "        return y_pred\n",
    "    def score(self, X, y):\n",
    "        y_pred = self.clf.predict(X)\n",
    "        score = (self.quant_alpha-1.0)*(y-y_pred)*(y<y_pred)+self.quant_alpha*(y-y_pred)* (y>=y_pred)\n",
    "        score = 1./np.sum(score)\n",
    "        return score\n",
    "\n"
   ]
  },
  {
   "cell_type": "code",
   "execution_count": 231,
   "metadata": {
    "collapsed": false,
    "scrolled": false
   },
   "outputs": [
    {
     "name": "stdout",
     "output_type": "stream",
     "text": [
      "0.5 0.0898461 0.455472978858 -0.0944904311605\n",
      "0.5 0.0898461 0.455472978858 -0.0944904311605\n",
      "0.5 0.0898461 0.455472978858 -0.0944904311605\n",
      "0.5 0.0898461 0.455472978858 -0.0944904311605\n",
      "0.5 0.0898461 0.455472978858 -0.0944904311605\n",
      "0.5 0.0898461 0.455472978858 -0.0944904311605\n",
      "0.5 0.0898461 0.455472978858 -0.0944904311605\n",
      "0.5 0.0898461 0.455472978858 -0.0944904311605\n",
      "0.5 0.0898461 0.455472978858 -0.0944904311605\n",
      "0.5 0.0898461 0.455472978858 -0.0944904311605\n",
      "0.5 0.0898461 0.455472978858 -0.0944904311605\n",
      "0.5 0.0898461 0.455472978858 -0.0944904311605\n",
      "0.5 0.0898461 0.455472978858 -0.0944904311605\n",
      "0.5 0.0898461 0.455472978858 -0.0944904311605\n",
      "0.5 0.0898461 0.455472978858 -0.0944904311605\n",
      "0.5 0.0898461 0.455472978858 -0.0944904311605\n",
      "0.5 0.0898461 0.455472978858 -0.0944904311605\n",
      "0.5 0.0898461 0.455472978858 -0.0944904311605\n",
      "0.5 0.0898461 0.455472978858 -0.0944904311605\n",
      "0.5 0.0898461 0.455472978858 -0.0944904311605\n",
      "0.5 0.0898461 0.455472978858 -0.0944904311605\n",
      "0.5 0.0898461 0.455472978858 -0.0944904311605\n",
      "0.5 0.0898461 0.455472978858 -0.0944904311605\n",
      "0.5 0.0898461 0.455472978858 -0.0944904311605\n",
      "0.5 0.0898461 0.455472978858 -0.0944904311605\n",
      "0.5 0.0898461 0.455472978858 -0.0944904311605\n",
      "0.5 0.0898461 0.455472978858 -0.0944904311605\n",
      "0.5 0.0898461 0.455472978858 -0.0944904311605\n",
      "0.5 0.0898461 0.455472978858 -0.0944904311605\n",
      "0.5 0.0898461 0.455472978858 -0.0944904311605\n",
      "0.5 0.0898461 0.455472978858 -0.0944904311605\n",
      "0.5 0.0898461 0.455472978858 -0.0944904311605\n",
      "0.5 0.0898461 0.455472978858 -0.0944904311605\n",
      "0.5 0.0898461 0.455472978858 -0.0944904311605\n",
      "0.5 0.0898461 0.455472978858 -0.0944904311605\n",
      "0.5 0.0898461 0.455472978858 -0.0944904311605\n",
      "0.5 0.0898461 0.455472978858 -0.0944904311605\n",
      "0.5 0.0898461 0.455472978858 -0.0944904311605\n",
      "0.5 0.0898461 0.455472978858 -0.0944904311605\n",
      "0.5 0.0898461 0.455472978858 -0.0944904311605\n",
      "0.5 0.0898461 0.455472978858 -0.0944904311605\n",
      "0.5 0.0898461 0.455472978858 -0.0944904311605\n",
      "0.5 0.0898461 0.455472978858 -0.0944904311605\n",
      "0.5 0.0898461 0.455472978858 -0.0944904311605\n",
      "0.5 0.0898461 0.455472978858 -0.0944904311605\n",
      "0.5 0.0898461 0.455472978858 -0.0944904311605\n",
      "0.5 0.0898461 0.455472978858 -0.0944904311605\n",
      "0.5 0.0898461 0.455472978858 -0.0944904311605\n",
      "0.5 0.0898461 0.455472978858 -0.0944904311605\n",
      "0.5 0.0898461 0.455472978858 -0.0944904311605\n",
      "0.5 0.0898461 0.455472978858 -0.0944904311605\n",
      "0.5 0.0898461 0.455472978858 -0.0944904311605\n",
      "0.5 0.0898461 0.455472978858 -0.0944904311605\n",
      "0.5 0.0898461 0.455472978858 -0.0944904311605\n",
      "0.5 0.0898461 0.455472978858 -0.0944904311605\n",
      "0.5 0.0898461 0.455472978858 -0.0944904311605\n",
      "0.5 0.0898461 0.455472978858 -0.0944904311605\n",
      "0.5 0.0898461 0.455472978858 -0.0944904311605\n",
      "0.5 0.0898461 0.455472978858 -0.0944904311605\n",
      "0.5 0.0898461 0.455472978858 -0.0944904311605\n",
      "0.5 0.0898461 0.455472978858 -0.0944904311605\n",
      "0.5 0.0898461 0.455472978858 -0.0944904311605\n",
      "0.5 0.0898461 0.455472978858 -0.0944904311605\n",
      "0.5 0.0898461 0.455472978858 -0.0944904311605\n",
      "0.5 0.0898461 0.455472978858 -0.0944904311605\n",
      "0.5 0.0898461 0.455472978858 -0.0944904311605\n",
      "0.5 0.0898461 0.455472978858 -0.0944904311605\n",
      "0.5 0.0898461 0.455472978858 -0.0944904311605\n",
      "0.5 0.0898461 0.455472978858 -0.0944904311605\n",
      "0.5 0.0898461 0.455472978858 -0.0944904311605\n",
      "0.5 0.0898461 0.455472978858 -0.0944904311605\n",
      "0.5 0.0898461 0.455472978858 -0.0944904311605\n",
      "0.5 0.0898461 0.455472978858 -0.0944904311605\n",
      "0.5 0.0898461 0.455472978858 -0.0944904311605\n",
      "0.5 0.0898461 0.455472978858 -0.0944904311605\n",
      "0.5 0.0898461 0.455472978858 -0.0944904311605\n",
      "0.5 0.0898461 0.455472978858 -0.0944904311605\n",
      "0.5 0.0898461 0.455472978858 -0.0944904311605\n",
      "0.5 0.0898461 0.455472978858 -0.0944904311605\n",
      "0.5 0.0898461 0.455472978858 -0.0944904311605\n",
      "0.5 0.0898461 0.455472978858 -0.0944904311605\n",
      "0.5 0.0898461 0.455472978858 -0.0944904311605\n",
      "0.5 0.0898461 0.455472978858 -0.0944904311605\n",
      "0.5 0.0898461 0.455472978858 -0.0944904311605\n",
      "0.5 0.0898461 0.455472978858 -0.0944904311605\n",
      "0.5 0.0898461 0.455472978858 -0.0944904311605\n",
      "0.5 0.0898461 0.455472978858 -0.0944904311605\n",
      "0.5 0.0898461 0.455472978858 -0.0944904311605\n",
      "0.5 0.0898461 0.455472978858 -0.0944904311605\n",
      "0.5 0.0898461 0.455472978858 -0.0944904311605\n",
      "0.5 0.0898461 0.455472978858 -0.0944904311605\n",
      "0.5 0.0898461 0.455472978858 -0.0944904311605\n",
      "0.5 0.0898461 0.455472978858 -0.0944904311605\n",
      "0.5 0.0898461 0.455472978858 -0.0944904311605\n",
      "0.5 0.0898461 0.455472978858 -0.0944904311605\n",
      "0.5 0.0898461 0.455472978858 -0.0944904311605\n",
      "0.5 0.0898461 0.455472978858 -0.0944904311605\n",
      "0.5 0.0898461 0.455472978858 -0.0944904311605\n",
      "0.5 0.0898461 0.455472978858 -0.0944904311605\n",
      "0.5 0.0898461 0.455472978858 -0.0944904311605\n",
      "Daaaaaaa\n",
      "<class 'xgboost.sklearn.XGBRegressor'>\n"
     ]
    }
   ],
   "source": [
    "regr4 = XGBOOSTQUANTILE(quant=0.5)\n",
    "regr4.fit(np.array(train_data_X).reshape(-1,1),train_data_Y )\n",
    "# check that the coeffients are the expected ones.\n",
    "#m = regr.coef_[0]\n",
    "#b = regr.intercept_\n",
    "#print(' y = {0} * x + {1}'.format(m, b))\n",
    "predictions = regr4.predict(train_data_X)"
   ]
  },
  {
   "cell_type": "code",
   "execution_count": 232,
   "metadata": {
    "collapsed": false
   },
   "outputs": [
    {
     "data": {
      "image/png": "[encoded data removed]",
      "text/plain": [
       "<matplotlib.figure.Figure at 0x7f7e1b6b1410>"
      ]
     },
     "metadata": {},
     "output_type": "display_data"
    }
   ],
   "source": [
    "predictions = regr4.predict(train_data_X)\n",
    "import matplotlib.pyplot as plt\n",
    "\n",
    "# now we are going to plot the points and the model obtained\n",
    "plt.scatter(train_data_X, train_data_Y, color='blue')  # you can use test_data_X and test_data_Y instead.\n",
    "plt.scatter(train_data_X, predictions, color='red')  # you can use test_data_X and test_data_Y instead.\n",
    "\n",
    "#plt.plot([min_x, max_x], [b, m*max_x + b], 'r')\n",
    "plt.title('Fitted linear regression', fontsize=16)\n",
    "plt.xlabel('x', fontsize=13)\n",
    "plt.ylabel('y', fontsize=13)\n",
    "plt.show()"
   ]
  },
  {
   "cell_type": "code",
   "execution_count": null,
   "metadata": {
    "collapsed": true
   },
   "outputs": [],
   "source": []
  }
 ],
 "metadata": {
  "anaconda-cloud": {},
  "kernelspec": {
   "display_name": "Python [conda root]",
   "language": "python",
   "name": "conda-root-py"
  },
  "language_info": {
   "codemirror_mode": {
    "name": "ipython",
    "version": 2
   },
   "file_extension": ".py",
   "mimetype": "text/x-python",
   "name": "python",
   "nbconvert_exporter": "python",
   "pygments_lexer": "ipython2",
   "version": "2.7.12"
  }
 },
 "nbformat": 4,
 "nbformat_minor": 1
}
