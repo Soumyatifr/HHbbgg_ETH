{
 "cells": [
  {
   "cell_type": "code",
   "execution_count": 1,
   "metadata": {
    "collapsed": false
   },
   "outputs": [
    {
     "data": {
      "application/javascript": [
       "require(['codemirror/mode/clike/clike'], function(Clike) { console.log('ROOTaaS - C++ CodeMirror module loaded'); });"
      ]
     },
     "metadata": {},
     "output_type": "display_data"
    },
    {
     "data": {
      "application/javascript": [
       "IPython.CodeCell.config_defaults.highlight_modes['magic_text/x-c++src'] = {'reg':[/^%%cpp/]};"
      ]
     },
     "metadata": {},
     "output_type": "display_data"
    },
    {
     "name": "stdout",
     "output_type": "stream",
     "text": [
      "Welcome to ROOTaaS 6.05/02\n"
     ]
    },
    {
     "data": {
      "text/plain": [
       "<module 'training_utils' from '/mnt/t3nfs01/data01/shome/micheli/HHbbgg_ETH/Training/python/training_utils.pyc'>"
      ]
     },
     "execution_count": 1,
     "metadata": {},
     "output_type": "execute_result"
    }
   ],
   "source": [
    "import os\n",
    "import sys; sys.path.append(\"~/HHbbgg_ETH/Training/python\") # to load packages\n",
    "import training_utils as utils\n",
    "import numpy as np\n",
    "reload(utils)"
   ]
  },
  {
   "cell_type": "code",
   "execution_count": 2,
   "metadata": {
    "collapsed": false
   },
   "outputs": [
    {
     "name": "stdout",
     "output_type": "stream",
     "text": [
      "env: data=/mnt/t3nfs01/data01/shome/micheli/HHbbgg_ETH/root_files/20170620\n",
      "using background file n.0: /mnt/t3nfs01/data01/shome/micheli/HHbbgg_ETH/root_files/20170620/output_DiPhotonJetsBox_MGG-80toInf_13TeV-Sherpa.root\n",
      "using background file n.1: /mnt/t3nfs01/data01/shome/micheli/HHbbgg_ETH/root_files/20170620/output_GJet_Pt-20to40_DoubleEMEnriched_MGG-80toInf_TuneCUETP8M1_13TeV_Pythia8.root\n",
      "using background file n.2: /mnt/t3nfs01/data01/shome/micheli/HHbbgg_ETH/root_files/20170620/output_GJet_Pt-40toInf_DoubleEMEnriched_MGG-80toInf_TuneCUETP8M1_13TeV_Pythia8.root\n",
      "using background file n.3: /mnt/t3nfs01/data01/shome/micheli/HHbbgg_ETH/root_files/20170620/output_GluGluHToGG_M-125_13TeV_powheg_pythia8.root\n",
      "using background file n.4: /mnt/t3nfs01/data01/shome/micheli/HHbbgg_ETH/root_files/20170620/output_VBFHToGG_M-125_13TeV_powheg_pythia8.root\n",
      "using background file n.5: /mnt/t3nfs01/data01/shome/micheli/HHbbgg_ETH/root_files/20170620/output_VHToGG_M125_13TeV_amcatnloFXFX_madspin_pythia8.root\n",
      "using background file n.6: /mnt/t3nfs01/data01/shome/micheli/HHbbgg_ETH/root_files/20170620/output_bbHToGG_M-125_4FS_yb2_13TeV_amcatnlo.root\n",
      "using background file n.7: /mnt/t3nfs01/data01/shome/micheli/HHbbgg_ETH/root_files/20170620/output_ttHToGG_M125_13TeV_powheg_pythia8_v2.root\n",
      "using signal file n.0: /mnt/t3nfs01/data01/shome/micheli/HHbbgg_ETH/root_files/20170620/output_GluGluToHHTo2B2G_node_SM_13TeV-madgraph.root\n",
      "using data file: /mnt/t3nfs01/data01/shome/micheli/HHbbgg_ETH/root_files/20170620/DoubleEG.root\n"
     ]
    }
   ],
   "source": [
    "reload(utils)\n",
    "ntuples = '20170620'\n",
    "# \"%\" sign allows to interpret the rest as a system command\n",
    "%env data=$utils.IO.ldata$ntuples\n",
    "files = ! ls $data | sort -t_ -k 3 -n\n",
    "#pick only SM\n",
    "signal = [s for s in files if \"GluGluToHHTo2B2G_node_SM\" in s]\n",
    "diphotonJets = [s for s in files if \"DiPhotonJets\" in s]\n",
    "gJets_lowPt = [s for s in files if \"GJet_Pt-20to40\" in s]\n",
    "gJets_highPt = [s for s in files if \"GJet_Pt-40\" in s]\n",
    "ggH = [s for s in files if \"GluGluHToGG\" in s]\n",
    "vbf = [s for s in files if \"VBFHToGG\" in s]\n",
    "VH = [s for s in files if \"VHToGG\" in s]\n",
    "bbH = [s for s in files if \"bbHToGG_M-125_4FS_yb2\" in s] #is this correct?\n",
    "ttH = [s for s in files if \"ttHToGG\" in s]\n",
    "\n",
    "Data= [s for s in files if \"DoubleEG\" in s]\n",
    "\n",
    "utils.IO.add_signal(ntuples,signal,1)\n",
    "utils.IO.add_background(ntuples,diphotonJets,-1)\n",
    "utils.IO.add_background(ntuples,gJets_lowPt,-2)\n",
    "utils.IO.add_background(ntuples,gJets_highPt,-2)\n",
    "utils.IO.add_background(ntuples,ggH,-3)\n",
    "utils.IO.add_background(ntuples,vbf,-4)\n",
    "utils.IO.add_background(ntuples,VH,-5)\n",
    "utils.IO.add_background(ntuples,bbH,-6)\n",
    "utils.IO.add_background(ntuples,ttH,-7)\n",
    "\n",
    "utils.IO.add_data(ntuples,Data,-10)\n",
    "\n",
    "\n",
    "for i in range(len(utils.IO.backgroundName)):        \n",
    "    print \"using background file n.\"+str(i)+\": \"+utils.IO.backgroundName[i]\n",
    "for i in range(len(utils.IO.signalName)):    \n",
    "    print \"using signal file n.\"+str(i)+\": \"+utils.IO.signalName[i]\n",
    "print \"using data file: \"+ utils.IO.dataName[0]"
   ]
  },
  {
   "cell_type": "code",
   "execution_count": 3,
   "metadata": {
    "collapsed": false
   },
   "outputs": [
    {
     "name": "stdout",
     "output_type": "stream",
     "text": [
      "['leadingJet_bDis', 'subleadingJet_bDis', 'noexpand:fabs(CosThetaStar_CS)', 'noexpand:fabs(CosTheta_bb)', 'noexpand:fabs(CosTheta_gg)', 'noexpand:diphotonCandidate.Pt()/diHiggsCandidate.M()', 'noexpand:dijetCandidate.Pt()/diHiggsCandidate.M()', 'customLeadingPhotonIDMVA', 'customSubLeadingPhotonIDMVA', 'leadingPhotonSigOverE', 'subleadingPhotonSigOverE', 'sigmaMOverMDecorr', 'DiJetDiPho_DR']\n"
     ]
    }
   ],
   "source": [
    "#use noexpand for root expressions, it needs this file https://github.com/ibab/root_pandas/blob/master/root_pandas/readwrite.py\n",
    "#all variables\n",
    "branch_names = 'leadingJet_bDis,subleadingJet_bDis,noexpand:fabs(CosThetaStar_CS),noexpand:fabs(CosTheta_bb),noexpand:fabs(CosTheta_gg),noexpand:diphotonCandidate.Pt()/diHiggsCandidate.M(),noexpand:dijetCandidate.Pt()/diHiggsCandidate.M(),customLeadingPhotonIDMVA,customSubLeadingPhotonIDMVA,leadingPhotonSigOverE,subleadingPhotonSigOverE,sigmaMOverMDecorr,DiJetDiPho_DR'.split(\",\")\n",
    "#std variables\n",
    "#branch_names = 'leadingJet_bDis,subleadingJet_bDis,noexpand:fabs(CosThetaStar_CS),noexpand:fabs(CosTheta_bb),noexpand:fabs(CosTheta_gg),noexpand:diphotonCandidate.Pt()/diHiggsCandidate.M(),noexpand:dijetCandidate.Pt()/diHiggsCandidate.M()'.split(\",\")\n",
    "branch_names = [c.strip() for c in branch_names]\n",
    "print branch_names\n",
    "\n",
    "import pandas as pd\n",
    "import root_pandas as rpd\n",
    "\n",
    "# no need to shuffle here, we just count events\n",
    "utils.preprocessing.set_signals_and_backgrounds(\"bbggSelectionTree\",branch_names,shuffle=False)\n",
    "X_bkg,y_bkg,weights_bkg,X_sig,y_sig,weights_sig=utils.preprocessing.set_variables(branch_names)\n",
    "\n",
    "X_data,y_data,weights_data = utils.preprocessing.set_data(\"bbggSelectionTree\",branch_names)\n",
    "X_data,y_data,weights_data = utils.preprocessing.clean_signal_events_single_dataset(X_data,y_data,weights_data)\n",
    "\n",
    "#bbggTrees have by default signal and CR events, let's be sure that we clean it\n",
    "X_bkg,y_bkg,weights_bkg,X_sig,y_sig,weights_sig=utils.preprocessing.clean_signal_events(X_bkg,y_bkg,weights_bkg,X_sig,y_sig,weights_sig)\n",
    "\n",
    "#np.savetxt('/tmp/micheli/xbkg.txt',X_bkg)\n",
    "#utils.preprocessing.adjust_and_compress(utils.IO.background_df[0]).to_csv('/tmp/micheli/bkg.csv')\n"
   ]
  },
  {
   "cell_type": "code",
   "execution_count": 4,
   "metadata": {
    "collapsed": false
   },
   "outputs": [
    {
     "name": "stdout",
     "output_type": "stream",
     "text": [
      "[ 0.00224534  0.20553288  0.00474526 ...,  0.03072882  0.05181648\n",
      "  0.6292057 ]\n"
     ]
    }
   ],
   "source": [
    "# load the model from disk\n",
    "from sklearn.externals import joblib\n",
    "#loaded_model = joblib.load(os.path.expanduser('~/HHbbgg_ETH/Training/output_files/allMC_stdVariables.pkl'))\n",
    "loaded_model = joblib.load(os.path.expanduser('~/HHbbgg_ETH/Training/output_files/allMC_resWeighting_F.pkl'))\n",
    "\n",
    "bkg_0 = X_bkg[y_bkg ==-1]\n",
    "bkg_1 = X_bkg[y_bkg ==-2]\n",
    "bkg_3 = X_bkg[y_bkg ==-3]\n",
    "bkg_4 = X_bkg[y_bkg ==-4]\n",
    "bkg_5 = X_bkg[y_bkg ==-5]\n",
    "bkg_6 = X_bkg[y_bkg ==-6]\n",
    "bkg_7 = X_bkg[y_bkg ==-7]\n",
    "\n",
    "\n",
    "\n",
    "#bkg_1 = np.concatenate((X_total_train[y_total_train == -2],X_total_test[y_total_test == -2]))\n",
    "#bkg_3 = np.concatenate((X_total_train[y_total_train == -3],X_total_test[y_total_test == -3]))\n",
    "#bkg_4 = np.concatenate((X_total_train[y_total_train == -4],X_total_test[y_total_test == -4]))\n",
    "#bkg_5 = np.concatenate((X_total_train[y_total_train == -5],X_total_test[y_total_test == -5]))\n",
    "#bkg_6 = np.concatenate((X_total_train[y_total_train == -6],X_total_test[y_total_test == -6]))\n",
    "#bkg_7 = np.concatenate((X_total_train[y_total_train == -7],X_total_test[y_total_test == -7]))\n",
    "\n",
    "\n",
    "Y_pred_sig = loaded_model.predict_proba(X_sig)[:,2].astype(np.float64)\n",
    "Y_pred_bkg_0 = loaded_model.predict_proba(bkg_0)[:,2].astype(np.float64)\n",
    "Y_pred_bkg_1 = loaded_model.predict_proba(bkg_1)[:,2].astype(np.float64)\n",
    "Y_pred_bkg_3 = loaded_model.predict_proba(bkg_3)[:,2].astype(np.float64)\n",
    "Y_pred_bkg_4 = loaded_model.predict_proba(bkg_4)[:,2].astype(np.float64)\n",
    "Y_pred_bkg_5 = loaded_model.predict_proba(bkg_5)[:,2].astype(np.float64)\n",
    "Y_pred_bkg_6 = loaded_model.predict_proba(bkg_6)[:,2].astype(np.float64)\n",
    "Y_pred_bkg_7 = loaded_model.predict_proba(bkg_7)[:,2].astype(np.float64)\n",
    "\n",
    "Y_pred_data = loaded_model.predict_proba(X_data)[:,2].astype(np.float64)\n",
    "\n",
    "print Y_pred_data \n",
    "\n"
   ]
  },
  {
   "cell_type": "code",
   "execution_count": 5,
   "metadata": {
    "collapsed": true
   },
   "outputs": [],
   "source": [
    "#define MVA cut and additional variables needed\n",
    "MVA_Cut = 0.92\n",
    "additionalCut_names = 'noexpand:diphotonCandidate.M(),noexpand:dijetCandidate.M(),MX,isSignal'.split(\",\")\n",
    "outTag = '20170711_highMassCut'\n"
   ]
  },
  {
   "cell_type": "code",
   "execution_count": 11,
   "metadata": {
    "collapsed": false
   },
   "outputs": [
    {
     "name": "stdout",
     "output_type": "stream",
     "text": [
      "(21184, 5)\n",
      "(18646, 5)\n",
      "Y_pred\n",
      "(18646,)\n",
      "(12331, 5)\n",
      "signal events with 36 fb-1: 7.19878563033\n",
      "after cutting in dijet mass:4.86803561373\n"
     ]
    }
   ],
   "source": [
    "#### here counting events only in dijet mass window######\n",
    "#print utils.IO.signal_df[0]['proc']\n",
    "#print utils.IO.signal_df[0].index\n",
    "sig_count_df = rpd.read_root(utils.IO.signalName[0],\"bbggSelectionTree\", columns = additionalCut_names)\n",
    "utils.preprocessing.define_process_weight(sig_count_df,utils.IO.sigProc[0],utils.IO.signalName[0])\n",
    "\n",
    "#nTot is a multidim vector with all additional variables, dictVar is a dictionary associating a name of the variable\n",
    "#to a position in the vector\n",
    "nTot,dictVar = utils.postprocessing.stackFeatures(sig_count_df,additionalCut_names)\n",
    "print nTot.shape\n",
    "#apply isSignal cleaning\n",
    "nCleaned = nTot[np.where(nTot[:,dictVar['weight']]!=0),:][0]\n",
    "print nCleaned.shape\n",
    "#apply MVA cut at 90% eff\n",
    "print \"Y_pred\"\n",
    "print Y_pred_sig.shape\n",
    "\n",
    "#it's a stupid way to save also mva output after cuts, more efficient solutions should be found\n",
    "Y_pred_total = np.column_stack((nCleaned,Y_pred_sig))\n",
    "\n",
    "nCleaned_MVA = nCleaned[np.where(Y_pred_sig>MVA_Cut)]\n",
    "#apply massWindow +- 1.5\n",
    "print nCleaned_MVA.shape\n",
    "nCleaned_massWindow = utils.postprocessing.cutInvariantMass(nCleaned_MVA,dictVar['diphotonCandidate.M()'],123.5000,126.5000)\n",
    "nEvts = sum(nCleaned_massWindow[:,dictVar['weight']])\n",
    "print \"signal events with 36 fb-1: \"+str(nEvts)\n",
    "#import matplotlib.pyplot as plt\n",
    "#plt.hist(nCleaned_massWindow[:,2], bins=range(int(min(nCleaned_massWindow[:,2])), int(max(nCleaned_massWindow[:,2])) + 5, 5))\n",
    "#plt.show()\n",
    "nCleaned_mdijet = utils.postprocessing.cutInvariantMass(nCleaned_massWindow,dictVar['dijetCandidate.M()'],100.,140.)\n",
    "nEvts_Cut = sum(nCleaned_mdijet[:,dictVar['weight']])\n",
    "print \"after cutting in dijet mass:\"+str(nEvts_Cut)\n",
    "\n",
    "processPath=os.path.expanduser('~/HHbbgg_ETH/outfiles/')+outTag+'/'+utils.IO.signalName[0].split(\"/\")[len(utils.IO.signalName[0].split(\"/\"))-1].replace(\"output_\",\"\")\n",
    "utils.postprocessing.saveTree(processPath,dictVar,nCleaned_mdijet)\n",
    "\n",
    "processPath=os.path.expanduser('~/HHbbgg_ETH/outfiles/')+outTag+'/'+\"SigWS_highMass.root\"\n",
    "nCleaned_MVA_2 = Y_pred_total[np.where(Y_pred_sig>MVA_Cut)]\n",
    "#\n",
    "\n",
    "nCleaned_massWindow_2 = utils.postprocessing.cutInvariantMass(nCleaned_MVA_2,dictVar['diphotonCandidate.M()'],100,180)\n",
    "\n",
    "nCleaned_mdijet_2 = utils.postprocessing.cutInvariantMass(nCleaned_massWindow_2,dictVar['dijetCandidate.M()'],100.,140.)\n",
    "nCleaned_MX = utils.postprocessing.applyCut(nCleaned_mdijet_2,dictVar['MX'],350)\n",
    "\n",
    "\n",
    "Y_pred_cut=nCleaned_MX[:,nCleaned_MX.shape[1]-1].astype(np.float64)\n",
    "\n",
    "\n",
    "utils.postprocessing.saveTree(processPath,dictVar,nCleaned_MX,Y_pred_cut,nameTree=\"reducedTree_sig\")\n",
    "\n",
    "\n",
    "processPath=os.path.expanduser('~/HHbbgg_ETH/outfiles/')+outTag+'/'+utils.IO.signalName[0].split(\"/\")[len(utils.IO.signalName[0].split(\"/\"))-1].replace(\"output_\",\"\").replace(\".root\",\"\")+\"_preselection\"+\".root\"\n",
    "utils.postprocessing.saveTree(processPath,dictVar,nCleaned,Y_pred_sig)"
   ]
  },
  {
   "cell_type": "code",
   "execution_count": 191,
   "metadata": {
    "collapsed": false
   },
   "outputs": [
    {
     "name": "stdout",
     "output_type": "stream",
     "text": [
      "(2190915, 5)\n",
      "(1900684, 5)\n",
      "(26544, 5)\n",
      "(1263, 5)\n",
      "DiPhotonJetsBox_MGG-80toInf_13TeV-Sherpa events with 36 fb-1: 17.4511303435\n",
      "with scale factor:25.3041389981\n",
      "(383, 5)\n",
      "after cutting in dijet mass (with scale factor):7.49152865668\n"
     ]
    }
   ],
   "source": [
    "bkg_0_count_df = rpd.read_root(utils.IO.backgroundName[0],\"bbggSelectionTree\", columns = additionalCut_names)\n",
    "utils.preprocessing.define_process_weight(bkg_0_count_df,utils.IO.bkgProc[0],utils.IO.backgroundName[0])\n",
    "\n",
    "nTot,dictVar = utils.postprocessing.stackFeatures(bkg_0_count_df,additionalCut_names)\n",
    "\n",
    "print nTot.shape\n",
    "#apply isSignal cleaning\n",
    "nCleaned = nTot[np.where(nTot[:,dictVar['weight']]!=0),:][0]\n",
    "print nCleaned.shape\n",
    "#apply MVA cut at 90% eff\n",
    "nCleaned_MVA = nCleaned[np.where(Y_pred_bkg_0>MVA_Cut)]\n",
    "print nCleaned_MVA.shape\n",
    "#apply massWindow +- 1.5\n",
    "nCleaned_massWindow = utils.postprocessing.cutInvariantMass(nCleaned_MVA,dictVar['diphotonCandidate.M()'],123.5000,126.5000)\n",
    "print nCleaned_massWindow.shape\n",
    "nEvts = sum(nCleaned_massWindow[:,dictVar['weight']])\n",
    "print utils.IO.backgroundName[0].split(\"/\")[len(utils.IO.backgroundName[0].split(\"/\"))-1].replace(\".root\",\"\").replace(\"output_\",\"\")+\" events with 36 fb-1: \"+str(nEvts)\n",
    "print \"with scale factor:\"+str(nEvts*1.45) \n",
    "#Histo_B = np.histogram(nCleaned_massWindow[:,2],bins=30,range=(100,180),weights=nCleaned_massWindow[:,1])\n",
    "#import matplotlib.pyplot as plt\n",
    "#plt.hist(nCleaned_massWindow[:,2], bins=range(int(min(nCleaned_massWindow[:,2])), int(max(nCleaned_massWindow[:,2])) + 5, 5))\n",
    "#plt.show()\n",
    "nCleaned_mdijet = utils.postprocessing.cutInvariantMass(nCleaned_massWindow,dictVar['dijetCandidate.M()'],100.,140.)\n",
    "print nCleaned_mdijet.shape\n",
    "nEvts_Cut = sum(nCleaned_mdijet[:,dictVar['weight']])\n",
    "print \"after cutting in dijet mass (with scale factor):\"+str(nEvts_Cut*1.45)\n",
    "\n",
    "crazySF=1.45\n",
    "\n",
    "\n",
    "processPath=os.path.expanduser('~/HHbbgg_ETH/outfiles/')+outTag+'/'+utils.IO.backgroundName[0].split(\"/\")[len(utils.IO.backgroundName[0].split(\"/\"))-1].replace(\"output_\",\"\")\n",
    "utils.postprocessing.saveTree(processPath,dictVar,nCleaned_mdijet,SF=crazySF)\n",
    "\n",
    "processPath=os.path.expanduser('~/HHbbgg_ETH/outfiles/')+outTag+'/'+utils.IO.backgroundName[0].split(\"/\")[len(utils.IO.backgroundName[0].split(\"/\"))-1].replace(\"output_\",\"\").replace(\".root\",\"\")+\"_preselection\"+\".root\"\n",
    "utils.postprocessing.saveTree(processPath,dictVar,nCleaned,Y_pred_bkg_0,SF=crazySF)\n"
   ]
  },
  {
   "cell_type": "code",
   "execution_count": 192,
   "metadata": {
    "collapsed": false
   },
   "outputs": [
    {
     "name": "stdout",
     "output_type": "stream",
     "text": [
      "(2590, 5)\n",
      "(63259, 5)\n",
      "nCleaned\n",
      "(22278, 5)\n",
      "(20, 5)\n",
      "(0, 5)\n",
      "GJet_Pt-40toInf_DoubleEMEnriched_MGG-80toInf_TuneCUETP8M1_13TeV_Pythia8 events with 36 fb-1: 0\n",
      "(0, 5)\n",
      "after cutting in dijet mass:0\n"
     ]
    }
   ],
   "source": [
    "bkg_1_count_df = rpd.read_root(utils.IO.backgroundName[1],\"bbggSelectionTree\", columns = additionalCut_names)\n",
    "utils.preprocessing.define_process_weight(bkg_1_count_df,utils.IO.bkgProc[1],utils.IO.backgroundName[1])\n",
    "\n",
    "crazySF_20=25\n",
    "nTot,dictVar = utils.postprocessing.stackFeatures(bkg_1_count_df,additionalCut_names,SF=crazySF_20)\n",
    "\n",
    "print nTot.shape\n",
    "\n",
    "bkg_2_count_df = rpd.read_root(utils.IO.backgroundName[2],\"bbggSelectionTree\", columns = additionalCut_names)\n",
    "utils.preprocessing.define_process_weight(bkg_2_count_df,utils.IO.bkgProc[2],utils.IO.backgroundName[2])\n",
    "\n",
    "crazySF_40=3\n",
    "nTot_2,dictVar = utils.postprocessing.stackFeatures(bkg_2_count_df,additionalCut_names,SF=crazySF_40)\n",
    "\n",
    "\n",
    "nTot_3 = np.concatenate((nTot,nTot_2))\n",
    "\n",
    "print nTot_3.shape\n",
    "#apply isSignal cleaning\n",
    "nCleaned = nTot_3[np.where(nTot_3[:,dictVar['weight']]!=0),:][0]\n",
    "print \"nCleaned\"\n",
    "print nCleaned.shape\n",
    "#apply MVA cut at 90% eff\n",
    "nCleaned_MVA = nCleaned[np.where(Y_pred_bkg_1>MVA_Cut)]\n",
    "print nCleaned_MVA.shape\n",
    "#apply massWindow +- 1.5\n",
    "nCleaned_massWindow = utils.postprocessing.cutInvariantMass(nCleaned_MVA,dictVar['diphotonCandidate.M()'],123.5000,126.5000)\n",
    "print nCleaned_massWindow.shape\n",
    "nEvts = sum(nCleaned_massWindow[:,dictVar['weight']])\n",
    "print utils.IO.backgroundName[2].split(\"/\")[len(utils.IO.backgroundName[2].split(\"/\"))-1].replace(\".root\",\"\").replace(\"output_\",\"\")+\" events with 36 fb-1: \"+str(nEvts)\n",
    "nCleaned_mdijet = utils.postprocessing.cutInvariantMass(nCleaned_massWindow,dictVar['dijetCandidate.M()'],100.,140.)\n",
    "print nCleaned_mdijet.shape\n",
    "nEvts_Cut = sum(nCleaned_mdijet[:,dictVar['weight']])\n",
    "print \"after cutting in dijet mass:\"+str(nEvts_Cut)\n",
    "\n",
    "#np.savetxt('/tmp/micheli/prova7.txt',nCleaned_mdijet)\n",
    "#utils.preprocessing.adjust_and_compress(bkg_2_count_df).to_csv('/tmp/micheli/background_7_2.csv') \n",
    "processPath=os.path.expanduser('~/HHbbgg_ETH/outfiles/')+outTag+'/'+utils.IO.backgroundName[1].split(\"/\")[len(utils.IO.backgroundName[1].split(\"/\"))-1].replace(\"output_\",\"\").replace(\"_Pt-20to40\",\"\")\n",
    "utils.postprocessing.saveTree(processPath,dictVar,nCleaned_mdijet)\n",
    "\n",
    "\n",
    "processPath=(os.path.expanduser('~/HHbbgg_ETH/outfiles/')+outTag+'/'+utils.IO.backgroundName[1].split(\"/\")[len(utils.IO.backgroundName[1].split(\"/\"))-1].replace(\"output_\",\"\").replace(\".root\",\"\")+\"_preselection\"+\".root\").replace(\"_Pt-20to40\",\"\")\n",
    "utils.postprocessing.saveTree(processPath,dictVar,nCleaned,Y_pred_bkg_1)\n",
    "\n",
    "\n"
   ]
  },
  {
   "cell_type": "code",
   "execution_count": 12,
   "metadata": {
    "collapsed": false
   },
   "outputs": [
    {
     "name": "stdout",
     "output_type": "stream",
     "text": [
      "nCleaned\n",
      "(56382, 5)\n",
      "(1514, 5)\n",
      "(1310, 5)\n",
      "GluGluHToGG_M-125_13TeV_powheg_pythia8 events with 36 fb-1: 4.63500336751\n",
      "(389, 5)\n",
      "after cutting in dijet mass:1.33747775696\n"
     ]
    }
   ],
   "source": [
    "bkg_3_count_df = rpd.read_root(utils.IO.backgroundName[3],\"bbggSelectionTree\", columns = additionalCut_names)\n",
    "utils.preprocessing.define_process_weight(bkg_3_count_df,utils.IO.bkgProc[3],utils.IO.backgroundName[3])\n",
    "\n",
    "nTot,dictVar = utils.postprocessing.stackFeatures(bkg_3_count_df,additionalCut_names)\n",
    "\n",
    "\n",
    "nCleaned = nTot[np.where(nTot[:,dictVar['weight']]!=0),:][0]\n",
    "print \"nCleaned\"\n",
    "print nCleaned.shape\n",
    "#apply MVA cut at 90% eff\n",
    "nCleaned_MVA = nCleaned[np.where(Y_pred_bkg_3>MVA_Cut)]\n",
    "print nCleaned_MVA.shape\n",
    "#apply massWindow +- 1.5\n",
    "nCleaned_massWindow = utils.postprocessing.cutInvariantMass(nCleaned_MVA,dictVar['diphotonCandidate.M()'],123.5000,126.5000)\n",
    "print nCleaned_massWindow.shape\n",
    "nEvts = sum(nCleaned_massWindow[:,dictVar['weight']])\n",
    "print utils.IO.backgroundName[3].split(\"/\")[len(utils.IO.backgroundName[3].split(\"/\"))-1].replace(\".root\",\"\").replace(\"output_\",\"\")+\" events with 36 fb-1: \"+str(nEvts)\n",
    "nCleaned_mdijet = utils.postprocessing.cutInvariantMass(nCleaned_massWindow,dictVar['dijetCandidate.M()'],100.,140.)\n",
    "print nCleaned_mdijet.shape\n",
    "nEvts_Cut = sum(nCleaned_mdijet[:,dictVar['weight']])\n",
    "print \"after cutting in dijet mass:\"+str(nEvts_Cut)\n",
    "\n",
    "\n",
    "processPath=os.path.expanduser('~/HHbbgg_ETH/outfiles/')+outTag+'/'+utils.IO.backgroundName[3].split(\"/\")[len(utils.IO.backgroundName[3].split(\"/\"))-1].replace(\"output_\",\"\")\n",
    "utils.postprocessing.saveTree(processPath,dictVar,nCleaned_mdijet)\n",
    "\n",
    "\n",
    "processPath=os.path.expanduser('~/HHbbgg_ETH/outfiles/')+outTag+'/'+utils.IO.backgroundName[3].split(\"/\")[len(utils.IO.backgroundName[3].split(\"/\"))-1].replace(\"output_\",\"\").replace(\".root\",\"\")+\"_preselection\"+\".root\"\n",
    "utils.postprocessing.saveTree(processPath,dictVar,nCleaned,Y_pred_bkg_3)\n",
    "\n",
    "\n",
    "processPath=os.path.expanduser('~/HHbbgg_ETH/outfiles/')+outTag+'/'+utils.IO.backgroundName[3].split(\"/\")[len(utils.IO.backgroundName[3].split(\"/\"))-1].replace(\"output_\",\"\").replace(\".root\",\"\")+\"WS_highMass.root\"\n",
    "#it's a stupid way to save also mva output after cuts, more efficient solutions should be found\n",
    "Y_pred_total = np.column_stack((nCleaned,Y_pred_bkg_3))\n",
    "\n",
    "nCleaned_MVA_2 = Y_pred_total[np.where(Y_pred_bkg_3>MVA_Cut)]\n",
    "#\n",
    "\n",
    "nCleaned_massWindow_2 = utils.postprocessing.cutInvariantMass(nCleaned_MVA_2,dictVar['diphotonCandidate.M()'],100,180)\n",
    "\n",
    "nCleaned_mdijet_2 = utils.postprocessing.cutInvariantMass(nCleaned_massWindow_2,dictVar['dijetCandidate.M()'],100.,140.)\n",
    "nCleaned_MX = utils.postprocessing.applyCut(nCleaned_mdijet_2,dictVar['MX'],350)\n",
    "\n",
    "\n",
    "Y_pred_cut=nCleaned_MX[:,nCleaned_MX.shape[1]-1].astype(np.float64)\n",
    "\n",
    "\n",
    "utils.postprocessing.saveTree(processPath,dictVar,nCleaned_MX,Y_pred_cut,nameTree=\"reducedTree_bkg_3\")"
   ]
  },
  {
   "cell_type": "code",
   "execution_count": 13,
   "metadata": {
    "collapsed": false
   },
   "outputs": [
    {
     "name": "stdout",
     "output_type": "stream",
     "text": [
      "nCleaned\n",
      "(76431, 5)\n",
      "(2253, 5)\n",
      "(1923, 5)\n",
      "VBFHToGG_M-125_13TeV_powheg_pythia8 events with 36 fb-1: 0.582927454773\n",
      "(565, 5)\n",
      "after cutting in dijet mass:0.173842158377\n"
     ]
    }
   ],
   "source": [
    "bkg_4_count_df = rpd.read_root(utils.IO.backgroundName[4],\"bbggSelectionTree\", columns = additionalCut_names)\n",
    "utils.preprocessing.define_process_weight(bkg_4_count_df,utils.IO.bkgProc[4],utils.IO.backgroundName[4])\n",
    "\n",
    "nTot,dictVar = utils.postprocessing.stackFeatures(bkg_4_count_df,additionalCut_names)\n",
    "\n",
    "\n",
    "nCleaned = nTot[np.where(nTot[:,dictVar['weight']]!=0),:][0]\n",
    "print \"nCleaned\"\n",
    "print nCleaned.shape\n",
    "#apply MVA cut at 90% eff\n",
    "nCleaned_MVA = nCleaned[np.where(Y_pred_bkg_4>MVA_Cut)]\n",
    "print nCleaned_MVA.shape\n",
    "#apply massWindow +- 1.5\n",
    "nCleaned_massWindow = utils.postprocessing.cutInvariantMass(nCleaned_MVA,dictVar['diphotonCandidate.M()'],123.5000,126.5000)\n",
    "print nCleaned_massWindow.shape\n",
    "nEvts = sum(nCleaned_massWindow[:,dictVar['weight']])\n",
    "print utils.IO.backgroundName[4].split(\"/\")[len(utils.IO.backgroundName[4].split(\"/\"))-1].replace(\".root\",\"\").replace(\"output_\",\"\")+\" events with 36 fb-1: \"+str(nEvts)\n",
    "nCleaned_mdijet = utils.postprocessing.cutInvariantMass(nCleaned_massWindow,dictVar['dijetCandidate.M()'],100.,140.)\n",
    "print nCleaned_mdijet.shape\n",
    "nEvts_Cut = sum(nCleaned_mdijet[:,dictVar['weight']])\n",
    "print \"after cutting in dijet mass:\"+str(nEvts_Cut)\n",
    "\n",
    "\n",
    "processPath=os.path.expanduser('~/HHbbgg_ETH/outfiles/')+outTag+'/'+utils.IO.backgroundName[4].split(\"/\")[len(utils.IO.backgroundName[4].split(\"/\"))-1].replace(\"output_\",\"\")\n",
    "utils.postprocessing.saveTree(processPath,dictVar,nCleaned_mdijet)\n",
    "\n",
    "\n",
    "processPath=os.path.expanduser('~/HHbbgg_ETH/outfiles/')+outTag+'/'+utils.IO.backgroundName[4].split(\"/\")[len(utils.IO.backgroundName[4].split(\"/\"))-1].replace(\"output_\",\"\").replace(\".root\",\"\")+\"_preselection\"+\".root\"\n",
    "utils.postprocessing.saveTree(processPath,dictVar,nCleaned,Y_pred_bkg_4)\n",
    "\n",
    "processPath=os.path.expanduser('~/HHbbgg_ETH/outfiles/')+outTag+'/'+utils.IO.backgroundName[4].split(\"/\")[len(utils.IO.backgroundName[4].split(\"/\"))-1].replace(\"output_\",\"\").replace(\".root\",\"\")+\"WS_highMass.root\"\n",
    "#it's a stupid way to save also mva output after cuts, more efficient solutions should be found\n",
    "Y_pred_total = np.column_stack((nCleaned,Y_pred_bkg_4))\n",
    "\n",
    "nCleaned_MVA_2 = Y_pred_total[np.where(Y_pred_bkg_4>MVA_Cut)]\n",
    "#\n",
    "\n",
    "nCleaned_massWindow_2 = utils.postprocessing.cutInvariantMass(nCleaned_MVA_2,dictVar['diphotonCandidate.M()'],100,180)\n",
    "\n",
    "nCleaned_mdijet_2 = utils.postprocessing.cutInvariantMass(nCleaned_massWindow_2,dictVar['dijetCandidate.M()'],100.,140.)\n",
    "nCleaned_MX = utils.postprocessing.applyCut(nCleaned_mdijet_2,dictVar['MX'],350)\n",
    "\n",
    "\n",
    "Y_pred_cut=nCleaned_MX[:,nCleaned_MX.shape[1]-1].astype(np.float64)\n",
    "\n",
    "\n",
    "utils.postprocessing.saveTree(processPath,dictVar,nCleaned_MX,Y_pred_cut,nameTree=\"reducedTree_bkg_4\")"
   ]
  },
  {
   "cell_type": "code",
   "execution_count": 14,
   "metadata": {
    "collapsed": false
   },
   "outputs": [
    {
     "name": "stdout",
     "output_type": "stream",
     "text": [
      "nCleaned\n",
      "(57455, 5)\n",
      "(3989, 5)\n",
      "(3259, 5)\n",
      "VHToGG_M125_13TeV_amcatnloFXFX_madspin_pythia8 events with 36 fb-1: 1.79602269549\n",
      "(857, 5)\n",
      "after cutting in dijet mass:0.420635549789\n"
     ]
    }
   ],
   "source": [
    "bkg_5_count_df = rpd.read_root(utils.IO.backgroundName[5],\"bbggSelectionTree\", columns = additionalCut_names)\n",
    "utils.preprocessing.define_process_weight(bkg_5_count_df,utils.IO.bkgProc[5],utils.IO.backgroundName[5])\n",
    "\n",
    "nTot,dictVar = utils.postprocessing.stackFeatures(bkg_5_count_df,additionalCut_names)\n",
    "\n",
    "\n",
    "nCleaned = nTot[np.where(nTot[:,dictVar['weight']]!=0),:][0]\n",
    "print \"nCleaned\"\n",
    "print nCleaned.shape\n",
    "#apply MVA cut at 90% eff\n",
    "nCleaned_MVA = nCleaned[np.where(Y_pred_bkg_5>MVA_Cut)]\n",
    "print nCleaned_MVA.shape\n",
    "#apply massWindow +- 1.5\n",
    "nCleaned_massWindow = utils.postprocessing.cutInvariantMass(nCleaned_MVA,dictVar['diphotonCandidate.M()'],123.5000,126.5000)\n",
    "print nCleaned_massWindow.shape\n",
    "nEvts = sum(nCleaned_massWindow[:,dictVar['weight']])\n",
    "print utils.IO.backgroundName[5].split(\"/\")[len(utils.IO.backgroundName[5].split(\"/\"))-1].replace(\".root\",\"\").replace(\"output_\",\"\")+\" events with 36 fb-1: \"+str(nEvts)\n",
    "nCleaned_mdijet = utils.postprocessing.cutInvariantMass(nCleaned_massWindow,dictVar['dijetCandidate.M()'],100.,140.)\n",
    "print nCleaned_mdijet.shape\n",
    "nEvts_Cut = sum(nCleaned_mdijet[:,dictVar['weight']])\n",
    "print \"after cutting in dijet mass:\"+str(nEvts_Cut)\n",
    "\n",
    "\n",
    "processPath=os.path.expanduser('~/HHbbgg_ETH/outfiles/')+outTag+'/'+utils.IO.backgroundName[5].split(\"/\")[len(utils.IO.backgroundName[5].split(\"/\"))-1].replace(\"output_\",\"\")\n",
    "utils.postprocessing.saveTree(processPath,dictVar,nCleaned_mdijet)\n",
    "\n",
    "\n",
    "processPath=os.path.expanduser('~/HHbbgg_ETH/outfiles/')+outTag+'/'+utils.IO.backgroundName[5].split(\"/\")[len(utils.IO.backgroundName[5].split(\"/\"))-1].replace(\"output_\",\"\").replace(\".root\",\"\")+\"_preselection\"+\".root\"\n",
    "utils.postprocessing.saveTree(processPath,dictVar,nCleaned,Y_pred_bkg_5)\n",
    "\n",
    "\n",
    "processPath=os.path.expanduser('~/HHbbgg_ETH/outfiles/')+outTag+'/'+utils.IO.backgroundName[5].split(\"/\")[len(utils.IO.backgroundName[5].split(\"/\"))-1].replace(\"output_\",\"\").replace(\".root\",\"\")+\"WS_highMass.root\"\n",
    "#it's a stupid way to save also mva output after cuts, more efficient solutions should be found\n",
    "Y_pred_total = np.column_stack((nCleaned,Y_pred_bkg_5))\n",
    "\n",
    "nCleaned_MVA_2 = Y_pred_total[np.where(Y_pred_bkg_5>MVA_Cut)]\n",
    "#\n",
    "\n",
    "nCleaned_massWindow_2 = utils.postprocessing.cutInvariantMass(nCleaned_MVA_2,dictVar['diphotonCandidate.M()'],100,180)\n",
    "\n",
    "nCleaned_mdijet_2 = utils.postprocessing.cutInvariantMass(nCleaned_massWindow_2,dictVar['dijetCandidate.M()'],100.,140.)\n",
    "nCleaned_MX = utils.postprocessing.applyCut(nCleaned_mdijet_2,dictVar['MX'],350)\n",
    "\n",
    "\n",
    "Y_pred_cut=nCleaned_MX[:,nCleaned_MX.shape[1]-1].astype(np.float64)\n",
    "\n",
    "\n",
    "utils.postprocessing.saveTree(processPath,dictVar,nCleaned_MX,Y_pred_cut,nameTree=\"reducedTree_bkg_5\")"
   ]
  },
  {
   "cell_type": "code",
   "execution_count": 15,
   "metadata": {
    "collapsed": false
   },
   "outputs": [
    {
     "name": "stdout",
     "output_type": "stream",
     "text": [
      "nCleaned\n",
      "(106395, 5)\n",
      "(10678, 5)\n",
      "(8750, 5)\n",
      "bbHToGG_M-125_4FS_yb2_13TeV_amcatnlo events with 36 fb-1: 0.492642179582\n",
      "(3130, 5)\n",
      "after cutting in dijet mass:0.184155315158\n"
     ]
    }
   ],
   "source": [
    "bkg_6_count_df = rpd.read_root(utils.IO.backgroundName[6],\"bbggSelectionTree\", columns = additionalCut_names)\n",
    "utils.preprocessing.define_process_weight(bkg_6_count_df,utils.IO.bkgProc[6],utils.IO.backgroundName[6])\n",
    "\n",
    "nTot,dictVar = utils.postprocessing.stackFeatures(bkg_6_count_df,additionalCut_names)\n",
    "\n",
    "\n",
    "nCleaned = nTot[np.where(nTot[:,dictVar['weight']]!=0),:][0]\n",
    "print \"nCleaned\"\n",
    "print nCleaned.shape\n",
    "#apply MVA cut at 90% eff\n",
    "nCleaned_MVA = nCleaned[np.where(Y_pred_bkg_6>MVA_Cut)]\n",
    "print nCleaned_MVA.shape\n",
    "#apply massWindow +- 1.5\n",
    "nCleaned_massWindow = utils.postprocessing.cutInvariantMass(nCleaned_MVA,dictVar['diphotonCandidate.M()'],123.5000,126.5000)\n",
    "print nCleaned_massWindow.shape\n",
    "nEvts = sum(nCleaned_massWindow[:,dictVar['weight']])\n",
    "print utils.IO.backgroundName[6].split(\"/\")[len(utils.IO.backgroundName[1].split(\"/\"))-1].replace(\".root\",\"\").replace(\"output_\",\"\")+\" events with 36 fb-1: \"+str(nEvts)\n",
    "nCleaned_mdijet = utils.postprocessing.cutInvariantMass(nCleaned_massWindow,dictVar['dijetCandidate.M()'],100.,140.)\n",
    "print nCleaned_mdijet.shape\n",
    "nEvts_Cut = sum(nCleaned_mdijet[:,dictVar['weight']])\n",
    "print \"after cutting in dijet mass:\"+str(nEvts_Cut)\n",
    "\n",
    "\n",
    "processPath=os.path.expanduser('~/HHbbgg_ETH/outfiles/')+outTag+'/'+utils.IO.backgroundName[6].split(\"/\")[len(utils.IO.backgroundName[6].split(\"/\"))-1].replace(\"output_\",\"\")\n",
    "utils.postprocessing.saveTree(processPath,dictVar,nCleaned_mdijet)\n",
    "\n",
    "\n",
    "processPath=os.path.expanduser('~/HHbbgg_ETH/outfiles/')+outTag+'/'+utils.IO.backgroundName[6].split(\"/\")[len(utils.IO.backgroundName[6].split(\"/\"))-1].replace(\"output_\",\"\").replace(\".root\",\"\")+\"_preselection\"+\".root\"\n",
    "utils.postprocessing.saveTree(processPath,dictVar,nCleaned,Y_pred_bkg_6)\n",
    "\n",
    "processPath=os.path.expanduser('~/HHbbgg_ETH/outfiles/')+outTag+'/'+utils.IO.backgroundName[6].split(\"/\")[len(utils.IO.backgroundName[6].split(\"/\"))-1].replace(\"output_\",\"\").replace(\".root\",\"\")+\"WS_highMass.root\"\n",
    "#it's a stupid way to save also mva output after cuts, more efficient solutions should be found\n",
    "Y_pred_total = np.column_stack((nCleaned,Y_pred_bkg_6))\n",
    "\n",
    "nCleaned_MVA_2 = Y_pred_total[np.where(Y_pred_bkg_6>MVA_Cut)]\n",
    "#\n",
    "\n",
    "nCleaned_massWindow_2 = utils.postprocessing.cutInvariantMass(nCleaned_MVA_2,dictVar['diphotonCandidate.M()'],100,180)\n",
    "\n",
    "nCleaned_mdijet_2 = utils.postprocessing.cutInvariantMass(nCleaned_massWindow_2,dictVar['dijetCandidate.M()'],100.,140.)\n",
    "nCleaned_MX = utils.postprocessing.applyCut(nCleaned_mdijet_2,dictVar['MX'],350)\n",
    "\n",
    "\n",
    "Y_pred_cut=nCleaned_MX[:,nCleaned_MX.shape[1]-1].astype(np.float64)\n",
    "\n",
    "\n",
    "utils.postprocessing.saveTree(processPath,dictVar,nCleaned_MX,Y_pred_cut,nameTree=\"reducedTree_bkg_6\")"
   ]
  },
  {
   "cell_type": "code",
   "execution_count": 16,
   "metadata": {
    "collapsed": false
   },
   "outputs": [
    {
     "name": "stdout",
     "output_type": "stream",
     "text": [
      "nCleaned\n",
      "(268863, 5)\n",
      "(136840, 5)\n",
      "(110404, 5)\n",
      "ttHToGG_M125_13TeV_powheg_pythia8_v2 events with 36 fb-1: 6.34311023972\n",
      "(44619, 5)\n",
      "after cutting in dijet mass:2.56716188328\n"
     ]
    }
   ],
   "source": [
    "bkg_7_count_df = rpd.read_root(utils.IO.backgroundName[7],\"bbggSelectionTree\", columns = additionalCut_names)\n",
    "utils.preprocessing.define_process_weight(bkg_7_count_df,utils.IO.bkgProc[7],utils.IO.backgroundName[7])\n",
    "\n",
    "nTot,dictVar = utils.postprocessing.stackFeatures(bkg_7_count_df,additionalCut_names)\n",
    "\n",
    "\n",
    "nCleaned = nTot[np.where(nTot[:,dictVar['weight']]!=0),:][0]\n",
    "print \"nCleaned\"\n",
    "print nCleaned.shape\n",
    "#apply MVA cut at 90% eff\n",
    "nCleaned_MVA = nCleaned[np.where(Y_pred_bkg_7>MVA_Cut)]\n",
    "print nCleaned_MVA.shape\n",
    "#apply massWindow +- 1.5\n",
    "nCleaned_massWindow = utils.postprocessing.cutInvariantMass(nCleaned_MVA,dictVar['diphotonCandidate.M()'],123.5000,126.5000)\n",
    "print nCleaned_massWindow.shape\n",
    "nEvts = sum(nCleaned_massWindow[:,dictVar['weight']])\n",
    "print utils.IO.backgroundName[7].split(\"/\")[len(utils.IO.backgroundName[1].split(\"/\"))-1].replace(\".root\",\"\").replace(\"output_\",\"\")+\" events with 36 fb-1: \"+str(nEvts)\n",
    "nCleaned_mdijet = utils.postprocessing.cutInvariantMass(nCleaned_massWindow,dictVar['dijetCandidate.M()'],100.,140.)\n",
    "print nCleaned_mdijet.shape\n",
    "nEvts_Cut = sum(nCleaned_mdijet[:,dictVar['weight']])\n",
    "print \"after cutting in dijet mass:\"+str(nEvts_Cut)\n",
    "\n",
    "\n",
    "processPath=os.path.expanduser('~/HHbbgg_ETH/outfiles/')+outTag+'/'+utils.IO.backgroundName[7].split(\"/\")[len(utils.IO.backgroundName[7].split(\"/\"))-1].replace(\"output_\",\"\")\n",
    "utils.postprocessing.saveTree(processPath,dictVar,nCleaned_mdijet)\n",
    "\n",
    "\n",
    "processPath=os.path.expanduser('~/HHbbgg_ETH/outfiles/')+outTag+'/'+utils.IO.backgroundName[7].split(\"/\")[len(utils.IO.backgroundName[7].split(\"/\"))-1].replace(\"output_\",\"\").replace(\".root\",\"\")+\"_preselection\"+\".root\"\n",
    "utils.postprocessing.saveTree(processPath,dictVar,nCleaned,Y_pred_bkg_7)\n",
    "\n",
    "processPath=os.path.expanduser('~/HHbbgg_ETH/outfiles/')+outTag+'/'+utils.IO.backgroundName[7].split(\"/\")[len(utils.IO.backgroundName[7].split(\"/\"))-1].replace(\"output_\",\"\").replace(\".root\",\"\")+\"WS_highMass.root\"\n",
    "#it's a stupid way to save also mva output after cuts, more efficient solutions should be found\n",
    "Y_pred_total = np.column_stack((nCleaned,Y_pred_bkg_7))\n",
    "\n",
    "nCleaned_MVA_2 = Y_pred_total[np.where(Y_pred_bkg_7>MVA_Cut)]\n",
    "#\n",
    "\n",
    "nCleaned_massWindow_2 = utils.postprocessing.cutInvariantMass(nCleaned_MVA_2,dictVar['diphotonCandidate.M()'],100,180)\n",
    "\n",
    "nCleaned_mdijet_2 = utils.postprocessing.cutInvariantMass(nCleaned_massWindow_2,dictVar['dijetCandidate.M()'],100.,140.)\n",
    "nCleaned_MX = utils.postprocessing.applyCut(nCleaned_mdijet_2,dictVar['MX'],350)\n",
    "\n",
    "\n",
    "Y_pred_cut=nCleaned_MX[:,nCleaned_MX.shape[1]-1].astype(np.float64)\n",
    "\n",
    "\n",
    "utils.postprocessing.saveTree(processPath,dictVar,nCleaned_MX,Y_pred_cut,nameTree=\"reducedTree_bkg_7\")"
   ]
  },
  {
   "cell_type": "code",
   "execution_count": 17,
   "metadata": {
    "collapsed": false
   },
   "outputs": [
    {
     "name": "stdout",
     "output_type": "stream",
     "text": [
      "nCleaned\n",
      "(92390, 5)\n",
      "(92390,)\n"
     ]
    }
   ],
   "source": [
    "data_count_df = rpd.read_root(utils.IO.dataName[0],\"bbggSelectionTree\", columns = additionalCut_names)\n",
    "#w = (np.ones_like(utils.IO.data_df[0].index)).astype(np.int8)\n",
    "#data_count_df['weight'] = np.multiply(w,data_count_df['isSignal'])\n",
    "\n",
    "nTot,dictVar = utils.postprocessing.stackFeatures(data_count_df,additionalCut_names,isData=1)\n",
    "\n",
    "\n",
    "#apply isSignal cleaning\n",
    "nCleaned = nTot[np.where(nTot[:,dictVar['weight']]!=0),:][0]\n",
    "print \"nCleaned\"\n",
    "print nCleaned.shape\n",
    "print Y_pred_data.shape\n",
    "\n",
    "\n",
    "blind = True\n",
    "if not blind:\n",
    "    print Y_pred_data.shape\n",
    "    nCleanedaned_MVA = nCleaned[np.where(Y_pred_data>MVA_Cut)]\n",
    "    #apply massWindow +- 1.5\n",
    "    \n",
    "    nCleaned_massWindow = utils.postprocessing.cutInvariantMass(nCleaned_MVA,dictVar['diphotonCandidate.M()'],123.5000,126.5000)\n",
    "    print nCleaned_massWindow.shape\n",
    "    nEvts = sum(nCleaned_massWindow[:,1])\n",
    "    print utils.IO.dataName[0].split(\"/\")[len(utils.IO.dataName[0].split(\"/\"))-1].replace(\".root\",\"\").replace(\"output_\",\"\")+\" events with 36 fb-1: \"+str(nEvts)\n",
    "    #Histo_B = np.histogram(nCleaned_massWindow[:,2],bins=30,range=(100,180),weights=nCleaned_massWindow[:,1])\n",
    "    #import matplotlib.pyplot as plt\n",
    "    #plt.hist(nCleaned_massWindow[:,2], bins=range(int(min(nCleaned_massWindow[:,2])), int(max(nCleaned_massWindow[:,2])) + 5, 5))\n",
    "    #plt.show()\n",
    "    nCleaned_mdijet = utils.postprocessing.cutInvariantMass(nCleaned_massWindow,dictVar['dijetCandidate.M()'],100.,140.)\n",
    "\n",
    "    print nCleaned_mdijet.shape\n",
    "    nEvts_Cut = sum(nCleaned_mdijet[:,dictVar['weight']])\n",
    "    print \"after cutting in dijet mass:\"+str(nEvts_Cut)\n",
    "    processPath=os.path.expanduser('~/HHbbgg_ETH/outfiles/')+outTag+'/'+utils.IO.dataName[0].split(\"/\")[len(utils.IO.dataName[0].split(\"/\"))-1].replace(\"output_\",\"\")\n",
    "    utils.postprocessing.saveTree(processPath,dictVar,nCleaned_mdijet)\n",
    "    \n",
    "    processPath=os.path.expanduser('~/HHbbgg_ETH/outfiles/')+outTag+'/'+utils.IO.dataName[0].split(\"/\")[len(utils.IO.dataName[0].split(\"/\"))-1].replace(\"output_\",\"\").replace(\".root\",\"\")+\"_preselection\"+\".root\"\n",
    "    utils.postprocessing.saveTree(processPath,dictVar,nCleaned,Y_pred_data)\n",
    "    \n",
    "else:\n",
    "    \n",
    "    #save preselection data\n",
    "    processPath=os.path.expanduser('~/HHbbgg_ETH/outfiles/')+outTag+'/'+utils.IO.dataName[0].split(\"/\")[len(utils.IO.dataName[0].split(\"/\"))-1].replace(\"output_\",\"\").replace(\".root\",\"\")+\"_preselection\"+\".root\"\n",
    "    utils.postprocessing.saveTree(processPath,dictVar,nCleaned,Y_pred_data)\n",
    "    \n",
    "    #do blinding\n",
    "    nCleaned_MVA = nCleaned[np.where(Y_pred_data>MVA_Cut)]\n",
    "    \n",
    "    nCleaned_massWindow = nCleaned_MVA[np.where(np.logical_or(nCleaned_MVA[:,dictVar['diphotonCandidate.M()']]<115,nCleaned_MVA[:,dictVar['diphotonCandidate.M()']]>135))]\n",
    "#    nCleaned_massWindow = nCleaned_massWindowDown[np.where(nCleaned_massWindowDown[:,0]>135)]\n",
    "    nCleaned_mdijet = nCleaned_massWindow[np.where(np.logical_or(nCleaned_massWindow[:,dictVar['dijetCandidate.M()']]<100,nCleaned_massWindow[:,dictVar['dijetCandidate.M()']]>140))]\n",
    "#    nCleaned_mdijet = nCleaned_mdijet_down[np.where(nCleaned_mdijet_down[:,2]>140)]\n",
    "    \n",
    "    \n",
    "    processPath=os.path.expanduser('~/HHbbgg_ETH/outfiles/')+outTag+'/'+utils.IO.dataName[0].split(\"/\")[len(utils.IO.dataName[0].split(\"/\"))-1].replace(\"output_\",\"\").replace(\".root\",\"\")+\"_blinded\"+\".root\"\n",
    "    utils.postprocessing.saveTree(processPath,dictVar,nCleaned_mdijet)\n",
    "    \n",
    "    processPath=os.path.expanduser('~/HHbbgg_ETH/outfiles/')+outTag+'/'+\"BkgWS.root\"\n",
    "    utils.postprocessing.saveTree(processPath,dictVar,nCleaned,Y_pred_data,nameTree=\"reducedTree_bkg\")\n",
    "    \n",
    "    processPath=os.path.expanduser('~/HHbbgg_ETH/outfiles/')+outTag+'/'+\"BkgWS_highMass.root\"\n",
    "    Y_pred_total = np.column_stack((nCleaned,Y_pred_data))\n",
    "\n",
    "    nCleaned_MVA_2 = Y_pred_total[np.where(Y_pred_data>MVA_Cut)]\n",
    "#    nCleaned_massWindow_2 = nCleaned_MVA_2[np.where(np.logical_or(nCleaned_MVA_2[:,dictVar['diphotonCandidate.M()']]<115,nCleaned_MVA_2[:,dictVar['diphotonCandidate.M()']]>135))]\n",
    "#    nCleaned_mdijet_2 = utils.postprocessing.cutInvariantMass(nCleaned_massWindow_2,dictVar['dijetCandidate.M()'],100.,140.)\n",
    "    nCleaned_mdijet_2 = utils.postprocessing.cutInvariantMass(nCleaned_MVA_2,dictVar['dijetCandidate.M()'],100.,140.)\n",
    "    nCleaned_MX = utils.postprocessing.applyCut(nCleaned_mdijet_2,dictVar['MX'],350)\n",
    "\n",
    "\n",
    "    Y_pred_cut=nCleaned_MX[:,nCleaned_MX.shape[1]-1].astype(np.float64)\n",
    "\n",
    "\n",
    "    utils.postprocessing.saveTree(processPath,dictVar,nCleaned_MX,Y_pred_cut,nameTree=\"reducedTree_bkg\")\n"
   ]
  },
  {
   "cell_type": "code",
   "execution_count": null,
   "metadata": {
    "collapsed": true
   },
   "outputs": [],
   "source": []
  }
 ],
 "metadata": {
  "anaconda-cloud": {},
  "kernelspec": {
   "display_name": "Python [conda root]",
   "language": "python",
   "name": "conda-root-py"
  },
  "language_info": {
   "codemirror_mode": {
    "name": "ipython",
    "version": 2
   },
   "file_extension": ".py",
   "mimetype": "text/x-python",
   "name": "python",
   "nbconvert_exporter": "python",
   "pygments_lexer": "ipython2",
   "version": "2.7.12"
  }
 },
 "nbformat": 4,
 "nbformat_minor": 1
}
