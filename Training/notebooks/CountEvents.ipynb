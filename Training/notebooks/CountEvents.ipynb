{
 "cells": [
  {
   "cell_type": "code",
   "execution_count": 1,
   "metadata": {
    "collapsed": false
   },
   "outputs": [
    {
     "data": {
      "application/javascript": [
       "require(['codemirror/mode/clike/clike'], function(Clike) { console.log('ROOTaaS - C++ CodeMirror module loaded'); });"
      ]
     },
     "metadata": {},
     "output_type": "display_data"
    },
    {
     "data": {
      "application/javascript": [
       "IPython.CodeCell.config_defaults.highlight_modes['magic_text/x-c++src'] = {'reg':[/^%%cpp/]};"
      ]
     },
     "metadata": {},
     "output_type": "display_data"
    },
    {
     "name": "stdout",
     "output_type": "stream",
     "text": [
      "Welcome to ROOTaaS 6.05/02\n"
     ]
    },
    {
     "data": {
      "text/plain": [
       "<module 'training_utils' from '/mnt/t3nfs01/data01/shome/micheli/HHbbgg_ETH/Training/python/training_utils.pyc'>"
      ]
     },
     "execution_count": 1,
     "metadata": {},
     "output_type": "execute_result"
    }
   ],
   "source": [
    "import os\n",
    "import sys; sys.path.append(\"~/HHbbgg_ETH/Training/python\") # to load packages\n",
    "import training_utils as utils\n",
    "import numpy as np\n",
    "reload(utils)"
   ]
  },
  {
   "cell_type": "code",
   "execution_count": 2,
   "metadata": {
    "collapsed": false
   },
   "outputs": [
    {
     "name": "stdout",
     "output_type": "stream",
     "text": [
      "env: data=/mnt/t3nfs01/data01/shome/micheli/HHbbgg_ETH/root_files/20170620\n",
      "using background file n.0: /mnt/t3nfs01/data01/shome/micheli/HHbbgg_ETH/root_files/20170620/output_DiPhotonJetsBox_MGG-80toInf_13TeV-Sherpa.root\n",
      "using background file n.1: /mnt/t3nfs01/data01/shome/micheli/HHbbgg_ETH/root_files/20170620/output_GJet_Pt-20to40_DoubleEMEnriched_MGG-80toInf_TuneCUETP8M1_13TeV_Pythia8.root\n",
      "using background file n.2: /mnt/t3nfs01/data01/shome/micheli/HHbbgg_ETH/root_files/20170620/output_GJet_Pt-40toInf_DoubleEMEnriched_MGG-80toInf_TuneCUETP8M1_13TeV_Pythia8.root\n",
      "using background file n.3: /mnt/t3nfs01/data01/shome/micheli/HHbbgg_ETH/root_files/20170620/output_GluGluHToGG_M-125_13TeV_powheg_pythia8.root\n",
      "using background file n.4: /mnt/t3nfs01/data01/shome/micheli/HHbbgg_ETH/root_files/20170620/output_VBFHToGG_M-125_13TeV_powheg_pythia8.root\n",
      "using background file n.5: /mnt/t3nfs01/data01/shome/micheli/HHbbgg_ETH/root_files/20170620/output_VHToGG_M125_13TeV_amcatnloFXFX_madspin_pythia8.root\n",
      "using background file n.6: /mnt/t3nfs01/data01/shome/micheli/HHbbgg_ETH/root_files/20170620/output_bbHToGG_M-125_4FS_yb2_13TeV_amcatnlo.root\n",
      "using background file n.7: /mnt/t3nfs01/data01/shome/micheli/HHbbgg_ETH/root_files/20170620/output_ttHToGG_M125_13TeV_powheg_pythia8_v2.root\n",
      "using signal file n.0: /mnt/t3nfs01/data01/shome/micheli/HHbbgg_ETH/root_files/20170620/output_GluGluToHHTo2B2G_node_SM_13TeV-madgraph.root\n"
     ]
    }
   ],
   "source": [
    "reload(utils)\n",
    "ntuples = '20170620'\n",
    "# \"%\" sign allows to interpret the rest as a system command\n",
    "%env data=$utils.IO.ldata$ntuples\n",
    "files = ! ls $data | sort -t_ -k 3 -n\n",
    "#pick only SM\n",
    "signal = [s for s in files if \"GluGluToHHTo2B2G_node_SM\" in s]\n",
    "diphotonJets = [s for s in files if \"DiPhotonJets\" in s]\n",
    "gJets_lowPt = [s for s in files if \"GJet_Pt-20to40\" in s]\n",
    "gJets_highPt = [s for s in files if \"GJet_Pt-40\" in s]\n",
    "ggH = [s for s in files if \"GluGluHToGG\" in s]\n",
    "vbf = [s for s in files if \"VBFHToGG\" in s]\n",
    "VH = [s for s in files if \"VHToGG\" in s]\n",
    "bbH = [s for s in files if \"bbHToGG_M-125_4FS_yb2\" in s] #is this correct?\n",
    "ttH = [s for s in files if \"ttHToGG\" in s]\n",
    "\n",
    "\n",
    "utils.IO.add_signal(ntuples,signal,1)\n",
    "utils.IO.add_background(ntuples,diphotonJets,-1)\n",
    "utils.IO.add_background(ntuples,gJets_lowPt,-2)\n",
    "utils.IO.add_background(ntuples,gJets_highPt,-2)\n",
    "utils.IO.add_background(ntuples,ggH,-3)\n",
    "utils.IO.add_background(ntuples,vbf,-4)\n",
    "utils.IO.add_background(ntuples,VH,-5)\n",
    "utils.IO.add_background(ntuples,bbH,-6)\n",
    "utils.IO.add_background(ntuples,ttH,-7)\n",
    "\n",
    "\n",
    "\n",
    "for i in range(len(utils.IO.backgroundName)):        \n",
    "    print \"using background file n.\"+str(i)+\": \"+utils.IO.backgroundName[i]\n",
    "for i in range(len(utils.IO.signalName)):    \n",
    "    print \"using signal file n.\"+str(i)+\": \"+utils.IO.signalName[i]"
   ]
  },
  {
   "cell_type": "code",
   "execution_count": 3,
   "metadata": {
    "collapsed": false
   },
   "outputs": [
    {
     "name": "stdout",
     "output_type": "stream",
     "text": [
      "['leadingJet_bDis', 'subleadingJet_bDis', 'noexpand:fabs(CosThetaStar_CS)', 'noexpand:fabs(CosTheta_bb)', 'noexpand:fabs(CosTheta_gg)', 'noexpand:diphotonCandidate.Pt()/diHiggsCandidate.M()', 'noexpand:dijetCandidate.Pt()/diHiggsCandidate.M()', 'customLeadingPhotonIDMVA', 'customSubLeadingPhotonIDMVA', 'leadingPhotonSigOverE', 'subleadingPhotonSigOverE', 'sigmaMOverMDecorr', 'DiJetDiPho_DR']\n",
      "(18646, 13)\n",
      "[ 0.989  0.065  0.152  0.482  0.223  0.402  0.551  0.967  0.862  0.005\n",
      "  0.007  0.006  2.261]\n"
     ]
    }
   ],
   "source": [
    "#use noexpand for root expressions, it needs this file https://github.com/ibab/root_pandas/blob/master/root_pandas/readwrite.py\n",
    "#all variables\n",
    "branch_names = 'leadingJet_bDis,subleadingJet_bDis,noexpand:fabs(CosThetaStar_CS),noexpand:fabs(CosTheta_bb),noexpand:fabs(CosTheta_gg),noexpand:diphotonCandidate.Pt()/diHiggsCandidate.M(),noexpand:dijetCandidate.Pt()/diHiggsCandidate.M(),customLeadingPhotonIDMVA,customSubLeadingPhotonIDMVA,leadingPhotonSigOverE,subleadingPhotonSigOverE,sigmaMOverMDecorr,DiJetDiPho_DR'.split(\",\")\n",
    "#std variables\n",
    "#branch_names = 'leadingJet_bDis,subleadingJet_bDis,noexpand:fabs(CosThetaStar_CS),noexpand:fabs(CosTheta_bb),noexpand:fabs(CosTheta_gg),noexpand:diphotonCandidate.Pt()/diHiggsCandidate.M(),noexpand:dijetCandidate.Pt()/diHiggsCandidate.M()'.split(\",\")\n",
    "branch_names = [c.strip() for c in branch_names]\n",
    "#branch_names = (b.replace(\" \", \"_\") for b in branch_names)\n",
    "#branch_names = list(b.replace(\"-\", \"_\") for b in branch_names)\n",
    "print branch_names\n",
    "\n",
    "import pandas as pd\n",
    "import root_pandas as rpd\n",
    "\n",
    "#utils.IO.get_cross_sections('jsons/datasets80X_Moriond.json')\n",
    "#utils.IO.w_sig.append(utils.IO.get_weight('signal','nrSM',0))\n",
    "#utils.IO.w_bkg(utils.IO.get_weight('background','DiPhoJets',0))\n",
    "#utils.IO.w_bkg(utils.IO.get_weight('background','GJets',0))\n",
    "#utils.IO.w_bkg(utils.IO.get_weight('background','GJets',1))\n",
    "\n",
    "####FIXME!!! shuffle for background needed\n",
    "utils.preprocessing.set_signals_and_backgrounds(\"bbggSelectionTree\",branch_names,shuffle=False)\n",
    "X_bkg,y_bkg,weights_bkg,X_sig,y_sig,weights_sig=utils.preprocessing.set_variables(branch_names)\n",
    "\n",
    "#relative weighting between components of one class is kept, all classes normalized to the same\n",
    "#weights_sig=utils.preprocessing.weight_signal_with_resolution(weights_sig,y_sig)\n",
    "\n",
    "#X_bkg,y_bkg,weights_bkg = utils.preprocessing.randomize(X_bkg,y_bkg,weights_bkg)\n",
    "#X_sig,y_sig,weights_sig = utils.preprocessing.randomize(X_sig,y_sig,weights_sig)\n",
    "\n",
    "\n",
    "#bbggTrees have by default signal and CR events, let's be sure that we clean it\n",
    "#FIXME! just for debugging!!!!!!! uncomment\n",
    "X_bkg,y_bkg,weights_bkg,X_sig,y_sig,weights_sig=utils.preprocessing.clean_signal_events(X_bkg,y_bkg,weights_bkg,X_sig,y_sig,weights_sig)\n",
    "\n",
    "\n",
    "#y_total_train = utils.preprocessing.get_total_training_sample(y_sig,y_bkg).ravel()\n",
    "#X_total_train = utils.preprocessing.get_total_training_sample(X_sig,X_bkg)\n",
    "\n",
    "#y_total_test = utils.preprocessing.get_total_test_sample(y_sig,y_bkg).ravel()\n",
    "#X_total_test = utils.preprocessing.get_total_test_sample(X_sig,X_bkg)\n",
    "\n",
    "#w_total_train = utils.preprocessing.get_total_training_sample(weights_sig,weights_bkg).ravel()\n",
    "#w_total_test = utils.preprocessing.get_total_test_sample(weights_sig,weights_bkg).ravel()\n",
    "#np.savetxt('/tmp/micheli/xsig_3.txt',X_sig)\n",
    "#utils.preprocessing.adjust_and_compress(utils.IO.signal_df[0]).to_csv('/tmp/micheli/signal_3.csv') \n",
    "\n",
    "np.savetxt('/tmp/micheli/xbkg.txt',X_bkg)\n",
    "utils.preprocessing.adjust_and_compress(utils.IO.background_df[0]).to_csv('/tmp/micheli/bkg.csv')\n",
    "\n",
    "print X_sig.shape\n",
    "print X_sig[0]"
   ]
  },
  {
   "cell_type": "code",
   "execution_count": 4,
   "metadata": {
    "collapsed": false
   },
   "outputs": [
    {
     "name": "stdout",
     "output_type": "stream",
     "text": [
      "(18646,)\n",
      "(18646,)\n",
      "(1900684,)\n",
      "(22278,)\n",
      "(21184,)\n"
     ]
    }
   ],
   "source": [
    "# load the model from disk\n",
    "from sklearn.externals import joblib\n",
    "#loaded_model = joblib.load(os.path.expanduser('~/HHbbgg_ETH/Training/output_files/allMC_stdVariables.pkl'))\n",
    "loaded_model = joblib.load(os.path.expanduser('~/HHbbgg_ETH/Training/output_files/allMC_resWeighting_optimized.pkl'))\n",
    "#sig = np.concatenate((X_total_train[y_total_train > 0],X_total_test[y_total_test > 0]))\n",
    "#bkg_0 = np.concatenate((X_total_train[y_total_train == -1],X_total_test[y_total_test == -1]))\n",
    "bkg_0 = X_bkg[y_bkg ==-1]\n",
    "bkg_1 = X_bkg[y_bkg ==-2]\n",
    "bkg_3 = X_bkg[y_bkg ==-3]\n",
    "bkg_4 = X_bkg[y_bkg ==-4]\n",
    "bkg_5 = X_bkg[y_bkg ==-5]\n",
    "bkg_6 = X_bkg[y_bkg ==-6]\n",
    "bkg_7 = X_bkg[y_bkg ==-7]\n",
    "\n",
    "\n",
    "\n",
    "#bkg_1 = np.concatenate((X_total_train[y_total_train == -2],X_total_test[y_total_test == -2]))\n",
    "#bkg_3 = np.concatenate((X_total_train[y_total_train == -3],X_total_test[y_total_test == -3]))\n",
    "#bkg_4 = np.concatenate((X_total_train[y_total_train == -4],X_total_test[y_total_test == -4]))\n",
    "#bkg_5 = np.concatenate((X_total_train[y_total_train == -5],X_total_test[y_total_test == -5]))\n",
    "#bkg_6 = np.concatenate((X_total_train[y_total_train == -6],X_total_test[y_total_test == -6]))\n",
    "#bkg_7 = np.concatenate((X_total_train[y_total_train == -7],X_total_test[y_total_test == -7]))\n",
    "\n",
    "\n",
    "Y_pred_sig = loaded_model.predict_proba(X_sig)[:,2]\n",
    "Y_pred_bkg_0 = loaded_model.predict_proba(bkg_0)[:,2]\n",
    "Y_pred_bkg_1 = loaded_model.predict_proba(bkg_1)[:,2]\n",
    "Y_pred_bkg_3 = loaded_model.predict_proba(bkg_3)[:,2]\n",
    "Y_pred_bkg_4 = loaded_model.predict_proba(bkg_4)[:,2]\n",
    "Y_pred_bkg_5 = loaded_model.predict_proba(bkg_5)[:,2]\n",
    "Y_pred_bkg_6 = loaded_model.predict_proba(bkg_6)[:,2]\n",
    "Y_pred_bkg_7 = loaded_model.predict_proba(bkg_7)[:,2]\n",
    "\n",
    "print y_sig.shape\n",
    "print Y_pred_sig.shape\n",
    "print Y_pred_bkg_0.shape\n",
    "print Y_pred_bkg_1.shape\n",
    "print utils.IO.signal_df[0].index.shape\n",
    "#np.savetxt('/tmp/micheli/prova2.txt',bkg_6)\n",
    "np.savetxt('/tmp/micheli/prova8.txt',Y_pred_sig)\n",
    "#v = np.column_stack((utils.IO.signal_df[0].index,Y_pred_sig))\n",
    "#print v\n",
    "#np.savetxt('/tmp/micheli/prova8_2.txt',v)\n",
    "#additionalCut_names = 'noexpand:diphotonCandidate.M(),noexpand:dijetCandidate.M()'.split(\",\")\n",
    "additionalCut_names = 'noexpand:diphotonCandidate.M(),noexpand:dijetCandidate.M()'.split(\",\")\n",
    "sig_count_df = rpd.read_root(utils.IO.signalName[0],\"bbggSelectionTree\", columns = additionalCut_names)\n",
    "utils.preprocessing.define_process_weight(sig_count_df,utils.IO.sigProc[0],utils.IO.signalName[0])\n",
    "\n",
    "#print utils.IO.signal_df[0][['random_index']]\n",
    "#sig_count_df['random_index']=utils.IO.signal_df[0][['random_index']]\n",
    "#sig_count_df.sort_values(by='random_index',inplace=True)"
   ]
  },
  {
   "cell_type": "code",
   "execution_count": 5,
   "metadata": {
    "collapsed": false
   },
   "outputs": [
    {
     "name": "stdout",
     "output_type": "stream",
     "text": [
      "(21184,)\n",
      "M_sig.shape\n",
      "(21184,)\n",
      "(21184, 3)\n",
      "(18646, 3)\n",
      "Y_pred\n",
      "(18646,)\n",
      "(17097, 3)\n",
      "(array([    0,     2,     3, ..., 17093, 17095, 17096]),)\n",
      "mass window\n",
      "(13995, 3)\n",
      "(13284, 3)\n",
      "[ 0.0007174  0.0007174  0.0007174 ...,  0.0007174  0.0007174  0.0007174]\n",
      "signal events with 36 fb-1: 9.5299416\n",
      "(8412, 3)\n",
      "after cutting in dijet mass:6.0347688\n"
     ]
    }
   ],
   "source": [
    "#### here counting events only in dijet mass window######\n",
    "#print utils.IO.signal_df[0]['proc']\n",
    "#print utils.IO.signal_df[0].index\n",
    "print sig_count_df['diphotonCandidate.M()'].shape\n",
    "M_sig = np.round(np.asarray(sig_count_df['diphotonCandidate.M()']),6)\n",
    "print 'M_sig.shape'\n",
    "print M_sig.shape\n",
    "W_sig = np.asarray(sig_count_df['weight'][utils.IO.signal_df[0].index])\n",
    "M_dijet_sig = np.round(np.asarray(sig_count_df['dijetCandidate.M()']),6)\n",
    "nTot = np.column_stack((M_sig,W_sig,M_dijet_sig))\n",
    "print nTot.shape\n",
    "#apply isSignal cleaning\n",
    "nCleaned = nTot[np.where(nTot[:,1]!=0),:][0]\n",
    "print nCleaned.shape\n",
    "#apply MVA cut at 90% eff\n",
    "print \"Y_pred\"\n",
    "print Y_pred_sig.shape\n",
    "nCleaned_MVA = nCleaned[np.where(Y_pred_sig>0.40)]\n",
    "#apply massWindow +- 1.5\n",
    "print nCleaned_MVA.shape\n",
    "print np.where(nCleaned_MVA[:,0]>123.5000)\n",
    "nCleaned_massWindowDown = nCleaned_MVA[np.where(nCleaned_MVA[:,0]>123.5000)]\n",
    "nCleaned_massWindow = nCleaned_massWindowDown[np.where(nCleaned_massWindowDown[:,0]<126.5000)]\n",
    "print \"mass window\"\n",
    "\n",
    "print nCleaned_massWindowDown.shape\n",
    "print nCleaned_massWindow.shape\n",
    "print nCleaned_massWindow[:,1]\n",
    "nEvts = sum(nCleaned_massWindow[:,1])\n",
    "print \"signal events with 36 fb-1: \"+str(nEvts)\n",
    "#import matplotlib.pyplot as plt\n",
    "#plt.hist(nCleaned_massWindow[:,2], bins=range(int(min(nCleaned_massWindow[:,2])), int(max(nCleaned_massWindow[:,2])) + 5, 5))\n",
    "#plt.show()\n",
    "nCleaned_mdijet_down = nCleaned_massWindow[np.where(nCleaned_massWindow[:,2]>100)]\n",
    "nCleaned_mdijet = nCleaned_mdijet_down[np.where(nCleaned_mdijet_down[:,2]<140)]\n",
    "print nCleaned_mdijet.shape\n",
    "nEvts_Cut = sum(nCleaned_mdijet[:,1])\n",
    "print \"after cutting in dijet mass:\"+str(nEvts_Cut)\n",
    "np.savetxt('/tmp/micheli/nCleaned_massWindowDown_3.txt',nCleaned_massWindowDown)\n",
    "np.savetxt('/tmp/micheli/nCleaned_MVA.txt',np.column_stack((nCleaned_MVA,Y_pred_sig[np.where(Y_pred_sig>0.40)])))"
   ]
  },
  {
   "cell_type": "code",
   "execution_count": 6,
   "metadata": {
    "collapsed": false
   },
   "outputs": [
    {
     "name": "stdout",
     "output_type": "stream",
     "text": [
      "(2190915, 3)\n",
      "(1900684, 3)\n",
      "(268554, 3)\n",
      "(12234, 3)\n",
      "DiPhotonJetsBox_MGG-80toInf_13TeV-Sherpa events with 36 fb-1: 209.944387432\n",
      "with scale factor:314.916581148\n",
      "(3790, 3)\n",
      "after cutting in dijet mass (with scale factor):95.136941173\n"
     ]
    }
   ],
   "source": [
    "bkg_3_count_df = rpd.read_root(utils.IO.backgroundName[0],\"bbggSelectionTree\", columns = additionalCut_names)\n",
    "utils.preprocessing.define_process_weight(bkg_3_count_df,utils.IO.bkgProc[0],utils.IO.backgroundName[0])\n",
    "\n",
    "M_bkg = np.asarray(bkg_3_count_df['diphotonCandidate.M()'][utils.IO.background_df[0].index])\n",
    "W_bkg = np.asarray(bkg_3_count_df['weight'][utils.IO.background_df[0].index])\n",
    "M_dijet_bkg = np.asarray(bkg_3_count_df['dijetCandidate.M()'][utils.IO.background_df[0].index])\n",
    "nTot = np.column_stack((M_bkg,W_bkg,M_dijet_bkg))\n",
    "\n",
    "print nTot.shape\n",
    "#apply isSignal cleaning\n",
    "nCleaned = nTot[np.where(nTot[:,1]!=0),:][0]\n",
    "print nCleaned.shape\n",
    "#apply MVA cut at 90% eff\n",
    "nCleaned_MVA = nCleaned[np.where(Y_pred_bkg_0>0.40)]\n",
    "print nCleaned_MVA.shape\n",
    "#apply massWindow +- 1.5\n",
    "nCleaned_massWindowDown = nCleaned_MVA[np.where(nCleaned_MVA[:,0]>123.5)]\n",
    "nCleaned_massWindow = nCleaned_massWindowDown[np.where(nCleaned_massWindowDown[:,0]<126.5)]\n",
    "print nCleaned_massWindow.shape\n",
    "nEvts = sum(nCleaned_massWindow[:,1])\n",
    "print utils.IO.backgroundName[0].split(\"/\")[len(utils.IO.backgroundName[0].split(\"/\"))-1].replace(\".root\",\"\").replace(\"output_\",\"\")+\" events with 36 fb-1: \"+str(nEvts)\n",
    "print \"with scale factor:\"+str(nEvts*1.5) \n",
    "Histo_B = np.histogram(nCleaned_massWindow[:,2],bins=30,range=(100,180),weights=nCleaned_massWindow[:,1])\n",
    "#import matplotlib.pyplot as plt\n",
    "#plt.hist(nCleaned_massWindow[:,2], bins=range(int(min(nCleaned_massWindow[:,2])), int(max(nCleaned_massWindow[:,2])) + 5, 5))\n",
    "#plt.show()\n",
    "nCleaned_mdijet_down = nCleaned_massWindow[np.where(nCleaned_massWindow[:,2]>100)]\n",
    "nCleaned_mdijet = nCleaned_mdijet_down[np.where(nCleaned_mdijet_down[:,2]<140)]\n",
    "print nCleaned_mdijet.shape\n",
    "nEvts_Cut = sum(nCleaned_mdijet[:,1])\n",
    "print \"after cutting in dijet mass (with scale factor):\"+str(nEvts_Cut*1.5)"
   ]
  },
  {
   "cell_type": "code",
   "execution_count": 7,
   "metadata": {
    "collapsed": false
   },
   "outputs": [
    {
     "name": "stdout",
     "output_type": "stream",
     "text": [
      "(2590, 3)\n",
      "(63259, 3)\n",
      "nCleaned\n",
      "(22278, 3)\n",
      "(608, 3)\n",
      "(27, 3)\n",
      "GJet_Pt-20to40_DoubleEMEnriched_MGG-80toInf_TuneCUETP8M1_13TeV_Pythia8 events with 36 fb-1: 40.8667117897\n",
      "(5, 3)\n",
      "after cutting in dijet mass:6.34077751559\n"
     ]
    }
   ],
   "source": [
    "bkg_1_count_df = rpd.read_root(utils.IO.backgroundName[1],\"bbggSelectionTree\", columns = additionalCut_names)\n",
    "utils.preprocessing.define_process_weight(bkg_1_count_df,utils.IO.bkgProc[1],utils.IO.backgroundName[1])\n",
    "\n",
    "M_bkg = np.asarray(bkg_1_count_df['diphotonCandidate.M()'][utils.IO.background_df[1].index])\n",
    "crazySF_20=25\n",
    "W_bkg = np.asarray(np.multiply(bkg_1_count_df['weight'][utils.IO.background_df[1].index],crazySF_20))\n",
    "M_dijet_bkg = np.asarray(bkg_1_count_df['dijetCandidate.M()'][utils.IO.background_df[1].index])\n",
    "\n",
    "nTot = np.column_stack((M_bkg,W_bkg,M_dijet_bkg))\n",
    "print nTot.shape\n",
    "\n",
    "bkg_2_count_df = rpd.read_root(utils.IO.backgroundName[2],\"bbggSelectionTree\", columns = additionalCut_names)\n",
    "utils.preprocessing.define_process_weight(bkg_2_count_df,utils.IO.bkgProc[2],utils.IO.backgroundName[2])\n",
    "\n",
    "M_bkg = np.asarray(bkg_2_count_df['diphotonCandidate.M()'][utils.IO.background_df[2].index])\n",
    "crazySF_40=3\n",
    "W_bkg = np.asarray(np.multiply(bkg_2_count_df['weight'][utils.IO.background_df[2].index],crazySF_40))\n",
    "M_dijet_bkg = np.asarray(bkg_2_count_df['dijetCandidate.M()'][utils.IO.background_df[2].index])\n",
    "\n",
    "nTot_2 = np.column_stack((M_bkg,W_bkg,M_dijet_bkg))\n",
    "\n",
    "nTot_3 = np.concatenate((nTot,nTot_2))\n",
    "\n",
    "print nTot_3.shape\n",
    "#apply isSignal cleaning\n",
    "nCleaned = nTot_3[np.where(nTot_3[:,1]!=0),:][0]\n",
    "print \"nCleaned\"\n",
    "print nCleaned.shape\n",
    "#apply MVA cut at 90% eff\n",
    "nCleaned_MVA = nCleaned[np.where(Y_pred_bkg_1>0.40)]\n",
    "print nCleaned_MVA.shape\n",
    "#apply massWindow +- 1.5\n",
    "nCleaned_massWindowDown = nCleaned_MVA[np.where(nCleaned_MVA[:,0]>123.5)]\n",
    "nCleaned_massWindow = nCleaned_massWindowDown[np.where(nCleaned_massWindowDown[:,0]<126.5)]\n",
    "print nCleaned_massWindow.shape\n",
    "nEvts = sum(nCleaned_massWindow[:,1])\n",
    "print utils.IO.backgroundName[1].split(\"/\")[len(utils.IO.backgroundName[1].split(\"/\"))-1].replace(\".root\",\"\").replace(\"output_\",\"\")+\" events with 36 fb-1: \"+str(nEvts)\n",
    "nCleaned_mdijet_down = nCleaned_massWindow[np.where(nCleaned_massWindow[:,2]>100)]\n",
    "nCleaned_mdijet = nCleaned_mdijet_down[np.where(nCleaned_mdijet_down[:,2]<140)]\n",
    "print nCleaned_mdijet.shape\n",
    "nEvts_Cut = sum(nCleaned_mdijet[:,1])\n",
    "print \"after cutting in dijet mass:\"+str(nEvts_Cut)\n",
    "\n",
    "#np.savetxt('/tmp/micheli/prova7.txt',nCleaned_mdijet)\n",
    "#utils.preprocessing.adjust_and_compress(bkg_2_count_df).to_csv('/tmp/micheli/background_7_2.csv') "
   ]
  },
  {
   "cell_type": "code",
   "execution_count": 8,
   "metadata": {
    "collapsed": false
   },
   "outputs": [
    {
     "name": "stdout",
     "output_type": "stream",
     "text": [
      "(63320, 3)\n",
      "(56382, 3)\n",
      "(10430, 3)\n",
      "(8429, 3)\n",
      "GluGluHToGG_M-125_13TeV_powheg_pythia8 events with 36 fb-1: 32.1702115094\n",
      "(2456, 3)\n",
      "after cutting in dijet mass:9.37359585563\n"
     ]
    }
   ],
   "source": [
    "bkg_3_count_df = rpd.read_root(utils.IO.backgroundName[3],\"bbggSelectionTree\", columns = additionalCut_names)\n",
    "utils.preprocessing.define_process_weight(bkg_3_count_df,utils.IO.bkgProc[3],utils.IO.backgroundName[3])\n",
    "\n",
    "M_bkg = np.asarray(bkg_3_count_df['diphotonCandidate.M()'][utils.IO.background_df[3].index])\n",
    "W_bkg = np.asarray(bkg_3_count_df['weight'][utils.IO.background_df[3].index])\n",
    "M_dijet_bkg = np.asarray(bkg_3_count_df['dijetCandidate.M()'][utils.IO.background_df[3].index])\n",
    "nTot = np.column_stack((M_bkg,W_bkg,M_dijet_bkg))\n",
    "\n",
    "\n",
    "\n",
    "print nTot.shape\n",
    "#apply isSignal cleaning\n",
    "nCleaned = nTot[np.where(nTot[:,1]!=0),:][0]\n",
    "print nCleaned.shape\n",
    "#apply MVA cut at 90% eff\n",
    "nCleaned_MVA = nCleaned[np.where(Y_pred_bkg_3>0.40)]\n",
    "print nCleaned_MVA.shape\n",
    "#apply massWindow +- 1.5\n",
    "nCleaned_massWindowDown = nCleaned_MVA[np.where(nCleaned_MVA[:,0]>123.5)]\n",
    "nCleaned_massWindow = nCleaned_massWindowDown[np.where(nCleaned_massWindowDown[:,0]<126.5)]\n",
    "print nCleaned_massWindow.shape\n",
    "nEvts = sum(nCleaned_massWindow[:,1])\n",
    "print utils.IO.backgroundName[3].split(\"/\")[len(utils.IO.backgroundName[3].split(\"/\"))-1].replace(\".root\",\"\").replace(\"output_\",\"\")+\" events with 36 fb-1: \"+str(nEvts)\n",
    "Histo_B = np.histogram(nCleaned_massWindow[:,2],bins=30,range=(100,180),weights=nCleaned_massWindow[:,1])\n",
    "#import matplotlib.pyplot as plt\n",
    "#plt.hist(nCleaned_massWindow[:,2], bins=range(int(min(nCleaned_massWindow[:,2])), int(max(nCleaned_massWindow[:,2])) + 5, 5))\n",
    "#plt.show()\n",
    "nCleaned_mdijet_down = nCleaned_massWindow[np.where(nCleaned_massWindow[:,2]>100)]\n",
    "nCleaned_mdijet = nCleaned_mdijet_down[np.where(nCleaned_mdijet_down[:,2]<140)]\n",
    "print nCleaned_mdijet.shape\n",
    "nEvts_Cut = sum(nCleaned_mdijet[:,1])\n",
    "print \"after cutting in dijet mass:\"+str(nEvts_Cut)"
   ]
  },
  {
   "cell_type": "code",
   "execution_count": 9,
   "metadata": {
    "collapsed": false
   },
   "outputs": [
    {
     "name": "stdout",
     "output_type": "stream",
     "text": [
      "(84846, 3)\n",
      "(76431, 3)\n",
      "(17392, 3)\n",
      "(13945, 3)\n",
      "VBFHToGG_M-125_13TeV_powheg_pythia8  events with 36 fb-1: 4.5443142217\n",
      "(3960, 3)\n",
      "after cutting in dijet mass:1.29015496934\n"
     ]
    }
   ],
   "source": [
    "bkg_4_count_df = rpd.read_root(utils.IO.backgroundName[4],\"bbggSelectionTree\", columns = additionalCut_names)\n",
    "utils.preprocessing.define_process_weight(bkg_4_count_df,utils.IO.bkgProc[4],utils.IO.backgroundName[4])\n",
    "\n",
    "M_bkg = np.asarray(bkg_4_count_df['diphotonCandidate.M()'][utils.IO.background_df[4].index])\n",
    "W_bkg = np.asarray(bkg_4_count_df['weight'][utils.IO.background_df[4].index])\n",
    "M_dijet_bkg = np.asarray(bkg_4_count_df['dijetCandidate.M()'][utils.IO.background_df[4].index])\n",
    "nTot = np.column_stack((M_bkg,W_bkg,M_dijet_bkg))\n",
    "\n",
    "\n",
    "\n",
    "print nTot.shape\n",
    "#apply isSignal cleaning\n",
    "nCleaned = nTot[np.where(nTot[:,1]!=0),:][0]\n",
    "print nCleaned.shape\n",
    "#apply MVA cut at 90% eff\n",
    "nCleaned_MVA = nCleaned[np.where(Y_pred_bkg_4>0.40)]\n",
    "print nCleaned_MVA.shape\n",
    "#apply massWindow +- 1.5\n",
    "nCleaned_massWindowDown = nCleaned_MVA[np.where(nCleaned_MVA[:,0]>123.5)]\n",
    "nCleaned_massWindow = nCleaned_massWindowDown[np.where(nCleaned_massWindowDown[:,0]<126.5)]\n",
    "print nCleaned_massWindow.shape\n",
    "nEvts = sum(nCleaned_massWindow[:,1])\n",
    "print utils.IO.backgroundName[4].split(\"/\")[len(utils.IO.backgroundName[4].split(\"/\"))-1].replace(\".root\",\"\").replace(\"output_\",\"\")+\"  events with 36 fb-1: \"+str(nEvts)\n",
    "Histo_B = np.histogram(nCleaned_massWindow[:,2],bins=30,range=(100,180),weights=nCleaned_massWindow[:,1])\n",
    "#import matplotlib.pyplot as plt\n",
    "#plt.hist(nCleaned_massWindow[:,2], bins=range(int(min(nCleaned_massWindow[:,2])), int(max(nCleaned_massWindow[:,2])) + 5, 5))\n",
    "#plt.show()\n",
    "nCleaned_mdijet_down = nCleaned_massWindow[np.where(nCleaned_massWindow[:,2]>100)]\n",
    "nCleaned_mdijet = nCleaned_mdijet_down[np.where(nCleaned_mdijet_down[:,2]<140)]\n",
    "print nCleaned_mdijet.shape\n",
    "nEvts_Cut = sum(nCleaned_mdijet[:,1])\n",
    "print \"after cutting in dijet mass:\"+str(nEvts_Cut)"
   ]
  },
  {
   "cell_type": "code",
   "execution_count": 10,
   "metadata": {
    "collapsed": false
   },
   "outputs": [
    {
     "name": "stdout",
     "output_type": "stream",
     "text": [
      "(65684, 3)\n",
      "(57455, 3)\n",
      "(19426, 3)\n",
      "(15313, 3)\n",
      "VHToGG_M125_13TeV_amcatnloFXFX_madspin_pythia8 events with 36 fb-1: 8.85203301101\n",
      "(4107, 3)\n",
      "after cutting in dijet mass:2.16708525497\n"
     ]
    }
   ],
   "source": [
    "bkg_5_count_df = rpd.read_root(utils.IO.backgroundName[5],\"bbggSelectionTree\", columns = additionalCut_names)\n",
    "utils.preprocessing.define_process_weight(bkg_5_count_df,utils.IO.bkgProc[5],utils.IO.backgroundName[5])\n",
    "\n",
    "M_bkg = np.asarray(bkg_5_count_df['diphotonCandidate.M()'][utils.IO.background_df[5].index])\n",
    "W_bkg = np.asarray(bkg_5_count_df['weight'][utils.IO.background_df[5].index])\n",
    "M_dijet_bkg = np.asarray(bkg_5_count_df['dijetCandidate.M()'][utils.IO.background_df[5].index])\n",
    "nTot = np.column_stack((M_bkg,W_bkg,M_dijet_bkg))\n",
    "\n",
    "\n",
    "\n",
    "print nTot.shape\n",
    "#apply isSignal cleaning\n",
    "nCleaned = nTot[np.where(nTot[:,1]!=0),:][0]\n",
    "print nCleaned.shape\n",
    "#apply MVA cut at 90% eff\n",
    "nCleaned_MVA = nCleaned[np.where(Y_pred_bkg_5>0.40)]\n",
    "print nCleaned_MVA.shape\n",
    "#apply massWindow +- 1.5\n",
    "nCleaned_massWindowDown = nCleaned_MVA[np.where(nCleaned_MVA[:,0]>123.5)]\n",
    "nCleaned_massWindow = nCleaned_massWindowDown[np.where(nCleaned_massWindowDown[:,0]<126.5)]\n",
    "print nCleaned_massWindow.shape\n",
    "nEvts = sum(nCleaned_massWindow[:,1])\n",
    "print utils.IO.backgroundName[5].split(\"/\")[len(utils.IO.backgroundName[5].split(\"/\"))-1].replace(\".root\",\"\").replace(\"output_\",\"\")+\" events with 36 fb-1: \"+str(nEvts)\n",
    "Histo_B = np.histogram(nCleaned_massWindow[:,2],bins=30,range=(100,180),weights=nCleaned_massWindow[:,1])\n",
    "#import matplotlib.pyplot as plt\n",
    "#plt.hist(nCleaned_massWindow[:,2], bins=range(int(min(nCleaned_massWindow[:,2])), int(max(nCleaned_massWindow[:,2])) + 5, 5))\n",
    "#plt.show()\n",
    "nCleaned_mdijet_down = nCleaned_massWindow[np.where(nCleaned_massWindow[:,2]>100)]\n",
    "nCleaned_mdijet = nCleaned_mdijet_down[np.where(nCleaned_mdijet_down[:,2]<140)]\n",
    "print nCleaned_mdijet.shape\n",
    "nEvts_Cut = sum(nCleaned_mdijet[:,1])\n",
    "print \"after cutting in dijet mass:\"+str(nEvts_Cut)"
   ]
  },
  {
   "cell_type": "code",
   "execution_count": 11,
   "metadata": {
    "collapsed": false
   },
   "outputs": [
    {
     "name": "stdout",
     "output_type": "stream",
     "text": [
      "(123341, 3)\n",
      "(106395, 3)\n",
      "(48183, 3)\n",
      "(35935, 3)\n",
      "bbHToGG_M-125_4FS_yb2_13TeV_amcatnlo events with 36 fb-1: 2.11172646383\n",
      "(12668, 3)\n",
      "after cutting in dijet mass:0.745007494012\n"
     ]
    }
   ],
   "source": [
    "bkg_6_count_df = rpd.read_root(utils.IO.backgroundName[6],\"bbggSelectionTree\", columns = additionalCut_names)\n",
    "utils.preprocessing.define_process_weight(bkg_6_count_df,utils.IO.bkgProc[6],utils.IO.backgroundName[6])\n",
    "\n",
    "M_bkg = np.asarray(bkg_6_count_df['diphotonCandidate.M()'][utils.IO.background_df[6].index])\n",
    "W_bkg = np.asarray(bkg_6_count_df['weight'][utils.IO.background_df[6].index])\n",
    "M_dijet_bkg = np.asarray(bkg_6_count_df['dijetCandidate.M()'][utils.IO.background_df[6].index])\n",
    "nTot = np.column_stack((M_bkg,W_bkg,M_dijet_bkg))\n",
    "\n",
    "\n",
    "\n",
    "print nTot.shape\n",
    "#apply isSignal cleaning\n",
    "nCleaned = nTot[np.where(nTot[:,1]!=0),:][0]\n",
    "print nCleaned.shape\n",
    "#apply MVA cut at 90% eff\n",
    "nCleaned_MVA = nCleaned[np.where(Y_pred_bkg_6>0.40)]\n",
    "print nCleaned_MVA.shape\n",
    "#apply massWindow +- 1.5\n",
    "nCleaned_massWindowDown = nCleaned_MVA[np.where(nCleaned_MVA[:,0]>123.5)]\n",
    "nCleaned_massWindow = nCleaned_massWindowDown[np.where(nCleaned_massWindowDown[:,0]<126.5)]\n",
    "print nCleaned_massWindow.shape\n",
    "nEvts = sum(nCleaned_massWindow[:,1])\n",
    "print utils.IO.backgroundName[6].split(\"/\")[len(utils.IO.backgroundName[6].split(\"/\"))-1].replace(\".root\",\"\").replace(\"output_\",\"\")+\" events with 36 fb-1: \"+str(nEvts)\n",
    "Histo_B = np.histogram(nCleaned_massWindow[:,2],bins=30,range=(100,180),weights=nCleaned_massWindow[:,1])\n",
    "#import matplotlib.pyplot as plt\n",
    "#plt.hist(nCleaned_massWindow[:,2], bins=range(int(min(nCleaned_massWindow[:,2])), int(max(nCleaned_massWindow[:,2])) + 5, 5))\n",
    "#plt.show()\n",
    "nCleaned_mdijet_down = nCleaned_massWindow[np.where(nCleaned_massWindow[:,2]>100)]\n",
    "nCleaned_mdijet = nCleaned_mdijet_down[np.where(nCleaned_mdijet_down[:,2]<140)]\n",
    "print nCleaned_mdijet.shape\n",
    "nEvts_Cut = sum(nCleaned_mdijet[:,1])\n",
    "print \"after cutting in dijet mass:\"+str(nEvts_Cut)"
   ]
  },
  {
   "cell_type": "code",
   "execution_count": 12,
   "metadata": {
    "collapsed": false
   },
   "outputs": [
    {
     "name": "stdout",
     "output_type": "stream",
     "text": [
      "(350826, 3)\n",
      "(268863, 3)\n",
      "(239532, 3)\n",
      "(180439, 3)\n",
      "ttHToGG_M125_13TeV_powheg_pythia8_v2 events with 36 fb-1: 10.2747198463\n",
      "(73048, 3)\n",
      "after cutting in dijet mass:4.15950067579\n"
     ]
    }
   ],
   "source": [
    "bkg_7_count_df = rpd.read_root(utils.IO.backgroundName[7],\"bbggSelectionTree\", columns = additionalCut_names)\n",
    "utils.preprocessing.define_process_weight(bkg_7_count_df,utils.IO.bkgProc[7],utils.IO.backgroundName[7])\n",
    "\n",
    "M_bkg = np.asarray(bkg_7_count_df['diphotonCandidate.M()'][utils.IO.background_df[7].index])\n",
    "W_bkg = np.asarray(bkg_7_count_df['weight'][utils.IO.background_df[7].index])\n",
    "M_dijet_bkg = np.asarray(bkg_7_count_df['dijetCandidate.M()'][utils.IO.background_df[7].index])\n",
    "nTot = np.column_stack((M_bkg,W_bkg,M_dijet_bkg))\n",
    "\n",
    "\n",
    "\n",
    "print nTot.shape\n",
    "#apply isSignal cleaning\n",
    "nCleaned = nTot[np.where(nTot[:,1]!=0),:][0]\n",
    "print nCleaned.shape\n",
    "#apply MVA cut at 90% eff\n",
    "nCleaned_MVA = nCleaned[np.where(Y_pred_bkg_7>0.40)]\n",
    "print nCleaned_MVA.shape\n",
    "#apply massWindow +- 1.5\n",
    "nCleaned_massWindowDown = nCleaned_MVA[np.where(nCleaned_MVA[:,0]>123.5)]\n",
    "nCleaned_massWindow = nCleaned_massWindowDown[np.where(nCleaned_massWindowDown[:,0]<126.5)]\n",
    "print nCleaned_massWindow.shape\n",
    "nEvts = sum(nCleaned_massWindow[:,1])\n",
    "print utils.IO.backgroundName[7].split(\"/\")[len(utils.IO.backgroundName[7].split(\"/\"))-1].replace(\".root\",\"\").replace(\"output_\",\"\")+\" events with 36 fb-1: \"+str(nEvts)\n",
    "Histo_B = np.histogram(nCleaned_massWindow[:,2],bins=30,range=(100,180),weights=nCleaned_massWindow[:,1])\n",
    "#import matplotlib.pyplot as plt\n",
    "#plt.hist(nCleaned_massWindow[:,2], bins=range(int(min(nCleaned_massWindow[:,2])), int(max(nCleaned_massWindow[:,2])) + 5, 5))\n",
    "#plt.show()\n",
    "nCleaned_mdijet_down = nCleaned_massWindow[np.where(nCleaned_massWindow[:,2]>100)]\n",
    "nCleaned_mdijet = nCleaned_mdijet_down[np.where(nCleaned_mdijet_down[:,2]<140)]\n",
    "print nCleaned_mdijet.shape\n",
    "nEvts_Cut = sum(nCleaned_mdijet[:,1])\n",
    "print \"after cutting in dijet mass:\"+str(nEvts_Cut)"
   ]
  },
  {
   "cell_type": "code",
   "execution_count": 13,
   "metadata": {
    "collapsed": false
   },
   "outputs": [
    {
     "name": "stdout",
     "output_type": "stream",
     "text": [
      "[[ 0.31   0.533  0.824 ...,  0.01   0.006  2.729]\n",
      " [ 0.149  0.16   0.981 ...,  0.007  0.006  2.407]\n",
      " [ 0.099  0.768  0.471 ...,  0.011  0.006  3.289]\n",
      " ..., \n",
      " [ 0.833  0.527  0.594 ...,  0.01   0.007  2.8  ]\n",
      " [ 0.464  0.998  0.56  ...,  0.007  0.006  3.058]\n",
      " [ 0.091  0.175  0.936 ...,  0.007  0.01   2.69 ]]\n"
     ]
    }
   ],
   "source": [
    "print X_bkg[y_bkg == -4]"
   ]
  },
  {
   "cell_type": "code",
   "execution_count": null,
   "metadata": {
    "collapsed": true
   },
   "outputs": [],
   "source": []
  }
 ],
 "metadata": {
  "anaconda-cloud": {},
  "kernelspec": {
   "display_name": "Python [conda root]",
   "language": "python",
   "name": "conda-root-py"
  },
  "language_info": {
   "codemirror_mode": {
    "name": "ipython",
    "version": 2
   },
   "file_extension": ".py",
   "mimetype": "text/x-python",
   "name": "python",
   "nbconvert_exporter": "python",
   "pygments_lexer": "ipython2",
   "version": "2.7.12"
  }
 },
 "nbformat": 4,
 "nbformat_minor": 1
}
