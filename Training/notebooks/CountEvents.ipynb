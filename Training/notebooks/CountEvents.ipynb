{
 "cells": [
  {
   "cell_type": "code",
   "execution_count": 155,
   "metadata": {
    "collapsed": false
   },
   "outputs": [
    {
     "data": {
      "text/plain": [
       "<module 'training_utils' from '/mnt/t3nfs01/data01/shome/micheli/HHbbgg_ETH/Training/python/training_utils.py'>"
      ]
     },
     "execution_count": 155,
     "metadata": {},
     "output_type": "execute_result"
    }
   ],
   "source": [
    "import os\n",
    "import sys; sys.path.append(\"~/HHbbgg_ETH/Training/python\") # to load packages\n",
    "import training_utils as utils\n",
    "import numpy as np\n",
    "reload(utils)"
   ]
  },
  {
   "cell_type": "code",
   "execution_count": 156,
   "metadata": {
    "collapsed": false
   },
   "outputs": [
    {
     "name": "stdout",
     "output_type": "stream",
     "text": [
      "env: data=/mnt/t3nfs01/data01/shome/micheli/HHbbgg_ETH/root_files/20170526\n",
      "using background file n.0: /mnt/t3nfs01/data01/shome/micheli/HHbbgg_ETH/root_files/20170526/output_DiPhotonJetsBox_MGG-80toInf_13TeV-Sherpa.root\n",
      "using background file n.1: /mnt/t3nfs01/data01/shome/micheli/HHbbgg_ETH/root_files/20170526/output_GJet_Pt-20to40_DoubleEMEnriched_MGG-80toInf_TuneCUETP8M1_13TeV_Pythia8.root\n",
      "using background file n.2: /mnt/t3nfs01/data01/shome/micheli/HHbbgg_ETH/root_files/20170526/output_GJet_Pt-40toInf_DoubleEMEnriched_MGG-80toInf_TuneCUETP8M1_13TeV_Pythia8.root\n",
      "using signal file n.0: /mnt/t3nfs01/data01/shome/micheli/HHbbgg_ETH/root_files/20170526/output_GluGluToHHTo2B2G_node_SM_13TeV-madgraph.root\n"
     ]
    }
   ],
   "source": [
    "ntuples = '20170526'\n",
    "# \"%\" sign allows to interpret the rest as a system command\n",
    "%env data=$utils.IO.ldata$ntuples\n",
    "files = ! ls $data | sort -t_ -k 3 -n\n",
    "#pick only SM\n",
    "signal = [s for s in files if \"GluGluToHHTo2B2G_node_SM\" in s]\n",
    "diphotonJets = [s for s in files if \"DiPhotonJets\" in s]\n",
    "gJets_lowPt = [s for s in files if \"GJet_Pt-20to40\" in s]\n",
    "gJets_highPt = [s for s in files if \"GJet_Pt-40\" in s]\n",
    "\n",
    "utils.IO.add_signal(ntuples,signal,1)\n",
    "utils.IO.add_background(ntuples,diphotonJets,-1)\n",
    "utils.IO.add_background(ntuples,gJets_lowPt,-2)\n",
    "utils.IO.add_background(ntuples,gJets_highPt,-2)\n",
    "\n",
    "for i in range(len(utils.IO.backgroundName)):        \n",
    "    print \"using background file n.\"+str(i)+\": \"+utils.IO.backgroundName[i]\n",
    "for i in range(len(utils.IO.signalName)):    \n",
    "    print \"using signal file n.\"+str(i)+\": \"+utils.IO.signalName[i]"
   ]
  },
  {
   "cell_type": "code",
   "execution_count": 157,
   "metadata": {
    "collapsed": false
   },
   "outputs": [
    {
     "name": "stdout",
     "output_type": "stream",
     "text": [
      "['leadingJet_bDis', 'subleadingJet_bDis', 'noexpand:fabs(CosThetaStar_CS)', 'noexpand:fabs(CosTheta_bb)', 'noexpand:fabs(CosTheta_gg)', 'noexpand:diphotonCandidate.Pt()/diHiggsCandidate.M()', 'noexpand:dijetCandidate.Pt()/diHiggsCandidate.M()', 'customLeadingPhotonIDMVA', 'customSubLeadingPhotonIDMVA', 'leadingPhotonSigOverE', 'subleadingPhotonSigOverE', 'sigmaMOverMDecorr', 'DiJetDiPho_DR']\n"
     ]
    }
   ],
   "source": [
    "#use noexpand for root expressions, it needs this file https://github.com/ibab/root_pandas/blob/master/root_pandas/readwrite.py\n",
    "branch_names = 'leadingJet_bDis,subleadingJet_bDis,noexpand:fabs(CosThetaStar_CS),noexpand:fabs(CosTheta_bb),noexpand:fabs(CosTheta_gg),noexpand:diphotonCandidate.Pt()/diHiggsCandidate.M(),noexpand:dijetCandidate.Pt()/diHiggsCandidate.M(),customLeadingPhotonIDMVA,customSubLeadingPhotonIDMVA,leadingPhotonSigOverE,subleadingPhotonSigOverE,sigmaMOverMDecorr,DiJetDiPho_DR'.split(\",\")\n",
    "#branch_names = 'leadingJet_bDis,subleadingJet_bDis,noexpand:fabs(CosThetaStar_CS),noexpand:fabs(CosTheta_bb),noexpand:fabs(CosTheta_gg),noexpand:diphotonCandidate.Pt()/diHiggsCandidate.M(),noexpand:dijetCandidate.Pt()/diHiggsCandidate.M()'.split(\",\")\n",
    "branch_names = [c.strip() for c in branch_names]\n",
    "#branch_names = (b.replace(\" \", \"_\") for b in branch_names)\n",
    "#branch_names = list(b.replace(\"-\", \"_\") for b in branch_names)\n",
    "print branch_names\n",
    "\n",
    "import pandas as pd\n",
    "import root_pandas as rpd\n",
    "\n",
    "#utils.IO.get_cross_sections('jsons/datasets80X_Moriond.json')\n",
    "#utils.IO.w_sig.append(utils.IO.get_weight('signal','nrSM',0))\n",
    "#utils.IO.w_bkg(utils.IO.get_weight('background','DiPhoJets',0))\n",
    "#utils.IO.w_bkg(utils.IO.get_weight('background','GJets',0))\n",
    "#utils.IO.w_bkg(utils.IO.get_weight('background','GJets',1))\n",
    "\n",
    "\n",
    "utils.preprocessing.set_signals_and_backgrounds(\"bbggSelectionTree\",branch_names)\n",
    "X_bkg,y_bkg,weights_bkg,X_sig,y_sig,weights_sig=utils.preprocessing.set_variables(branch_names)\n",
    "\n",
    "#relative weighting between components of one class is kept, all classes normalized to the same\n",
    "#weights_sig=utils.preprocessing.weight_signal_with_resolution(weights_sig,y_sig)\n",
    "weights_sig=utils.preprocessing.weight_signal_with_resolution(weights_sig,y_sig)\n",
    "weights_bkg,weights_sig=utils.preprocessing.normalize_process_weights(weights_bkg,y_bkg,weights_sig,y_sig)\n",
    "\n",
    "X_bkg,y_bkg,weights_bkg = utils.preprocessing.randomize(X_bkg,y_bkg,weights_bkg)\n",
    "X_sig,y_sig,weights_sig = utils.preprocessing.randomize(X_sig,y_sig,weights_sig)\n",
    "\n",
    "\n",
    "#bbggTrees have by default signal and CR events, let's be sure that we clean it\n",
    "X_bkg,y_bkg,weights_bkg,X_sig,y_sig,weights_sig=utils.preprocessing.clean_signal_events(X_bkg,y_bkg,weights_bkg,X_sig,y_sig,weights_sig)\n",
    "\n",
    "\n",
    "y_total_train = utils.preprocessing.get_total_training_sample(y_sig,y_bkg).ravel()\n",
    "X_total_train = utils.preprocessing.get_total_training_sample(X_sig,X_bkg)\n",
    "\n",
    "y_total_test = utils.preprocessing.get_total_test_sample(y_sig,y_bkg).ravel()\n",
    "X_total_test = utils.preprocessing.get_total_test_sample(X_sig,X_bkg)\n",
    "\n",
    "w_total_train = utils.preprocessing.get_total_training_sample(weights_sig,weights_bkg).ravel()\n",
    "w_total_test = utils.preprocessing.get_total_test_sample(weights_sig,weights_bkg).ravel()"
   ]
  },
  {
   "cell_type": "code",
   "execution_count": 158,
   "metadata": {
    "collapsed": false
   },
   "outputs": [
    {
     "name": "stdout",
     "output_type": "stream",
     "text": [
      "[ 0.74479473  0.97259969  0.97982156 ...,  0.51738125  0.81597596\n",
      "  0.96916246]\n",
      "[ 0.05651718  0.01718831  0.05110878 ...,  0.6482774   0.14661327\n",
      "  0.01085341]\n"
     ]
    }
   ],
   "source": [
    "# load the model from disk\n",
    "from sklearn.externals import joblib\n",
    "loaded_model = joblib.load(os.path.expanduser('~/HHbbgg_ETH/Training/output_files/allMC_resWeighting.pkl'))\n",
    "sig = np.concatenate((X_total_train[y_total_train > 0],X_total_test[y_total_test > 0]))\n",
    "bkg = np.concatenate((X_total_train[y_total_train < 0],X_total_test[y_total_test < 0]))\n",
    "\n",
    "\n",
    "Y_pred_sig = loaded_model.predict_proba(sig)[:,2]\n",
    "Y_pred_bkg = loaded_model.predict_proba(bkg)[:,2]\n",
    "print Y_pred_sig\n",
    "print Y_pred_bkg\n",
    "\n",
    "additionalCut_names = 'noexpand:diphotonCandidate.M(),noexpand:dijetCandidate.M()'.split(\",\")\n",
    "sig_count_df = rpd.read_root(utils.IO.signalName[0],\"bbggSelectionTree\", columns = additionalCut_names)\n",
    "utils.preprocessing.define_process_weight(sig_count_df,utils.IO.sigProc[0],utils.IO.signalName[0])"
   ]
  },
  {
   "cell_type": "code",
   "execution_count": 163,
   "metadata": {
    "collapsed": false
   },
   "outputs": [
    {
     "name": "stdout",
     "output_type": "stream",
     "text": [
      "(21184, 2)\n",
      "(18646, 2)\n",
      "(16963, 2)\n",
      "(13012, 2)\n",
      "[ 0.0007174  0.0007174  0.0007174 ...,  0.0007174  0.0007174  0.0007174]\n",
      "signal events with 36 fb-1: 9.3348088\n"
     ]
    }
   ],
   "source": [
    "#print utils.IO.signal_df[0]['proc']\n",
    "#print utils.IO.signal_df[0].index\n",
    "M_sig = np.asarray(sig_count_df['diphotonCandidate.M()'][utils.IO.signal_df[0].index])\n",
    "W_sig = np.asarray(sig_count_df['weight'][utils.IO.signal_df[0].index])\n",
    "nTot = np.column_stack((M_sig,W_sig))\n",
    "print nTot.shape\n",
    "#apply isSignal cleaning\n",
    "nCleaned = nTot[np.where(nTot[:,1]!=0),:][0]\n",
    "print nCleaned.shape\n",
    "#apply MVA cut at 90% eff\n",
    "nCleaned_MVA = nCleaned[np.where(Y_pred_sig>0.40)]\n",
    "print nCleaned_MVA.shape\n",
    "#apply massWindow +- 1.5\n",
    "nCleaned_massWindowDown = nCleaned_MVA[np.where(nCleaned_MVA[:,0]>123.5)]\n",
    "nCleaned_massWindow = nCleaned_massWindowDown[np.where(nCleaned_massWindowDown[:,0]<126.5)]\n",
    "print nCleaned_massWindow.shape\n",
    "print nCleaned_massWindow[:,1]\n",
    "nEvts = sum(nCleaned_massWindow[:,1])\n",
    "print \"signal events with 36 fb-1: \"+str(nEvts)"
   ]
  },
  {
   "cell_type": "code",
   "execution_count": null,
   "metadata": {
    "collapsed": true
   },
   "outputs": [],
   "source": []
  }
 ],
 "metadata": {
  "anaconda-cloud": {},
  "kernelspec": {
   "display_name": "Python [conda root]",
   "language": "python",
   "name": "conda-root-py"
  },
  "language_info": {
   "codemirror_mode": {
    "name": "ipython",
    "version": 2
   },
   "file_extension": ".py",
   "mimetype": "text/x-python",
   "name": "python",
   "nbconvert_exporter": "python",
   "pygments_lexer": "ipython2",
   "version": "2.7.12"
  }
 },
 "nbformat": 4,
 "nbformat_minor": 1
}
