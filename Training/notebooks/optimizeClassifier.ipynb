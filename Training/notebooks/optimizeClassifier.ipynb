{
 "cells": [
  {
   "cell_type": "code",
   "execution_count": 2,
   "metadata": {
    "collapsed": false
   },
   "outputs": [
    {
     "data": {
      "application/javascript": [
       "require(['codemirror/mode/clike/clike'], function(Clike) { console.log('ROOTaaS - C++ CodeMirror module loaded'); });"
      ]
     },
     "metadata": {},
     "output_type": "display_data"
    },
    {
     "data": {
      "application/javascript": [
       "IPython.CodeCell.config_defaults.highlight_modes['magic_text/x-c++src'] = {'reg':[/^%%cpp/]};"
      ]
     },
     "metadata": {},
     "output_type": "display_data"
    },
    {
     "name": "stdout",
     "output_type": "stream",
     "text": [
      "Welcome to ROOTaaS 6.05/02\n"
     ]
    },
    {
     "data": {
      "text/plain": [
       "<module 'training_utils' from '/mnt/t3nfs01/data01/shome/micheli/HHbbgg_ETH/Training/python/training_utils.pyc'>"
      ]
     },
     "execution_count": 2,
     "metadata": {},
     "output_type": "execute_result"
    }
   ],
   "source": [
    "import os\n",
    "import sys; sys.path.append(\"~/HHbbgg_ETH/Training/python\") # to load packages\n",
    "import training_utils as utils\n",
    "import numpy as np\n",
    "reload(utils)"
   ]
  },
  {
   "cell_type": "code",
   "execution_count": 3,
   "metadata": {
    "collapsed": false
   },
   "outputs": [
    {
     "name": "stdout",
     "output_type": "stream",
     "text": [
      "env: data=/mnt/t3nfs01/data01/shome/micheli/HHbbgg_ETH/root_files/20170526\n",
      "using background file n.0: /mnt/t3nfs01/data01/shome/micheli/HHbbgg_ETH/root_files/20170526/output_DiPhotonJetsBox_MGG-80toInf_13TeV-Sherpa.root\n",
      "using background file n.1: /mnt/t3nfs01/data01/shome/micheli/HHbbgg_ETH/root_files/20170526/output_GJet_Pt-20to40_DoubleEMEnriched_MGG-80toInf_TuneCUETP8M1_13TeV_Pythia8.root\n",
      "using background file n.2: /mnt/t3nfs01/data01/shome/micheli/HHbbgg_ETH/root_files/20170526/output_GJet_Pt-40toInf_DoubleEMEnriched_MGG-80toInf_TuneCUETP8M1_13TeV_Pythia8.root\n",
      "using signal file n.0: /mnt/t3nfs01/data01/shome/micheli/HHbbgg_ETH/root_files/20170526/AllNonResSig_20170526.root\n"
     ]
    }
   ],
   "source": [
    "ntuples = '20170526'\n",
    "# \"%\" sign allows to interpret the rest as a system command\n",
    "%env data=$utils.IO.ldata$ntuples\n",
    "files = ! ls $data | sort -t_ -k 3 -n\n",
    "signal = [s for s in files if \"NonRes\" in s]\n",
    "diphotonJets = [s for s in files if \"DiPhotonJets\" in s]\n",
    "gJets_lowPt = [s for s in files if \"GJet_Pt-20to40\" in s]\n",
    "gJets_highPt = [s for s in files if \"GJet_Pt-40\" in s]\n",
    "\n",
    "utils.IO.add_signal(ntuples,signal,1)\n",
    "utils.IO.add_background(ntuples,diphotonJets,-1)\n",
    "utils.IO.add_background(ntuples,gJets_lowPt,-1)\n",
    "utils.IO.add_background(ntuples,gJets_highPt,-1)\n",
    "\n",
    "for i in range(len(utils.IO.backgroundName)):        \n",
    "    print \"using background file n.\"+str(i)+\": \"+utils.IO.backgroundName[i]\n",
    "for i in range(len(utils.IO.signalName)):    \n",
    "    print \"using signal file n.\"+str(i)+\": \"+utils.IO.signalName[i]"
   ]
  },
  {
   "cell_type": "code",
   "execution_count": 4,
   "metadata": {
    "collapsed": false
   },
   "outputs": [
    {
     "name": "stdout",
     "output_type": "stream",
     "text": [
      "['leadingJet_bDis', 'subleadingJet_bDis', 'noexpand:fabs(CosThetaStar_CS)', 'noexpand:fabs(CosTheta_bb)', 'noexpand:fabs(CosTheta_gg)', 'noexpand:diphotonCandidate.Pt()/diHiggsCandidate.M()', 'noexpand:dijetCandidate.Pt()/diHiggsCandidate.M()', 'customLeadingPhotonIDMVA', 'customSubLeadingPhotonIDMVA', 'leadingPhotonSigOverE', 'subleadingPhotonSigOverE', 'sigmaMOverMDecorr', 'DiJetDiPho_DR']\n",
      "in shuffle\n",
      "(2254174, 13)\n",
      "(2254174, 1)\n",
      "(1922962, 13)\n",
      "(1922962, 1)\n"
     ]
    }
   ],
   "source": [
    "#use noexpand for root expressions, it needs this file https://github.com/ibab/root_pandas/blob/master/root_pandas/readwrite.py\n",
    "branch_names = 'leadingJet_bDis,subleadingJet_bDis,noexpand:fabs(CosThetaStar_CS),noexpand:fabs(CosTheta_bb),noexpand:fabs(CosTheta_gg),noexpand:diphotonCandidate.Pt()/diHiggsCandidate.M(),noexpand:dijetCandidate.Pt()/diHiggsCandidate.M(),customLeadingPhotonIDMVA,customSubLeadingPhotonIDMVA,leadingPhotonSigOverE,subleadingPhotonSigOverE,sigmaMOverMDecorr,DiJetDiPho_DR'.split(\",\")\n",
    "#branch_names = 'leadingJet_bDis,subleadingJet_bDis,noexpand:fabs(CosThetaStar_CS),noexpand:fabs(CosTheta_bb),noexpand:fabs(CosTheta_gg),noexpand:diphotonCandidate.Pt()/diHiggsCandidate.M(),noexpand:dijetCandidate.Pt()/diHiggsCandidate.M()'.split(\",\")\n",
    "branch_names = [c.strip() for c in branch_names]\n",
    "#branch_names = (b.replace(\" \", \"_\") for b in branch_names)\n",
    "#branch_names = list(b.replace(\"-\", \"_\") for b in branch_names)\n",
    "print branch_names\n",
    "\n",
    "import pandas as pd\n",
    "import root_pandas as rpd\n",
    "\n",
    "#utils.IO.get_cross_sections('jsons/datasets80X_Moriond.json')\n",
    "#utils.IO.w_sig.append(utils.IO.get_weight('signal','nrSM',0))\n",
    "#utils.IO.w_bkg(utils.IO.get_weight('background','DiPhoJets',0))\n",
    "#utils.IO.w_bkg(utils.IO.get_weight('background','GJets',0))\n",
    "#utils.IO.w_bkg(utils.IO.get_weight('background','GJets',1))\n",
    "\n",
    "\n",
    "utils.preprocessing.set_signals_and_backgrounds(\"bbggSelectionTree\",branch_names)\n",
    "X_bkg,y_bkg,weights_bkg,X_sig,y_sig,weights_sig=utils.preprocessing.set_variables(branch_names)\n",
    "\n",
    "#relative weighting between components of one class is kept, all classes normalized to the same\n",
    "#weights_sig=utils.preprocessing.weight_signal_with_resolution(weights_sig,y_sig)\n",
    "weights_sig=utils.preprocessing.weight_signal_with_resolution(weights_sig,y_sig)\n",
    "weights_bkg,weights_sig=utils.preprocessing.normalize_process_weights(weights_bkg,y_bkg,weights_sig,y_sig)\n",
    "\n",
    "X_bkg,y_bkg,weights_bkg = utils.preprocessing.randomize(X_bkg,y_bkg,weights_bkg)\n",
    "X_sig,y_sig,weights_sig = utils.preprocessing.randomize(X_sig,y_sig,weights_sig)\n",
    "\n",
    "print X_bkg.shape\n",
    "print y_bkg.shape\n",
    "#bbggTrees have by default signal and CR events, let's be sure that we clean it\n",
    "X_bkg,y_bkg,weights_bkg,X_sig,y_sig,weights_sig=utils.preprocessing.clean_signal_events(X_bkg,y_bkg,weights_bkg,X_sig,y_sig,weights_sig)\n",
    "print X_bkg.shape\n",
    "print y_bkg.shape\n",
    "\n",
    "y_total_train = utils.preprocessing.get_total_training_sample(y_sig,y_bkg).ravel()\n",
    "X_total_train = utils.preprocessing.get_total_training_sample(X_sig,X_bkg)\n",
    "\n",
    "y_total_test = utils.preprocessing.get_total_test_sample(y_sig,y_bkg).ravel()\n",
    "X_total_test = utils.preprocessing.get_total_test_sample(X_sig,X_bkg)\n",
    "\n",
    "w_total_train = utils.preprocessing.get_total_training_sample(weights_sig,weights_bkg).ravel()\n",
    "w_total_test = utils.preprocessing.get_total_test_sample(weights_sig,weights_bkg).ravel()"
   ]
  },
  {
   "cell_type": "code",
   "execution_count": 5,
   "metadata": {
    "collapsed": false
   },
   "outputs": [],
   "source": [
    "import xgboost as xgb\n",
    "clf = xgb.XGBClassifier(max_depth=5,learning_rate=0.1,n_estimators=50, min_child_weight=1e-5, nthread= 12)"
   ]
  },
  {
   "cell_type": "code",
   "execution_count": 6,
   "metadata": {
    "collapsed": false
   },
   "outputs": [
    {
     "name": "stdout",
     "output_type": "stream",
     "text": [
      "=====Optimization with randomized search cv=====\n",
      "-Initial Accuracy-\n",
      "Accuracy: 0.95357 (+/- 0.00067)\n",
      "Fitting 5 folds for each of 10 candidates, totalling 50 fits\n"
     ]
    },
    {
     "name": "stderr",
     "output_type": "stream",
     "text": [
      "/mnt/t3nfs01/data01/shome/micheli/HHbbgg_ETH/Training/python/training_utils.py:642: FutureWarning: comparison to `None` will result in an elementwise object comparison in the future.\n",
      "  if weights == None:\n",
      "[Parallel(n_jobs=10)]: Done  30 tasks      | elapsed: 24.1min\n",
      "[Parallel(n_jobs=10)]: Done  50 out of  50 | elapsed: 34.5min finished\n"
     ]
    },
    {
     "name": "stdout",
     "output_type": "stream",
     "text": [
      "Best parameter set found on development set:\n",
      "\n",
      "XGBClassifier(base_score=0.5, colsample_bylevel=1, colsample_bytree=1,\n",
      "       gamma=0, learning_rate=0.1, max_delta_step=0, max_depth=5,\n",
      "       min_child_weight=1e-05, missing=None, n_estimators=1500, nthread=12,\n",
      "       objective='binary:logistic', reg_alpha=0, reg_lambda=0.1,\n",
      "       scale_pos_weight=1, seed=0, silent=True, subsample=1)\n",
      "\n",
      "Grid scores on a subset of the development set:\n",
      "\n",
      "0.9532 (+/-0.0007) for {'n_estimators': 1000, 'reg_lambda': 0.1, 'max_depth': 3}\n",
      "0.9463 (+/-0.0006) for {'n_estimators': 1000, 'reg_lambda': 1, 'max_depth': 3}\n",
      "0.9536 (+/-0.0007) for {'n_estimators': 1500, 'reg_lambda': 0.1, 'max_depth': 3}\n",
      "0.9543 (+/-0.0007) for {'n_estimators': 1500, 'reg_lambda': 0.1, 'max_depth': 5}\n",
      "0.9535 (+/-0.0008) for {'n_estimators': 1000, 'reg_lambda': 0.1, 'max_depth': 4}\n",
      "0.9490 (+/-0.0008) for {'n_estimators': 1500, 'reg_lambda': 1, 'max_depth': 5}\n",
      "0.9541 (+/-0.0007) for {'n_estimators': 1500, 'reg_lambda': 0.1, 'max_depth': 4}\n",
      "0.9490 (+/-0.0008) for {'n_estimators': 1500, 'reg_lambda': 1, 'max_depth': 4}\n",
      "0.9537 (+/-0.0007) for {'n_estimators': 1000, 'reg_lambda': 0.1, 'max_depth': 5}\n",
      "0.9465 (+/-0.0007) for {'n_estimators': 1000, 'reg_lambda': 1, 'max_depth': 5}\n"
     ]
    },
    {
     "name": "stderr",
     "output_type": "stream",
     "text": [
      "/swshare/anaconda/lib/python2.7/site-packages/sklearn/model_selection/_search.py:662: DeprecationWarning: The grid_scores_ attribute was deprecated in version 0.18 in favor of the more elaborate cv_results_ attribute. The grid_scores_ attribute will not be available from 0.20\n",
      "  DeprecationWarning)\n",
      "/swshare/anaconda/lib/python2.7/site-packages/sklearn/model_selection/_search.py:662: DeprecationWarning: The grid_scores_ attribute was deprecated in version 0.18 in favor of the more elaborate cv_results_ attribute. The grid_scores_ attribute will not be available from 0.20\n",
      "  DeprecationWarning)\n"
     ]
    },
    {
     "data": {
      "text/plain": [
       "[mean: 0.95318, std: 0.00071, params: {'n_estimators': 1000, 'reg_lambda': 0.1, 'max_depth': 3},\n",
       " mean: 0.94635, std: 0.00065, params: {'n_estimators': 1000, 'reg_lambda': 1, 'max_depth': 3},\n",
       " mean: 0.95360, std: 0.00067, params: {'n_estimators': 1500, 'reg_lambda': 0.1, 'max_depth': 3},\n",
       " mean: 0.95428, std: 0.00069, params: {'n_estimators': 1500, 'reg_lambda': 0.1, 'max_depth': 5},\n",
       " mean: 0.95352, std: 0.00076, params: {'n_estimators': 1000, 'reg_lambda': 0.1, 'max_depth': 4},\n",
       " mean: 0.94903, std: 0.00076, params: {'n_estimators': 1500, 'reg_lambda': 1, 'max_depth': 5},\n",
       " mean: 0.95405, std: 0.00070, params: {'n_estimators': 1500, 'reg_lambda': 0.1, 'max_depth': 4},\n",
       " mean: 0.94902, std: 0.00075, params: {'n_estimators': 1500, 'reg_lambda': 1, 'max_depth': 4},\n",
       " mean: 0.95373, std: 0.00073, params: {'n_estimators': 1000, 'reg_lambda': 0.1, 'max_depth': 5},\n",
       " mean: 0.94647, std: 0.00065, params: {'n_estimators': 1000, 'reg_lambda': 1, 'max_depth': 5}]"
      ]
     },
     "execution_count": 6,
     "metadata": {},
     "output_type": "execute_result"
    }
   ],
   "source": [
    "reload(utils)\n",
    "param_grid = {\"n_estimators\": [1000,1500],\n",
    "              \"max_depth\": [3,4,5],                                                                                                                                                                                                \n",
    "              'reg_lambda':[0.1, 1]\n",
    "              }\n",
    "#utils.optimization.optimize_parameters_randomizedCV(clf,X_total_train,y_total_train,param_grid,cvOpt=5,nIter=500,weights=w_total_train)\n",
    "utils.optimization.optimize_parameters_randomizedCV(clf,X_total_train,y_total_train,param_grid,cvOpt=5,weights=w_total_train)"
   ]
  },
  {
   "cell_type": "code",
   "execution_count": null,
   "metadata": {
    "collapsed": true
   },
   "outputs": [],
   "source": [
    " "
   ]
  }
 ],
 "metadata": {
  "anaconda-cloud": {},
  "kernelspec": {
   "display_name": "Python [conda root]",
   "language": "python",
   "name": "conda-root-py"
  },
  "language_info": {
   "codemirror_mode": {
    "name": "ipython",
    "version": 2
   },
   "file_extension": ".py",
   "mimetype": "text/x-python",
   "name": "python",
   "nbconvert_exporter": "python",
   "pygments_lexer": "ipython2",
   "version": "2.7.12"
  }
 },
 "nbformat": 4,
 "nbformat_minor": 1
}
